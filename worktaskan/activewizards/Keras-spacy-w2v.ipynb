{
 "cells": [
  {
   "cell_type": "markdown",
   "metadata": {
    "toc": true
   },
   "source": [
    "<h1>Content<span class=\"tocSkip\"></span></h1>\n",
    "<div class=\"toc\"><ul class=\"toc-item\"><li><span><a href=\"#Load\" data-toc-modified-id=\"Load-1\"><span class=\"toc-item-num\">1&nbsp;&nbsp;</span>Load</a></span></li><li><span><a href=\"#Clearing\" data-toc-modified-id=\"Clearing-2\"><span class=\"toc-item-num\">2&nbsp;&nbsp;</span>Clearing</a></span></li><li><span><a href=\"#Vectorizing\" data-toc-modified-id=\"Vectorizing-3\"><span class=\"toc-item-num\">3&nbsp;&nbsp;</span>Vectorizing</a></span></li><li><span><a href=\"#Build-model\" data-toc-modified-id=\"Build-model-4\"><span class=\"toc-item-num\">4&nbsp;&nbsp;</span>Build model</a></span><ul class=\"toc-item\"><li><span><a href=\"#Scores\" data-toc-modified-id=\"Scores-4.1\"><span class=\"toc-item-num\">4.1&nbsp;&nbsp;</span>Scores</a></span></li><li><span><a href=\"#Models\" data-toc-modified-id=\"Models-4.2\"><span class=\"toc-item-num\">4.2&nbsp;&nbsp;</span>Models</a></span></li></ul></li><li><span><a href=\"#Training\" data-toc-modified-id=\"Training-5\"><span class=\"toc-item-num\">5&nbsp;&nbsp;</span>Training</a></span><ul class=\"toc-item\"><li><span><a href=\"#Spacy-part\" data-toc-modified-id=\"Spacy-part-5.1\"><span class=\"toc-item-num\">5.1&nbsp;&nbsp;</span>Spacy part</a></span><ul class=\"toc-item\"><li><span><a href=\"#Test\" data-toc-modified-id=\"Test-5.1.1\"><span class=\"toc-item-num\">5.1.1&nbsp;&nbsp;</span>Test</a></span></li></ul></li><li><span><a href=\"#Wor2vec-part\" data-toc-modified-id=\"Wor2vec-part-5.2\"><span class=\"toc-item-num\">5.2&nbsp;&nbsp;</span>Wor2vec part</a></span><ul class=\"toc-item\"><li><span><a href=\"#Test\" data-toc-modified-id=\"Test-5.2.1\"><span class=\"toc-item-num\">5.2.1&nbsp;&nbsp;</span>Test</a></span></li></ul></li><li><span><a href=\"#Without-preprocessing\" data-toc-modified-id=\"Without-preprocessing-5.3\"><span class=\"toc-item-num\">5.3&nbsp;&nbsp;</span>Without preprocessing</a></span><ul class=\"toc-item\"><li><span><a href=\"#Spacy\" data-toc-modified-id=\"Spacy-5.3.1\"><span class=\"toc-item-num\">5.3.1&nbsp;&nbsp;</span>Spacy</a></span></li><li><span><a href=\"#w2vec\" data-toc-modified-id=\"w2vec-5.3.2\"><span class=\"toc-item-num\">5.3.2&nbsp;&nbsp;</span>w2vec</a></span></li></ul></li><li><span><a href=\"#Results\" data-toc-modified-id=\"Results-5.4\"><span class=\"toc-item-num\">5.4&nbsp;&nbsp;</span>Results</a></span></li></ul></li><li><span><a href=\"#Conclusion\" data-toc-modified-id=\"Conclusion-6\"><span class=\"toc-item-num\">6&nbsp;&nbsp;</span>Conclusion</a></span></li></ul></div>"
   ]
  },
  {
   "cell_type": "markdown",
   "metadata": {
    "heading_collapsed": true
   },
   "source": [
    "### Load"
   ]
  },
  {
   "cell_type": "code",
   "execution_count": 1,
   "metadata": {
    "ExecuteTime": {
     "end_time": "2018-04-28T16:44:00.641145Z",
     "start_time": "2018-04-28T16:44:00.115885Z"
    },
    "hidden": true
   },
   "outputs": [],
   "source": [
    "import pandas as pd, numpy as np\n",
    "import spacy, string\n",
    "from time import time"
   ]
  },
  {
   "cell_type": "code",
   "execution_count": 2,
   "metadata": {
    "ExecuteTime": {
     "end_time": "2018-04-28T16:44:00.735676Z",
     "start_time": "2018-04-28T16:44:00.642645Z"
    },
    "hidden": true
   },
   "outputs": [],
   "source": [
    "train = pd.read_csv('data/train.csv', index_col='time')\n",
    "test = pd.read_csv('data/test.csv', index_col='time')"
   ]
  },
  {
   "cell_type": "code",
   "execution_count": 3,
   "metadata": {
    "ExecuteTime": {
     "end_time": "2018-04-28T16:44:00.741074Z",
     "start_time": "2018-04-28T16:44:00.737466Z"
    },
    "hidden": true
   },
   "outputs": [],
   "source": [
    "X_train, y_train, X_valid, y_valid = train[[col for col in train.columns if col!='severity']], train['severity'],\\\n",
    "                                     test[[col for col in train.columns if col!='severity']], test['severity']"
   ]
  },
  {
   "cell_type": "markdown",
   "metadata": {
    "heading_collapsed": true
   },
   "source": [
    "### Clearing"
   ]
  },
  {
   "cell_type": "code",
   "execution_count": 4,
   "metadata": {
    "ExecuteTime": {
     "end_time": "2018-04-28T16:44:01.788051Z",
     "start_time": "2018-04-28T16:44:00.742354Z"
    },
    "hidden": true
   },
   "outputs": [],
   "source": [
    "from nltk.corpus import stopwords\n",
    "\n",
    "stopwords = stopwords.words('english')\n",
    "\n",
    "nlp = spacy.load('en_core_web_sm')"
   ]
  },
  {
   "cell_type": "code",
   "execution_count": 5,
   "metadata": {
    "ExecuteTime": {
     "end_time": "2018-04-28T16:44:01.792951Z",
     "start_time": "2018-04-28T16:44:01.789609Z"
    },
    "hidden": true
   },
   "outputs": [],
   "source": [
    "# Clean text before feeding it to spaCy\n",
    "punctuations = string.punctuation\n",
    "\n",
    "# Define function to cleanup text by removing personal pronouns, stopwords, and puncuation\n",
    "def cleanup_text(docs, logging=False):\n",
    "    texts = []\n",
    "    counter = 1\n",
    "    for doc in docs:\n",
    "        if counter % 1000 == 0 and logging:\n",
    "            print(\"Processed %d out of %d documents.\" % (counter, len(docs)))\n",
    "        counter += 1\n",
    "        doc = nlp(doc, disable=['parser', 'ner'])\n",
    "        tokens = [tok.lemma_.lower().strip() for tok in doc if tok.lemma_ != '-PRON-']\n",
    "        tokens = [tok for tok in tokens if tok not in stopwords and tok not in punctuations]\n",
    "        tokens = ' '.join(tokens)\n",
    "        texts.append(tokens)\n",
    "    return pd.Series(texts)"
   ]
  },
  {
   "cell_type": "code",
   "execution_count": 6,
   "metadata": {
    "ExecuteTime": {
     "end_time": "2018-04-28T16:44:53.251615Z",
     "start_time": "2018-04-28T16:44:01.794212Z"
    },
    "hidden": true
   },
   "outputs": [
    {
     "name": "stdout",
     "output_type": "stream",
     "text": [
      "Processed 1000 out of 10364 documents.\n",
      "Processed 2000 out of 10364 documents.\n",
      "Processed 3000 out of 10364 documents.\n",
      "Processed 4000 out of 10364 documents.\n",
      "Processed 5000 out of 10364 documents.\n",
      "Processed 6000 out of 10364 documents.\n",
      "Processed 7000 out of 10364 documents.\n",
      "Processed 8000 out of 10364 documents.\n",
      "Processed 9000 out of 10364 documents.\n",
      "Processed 10000 out of 10364 documents.\n"
     ]
    }
   ],
   "source": [
    "train_cleaned = cleanup_text(X_train['message_encoding'], logging=True)\n",
    "valid_cleaned = cleanup_text(X_valid['message_encoding'], logging=True)"
   ]
  },
  {
   "cell_type": "markdown",
   "metadata": {
    "heading_collapsed": true
   },
   "source": [
    "### Vectorizing"
   ]
  },
  {
   "cell_type": "code",
   "execution_count": 7,
   "metadata": {
    "ExecuteTime": {
     "end_time": "2018-04-28T16:44:53.255590Z",
     "start_time": "2018-04-28T16:44:53.252949Z"
    },
    "hidden": true
   },
   "outputs": [],
   "source": [
    "def get_vect(X_cleaned):\n",
    "    # Parse documents and print some info\n",
    "    print('Parsing documents...')\n",
    "    start = time()\n",
    "    train_vec = []\n",
    "    for doc in nlp.pipe(X_cleaned, batch_size=256):\n",
    "        if doc.has_vector:\n",
    "            train_vec.append(doc.vector)\n",
    "            # If doc doesn't have a vector, then fill it with zeros.\n",
    "        else:\n",
    "            train_vec.append(np.zeros((128,), dtype=\"float32\"))\n",
    "        \n",
    "    # train_vec = [doc.vector for doc in nlp.pipe(train_cleaned, batch_size=500)]\n",
    "    train_vec = np.array(train_vec)\n",
    "\n",
    "    end = time()\n",
    "    print('Total time passed parsing documents: {} seconds'.format(end - start))\n",
    "    print('Total number of documents parsed: {}'.format(len(train_vec)))\n",
    "    print('Size of vector embeddings: ', train_vec.shape[1])\n",
    "    print('Shape of vectors embeddings matrix: ', train_vec.shape)\n",
    "    return train_vec"
   ]
  },
  {
   "cell_type": "code",
   "execution_count": 8,
   "metadata": {
    "ExecuteTime": {
     "end_time": "2018-04-28T16:46:17.050038Z",
     "start_time": "2018-04-28T16:44:53.256913Z"
    },
    "hidden": true
   },
   "outputs": [
    {
     "name": "stdout",
     "output_type": "stream",
     "text": [
      "Parsing documents...\n",
      "Total time passed parsing documents: 76.28474140167236 seconds\n",
      "Total number of documents parsed: 10364\n",
      "Size of vector embeddings:  128\n",
      "Shape of vectors embeddings matrix:  (10364, 128)\n",
      "Parsing documents...\n",
      "Total time passed parsing documents: 7.493882656097412 seconds\n",
      "Total number of documents parsed: 922\n",
      "Size of vector embeddings:  128\n",
      "Shape of vectors embeddings matrix:  (922, 128)\n"
     ]
    }
   ],
   "source": [
    "train_vec = get_vect(train_cleaned)\n",
    "valid_vec = get_vect(valid_cleaned)"
   ]
  },
  {
   "cell_type": "markdown",
   "metadata": {},
   "source": [
    "### Build model"
   ]
  },
  {
   "cell_type": "code",
   "execution_count": 9,
   "metadata": {
    "ExecuteTime": {
     "end_time": "2018-04-28T16:46:18.281736Z",
     "start_time": "2018-04-28T16:46:17.051560Z"
    }
   },
   "outputs": [
    {
     "name": "stderr",
     "output_type": "stream",
     "text": [
      "/home/denis/anaconda3/lib/python3.6/site-packages/h5py/__init__.py:36: FutureWarning: Conversion of the second argument of issubdtype from `float` to `np.floating` is deprecated. In future, it will be treated as `np.float64 == np.dtype(float).type`.\n",
      "  from ._conv import register_converters as _register_converters\n",
      "Using TensorFlow backend.\n"
     ]
    }
   ],
   "source": [
    "from keras.models import Sequential, Model\n",
    "from keras.layers import Dense, Dropout, Input, LSTM, Embedding, Bidirectional, Flatten\n",
    "from keras.layers import Conv1D, MaxPooling1D, GlobalMaxPooling1D\n",
    "from keras.utils import to_categorical\n",
    "from keras import backend as K\n",
    "\n",
    "from keras.callbacks import EarlyStopping, ModelCheckpoint"
   ]
  },
  {
   "cell_type": "markdown",
   "metadata": {
    "heading_collapsed": true
   },
   "source": [
    "#### Scores"
   ]
  },
  {
   "cell_type": "code",
   "execution_count": 10,
   "metadata": {
    "ExecuteTime": {
     "end_time": "2018-04-28T16:46:18.288379Z",
     "start_time": "2018-04-28T16:46:18.283461Z"
    },
    "hidden": true
   },
   "outputs": [],
   "source": [
    "def precision(y_true, y_pred):\n",
    "    \"\"\"Precision metric.\n",
    "\n",
    "    Only computes a batch-wise average of precision.\n",
    "\n",
    "    Computes the precision, a metric for multi-label classification of\n",
    "    how many selected items are relevant.\n",
    "    \"\"\"\n",
    "    true_positives = K.sum(K.round(K.clip(y_true * y_pred, 0, 1)))\n",
    "    predicted_positives = K.sum(K.round(K.clip(y_pred, 0, 1)))\n",
    "    precision = true_positives / (predicted_positives + K.epsilon())\n",
    "    return precision\n",
    "\n",
    "def recall(y_true, y_pred):\n",
    "    \"\"\"Recall metric.\n",
    "\n",
    "    Only computes a batch-wise average of recall.\n",
    "\n",
    "    Computes the recall, a metric for multi-label classification of\n",
    "    how many relevant items are selected.\n",
    "    \"\"\"\n",
    "    true_positives = K.sum(K.round(K.clip(y_true * y_pred, 0, 1)))\n",
    "    possible_positives = K.sum(K.round(K.clip(y_true, 0, 1)))\n",
    "    recall = true_positives / (possible_positives + K.epsilon())\n",
    "    return recall\n",
    "\n",
    "def f1(y_true, y_pred):\n",
    "    def recall(y_true, y_pred):\n",
    "        \"\"\"Recall metric.\n",
    "\n",
    "        Only computes a batch-wise average of recall.\n",
    "\n",
    "        Computes the recall, a metric for multi-label classification of\n",
    "        how many relevant items are selected.\n",
    "        \"\"\"\n",
    "        true_positives = K.sum(K.round(K.clip(y_true * y_pred, 0, 1)))\n",
    "        possible_positives = K.sum(K.round(K.clip(y_true, 0, 1)))\n",
    "        recall = true_positives / (possible_positives + K.epsilon())\n",
    "        return recall\n",
    "\n",
    "    def precision(y_true, y_pred):\n",
    "        \"\"\"Precision metric.\n",
    "\n",
    "        Only computes a batch-wise average of precision.\n",
    "\n",
    "        Computes the precision, a metric for multi-label classification of\n",
    "        how many selected items are relevant.\n",
    "        \"\"\"\n",
    "        true_positives = K.sum(K.round(K.clip(y_true * y_pred, 0, 1)))\n",
    "        predicted_positives = K.sum(K.round(K.clip(y_pred, 0, 1)))\n",
    "        precision = true_positives / (predicted_positives + K.epsilon())\n",
    "        return precision\n",
    "    precision = precision(y_true, y_pred)\n",
    "    recall = recall(y_true, y_pred)\n",
    "    return 2*((precision*recall)/(precision+recall))"
   ]
  },
  {
   "cell_type": "markdown",
   "metadata": {},
   "source": [
    "####  Models"
   ]
  },
  {
   "cell_type": "code",
   "execution_count": 11,
   "metadata": {
    "ExecuteTime": {
     "end_time": "2018-04-28T16:46:18.305377Z",
     "start_time": "2018-04-28T16:46:18.290370Z"
    }
   },
   "outputs": [],
   "source": [
    "def build_model(architecture='mlp'):\n",
    "    model = Sequential()\n",
    "    if architecture == 'mlp':\n",
    "        # Densely Connected Neural Network (Multi-Layer Perceptron)\n",
    "        model.add(Dense(512, activation='relu', kernel_initializer='he_normal', input_dim=128))\n",
    "        model.add(Dropout(0.2))\n",
    "        model.add(Dense(512, activation='relu', kernel_initializer='he_normal'))\n",
    "        model.add(Dropout(0.2))\n",
    "        model.add(Dense(512, activation='relu', kernel_initializer='he_normal'))\n",
    "        model.add(Dropout(0.2))\n",
    "        model.add(Dense(512, activation='relu', kernel_initializer='he_normal'))\n",
    "        model.add(Dropout(0.2))\n",
    "        model.add(Dense(5, activation='softmax'))\n",
    "    elif architecture == 'cnn':\n",
    "        # 1-D Convolutional Neural Network\n",
    "        inputs = Input(shape=(128,1))\n",
    "\n",
    "        x = Conv1D(64, 3, strides=1, padding='same', activation='relu')(inputs)\n",
    "\n",
    "        #Cuts the size of the output in half, maxing over every 2 inputs\n",
    "        x = MaxPooling1D(pool_size=2)(x)\n",
    "        x = Conv1D(128, 3, strides=1, padding='same', activation='relu')(x)\n",
    "        x = GlobalMaxPooling1D()(x) \n",
    "        outputs = Dense(5, activation='softmax')(x)\n",
    "\n",
    "        model = Model(inputs=inputs, outputs=outputs, name='CNN')\n",
    "    elif architecture == 'lstm':\n",
    "        # LSTM network\n",
    "        inputs = Input(shape=(128,1))\n",
    "\n",
    "        x = Bidirectional(LSTM(64, return_sequences=True),\n",
    "                          merge_mode='concat')(inputs)\n",
    "        \n",
    "        x = Dropout(0.2)(x)\n",
    "        x = Flatten()(x)\n",
    "        outputs = Dense(5, activation='softmax')(x)\n",
    "\n",
    "        model = Model(inputs=inputs, outputs=outputs, name='LSTM')\n",
    "    else:\n",
    "        print('Error: Model type not found.')\n",
    "    \n",
    "    model.compile(optimizer='adadelta', \n",
    "                  loss='categorical_crossentropy', \n",
    "                  metrics=[precision, recall, f1])\n",
    "    \n",
    "    return model"
   ]
  },
  {
   "cell_type": "markdown",
   "metadata": {},
   "source": [
    "### Training"
   ]
  },
  {
   "cell_type": "code",
   "execution_count": 12,
   "metadata": {
    "ExecuteTime": {
     "end_time": "2018-04-28T16:46:18.319210Z",
     "start_time": "2018-04-28T16:46:18.306727Z"
    }
   },
   "outputs": [],
   "source": [
    "y_train_ohe = to_categorical(y_train)\n",
    "y_valid_ohe = to_categorical(y_valid)"
   ]
  },
  {
   "cell_type": "code",
   "execution_count": 13,
   "metadata": {
    "ExecuteTime": {
     "end_time": "2018-04-28T16:46:18.329779Z",
     "start_time": "2018-04-28T16:46:18.320502Z"
    }
   },
   "outputs": [],
   "source": [
    "def prepare_data(X_train, model):\n",
    "    if model.name == \"CNN\" or model.name == \"LSTM\":\n",
    "        X_train = np.expand_dims(X_train, axis=2)\n",
    "        print('Text train shape: ', X_train.shape)\n",
    "    return X_train"
   ]
  },
  {
   "cell_type": "code",
   "execution_count": 14,
   "metadata": {
    "ExecuteTime": {
     "end_time": "2018-04-28T16:46:18.343560Z",
     "start_time": "2018-04-28T16:46:18.331156Z"
    }
   },
   "outputs": [],
   "source": [
    "def train(X, y, batch_size = 64, epochs = 100, name='Test'):\n",
    "    models = [build_model(), build_model('cnn'), build_model('lstm')]\n",
    "    fited = []\n",
    "    \n",
    "    for ind, model in enumerate(models):\n",
    "        X_prep = prepare_data(X, model)\n",
    "        file_path= name + \"best_weights_%d.h5\" %ind\n",
    "        checkpoint = ModelCheckpoint(file_path, monitor='val_f1', \n",
    "                                     verbose=1, save_best_only=True, mode='max')\n",
    "        \n",
    "        early = EarlyStopping(monitor=\"val_f1\", mode=\"max\", patience=30)\n",
    "        \n",
    "        callbacks_list = [checkpoint, early]\n",
    "        model.fit(X_prep, y,\n",
    "                  validation_split=0.2,\n",
    "                  batch_size=batch_size, \n",
    "                  epochs=epochs, \n",
    "                  callbacks=callbacks_list)\n",
    "        model.load_weights(file_path)\n",
    "        fited.append(model)\n",
    "    return fited"
   ]
  },
  {
   "cell_type": "markdown",
   "metadata": {},
   "source": [
    "#### Spacy part"
   ]
  },
  {
   "cell_type": "code",
   "execution_count": null,
   "metadata": {
    "ExecuteTime": {
     "start_time": "2018-04-28T16:44:00.030Z"
    },
    "scrolled": true
   },
   "outputs": [
    {
     "name": "stdout",
     "output_type": "stream",
     "text": [
      "Train on 8291 samples, validate on 2073 samples\n",
      "Epoch 1/100\n",
      "8291/8291 [==============================] - 3s 324us/step - loss: 1.3836 - precision: 0.5156 - recall: 0.2955 - f1: nan - val_loss: 1.1815 - val_precision: 0.6827 - val_recall: 0.1013 - val_f1: nan\n",
      "\n",
      "Epoch 00001: val_f1 did not improve\n",
      "Epoch 2/100\n",
      "8291/8291 [==============================] - 0s 48us/step - loss: 1.2886 - precision: 0.5329 - recall: 0.2986 - f1: nan - val_loss: 1.2599 - val_precision: 0.2367 - val_recall: 0.0053 - val_f1: nan\n",
      "\n",
      "Epoch 00002: val_f1 did not improve\n",
      "Epoch 3/100\n",
      "8291/8291 [==============================] - 0s 48us/step - loss: 1.2764 - precision: 0.5693 - recall: 0.2965 - f1: nan - val_loss: 1.2223 - val_precision: 0.6080 - val_recall: 0.6078 - val_f1: 0.6079\n",
      "\n",
      "Epoch 00003: val_f1 improved from -inf to 0.60792, saving model to wieghts/spacy_best_weights_0.h5\n",
      "Epoch 4/100\n",
      "8291/8291 [==============================] - 0s 51us/step - loss: 1.2644 - precision: 0.5679 - recall: 0.3132 - f1: nan - val_loss: 1.1932 - val_precision: 0.7454 - val_recall: 0.0781 - val_f1: 0.1385\n",
      "\n",
      "Epoch 00004: val_f1 did not improve\n",
      "Epoch 5/100\n",
      "8291/8291 [==============================] - 0s 51us/step - loss: 1.2521 - precision: 0.5934 - recall: 0.3150 - f1: 0.3842 - val_loss: 1.1660 - val_precision: 0.6604 - val_recall: 0.1438 - val_f1: 0.2337\n",
      "\n",
      "Epoch 00005: val_f1 did not improve\n",
      "Epoch 6/100\n",
      "8291/8291 [==============================] - 0s 52us/step - loss: 1.2446 - precision: 0.5885 - recall: 0.3224 - f1: 0.3966 - val_loss: 1.2551 - val_precision: 0.5704 - val_recall: 0.0309 - val_f1: nan\n",
      "\n",
      "Epoch 00006: val_f1 did not improve\n",
      "Epoch 7/100\n",
      "8291/8291 [==============================] - 0s 54us/step - loss: 1.2292 - precision: 0.5963 - recall: 0.3282 - f1: 0.4015 - val_loss: 1.1452 - val_precision: 0.6639 - val_recall: 0.2002 - val_f1: 0.3029\n",
      "\n",
      "Epoch 00007: val_f1 did not improve\n",
      "Epoch 8/100\n",
      "8291/8291 [==============================] - 0s 50us/step - loss: 1.2240 - precision: 0.5967 - recall: 0.3429 - f1: 0.4203 - val_loss: 1.1406 - val_precision: 0.6516 - val_recall: 0.3594 - val_f1: 0.4613\n",
      "\n",
      "Epoch 00008: val_f1 did not improve\n",
      "Epoch 9/100\n",
      "8291/8291 [==============================] - 0s 52us/step - loss: 1.2161 - precision: 0.6034 - recall: 0.3394 - f1: 0.4194 - val_loss: 1.1449 - val_precision: 0.6637 - val_recall: 0.1717 - val_f1: 0.2693\n",
      "\n",
      "Epoch 00009: val_f1 did not improve\n",
      "Epoch 10/100\n",
      "8291/8291 [==============================] - 0s 50us/step - loss: 1.2027 - precision: 0.6135 - recall: 0.3534 - f1: 0.4344 - val_loss: 1.1678 - val_precision: 0.6688 - val_recall: 0.2586 - val_f1: 0.3706\n",
      "\n",
      "Epoch 00010: val_f1 did not improve\n",
      "Epoch 11/100\n",
      "8291/8291 [==============================] - 0s 49us/step - loss: 1.1971 - precision: 0.6146 - recall: 0.3480 - f1: 0.4311 - val_loss: 1.1572 - val_precision: 0.6288 - val_recall: 0.3830 - val_f1: 0.4741\n",
      "\n",
      "Epoch 00011: val_f1 did not improve\n",
      "Epoch 12/100\n",
      "8291/8291 [==============================] - 0s 49us/step - loss: 1.1902 - precision: 0.6132 - recall: 0.3544 - f1: 0.4381 - val_loss: 1.1420 - val_precision: 0.6275 - val_recall: 0.5301 - val_f1: 0.5741\n",
      "\n",
      "Epoch 00012: val_f1 did not improve\n",
      "Epoch 13/100\n",
      "8291/8291 [==============================] - 0s 51us/step - loss: 1.1775 - precision: 0.6193 - recall: 0.3670 - f1: 0.4524 - val_loss: 1.1085 - val_precision: 0.6358 - val_recall: 0.4838 - val_f1: 0.5486\n",
      "\n",
      "Epoch 00013: val_f1 did not improve\n",
      "Epoch 14/100\n",
      "8291/8291 [==============================] - 0s 51us/step - loss: 1.1677 - precision: 0.6262 - recall: 0.3685 - f1: 0.4554 - val_loss: 1.1692 - val_precision: 0.6214 - val_recall: 0.1510 - val_f1: 0.2401\n",
      "\n",
      "Epoch 00014: val_f1 did not improve\n",
      "Epoch 15/100\n",
      "8291/8291 [==============================] - 0s 51us/step - loss: 1.1626 - precision: 0.6284 - recall: 0.3622 - f1: 0.4500 - val_loss: 1.1170 - val_precision: 0.6152 - val_recall: 0.5142 - val_f1: 0.5594\n",
      "\n",
      "Epoch 00015: val_f1 did not improve\n",
      "Epoch 16/100\n",
      "8291/8291 [==============================] - 0s 49us/step - loss: 1.1474 - precision: 0.6312 - recall: 0.3846 - f1: 0.4709 - val_loss: 1.1364 - val_precision: 0.6195 - val_recall: 0.2817 - val_f1: 0.3849\n",
      "\n",
      "Epoch 00016: val_f1 did not improve\n",
      "Epoch 17/100\n",
      "8291/8291 [==============================] - 0s 52us/step - loss: 1.1429 - precision: 0.6407 - recall: 0.3879 - f1: 0.4752 - val_loss: 1.1286 - val_precision: 0.6403 - val_recall: 0.4670 - val_f1: 0.5390\n",
      "\n",
      "Epoch 00017: val_f1 did not improve\n",
      "Epoch 18/100\n",
      "8291/8291 [==============================] - 0s 52us/step - loss: 1.1283 - precision: 0.6383 - recall: 0.3918 - f1: 0.4771 - val_loss: 1.1514 - val_precision: 0.6266 - val_recall: 0.5147 - val_f1: 0.5646\n",
      "\n",
      "Epoch 00018: val_f1 did not improve\n",
      "Epoch 19/100\n",
      "8291/8291 [==============================] - 0s 52us/step - loss: 1.1205 - precision: 0.6394 - recall: 0.4033 - f1: 0.4886 - val_loss: 1.1854 - val_precision: 0.6525 - val_recall: 0.1708 - val_f1: 0.2675\n",
      "\n",
      "Epoch 00019: val_f1 did not improve\n",
      "Epoch 20/100\n",
      "8291/8291 [==============================] - 0s 57us/step - loss: 1.1130 - precision: 0.6468 - recall: 0.3986 - f1: 0.4870 - val_loss: 1.1600 - val_precision: 0.6260 - val_recall: 0.4380 - val_f1: 0.5146\n",
      "\n",
      "Epoch 00020: val_f1 did not improve\n",
      "Epoch 21/100\n",
      "8291/8291 [==============================] - 0s 49us/step - loss: 1.1046 - precision: 0.6486 - recall: 0.4067 - f1: 0.4939 - val_loss: 1.1619 - val_precision: 0.6016 - val_recall: 0.4534 - val_f1: 0.5166\n",
      "\n",
      "Epoch 00021: val_f1 did not improve\n",
      "Epoch 22/100\n",
      "8291/8291 [==============================] - 0s 51us/step - loss: 1.0909 - precision: 0.6570 - recall: 0.4129 - f1: 0.5005 - val_loss: 1.2321 - val_precision: 0.6617 - val_recall: 0.1799 - val_f1: 0.2791\n",
      "\n",
      "Epoch 00022: val_f1 did not improve\n",
      "Epoch 23/100\n",
      "8291/8291 [==============================] - 0s 51us/step - loss: 1.0781 - precision: 0.6599 - recall: 0.4172 - f1: 0.5053 - val_loss: 1.2521 - val_precision: 0.6110 - val_recall: 0.5876 - val_f1: 0.5988\n",
      "\n",
      "Epoch 00023: val_f1 did not improve\n",
      "Epoch 24/100\n",
      "8291/8291 [==============================] - 0s 48us/step - loss: 1.0656 - precision: 0.6564 - recall: 0.4281 - f1: 0.5137 - val_loss: 1.1917 - val_precision: 0.6303 - val_recall: 0.3111 - val_f1: 0.4150\n",
      "\n",
      "Epoch 00024: val_f1 did not improve\n",
      "Epoch 25/100\n",
      "8291/8291 [==============================] - 0s 56us/step - loss: 1.0519 - precision: 0.6684 - recall: 0.4353 - f1: 0.5219 - val_loss: 1.2076 - val_precision: 0.6142 - val_recall: 0.4120 - val_f1: 0.4918\n",
      "\n",
      "Epoch 00025: val_f1 did not improve\n",
      "Epoch 26/100\n",
      "8291/8291 [==============================] - 0s 52us/step - loss: 1.0322 - precision: 0.6773 - recall: 0.4533 - f1: 0.5392 - val_loss: 1.2031 - val_precision: 0.6229 - val_recall: 0.4882 - val_f1: 0.5466\n",
      "\n",
      "Epoch 00026: val_f1 did not improve\n",
      "Epoch 27/100\n",
      "8291/8291 [==============================] - 0s 55us/step - loss: 1.0300 - precision: 0.6818 - recall: 0.4578 - f1: 0.5443 - val_loss: 1.1954 - val_precision: 0.6244 - val_recall: 0.2788 - val_f1: 0.3835\n",
      "\n",
      "Epoch 00027: val_f1 did not improve\n",
      "Epoch 28/100\n",
      "8291/8291 [==============================] - 0s 53us/step - loss: 1.0145 - precision: 0.6829 - recall: 0.4619 - f1: 0.5480 - val_loss: 1.1867 - val_precision: 0.6290 - val_recall: 0.3314 - val_f1: 0.4326\n",
      "\n",
      "Epoch 00028: val_f1 did not improve\n",
      "Epoch 29/100\n",
      "8291/8291 [==============================] - 0s 53us/step - loss: 1.0015 - precision: 0.6798 - recall: 0.4656 - f1: 0.5501 - val_loss: 1.1976 - val_precision: 0.6120 - val_recall: 0.5229 - val_f1: 0.5636\n",
      "\n",
      "Epoch 00029: val_f1 did not improve\n",
      "Epoch 30/100\n",
      "8291/8291 [==============================] - 0s 51us/step - loss: 0.9803 - precision: 0.6869 - recall: 0.4870 - f1: 0.5674 - val_loss: 1.1950 - val_precision: 0.6188 - val_recall: 0.3994 - val_f1: 0.4844\n",
      "\n",
      "Epoch 00030: val_f1 did not improve\n",
      "Epoch 31/100\n",
      "8291/8291 [==============================] - 0s 50us/step - loss: 0.9782 - precision: 0.6888 - recall: 0.4839 - f1: 0.5657 - val_loss: 1.2247 - val_precision: 0.5821 - val_recall: 0.3377 - val_f1: 0.4262\n",
      "\n",
      "Epoch 00031: val_f1 did not improve\n",
      "Epoch 32/100\n",
      "8291/8291 [==============================] - 0s 51us/step - loss: 0.9556 - precision: 0.6945 - recall: 0.4974 - f1: 0.5776 - val_loss: 1.2507 - val_precision: 0.5993 - val_recall: 0.4269 - val_f1: 0.4977\n",
      "\n",
      "Epoch 00032: val_f1 did not improve\n",
      "Epoch 33/100\n"
     ]
    },
    {
     "name": "stdout",
     "output_type": "stream",
     "text": [
      "8291/8291 [==============================] - 0s 51us/step - loss: 0.9519 - precision: 0.6996 - recall: 0.4938 - f1: 0.5764 - val_loss: 1.2708 - val_precision: 0.6084 - val_recall: 0.5798 - val_f1: 0.5936\n",
      "\n",
      "Epoch 00033: val_f1 did not improve\n",
      "Text train shape:  (10364, 128, 1)\n",
      "Train on 8291 samples, validate on 2073 samples\n",
      "Epoch 1/100\n",
      "8291/8291 [==============================] - 3s 308us/step - loss: 1.2841 - precision: 0.5048 - recall: 0.3667 - f1: nan - val_loss: 1.1492 - val_precision: 0.7005 - val_recall: 0.1027 - val_f1: 0.1769\n",
      "\n",
      "Epoch 00001: val_f1 improved from -inf to 0.17695, saving model to wieghts/spacy_best_weights_1.h5\n",
      "Epoch 2/100\n",
      "8291/8291 [==============================] - 0s 46us/step - loss: 1.2691 - precision: 0.5403 - recall: 0.3785 - f1: nan - val_loss: 1.1725 - val_precision: 0.6096 - val_recall: 0.6020 - val_f1: 0.6058\n",
      "\n",
      "Epoch 00002: val_f1 improved from 0.17695 to 0.60576, saving model to wieghts/spacy_best_weights_1.h5\n",
      "Epoch 3/100\n",
      "8291/8291 [==============================] - 0s 46us/step - loss: 1.2654 - precision: 0.5568 - recall: 0.3798 - f1: nan - val_loss: 1.1513 - val_precision: 0.6234 - val_recall: 0.4588 - val_f1: 0.5272\n",
      "\n",
      "Epoch 00003: val_f1 did not improve\n",
      "Epoch 4/100\n",
      "8291/8291 [==============================] - 0s 47us/step - loss: 1.2589 - precision: 0.5630 - recall: 0.3891 - f1: nan - val_loss: 1.1444 - val_precision: 0.6083 - val_recall: 0.6083 - val_f1: 0.6083\n",
      "\n",
      "Epoch 00004: val_f1 improved from 0.60576 to 0.60830, saving model to wieghts/spacy_best_weights_1.h5\n",
      "Epoch 5/100\n",
      "8291/8291 [==============================] - 0s 48us/step - loss: 1.2547 - precision: 0.5731 - recall: 0.3815 - f1: nan - val_loss: 1.1456 - val_precision: 0.6165 - val_recall: 0.4925 - val_f1: 0.5468\n",
      "\n",
      "Epoch 00005: val_f1 did not improve\n",
      "Epoch 6/100\n",
      "8291/8291 [==============================] - 0s 47us/step - loss: 1.2510 - precision: 0.5855 - recall: 0.3757 - f1: 0.4220 - val_loss: 1.1115 - val_precision: 0.6101 - val_recall: 0.5697 - val_f1: 0.5889\n",
      "\n",
      "Epoch 00006: val_f1 did not improve\n",
      "Epoch 7/100\n",
      "8291/8291 [==============================] - 0s 47us/step - loss: 1.2418 - precision: 0.5897 - recall: 0.3855 - f1: 0.4388 - val_loss: 1.1911 - val_precision: 0.6108 - val_recall: 0.5654 - val_f1: 0.5869\n",
      "\n",
      "Epoch 00007: val_f1 did not improve\n",
      "Epoch 8/100\n",
      "8291/8291 [==============================] - 0s 46us/step - loss: 1.2436 - precision: 0.5774 - recall: 0.3735 - f1: 0.4324 - val_loss: 1.1196 - val_precision: 0.6103 - val_recall: 0.6006 - val_f1: 0.6053\n",
      "\n",
      "Epoch 00008: val_f1 did not improve\n",
      "Epoch 9/100\n",
      "8291/8291 [==============================] - 0s 53us/step - loss: 1.2363 - precision: 0.5858 - recall: 0.3773 - f1: 0.4324 - val_loss: 1.1705 - val_precision: 0.6084 - val_recall: 0.6078 - val_f1: 0.6081\n",
      "\n",
      "Epoch 00009: val_f1 did not improve\n",
      "Epoch 10/100\n",
      "8291/8291 [==============================] - 0s 52us/step - loss: 1.2335 - precision: 0.5995 - recall: 0.3755 - f1: 0.4343 - val_loss: 1.0962 - val_precision: 0.6111 - val_recall: 0.5697 - val_f1: 0.5894\n",
      "\n",
      "Epoch 00010: val_f1 did not improve\n",
      "Epoch 11/100\n",
      "8291/8291 [==============================] - 0s 45us/step - loss: 1.2282 - precision: 0.5936 - recall: 0.3700 - f1: 0.4289 - val_loss: 1.0954 - val_precision: 0.6098 - val_recall: 0.5919 - val_f1: 0.6007\n",
      "\n",
      "Epoch 00011: val_f1 did not improve\n",
      "Epoch 12/100\n",
      "8291/8291 [==============================] - 0s 45us/step - loss: 1.2257 - precision: 0.5999 - recall: 0.3801 - f1: 0.4401 - val_loss: 1.1578 - val_precision: 0.6196 - val_recall: 0.5176 - val_f1: 0.5630\n",
      "\n",
      "Epoch 00012: val_f1 did not improve\n",
      "Epoch 13/100\n",
      "8291/8291 [==============================] - 0s 46us/step - loss: 1.2219 - precision: 0.5917 - recall: 0.3798 - f1: 0.4417 - val_loss: 1.1750 - val_precision: 0.6337 - val_recall: 0.4071 - val_f1: 0.4943\n",
      "\n",
      "Epoch 00013: val_f1 did not improve\n",
      "Epoch 14/100\n",
      "8291/8291 [==============================] - 0s 46us/step - loss: 1.2183 - precision: 0.6101 - recall: 0.3821 - f1: 0.4472 - val_loss: 1.2172 - val_precision: 0.4907 - val_recall: 0.0280 - val_f1: nan\n",
      "\n",
      "Epoch 00014: val_f1 did not improve\n",
      "Epoch 15/100\n",
      "8291/8291 [==============================] - 0s 51us/step - loss: 1.2169 - precision: 0.6128 - recall: 0.3741 - f1: 0.4417 - val_loss: 1.1348 - val_precision: 0.6115 - val_recall: 0.5967 - val_f1: 0.6039\n",
      "\n",
      "Epoch 00015: val_f1 did not improve\n",
      "Epoch 16/100\n",
      "8291/8291 [==============================] - 0s 46us/step - loss: 1.2105 - precision: 0.5957 - recall: 0.3827 - f1: 0.4472 - val_loss: 1.1137 - val_precision: 0.6098 - val_recall: 0.6030 - val_f1: 0.6064\n",
      "\n",
      "Epoch 00016: val_f1 did not improve\n",
      "Epoch 17/100\n",
      "8291/8291 [==============================] - 0s 47us/step - loss: 1.2046 - precision: 0.6089 - recall: 0.3809 - f1: 0.4520 - val_loss: 1.1279 - val_precision: 0.6087 - val_recall: 0.6078 - val_f1: 0.6082\n",
      "\n",
      "Epoch 00017: val_f1 did not improve\n",
      "Epoch 18/100\n",
      "8291/8291 [==============================] - 0s 49us/step - loss: 1.2058 - precision: 0.6046 - recall: 0.3770 - f1: 0.4431 - val_loss: 1.1573 - val_precision: 0.6186 - val_recall: 0.5234 - val_f1: 0.5662\n",
      "\n",
      "Epoch 00018: val_f1 did not improve\n",
      "Epoch 19/100\n",
      "8291/8291 [==============================] - 0s 46us/step - loss: 1.2029 - precision: 0.6030 - recall: 0.3746 - f1: 0.4446 - val_loss: 1.1803 - val_precision: 0.6128 - val_recall: 0.5432 - val_f1: 0.5754\n",
      "\n",
      "Epoch 00019: val_f1 did not improve\n",
      "Epoch 20/100\n",
      "8291/8291 [==============================] - 0s 47us/step - loss: 1.1946 - precision: 0.6124 - recall: 0.3835 - f1: 0.4531 - val_loss: 1.1454 - val_precision: 0.6261 - val_recall: 0.4708 - val_f1: 0.5359\n",
      "\n",
      "Epoch 00020: val_f1 did not improve\n",
      "Epoch 21/100\n",
      "8291/8291 [==============================] - 0s 46us/step - loss: 1.1965 - precision: 0.6116 - recall: 0.3778 - f1: 0.4502 - val_loss: 1.1017 - val_precision: 0.6242 - val_recall: 0.5036 - val_f1: 0.5561\n",
      "\n",
      "Epoch 00021: val_f1 did not improve\n",
      "Epoch 22/100\n",
      "8291/8291 [==============================] - 0s 48us/step - loss: 1.1951 - precision: 0.6076 - recall: 0.3757 - f1: 0.4489 - val_loss: 1.1697 - val_precision: 0.5619 - val_recall: 0.1949 - val_f1: 0.2876\n",
      "\n",
      "Epoch 00022: val_f1 did not improve\n",
      "Epoch 23/100\n",
      "8291/8291 [==============================] - 0s 48us/step - loss: 1.1884 - precision: 0.6153 - recall: 0.3814 - f1: 0.4572 - val_loss: 1.1236 - val_precision: 0.6313 - val_recall: 0.4949 - val_f1: 0.5534\n",
      "\n",
      "Epoch 00023: val_f1 did not improve\n",
      "Epoch 24/100\n",
      "8291/8291 [==============================] - 0s 56us/step - loss: 1.1911 - precision: 0.6162 - recall: 0.3798 - f1: 0.4539 - val_loss: 1.2400 - val_precision: 0.6767 - val_recall: 0.0724 - val_f1: nan\n",
      "\n",
      "Epoch 00024: val_f1 did not improve\n",
      "Epoch 25/100\n",
      "8291/8291 [==============================] - 0s 46us/step - loss: 1.1846 - precision: 0.6158 - recall: 0.3727 - f1: 0.4478 - val_loss: 1.1176 - val_precision: 0.6387 - val_recall: 0.4255 - val_f1: 0.5088\n",
      "\n",
      "Epoch 00025: val_f1 did not improve\n",
      "Epoch 26/100\n",
      "8291/8291 [==============================] - 0s 45us/step - loss: 1.1858 - precision: 0.6194 - recall: 0.3781 - f1: 0.4520 - val_loss: 1.1195 - val_precision: 0.6125 - val_recall: 0.5986 - val_f1: 0.6054\n",
      "\n",
      "Epoch 00026: val_f1 did not improve\n",
      "Epoch 27/100\n",
      "8291/8291 [==============================] - 0s 50us/step - loss: 1.1771 - precision: 0.6228 - recall: 0.3908 - f1: 0.4662 - val_loss: 1.1616 - val_precision: 0.6098 - val_recall: 0.6015 - val_f1: 0.6056\n",
      "\n",
      "Epoch 00027: val_f1 did not improve\n",
      "Epoch 28/100\n",
      "8291/8291 [==============================] - 0s 48us/step - loss: 1.1755 - precision: 0.6277 - recall: 0.3898 - f1: 0.4673 - val_loss: 1.0928 - val_precision: 0.6193 - val_recall: 0.5683 - val_f1: 0.5924\n",
      "\n",
      "Epoch 00028: val_f1 did not improve\n",
      "Epoch 29/100\n",
      "8291/8291 [==============================] - 0s 53us/step - loss: 1.1758 - precision: 0.6165 - recall: 0.3848 - f1: 0.4625 - val_loss: 1.1126 - val_precision: 0.6373 - val_recall: 0.4515 - val_f1: 0.5269\n",
      "\n",
      "Epoch 00029: val_f1 did not improve\n",
      "Epoch 30/100\n",
      "8291/8291 [==============================] - 0s 51us/step - loss: 1.1684 - precision: 0.6238 - recall: 0.3878 - f1: 0.4660 - val_loss: 1.1287 - val_precision: 0.6126 - val_recall: 0.6020 - val_f1: 0.6072\n",
      "\n",
      "Epoch 00030: val_f1 did not improve\n",
      "Epoch 31/100\n"
     ]
    },
    {
     "name": "stdout",
     "output_type": "stream",
     "text": [
      "8291/8291 [==============================] - 0s 46us/step - loss: 1.1684 - precision: 0.6272 - recall: 0.3880 - f1: 0.4675 - val_loss: 1.1383 - val_precision: 0.6344 - val_recall: 0.4279 - val_f1: 0.5090\n",
      "\n",
      "Epoch 00031: val_f1 did not improve\n",
      "Epoch 32/100\n",
      "8291/8291 [==============================] - 0s 47us/step - loss: 1.1728 - precision: 0.6244 - recall: 0.3797 - f1: 0.4569 - val_loss: 1.1548 - val_precision: 0.6078 - val_recall: 0.2185 - val_f1: 0.3198\n",
      "\n",
      "Epoch 00032: val_f1 did not improve\n",
      "Epoch 33/100\n",
      "8291/8291 [==============================] - 0s 47us/step - loss: 1.1623 - precision: 0.6290 - recall: 0.3908 - f1: 0.4705 - val_loss: 1.1002 - val_precision: 0.6184 - val_recall: 0.5649 - val_f1: 0.5900\n",
      "\n",
      "Epoch 00033: val_f1 did not improve\n",
      "Epoch 34/100\n",
      "8291/8291 [==============================] - 0s 45us/step - loss: 1.1593 - precision: 0.6302 - recall: 0.3905 - f1: 0.4711 - val_loss: 1.1676 - val_precision: 0.6312 - val_recall: 0.4853 - val_f1: 0.5477\n",
      "\n",
      "Epoch 00034: val_f1 did not improve\n",
      "Text train shape:  (10364, 128, 1)\n",
      "Train on 8291 samples, validate on 2073 samples\n",
      "Epoch 1/100\n",
      "8291/8291 [==============================] - 22s 3ms/step - loss: 1.2817 - precision: 0.5151 - recall: 0.3486 - f1: nan - val_loss: 1.1403 - val_precision: 0.6076 - val_recall: 0.6059 - val_f1: 0.6067\n",
      "\n",
      "Epoch 00001: val_f1 improved from -inf to 0.60673, saving model to wieghts/spacy_best_weights_2.h5\n",
      "Epoch 2/100\n",
      "8291/8291 [==============================] - 21s 3ms/step - loss: 1.2611 - precision: 0.5531 - recall: 0.3784 - f1: nan - val_loss: 1.1810 - val_precision: 0.6453 - val_recall: 0.3015 - val_f1: 0.4073\n",
      "\n",
      "Epoch 00002: val_f1 did not improve\n",
      "Epoch 3/100\n",
      "8291/8291 [==============================] - 21s 3ms/step - loss: 1.2561 - precision: 0.5760 - recall: 0.3794 - f1: 0.4307 - val_loss: 1.1400 - val_precision: 0.6420 - val_recall: 0.3300 - val_f1: 0.4327\n",
      "\n",
      "Epoch 00003: val_f1 did not improve\n",
      "Epoch 4/100\n",
      "8291/8291 [==============================] - 22s 3ms/step - loss: 1.2517 - precision: 0.5767 - recall: 0.3791 - f1: 0.4392 - val_loss: 1.1348 - val_precision: 0.6465 - val_recall: 0.3266 - val_f1: 0.4306\n",
      "\n",
      "Epoch 00004: val_f1 did not improve\n",
      "Epoch 5/100\n",
      "8291/8291 [==============================] - 22s 3ms/step - loss: 1.2461 - precision: 0.5805 - recall: 0.3801 - f1: 0.4425 - val_loss: 1.1732 - val_precision: 0.6417 - val_recall: 0.3382 - val_f1: 0.4403\n",
      "\n",
      "Epoch 00005: val_f1 did not improve\n",
      "Epoch 6/100\n",
      "8291/8291 [==============================] - 22s 3ms/step - loss: 1.2443 - precision: 0.5810 - recall: 0.3809 - f1: 0.4404 - val_loss: 1.1645 - val_precision: 0.6845 - val_recall: 0.0719 - val_f1: 0.1284\n",
      "\n",
      "Epoch 00006: val_f1 did not improve\n",
      "Epoch 7/100\n",
      "8291/8291 [==============================] - 22s 3ms/step - loss: 1.2411 - precision: 0.5800 - recall: 0.3732 - f1: 0.4313 - val_loss: 1.1521 - val_precision: 0.6132 - val_recall: 0.5822 - val_f1: 0.5972\n",
      "\n",
      "Epoch 00007: val_f1 did not improve\n",
      "Epoch 8/100\n",
      "8291/8291 [==============================] - 22s 3ms/step - loss: 1.2414 - precision: 0.5754 - recall: 0.3764 - f1: 0.4371 - val_loss: 1.1583 - val_precision: 0.6652 - val_recall: 0.2224 - val_f1: 0.3299\n",
      "\n",
      "Epoch 00008: val_f1 did not improve\n",
      "Epoch 9/100\n",
      "8291/8291 [==============================] - 22s 3ms/step - loss: 1.2361 - precision: 0.5781 - recall: 0.3744 - f1: 0.4361 - val_loss: 1.1728 - val_precision: 0.6897 - val_recall: 0.1896 - val_f1: 0.2944\n",
      "\n",
      "Epoch 00009: val_f1 did not improve\n",
      "Epoch 10/100\n",
      "8291/8291 [==============================] - 21s 3ms/step - loss: 1.2331 - precision: 0.5853 - recall: 0.3781 - f1: 0.4428 - val_loss: 1.1440 - val_precision: 0.6076 - val_recall: 0.6059 - val_f1: 0.6067\n",
      "\n",
      "Epoch 00010: val_f1 did not improve\n",
      "Epoch 11/100\n",
      "8291/8291 [==============================] - 22s 3ms/step - loss: 1.2327 - precision: 0.5887 - recall: 0.3776 - f1: 0.4448 - val_loss: 1.1203 - val_precision: 0.6440 - val_recall: 0.3661 - val_f1: 0.4649\n",
      "\n",
      "Epoch 00011: val_f1 did not improve\n",
      "Epoch 12/100\n",
      "8291/8291 [==============================] - 21s 3ms/step - loss: 1.2264 - precision: 0.5920 - recall: 0.3769 - f1: 0.4441 - val_loss: 1.1306 - val_precision: 0.6187 - val_recall: 0.5697 - val_f1: 0.5928\n",
      "\n",
      "Epoch 00012: val_f1 did not improve\n",
      "Epoch 13/100\n",
      "8291/8291 [==============================] - 21s 3ms/step - loss: 1.2271 - precision: 0.5838 - recall: 0.3790 - f1: 0.4452 - val_loss: 1.1498 - val_precision: 0.6287 - val_recall: 0.5128 - val_f1: 0.5640\n",
      "\n",
      "Epoch 00013: val_f1 did not improve\n",
      "Epoch 14/100\n",
      "8291/8291 [==============================] - 21s 3ms/step - loss: 1.2256 - precision: 0.5918 - recall: 0.3740 - f1: 0.4428 - val_loss: 1.1527 - val_precision: 0.6172 - val_recall: 0.5712 - val_f1: 0.5929\n",
      "\n",
      "Epoch 00014: val_f1 did not improve\n",
      "Epoch 15/100\n",
      "8291/8291 [==============================] - 21s 3ms/step - loss: 1.2226 - precision: 0.5844 - recall: 0.3796 - f1: 0.4467 - val_loss: 1.1460 - val_precision: 0.7021 - val_recall: 0.2041 - val_f1: 0.3130\n",
      "\n",
      "Epoch 00015: val_f1 did not improve\n",
      "Epoch 16/100\n",
      "8291/8291 [==============================] - 21s 3ms/step - loss: 1.2230 - precision: 0.5973 - recall: 0.3762 - f1: 0.4482 - val_loss: 1.1386 - val_precision: 0.6313 - val_recall: 0.4670 - val_f1: 0.5353\n",
      "\n",
      "Epoch 00016: val_f1 did not improve\n",
      "Epoch 17/100\n",
      "8291/8291 [==============================] - 21s 3ms/step - loss: 1.2176 - precision: 0.5940 - recall: 0.3770 - f1: 0.4470 - val_loss: 1.2169 - val_precision: 0.4279 - val_recall: 0.0859 - val_f1: nan\n",
      "\n",
      "Epoch 00017: val_f1 did not improve\n",
      "Epoch 18/100\n",
      "8291/8291 [==============================] - 21s 3ms/step - loss: 1.2196 - precision: 0.5947 - recall: 0.3718 - f1: 0.4436 - val_loss: 1.1331 - val_precision: 0.6510 - val_recall: 0.3261 - val_f1: 0.4325\n",
      "\n",
      "Epoch 00018: val_f1 did not improve\n",
      "Epoch 19/100\n",
      "8291/8291 [==============================] - 22s 3ms/step - loss: 1.2188 - precision: 0.5989 - recall: 0.3681 - f1: nan - val_loss: 1.1527 - val_precision: 0.6077 - val_recall: 0.6064 - val_f1: 0.6070\n",
      "\n",
      "Epoch 00019: val_f1 improved from 0.60673 to 0.60704, saving model to wieghts/spacy_best_weights_2.h5\n",
      "Epoch 20/100\n",
      "8291/8291 [==============================] - 22s 3ms/step - loss: 1.2135 - precision: 0.5913 - recall: 0.3831 - f1: 0.4521 - val_loss: 1.2018 - val_precision: 0.6936 - val_recall: 0.1664 - val_f1: 0.2650\n",
      "\n",
      "Epoch 00020: val_f1 did not improve\n",
      "Epoch 21/100\n",
      "8291/8291 [==============================] - 21s 3ms/step - loss: 1.2154 - precision: 0.5959 - recall: 0.3731 - f1: 0.4414 - val_loss: 1.1477 - val_precision: 0.6118 - val_recall: 0.5986 - val_f1: 0.6051\n",
      "\n",
      "Epoch 00021: val_f1 did not improve\n",
      "Epoch 22/100\n",
      "8291/8291 [==============================] - 21s 3ms/step - loss: 1.2129 - precision: 0.5886 - recall: 0.3743 - f1: 0.4439 - val_loss: 1.2249 - val_precision: 0.7439 - val_recall: 0.0757 - val_f1: 0.1349\n",
      "\n",
      "Epoch 00022: val_f1 did not improve\n",
      "Epoch 23/100\n",
      "8291/8291 [==============================] - 22s 3ms/step - loss: 1.2123 - precision: 0.5942 - recall: 0.3720 - f1: 0.4429 - val_loss: 1.1340 - val_precision: 0.6239 - val_recall: 0.5142 - val_f1: 0.5628\n",
      "\n",
      "Epoch 00023: val_f1 did not improve\n",
      "Epoch 24/100\n",
      "8291/8291 [==============================] - 22s 3ms/step - loss: 1.2107 - precision: 0.5960 - recall: 0.3763 - f1: 0.4475 - val_loss: 1.1067 - val_precision: 0.6321 - val_recall: 0.5070 - val_f1: 0.5616\n",
      "\n",
      "Epoch 00024: val_f1 did not improve\n",
      "Epoch 25/100\n",
      "8291/8291 [==============================] - 22s 3ms/step - loss: 1.2087 - precision: 0.5998 - recall: 0.3788 - f1: 0.4493 - val_loss: 1.1378 - val_precision: 0.6759 - val_recall: 0.2451 - val_f1: 0.3565\n",
      "\n",
      "Epoch 00025: val_f1 did not improve\n",
      "Epoch 26/100\n",
      "8291/8291 [==============================] - 21s 3ms/step - loss: 1.2098 - precision: 0.6001 - recall: 0.3756 - f1: 0.4473 - val_loss: 1.1153 - val_precision: 0.6241 - val_recall: 0.4978 - val_f1: 0.5524\n",
      "\n",
      "Epoch 00026: val_f1 did not improve\n",
      "Epoch 27/100\n",
      "8291/8291 [==============================] - 21s 3ms/step - loss: 1.2084 - precision: 0.5977 - recall: 0.3801 - f1: 0.4525 - val_loss: 1.1104 - val_precision: 0.6171 - val_recall: 0.5813 - val_f1: 0.5983\n",
      "\n",
      "Epoch 00027: val_f1 did not improve\n",
      "Epoch 28/100\n",
      "8291/8291 [==============================] - 21s 3ms/step - loss: 1.2069 - precision: 0.6024 - recall: 0.3823 - f1: 0.4558 - val_loss: 1.1461 - val_precision: 0.6249 - val_recall: 0.5181 - val_f1: 0.5656\n"
     ]
    },
    {
     "name": "stdout",
     "output_type": "stream",
     "text": [
      "\n",
      "Epoch 00028: val_f1 did not improve\n",
      "Epoch 29/100\n",
      "8291/8291 [==============================] - 22s 3ms/step - loss: 1.2048 - precision: 0.6016 - recall: 0.3797 - f1: 0.4544 - val_loss: 1.1095 - val_precision: 0.6392 - val_recall: 0.4781 - val_f1: 0.5455\n",
      "\n",
      "Epoch 00029: val_f1 did not improve\n",
      "Epoch 30/100\n",
      "8291/8291 [==============================] - 22s 3ms/step - loss: 1.2033 - precision: 0.5990 - recall: 0.3808 - f1: 0.4549 - val_loss: 1.1132 - val_precision: 0.6112 - val_recall: 0.5929 - val_f1: 0.6017\n",
      "\n",
      "Epoch 00030: val_f1 did not improve\n",
      "Epoch 31/100\n",
      "8291/8291 [==============================] - 22s 3ms/step - loss: 1.2059 - precision: 0.6050 - recall: 0.3802 - f1: 0.4556 - val_loss: 1.1644 - val_precision: 0.6860 - val_recall: 0.1230 - val_f1: 0.2050\n",
      "\n",
      "Epoch 00031: val_f1 did not improve\n",
      "Epoch 32/100\n",
      "8291/8291 [==============================] - 21s 3ms/step - loss: 1.2032 - precision: 0.6039 - recall: 0.3779 - f1: 0.4512 - val_loss: 1.1167 - val_precision: 0.6256 - val_recall: 0.5118 - val_f1: 0.5617\n",
      "\n",
      "Epoch 00032: val_f1 did not improve\n",
      "Epoch 33/100\n",
      "8291/8291 [==============================] - 21s 3ms/step - loss: 1.2043 - precision: 0.5967 - recall: 0.3782 - f1: 0.4525 - val_loss: 1.1502 - val_precision: 0.6593 - val_recall: 0.3164 - val_f1: 0.4247\n",
      "\n",
      "Epoch 00033: val_f1 did not improve\n",
      "Epoch 34/100\n",
      "8291/8291 [==============================] - 21s 3ms/step - loss: 1.2010 - precision: 0.6030 - recall: 0.3737 - f1: 0.4487 - val_loss: 1.1240 - val_precision: 0.6127 - val_recall: 0.5837 - val_f1: 0.5976\n",
      "\n",
      "Epoch 00034: val_f1 did not improve\n",
      "Epoch 35/100\n",
      "8291/8291 [==============================] - 21s 3ms/step - loss: 1.1986 - precision: 0.5979 - recall: 0.3842 - f1: 0.4580 - val_loss: 1.1281 - val_precision: 0.6209 - val_recall: 0.5644 - val_f1: 0.5907\n",
      "\n",
      "Epoch 00035: val_f1 did not improve\n",
      "Epoch 36/100\n",
      "8291/8291 [==============================] - 21s 3ms/step - loss: 1.1976 - precision: 0.6053 - recall: 0.3763 - f1: 0.4511 - val_loss: 1.1183 - val_precision: 0.6110 - val_recall: 0.5914 - val_f1: 0.6009\n",
      "\n",
      "Epoch 00036: val_f1 did not improve\n",
      "Epoch 37/100\n",
      "8291/8291 [==============================] - 21s 3ms/step - loss: 1.1976 - precision: 0.6030 - recall: 0.3815 - f1: 0.4577 - val_loss: 1.1231 - val_precision: 0.6282 - val_recall: 0.5080 - val_f1: 0.5607\n",
      "\n",
      "Epoch 00037: val_f1 did not improve\n",
      "Epoch 38/100\n",
      "8291/8291 [==============================] - 21s 3ms/step - loss: 1.1980 - precision: 0.6033 - recall: 0.3815 - f1: 0.4564 - val_loss: 1.1171 - val_precision: 0.6253 - val_recall: 0.5562 - val_f1: 0.5882\n",
      "\n",
      "Epoch 00038: val_f1 did not improve\n",
      "Epoch 39/100\n",
      "8291/8291 [==============================] - 21s 3ms/step - loss: 1.1985 - precision: 0.6015 - recall: 0.3788 - f1: 0.4559 - val_loss: 1.1557 - val_precision: 0.6505 - val_recall: 0.3300 - val_f1: 0.4350\n",
      "\n",
      "Epoch 00039: val_f1 did not improve\n",
      "Epoch 40/100\n",
      "8291/8291 [==============================] - 21s 3ms/step - loss: 1.1953 - precision: 0.5978 - recall: 0.3797 - f1: 0.4562 - val_loss: 1.1153 - val_precision: 0.6344 - val_recall: 0.4583 - val_f1: 0.5307\n",
      "\n",
      "Epoch 00040: val_f1 did not improve\n",
      "Epoch 41/100\n",
      "8291/8291 [==============================] - 21s 3ms/step - loss: 1.1964 - precision: 0.6083 - recall: 0.3784 - f1: 0.4557 - val_loss: 1.1801 - val_precision: 0.6217 - val_recall: 0.4380 - val_f1: 0.5120\n",
      "\n",
      "Epoch 00041: val_f1 did not improve\n",
      "Epoch 42/100\n",
      "8291/8291 [==============================] - 21s 3ms/step - loss: 1.1965 - precision: 0.6016 - recall: 0.3813 - f1: 0.4560 - val_loss: 1.1150 - val_precision: 0.6119 - val_recall: 0.5904 - val_f1: 0.6008\n",
      "\n",
      "Epoch 00042: val_f1 did not improve\n",
      "Epoch 43/100\n",
      "8291/8291 [==============================] - 21s 3ms/step - loss: 1.1933 - precision: 0.6064 - recall: 0.3826 - f1: 0.4587 - val_loss: 1.1563 - val_precision: 0.6269 - val_recall: 0.1751 - val_f1: 0.2711\n",
      "\n",
      "Epoch 00043: val_f1 did not improve\n",
      "Epoch 44/100\n",
      "6976/8291 [========================>.....] - ETA: 3s - loss: 1.1943 - precision: 0.6022 - recall: 0.3868 - f1: 0.4601"
     ]
    }
   ],
   "source": [
    "keras_m = train(train_vec, y_train_ohe, name='wieghts/spacy_')"
   ]
  },
  {
   "cell_type": "markdown",
   "metadata": {},
   "source": [
    "##### Test"
   ]
  },
  {
   "cell_type": "code",
   "execution_count": null,
   "metadata": {
    "ExecuteTime": {
     "start_time": "2018-04-28T16:44:00.032Z"
    }
   },
   "outputs": [],
   "source": [
    "def testing(X, y, models, ind = 3):\n",
    "    scores = []\n",
    "    for model in models:\n",
    "        X_prep = prepare_data(X, model)\n",
    "        scores.append(round(model.evaluate(X_prep, y)[ind], 4))\n",
    "    return scores"
   ]
  },
  {
   "cell_type": "code",
   "execution_count": null,
   "metadata": {
    "ExecuteTime": {
     "start_time": "2018-04-28T16:44:00.034Z"
    }
   },
   "outputs": [],
   "source": [
    "print (testing(valid_vec, y_valid_ohe, keras_m))"
   ]
  },
  {
   "cell_type": "markdown",
   "metadata": {
    "ExecuteTime": {
     "start_time": "2018-04-27T22:35:03.297Z"
    }
   },
   "source": [
    "<table>\n",
    "  <tr>\n",
    "    <th>DNN type</th>\n",
    "    <th>F1-score with spacy</th>\n",
    "  </tr>\n",
    "  <tr>\n",
    "    <td>Multi-Layer Perceptron</td>\n",
    "    <td>0.57</td>\n",
    "  </tr>\n",
    "  <tr>\n",
    "    <td>1-D Convolutional Neural Network</td>\n",
    "    <td>0.57</td>\n",
    "  </tr>\n",
    "  <tr>\n",
    "    <td>LSTM network</td>\n",
    "    <td>0.57</td>\n",
    "   </tr>\n",
    "</table>"
   ]
  },
  {
   "cell_type": "markdown",
   "metadata": {},
   "source": [
    "#### Wor2vec part"
   ]
  },
  {
   "cell_type": "code",
   "execution_count": null,
   "metadata": {
    "ExecuteTime": {
     "start_time": "2018-04-28T16:44:00.035Z"
    }
   },
   "outputs": [],
   "source": [
    "from gensim.models.word2vec import Word2Vec\n",
    "\n",
    "import re"
   ]
  },
  {
   "cell_type": "code",
   "execution_count": null,
   "metadata": {
    "ExecuteTime": {
     "start_time": "2018-04-28T16:44:00.038Z"
    }
   },
   "outputs": [],
   "source": [
    "# Define function to preprocess text for a word2vec model\n",
    "def cleanup_text_word2vec(docs, logging=False):\n",
    "    sentences = []\n",
    "    counter = 1\n",
    "    for doc in docs:\n",
    "        if counter % 1000 == 0 and logging:\n",
    "            print(\"Processed %d out of %d documents\" % (counter, len(docs)))\n",
    "        # Disable tagger so that lemma_ of personal pronouns (I, me, etc) don't getted marked as \"-PRON-\"\n",
    "        doc = nlp(doc, disable=['tagger'])\n",
    "        # Grab lemmatized form of words and make lowercase\n",
    "        doc = \" \".join([tok.lemma_.lower() for tok in doc])\n",
    "        # Split into sentences based on punctuation\n",
    "        doc = re.split(\"[\\.?!;] \", doc)\n",
    "        # Remove commas, periods, and other punctuation (mostly commas)\n",
    "        doc = [re.sub(\"[\\.,;:!?]\", \"\", sent) for sent in doc]\n",
    "        # Split into words\n",
    "        doc = [sent.split() for sent in doc]\n",
    "        sentences += doc\n",
    "        counter += 1\n",
    "    return sentences"
   ]
  },
  {
   "cell_type": "code",
   "execution_count": null,
   "metadata": {
    "ExecuteTime": {
     "start_time": "2018-04-28T16:44:00.040Z"
    },
    "scrolled": true
   },
   "outputs": [],
   "source": [
    "train_cleaned_w2v = cleanup_text_word2vec(X_train['message_encoding'], logging=True)\n",
    "valid_cleaned_w2v = cleanup_text_word2vec(X_valid['message_encoding'], logging=True)"
   ]
  },
  {
   "cell_type": "code",
   "execution_count": null,
   "metadata": {
    "ExecuteTime": {
     "start_time": "2018-04-28T16:44:00.042Z"
    }
   },
   "outputs": [],
   "source": [
    "text_dim = 128\n",
    "print(\"Training Word2Vec model...\")\n",
    "wordvec_model = Word2Vec(train_cleaned_w2v, size=text_dim, window=5, min_count=3, workers=11, sg=1)\n",
    "print(\"Word2Vec model created.\")\n",
    "print(\"%d unique words represented by %d dimensional vectors\" % (len(wordvec_model.wv.vocab), text_dim))"
   ]
  },
  {
   "cell_type": "code",
   "execution_count": null,
   "metadata": {
    "ExecuteTime": {
     "start_time": "2018-04-28T16:44:00.044Z"
    }
   },
   "outputs": [],
   "source": [
    "def create_average_vec(doc):\n",
    "    average = np.zeros((text_dim,), dtype='float32')\n",
    "    num_words = 0.\n",
    "    for word in doc.split():\n",
    "        if word in wordvec_model.wv.vocab:\n",
    "            average = np.add(average, wordvec_model[word])\n",
    "            num_words += 1.\n",
    "    if num_words != 0.:\n",
    "        average = np.divide(average, num_words)\n",
    "    return average"
   ]
  },
  {
   "cell_type": "code",
   "execution_count": null,
   "metadata": {
    "ExecuteTime": {
     "start_time": "2018-04-28T16:44:00.045Z"
    }
   },
   "outputs": [],
   "source": [
    "def get_vect_w2v(X):\n",
    "    X_vec = np.zeros((X.shape[0], text_dim), dtype=\"float32\")\n",
    "    for i in range(len(X)):\n",
    "        X_vec[i] = create_average_vec(X[i])\n",
    "    return X_vec"
   ]
  },
  {
   "cell_type": "code",
   "execution_count": null,
   "metadata": {
    "ExecuteTime": {
     "start_time": "2018-04-28T16:44:00.045Z"
    }
   },
   "outputs": [],
   "source": [
    "train_cleaned_vec = get_vect_w2v(train_cleaned)\n",
    "valid_cleaned_vec = get_vect_w2v(valid_cleaned)"
   ]
  },
  {
   "cell_type": "code",
   "execution_count": null,
   "metadata": {
    "ExecuteTime": {
     "start_time": "2018-04-28T16:44:00.047Z"
    },
    "scrolled": true
   },
   "outputs": [],
   "source": [
    "keras_m_vec = train(train_cleaned_vec, y_train_ohe, name='wieghts/w2v_')"
   ]
  },
  {
   "cell_type": "markdown",
   "metadata": {},
   "source": [
    "##### Test"
   ]
  },
  {
   "cell_type": "code",
   "execution_count": null,
   "metadata": {
    "ExecuteTime": {
     "start_time": "2018-04-28T16:44:00.048Z"
    }
   },
   "outputs": [],
   "source": [
    "print (testing(valid_cleaned_vec, y_valid_ohe, keras_m_vec, ind=3))"
   ]
  },
  {
   "cell_type": "markdown",
   "metadata": {},
   "source": [
    "<table>\n",
    "  <tr>\n",
    "    <th>DNN type</th>\n",
    "    <th>F1-score with w2v</th>\n",
    "  </tr>\n",
    "  <tr>\n",
    "    <td>Multi-Layer Perceptron</td>\n",
    "    <td>0.42</td>\n",
    "  </tr>\n",
    "  <tr>\n",
    "    <td>1-D Convolutional Neural Network</td>\n",
    "    <td>0.34</td>\n",
    "  </tr>\n",
    "  <tr>\n",
    "    <td>LSTM network</td>\n",
    "    <td>0.57</td>\n",
    "   </tr>\n",
    "</table>"
   ]
  },
  {
   "cell_type": "markdown",
   "metadata": {},
   "source": [
    "#### Without preprocessing"
   ]
  },
  {
   "cell_type": "code",
   "execution_count": null,
   "metadata": {
    "ExecuteTime": {
     "start_time": "2018-04-28T16:44:00.050Z"
    }
   },
   "outputs": [],
   "source": [
    "train_vec_w_c = get_vect(X_train['message_encoding'])\n",
    "valid_vec_w_c = get_vect(X_valid['message_encoding'])"
   ]
  },
  {
   "cell_type": "code",
   "execution_count": null,
   "metadata": {
    "ExecuteTime": {
     "start_time": "2018-04-28T16:44:00.051Z"
    }
   },
   "outputs": [],
   "source": [
    "text_dim = 128\n",
    "print(\"Training Word2Vec model...\")\n",
    "wordvec_model = Word2Vec(X_train['message_encoding'], size=text_dim, window=5, min_count=3, workers=11, sg=1)\n",
    "print(\"Word2Vec model created.\")\n",
    "print(\"%d unique words represented by %d dimensional vectors\" % (len(wordvec_model.wv.vocab), text_dim))"
   ]
  },
  {
   "cell_type": "code",
   "execution_count": null,
   "metadata": {
    "ExecuteTime": {
     "start_time": "2018-04-28T16:44:00.054Z"
    }
   },
   "outputs": [],
   "source": [
    "train_cleaned_vec_w_c = get_vect_w2v(X_train['message_encoding'].values)\n",
    "valid_cleaned_vec_w_c = get_vect_w2v(X_valid['message_encoding'].values)"
   ]
  },
  {
   "cell_type": "markdown",
   "metadata": {},
   "source": [
    "##### Spacy"
   ]
  },
  {
   "cell_type": "code",
   "execution_count": null,
   "metadata": {
    "ExecuteTime": {
     "start_time": "2018-04-28T16:44:00.055Z"
    },
    "scrolled": true
   },
   "outputs": [],
   "source": [
    "keras_m_w_c = train(train_vec_w_c, y_train_ohe, name='wieghts/spacy_w_c_')"
   ]
  },
  {
   "cell_type": "code",
   "execution_count": null,
   "metadata": {
    "ExecuteTime": {
     "start_time": "2018-04-28T16:44:00.057Z"
    }
   },
   "outputs": [],
   "source": [
    "print (testing(valid_vec_w_c, y_valid_ohe, keras_m_w_c, ind=3))"
   ]
  },
  {
   "cell_type": "markdown",
   "metadata": {},
   "source": [
    "##### w2vec"
   ]
  },
  {
   "cell_type": "code",
   "execution_count": null,
   "metadata": {
    "ExecuteTime": {
     "start_time": "2018-04-28T16:44:00.058Z"
    },
    "scrolled": true
   },
   "outputs": [],
   "source": [
    "keras_m_vec_w_c = train(train_cleaned_vec_w_c, y_train_ohe, name='wieghts/w2v_w_c_')"
   ]
  },
  {
   "cell_type": "code",
   "execution_count": null,
   "metadata": {
    "ExecuteTime": {
     "start_time": "2018-04-28T16:44:00.060Z"
    }
   },
   "outputs": [],
   "source": [
    "print (testing(valid_cleaned_vec_w_c, y_valid_ohe, keras_m_vec_w_c, ind=3))"
   ]
  },
  {
   "cell_type": "markdown",
   "metadata": {},
   "source": [
    "#### Results"
   ]
  },
  {
   "cell_type": "markdown",
   "metadata": {},
   "source": [
    "<table>\n",
    "  <tr>\n",
    "    <th>DNN type</th>\n",
    "    <th>F1-score with spacy(no cleaning)</th>\n",
    "    <th>F1-score with w2v(no cleaning)</th>\n",
    "  </tr>\n",
    "  <tr>\n",
    "    <td>Multi-Layer Perceptron</td>\n",
    "    <td>0.55</td>\n",
    "    <td>0.55</td>\n",
    "  </tr>\n",
    "  <tr>\n",
    "    <td>1-D Convolutional Neural Network</td>\n",
    "    <td>0.57</td>\n",
    "    <td>0.55</td>\n",
    "  </tr>\n",
    "  <tr>\n",
    "    <td>LSTM network</td>\n",
    "    <td>0.56</td>\n",
    "    <td>0.57</td>\n",
    "   </tr>\n",
    "</table>"
   ]
  },
  {
   "cell_type": "markdown",
   "metadata": {},
   "source": [
    "### Conclusion\n",
    "\n",
    "If we don't use preprocessing, it will show better performance in LTSM network.\n",
    "\n",
    "When we use TF-IDF accuracy is better. We can try other architectures, customize for each its own optimizer, tune hyperparmeters. Add features to vector of word. \n"
   ]
  }
 ],
 "metadata": {
  "kernelspec": {
   "display_name": "Python 3",
   "language": "python",
   "name": "python3"
  },
  "language_info": {
   "codemirror_mode": {
    "name": "ipython",
    "version": 3
   },
   "file_extension": ".py",
   "mimetype": "text/x-python",
   "name": "python",
   "nbconvert_exporter": "python",
   "pygments_lexer": "ipython3",
   "version": "3.6.5"
  },
  "toc": {
   "base_numbering": 1,
   "nav_menu": {},
   "number_sections": true,
   "sideBar": true,
   "skip_h1_title": false,
   "title_cell": "Content",
   "title_sidebar": "Contents",
   "toc_cell": true,
   "toc_position": {},
   "toc_section_display": true,
   "toc_window_display": false
  }
 },
 "nbformat": 4,
 "nbformat_minor": 2
}
