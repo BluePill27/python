{
 "cells": [
  {
   "cell_type": "code",
   "execution_count": 1,
   "metadata": {
    "ExecuteTime": {
     "end_time": "2018-04-27T20:45:36.129965Z",
     "start_time": "2018-04-27T20:45:35.973793Z"
    }
   },
   "outputs": [],
   "source": [
    "import pandas as pd, numpy as np"
   ]
  },
  {
   "cell_type": "code",
   "execution_count": 2,
   "metadata": {
    "ExecuteTime": {
     "end_time": "2018-04-27T20:45:36.197973Z",
     "start_time": "2018-04-27T20:45:36.131364Z"
    }
   },
   "outputs": [],
   "source": [
    "train = pd.read_csv('data/train.csv', index_col='time')\n",
    "test = pd.read_csv('data/test.csv', index_col='time')"
   ]
  },
  {
   "cell_type": "code",
   "execution_count": 3,
   "metadata": {
    "ExecuteTime": {
     "end_time": "2018-04-27T20:45:36.203231Z",
     "start_time": "2018-04-27T20:45:36.199362Z"
    }
   },
   "outputs": [],
   "source": [
    "X_train, y_train, X_valid, y_valid = train[[col for col in train.columns if col!='severity']], train['severity'],\\\n",
    "                                     test[[col for col in train.columns if col!='severity']], test['severity']"
   ]
  },
  {
   "cell_type": "code",
   "execution_count": 4,
   "metadata": {
    "ExecuteTime": {
     "end_time": "2018-04-27T20:45:37.132971Z",
     "start_time": "2018-04-27T20:45:36.204588Z"
    }
   },
   "outputs": [],
   "source": [
    "import spacy, string\n",
    "from time import time\n",
    "from nltk.corpus import stopwords\n",
    "\n",
    "stopwords = stopwords.words('english')\n",
    "\n",
    "nlp = spacy.load('en_core_web_sm')"
   ]
  },
  {
   "cell_type": "code",
   "execution_count": 5,
   "metadata": {
    "ExecuteTime": {
     "end_time": "2018-04-27T20:45:37.138645Z",
     "start_time": "2018-04-27T20:45:37.134766Z"
    }
   },
   "outputs": [],
   "source": [
    "# Clean text before feeding it to spaCy\n",
    "punctuations = string.punctuation\n",
    "\n",
    "# Define function to cleanup text by removing personal pronouns, stopwords, and puncuation\n",
    "def cleanup_text(docs, logging=False):\n",
    "    texts = []\n",
    "    counter = 1\n",
    "    for doc in docs:\n",
    "        if counter % 1000 == 0 and logging:\n",
    "            print(\"Processed %d out of %d documents.\" % (counter, len(docs)))\n",
    "        counter += 1\n",
    "        doc = nlp(doc, disable=['parser', 'ner'])\n",
    "        tokens = [tok.lemma_.lower().strip() for tok in doc if tok.lemma_ != '-PRON-']\n",
    "        tokens = [tok for tok in tokens if tok not in stopwords and tok not in punctuations]\n",
    "        tokens = ' '.join(tokens)\n",
    "        texts.append(tokens)\n",
    "    return pd.Series(texts)"
   ]
  },
  {
   "cell_type": "code",
   "execution_count": 6,
   "metadata": {
    "ExecuteTime": {
     "end_time": "2018-04-27T20:46:27.701460Z",
     "start_time": "2018-04-27T20:45:37.140067Z"
    }
   },
   "outputs": [
    {
     "name": "stdout",
     "output_type": "stream",
     "text": [
      "Processed 1000 out of 10364 documents.\n",
      "Processed 2000 out of 10364 documents.\n",
      "Processed 3000 out of 10364 documents.\n",
      "Processed 4000 out of 10364 documents.\n",
      "Processed 5000 out of 10364 documents.\n",
      "Processed 6000 out of 10364 documents.\n",
      "Processed 7000 out of 10364 documents.\n",
      "Processed 8000 out of 10364 documents.\n",
      "Processed 9000 out of 10364 documents.\n",
      "Processed 10000 out of 10364 documents.\n"
     ]
    }
   ],
   "source": [
    "train_cleaned = cleanup_text(X_train['message_encoding'], logging=True)"
   ]
  },
  {
   "cell_type": "code",
   "execution_count": 7,
   "metadata": {
    "ExecuteTime": {
     "end_time": "2018-04-27T20:47:41.902635Z",
     "start_time": "2018-04-27T20:46:27.702765Z"
    }
   },
   "outputs": [
    {
     "name": "stdout",
     "output_type": "stream",
     "text": [
      "Parsing documents...\n",
      "Total time passed parsing documents: 74.19694375991821 seconds\n",
      "Total number of documents parsed: 10364\n",
      "Size of vector embeddings:  128\n",
      "Shape of vectors embeddings matrix:  (10364, 128)\n"
     ]
    }
   ],
   "source": [
    "# Parse documents and print some info\n",
    "print('Parsing documents...')\n",
    "\n",
    "start = time()\n",
    "\n",
    "train_vec = []\n",
    "for doc in nlp.pipe(train_cleaned, batch_size=500):\n",
    "    if doc.has_vector:\n",
    "        train_vec.append(doc.vector)\n",
    "    # If doc doesn't have a vector, then fill it with zeros.\n",
    "    else:\n",
    "        train_vec.append(np.zeros((128,), dtype=\"float32\"))\n",
    "        \n",
    "# train_vec = [doc.vector for doc in nlp.pipe(train_cleaned, batch_size=500)]\n",
    "train_vec = np.array(train_vec)\n",
    "\n",
    "end = time()\n",
    "print('Total time passed parsing documents: {} seconds'.format(end - start))\n",
    "print('Total number of documents parsed: {}'.format(len(train_vec)))\n",
    "print('Size of vector embeddings: ', train_vec.shape[1])\n",
    "print('Shape of vectors embeddings matrix: ', train_vec.shape)"
   ]
  },
  {
   "cell_type": "code",
   "execution_count": 8,
   "metadata": {
    "ExecuteTime": {
     "end_time": "2018-04-27T20:47:42.533921Z",
     "start_time": "2018-04-27T20:47:41.904256Z"
    }
   },
   "outputs": [
    {
     "name": "stderr",
     "output_type": "stream",
     "text": [
      "/home/denis/anaconda3/lib/python3.6/site-packages/h5py/__init__.py:36: FutureWarning: Conversion of the second argument of issubdtype from `float` to `np.floating` is deprecated. In future, it will be treated as `np.float64 == np.dtype(float).type`.\n",
      "  from ._conv import register_converters as _register_converters\n",
      "Using TensorFlow backend.\n"
     ]
    }
   ],
   "source": [
    "from keras.models import Sequential, Model\n",
    "from keras.layers import Dense, Dropout, Input, LSTM, Embedding, Bidirectional, Flatten\n",
    "from keras.layers import Conv1D, MaxPooling1D, GlobalMaxPooling1D\n",
    "from keras.optimizers import SGD\n",
    "\n",
    "def build_model(architecture='mlp'):\n",
    "    model = Sequential()\n",
    "    if architecture == 'mlp':\n",
    "        # Densely Connected Neural Network (Multi-Layer Perceptron)\n",
    "        model.add(Dense(512, activation='relu', kernel_initializer='he_normal', input_dim=128))\n",
    "        model.add(Dropout(0.2))\n",
    "        model.add(Dense(512, activation='relu', kernel_initializer='he_normal'))\n",
    "        model.add(Dropout(0.2))\n",
    "        model.add(Dense(512, activation='relu', kernel_initializer='he_normal'))\n",
    "        model.add(Dropout(0.2))\n",
    "        model.add(Dense(512, activation='relu', kernel_initializer='he_normal'))\n",
    "        model.add(Dropout(0.2))\n",
    "        model.add(Dense(5, activation='softmax'))\n",
    "    elif architecture == 'cnn':\n",
    "        # 1-D Convolutional Neural Network\n",
    "        inputs = Input(shape=(128,1))\n",
    "\n",
    "        x = Conv1D(64, 3, strides=1, padding='same', activation='relu')(inputs)\n",
    "\n",
    "        #Cuts the size of the output in half, maxing over every 2 inputs\n",
    "        x = MaxPooling1D(pool_size=2)(x)\n",
    "        x = Conv1D(128, 3, strides=1, padding='same', activation='relu')(x)\n",
    "        x = GlobalMaxPooling1D()(x) \n",
    "        outputs = Dense(5, activation='softmax')(x)\n",
    "\n",
    "        model = Model(inputs=inputs, outputs=outputs, name='CNN')\n",
    "    elif architecture == 'lstm':\n",
    "        # LSTM network\n",
    "        inputs = Input(shape=(128,1))\n",
    "\n",
    "        x = Bidirectional(LSTM(64, return_sequences=True),\n",
    "                          merge_mode='concat')(inputs)\n",
    "        x = Dropout(0.2)(x)\n",
    "        x = Flatten()(x)\n",
    "        outputs = Dense(5, activation='softmax')(x)\n",
    "\n",
    "        model = Model(inputs=inputs, outputs=outputs, name='LSTM')\n",
    "    else:\n",
    "        print('Error: Model type not found.')\n",
    "    return model"
   ]
  },
  {
   "cell_type": "code",
   "execution_count": 9,
   "metadata": {
    "ExecuteTime": {
     "end_time": "2018-04-27T20:47:42.537369Z",
     "start_time": "2018-04-27T20:47:42.535236Z"
    }
   },
   "outputs": [],
   "source": [
    "from keras.utils import to_categorical\n",
    "\n",
    "y_train_ohe = to_categorical(y_train)"
   ]
  },
  {
   "cell_type": "code",
   "execution_count": 10,
   "metadata": {
    "ExecuteTime": {
     "end_time": "2018-04-27T20:47:42.555770Z",
     "start_time": "2018-04-27T20:47:42.538717Z"
    }
   },
   "outputs": [],
   "source": [
    "from sklearn.model_selection import train_test_split\n",
    "\n",
    "X_train, X_test, y_train, y_test = train_test_split(train_vec, y_train_ohe, test_size=0.2, random_state=21)"
   ]
  },
  {
   "cell_type": "code",
   "execution_count": 11,
   "metadata": {
    "ExecuteTime": {
     "end_time": "2018-04-27T20:47:42.566701Z",
     "start_time": "2018-04-27T20:47:42.557098Z"
    }
   },
   "outputs": [],
   "source": [
    "from keras import backend as K\n",
    "\n",
    "def precision(y_true, y_pred):\n",
    "    \"\"\"Precision metric.\n",
    "\n",
    "    Only computes a batch-wise average of precision.\n",
    "\n",
    "    Computes the precision, a metric for multi-label classification of\n",
    "    how many selected items are relevant.\n",
    "    \"\"\"\n",
    "    true_positives = K.sum(K.round(K.clip(y_true * y_pred, 0, 1)))\n",
    "    predicted_positives = K.sum(K.round(K.clip(y_pred, 0, 1)))\n",
    "    precision = true_positives / (predicted_positives + K.epsilon())\n",
    "    return precision\n",
    "\n",
    "def recall(y_true, y_pred):\n",
    "    \"\"\"Recall metric.\n",
    "\n",
    "    Only computes a batch-wise average of recall.\n",
    "\n",
    "    Computes the recall, a metric for multi-label classification of\n",
    "    how many relevant items are selected.\n",
    "    \"\"\"\n",
    "    true_positives = K.sum(K.round(K.clip(y_true * y_pred, 0, 1)))\n",
    "    possible_positives = K.sum(K.round(K.clip(y_true, 0, 1)))\n",
    "    recall = true_positives / (possible_positives + K.epsilon())\n",
    "    return recall\n",
    "\n",
    "def f1(y_true, y_pred):\n",
    "    def recall(y_true, y_pred):\n",
    "        \"\"\"Recall metric.\n",
    "\n",
    "        Only computes a batch-wise average of recall.\n",
    "\n",
    "        Computes the recall, a metric for multi-label classification of\n",
    "        how many relevant items are selected.\n",
    "        \"\"\"\n",
    "        true_positives = K.sum(K.round(K.clip(y_true * y_pred, 0, 1)))\n",
    "        possible_positives = K.sum(K.round(K.clip(y_true, 0, 1)))\n",
    "        recall = true_positives / (possible_positives + K.epsilon())\n",
    "        return recall\n",
    "\n",
    "    def precision(y_true, y_pred):\n",
    "        \"\"\"Precision metric.\n",
    "\n",
    "        Only computes a batch-wise average of precision.\n",
    "\n",
    "        Computes the precision, a metric for multi-label classification of\n",
    "        how many selected items are relevant.\n",
    "        \"\"\"\n",
    "        true_positives = K.sum(K.round(K.clip(y_true * y_pred, 0, 1)))\n",
    "        predicted_positives = K.sum(K.round(K.clip(y_pred, 0, 1)))\n",
    "        precision = true_positives / (predicted_positives + K.epsilon())\n",
    "        return precision\n",
    "    precision = precision(y_true, y_pred)\n",
    "    recall = recall(y_true, y_pred)\n",
    "    return 2*((precision*recall)/(precision+recall))"
   ]
  },
  {
   "cell_type": "code",
   "execution_count": 12,
   "metadata": {
    "ExecuteTime": {
     "end_time": "2018-04-27T20:47:42.692939Z",
     "start_time": "2018-04-27T20:47:42.567959Z"
    }
   },
   "outputs": [
    {
     "name": "stdout",
     "output_type": "stream",
     "text": [
      "_________________________________________________________________\n",
      "Layer (type)                 Output Shape              Param #   \n",
      "=================================================================\n",
      "dense_1 (Dense)              (None, 512)               66048     \n",
      "_________________________________________________________________\n",
      "dropout_1 (Dropout)          (None, 512)               0         \n",
      "_________________________________________________________________\n",
      "dense_2 (Dense)              (None, 512)               262656    \n",
      "_________________________________________________________________\n",
      "dropout_2 (Dropout)          (None, 512)               0         \n",
      "_________________________________________________________________\n",
      "dense_3 (Dense)              (None, 512)               262656    \n",
      "_________________________________________________________________\n",
      "dropout_3 (Dropout)          (None, 512)               0         \n",
      "_________________________________________________________________\n",
      "dense_4 (Dense)              (None, 512)               262656    \n",
      "_________________________________________________________________\n",
      "dropout_4 (Dropout)          (None, 512)               0         \n",
      "_________________________________________________________________\n",
      "dense_5 (Dense)              (None, 5)                 2565      \n",
      "=================================================================\n",
      "Total params: 856,581\n",
      "Trainable params: 856,581\n",
      "Non-trainable params: 0\n",
      "_________________________________________________________________\n"
     ]
    }
   ],
   "source": [
    "# Define keras model\n",
    "# Using MLP in kernel for speed\n",
    "model = build_model()\n",
    "# model = build_model('cnn')\n",
    "#model = build_model('lstm')\n",
    "\n",
    "# If the model is a CNN then expand the dimensions of the training data\n",
    "if model.name == \"CNN\" or model.name == \"LSTM\":\n",
    "    X_train = np.expand_dims(X_train, axis=2)\n",
    "    X_test = np.expand_dims(X_test, axis=2)\n",
    "    print('Text train shape: ', X_test.shape)\n",
    "    print('Text test shape: ', X_test.shape)\n",
    "    \n",
    "model.summary()\n",
    "\n",
    "model.compile(optimizer='adam', loss='categorical_crossentropy', metrics=[precision, recall, f1])"
   ]
  },
  {
   "cell_type": "code",
   "execution_count": 13,
   "metadata": {
    "ExecuteTime": {
     "end_time": "2018-04-27T20:47:51.770017Z",
     "start_time": "2018-04-27T20:47:42.694392Z"
    }
   },
   "outputs": [
    {
     "name": "stdout",
     "output_type": "stream",
     "text": [
      "Train on 6632 samples, validate on 1659 samples\n",
      "Epoch 1/50\n",
      "6632/6632 [==============================] - 1s 134us/step - loss: 1.3578 - precision: 0.5480 - recall: 0.3438 - f1: 0.4088 - val_loss: 1.2338 - val_precision: 0.6336 - val_recall: 0.0723 - val_f1: 0.1295\n",
      "Epoch 2/50\n",
      "6632/6632 [==============================] - 0s 28us/step - loss: 1.2642 - precision: 0.5630 - recall: 0.3378 - f1: 0.4022 - val_loss: 1.2420 - val_precision: 0.6823 - val_recall: 0.0494 - val_f1: 0.0917\n",
      "Epoch 3/50\n",
      "6632/6632 [==============================] - 0s 26us/step - loss: 1.2575 - precision: 0.5704 - recall: 0.3494 - f1: 0.4210 - val_loss: 1.1978 - val_precision: 0.5936 - val_recall: 0.4014 - val_f1: 0.4786\n",
      "Epoch 4/50\n",
      "6632/6632 [==============================] - 0s 26us/step - loss: 1.2423 - precision: 0.5790 - recall: 0.3593 - f1: 0.4315 - val_loss: 1.2408 - val_precision: 0.7558 - val_recall: 0.0362 - val_f1: 0.0686\n",
      "Epoch 5/50\n",
      "6632/6632 [==============================] - 0s 23us/step - loss: 1.2276 - precision: 0.5807 - recall: 0.3655 - f1: 0.4387 - val_loss: 1.2010 - val_precision: 0.6720 - val_recall: 0.2104 - val_f1: 0.3191\n",
      "Epoch 6/50\n",
      "6632/6632 [==============================] - 0s 23us/step - loss: 1.2182 - precision: 0.5931 - recall: 0.3661 - f1: 0.4439 - val_loss: 1.2044 - val_precision: 0.6882 - val_recall: 0.1567 - val_f1: 0.2542\n",
      "Epoch 7/50\n",
      "6632/6632 [==============================] - 0s 23us/step - loss: 1.2057 - precision: 0.5985 - recall: 0.3568 - f1: 0.4382 - val_loss: 1.1814 - val_precision: 0.6638 - val_recall: 0.2923 - val_f1: 0.4049\n",
      "Epoch 8/50\n",
      "6632/6632 [==============================] - 0s 24us/step - loss: 1.2023 - precision: 0.6144 - recall: 0.3560 - f1: 0.4371 - val_loss: 1.1682 - val_precision: 0.6124 - val_recall: 0.4207 - val_f1: 0.4984\n",
      "Epoch 9/50\n",
      "6632/6632 [==============================] - 0s 23us/step - loss: 1.1915 - precision: 0.6001 - recall: 0.3833 - f1: 0.4629 - val_loss: 1.1851 - val_precision: 0.7219 - val_recall: 0.1754 - val_f1: 0.2817\n",
      "Epoch 10/50\n",
      "6632/6632 [==============================] - 0s 23us/step - loss: 1.1816 - precision: 0.6168 - recall: 0.3770 - f1: 0.4579 - val_loss: 1.1587 - val_precision: 0.5926 - val_recall: 0.4533 - val_f1: 0.5133\n",
      "Epoch 11/50\n",
      "6632/6632 [==============================] - 0s 23us/step - loss: 1.1734 - precision: 0.6189 - recall: 0.3869 - f1: 0.4696 - val_loss: 1.1649 - val_precision: 0.6922 - val_recall: 0.2333 - val_f1: 0.3482\n",
      "Epoch 12/50\n",
      "6632/6632 [==============================] - 0s 23us/step - loss: 1.1653 - precision: 0.6203 - recall: 0.3822 - f1: 0.4663 - val_loss: 1.1805 - val_precision: 0.6748 - val_recall: 0.1796 - val_f1: 0.2832\n",
      "Epoch 13/50\n",
      "6632/6632 [==============================] - 0s 24us/step - loss: 1.1524 - precision: 0.6381 - recall: 0.3825 - f1: 0.4699 - val_loss: 1.1428 - val_precision: 0.6338 - val_recall: 0.3996 - val_f1: 0.4895\n",
      "Epoch 14/50\n",
      "6632/6632 [==============================] - 0s 24us/step - loss: 1.1360 - precision: 0.6213 - recall: 0.4088 - f1: 0.4907 - val_loss: 1.1793 - val_precision: 0.6901 - val_recall: 0.1869 - val_f1: 0.2931\n",
      "Epoch 15/50\n",
      "6632/6632 [==============================] - 0s 24us/step - loss: 1.1255 - precision: 0.6493 - recall: 0.3978 - f1: 0.4884 - val_loss: 1.1630 - val_precision: 0.6181 - val_recall: 0.4057 - val_f1: 0.4889\n",
      "Epoch 16/50\n",
      "6632/6632 [==============================] - 0s 24us/step - loss: 1.1224 - precision: 0.6368 - recall: 0.4024 - f1: 0.4892 - val_loss: 1.1480 - val_precision: 0.6297 - val_recall: 0.4237 - val_f1: 0.5062\n",
      "Epoch 17/50\n",
      "6632/6632 [==============================] - 0s 23us/step - loss: 1.1137 - precision: 0.6418 - recall: 0.4088 - f1: 0.4942 - val_loss: 1.1435 - val_precision: 0.6268 - val_recall: 0.4141 - val_f1: 0.4986\n",
      "Epoch 18/50\n",
      "6632/6632 [==============================] - 0s 24us/step - loss: 1.0824 - precision: 0.6571 - recall: 0.4288 - f1: 0.5172 - val_loss: 1.1443 - val_precision: 0.6319 - val_recall: 0.4069 - val_f1: 0.4944\n",
      "Epoch 19/50\n",
      "6632/6632 [==============================] - 0s 24us/step - loss: 1.0881 - precision: 0.6511 - recall: 0.4214 - f1: 0.5070 - val_loss: 1.1626 - val_precision: 0.6248 - val_recall: 0.4111 - val_f1: 0.4956\n",
      "Epoch 20/50\n",
      "6632/6632 [==============================] - 0s 24us/step - loss: 1.0668 - precision: 0.6547 - recall: 0.4334 - f1: 0.5193 - val_loss: 1.1683 - val_precision: 0.6293 - val_recall: 0.3677 - val_f1: 0.4640\n",
      "Epoch 21/50\n",
      "6632/6632 [==============================] - 0s 24us/step - loss: 1.0555 - precision: 0.6616 - recall: 0.4516 - f1: 0.5350 - val_loss: 1.1505 - val_precision: 0.6171 - val_recall: 0.4292 - val_f1: 0.5056\n",
      "Epoch 22/50\n",
      "6632/6632 [==============================] - 0s 24us/step - loss: 1.0478 - precision: 0.6688 - recall: 0.4400 - f1: 0.5281 - val_loss: 1.1670 - val_precision: 0.6434 - val_recall: 0.3466 - val_f1: 0.4503\n",
      "Epoch 23/50\n",
      "6632/6632 [==============================] - 0s 23us/step - loss: 1.0317 - precision: 0.6697 - recall: 0.4661 - f1: 0.5478 - val_loss: 1.1902 - val_precision: 0.6134 - val_recall: 0.3918 - val_f1: 0.4780\n",
      "Epoch 24/50\n",
      "6632/6632 [==============================] - 0s 23us/step - loss: 1.0290 - precision: 0.6747 - recall: 0.4707 - f1: 0.5516 - val_loss: 1.1964 - val_precision: 0.6279 - val_recall: 0.2610 - val_f1: 0.3685\n",
      "Epoch 25/50\n",
      "6632/6632 [==============================] - 0s 23us/step - loss: 0.9896 - precision: 0.6871 - recall: 0.4931 - f1: 0.5726 - val_loss: 1.1850 - val_precision: 0.6021 - val_recall: 0.3990 - val_f1: 0.4799\n",
      "Epoch 26/50\n",
      "6632/6632 [==============================] - 0s 24us/step - loss: 0.9833 - precision: 0.6861 - recall: 0.5005 - f1: 0.5779 - val_loss: 1.2187 - val_precision: 0.6025 - val_recall: 0.4280 - val_f1: 0.4999\n",
      "Epoch 27/50\n",
      "6632/6632 [==============================] - 0s 24us/step - loss: 0.9730 - precision: 0.7001 - recall: 0.4913 - f1: 0.5754 - val_loss: 1.1913 - val_precision: 0.6044 - val_recall: 0.4045 - val_f1: 0.4841\n",
      "Epoch 28/50\n",
      "6632/6632 [==============================] - 0s 23us/step - loss: 0.9531 - precision: 0.6966 - recall: 0.5160 - f1: 0.5918 - val_loss: 1.2025 - val_precision: 0.6090 - val_recall: 0.4201 - val_f1: 0.4968\n",
      "Epoch 29/50\n",
      "6632/6632 [==============================] - 0s 23us/step - loss: 0.9320 - precision: 0.7104 - recall: 0.5252 - f1: 0.6025 - val_loss: 1.2028 - val_precision: 0.5955 - val_recall: 0.4659 - val_f1: 0.5226\n",
      "Epoch 30/50\n",
      "6632/6632 [==============================] - 0s 24us/step - loss: 0.9294 - precision: 0.6971 - recall: 0.5286 - f1: 0.6005 - val_loss: 1.2114 - val_precision: 0.6117 - val_recall: 0.3767 - val_f1: 0.4660\n",
      "Epoch 31/50\n",
      "6632/6632 [==============================] - 0s 25us/step - loss: 0.8962 - precision: 0.7206 - recall: 0.5448 - f1: 0.6194 - val_loss: 1.2438 - val_precision: 0.5894 - val_recall: 0.4153 - val_f1: 0.4870\n",
      "Epoch 32/50\n",
      "6632/6632 [==============================] - 0s 23us/step - loss: 0.8937 - precision: 0.7205 - recall: 0.5537 - f1: 0.6249 - val_loss: 1.2604 - val_precision: 0.5877 - val_recall: 0.3617 - val_f1: 0.4476\n",
      "Epoch 33/50\n",
      "6632/6632 [==============================] - 0s 25us/step - loss: 0.8780 - precision: 0.7187 - recall: 0.5600 - f1: 0.6288 - val_loss: 1.2203 - val_precision: 0.6093 - val_recall: 0.4244 - val_f1: 0.5001\n",
      "Epoch 34/50\n",
      "6632/6632 [==============================] - 0s 24us/step - loss: 0.8716 - precision: 0.7282 - recall: 0.5547 - f1: 0.6290 - val_loss: 1.2349 - val_precision: 0.5859 - val_recall: 0.3623 - val_f1: 0.4474\n",
      "Epoch 35/50\n",
      "6632/6632 [==============================] - 0s 24us/step - loss: 0.8587 - precision: 0.7322 - recall: 0.5697 - f1: 0.6400 - val_loss: 1.2434 - val_precision: 0.5952 - val_recall: 0.3942 - val_f1: 0.4737\n",
      "Epoch 36/50\n",
      "6632/6632 [==============================] - 0s 24us/step - loss: 0.8377 - precision: 0.7426 - recall: 0.5814 - f1: 0.6511 - val_loss: 1.3380 - val_precision: 0.5625 - val_recall: 0.3641 - val_f1: 0.4417\n",
      "Epoch 37/50\n",
      "6632/6632 [==============================] - 0s 22us/step - loss: 0.8104 - precision: 0.7425 - recall: 0.5976 - f1: 0.6614 - val_loss: 1.3165 - val_precision: 0.5865 - val_recall: 0.3520 - val_f1: 0.4394\n",
      "Epoch 38/50\n",
      "6632/6632 [==============================] - 0s 23us/step - loss: 0.7991 - precision: 0.7451 - recall: 0.5994 - f1: 0.6635 - val_loss: 1.3470 - val_precision: 0.5684 - val_recall: 0.3550 - val_f1: 0.4369\n"
     ]
    },
    {
     "name": "stdout",
     "output_type": "stream",
     "text": [
      "Epoch 39/50\n",
      "6632/6632 [==============================] - 0s 29us/step - loss: 0.7851 - precision: 0.7515 - recall: 0.6125 - f1: 0.6744 - val_loss: 1.3228 - val_precision: 0.5778 - val_recall: 0.4237 - val_f1: 0.4887\n",
      "Epoch 40/50\n",
      "6632/6632 [==============================] - 0s 27us/step - loss: 0.7897 - precision: 0.7535 - recall: 0.6031 - f1: 0.6694 - val_loss: 1.3519 - val_precision: 0.5584 - val_recall: 0.4081 - val_f1: 0.4713\n",
      "Epoch 41/50\n",
      "6632/6632 [==============================] - 0s 23us/step - loss: 0.7763 - precision: 0.7517 - recall: 0.6191 - f1: 0.6782 - val_loss: 1.2986 - val_precision: 0.5963 - val_recall: 0.4551 - val_f1: 0.5158\n",
      "Epoch 42/50\n",
      "6632/6632 [==============================] - 0s 24us/step - loss: 0.7499 - precision: 0.7666 - recall: 0.6295 - f1: 0.6910 - val_loss: 1.3902 - val_precision: 0.5692 - val_recall: 0.4189 - val_f1: 0.4824\n",
      "Epoch 43/50\n",
      "6632/6632 [==============================] - 0s 24us/step - loss: 0.7239 - precision: 0.7692 - recall: 0.6350 - f1: 0.6952 - val_loss: 1.4790 - val_precision: 0.5621 - val_recall: 0.4497 - val_f1: 0.4994\n",
      "Epoch 44/50\n",
      "6632/6632 [==============================] - 0s 29us/step - loss: 0.7259 - precision: 0.7728 - recall: 0.6466 - f1: 0.7036 - val_loss: 1.3662 - val_precision: 0.5691 - val_recall: 0.4509 - val_f1: 0.5030\n",
      "Epoch 45/50\n",
      "6632/6632 [==============================] - 0s 25us/step - loss: 0.7252 - precision: 0.7706 - recall: 0.6497 - f1: 0.7046 - val_loss: 1.3945 - val_precision: 0.5735 - val_recall: 0.4020 - val_f1: 0.4721\n",
      "Epoch 46/50\n",
      "6632/6632 [==============================] - 0s 24us/step - loss: 0.6977 - precision: 0.7751 - recall: 0.6544 - f1: 0.7093 - val_loss: 1.4525 - val_precision: 0.5576 - val_recall: 0.4352 - val_f1: 0.4887\n",
      "Epoch 47/50\n",
      "6632/6632 [==============================] - 0s 23us/step - loss: 0.6979 - precision: 0.7798 - recall: 0.6564 - f1: 0.7124 - val_loss: 1.4219 - val_precision: 0.5608 - val_recall: 0.4292 - val_f1: 0.4860\n",
      "Epoch 48/50\n",
      "6632/6632 [==============================] - 0s 22us/step - loss: 0.6738 - precision: 0.7892 - recall: 0.6725 - f1: 0.7258 - val_loss: 1.3934 - val_precision: 0.5563 - val_recall: 0.4262 - val_f1: 0.4823\n",
      "Epoch 49/50\n",
      "6632/6632 [==============================] - 0s 24us/step - loss: 0.6505 - precision: 0.7923 - recall: 0.6900 - f1: 0.7374 - val_loss: 1.4828 - val_precision: 0.5536 - val_recall: 0.4485 - val_f1: 0.4953\n",
      "Epoch 50/50\n",
      "6632/6632 [==============================] - 0s 27us/step - loss: 0.6403 - precision: 0.7955 - recall: 0.6930 - f1: 0.7405 - val_loss: 1.5005 - val_precision: 0.5417 - val_recall: 0.4153 - val_f1: 0.4701\n"
     ]
    }
   ],
   "source": [
    "# Define number of epochs\n",
    "epochs = 50\n",
    "\n",
    "# Fit the model to the training data\n",
    "estimator = model.fit(X_train, y_train,\n",
    "                      validation_split=0.2,\n",
    "                      epochs=epochs, batch_size=128, verbose=1)"
   ]
  },
  {
   "cell_type": "code",
   "execution_count": null,
   "metadata": {},
   "outputs": [],
   "source": []
  }
 ],
 "metadata": {
  "kernelspec": {
   "display_name": "Python 3",
   "language": "python",
   "name": "python3"
  },
  "language_info": {
   "codemirror_mode": {
    "name": "ipython",
    "version": 3
   },
   "file_extension": ".py",
   "mimetype": "text/x-python",
   "name": "python",
   "nbconvert_exporter": "python",
   "pygments_lexer": "ipython3",
   "version": "3.6.5"
  },
  "toc": {
   "base_numbering": 1,
   "nav_menu": {},
   "number_sections": true,
   "sideBar": true,
   "skip_h1_title": false,
   "title_cell": "Table of Contents",
   "title_sidebar": "Contents",
   "toc_cell": false,
   "toc_position": {},
   "toc_section_display": true,
   "toc_window_display": false
  }
 },
 "nbformat": 4,
 "nbformat_minor": 2
}
