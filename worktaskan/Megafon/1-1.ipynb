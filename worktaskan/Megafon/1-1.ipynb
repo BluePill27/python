{
 "cells": [
  {
   "cell_type": "code",
   "execution_count": 1,
   "metadata": {
    "ExecuteTime": {
     "end_time": "2018-08-11T10:28:31.433385Z",
     "start_time": "2018-08-11T10:28:30.484048Z"
    }
   },
   "outputs": [],
   "source": [
    "import pandas as pd\n",
    "import numpy as np\n",
    "\n",
    "from sklearn.linear_model import LogisticRegression\n",
    "from sklearn.model_selection import StratifiedKFold, GridSearchCV\n",
    "\n",
    "import datetime\n",
    "\n",
    "from sklearn.pipeline import Pipeline\n",
    "\n",
    "from sklearn.preprocessing import StandardScaler\n",
    "\n",
    "import matplotlib.pyplot as plt\n",
    "%matplotlib inline  "
   ]
  },
  {
   "cell_type": "code",
   "execution_count": 2,
   "metadata": {
    "ExecuteTime": {
     "end_time": "2018-08-11T10:28:33.121172Z",
     "start_time": "2018-08-11T10:28:31.434982Z"
    }
   },
   "outputs": [],
   "source": [
    "train = pd.read_csv('contest_train.csv', index_col = 'ID')\n",
    "X_test = pd.read_csv('contest_test.csv')"
   ]
  },
  {
   "cell_type": "code",
   "execution_count": 3,
   "metadata": {
    "ExecuteTime": {
     "end_time": "2018-08-11T10:28:33.126711Z",
     "start_time": "2018-08-11T10:28:33.122706Z"
    }
   },
   "outputs": [],
   "source": [
    "from sklearn.model_selection import train_test_split"
   ]
  },
  {
   "cell_type": "code",
   "execution_count": 4,
   "metadata": {
    "ExecuteTime": {
     "end_time": "2018-08-11T10:28:33.217047Z",
     "start_time": "2018-08-11T10:28:33.130265Z"
    },
    "run_control": {
     "marked": true
    }
   },
   "outputs": [],
   "source": [
    "X_train, X_test, y_train, y_test = train_test_split(train[[c for c in train.columns if c != 'TARGET']], train[['TARGET']], test_size=0.33, random_state=42)"
   ]
  },
  {
   "cell_type": "code",
   "execution_count": 5,
   "metadata": {
    "ExecuteTime": {
     "end_time": "2018-08-11T10:28:40.462347Z",
     "start_time": "2018-08-11T10:28:33.219110Z"
    },
    "run_control": {
     "marked": false
    }
   },
   "outputs": [],
   "source": [
    "X_train.to_csv('X_train.csv' ,index=True)\n",
    "X_test.to_csv('X_test.csv' ,index=True)\n",
    "y_train.to_csv('y_train.csv' ,index=True)\n",
    "y_test.to_csv('y_test.csv' ,index=True)"
   ]
  },
  {
   "cell_type": "code",
   "execution_count": 6,
   "metadata": {
    "ExecuteTime": {
     "end_time": "2018-08-11T10:28:40.583501Z",
     "start_time": "2018-08-11T10:28:40.463962Z"
    }
   },
   "outputs": [],
   "source": [
    "X_train.fillna(-999 ,inplace = True)\n",
    "y_train.fillna(-999 ,inplace = True)\n",
    "X_test.fillna(-999, inplace = True)"
   ]
  },
  {
   "cell_type": "code",
   "execution_count": 7,
   "metadata": {
    "ExecuteTime": {
     "end_time": "2018-08-11T10:28:42.638751Z",
     "start_time": "2018-08-11T10:28:40.585318Z"
    }
   },
   "outputs": [
    {
     "name": "stderr",
     "output_type": "stream",
     "text": [
      "/home/denis/anaconda3/lib/python3.6/site-packages/ipykernel_launcher.py:8: DataConversionWarning: A column-vector y was passed when a 1d array was expected. Please change the shape of y to (n_samples,), for example using ravel().\n",
      "  \n"
     ]
    }
   ],
   "source": [
    "from sklearn.ensemble import RandomForestClassifier\n",
    "from sklearn.datasets import load_iris\n",
    "from sklearn.feature_selection import SelectFromModel\n",
    "iris = load_iris()\n",
    "\n",
    "\n",
    "clf = RandomForestClassifier()\n",
    "clf = clf.fit(X_train, y_train)\n",
    "clf.feature_importances_  \n",
    "\n",
    "model = SelectFromModel(clf, prefit=True)\n",
    "X_test_new = model.transform(X_test)\n",
    "X_train_new = model.transform(X_train)"
   ]
  },
  {
   "cell_type": "code",
   "execution_count": 8,
   "metadata": {
    "ExecuteTime": {
     "end_time": "2018-08-11T10:28:44.879920Z",
     "start_time": "2018-08-11T10:28:42.642391Z"
    }
   },
   "outputs": [
    {
     "name": "stderr",
     "output_type": "stream",
     "text": [
      "/home/denis/anaconda3/lib/python3.6/site-packages/ipykernel_launcher.py:1: DataConversionWarning: A column-vector y was passed when a 1d array was expected. Please change the shape of y to (n_samples,), for example using ravel().\n",
      "  \"\"\"Entry point for launching an IPython kernel.\n"
     ]
    },
    {
     "data": {
      "text/plain": [
       "RandomForestClassifier(bootstrap=True, class_weight=None, criterion='gini',\n",
       "            max_depth=None, max_features='auto', max_leaf_nodes=None,\n",
       "            min_impurity_decrease=0.0, min_impurity_split=None,\n",
       "            min_samples_leaf=1, min_samples_split=2,\n",
       "            min_weight_fraction_leaf=0.0, n_estimators=10, n_jobs=1,\n",
       "            oob_score=False, random_state=None, verbose=0,\n",
       "            warm_start=False)"
      ]
     },
     "execution_count": 8,
     "metadata": {},
     "output_type": "execute_result"
    }
   ],
   "source": [
    "clf.fit(X_train_new, y_train)"
   ]
  },
  {
   "cell_type": "code",
   "execution_count": 9,
   "metadata": {
    "ExecuteTime": {
     "end_time": "2018-08-11T10:28:44.954447Z",
     "start_time": "2018-08-11T10:28:44.882290Z"
    }
   },
   "outputs": [],
   "source": [
    "predict = clf.predict(X_test_new)"
   ]
  },
  {
   "cell_type": "code",
   "execution_count": 10,
   "metadata": {
    "ExecuteTime": {
     "end_time": "2018-08-11T10:28:44.996748Z",
     "start_time": "2018-08-11T10:28:44.956299Z"
    }
   },
   "outputs": [],
   "source": [
    "y_test['TARGET'] = predict"
   ]
  },
  {
   "cell_type": "code",
   "execution_count": 11,
   "metadata": {
    "ExecuteTime": {
     "end_time": "2018-08-11T10:28:45.030892Z",
     "start_time": "2018-08-11T10:28:44.998774Z"
    }
   },
   "outputs": [],
   "source": [
    "y_test.to_csv('predict.csv', index = True)"
   ]
  },
  {
   "cell_type": "code",
   "execution_count": 12,
   "metadata": {
    "ExecuteTime": {
     "end_time": "2018-08-11T10:28:45.034945Z",
     "start_time": "2018-08-11T10:28:45.032515Z"
    }
   },
   "outputs": [],
   "source": [
    "from sklearn.feature_selection import f_classif"
   ]
  },
  {
   "cell_type": "code",
   "execution_count": 23,
   "metadata": {
    "ExecuteTime": {
     "end_time": "2018-08-11T10:29:45.100933Z",
     "start_time": "2018-08-11T10:29:45.035581Z"
    },
    "run_control": {
     "marked": false
    }
   },
   "outputs": [
    {
     "name": "stderr",
     "output_type": "stream",
     "text": [
      "/home/denis/anaconda3/lib/python3.6/site-packages/sklearn/utils/validation.py:578: DataConversionWarning: A column-vector y was passed when a 1d array was expected. Please change the shape of y to (n_samples, ), for example using ravel().\n",
      "  y = column_or_1d(y, warn=True)\n",
      "/home/denis/anaconda3/lib/python3.6/site-packages/sklearn/feature_selection/univariate_selection.py:113: UserWarning: Features [  3 144 249 256] are constant.\n",
      "  UserWarning)\n",
      "/home/denis/anaconda3/lib/python3.6/site-packages/sklearn/feature_selection/univariate_selection.py:114: RuntimeWarning: invalid value encountered in true_divide\n",
      "  f = msb / msw\n"
     ]
    }
   ],
   "source": [
    "selected_feature = pd.DataFrame(f_classif(X_train, y_train)[0], index = X_test.columns).sort_values(by = 0, ascending = False)"
   ]
  },
  {
   "cell_type": "code",
   "execution_count": 24,
   "metadata": {
    "ExecuteTime": {
     "end_time": "2018-08-11T10:29:45.647107Z",
     "start_time": "2018-08-11T10:29:45.644366Z"
    },
    "scrolled": true
   },
   "outputs": [],
   "source": [
    "mask = selected_feature.head(30).index"
   ]
  },
  {
   "cell_type": "code",
   "execution_count": 25,
   "metadata": {
    "ExecuteTime": {
     "end_time": "2018-08-11T10:29:51.909153Z",
     "start_time": "2018-08-11T10:29:46.588124Z"
    }
   },
   "outputs": [
    {
     "name": "stderr",
     "output_type": "stream",
     "text": [
      "/home/denis/anaconda3/lib/python3.6/site-packages/sklearn/preprocessing/label.py:95: DataConversionWarning: A column-vector y was passed when a 1d array was expected. Please change the shape of y to (n_samples, ), for example using ravel().\n",
      "  y = column_or_1d(y, warn=True)\n",
      "/home/denis/anaconda3/lib/python3.6/site-packages/sklearn/preprocessing/label.py:128: DataConversionWarning: A column-vector y was passed when a 1d array was expected. Please change the shape of y to (n_samples, ), for example using ravel().\n",
      "  y = column_or_1d(y, warn=True)\n"
     ]
    },
    {
     "data": {
      "text/plain": [
       "XGBClassifier(base_score=0.5, booster='gbtree', colsample_bylevel=1,\n",
       "       colsample_bytree=1, gamma=0, learning_rate=0.1, max_delta_step=0,\n",
       "       max_depth=3, min_child_weight=1, missing=None, n_estimators=100,\n",
       "       n_jobs=1, nthread=None, objective='multi:softprob', random_state=0,\n",
       "       reg_alpha=0, reg_lambda=1, scale_pos_weight=1, seed=None,\n",
       "       silent=True, subsample=1)"
      ]
     },
     "execution_count": 25,
     "metadata": {},
     "output_type": "execute_result"
    }
   ],
   "source": [
    "clf.fit(X_train[mask], y_train)"
   ]
  },
  {
   "cell_type": "code",
   "execution_count": 26,
   "metadata": {
    "ExecuteTime": {
     "end_time": "2018-08-11T10:29:56.360291Z",
     "start_time": "2018-08-11T10:29:56.259117Z"
    }
   },
   "outputs": [
    {
     "name": "stderr",
     "output_type": "stream",
     "text": [
      "/home/denis/anaconda3/lib/python3.6/site-packages/sklearn/preprocessing/label.py:151: DeprecationWarning: The truth value of an empty array is ambiguous. Returning False, but in future this will result in an error. Use `array.size > 0` to check that an array is not empty.\n",
      "  if diff:\n"
     ]
    }
   ],
   "source": [
    "predict = clf.predict(X_test[mask])\n",
    "y_test['TARGET'] = predict\n",
    "y_test.to_csv('predict.csv', index = True)"
   ]
  },
  {
   "cell_type": "code",
   "execution_count": 17,
   "metadata": {
    "ExecuteTime": {
     "end_time": "2018-08-11T10:28:45.788608Z",
     "start_time": "2018-08-11T10:28:45.780526Z"
    }
   },
   "outputs": [
    {
     "data": {
      "text/plain": [
       "0    11625\n",
       "1     3812\n",
       "2      992\n",
       "Name: TARGET, dtype: int64"
      ]
     },
     "execution_count": 17,
     "metadata": {},
     "output_type": "execute_result"
    }
   ],
   "source": [
    "y_train['TARGET'].value_counts()"
   ]
  },
  {
   "cell_type": "code",
   "execution_count": 18,
   "metadata": {
    "ExecuteTime": {
     "end_time": "2018-08-11T10:28:45.800362Z",
     "start_time": "2018-08-11T10:28:45.793992Z"
    }
   },
   "outputs": [],
   "source": [
    "y_test['TARGET'] = 0"
   ]
  },
  {
   "cell_type": "code",
   "execution_count": 19,
   "metadata": {
    "ExecuteTime": {
     "end_time": "2018-08-11T10:28:45.828376Z",
     "start_time": "2018-08-11T10:28:45.802088Z"
    }
   },
   "outputs": [],
   "source": [
    "y_test.to_csv('predict.csv', index = True)"
   ]
  },
  {
   "cell_type": "code",
   "execution_count": 21,
   "metadata": {
    "ExecuteTime": {
     "end_time": "2018-08-11T10:29:13.072524Z",
     "start_time": "2018-08-11T10:29:13.068251Z"
    }
   },
   "outputs": [],
   "source": [
    "from xgboost import XGBClassifier"
   ]
  },
  {
   "cell_type": "code",
   "execution_count": 22,
   "metadata": {
    "ExecuteTime": {
     "end_time": "2018-08-11T10:29:29.953278Z",
     "start_time": "2018-08-11T10:29:29.947844Z"
    }
   },
   "outputs": [],
   "source": [
    "clf = XGBClassifier()"
   ]
  },
  {
   "cell_type": "code",
   "execution_count": 30,
   "metadata": {
    "ExecuteTime": {
     "end_time": "2018-08-11T10:32:35.095040Z",
     "start_time": "2018-08-11T10:32:34.660814Z"
    }
   },
   "outputs": [
    {
     "data": {
      "text/html": [
       "<div>\n",
       "<style scoped>\n",
       "    .dataframe tbody tr th:only-of-type {\n",
       "        vertical-align: middle;\n",
       "    }\n",
       "\n",
       "    .dataframe tbody tr th {\n",
       "        vertical-align: top;\n",
       "    }\n",
       "\n",
       "    .dataframe thead th {\n",
       "        text-align: right;\n",
       "    }\n",
       "</style>\n",
       "<table border=\"1\" class=\"dataframe\">\n",
       "  <thead>\n",
       "    <tr style=\"text-align: right;\">\n",
       "      <th></th>\n",
       "      <th>FEATURE_0</th>\n",
       "      <th>FEATURE_1</th>\n",
       "      <th>FEATURE_2</th>\n",
       "      <th>FEATURE_3</th>\n",
       "      <th>FEATURE_4</th>\n",
       "      <th>FEATURE_5</th>\n",
       "      <th>FEATURE_6</th>\n",
       "      <th>FEATURE_7</th>\n",
       "      <th>FEATURE_8</th>\n",
       "      <th>FEATURE_9</th>\n",
       "      <th>...</th>\n",
       "      <th>FEATURE_250</th>\n",
       "      <th>FEATURE_251</th>\n",
       "      <th>FEATURE_252</th>\n",
       "      <th>FEATURE_253</th>\n",
       "      <th>FEATURE_254</th>\n",
       "      <th>FEATURE_255</th>\n",
       "      <th>FEATURE_256</th>\n",
       "      <th>FEATURE_257</th>\n",
       "      <th>FEATURE_258</th>\n",
       "      <th>FEATURE_259</th>\n",
       "    </tr>\n",
       "  </thead>\n",
       "  <tbody>\n",
       "    <tr>\n",
       "      <th>count</th>\n",
       "      <td>16429.000000</td>\n",
       "      <td>16429.000000</td>\n",
       "      <td>16429.000000</td>\n",
       "      <td>16429.0</td>\n",
       "      <td>16429.000000</td>\n",
       "      <td>16429.000000</td>\n",
       "      <td>16429.000000</td>\n",
       "      <td>16429.000000</td>\n",
       "      <td>16429.000000</td>\n",
       "      <td>16429.000000</td>\n",
       "      <td>...</td>\n",
       "      <td>16429.000000</td>\n",
       "      <td>16429.000000</td>\n",
       "      <td>16429.000000</td>\n",
       "      <td>16429.000000</td>\n",
       "      <td>16429.000000</td>\n",
       "      <td>16429.000000</td>\n",
       "      <td>16429.0</td>\n",
       "      <td>16429.000000</td>\n",
       "      <td>16429.000000</td>\n",
       "      <td>16429.000000</td>\n",
       "    </tr>\n",
       "    <tr>\n",
       "      <th>mean</th>\n",
       "      <td>5.427780</td>\n",
       "      <td>1.342382</td>\n",
       "      <td>0.058372</td>\n",
       "      <td>0.0</td>\n",
       "      <td>0.143283</td>\n",
       "      <td>0.000061</td>\n",
       "      <td>0.010591</td>\n",
       "      <td>82.827312</td>\n",
       "      <td>217.863640</td>\n",
       "      <td>0.388033</td>\n",
       "      <td>...</td>\n",
       "      <td>40.983200</td>\n",
       "      <td>37.003469</td>\n",
       "      <td>308.093058</td>\n",
       "      <td>408.548114</td>\n",
       "      <td>0.617506</td>\n",
       "      <td>0.643922</td>\n",
       "      <td>0.0</td>\n",
       "      <td>1.139996</td>\n",
       "      <td>1.186743</td>\n",
       "      <td>1.185404</td>\n",
       "    </tr>\n",
       "    <tr>\n",
       "      <th>std</th>\n",
       "      <td>14.029009</td>\n",
       "      <td>1.832084</td>\n",
       "      <td>0.234453</td>\n",
       "      <td>0.0</td>\n",
       "      <td>0.350372</td>\n",
       "      <td>0.007802</td>\n",
       "      <td>0.102369</td>\n",
       "      <td>260.069491</td>\n",
       "      <td>1214.729293</td>\n",
       "      <td>0.865543</td>\n",
       "      <td>...</td>\n",
       "      <td>103.126306</td>\n",
       "      <td>105.671343</td>\n",
       "      <td>259.159003</td>\n",
       "      <td>347.014196</td>\n",
       "      <td>0.486011</td>\n",
       "      <td>0.478853</td>\n",
       "      <td>0.0</td>\n",
       "      <td>0.376605</td>\n",
       "      <td>0.408775</td>\n",
       "      <td>0.401881</td>\n",
       "    </tr>\n",
       "    <tr>\n",
       "      <th>min</th>\n",
       "      <td>0.000000</td>\n",
       "      <td>0.000000</td>\n",
       "      <td>0.000000</td>\n",
       "      <td>0.0</td>\n",
       "      <td>0.000000</td>\n",
       "      <td>0.000000</td>\n",
       "      <td>0.000000</td>\n",
       "      <td>-142.497595</td>\n",
       "      <td>-999.000000</td>\n",
       "      <td>0.000000</td>\n",
       "      <td>...</td>\n",
       "      <td>-616.000000</td>\n",
       "      <td>-331.000000</td>\n",
       "      <td>-1531.063435</td>\n",
       "      <td>-328.361649</td>\n",
       "      <td>0.000000</td>\n",
       "      <td>0.000000</td>\n",
       "      <td>0.0</td>\n",
       "      <td>1.000000</td>\n",
       "      <td>0.000000</td>\n",
       "      <td>1.000000</td>\n",
       "    </tr>\n",
       "    <tr>\n",
       "      <th>25%</th>\n",
       "      <td>0.000000</td>\n",
       "      <td>0.000000</td>\n",
       "      <td>0.000000</td>\n",
       "      <td>0.0</td>\n",
       "      <td>0.000000</td>\n",
       "      <td>0.000000</td>\n",
       "      <td>0.000000</td>\n",
       "      <td>-9.978446</td>\n",
       "      <td>-27.180793</td>\n",
       "      <td>0.000000</td>\n",
       "      <td>...</td>\n",
       "      <td>0.000000</td>\n",
       "      <td>0.000000</td>\n",
       "      <td>130.318236</td>\n",
       "      <td>181.521758</td>\n",
       "      <td>0.000000</td>\n",
       "      <td>0.000000</td>\n",
       "      <td>0.0</td>\n",
       "      <td>1.000000</td>\n",
       "      <td>1.000000</td>\n",
       "      <td>1.000000</td>\n",
       "    </tr>\n",
       "    <tr>\n",
       "      <th>50%</th>\n",
       "      <td>1.000000</td>\n",
       "      <td>1.000000</td>\n",
       "      <td>0.000000</td>\n",
       "      <td>0.0</td>\n",
       "      <td>0.000000</td>\n",
       "      <td>0.000000</td>\n",
       "      <td>0.000000</td>\n",
       "      <td>3.649486</td>\n",
       "      <td>2.095215</td>\n",
       "      <td>0.000000</td>\n",
       "      <td>...</td>\n",
       "      <td>5.000000</td>\n",
       "      <td>0.000000</td>\n",
       "      <td>267.324463</td>\n",
       "      <td>328.554173</td>\n",
       "      <td>1.000000</td>\n",
       "      <td>1.000000</td>\n",
       "      <td>0.0</td>\n",
       "      <td>1.000000</td>\n",
       "      <td>1.000000</td>\n",
       "      <td>1.000000</td>\n",
       "    </tr>\n",
       "    <tr>\n",
       "      <th>75%</th>\n",
       "      <td>5.000000</td>\n",
       "      <td>2.000000</td>\n",
       "      <td>0.000000</td>\n",
       "      <td>0.0</td>\n",
       "      <td>0.000000</td>\n",
       "      <td>0.000000</td>\n",
       "      <td>0.000000</td>\n",
       "      <td>27.468832</td>\n",
       "      <td>35.138901</td>\n",
       "      <td>0.000000</td>\n",
       "      <td>...</td>\n",
       "      <td>39.000000</td>\n",
       "      <td>10.000000</td>\n",
       "      <td>408.813903</td>\n",
       "      <td>536.222803</td>\n",
       "      <td>1.000000</td>\n",
       "      <td>1.000000</td>\n",
       "      <td>0.0</td>\n",
       "      <td>1.000000</td>\n",
       "      <td>1.000000</td>\n",
       "      <td>1.000000</td>\n",
       "    </tr>\n",
       "    <tr>\n",
       "      <th>max</th>\n",
       "      <td>379.000000</td>\n",
       "      <td>39.000000</td>\n",
       "      <td>1.000000</td>\n",
       "      <td>0.0</td>\n",
       "      <td>1.000000</td>\n",
       "      <td>1.000000</td>\n",
       "      <td>1.000000</td>\n",
       "      <td>3147.341440</td>\n",
       "      <td>9963.242114</td>\n",
       "      <td>11.000000</td>\n",
       "      <td>...</td>\n",
       "      <td>1734.000000</td>\n",
       "      <td>3194.000000</td>\n",
       "      <td>4202.905396</td>\n",
       "      <td>4309.784591</td>\n",
       "      <td>1.000000</td>\n",
       "      <td>1.000000</td>\n",
       "      <td>0.0</td>\n",
       "      <td>3.000000</td>\n",
       "      <td>3.000000</td>\n",
       "      <td>3.000000</td>\n",
       "    </tr>\n",
       "  </tbody>\n",
       "</table>\n",
       "<p>8 rows × 260 columns</p>\n",
       "</div>"
      ],
      "text/plain": [
       "          FEATURE_0     FEATURE_1     FEATURE_2  FEATURE_3     FEATURE_4  \\\n",
       "count  16429.000000  16429.000000  16429.000000    16429.0  16429.000000   \n",
       "mean       5.427780      1.342382      0.058372        0.0      0.143283   \n",
       "std       14.029009      1.832084      0.234453        0.0      0.350372   \n",
       "min        0.000000      0.000000      0.000000        0.0      0.000000   \n",
       "25%        0.000000      0.000000      0.000000        0.0      0.000000   \n",
       "50%        1.000000      1.000000      0.000000        0.0      0.000000   \n",
       "75%        5.000000      2.000000      0.000000        0.0      0.000000   \n",
       "max      379.000000     39.000000      1.000000        0.0      1.000000   \n",
       "\n",
       "          FEATURE_5     FEATURE_6     FEATURE_7     FEATURE_8     FEATURE_9  \\\n",
       "count  16429.000000  16429.000000  16429.000000  16429.000000  16429.000000   \n",
       "mean       0.000061      0.010591     82.827312    217.863640      0.388033   \n",
       "std        0.007802      0.102369    260.069491   1214.729293      0.865543   \n",
       "min        0.000000      0.000000   -142.497595   -999.000000      0.000000   \n",
       "25%        0.000000      0.000000     -9.978446    -27.180793      0.000000   \n",
       "50%        0.000000      0.000000      3.649486      2.095215      0.000000   \n",
       "75%        0.000000      0.000000     27.468832     35.138901      0.000000   \n",
       "max        1.000000      1.000000   3147.341440   9963.242114     11.000000   \n",
       "\n",
       "           ...        FEATURE_250   FEATURE_251   FEATURE_252   FEATURE_253  \\\n",
       "count      ...       16429.000000  16429.000000  16429.000000  16429.000000   \n",
       "mean       ...          40.983200     37.003469    308.093058    408.548114   \n",
       "std        ...         103.126306    105.671343    259.159003    347.014196   \n",
       "min        ...        -616.000000   -331.000000  -1531.063435   -328.361649   \n",
       "25%        ...           0.000000      0.000000    130.318236    181.521758   \n",
       "50%        ...           5.000000      0.000000    267.324463    328.554173   \n",
       "75%        ...          39.000000     10.000000    408.813903    536.222803   \n",
       "max        ...        1734.000000   3194.000000   4202.905396   4309.784591   \n",
       "\n",
       "        FEATURE_254   FEATURE_255  FEATURE_256   FEATURE_257   FEATURE_258  \\\n",
       "count  16429.000000  16429.000000      16429.0  16429.000000  16429.000000   \n",
       "mean       0.617506      0.643922          0.0      1.139996      1.186743   \n",
       "std        0.486011      0.478853          0.0      0.376605      0.408775   \n",
       "min        0.000000      0.000000          0.0      1.000000      0.000000   \n",
       "25%        0.000000      0.000000          0.0      1.000000      1.000000   \n",
       "50%        1.000000      1.000000          0.0      1.000000      1.000000   \n",
       "75%        1.000000      1.000000          0.0      1.000000      1.000000   \n",
       "max        1.000000      1.000000          0.0      3.000000      3.000000   \n",
       "\n",
       "        FEATURE_259  \n",
       "count  16429.000000  \n",
       "mean       1.185404  \n",
       "std        0.401881  \n",
       "min        1.000000  \n",
       "25%        1.000000  \n",
       "50%        1.000000  \n",
       "75%        1.000000  \n",
       "max        3.000000  \n",
       "\n",
       "[8 rows x 260 columns]"
      ]
     },
     "execution_count": 30,
     "metadata": {},
     "output_type": "execute_result"
    }
   ],
   "source": [
    "X_train.describe()"
   ]
  },
  {
   "cell_type": "code",
   "execution_count": null,
   "metadata": {},
   "outputs": [],
   "source": []
  }
 ],
 "metadata": {
  "kernelspec": {
   "display_name": "Python 3",
   "language": "python",
   "name": "python3"
  },
  "language_info": {
   "codemirror_mode": {
    "name": "ipython",
    "version": 3
   },
   "file_extension": ".py",
   "mimetype": "text/x-python",
   "name": "python",
   "nbconvert_exporter": "python",
   "pygments_lexer": "ipython3",
   "version": "3.6.5"
  },
  "toc": {
   "base_numbering": 1,
   "nav_menu": {},
   "number_sections": true,
   "sideBar": true,
   "skip_h1_title": false,
   "title_cell": "Table of Contents",
   "title_sidebar": "Contents",
   "toc_cell": false,
   "toc_position": {},
   "toc_section_display": true,
   "toc_window_display": false
  },
  "varInspector": {
   "cols": {
    "lenName": 16,
    "lenType": 16,
    "lenVar": 40
   },
   "kernels_config": {
    "python": {
     "delete_cmd_postfix": "",
     "delete_cmd_prefix": "del ",
     "library": "var_list.py",
     "varRefreshCmd": "print(var_dic_list())"
    },
    "r": {
     "delete_cmd_postfix": ") ",
     "delete_cmd_prefix": "rm(",
     "library": "var_list.r",
     "varRefreshCmd": "cat(var_dic_list()) "
    }
   },
   "types_to_exclude": [
    "module",
    "function",
    "builtin_function_or_method",
    "instance",
    "_Feature"
   ],
   "window_display": false
  }
 },
 "nbformat": 4,
 "nbformat_minor": 2
}
