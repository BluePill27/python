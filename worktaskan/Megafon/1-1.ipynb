{
 "cells": [
  {
   "cell_type": "code",
   "execution_count": 5,
   "metadata": {
    "collapsed": true
   },
   "outputs": [],
   "source": [
    "import pandas as pd\n",
    "import numpy as np\n",
    "\n",
    "from sklearn.linear_model import LogisticRegression\n",
    "from sklearn.model_selection import StratifiedKFold, GridSearchCV\n",
    "\n",
    "import datetime\n",
    "\n",
    "from sklearn.pipeline import Pipeline\n",
    "\n",
    "from sklearn.preprocessing import StandardScaler\n",
    "\n",
    "import matplotlib.pyplot as plt\n",
    "%matplotlib inline  "
   ]
  },
  {
   "cell_type": "code",
   "execution_count": 6,
   "metadata": {
    "collapsed": true
   },
   "outputs": [],
   "source": [
    "train = pd.read_csv('contest_train.csv')\n",
    "X_test = pd.read_csv('contest_test.csv')"
   ]
  },
  {
   "cell_type": "code",
   "execution_count": 10,
   "metadata": {},
   "outputs": [],
   "source": [
    "def work(df, X_test):\n",
    "    df = df.drop(columns=['FEATURE_3', 'FEATURE_144', 'FEATURE_249', 'FEATURE_256'])\n",
    "    X_test = X_test.drop(columns=['FEATURE_3', 'FEATURE_144', 'FEATURE_249', 'FEATURE_256'])\n",
    "    \n",
    "    #binary\n",
    "    tmp = pd.DataFrame(df.describe().loc['max'] == 1)\n",
    "    binary = [i for i in tmp[tmp['max'] == 1].index if i != 'TARGET' and i != 'ID'] \n",
    "    df = pd.get_dummies(df, columns = binary)\n",
    "    X_test = pd.get_dummies(X_test, columns = binary)\n",
    "    \n",
    "    #multiclass\n",
    "    tmp = pd.DataFrame(df.describe().loc['std'] < 1)\n",
    "    multiclass = [i for i in tmp[tmp['std']== True].index if i not in binary and i != 'TARGET' and i != 'ID']\n",
    "    df = pd.get_dummies(df, columns = multiclass)\n",
    "    df = df.dropna()\n",
    "    #X_test[X_test.columns] = X_test[X_test.columns].fillna(0)\n",
    "\n",
    "    #numeric\n",
    "    numeric = [i for i in df.columns if i not in binary and i not in multiclass and i != 'TARGET' and i != 'ID']\n",
    "    scale = StandardScaler().fit(df[numeric].as_matrix())\n",
    "    df[numeric] = scale.fit_transform(df[numeric].as_matrix())\n",
    "    X_test[numeric] = scale.transform(X_test[numeric].as_matrix())\n",
    "    \n",
    "    return df[[i for i in df.columns if i != 'TARGET']].as_matrix(), df['TARGET'].as_matrix(), X_test"
   ]
  },
  {
   "cell_type": "code",
   "execution_count": 11,
   "metadata": {
    "collapsed": true
   },
   "outputs": [],
   "source": [
    "def Testing_grid_reg(X_train, Y_train, c=[10.0 ** i for i in range(-8, 0)]):\n",
    "    cv = StratifiedKFold(n_splits=5, shuffle=True, random_state=42)\n",
    "    \n",
    "    \n",
    "    clf = LogisticRegression(class_weight = 'balanced', n_jobs=1)\n",
    "    \n",
    "    grid=  {'C': c,\n",
    "            'penalty' : ['l2', 'l1'],\n",
    "            'max_iter' : [50, 80]\n",
    "           }\n",
    "    \n",
    "    start_time = datetime.datetime.now()\n",
    "    gs = GridSearchCV(clf, scoring='f1_micro', \n",
    "                      param_grid=grid, cv=cv, \n",
    "                      return_train_score=True, n_jobs=-1, verbose = True)\n",
    "    gs.fit(X_train,Y_train)\n",
    "    \n",
    "    print ('Time elapsed:', datetime.datetime.now() - start_time)\n",
    "    print (max(gs.cv_results_['mean_test_score']))\n",
    "    \n",
    "    return gs.best_params_"
   ]
  },
  {
   "cell_type": "code",
   "execution_count": null,
   "metadata": {
    "scrolled": true
   },
   "outputs": [],
   "source": [
    "X_train, y_train, X_test = work(train, X_test)\n",
    "#Testing_grid_reg(X_train, y_train)"
   ]
  },
  {
   "cell_type": "code",
   "execution_count": null,
   "metadata": {
    "collapsed": true
   },
   "outputs": [],
   "source": [
    "clf = LogisticRegression(class_weight = 'balanced', n_jobs=-1,\n",
    "                         C=10 ** -6 , penalty='l1', max_iter=50)"
   ]
  },
  {
   "cell_type": "code",
   "execution_count": null,
   "metadata": {},
   "outputs": [],
   "source": [
    "clf.fit(X_train, y_train)\n",
    "predict =  pd.DataFrame(clf.predict(X_test), columns=['TARGET'])\n",
    "proba = pd.DataFrame(clf.predict_proba(X_test), columns=['PROB'])\n",
    "pd.concat([X_test, predict, proba]).to_csv('res.csv')"
   ]
  },
  {
   "cell_type": "code",
   "execution_count": null,
   "metadata": {
    "collapsed": true
   },
   "outputs": [],
   "source": []
  }
 ],
 "metadata": {
  "kernelspec": {
   "display_name": "Python 3",
   "language": "python",
   "name": "python3"
  },
  "language_info": {
   "codemirror_mode": {
    "name": "ipython",
    "version": 3
   },
   "file_extension": ".py",
   "mimetype": "text/x-python",
   "name": "python",
   "nbconvert_exporter": "python",
   "pygments_lexer": "ipython3",
   "version": "3.6.4"
  }
 },
 "nbformat": 4,
 "nbformat_minor": 2
}
