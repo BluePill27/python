{
 "cells": [
  {
   "cell_type": "code",
   "execution_count": 1,
   "metadata": {},
   "outputs": [
    {
     "name": "stderr",
     "output_type": "stream",
     "text": [
      "C:\\Users\\Denis\\Anaconda3\\lib\\site-packages\\statsmodels\\compat\\pandas.py:56: FutureWarning: The pandas.core.datetools module is deprecated and will be removed in a future version. Please use the pandas.tseries module instead.\n",
      "  from pandas.core import datetools\n"
     ]
    }
   ],
   "source": [
    "import numpy as np\n",
    "import pandas as pd\n",
    "\n",
    "import statsmodels.api as sm\n",
    "\n",
    "import time\n",
    "import datetime\n",
    "\n",
    "import scipy.stats as sts\n",
    "\n",
    "from sklearn.model_selection import KFold\n",
    "from sklearn.model_selection import GridSearchCV\n",
    "\n",
    "from sklearn.linear_model import LinearRegression"
   ]
  },
  {
   "cell_type": "code",
   "execution_count": 2,
   "metadata": {
    "collapsed": true
   },
   "outputs": [],
   "source": [
    "data = pd.read_json('table.jsonl', lines=True)"
   ]
  },
  {
   "cell_type": "markdown",
   "metadata": {},
   "source": [
    "Gold = a * time + b"
   ]
  },
  {
   "cell_type": "code",
   "execution_count": 3,
   "metadata": {
    "collapsed": true
   },
   "outputs": [],
   "source": [
    "Y, X = data[data['type']=='interval'].dropna(subset=[['gold','time']])['gold'].as_matrix().reshape(-1, 1), data[data['type']=='interval'].dropna(subset=[['gold','time']])['time'].as_matrix().reshape(-1, 1)"
   ]
  },
  {
   "cell_type": "code",
   "execution_count": 4,
   "metadata": {
    "collapsed": true
   },
   "outputs": [],
   "source": [
    "def smodt(X,Y):\n",
    "    X = sm.add_constant(X)\n",
    "    mod = sm.OLS(Y, X)\n",
    "    res = mod.fit()\n",
    "    print('\\n', res.summary())\n",
    "    \n",
    "def Testing_grid_reg(X_train, Y_train):\n",
    "    cv = KFold(n_splits=5, shuffle=True, random_state=42)\n",
    "    \n",
    "    grid = {'fit_intercept':[True,False], \n",
    "            'normalize':[True,False], \n",
    "            'copy_X':[True, False]}\n",
    "    \n",
    "    clf = LinearRegression(n_jobs = 5)\n",
    "    \n",
    "    start_time = datetime.datetime.now()\n",
    "    gs = GridSearchCV(clf, scoring='r2', param_grid=grid, cv=cv, return_train_score=True)\n",
    "    gs.fit(X_train,Y_train)\n",
    "    \n",
    "    print ('Time elapsed:', datetime.datetime.now() - start_time)\n",
    "    \n",
    "    means = gs.cv_results_['mean_test_score']\n",
    "    stds = gs.cv_results_['std_test_score']\n",
    "    \n",
    "    for mean, std, params in zip(means, stds, gs.cv_results_['params']):\n",
    "        print(\"%0.3f (+/-%0.03f) for %r\"\n",
    "              % (mean, std * 2, params))\n",
    "    lm = gs.best_estimator_\n",
    "    \n",
    "    lm.fit(X,Y)\n",
    "    params = np.append(lm.intercept_,lm.coef_)\n",
    "    predictions = lm.predict(X)\n",
    "    \n",
    "    newX = pd.DataFrame({\"Constant\":np.ones(len(X))}).join(pd.DataFrame(X))\n",
    "    MSE = (sum((X-predictions)**2))/(len(newX)-len(newX.columns))\n",
    "\n",
    "    # Note if you don't want to use a DataFrame replace the two lines above with\n",
    "    # newX = np.append(np.ones((len(X),1)), X, axis=1)\n",
    "    # MSE = (sum((y-predictions)**2))/(len(newX)-len(newX[0]))\n",
    "\n",
    "    var_b = MSE*(np.linalg.inv(np.dot(newX.T,newX)).diagonal())\n",
    "    sd_b = np.sqrt(var_b)\n",
    "    ts_b = params/ sd_b\n",
    "\n",
    "    p_values =[2*(1-sts.t.cdf(np.abs(i),(len(newX)-1))) for i in ts_b]\n",
    "    \n",
    "    sd_b = np.round(sd_b,3)\n",
    "    ts_b = np.round(ts_b,3)\n",
    "    p_values = np.round(p_values,3)\n",
    "    params = np.round(params,4)\n",
    "    \n",
    "    myDF3 = pd.DataFrame()\n",
    "    myDF3[\"Coefficients\"],myDF3[\"Standard Errors\"],myDF3[\"t values\"],myDF3[\"Probabilites\"] = [params,sd_b,ts_b,p_values]\n",
    "    \n",
    "    print ('\\n', myDF3)\n",
    "    \n",
    "    smodt(X,Y)\n",
    "    return gs.best_estimator_ "
   ]
  },
  {
   "cell_type": "markdown",
   "metadata": {},
   "source": [
    "Значимы​​ ли​​ коэффициенты​​ регрессии?​​ Нужно​​ ли​​ использовать​​ intercept​​ в\n",
    "данной​​ модели?​​ Какой​​ смысл​​ в​​ терминах​​ игры​​ имеет​​ коэффициент​​ наклона?"
   ]
  },
  {
   "cell_type": "code",
   "execution_count": 5,
   "metadata": {
    "scrolled": false
   },
   "outputs": [
    {
     "name": "stdout",
     "output_type": "stream",
     "text": [
      "Time elapsed: 0:00:02.266487\n",
      "0.716 (+/-0.005) for {'copy_X': True, 'fit_intercept': True, 'normalize': True}\n",
      "0.716 (+/-0.005) for {'copy_X': True, 'fit_intercept': True, 'normalize': False}\n",
      "0.636 (+/-0.004) for {'copy_X': True, 'fit_intercept': False, 'normalize': True}\n",
      "0.636 (+/-0.004) for {'copy_X': True, 'fit_intercept': False, 'normalize': False}\n",
      "0.716 (+/-0.005) for {'copy_X': False, 'fit_intercept': True, 'normalize': True}\n",
      "0.716 (+/-0.005) for {'copy_X': False, 'fit_intercept': True, 'normalize': False}\n",
      "0.636 (+/-0.004) for {'copy_X': False, 'fit_intercept': False, 'normalize': True}\n",
      "0.636 (+/-0.004) for {'copy_X': False, 'fit_intercept': False, 'normalize': False}\n",
      "\n",
      "    Coefficients  Standard Errors  t values  Probabilites\n",
      "0    -3867.9249           50.486   -76.614           0.0\n",
      "1        5.8809            0.026   229.697           0.0\n",
      "\n",
      "                             OLS Regression Results                            \n",
      "==============================================================================\n",
      "Dep. Variable:                      y   R-squared:                       0.716\n",
      "Model:                            OLS   Adj. R-squared:                  0.716\n",
      "Method:                 Least Squares   F-statistic:                 1.713e+05\n",
      "Date:                Mon, 15 Jan 2018   Prob (F-statistic):               0.00\n",
      "Time:                        19:26:39   Log-Likelihood:            -6.5457e+05\n",
      "No. Observations:               68050   AIC:                         1.309e+06\n",
      "Df Residuals:                   68048   BIC:                         1.309e+06\n",
      "Df Model:                           1                                         \n",
      "Covariance Type:            nonrobust                                         \n",
      "==============================================================================\n",
      "                 coef    std err          t      P>|t|      [0.025      0.975]\n",
      "------------------------------------------------------------------------------\n",
      "const      -3867.9249     28.021   -138.037      0.000   -3922.846   -3813.004\n",
      "x1             5.8809      0.014    413.852      0.000       5.853       5.909\n",
      "==============================================================================\n",
      "Omnibus:                    19093.745   Durbin-Watson:                   1.967\n",
      "Prob(Omnibus):                  0.000   Jarque-Bera (JB):            57555.405\n",
      "Skew:                           1.458   Prob(JB):                         0.00\n",
      "Kurtosis:                       6.434   Cond. No.                     3.96e+03\n",
      "==============================================================================\n",
      "\n",
      "Warnings:\n",
      "[1] Standard Errors assume that the covariance matrix of the errors is correctly specified.\n",
      "[2] The condition number is large, 3.96e+03. This might indicate that there are\n",
      "strong multicollinearity or other numerical problems.\n"
     ]
    }
   ],
   "source": [
    "clf = Testing_grid_reg(X,Y)"
   ]
  },
  {
   "cell_type": "markdown",
   "metadata": {},
   "source": [
    "Оба коэффициента значимы - $|t_{value}| > P_{value} $. \n",
    "\n",
    "В начале игры(time = 0), золото(intercept) будет равно -3867.9249, что не отражает реальность, а также говорит о наличии других проблем (например, мультикорреляция). \n",
    "\n",
    "Коэффициент наклона говорит нам, что увеличение золота на одну единицу приводит к увеличению времени на 5.8809 сек, или каждые 5.8809 секунд приносят игроку 1 голд."
   ]
  },
  {
   "cell_type": "code",
   "execution_count": 6,
   "metadata": {},
   "outputs": [
    {
     "data": {
      "text/html": [
       "<div>\n",
       "<style>\n",
       "    .dataframe thead tr:only-child th {\n",
       "        text-align: right;\n",
       "    }\n",
       "\n",
       "    .dataframe thead th {\n",
       "        text-align: left;\n",
       "    }\n",
       "\n",
       "    .dataframe tbody tr th {\n",
       "        vertical-align: top;\n",
       "    }\n",
       "</style>\n",
       "<table border=\"1\" class=\"dataframe\">\n",
       "  <thead>\n",
       "    <tr style=\"text-align: right;\">\n",
       "      <th></th>\n",
       "      <th>id</th>\n",
       "      <th>localized_name</th>\n",
       "      <th>name</th>\n",
       "    </tr>\n",
       "  </thead>\n",
       "  <tbody>\n",
       "    <tr>\n",
       "      <th>0</th>\n",
       "      <td>1</td>\n",
       "      <td>Anti-Mage</td>\n",
       "      <td>antimage</td>\n",
       "    </tr>\n",
       "    <tr>\n",
       "      <th>1</th>\n",
       "      <td>2</td>\n",
       "      <td>Axe</td>\n",
       "      <td>axe</td>\n",
       "    </tr>\n",
       "    <tr>\n",
       "      <th>2</th>\n",
       "      <td>3</td>\n",
       "      <td>Bane</td>\n",
       "      <td>bane</td>\n",
       "    </tr>\n",
       "    <tr>\n",
       "      <th>3</th>\n",
       "      <td>4</td>\n",
       "      <td>Bloodseeker</td>\n",
       "      <td>bloodseeker</td>\n",
       "    </tr>\n",
       "    <tr>\n",
       "      <th>4</th>\n",
       "      <td>5</td>\n",
       "      <td>Crystal Maiden</td>\n",
       "      <td>crystal_maiden</td>\n",
       "    </tr>\n",
       "  </tbody>\n",
       "</table>\n",
       "</div>"
      ],
      "text/plain": [
       "   id  localized_name            name\n",
       "0   1       Anti-Mage        antimage\n",
       "1   2             Axe             axe\n",
       "2   3            Bane            bane\n",
       "3   4     Bloodseeker     bloodseeker\n",
       "4   5  Crystal Maiden  crystal_maiden"
      ]
     },
     "execution_count": 6,
     "metadata": {},
     "output_type": "execute_result"
    }
   ],
   "source": [
    "heroes = pd.read_json('heroes.json')\n",
    "heroes.head()"
   ]
  },
  {
   "cell_type": "code",
   "execution_count": 7,
   "metadata": {},
   "outputs": [
    {
     "data": {
      "text/plain": [
       "'npc_dota_hero_tinker'"
      ]
     },
     "execution_count": 7,
     "metadata": {},
     "output_type": "execute_result"
    }
   ],
   "source": [
    "def name(id):\n",
    "    if id in heroes['id'].values:        \n",
    "        name = (heroes['name'][heroes['id'] == id].tolist())[0]\n",
    "        return 'npc_dota_hero_'+name\n",
    "    else:\n",
    "        return np.nan\n",
    "name(34)"
   ]
  },
  {
   "cell_type": "code",
   "execution_count": 8,
   "metadata": {
    "scrolled": true
   },
   "outputs": [
    {
     "data": {
      "text/plain": [
       "attackerhero        0\n",
       "attackerillusion    0\n",
       "attackername        0\n",
       "attackerteam        1\n",
       "inflictor           0\n",
       "location            0\n",
       "sourcename          0\n",
       "targethero          0\n",
       "targetillusion      0\n",
       "targetname          0\n",
       "targetsourcename    0\n",
       "targetteam          0\n",
       "tick                0\n",
       "time                0\n",
       "type                0\n",
       "value               0\n",
       "dtype: int64"
      ]
     },
     "execution_count": 8,
     "metadata": {},
     "output_type": "execute_result"
    }
   ],
   "source": [
    "data[(data['type']=='DOTA_COMBATLOG_DEATH')].isnull().sum()[lambda x: x!= 3430]"
   ]
  },
  {
   "cell_type": "markdown",
   "metadata": {},
   "source": [
    "'attackername', 'targetname', 'time', 'location'"
   ]
  },
  {
   "cell_type": "code",
   "execution_count": 9,
   "metadata": {
    "collapsed": true
   },
   "outputs": [],
   "source": [
    "Combat = data[(data['type']=='DOTA_COMBATLOG_DEATH')][['attackername', 'targetname', 'time', 'location']].sort_values(by=['time'])"
   ]
  },
  {
   "cell_type": "markdown",
   "metadata": {},
   "source": [
    "assists, kills, time, hero_id"
   ]
  },
  {
   "cell_type": "code",
   "execution_count": 10,
   "metadata": {
    "collapsed": true
   },
   "outputs": [],
   "source": [
    "def ak(s):\n",
    "    rez = pd.DataFrame(columns = ['assists', 'kills', 'time','hero_id'])\n",
    "    for t in data[data[s]>0][s].dropna().unique():\n",
    "        for h in data[data[s]>0]['hero_id'].dropna().unique():\n",
    "            tmp = data[(data[s] == t)& (data['hero_id'] == h)][['assists', 'kills', 'time','hero_id']].dropna().sort_values(by=['time']).head(1)\n",
    "            if len(tmp) == 1:\n",
    "                rez = rez.append(tmp)\n",
    "    rez['hero_name'] = rez['hero_id'].apply(lambda x: name(x))\n",
    "    return rez.reset_index()[['hero_name','time',s]].sort_values(by=['time'])"
   ]
  },
  {
   "cell_type": "code",
   "execution_count": 11,
   "metadata": {
    "collapsed": true
   },
   "outputs": [],
   "source": [
    "kill = ak('kills')\n",
    "assist = ak('assists')"
   ]
  },
  {
   "cell_type": "code",
   "execution_count": 12,
   "metadata": {},
   "outputs": [],
   "source": [
    "def Participants(tes, tes2):\n",
    "    rez = pd.DataFrame()\n",
    "    \n",
    "    for row in tes.as_matrix():\n",
    "        tmp = Combat[(Combat['attackername']==row[0]) & \n",
    "                     (Combat['targetname'].apply(lambda x: True if x.split('_')[2] in ['hero'] else False)) & \n",
    "                     (Combat['time']<row[1])].as_matrix()\n",
    "        tmp2 = tes2[tes2['time']==row[1]]['hero_name'].as_matrix()\n",
    "        if len(tmp)>1:\n",
    "            if tmp[0][2]!=tmp[len(tmp)-1][2]:\n",
    "                rez = pd.concat([rez, (pd.DataFrame([[tmp[len(tmp)-1][1], tmp[len(tmp)-1][2], row[1], np.unique(np.append(tmp2, tmp[len(tmp)-1][0]))]], \n",
    "                                                    columns = ['targethero', 'start_time', 'end_time','kill_participants']))], \n",
    "                                axis=0)\n",
    "            else:\n",
    "                rez = pd.concat([rez, (pd.DataFrame([[tmp[0][1], tmp[0][2], row[1], np.unique(np.append(tmp2,tmp[0][0]))]], \n",
    "                                                    columns = ['targethero', 'start_time', 'end_time','kill_participants']))], \n",
    "                                axis=0)\n",
    "        else:\n",
    "            rez = pd.concat([rez, (pd.DataFrame([[tmp[0][1], tmp[0][2], row[1], np.unique(np.append(tmp2,tmp[0][0]))]], \n",
    "                                                columns = ['targethero', 'start_time', 'end_time','kill_participants']))], \n",
    "                            axis=0)\n",
    "    return rez.reset_index()[['targethero', 'start_time', 'end_time','kill_participants']]"
   ]
  },
  {
   "cell_type": "code",
   "execution_count": 13,
   "metadata": {
    "scrolled": true
   },
   "outputs": [],
   "source": [
    "rez = Participants(kill, assist)"
   ]
  },
  {
   "cell_type": "code",
   "execution_count": 14,
   "metadata": {},
   "outputs": [],
   "source": [
    "with open('kills.json', 'w') as f:\n",
    "    f.write(rez.to_json(orient='records'))"
   ]
  },
  {
   "cell_type": "code",
   "execution_count": null,
   "metadata": {
    "collapsed": true
   },
   "outputs": [],
   "source": []
  }
 ],
 "metadata": {
  "kernelspec": {
   "display_name": "Python 3",
   "language": "python",
   "name": "python3"
  },
  "language_info": {
   "codemirror_mode": {
    "name": "ipython",
    "version": 3
   },
   "file_extension": ".py",
   "mimetype": "text/x-python",
   "name": "python",
   "nbconvert_exporter": "python",
   "pygments_lexer": "ipython3",
   "version": "3.6.3"
  }
 },
 "nbformat": 4,
 "nbformat_minor": 2
}
