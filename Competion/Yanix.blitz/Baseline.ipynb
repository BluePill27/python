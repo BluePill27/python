{
 "cells": [
  {
   "cell_type": "code",
   "execution_count": 1,
   "metadata": {
    "ExecuteTime": {
     "end_time": "2018-06-17T16:18:07.528728Z",
     "start_time": "2018-06-17T16:18:07.110799Z"
    }
   },
   "outputs": [],
   "source": [
    "import numpy as np, pandas as pd\n",
    "\n",
    "import matplotlib as mpl\n",
    "import matplotlib.pyplot as plt\n",
    "%matplotlib inline\n",
    "\n",
    "from sklearn.feature_selection import mutual_info_classif\n",
    "from sklearn.model_selection import train_test_split, cross_validate\n",
    "from sklearn.preprocessing import normalize\n",
    "\n",
    "from lightgbm import LGBMClassifier\n",
    "\n",
    "import datetime"
   ]
  },
  {
   "cell_type": "code",
   "execution_count": 2,
   "metadata": {
    "ExecuteTime": {
     "end_time": "2018-06-17T16:18:07.639721Z",
     "start_time": "2018-06-17T16:18:07.529848Z"
    }
   },
   "outputs": [
    {
     "name": "stdout",
     "output_type": "stream",
     "text": [
      "test.tsv  train.tsv\r\n"
     ]
    }
   ],
   "source": [
    "!ls data/"
   ]
  },
  {
   "cell_type": "code",
   "execution_count": 3,
   "metadata": {
    "ExecuteTime": {
     "end_time": "2018-06-17T16:18:07.726435Z",
     "start_time": "2018-06-17T16:18:07.641261Z"
    }
   },
   "outputs": [],
   "source": [
    "df = pd.read_csv('data/train.tsv', sep='\\t')"
   ]
  },
  {
   "cell_type": "code",
   "execution_count": 4,
   "metadata": {
    "ExecuteTime": {
     "end_time": "2018-06-17T16:18:13.013729Z",
     "start_time": "2018-06-17T16:18:07.727569Z"
    }
   },
   "outputs": [
    {
     "name": "stderr",
     "output_type": "stream",
     "text": [
      "/home/denis/anaconda3/lib/python3.6/site-packages/ipykernel_launcher.py:6: UserWarning: Boolean Series key will be reindexed to match DataFrame index.\n",
      "  \n"
     ]
    }
   ],
   "source": [
    "target = df['1.53']\n",
    "X = df[[c for c in df.columns if c != '1.53']]\n",
    "\n",
    "# Select important features\n",
    "M = pd.DataFrame(mutual_info_classif(X, target), index=X.columns)\n",
    "picked = M.sort_values(by=0, ascending=False)[M[0]>0.000446].index\n",
    "X_mutal = X[picked].copy()"
   ]
  },
  {
   "cell_type": "code",
   "execution_count": 5,
   "metadata": {
    "ExecuteTime": {
     "end_time": "2018-06-17T16:18:13.018020Z",
     "start_time": "2018-06-17T16:18:13.014933Z"
    },
    "run_control": {
     "marked": false
    }
   },
   "outputs": [],
   "source": [
    "X_t = df[[c for c in df.columns if (float(c) < 0.8 and c != '1.53')]].copy()"
   ]
  },
  {
   "cell_type": "code",
   "execution_count": 6,
   "metadata": {
    "ExecuteTime": {
     "end_time": "2018-06-17T16:18:13.033950Z",
     "start_time": "2018-06-17T16:18:13.019081Z"
    }
   },
   "outputs": [],
   "source": [
    "X_norm = normalize(X)"
   ]
  },
  {
   "cell_type": "code",
   "execution_count": 7,
   "metadata": {
    "ExecuteTime": {
     "end_time": "2018-06-17T16:18:13.037997Z",
     "start_time": "2018-06-17T16:18:13.035093Z"
    },
    "run_control": {
     "marked": false
    }
   },
   "outputs": [],
   "source": [
    "def testing(X, target):\n",
    "    X_train, X_test, y_train, y_test = train_test_split(X, target, test_size=0.25, random_state=42)\n",
    "    clf = LGBMClassifier()\n",
    "    print(pd.DataFrame(cross_validate(clf, X, target, \n",
    "                                      scoring=['neg_log_loss', 'roc_auc', 'f1', 'accuracy'], n_jobs=-1, cv=6)).mean())\n",
    "    clf.fit(X_train, y_train,\n",
    "        eval_set=[(X_test, y_test)],\n",
    "        eval_metric='binary_error',\n",
    "        early_stopping_rounds=5)\n",
    "    return clf"
   ]
  },
  {
   "cell_type": "code",
   "execution_count": 8,
   "metadata": {
    "ExecuteTime": {
     "end_time": "2018-06-17T16:18:32.443707Z",
     "start_time": "2018-06-17T16:18:13.039267Z"
    }
   },
   "outputs": [
    {
     "name": "stderr",
     "output_type": "stream",
     "text": [
      "/home/denis/anaconda3/lib/python3.6/site-packages/sklearn/utils/deprecation.py:122: FutureWarning: You are accessing a training score ('train_neg_log_loss'), which will not be available by default any more in 0.21. If you need training scores, please set return_train_score=True\n",
      "  warnings.warn(*warn_args, **warn_kwargs)\n",
      "/home/denis/anaconda3/lib/python3.6/site-packages/sklearn/utils/deprecation.py:122: FutureWarning: You are accessing a training score ('train_roc_auc'), which will not be available by default any more in 0.21. If you need training scores, please set return_train_score=True\n",
      "  warnings.warn(*warn_args, **warn_kwargs)\n",
      "/home/denis/anaconda3/lib/python3.6/site-packages/sklearn/utils/deprecation.py:122: FutureWarning: You are accessing a training score ('train_f1'), which will not be available by default any more in 0.21. If you need training scores, please set return_train_score=True\n",
      "  warnings.warn(*warn_args, **warn_kwargs)\n",
      "/home/denis/anaconda3/lib/python3.6/site-packages/sklearn/utils/deprecation.py:122: FutureWarning: You are accessing a training score ('train_accuracy'), which will not be available by default any more in 0.21. If you need training scores, please set return_train_score=True\n",
      "  warnings.warn(*warn_args, **warn_kwargs)\n"
     ]
    },
    {
     "name": "stdout",
     "output_type": "stream",
     "text": [
      "fit_time              7.748930\n",
      "score_time            0.200202\n",
      "test_neg_log_loss    -0.710070\n",
      "train_neg_log_loss   -0.531822\n",
      "test_roc_auc          0.493857\n",
      "train_roc_auc         0.965696\n",
      "test_f1               0.483322\n",
      "train_f1              0.899241\n",
      "test_accuracy         0.497651\n",
      "train_accuracy        0.900330\n",
      "dtype: float64\n",
      "[1]\tvalid_0's binary_error: 0.4912\n",
      "Training until validation scores don't improve for 5 rounds.\n",
      "[2]\tvalid_0's binary_error: 0.488\n",
      "[3]\tvalid_0's binary_error: 0.4904\n",
      "[4]\tvalid_0's binary_error: 0.4976\n",
      "[5]\tvalid_0's binary_error: 0.4856\n",
      "[6]\tvalid_0's binary_error: 0.4964\n",
      "[7]\tvalid_0's binary_error: 0.4808\n",
      "[8]\tvalid_0's binary_error: 0.484\n",
      "[9]\tvalid_0's binary_error: 0.4864\n",
      "[10]\tvalid_0's binary_error: 0.4848\n",
      "[11]\tvalid_0's binary_error: 0.4896\n",
      "[12]\tvalid_0's binary_error: 0.4804\n",
      "[13]\tvalid_0's binary_error: 0.4844\n",
      "[14]\tvalid_0's binary_error: 0.49\n",
      "[15]\tvalid_0's binary_error: 0.486\n",
      "[16]\tvalid_0's binary_error: 0.4912\n",
      "[17]\tvalid_0's binary_error: 0.49\n",
      "Early stopping, best iteration is:\n",
      "[12]\tvalid_0's binary_error: 0.4804\n",
      "fit_time              8.495060\n",
      "score_time            0.238948\n",
      "test_neg_log_loss    -0.705840\n",
      "train_neg_log_loss   -0.542065\n",
      "test_roc_auc          0.505055\n",
      "train_roc_auc         0.956300\n",
      "test_f1               0.491265\n",
      "train_f1              0.883971\n",
      "test_accuracy         0.500749\n",
      "train_accuracy        0.885669\n",
      "dtype: float64\n",
      "[1]\tvalid_0's binary_error: 0.498\n",
      "Training until validation scores don't improve for 5 rounds.\n",
      "[2]\tvalid_0's binary_error: 0.5024\n",
      "[3]\tvalid_0's binary_error: 0.5084\n",
      "[4]\tvalid_0's binary_error: 0.5096\n",
      "[5]\tvalid_0's binary_error: 0.5092\n",
      "[6]\tvalid_0's binary_error: 0.5052\n",
      "Early stopping, best iteration is:\n",
      "[1]\tvalid_0's binary_error: 0.498\n"
     ]
    },
    {
     "name": "stderr",
     "output_type": "stream",
     "text": [
      "/home/denis/anaconda3/lib/python3.6/site-packages/sklearn/utils/deprecation.py:122: FutureWarning: You are accessing a training score ('train_neg_log_loss'), which will not be available by default any more in 0.21. If you need training scores, please set return_train_score=True\n",
      "  warnings.warn(*warn_args, **warn_kwargs)\n",
      "/home/denis/anaconda3/lib/python3.6/site-packages/sklearn/utils/deprecation.py:122: FutureWarning: You are accessing a training score ('train_roc_auc'), which will not be available by default any more in 0.21. If you need training scores, please set return_train_score=True\n",
      "  warnings.warn(*warn_args, **warn_kwargs)\n",
      "/home/denis/anaconda3/lib/python3.6/site-packages/sklearn/utils/deprecation.py:122: FutureWarning: You are accessing a training score ('train_f1'), which will not be available by default any more in 0.21. If you need training scores, please set return_train_score=True\n",
      "  warnings.warn(*warn_args, **warn_kwargs)\n",
      "/home/denis/anaconda3/lib/python3.6/site-packages/sklearn/utils/deprecation.py:122: FutureWarning: You are accessing a training score ('train_accuracy'), which will not be available by default any more in 0.21. If you need training scores, please set return_train_score=True\n",
      "  warnings.warn(*warn_args, **warn_kwargs)\n"
     ]
    },
    {
     "data": {
      "text/plain": [
       "LGBMClassifier(boosting_type='gbdt', class_weight=None, colsample_bytree=1.0,\n",
       "        learning_rate=0.1, max_depth=-1, min_child_samples=20,\n",
       "        min_child_weight=0.001, min_split_gain=0.0, n_estimators=100,\n",
       "        n_jobs=-1, num_leaves=31, objective=None, random_state=None,\n",
       "        reg_alpha=0.0, reg_lambda=0.0, silent=True, subsample=1.0,\n",
       "        subsample_for_bin=200000, subsample_freq=0)"
      ]
     },
     "execution_count": 8,
     "metadata": {},
     "output_type": "execute_result"
    }
   ],
   "source": [
    "testing(X_mutal, target)\n",
    "testing(X_t, target)"
   ]
  },
  {
   "cell_type": "code",
   "execution_count": 9,
   "metadata": {
    "ExecuteTime": {
     "end_time": "2018-06-17T16:18:42.029203Z",
     "start_time": "2018-06-17T16:18:32.447606Z"
    }
   },
   "outputs": [
    {
     "name": "stdout",
     "output_type": "stream",
     "text": [
      "fit_time              7.810256\n",
      "score_time            0.092356\n",
      "test_neg_log_loss    -0.000673\n",
      "train_neg_log_loss   -0.000041\n",
      "test_roc_auc          1.000000\n",
      "train_roc_auc         1.000000\n",
      "test_f1               0.999899\n",
      "train_f1              1.000000\n",
      "test_accuracy         0.999900\n",
      "train_accuracy        1.000000\n",
      "dtype: float64\n",
      "[1]\tvalid_0's binary_error: 0.022\n",
      "Training until validation scores don't improve for 5 rounds.\n",
      "[2]\tvalid_0's binary_error: 0.0004\n",
      "[3]\tvalid_0's binary_error: 0.0004\n",
      "[4]\tvalid_0's binary_error: 0.0004\n",
      "[5]\tvalid_0's binary_error: 0.0004\n",
      "[6]\tvalid_0's binary_error: 0.0004\n",
      "[7]\tvalid_0's binary_error: 0.0004\n",
      "Early stopping, best iteration is:\n",
      "[2]\tvalid_0's binary_error: 0.0004\n"
     ]
    },
    {
     "name": "stderr",
     "output_type": "stream",
     "text": [
      "/home/denis/anaconda3/lib/python3.6/site-packages/sklearn/utils/deprecation.py:122: FutureWarning: You are accessing a training score ('train_neg_log_loss'), which will not be available by default any more in 0.21. If you need training scores, please set return_train_score=True\n",
      "  warnings.warn(*warn_args, **warn_kwargs)\n",
      "/home/denis/anaconda3/lib/python3.6/site-packages/sklearn/utils/deprecation.py:122: FutureWarning: You are accessing a training score ('train_roc_auc'), which will not be available by default any more in 0.21. If you need training scores, please set return_train_score=True\n",
      "  warnings.warn(*warn_args, **warn_kwargs)\n",
      "/home/denis/anaconda3/lib/python3.6/site-packages/sklearn/utils/deprecation.py:122: FutureWarning: You are accessing a training score ('train_f1'), which will not be available by default any more in 0.21. If you need training scores, please set return_train_score=True\n",
      "  warnings.warn(*warn_args, **warn_kwargs)\n",
      "/home/denis/anaconda3/lib/python3.6/site-packages/sklearn/utils/deprecation.py:122: FutureWarning: You are accessing a training score ('train_accuracy'), which will not be available by default any more in 0.21. If you need training scores, please set return_train_score=True\n",
      "  warnings.warn(*warn_args, **warn_kwargs)\n"
     ]
    }
   ],
   "source": [
    "clf = testing(X_norm, target)"
   ]
  },
  {
   "cell_type": "code",
   "execution_count": 10,
   "metadata": {
    "ExecuteTime": {
     "end_time": "2018-06-17T16:18:42.051034Z",
     "start_time": "2018-06-17T16:18:42.036854Z"
    }
   },
   "outputs": [],
   "source": [
    "test = pd.read_csv('data/test.tsv', sep='\\t')\n",
    "test = normalize(test)"
   ]
  },
  {
   "cell_type": "code",
   "execution_count": 11,
   "metadata": {
    "ExecuteTime": {
     "end_time": "2018-06-17T16:18:42.084605Z",
     "start_time": "2018-06-17T16:18:42.066827Z"
    }
   },
   "outputs": [],
   "source": [
    "pd.DataFrame(clf.predict(test)).to_csv('result.tsv', sep='\\t', index = False)"
   ]
  },
  {
   "cell_type": "code",
   "execution_count": 12,
   "metadata": {
    "ExecuteTime": {
     "end_time": "2018-06-17T16:18:42.118264Z",
     "start_time": "2018-06-17T16:18:42.093899Z"
    }
   },
   "outputs": [],
   "source": [
    "X_norm_l1 = normalize(X, norm='l1')"
   ]
  },
  {
   "cell_type": "code",
   "execution_count": 13,
   "metadata": {
    "ExecuteTime": {
     "end_time": "2018-06-17T16:18:52.316272Z",
     "start_time": "2018-06-17T16:18:42.123078Z"
    }
   },
   "outputs": [
    {
     "name": "stdout",
     "output_type": "stream",
     "text": [
      "fit_time              8.664374\n",
      "score_time            0.054641\n",
      "test_neg_log_loss    -0.000673\n",
      "train_neg_log_loss   -0.000041\n",
      "test_roc_auc          1.000000\n",
      "train_roc_auc         1.000000\n",
      "test_f1               0.999899\n",
      "train_f1              1.000000\n",
      "test_accuracy         0.999900\n",
      "train_accuracy        1.000000\n",
      "dtype: float64\n",
      "[1]\tvalid_0's binary_error: 0.022\n",
      "Training until validation scores don't improve for 5 rounds.\n",
      "[2]\tvalid_0's binary_error: 0.0004\n",
      "[3]\tvalid_0's binary_error: 0.0004\n",
      "[4]\tvalid_0's binary_error: 0.0004\n",
      "[5]\tvalid_0's binary_error: 0.0004\n",
      "[6]\tvalid_0's binary_error: 0.0004\n",
      "[7]\tvalid_0's binary_error: 0.0004\n",
      "Early stopping, best iteration is:\n",
      "[2]\tvalid_0's binary_error: 0.0004\n"
     ]
    },
    {
     "name": "stderr",
     "output_type": "stream",
     "text": [
      "/home/denis/anaconda3/lib/python3.6/site-packages/sklearn/utils/deprecation.py:122: FutureWarning: You are accessing a training score ('train_neg_log_loss'), which will not be available by default any more in 0.21. If you need training scores, please set return_train_score=True\n",
      "  warnings.warn(*warn_args, **warn_kwargs)\n",
      "/home/denis/anaconda3/lib/python3.6/site-packages/sklearn/utils/deprecation.py:122: FutureWarning: You are accessing a training score ('train_roc_auc'), which will not be available by default any more in 0.21. If you need training scores, please set return_train_score=True\n",
      "  warnings.warn(*warn_args, **warn_kwargs)\n",
      "/home/denis/anaconda3/lib/python3.6/site-packages/sklearn/utils/deprecation.py:122: FutureWarning: You are accessing a training score ('train_f1'), which will not be available by default any more in 0.21. If you need training scores, please set return_train_score=True\n",
      "  warnings.warn(*warn_args, **warn_kwargs)\n",
      "/home/denis/anaconda3/lib/python3.6/site-packages/sklearn/utils/deprecation.py:122: FutureWarning: You are accessing a training score ('train_accuracy'), which will not be available by default any more in 0.21. If you need training scores, please set return_train_score=True\n",
      "  warnings.warn(*warn_args, **warn_kwargs)\n"
     ]
    }
   ],
   "source": [
    "clf = testing(X_norm, target)"
   ]
  },
  {
   "cell_type": "code",
   "execution_count": null,
   "metadata": {},
   "outputs": [],
   "source": []
  }
 ],
 "metadata": {
  "kernelspec": {
   "display_name": "Python 3",
   "language": "python",
   "name": "python3"
  },
  "language_info": {
   "codemirror_mode": {
    "name": "ipython",
    "version": 3
   },
   "file_extension": ".py",
   "mimetype": "text/x-python",
   "name": "python",
   "nbconvert_exporter": "python",
   "pygments_lexer": "ipython3",
   "version": "3.6.4"
  },
  "toc": {
   "base_numbering": 1,
   "nav_menu": {},
   "number_sections": true,
   "sideBar": true,
   "skip_h1_title": false,
   "title_cell": "Table of Contents",
   "title_sidebar": "Contents",
   "toc_cell": false,
   "toc_position": {},
   "toc_section_display": true,
   "toc_window_display": false
  },
  "varInspector": {
   "cols": {
    "lenName": 16,
    "lenType": 16,
    "lenVar": 40
   },
   "kernels_config": {
    "python": {
     "delete_cmd_postfix": "",
     "delete_cmd_prefix": "del ",
     "library": "var_list.py",
     "varRefreshCmd": "print(var_dic_list())"
    },
    "r": {
     "delete_cmd_postfix": ") ",
     "delete_cmd_prefix": "rm(",
     "library": "var_list.r",
     "varRefreshCmd": "cat(var_dic_list()) "
    }
   },
   "position": {
    "height": "154px",
    "left": "1550px",
    "right": "20px",
    "top": "120px",
    "width": "356px"
   },
   "types_to_exclude": [
    "module",
    "function",
    "builtin_function_or_method",
    "instance",
    "_Feature"
   ],
   "window_display": true
  }
 },
 "nbformat": 4,
 "nbformat_minor": 2
}
