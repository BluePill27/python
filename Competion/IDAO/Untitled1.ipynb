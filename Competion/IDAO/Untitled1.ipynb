{
 "cells": [
  {
   "cell_type": "code",
   "execution_count": 2,
   "metadata": {
    "scrolled": true
   },
   "outputs": [
    {
     "name": "stderr",
     "output_type": "stream",
     "text": [
      "/home/denis/anaconda3/lib/python3.6/site-packages/pandas/core/groupby.py:796: FutureWarning: pd.rolling_sum is deprecated for DataFrame and will be removed in a future version, replace with \n",
      "\tDataFrame.rolling(window=7,min_periods=1,center=False).sum()\n",
      "  return func(g, *args, **kwargs)\n"
     ]
    },
    {
     "name": "stdout",
     "output_type": "stream",
     "text": [
      "(150000, 10)\n",
      "(142761, 8)\n"
     ]
    }
   ],
   "source": [
    "import pandas as pd \n",
    "import numpy as np \n",
    "import lightgbm as lgb\n",
    "\n",
    "train = pd.read_csv('train.csv .zip')\n",
    "\n",
    "# Unique ATMs\n",
    "ATM_IDs = train.ATM_ID.unique()\n",
    "\n",
    "def time_preprocess(X):\n",
    "    X['Timestamp'] = pd.to_datetime(X['Timestamp'])\n",
    "    X['year'] = X['Timestamp'].dt.year\n",
    "    X['month'] = X['Timestamp'].dt.month \n",
    "    X['week'] = X['Timestamp'].dt.week\n",
    "    X['day'] = X['Timestamp'].dt.day\n",
    "    X['week_day'] = X['Timestamp'].dt.weekday\n",
    "    return X\n",
    "\n",
    "train.columns = ['Timestamp','ForecastId','Value']\n",
    "train = time_preprocess(train)\n",
    "\n",
    "train = train.drop(train[(train['month'] == 1) | (train['month'] == 12)].index)\n",
    "train = train[train.year>=2016].reset_index(drop=True)\n",
    "\n",
    "val = train[['ForecastId','Value']].groupby('ForecastId').diff()\n",
    "val['Value'] = val['Value'].fillna(0)\n",
    "val['Value'] = (val['Value']==0) * 1\n",
    "val.columns = ['diff']\n",
    "train = pd.concat([train, val], axis=1)\n",
    "\n",
    "a = train[['ForecastId','diff']].groupby('ForecastId').apply(pd.rolling_sum, 7, min_periods=1)\n",
    "a.columns = ['ForecastId', 'to_drop']\n",
    "a = a['to_drop']\n",
    "train = pd.concat([train, a], axis=1)\n",
    "\n",
    "print(train.shape)\n",
    "train = train[train['to_drop']<=3].reset_index(drop=True)\n",
    "train = train[['Timestamp','ForecastId','Value']]\n",
    "train = time_preprocess(train)\n",
    "print(train.shape)\n",
    "\n",
    "pred_dates  = ['2017-08-16', '2017-08-17', '2017-08-18', '2017-08-19',\n",
    "               '2017-08-20', '2017-08-21', '2017-08-22', '2017-08-23',\n",
    "               '2017-08-24', '2017-08-25', '2017-08-26', '2017-08-27',\n",
    "               '2017-08-28', '2017-08-29', '2017-08-30', '2017-08-31',\n",
    "               '2017-09-01', '2017-09-02', '2017-09-03', '2017-09-04',\n",
    "               '2017-09-05', '2017-09-06', '2017-09-07', '2017-09-08',\n",
    "               '2017-09-09', '2017-09-10', '2017-09-11', '2017-09-12',\n",
    "               '2017-09-13', '2017-09-14', '2017-09-15', '2017-09-16',\n",
    "               '2017-09-17']\n",
    "\n",
    "train_mask = train.Timestamp<=pd.to_datetime('2017-07-16')\n",
    "valid_mask = train.Timestamp>pd.to_datetime('2017-07-16')\n",
    "\n",
    "X_train = train[['ForecastId', 'year', 'month','week','day','week_day']][train_mask]\n",
    "X_valid = train[['ForecastId', 'year', 'month','week','day','week_day']][valid_mask]\n",
    "y_train = train['Value'][train_mask]\n",
    "y_valid = train['Value'][valid_mask]\n",
    "\n",
    "# custom metric \n",
    "def lgb_rmsle_score(preds, dtrain):\n",
    "    labels = dtrain.get_label()\n",
    "    preds = preds\n",
    "    return 'rmsle', np.sum(abs(labels-preds))/np.sum(labels)*10000, False"
   ]
  },
  {
   "cell_type": "code",
   "execution_count": null,
   "metadata": {
    "collapsed": true
   },
   "outputs": [],
   "source": []
  },
  {
   "cell_type": "code",
   "execution_count": null,
   "metadata": {
    "collapsed": true
   },
   "outputs": [],
   "source": []
  }
 ],
 "metadata": {
  "kernelspec": {
   "display_name": "Python 3",
   "language": "python",
   "name": "python3"
  },
  "language_info": {
   "codemirror_mode": {
    "name": "ipython",
    "version": 3
   },
   "file_extension": ".py",
   "mimetype": "text/x-python",
   "name": "python",
   "nbconvert_exporter": "python",
   "pygments_lexer": "ipython3",
   "version": "3.6.4"
  }
 },
 "nbformat": 4,
 "nbformat_minor": 2
}
