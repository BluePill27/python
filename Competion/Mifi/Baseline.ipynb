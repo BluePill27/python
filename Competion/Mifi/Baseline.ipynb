{
 "cells": [
  {
   "cell_type": "code",
   "execution_count": 1,
   "metadata": {
    "ExecuteTime": {
     "end_time": "2018-06-27T12:21:30.693019Z",
     "start_time": "2018-06-27T12:21:30.507967Z"
    }
   },
   "outputs": [],
   "source": [
    "import pandas as pd, numpy as np\n",
    "from tqdm import tqdm_notebook\n",
    "import time\n",
    "import urllib.request as ur"
   ]
  },
  {
   "cell_type": "code",
   "execution_count": 2,
   "metadata": {
    "ExecuteTime": {
     "end_time": "2018-06-27T12:21:30.702705Z",
     "start_time": "2018-06-27T12:21:30.693947Z"
    }
   },
   "outputs": [],
   "source": [
    "train = pd.read_csv('data/train.csv', index_col = 'id')\n",
    "test = pd.read_csv('data/test.csv', index_col = 'id')"
   ]
  },
  {
   "cell_type": "code",
   "execution_count": 3,
   "metadata": {
    "ExecuteTime": {
     "end_time": "2018-06-27T12:21:30.726374Z",
     "start_time": "2018-06-27T12:21:30.703587Z"
    }
   },
   "outputs": [],
   "source": [
    "train['date'] = pd.to_datetime(train['date'], format='%Y+AC0-%m+AC0-%d').astype(str)\n",
    "test['date'] = pd.to_datetime(test['date'], format='%Y+AC0-%m+AC0-%d').astype(str)"
   ]
  },
  {
   "cell_type": "code",
   "execution_count": 4,
   "metadata": {
    "ExecuteTime": {
     "end_time": "2018-06-27T12:21:30.730332Z",
     "start_time": "2018-06-27T12:21:30.727254Z"
    }
   },
   "outputs": [],
   "source": [
    "def holidays(d, m, year):\n",
    "    time.sleep(0.2)\n",
    "    elevations = ur.urlopen(\"https://kayaposoft.com/enrico/json/v2.0/?action=isPublicHoliday&date=\"+str(d)+'-'+str(m)+'-'+str(year)+\"&country=ru\").read()\n",
    "    data = json.loads(elevations)\n",
    "    if data['isPublicHoliday'] == True:\n",
    "        return 1\n",
    "    else:\n",
    "        return 0\n",
    "\n",
    "def extr(df, date_column):\n",
    "    df['tm_year'] = df[date_column].apply(lambda x: time.strptime(str(x), '%Y-%m-%d')[0])\n",
    "    df['tm_mon'] = df[date_column].apply(lambda x:  time.strptime(str(x), '%Y-%m-%d')[1])\n",
    "    df['tm_mday'] = df[date_column].apply(lambda x: time.strptime(str(x), '%Y-%m-%d')[2])\n",
    "    df['tm_wday'] = df[date_column].apply(lambda x: time.strptime(str(x), '%Y-%m-%d')[6])\n",
    "    df['tm_yday'] = df[date_column].apply(lambda x: time.strptime(str(x), '%Y-%m-%d')[7])\n",
    "    del df[date_column]\n",
    "    return df"
   ]
  },
  {
   "cell_type": "code",
   "execution_count": 5,
   "metadata": {
    "ExecuteTime": {
     "end_time": "2018-06-27T12:21:30.888953Z",
     "start_time": "2018-06-27T12:21:30.731298Z"
    }
   },
   "outputs": [],
   "source": [
    "train = extr(train, 'date')\n",
    "test = extr(test, 'date')"
   ]
  },
  {
   "cell_type": "code",
   "execution_count": 6,
   "metadata": {
    "ExecuteTime": {
     "end_time": "2018-06-27T12:21:31.002630Z",
     "start_time": "2018-06-27T12:21:30.889848Z"
    }
   },
   "outputs": [],
   "source": [
    "from sklearn.preprocessing import LabelEncoder"
   ]
  },
  {
   "cell_type": "code",
   "execution_count": 7,
   "metadata": {
    "ExecuteTime": {
     "end_time": "2018-06-27T12:21:31.007142Z",
     "start_time": "2018-06-27T12:21:31.003598Z"
    }
   },
   "outputs": [],
   "source": [
    "enc = LabelEncoder()\n",
    "train['name'] = enc.fit_transform(train['name'])\n",
    "test['name'] = enc.transform(test['name'])"
   ]
  },
  {
   "cell_type": "code",
   "execution_count": 8,
   "metadata": {
    "ExecuteTime": {
     "end_time": "2018-06-27T12:21:31.012826Z",
     "start_time": "2018-06-27T12:21:31.007997Z"
    }
   },
   "outputs": [],
   "source": [
    "X = train[[c for c in train.columns if c!= 'market']]\n",
    "y = train['market']"
   ]
  },
  {
   "cell_type": "code",
   "execution_count": 9,
   "metadata": {
    "ExecuteTime": {
     "end_time": "2018-06-27T12:21:31.021227Z",
     "start_time": "2018-06-27T12:21:31.013658Z"
    }
   },
   "outputs": [],
   "source": [
    "from sklearn.model_selection import cross_validate, TimeSeriesSplit"
   ]
  },
  {
   "cell_type": "code",
   "execution_count": 10,
   "metadata": {
    "ExecuteTime": {
     "end_time": "2018-06-27T12:21:31.028593Z",
     "start_time": "2018-06-27T12:21:31.022129Z"
    }
   },
   "outputs": [],
   "source": [
    "import xgboost as xgb"
   ]
  },
  {
   "cell_type": "code",
   "execution_count": 11,
   "metadata": {
    "ExecuteTime": {
     "end_time": "2018-06-27T12:21:31.031014Z",
     "start_time": "2018-06-27T12:21:31.029439Z"
    }
   },
   "outputs": [],
   "source": [
    "clf = xgb.XGBRegressor()"
   ]
  },
  {
   "cell_type": "code",
   "execution_count": 12,
   "metadata": {
    "ExecuteTime": {
     "end_time": "2018-06-27T12:21:31.035018Z",
     "start_time": "2018-06-27T12:21:31.031835Z"
    }
   },
   "outputs": [],
   "source": [
    "cv = TimeSeriesSplit(n_splits=8)"
   ]
  },
  {
   "cell_type": "code",
   "execution_count": 13,
   "metadata": {
    "ExecuteTime": {
     "end_time": "2018-06-27T12:21:31.046809Z",
     "start_time": "2018-06-27T12:21:31.035860Z"
    }
   },
   "outputs": [
    {
     "data": {
      "text/plain": [
       "100.0"
      ]
     },
     "execution_count": 13,
     "metadata": {},
     "output_type": "execute_result"
    }
   ],
   "source": [
    "round(100.003, 2)"
   ]
  },
  {
   "cell_type": "code",
   "execution_count": 14,
   "metadata": {
    "ExecuteTime": {
     "end_time": "2018-06-27T12:21:31.352605Z",
     "start_time": "2018-06-27T12:21:31.047675Z"
    }
   },
   "outputs": [
    {
     "name": "stderr",
     "output_type": "stream",
     "text": [
      "/home/denis/anaconda3/lib/python3.6/site-packages/sklearn/utils/deprecation.py:122: FutureWarning: You are accessing a training score ('train_score'), which will not be available by default any more in 0.21. If you need training scores, please set return_train_score=True\n",
      "  warnings.warn(*warn_args, **warn_kwargs)\n"
     ]
    },
    {
     "data": {
      "text/plain": [
       "fit_time             0.18\n",
       "score_time           0.03\n",
       "test_score     3015939.15\n",
       "train_score     406802.73\n",
       "dtype: float64"
      ]
     },
     "execution_count": 14,
     "metadata": {},
     "output_type": "execute_result"
    }
   ],
   "source": [
    "pd.DataFrame(cross_validate(clf, X, y, cv = cv, scoring='neg_mean_squared_error')).mean().apply(lambda x: round(np.sqrt(abs(x)), 2))"
   ]
  },
  {
   "cell_type": "code",
   "execution_count": 15,
   "metadata": {
    "ExecuteTime": {
     "end_time": "2018-06-27T12:21:31.413939Z",
     "start_time": "2018-06-27T12:21:31.353565Z"
    }
   },
   "outputs": [
    {
     "data": {
      "text/plain": [
       "XGBRegressor(base_score=0.5, booster='gbtree', colsample_bylevel=1,\n",
       "       colsample_bytree=1, gamma=0, learning_rate=0.1, max_delta_step=0,\n",
       "       max_depth=3, min_child_weight=1, missing=None, n_estimators=100,\n",
       "       n_jobs=1, nthread=None, objective='reg:linear', random_state=0,\n",
       "       reg_alpha=0, reg_lambda=1, scale_pos_weight=1, seed=None,\n",
       "       silent=True, subsample=1)"
      ]
     },
     "execution_count": 15,
     "metadata": {},
     "output_type": "execute_result"
    }
   ],
   "source": [
    "clf.fit(X, y)"
   ]
  },
  {
   "cell_type": "code",
   "execution_count": 16,
   "metadata": {
    "ExecuteTime": {
     "end_time": "2018-06-27T12:21:31.417404Z",
     "start_time": "2018-06-27T12:21:31.414779Z"
    }
   },
   "outputs": [],
   "source": [
    "y_pred = clf.predict(test)"
   ]
  },
  {
   "cell_type": "code",
   "execution_count": 17,
   "metadata": {
    "ExecuteTime": {
     "end_time": "2018-06-27T12:21:31.422008Z",
     "start_time": "2018-06-27T12:21:31.418207Z"
    }
   },
   "outputs": [],
   "source": [
    "sample = pd.read_csv('data/sample_submission.csv', index_col='id')"
   ]
  },
  {
   "cell_type": "code",
   "execution_count": 18,
   "metadata": {
    "ExecuteTime": {
     "end_time": "2018-06-27T12:21:31.426415Z",
     "start_time": "2018-06-27T12:21:31.422859Z"
    }
   },
   "outputs": [],
   "source": [
    "sample['market'] = y_pred"
   ]
  },
  {
   "cell_type": "code",
   "execution_count": 19,
   "metadata": {
    "ExecuteTime": {
     "end_time": "2018-06-27T12:21:31.431421Z",
     "start_time": "2018-06-27T12:21:31.427243Z"
    }
   },
   "outputs": [],
   "source": [
    "sample.to_csv('results.csv')"
   ]
  },
  {
   "cell_type": "code",
   "execution_count": null,
   "metadata": {},
   "outputs": [],
   "source": []
  }
 ],
 "metadata": {
  "kernelspec": {
   "display_name": "Python 3",
   "language": "python",
   "name": "python3"
  },
  "language_info": {
   "codemirror_mode": {
    "name": "ipython",
    "version": 3
   },
   "file_extension": ".py",
   "mimetype": "text/x-python",
   "name": "python",
   "nbconvert_exporter": "python",
   "pygments_lexer": "ipython3",
   "version": "3.6.4"
  },
  "toc": {
   "base_numbering": 1,
   "nav_menu": {},
   "number_sections": true,
   "sideBar": true,
   "skip_h1_title": false,
   "title_cell": "Table of Contents",
   "title_sidebar": "Contents",
   "toc_cell": false,
   "toc_position": {},
   "toc_section_display": true,
   "toc_window_display": false
  },
  "varInspector": {
   "cols": {
    "lenName": 16,
    "lenType": 16,
    "lenVar": 40
   },
   "kernels_config": {
    "python": {
     "delete_cmd_postfix": "",
     "delete_cmd_prefix": "del ",
     "library": "var_list.py",
     "varRefreshCmd": "print(var_dic_list())"
    },
    "r": {
     "delete_cmd_postfix": ") ",
     "delete_cmd_prefix": "rm(",
     "library": "var_list.r",
     "varRefreshCmd": "cat(var_dic_list()) "
    }
   },
   "types_to_exclude": [
    "module",
    "function",
    "builtin_function_or_method",
    "instance",
    "_Feature"
   ],
   "window_display": false
  }
 },
 "nbformat": 4,
 "nbformat_minor": 2
}
