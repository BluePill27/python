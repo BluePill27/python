{
 "cells": [
  {
   "cell_type": "code",
   "execution_count": 1,
   "metadata": {},
   "outputs": [],
   "source": [
    "import pandas as pd\n",
    "import numpy as np\n",
    "import cv2\n",
    "import os"
   ]
  },
  {
   "cell_type": "code",
   "execution_count": 2,
   "metadata": {},
   "outputs": [
    {
     "name": "stdout",
     "output_type": "stream",
     "text": [
      "real  spoof\n"
     ]
    }
   ],
   "source": [
    "!ls data/IDRND_FASDB_train/"
   ]
  },
  {
   "cell_type": "raw",
   "metadata": {},
   "source": [
    "for name in os.listdir('data/Selfie-dataset/images')[:6000]:\n",
    "    os.system('mv data/Selfie-dataset/images/{} '.format(name)+'data/IDRND_FASDB_train/real/')"
   ]
  },
  {
   "cell_type": "raw",
   "metadata": {},
   "source": [
    "for name in os.listdir('data/Selfie-dataset/images')[:300]:\n",
    "    os.system('mv data/Selfie-dataset/images/{} '.format(name)+'data/IDRND_FASDB_val/real/')"
   ]
  },
  {
   "cell_type": "code",
   "execution_count": 3,
   "metadata": {},
   "outputs": [],
   "source": [
    "from skimage import io"
   ]
  },
  {
   "cell_type": "code",
   "execution_count": 5,
   "metadata": {},
   "outputs": [],
   "source": [
    "def _get_data_list(label, t = 'train'):\n",
    "    pathes = []\n",
    "    path = 'data/IDRND_FASDB_{}/'.format(t)+label\n",
    "    for itr, name in enumerate(os.listdir(path)):\n",
    "        if len(name.split('.')) >= 3:\n",
    "            os.rename(path+name, path+name.split('.')[1] + '.' + name.split('.')[-1])\n",
    "#        io.imread(path+'/'+name)\n",
    "        pathes.append([path+'/'+name, label])\n",
    "    return pathes"
   ]
  },
  {
   "cell_type": "code",
   "execution_count": 6,
   "metadata": {},
   "outputs": [],
   "source": [
    "train = pd.DataFrame(np.concatenate((_get_data_list('spoof'), \n",
    "                                     _get_data_list('real'))), columns=['PATH', 'LABEL'])\n",
    "\n",
    "val = pd.DataFrame(np.concatenate((_get_data_list('spoof', 'val'),\n",
    "                                    _get_data_list('real', 'val'))), columns=['PATH', 'LABEL'])"
   ]
  },
  {
   "cell_type": "code",
   "execution_count": 7,
   "metadata": {},
   "outputs": [],
   "source": [
    "test = pd.DataFrame([name for name in os.listdir('data/test')], columns=['PATH'])"
   ]
  },
  {
   "cell_type": "code",
   "execution_count": 8,
   "metadata": {},
   "outputs": [
    {
     "data": {
      "text/plain": [
       "real     7223\n",
       "spoof    7072\n",
       "Name: LABEL, dtype: int64"
      ]
     },
     "execution_count": 8,
     "metadata": {},
     "output_type": "execute_result"
    }
   ],
   "source": [
    "train['LABEL'].value_counts()"
   ]
  },
  {
   "cell_type": "code",
   "execution_count": 9,
   "metadata": {},
   "outputs": [
    {
     "data": {
      "text/plain": [
       "real     673\n",
       "spoof    632\n",
       "Name: LABEL, dtype: int64"
      ]
     },
     "execution_count": 9,
     "metadata": {},
     "output_type": "execute_result"
    }
   ],
   "source": [
    "val['LABEL'].value_counts()"
   ]
  },
  {
   "cell_type": "code",
   "execution_count": 10,
   "metadata": {},
   "outputs": [
    {
     "data": {
      "text/plain": [
       "10003"
      ]
     },
     "execution_count": 10,
     "metadata": {},
     "output_type": "execute_result"
    }
   ],
   "source": [
    "test['PATH'].value_counts().sum()"
   ]
  },
  {
   "cell_type": "markdown",
   "metadata": {},
   "source": [
    "### Labels\n",
    "\n",
    "0 - spoof\n",
    "\n",
    "1 - real"
   ]
  },
  {
   "cell_type": "code",
   "execution_count": 11,
   "metadata": {},
   "outputs": [],
   "source": [
    "train['LABEL'] = train['LABEL'].apply(lambda x: 0 if x == 'spoof' else 1)\n",
    "val['LABEL'] = val['LABEL'].apply(lambda x: 0 if x == 'spoof' else 1)"
   ]
  },
  {
   "cell_type": "code",
   "execution_count": 12,
   "metadata": {},
   "outputs": [],
   "source": [
    "train.to_csv('data/train.csv', index=False)\n",
    "test.to_csv('data/test.csv', index=False)\n",
    "val.to_csv('data/val.csv', index=False)"
   ]
  },
  {
   "cell_type": "code",
   "execution_count": 13,
   "metadata": {},
   "outputs": [
    {
     "data": {
      "text/html": [
       "<div>\n",
       "<style scoped>\n",
       "    .dataframe tbody tr th:only-of-type {\n",
       "        vertical-align: middle;\n",
       "    }\n",
       "\n",
       "    .dataframe tbody tr th {\n",
       "        vertical-align: top;\n",
       "    }\n",
       "\n",
       "    .dataframe thead th {\n",
       "        text-align: right;\n",
       "    }\n",
       "</style>\n",
       "<table border=\"1\" class=\"dataframe\">\n",
       "  <thead>\n",
       "    <tr style=\"text-align: right;\">\n",
       "      <th></th>\n",
       "      <th>PATH</th>\n",
       "      <th>LABEL</th>\n",
       "    </tr>\n",
       "  </thead>\n",
       "  <tbody>\n",
       "    <tr>\n",
       "      <th>0</th>\n",
       "      <td>data/IDRND_FASDB_train/spoof/YOUTUBE_LG5802015...</td>\n",
       "      <td>0</td>\n",
       "    </tr>\n",
       "    <tr>\n",
       "      <th>1</th>\n",
       "      <td>data/IDRND_FASDB_train/spoof/YOUTUBE_L1752S_SG...</td>\n",
       "      <td>0</td>\n",
       "    </tr>\n",
       "    <tr>\n",
       "      <th>2</th>\n",
       "      <td>data/IDRND_FASDB_train/spoof/FT720P_MBP1314_IP...</td>\n",
       "      <td>0</td>\n",
       "    </tr>\n",
       "    <tr>\n",
       "      <th>3</th>\n",
       "      <td>data/IDRND_FASDB_train/spoof/YOUTUBE_IIYAMAXB_...</td>\n",
       "      <td>0</td>\n",
       "    </tr>\n",
       "    <tr>\n",
       "      <th>4</th>\n",
       "      <td>data/IDRND_FASDB_train/spoof/FT720P_MBP1314_IP...</td>\n",
       "      <td>0</td>\n",
       "    </tr>\n",
       "  </tbody>\n",
       "</table>\n",
       "</div>"
      ],
      "text/plain": [
       "                                                PATH  LABEL\n",
       "0  data/IDRND_FASDB_train/spoof/YOUTUBE_LG5802015...      0\n",
       "1  data/IDRND_FASDB_train/spoof/YOUTUBE_L1752S_SG...      0\n",
       "2  data/IDRND_FASDB_train/spoof/FT720P_MBP1314_IP...      0\n",
       "3  data/IDRND_FASDB_train/spoof/YOUTUBE_IIYAMAXB_...      0\n",
       "4  data/IDRND_FASDB_train/spoof/FT720P_MBP1314_IP...      0"
      ]
     },
     "execution_count": 13,
     "metadata": {},
     "output_type": "execute_result"
    }
   ],
   "source": [
    "train.head()"
   ]
  },
  {
   "cell_type": "code",
   "execution_count": null,
   "metadata": {},
   "outputs": [],
   "source": [
    "os.listdir('/home/denis/GitHub/python/Competion/Boost.face/data/IDRND_FASDB_train/spoof')[1].split('.')[-1]"
   ]
  },
  {
   "cell_type": "code",
   "execution_count": null,
   "metadata": {},
   "outputs": [],
   "source": []
  },
  {
   "cell_type": "code",
   "execution_count": null,
   "metadata": {},
   "outputs": [],
   "source": []
  }
 ],
 "metadata": {
  "kernelspec": {
   "display_name": "Python 3",
   "language": "python",
   "name": "python3"
  },
  "language_info": {
   "codemirror_mode": {
    "name": "ipython",
    "version": 3
   },
   "file_extension": ".py",
   "mimetype": "text/x-python",
   "name": "python",
   "nbconvert_exporter": "python",
   "pygments_lexer": "ipython3",
   "version": "3.6.4"
  }
 },
 "nbformat": 4,
 "nbformat_minor": 2
}
