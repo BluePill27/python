{
 "cells": [
  {
   "cell_type": "code",
   "execution_count": 1,
   "metadata": {},
   "outputs": [
    {
     "name": "stdout",
     "output_type": "stream",
     "text": [
      "--2018-10-31 20:21:52--  https://s3.eu-central-1.amazonaws.com/sdsj2018-automl/public/sdsj2018_automl_check_datasets.zip\n",
      "Resolving s3.eu-central-1.amazonaws.com (s3.eu-central-1.amazonaws.com)... 52.219.72.0\n",
      "Connecting to s3.eu-central-1.amazonaws.com (s3.eu-central-1.amazonaws.com)|52.219.72.0|:443... connected.\n",
      "HTTP request sent, awaiting response... 200 OK\n",
      "Length: 365183061 (348M) [application/zip]\n",
      "Saving to: ‘sdsj2018_automl_check_datasets.zip’\n",
      "\n",
      "sdsj2018_automl_che 100%[===================>] 348,27M  4,34MB/s    in 81s     \n",
      "\n",
      "2018-10-31 20:23:13 (4,31 MB/s) - ‘sdsj2018_automl_check_datasets.zip’ saved [365183061/365183061]\n",
      "\n"
     ]
    }
   ],
   "source": [
    "!wget https://s3.eu-central-1.amazonaws.com/sdsj2018-automl/public/sdsj2018_automl_check_datasets.zip"
   ]
  },
  {
   "cell_type": "code",
   "execution_count": 4,
   "metadata": {},
   "outputs": [
    {
     "name": "stdout",
     "output_type": "stream",
     "text": [
      "Archive:  sdsj2018_automl_check_datasets.zip\n",
      "   creating: check_1_r/\n",
      "  inflating: check_1_r/test.csv      \n",
      "  inflating: check_1_r/train.csv     \n",
      "  inflating: check_1_r/test-target.csv  \n",
      "   creating: check_2_r/\n",
      "  inflating: check_2_r/test.csv      \n",
      "  inflating: check_2_r/train.csv     \n",
      "  inflating: check_2_r/test-target.csv  \n",
      "   creating: check_3_r/\n",
      "  inflating: check_3_r/test.csv      \n",
      "  inflating: check_3_r/train.csv     \n",
      "  inflating: check_3_r/test-target.csv  \n",
      "   creating: check_4_c/\n",
      "  inflating: check_4_c/test.csv      \n",
      "  inflating: check_4_c/train.csv     \n",
      "  inflating: check_4_c/test-target.csv  \n",
      "   creating: check_5_c/\n",
      "  inflating: check_5_c/test.csv      \n",
      "  inflating: check_5_c/train.csv     \n",
      "  inflating: check_5_c/test-target.csv  \n",
      "   creating: check_6_c/\n",
      "  inflating: check_6_c/test.csv      \n",
      "  inflating: check_6_c/train.csv     \n",
      "  inflating: check_6_c/test-target.csv  \n",
      "   creating: check_7_c/\n",
      "  inflating: check_7_c/test.csv      \n",
      "  inflating: check_7_c/train.csv     \n",
      "  inflating: check_7_c/test-target.csv  \n",
      "   creating: check_8_c/\n",
      "  inflating: check_8_c/test.csv      \n",
      "  inflating: check_8_c/train.csv     \n",
      "  inflating: check_8_c/test-target.csv  \n"
     ]
    }
   ],
   "source": [
    "!unzip -x sdsj2018_automl_check_datasets.zip"
   ]
  },
  {
   "cell_type": "code",
   "execution_count": 6,
   "metadata": {},
   "outputs": [
    {
     "name": "stdout",
     "output_type": "stream",
     "text": [
      "Cloning into 'sdsj2018_hyperopt_baseline'...\n",
      "remote: Enumerating objects: 18, done.\u001b[K\n",
      "remote: Counting objects: 100% (18/18), done.\u001b[K\n",
      "remote: Compressing objects: 100% (18/18), done.\u001b[K\n",
      "remote: Total 18 (delta 4), reused 10 (delta 0), pack-reused 0\u001b[K\n",
      "Unpacking objects: 100% (18/18), done.\n",
      "Checking connectivity... done.\n"
     ]
    }
   ],
   "source": [
    "!git clone https://github.com/antklen/sdsj2018_hyperopt_baseline.git"
   ]
  },
  {
   "cell_type": "code",
   "execution_count": 8,
   "metadata": {},
   "outputs": [
    {
     "name": "stdout",
     "output_type": "stream",
     "text": [
      "usage: train.py [-h] --train-csv TRAIN_CSV --model-dir MODEL_DIR --mode\n",
      "                {classification,regression}\n",
      "train.py: error: the following arguments are required: --train-csv, --model-dir, --mode\n"
     ]
    }
   ],
   "source": [
    "!python train.py"
   ]
  },
  {
   "cell_type": "code",
   "execution_count": null,
   "metadata": {},
   "outputs": [],
   "source": []
  }
 ],
 "metadata": {
  "kernelspec": {
   "display_name": "Python 3",
   "language": "python",
   "name": "python3"
  },
  "language_info": {
   "codemirror_mode": {
    "name": "ipython",
    "version": 3
   },
   "file_extension": ".py",
   "mimetype": "text/x-python",
   "name": "python",
   "nbconvert_exporter": "python",
   "pygments_lexer": "ipython3",
   "version": "3.6.4"
  }
 },
 "nbformat": 4,
 "nbformat_minor": 2
}
