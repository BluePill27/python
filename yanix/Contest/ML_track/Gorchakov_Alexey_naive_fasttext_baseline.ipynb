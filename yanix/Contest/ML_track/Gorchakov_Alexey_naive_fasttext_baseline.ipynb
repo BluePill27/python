{
 "cells": [
  {
   "cell_type": "markdown",
   "metadata": {},
   "source": [
    "# Yandex Algorithm 2018 ML Track\n",
    "\n",
    "## простой baseline на основе Facebook fastText \n",
    "при подкрутке параметров может давать более 84000-85500"
   ]
  },
  {
   "cell_type": "markdown",
   "metadata": {},
   "source": [
    "Будем использовать оригинальный python binding от Facebook:\n",
    "  * основная страница https://fasttext.cc/docs/en/english-vectors.html\n",
    "  * python binding собирао из trunk: https://github.com/facebookresearch/fastText/tree/master/python\n",
    "  * обученную модель брал со следующей страницы: https://fasttext.cc/docs/en/pretrained-vectors.html"
   ]
  },
  {
   "cell_type": "markdown",
   "metadata": {},
   "source": [
    "Весь workflow скопирван с предыдущего baseline от Cheremisin Oleg:\n",
    "    https://github.com/applied-data-science/Data_Mining_in_Action_2018_Spring/blob/master/sport/hw2_yandex_algorithm_2018/benchmarks/Cheremisin_Oleg_easy_tfidf_baseline.ipynb"
   ]
  },
  {
   "cell_type": "code",
   "execution_count": 5,
   "metadata": {
    "ExecuteTime": {
     "end_time": "2018-04-18T11:49:25.286540Z",
     "start_time": "2018-04-18T11:49:25.284972Z"
    }
   },
   "outputs": [],
   "source": [
    "import fastText"
   ]
  },
  {
   "cell_type": "code",
   "execution_count": 7,
   "metadata": {
    "ExecuteTime": {
     "end_time": "2018-04-18T11:50:11.033645Z",
     "start_time": "2018-04-18T11:49:36.881324Z"
    }
   },
   "outputs": [],
   "source": [
    "ft_model = fastText.load_model(\"./fastText/cc.ru.300.bin\")"
   ]
  },
  {
   "cell_type": "code",
   "execution_count": 9,
   "metadata": {
    "ExecuteTime": {
     "end_time": "2018-04-18T11:51:12.670440Z",
     "start_time": "2018-04-18T11:51:12.667505Z"
    }
   },
   "outputs": [],
   "source": [
    "import pandas as pd\n",
    "import numpy as np"
   ]
  },
  {
   "cell_type": "code",
   "execution_count": 10,
   "metadata": {
    "ExecuteTime": {
     "end_time": "2018-04-18T11:51:17.131662Z",
     "start_time": "2018-04-18T11:51:16.931078Z"
    },
    "scrolled": true
   },
   "outputs": [],
   "source": [
    "train = pd.read_csv('data/train.tsv', sep='\\t', quoting=3, header=None, encoding=\"utf-8\")"
   ]
  },
  {
   "cell_type": "code",
   "execution_count": 11,
   "metadata": {
    "ExecuteTime": {
     "end_time": "2018-04-18T11:51:17.563553Z",
     "start_time": "2018-04-18T11:51:17.530257Z"
    }
   },
   "outputs": [],
   "source": [
    "test = pd.read_csv('data/public.tsv', sep='\\t', quoting=3, error_bad_lines=False, header=None, encoding=\"utf-8\")"
   ]
  },
  {
   "cell_type": "code",
   "execution_count": 12,
   "metadata": {
    "ExecuteTime": {
     "end_time": "2018-04-18T11:51:18.341732Z",
     "start_time": "2018-04-18T11:51:18.336080Z"
    }
   },
   "outputs": [
    {
     "data": {
      "text/plain": [
       "(9968, 6)"
      ]
     },
     "execution_count": 12,
     "metadata": {},
     "output_type": "execute_result"
    }
   ],
   "source": [
    "test.shape"
   ]
  },
  {
   "cell_type": "code",
   "execution_count": 13,
   "metadata": {
    "ExecuteTime": {
     "end_time": "2018-04-18T11:51:18.997340Z",
     "start_time": "2018-04-18T11:51:18.954297Z"
    }
   },
   "outputs": [],
   "source": [
    "train.fillna('', inplace=True)\n",
    "test.fillna('', inplace=True)"
   ]
  },
  {
   "cell_type": "code",
   "execution_count": 14,
   "metadata": {
    "ExecuteTime": {
     "end_time": "2018-04-18T11:51:19.559358Z",
     "start_time": "2018-04-18T11:51:19.527037Z"
    }
   },
   "outputs": [
    {
     "data": {
      "text/html": [
       "<div>\n",
       "<style scoped>\n",
       "    .dataframe tbody tr th:only-of-type {\n",
       "        vertical-align: middle;\n",
       "    }\n",
       "\n",
       "    .dataframe tbody tr th {\n",
       "        vertical-align: top;\n",
       "    }\n",
       "\n",
       "    .dataframe thead th {\n",
       "        text-align: right;\n",
       "    }\n",
       "</style>\n",
       "<table border=\"1\" class=\"dataframe\">\n",
       "  <thead>\n",
       "    <tr style=\"text-align: right;\">\n",
       "      <th></th>\n",
       "      <th>0</th>\n",
       "      <th>1</th>\n",
       "      <th>2</th>\n",
       "      <th>3</th>\n",
       "      <th>4</th>\n",
       "      <th>5</th>\n",
       "      <th>6</th>\n",
       "      <th>7</th>\n",
       "    </tr>\n",
       "  </thead>\n",
       "  <tbody>\n",
       "    <tr>\n",
       "      <th>71270</th>\n",
       "      <td>205138670204625</td>\n",
       "      <td>только не говори , что ты забыла , какой сегод...</td>\n",
       "      <td>ну , это не годовщина свадьбы , или мой день р...</td>\n",
       "      <td>поверить не могу , что ты забыла .</td>\n",
       "      <td>2</td>\n",
       "      <td>мне самой не верится .</td>\n",
       "      <td>good</td>\n",
       "      <td>0.927451</td>\n",
       "    </tr>\n",
       "    <tr>\n",
       "      <th>81962</th>\n",
       "      <td>236272223294384</td>\n",
       "      <td>вероятно .</td>\n",
       "      <td>мы живем в мире , полном вероятностей .</td>\n",
       "      <td>ну . . .</td>\n",
       "      <td>0</td>\n",
       "      <td>что , если это все ?</td>\n",
       "      <td>good</td>\n",
       "      <td>0.955260</td>\n",
       "    </tr>\n",
       "    <tr>\n",
       "      <th>43799</th>\n",
       "      <td>125709547554888</td>\n",
       "      <td></td>\n",
       "      <td>я отдам своему отцу часть печени</td>\n",
       "      <td>у него печеночная недостаточность на последней...</td>\n",
       "      <td>5</td>\n",
       "      <td>\" и блестит в моих глазах \"</td>\n",
       "      <td>bad</td>\n",
       "      <td>0.958676</td>\n",
       "    </tr>\n",
       "  </tbody>\n",
       "</table>\n",
       "</div>"
      ],
      "text/plain": [
       "                     0                                                  1  \\\n",
       "71270  205138670204625  только не говори , что ты забыла , какой сегод...   \n",
       "81962  236272223294384                                         вероятно .   \n",
       "43799  125709547554888                                                      \n",
       "\n",
       "                                                       2  \\\n",
       "71270  ну , это не годовщина свадьбы , или мой день р...   \n",
       "81962            мы живем в мире , полном вероятностей .   \n",
       "43799                   я отдам своему отцу часть печени   \n",
       "\n",
       "                                                       3  4  \\\n",
       "71270                 поверить не могу , что ты забыла .  2   \n",
       "81962                                           ну . . .  0   \n",
       "43799  у него печеночная недостаточность на последней...  5   \n",
       "\n",
       "                                 5     6         7  \n",
       "71270       мне самой не верится .  good  0.927451  \n",
       "81962         что , если это все ?  good  0.955260  \n",
       "43799  \" и блестит в моих глазах \"   bad  0.958676  "
      ]
     },
     "execution_count": 14,
     "metadata": {},
     "output_type": "execute_result"
    }
   ],
   "source": [
    "train.sample(3)"
   ]
  },
  {
   "cell_type": "code",
   "execution_count": 15,
   "metadata": {
    "ExecuteTime": {
     "end_time": "2018-04-18T11:51:20.237038Z",
     "start_time": "2018-04-18T11:51:20.211854Z"
    }
   },
   "outputs": [
    {
     "data": {
      "text/html": [
       "<div>\n",
       "<style scoped>\n",
       "    .dataframe tbody tr th:only-of-type {\n",
       "        vertical-align: middle;\n",
       "    }\n",
       "\n",
       "    .dataframe tbody tr th {\n",
       "        vertical-align: top;\n",
       "    }\n",
       "\n",
       "    .dataframe thead th {\n",
       "        text-align: right;\n",
       "    }\n",
       "</style>\n",
       "<table border=\"1\" class=\"dataframe\">\n",
       "  <thead>\n",
       "    <tr style=\"text-align: right;\">\n",
       "      <th></th>\n",
       "      <th>0</th>\n",
       "      <th>1</th>\n",
       "      <th>2</th>\n",
       "      <th>3</th>\n",
       "      <th>4</th>\n",
       "      <th>5</th>\n",
       "    </tr>\n",
       "  </thead>\n",
       "  <tbody>\n",
       "    <tr>\n",
       "      <th>4753</th>\n",
       "      <td>136687627005334</td>\n",
       "      <td>он сейчас с иисусом .</td>\n",
       "      <td>а мама - нет .</td>\n",
       "      <td>она с тобой , со мной и с джорджем .</td>\n",
       "      <td>0</td>\n",
       "      <td>другой со мной .</td>\n",
       "    </tr>\n",
       "    <tr>\n",
       "      <th>6014</th>\n",
       "      <td>170387729221106</td>\n",
       "      <td></td>\n",
       "      <td></td>\n",
       "      <td>чувак , она оставила тебе деньги ?</td>\n",
       "      <td>0</td>\n",
       "      <td>да .</td>\n",
       "    </tr>\n",
       "    <tr>\n",
       "      <th>4629</th>\n",
       "      <td>133057534030884</td>\n",
       "      <td>моим родителям нравятся .</td>\n",
       "      <td>( смеясь ) :</td>\n",
       "      <td>спасибо , что не говоришь \" предкам \" .</td>\n",
       "      <td>2</td>\n",
       "      <td>\" потому что дураки \" .</td>\n",
       "    </tr>\n",
       "  </tbody>\n",
       "</table>\n",
       "</div>"
      ],
      "text/plain": [
       "                    0                          1               2  \\\n",
       "4753  136687627005334      он сейчас с иисусом .  а мама - нет .   \n",
       "6014  170387729221106                                              \n",
       "4629  133057534030884  моим родителям нравятся .    ( смеясь ) :   \n",
       "\n",
       "                                            3  4                        5  \n",
       "4753     она с тобой , со мной и с джорджем .  0         другой со мной .  \n",
       "6014       чувак , она оставила тебе деньги ?  0                     да .  \n",
       "4629  спасибо , что не говоришь \" предкам \" .  2  \" потому что дураки \" .  "
      ]
     },
     "execution_count": 15,
     "metadata": {},
     "output_type": "execute_result"
    }
   ],
   "source": [
    "test.sample(3)"
   ]
  },
  {
   "cell_type": "code",
   "execution_count": 16,
   "metadata": {
    "ExecuteTime": {
     "end_time": "2018-04-18T11:51:21.209256Z",
     "start_time": "2018-04-18T11:51:21.203855Z"
    }
   },
   "outputs": [],
   "source": [
    "# расставляем значения по формуле хорошесть * confidence\n",
    "# Good (2)\n",
    "# Neutral (1)\n",
    "# Bad (0)"
   ]
  },
  {
   "cell_type": "code",
   "execution_count": 40,
   "metadata": {
    "ExecuteTime": {
     "end_time": "2018-04-18T12:04:52.446579Z",
     "start_time": "2018-04-18T12:04:52.443085Z"
    }
   },
   "outputs": [],
   "source": [
    "def rank2num(st):\n",
    "    if st == 'good':\n",
    "        return 2\n",
    "    else:\n",
    "        if st == 'neutral':\n",
    "            return 1\n",
    "        else:\n",
    "            return 0"
   ]
  },
  {
   "cell_type": "code",
   "execution_count": 41,
   "metadata": {
    "ExecuteTime": {
     "end_time": "2018-04-18T12:04:55.667863Z",
     "start_time": "2018-04-18T12:04:55.638092Z"
    }
   },
   "outputs": [
    {
     "data": {
      "text/html": [
       "<div>\n",
       "<style scoped>\n",
       "    .dataframe tbody tr th:only-of-type {\n",
       "        vertical-align: middle;\n",
       "    }\n",
       "\n",
       "    .dataframe tbody tr th {\n",
       "        vertical-align: top;\n",
       "    }\n",
       "\n",
       "    .dataframe thead th {\n",
       "        text-align: right;\n",
       "    }\n",
       "</style>\n",
       "<table border=\"1\" class=\"dataframe\">\n",
       "  <thead>\n",
       "    <tr style=\"text-align: right;\">\n",
       "      <th></th>\n",
       "      <th>0</th>\n",
       "      <th>1</th>\n",
       "      <th>2</th>\n",
       "      <th>3</th>\n",
       "      <th>4</th>\n",
       "      <th>5</th>\n",
       "      <th>6</th>\n",
       "      <th>7</th>\n",
       "      <th>rank</th>\n",
       "      <th>target</th>\n",
       "    </tr>\n",
       "  </thead>\n",
       "  <tbody>\n",
       "    <tr>\n",
       "      <th>0</th>\n",
       "      <td>22579918886</td>\n",
       "      <td>кликни на меня а потом на надпись \" видео - зв...</td>\n",
       "      <td>о , я тебя вижу .</td>\n",
       "      <td>ладно , повесь трубку .</td>\n",
       "      <td>0</td>\n",
       "      <td>не могу .</td>\n",
       "      <td>good</td>\n",
       "      <td>0.875352</td>\n",
       "      <td>2</td>\n",
       "      <td>1.750703</td>\n",
       "    </tr>\n",
       "    <tr>\n",
       "      <th>1</th>\n",
       "      <td>22579918886</td>\n",
       "      <td>кликни на меня а потом на надпись \" видео - зв...</td>\n",
       "      <td>о , я тебя вижу .</td>\n",
       "      <td>ладно , повесь трубку .</td>\n",
       "      <td>1</td>\n",
       "      <td>нет , звонить буду я .</td>\n",
       "      <td>neutral</td>\n",
       "      <td>0.900968</td>\n",
       "      <td>1</td>\n",
       "      <td>0.900968</td>\n",
       "    </tr>\n",
       "    <tr>\n",
       "      <th>2</th>\n",
       "      <td>22579918886</td>\n",
       "      <td>кликни на меня а потом на надпись \" видео - зв...</td>\n",
       "      <td>о , я тебя вижу .</td>\n",
       "      <td>ладно , повесь трубку .</td>\n",
       "      <td>2</td>\n",
       "      <td>слушай , я не мог уйти .</td>\n",
       "      <td>bad</td>\n",
       "      <td>0.884320</td>\n",
       "      <td>0</td>\n",
       "      <td>0.000000</td>\n",
       "    </tr>\n",
       "    <tr>\n",
       "      <th>3</th>\n",
       "      <td>22579918886</td>\n",
       "      <td>кликни на меня а потом на надпись \" видео - зв...</td>\n",
       "      <td>о , я тебя вижу .</td>\n",
       "      <td>ладно , повесь трубку .</td>\n",
       "      <td>3</td>\n",
       "      <td>я не прекращу звонить .</td>\n",
       "      <td>good</td>\n",
       "      <td>0.982530</td>\n",
       "      <td>2</td>\n",
       "      <td>1.965061</td>\n",
       "    </tr>\n",
       "    <tr>\n",
       "      <th>4</th>\n",
       "      <td>22579918886</td>\n",
       "      <td>кликни на меня а потом на надпись \" видео - зв...</td>\n",
       "      <td>о , я тебя вижу .</td>\n",
       "      <td>ладно , повесь трубку .</td>\n",
       "      <td>4</td>\n",
       "      <td>я звоню им .</td>\n",
       "      <td>good</td>\n",
       "      <td>0.838054</td>\n",
       "      <td>2</td>\n",
       "      <td>1.676107</td>\n",
       "    </tr>\n",
       "  </tbody>\n",
       "</table>\n",
       "</div>"
      ],
      "text/plain": [
       "             0                                                  1  \\\n",
       "0  22579918886  кликни на меня а потом на надпись \" видео - зв...   \n",
       "1  22579918886  кликни на меня а потом на надпись \" видео - зв...   \n",
       "2  22579918886  кликни на меня а потом на надпись \" видео - зв...   \n",
       "3  22579918886  кликни на меня а потом на надпись \" видео - зв...   \n",
       "4  22579918886  кликни на меня а потом на надпись \" видео - зв...   \n",
       "\n",
       "                   2                        3  4                         5  \\\n",
       "0  о , я тебя вижу .  ладно , повесь трубку .  0                 не могу .   \n",
       "1  о , я тебя вижу .  ладно , повесь трубку .  1    нет , звонить буду я .   \n",
       "2  о , я тебя вижу .  ладно , повесь трубку .  2  слушай , я не мог уйти .   \n",
       "3  о , я тебя вижу .  ладно , повесь трубку .  3   я не прекращу звонить .   \n",
       "4  о , я тебя вижу .  ладно , повесь трубку .  4              я звоню им .   \n",
       "\n",
       "         6         7  rank    target  \n",
       "0     good  0.875352     2  1.750703  \n",
       "1  neutral  0.900968     1  0.900968  \n",
       "2      bad  0.884320     0  0.000000  \n",
       "3     good  0.982530     2  1.965061  \n",
       "4     good  0.838054     2  1.676107  "
      ]
     },
     "execution_count": 41,
     "metadata": {},
     "output_type": "execute_result"
    }
   ],
   "source": [
    "train['rank'] = train[6].apply(rank2num)\n",
    "train['target'] = train['rank'] * train[7]\n",
    "train.head()"
   ]
  },
  {
   "cell_type": "code",
   "execution_count": 42,
   "metadata": {
    "ExecuteTime": {
     "end_time": "2018-04-18T12:05:01.288727Z",
     "start_time": "2018-04-18T12:04:56.307320Z"
    }
   },
   "outputs": [],
   "source": [
    "t1_ft = np.vstack(train[1].apply(lambda x: ft_model.get_sentence_vector(x)))\n",
    "t2_ft = np.vstack(train[2].apply(lambda x: ft_model.get_sentence_vector(x)))\n",
    "t3_ft = np.vstack(train[3].apply(lambda x: ft_model.get_sentence_vector(x)))\n",
    "t5_ft = np.vstack(train[5].apply(lambda x: ft_model.get_sentence_vector(x)))\n",
    "\n",
    "te1_ft = np.vstack(test[1].apply(lambda x: ft_model.get_sentence_vector(x)))\n",
    "te2_ft = np.vstack(test[2].apply(lambda x: ft_model.get_sentence_vector(x)))\n",
    "te3_ft = np.vstack(test[3].apply(lambda x: ft_model.get_sentence_vector(x)))\n",
    "te5_ft = np.vstack(test[5].apply(lambda x: ft_model.get_sentence_vector(x)))"
   ]
  },
  {
   "cell_type": "code",
   "execution_count": 43,
   "metadata": {
    "ExecuteTime": {
     "end_time": "2018-04-18T12:05:01.467226Z",
     "start_time": "2018-04-18T12:05:01.290103Z"
    }
   },
   "outputs": [
    {
     "name": "stdout",
     "output_type": "stream",
     "text": [
      "CPU times: user 95.5 ms, sys: 80.1 ms, total: 176 ms\n",
      "Wall time: 175 ms\n"
     ]
    }
   ],
   "source": [
    "%%time\n",
    "\n",
    "X_train = np.hstack([t1_ft, t2_ft, t3_ft, t5_ft])\n",
    "X_test  = np.hstack([te1_ft, te2_ft, te3_ft, te5_ft])"
   ]
  },
  {
   "cell_type": "code",
   "execution_count": 44,
   "metadata": {
    "ExecuteTime": {
     "end_time": "2018-04-18T12:05:02.919636Z",
     "start_time": "2018-04-18T12:05:02.916913Z"
    }
   },
   "outputs": [
    {
     "data": {
      "text/plain": [
       "((97533, 1200), (9968, 1200))"
      ]
     },
     "execution_count": 44,
     "metadata": {},
     "output_type": "execute_result"
    }
   ],
   "source": [
    "X_train.shape, X_test.shape"
   ]
  },
  {
   "cell_type": "code",
   "execution_count": 45,
   "metadata": {
    "ExecuteTime": {
     "end_time": "2018-04-18T12:05:07.294455Z",
     "start_time": "2018-04-18T12:05:07.292394Z"
    }
   },
   "outputs": [],
   "source": [
    "y_train = train['target']"
   ]
  },
  {
   "cell_type": "code",
   "execution_count": 46,
   "metadata": {
    "ExecuteTime": {
     "end_time": "2018-04-18T12:05:08.217488Z",
     "start_time": "2018-04-18T12:05:08.196694Z"
    }
   },
   "outputs": [],
   "source": [
    "train_part_size = int(0.75 * train['target'].shape[0])\n",
    "X_train_part = X_train[:train_part_size, :]\n",
    "y_train_part = y_train[:train_part_size]\n",
    "X_valid =  X_train[train_part_size:, :]\n",
    "y_valid = y_train[train_part_size:]"
   ]
  },
  {
   "cell_type": "code",
   "execution_count": 47,
   "metadata": {
    "ExecuteTime": {
     "end_time": "2018-04-18T12:05:08.771866Z",
     "start_time": "2018-04-18T12:05:08.769165Z"
    }
   },
   "outputs": [
    {
     "data": {
      "text/plain": [
       "(73149, 1200)"
      ]
     },
     "execution_count": 47,
     "metadata": {},
     "output_type": "execute_result"
    }
   ],
   "source": [
    "X_train_part.shape"
   ]
  },
  {
   "cell_type": "code",
   "execution_count": 25,
   "metadata": {
    "ExecuteTime": {
     "end_time": "2018-04-18T11:52:47.105252Z",
     "start_time": "2018-04-18T11:52:46.094751Z"
    }
   },
   "outputs": [
    {
     "data": {
      "text/plain": [
       "Ridge(alpha=1.0, copy_X=True, fit_intercept=True, max_iter=None,\n",
       "   normalize=False, random_state=None, solver='auto', tol=0.001)"
      ]
     },
     "execution_count": 25,
     "metadata": {},
     "output_type": "execute_result"
    }
   ],
   "source": [
    "from sklearn.linear_model import LinearRegression, Ridge, Lasso\n",
    "\n",
    "reg = Ridge()\n",
    "\n",
    "reg.fit(X_train_part, y_train_part)"
   ]
  },
  {
   "cell_type": "code",
   "execution_count": 26,
   "metadata": {
    "ExecuteTime": {
     "end_time": "2018-04-18T11:52:47.882200Z",
     "start_time": "2018-04-18T11:52:47.866573Z"
    }
   },
   "outputs": [],
   "source": [
    "reg_pred = reg.predict(X_valid)"
   ]
  },
  {
   "cell_type": "code",
   "execution_count": 27,
   "metadata": {
    "ExecuteTime": {
     "end_time": "2018-04-18T11:52:48.521017Z",
     "start_time": "2018-04-18T11:52:48.515618Z"
    }
   },
   "outputs": [],
   "source": [
    "# Oleg говорит, что метрика ниже - неправильная, но на практике её снижение даёт уверенный рост на лидерборде"
   ]
  },
  {
   "cell_type": "code",
   "execution_count": 28,
   "metadata": {
    "ExecuteTime": {
     "end_time": "2018-04-18T11:52:48.976370Z",
     "start_time": "2018-04-18T11:52:48.954536Z"
    }
   },
   "outputs": [
    {
     "name": "stdout",
     "output_type": "stream",
     "text": [
      "0.7190280100517679\n",
      "CPU times: user 2.21 ms, sys: 1.22 ms, total: 3.44 ms\n",
      "Wall time: 19.1 ms\n"
     ]
    }
   ],
   "source": [
    "%%time\n",
    "from sklearn.metrics import mean_absolute_error\n",
    "\n",
    "valid_mae = mean_absolute_error(y_valid, reg_pred)\n",
    "print(valid_mae)"
   ]
  },
  {
   "cell_type": "code",
   "execution_count": 29,
   "metadata": {
    "ExecuteTime": {
     "end_time": "2018-04-18T11:52:50.293731Z",
     "start_time": "2018-04-18T11:52:49.718018Z"
    }
   },
   "outputs": [
    {
     "name": "stdout",
     "output_type": "stream",
     "text": [
      "CPU times: user 2.94 s, sys: 342 ms, total: 3.28 s\n",
      "Wall time: 572 ms\n"
     ]
    },
    {
     "data": {
      "text/plain": [
       "Ridge(alpha=1.0, copy_X=True, fit_intercept=True, max_iter=None,\n",
       "   normalize=False, random_state=None, solver='auto', tol=0.001)"
      ]
     },
     "execution_count": 29,
     "metadata": {},
     "output_type": "execute_result"
    }
   ],
   "source": [
    "%%time\n",
    "reg.fit(X_train, y_train)"
   ]
  },
  {
   "cell_type": "code",
   "execution_count": 30,
   "metadata": {
    "ExecuteTime": {
     "end_time": "2018-04-18T11:52:50.376521Z",
     "start_time": "2018-04-18T11:52:50.369632Z"
    }
   },
   "outputs": [],
   "source": [
    "y_test = reg.predict(X_test)"
   ]
  },
  {
   "cell_type": "code",
   "execution_count": 31,
   "metadata": {
    "ExecuteTime": {
     "end_time": "2018-04-18T11:52:52.232411Z",
     "start_time": "2018-04-18T11:52:52.230132Z"
    }
   },
   "outputs": [],
   "source": [
    "sub = pd.DataFrame()"
   ]
  },
  {
   "cell_type": "code",
   "execution_count": 32,
   "metadata": {
    "ExecuteTime": {
     "end_time": "2018-04-18T11:52:53.383627Z",
     "start_time": "2018-04-18T11:52:53.374227Z"
    }
   },
   "outputs": [
    {
     "data": {
      "text/html": [
       "<div>\n",
       "<style scoped>\n",
       "    .dataframe tbody tr th:only-of-type {\n",
       "        vertical-align: middle;\n",
       "    }\n",
       "\n",
       "    .dataframe tbody tr th {\n",
       "        vertical-align: top;\n",
       "    }\n",
       "\n",
       "    .dataframe thead th {\n",
       "        text-align: right;\n",
       "    }\n",
       "</style>\n",
       "<table border=\"1\" class=\"dataframe\">\n",
       "  <thead>\n",
       "    <tr style=\"text-align: right;\">\n",
       "      <th></th>\n",
       "      <th>0</th>\n",
       "      <th>1</th>\n",
       "      <th>2</th>\n",
       "      <th>3</th>\n",
       "      <th>4</th>\n",
       "      <th>5</th>\n",
       "    </tr>\n",
       "  </thead>\n",
       "  <tbody>\n",
       "    <tr>\n",
       "      <th>3720</th>\n",
       "      <td>105136523138492</td>\n",
       "      <td>и я очень рад , что он наконец нашел кого - то</td>\n",
       "      <td>мы должны радоваться за него , а не . . вмешив...</td>\n",
       "      <td>нет , я не забочусь о его личной жизни</td>\n",
       "      <td>5</td>\n",
       "      <td>заботиться о нем ?</td>\n",
       "    </tr>\n",
       "    <tr>\n",
       "      <th>5460</th>\n",
       "      <td>154513595864713</td>\n",
       "      <td></td>\n",
       "      <td>властям нужны костюмы .</td>\n",
       "      <td>как железный человек , понимаешь ?</td>\n",
       "      <td>2</td>\n",
       "      <td>чего не понимаю ?</td>\n",
       "    </tr>\n",
       "    <tr>\n",
       "      <th>4773</th>\n",
       "      <td>137137147493903</td>\n",
       "      <td></td>\n",
       "      <td>да , была бы .</td>\n",
       "      <td>но я не стал ее делать .</td>\n",
       "      <td>2</td>\n",
       "      <td>не делаешь чего ?</td>\n",
       "    </tr>\n",
       "  </tbody>\n",
       "</table>\n",
       "</div>"
      ],
      "text/plain": [
       "                    0                                               1  \\\n",
       "3720  105136523138492  и я очень рад , что он наконец нашел кого - то   \n",
       "5460  154513595864713                                                   \n",
       "4773  137137147493903                                                   \n",
       "\n",
       "                                                      2  \\\n",
       "3720  мы должны радоваться за него , а не . . вмешив...   \n",
       "5460                            властям нужны костюмы .   \n",
       "4773                                     да , была бы .   \n",
       "\n",
       "                                           3  4                   5  \n",
       "3720  нет , я не забочусь о его личной жизни  5  заботиться о нем ?  \n",
       "5460      как железный человек , понимаешь ?  2   чего не понимаю ?  \n",
       "4773                но я не стал ее делать .  2   не делаешь чего ?  "
      ]
     },
     "execution_count": 32,
     "metadata": {},
     "output_type": "execute_result"
    }
   ],
   "source": [
    "test.sample(3)"
   ]
  },
  {
   "cell_type": "code",
   "execution_count": 33,
   "metadata": {
    "ExecuteTime": {
     "end_time": "2018-04-18T11:52:54.044727Z",
     "start_time": "2018-04-18T11:52:54.041187Z"
    }
   },
   "outputs": [],
   "source": [
    "sub['context_id'] = test[0]\n",
    "sub['reply_id'] = test[4]\n",
    "sub['rank'] = - y_test"
   ]
  },
  {
   "cell_type": "code",
   "execution_count": 34,
   "metadata": {
    "ExecuteTime": {
     "end_time": "2018-04-18T11:52:54.951919Z",
     "start_time": "2018-04-18T11:52:54.945125Z"
    }
   },
   "outputs": [
    {
     "data": {
      "text/html": [
       "<div>\n",
       "<style scoped>\n",
       "    .dataframe tbody tr th:only-of-type {\n",
       "        vertical-align: middle;\n",
       "    }\n",
       "\n",
       "    .dataframe tbody tr th {\n",
       "        vertical-align: top;\n",
       "    }\n",
       "\n",
       "    .dataframe thead th {\n",
       "        text-align: right;\n",
       "    }\n",
       "</style>\n",
       "<table border=\"1\" class=\"dataframe\">\n",
       "  <thead>\n",
       "    <tr style=\"text-align: right;\">\n",
       "      <th></th>\n",
       "      <th>context_id</th>\n",
       "      <th>reply_id</th>\n",
       "      <th>rank</th>\n",
       "    </tr>\n",
       "  </thead>\n",
       "  <tbody>\n",
       "    <tr>\n",
       "      <th>0</th>\n",
       "      <td>138920940977</td>\n",
       "      <td>0</td>\n",
       "      <td>-1.034704</td>\n",
       "    </tr>\n",
       "    <tr>\n",
       "      <th>1</th>\n",
       "      <td>138920940977</td>\n",
       "      <td>1</td>\n",
       "      <td>-1.335494</td>\n",
       "    </tr>\n",
       "    <tr>\n",
       "      <th>2</th>\n",
       "      <td>138920940977</td>\n",
       "      <td>2</td>\n",
       "      <td>-1.060796</td>\n",
       "    </tr>\n",
       "    <tr>\n",
       "      <th>3</th>\n",
       "      <td>138920940977</td>\n",
       "      <td>3</td>\n",
       "      <td>-1.462555</td>\n",
       "    </tr>\n",
       "    <tr>\n",
       "      <th>4</th>\n",
       "      <td>138920940977</td>\n",
       "      <td>4</td>\n",
       "      <td>-1.494842</td>\n",
       "    </tr>\n",
       "  </tbody>\n",
       "</table>\n",
       "</div>"
      ],
      "text/plain": [
       "     context_id  reply_id      rank\n",
       "0  138920940977         0 -1.034704\n",
       "1  138920940977         1 -1.335494\n",
       "2  138920940977         2 -1.060796\n",
       "3  138920940977         3 -1.462555\n",
       "4  138920940977         4 -1.494842"
      ]
     },
     "execution_count": 34,
     "metadata": {},
     "output_type": "execute_result"
    }
   ],
   "source": [
    "sub.head()"
   ]
  },
  {
   "cell_type": "code",
   "execution_count": 35,
   "metadata": {
    "ExecuteTime": {
     "end_time": "2018-04-18T11:52:56.652339Z",
     "start_time": "2018-04-18T11:52:56.645992Z"
    }
   },
   "outputs": [],
   "source": [
    "submission = sub.sort_values(by=['context_id', 'rank'])"
   ]
  },
  {
   "cell_type": "code",
   "execution_count": 36,
   "metadata": {
    "ExecuteTime": {
     "end_time": "2018-04-18T11:52:57.287580Z",
     "start_time": "2018-04-18T11:52:57.285768Z"
    }
   },
   "outputs": [],
   "source": [
    "del submission['rank']"
   ]
  },
  {
   "cell_type": "code",
   "execution_count": 37,
   "metadata": {
    "ExecuteTime": {
     "end_time": "2018-04-18T11:52:58.115612Z",
     "start_time": "2018-04-18T11:52:58.108313Z"
    }
   },
   "outputs": [
    {
     "data": {
      "text/html": [
       "<div>\n",
       "<style scoped>\n",
       "    .dataframe tbody tr th:only-of-type {\n",
       "        vertical-align: middle;\n",
       "    }\n",
       "\n",
       "    .dataframe tbody tr th {\n",
       "        vertical-align: top;\n",
       "    }\n",
       "\n",
       "    .dataframe thead th {\n",
       "        text-align: right;\n",
       "    }\n",
       "</style>\n",
       "<table border=\"1\" class=\"dataframe\">\n",
       "  <thead>\n",
       "    <tr style=\"text-align: right;\">\n",
       "      <th></th>\n",
       "      <th>context_id</th>\n",
       "      <th>reply_id</th>\n",
       "    </tr>\n",
       "  </thead>\n",
       "  <tbody>\n",
       "    <tr>\n",
       "      <th>4</th>\n",
       "      <td>138920940977</td>\n",
       "      <td>4</td>\n",
       "    </tr>\n",
       "    <tr>\n",
       "      <th>3</th>\n",
       "      <td>138920940977</td>\n",
       "      <td>3</td>\n",
       "    </tr>\n",
       "    <tr>\n",
       "      <th>1</th>\n",
       "      <td>138920940977</td>\n",
       "      <td>1</td>\n",
       "    </tr>\n",
       "    <tr>\n",
       "      <th>5</th>\n",
       "      <td>138920940977</td>\n",
       "      <td>5</td>\n",
       "    </tr>\n",
       "    <tr>\n",
       "      <th>2</th>\n",
       "      <td>138920940977</td>\n",
       "      <td>2</td>\n",
       "    </tr>\n",
       "  </tbody>\n",
       "</table>\n",
       "</div>"
      ],
      "text/plain": [
       "     context_id  reply_id\n",
       "4  138920940977         4\n",
       "3  138920940977         3\n",
       "1  138920940977         1\n",
       "5  138920940977         5\n",
       "2  138920940977         2"
      ]
     },
     "execution_count": 37,
     "metadata": {},
     "output_type": "execute_result"
    }
   ],
   "source": [
    "submission.head()"
   ]
  },
  {
   "cell_type": "code",
   "execution_count": 38,
   "metadata": {
    "ExecuteTime": {
     "end_time": "2018-04-18T11:52:58.816759Z",
     "start_time": "2018-04-18T11:52:58.813942Z"
    }
   },
   "outputs": [
    {
     "data": {
      "text/plain": [
       "((9968, 6), (9968, 3))"
      ]
     },
     "execution_count": 38,
     "metadata": {},
     "output_type": "execute_result"
    }
   ],
   "source": [
    "test.shape, sub.shape"
   ]
  },
  {
   "cell_type": "code",
   "execution_count": 39,
   "metadata": {
    "ExecuteTime": {
     "end_time": "2018-04-18T11:52:59.400946Z",
     "start_time": "2018-04-18T11:52:59.379111Z"
    }
   },
   "outputs": [],
   "source": [
    "submission.to_csv('yandex-ml-naive-fasttext.tsv',header=None, index=False, sep=' ')"
   ]
  }
 ],
 "metadata": {
  "kernelspec": {
   "display_name": "Python 3",
   "language": "python",
   "name": "python3"
  },
  "language_info": {
   "codemirror_mode": {
    "name": "ipython",
    "version": 3
   },
   "file_extension": ".py",
   "mimetype": "text/x-python",
   "name": "python",
   "nbconvert_exporter": "python",
   "pygments_lexer": "ipython3",
   "version": "3.6.5"
  },
  "toc": {
   "base_numbering": 1,
   "nav_menu": {},
   "number_sections": true,
   "sideBar": true,
   "skip_h1_title": false,
   "title_cell": "Table of Contents",
   "title_sidebar": "Contents",
   "toc_cell": false,
   "toc_position": {},
   "toc_section_display": true,
   "toc_window_display": false
  }
 },
 "nbformat": 4,
 "nbformat_minor": 2
}
