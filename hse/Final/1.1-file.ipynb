{
 "cells": [
  {
   "cell_type": "code",
   "execution_count": 1,
   "metadata": {
    "collapsed": true
   },
   "outputs": [],
   "source": [
    "import pandas as pd\n",
    "import numpy as np\n",
    "\n",
    "import time\n",
    "import datetime\n",
    "\n",
    "from sklearn.model_selection import KFold\n",
    "from sklearn.model_selection._validation import cross_val_score\n",
    "from sklearn.ensemble import GradientBoostingClassifier"
   ]
  },
  {
   "cell_type": "markdown",
   "metadata": {},
   "source": [
    "1.Считайте таблицу с признаками из файла features.csv с помощью кода, приведенного выше. Удалите признаки, связанные с итогами матча (они помечены в описании данных как отсутствующие в тестовой выборке)."
   ]
  },
  {
   "cell_type": "code",
   "execution_count": 2,
   "metadata": {
    "collapsed": true
   },
   "outputs": [],
   "source": [
    "features = pd.read_csv('features/features.csv', index_col='match_id')\n",
    "features.drop('duration radiant_win tower_status_radiant tower_status_dire barracks_status_radiant barracks_status_dire'.split(' '), inplace=True, axis=1)"
   ]
  },
  {
   "cell_type": "code",
   "execution_count": 3,
   "metadata": {},
   "outputs": [],
   "source": [
    "features_test = pd.read_csv('features_test/features_test.csv', index_col='match_id')\n",
    "#features_test.drop('duration radiant_win tower_status_radiant tower_status_dire barracks_status_radiant barracks_status_dire'.split(' '), inplace=True, axis=1)"
   ]
  },
  {
   "cell_type": "markdown",
   "metadata": {},
   "source": [
    "2.Проверьте выборку на наличие пропусков с помощью функции count(), которая для каждого столбца показывает число заполненных значений. Много ли пропусков в данных? Запишите названия признаков, имеющих пропуски, и попробуйте для любых двух из них дать обоснование, почему их значения могут быть пропущены."
   ]
  },
  {
   "cell_type": "code",
   "execution_count": 4,
   "metadata": {},
   "outputs": [
    {
     "data": {
      "text/plain": [
       "first_blood_time               77677\n",
       "first_blood_team               77677\n",
       "first_blood_player1            77677\n",
       "first_blood_player2            53243\n",
       "radiant_bottle_time            81539\n",
       "radiant_courier_time           96538\n",
       "radiant_flying_courier_time    69751\n",
       "radiant_first_ward_time        95394\n",
       "dire_bottle_time               81087\n",
       "dire_courier_time              96554\n",
       "dire_flying_courier_time       71132\n",
       "dire_first_ward_time           95404\n",
       "dtype: int64"
      ]
     },
     "execution_count": 4,
     "metadata": {},
     "output_type": "execute_result"
    }
   ],
   "source": [
    "features[features[features.columns].notnull()].count()[lambda x: x < features.count().max()]"
   ]
  },
  {
   "cell_type": "markdown",
   "metadata": {},
   "source": [
    "first blood события, говорят нам о том, что первая кровь была сделана в первые пять минуть, а если нет пропуск. Думаю, это связанно со стилем игры проффесионалов, первые 5 минут идет прокачка. А низкое событие связано с тем, что чаще ферст блад происходил на мид лайне, а значит помощники отуствовали.\n",
    "\n",
    "radiant_flying_courier_time небольшие значения, это связано с тактикой команд, можно предположить, что обычный курьер обходиться дешевле, а т.к. закупка чаще всего связана с таймингом комманды, то необходимости в нем мало."
   ]
  },
  {
   "cell_type": "markdown",
   "metadata": {},
   "source": [
    "3.Замените пропуски на нули с помощью функции fillna(). На самом деле этот способ является предпочтительным для логистической регрессии, поскольку он позволит пропущенному значению не вносить никакого вклада в предсказание. \n",
    "\n",
    "Для деревьев часто лучшим вариантом оказывается замена пропуска на очень большое или очень маленькое значение — в этом случае при построении разбиения вершины можно будет отправить объекты с пропусками в отдельную ветвь дерева. Также есть и другие подходы — например, замена пропуска на среднее значение признака. Мы не требуем этого в задании, но при желании попробуйте разные подходы к обработке пропусков и сравните их между собой."
   ]
  },
  {
   "cell_type": "code",
   "execution_count": 5,
   "metadata": {},
   "outputs": [],
   "source": [
    "features = features.fillna(0)\n",
    "features_test = features_test.fillna(0)"
   ]
  },
  {
   "cell_type": "markdown",
   "metadata": {},
   "source": [
    "4.Какой столбец содержит целевую переменную? Запишите его название."
   ]
  },
  {
   "cell_type": "code",
   "execution_count": 6,
   "metadata": {},
   "outputs": [
    {
     "data": {
      "text/plain": [
       "False"
      ]
     },
     "execution_count": 6,
     "metadata": {},
     "output_type": "execute_result"
    }
   ],
   "source": [
    "'radiant_win' in features.columns.unique()"
   ]
  },
  {
   "cell_type": "markdown",
   "metadata": {},
   "source": [
    "5.Забудем, что в выборке есть категориальные признаки, и попробуем обучить градиентный бустинг над деревьями на имеющейся матрице \"объекты-признаки\". Зафиксируйте генератор разбиений для кросс-валидации по 5 блокам (KFold), не забудьте перемешать при этом выборку (shuffle=True), поскольку данные в таблице отсортированы по времени, и без перемешивания можно столкнуться с нежелательными эффектами при оценивании качества. Оцените качество градиентного бустинга (GradientBoostingClassifier) с помощью данной кросс-валидации, попробуйте при этом разное количество деревьев (как минимум протестируйте следующие значения для количества деревьев: 10, 20, 30). Долго ли настраивались классификаторы? Достигнут ли оптимум на испытанных значениях параметра n_estimators, или же качество, скорее всего, продолжит расти при дальнейшем его увеличении?"
   ]
  },
  {
   "cell_type": "code",
   "execution_count": 8,
   "metadata": {},
   "outputs": [],
   "source": [
    "X_train , Y_train = features.as_matrix(), pd.read_csv('features/features.csv', index_col='match_id')['radiant_win'].as_matrix()\n",
    "X_test = features_test.as_matrix()\n",
    "kfold = KFold(n_splits = 5, shuffle=True)"
   ]
  },
  {
   "cell_type": "code",
   "execution_count": 13,
   "metadata": {},
   "outputs": [
    {
     "name": "stdout",
     "output_type": "stream",
     "text": [
      "Time elapsed: 0:58:40.064712\n"
     ]
    }
   ],
   "source": [
    "start_time = datetime.datetime.now()\n",
    "scores=[]\n",
    "for x in range(1, 51):\n",
    "    clf = GradientBoostingClassifier(n_estimators=x, random_state=1)\n",
    "    scores.append(np.array(cross_val_score(clf, X_train, Y_train,scoring='roc_auc', cv=kfold)))\n",
    "scores=np.array(scores)\n",
    "print ('Time elapsed:', datetime.datetime.now() - start_time)"
   ]
  },
  {
   "cell_type": "code",
   "execution_count": 17,
   "metadata": {},
   "outputs": [
    {
     "data": {
      "text/plain": [
       "[0.59646101866790802,\n",
       " 0.61202657373803115,\n",
       " 0.61883657865657338,\n",
       " 0.62577175547222796,\n",
       " 0.63383038110825851,\n",
       " 0.64490385822372009,\n",
       " 0.65016098418464274,\n",
       " 0.65688290044838837,\n",
       " 0.66116055759621339,\n",
       " 0.66459800935979951,\n",
       " 0.66809019000413428,\n",
       " 0.67065208174746405,\n",
       " 0.67232130564715908,\n",
       " 0.67481918224762705,\n",
       " 0.67513266711541531,\n",
       " 0.67698857658634859,\n",
       " 0.67807341498333462,\n",
       " 0.67974807647378088,\n",
       " 0.68150848374544526,\n",
       " 0.68194874970016417,\n",
       " 0.68271525208243278,\n",
       " 0.68462154622199378,\n",
       " 0.68454925251429621,\n",
       " 0.68614163520246985,\n",
       " 0.68594831566907466,\n",
       " 0.68652828540460864,\n",
       " 0.68643588794778443,\n",
       " 0.6882198544014303,\n",
       " 0.68884728727042677,\n",
       " 0.68988536008597789,\n",
       " 0.69048125887103995,\n",
       " 0.69126547519542114,\n",
       " 0.69043024536260822,\n",
       " 0.69122651813460367,\n",
       " 0.69144940104244612,\n",
       " 0.6922597828332947,\n",
       " 0.69294670186401219,\n",
       " 0.69372548630545927,\n",
       " 0.6935546096969547,\n",
       " 0.69412698709969689,\n",
       " 0.69467108299346625,\n",
       " 0.69467281322475904,\n",
       " 0.69489906896622888,\n",
       " 0.69597909908121447,\n",
       " 0.69554202929923314,\n",
       " 0.69626656497589856,\n",
       " 0.69641741163954229,\n",
       " 0.69627027504148253,\n",
       " 0.69720982587516889,\n",
       " 0.69791451939672322]"
      ]
     },
     "execution_count": 17,
     "metadata": {},
     "output_type": "execute_result"
    }
   ],
   "source": [
    "[np.mean(sc) for sc in scores]"
   ]
  },
  {
   "cell_type": "code",
   "execution_count": 18,
   "metadata": {},
   "outputs": [
    {
     "data": {
      "text/plain": [
       "50"
      ]
     },
     "execution_count": 18,
     "metadata": {},
     "output_type": "execute_result"
    }
   ],
   "source": [
    "np.argmax([np.mean(sc) for sc in scores])+1"
   ]
  },
  {
   "cell_type": "markdown",
   "metadata": {},
   "source": [
    "Имеет ли смысл использовать больше 30 деревьев в градиентном бустинге? Что бы вы предложили делать, чтобы ускорить его обучение при увеличении количества деревьев?"
   ]
  },
  {
   "cell_type": "markdown",
   "metadata": {},
   "source": [
    "В целом, можно заметить, что алгоритм улучшается, с каждым разом метрика становится лучше. Но думаю, что это неверно, можно было бы остановиться на 20-30.\n",
    "\n",
    "Думаю, что я бы брал по 5 оценок, и нахоидл их отклонения. Вычислив минимальный порог эмперически, где качество практически не меняется, отберу нужное количество."
   ]
  },
  {
   "cell_type": "code",
   "execution_count": 28,
   "metadata": {},
   "outputs": [],
   "source": [
    "clf.fit(X_train, Y_train)\n",
    "win = clf.predict_proba(X_test)"
   ]
  },
  {
   "cell_type": "code",
   "execution_count": 33,
   "metadata": {},
   "outputs": [],
   "source": [
    "pd.DataFrame([[match, win[ind][1]] for ind, match in enumerate(features_test.index)], columns=['match_id', 'radiant_win']).to_csv('result.scv', index=False)"
   ]
  },
  {
   "cell_type": "markdown",
   "metadata": {},
   "source": [
    "Score 0.70125"
   ]
  },
  {
   "cell_type": "code",
   "execution_count": null,
   "metadata": {
    "collapsed": true
   },
   "outputs": [],
   "source": []
  }
 ],
 "metadata": {
  "kernelspec": {
   "display_name": "Python 3",
   "language": "python",
   "name": "python3"
  },
  "language_info": {
   "codemirror_mode": {
    "name": "ipython",
    "version": 3
   },
   "file_extension": ".py",
   "mimetype": "text/x-python",
   "name": "python",
   "nbconvert_exporter": "python",
   "pygments_lexer": "ipython3",
   "version": "3.6.3"
  }
 },
 "nbformat": 4,
 "nbformat_minor": 2
}
