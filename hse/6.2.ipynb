{
 "cells": [
  {
   "cell_type": "code",
   "execution_count": 1,
   "metadata": {
    "collapsed": true
   },
   "outputs": [],
   "source": [
    "import pandas as pd\n",
    "import numpy as np\n",
    "import sklearn as sk"
   ]
  },
  {
   "cell_type": "code",
   "execution_count": 2,
   "metadata": {
    "collapsed": false
   },
   "outputs": [],
   "source": [
    "data=pd.read_csv('classification.csv')\n",
    "y_true=data['true'].values\n",
    "y_pred=data['pred'].values"
   ]
  },
  {
   "cell_type": "code",
   "execution_count": 3,
   "metadata": {
    "collapsed": true
   },
   "outputs": [],
   "source": [
    "def scores(y_true, y_pred):\n",
    "    TP,FP,FN,TN = 0,0,0,0\n",
    "    for i in range(len(y_true)):\n",
    "        #print y_true[i],' ', y_pred[i]\n",
    "        if y_true[i]==1 and y_pred[i]==1:\n",
    "            TP+=1\n",
    "        elif y_true[i]==0 and y_pred[i]==1:\n",
    "            FP+=1\n",
    "        elif y_true[i]==1 and y_pred[i]==0:\n",
    "            FN+=1\n",
    "        elif y_true[i]==0 and y_pred[i]==0:\n",
    "            TN+=1\n",
    "    return TP,FP,FN,TN    "
   ]
  },
  {
   "cell_type": "code",
   "execution_count": 59,
   "metadata": {
    "collapsed": false
   },
   "outputs": [
    {
     "name": "stdout",
     "output_type": "stream",
     "text": [
      "(43, 34, 59, 64)\n"
     ]
    }
   ],
   "source": [
    "print scores(y_true, y_pred)"
   ]
  },
  {
   "cell_type": "code",
   "execution_count": 5,
   "metadata": {
    "collapsed": true
   },
   "outputs": [],
   "source": [
    "import sklearn.metrics as metrics"
   ]
  },
  {
   "cell_type": "code",
   "execution_count": 6,
   "metadata": {
    "collapsed": false
   },
   "outputs": [
    {
     "name": "stdout",
     "output_type": "stream",
     "text": [
      "0.535 0.558441558442 0.421568627451 0.480446927374\n"
     ]
    }
   ],
   "source": [
    "print (str(metrics.accuracy_score(y_true, y_pred))\n",
    "       +' '+str(metrics.precision_score(y_true, y_pred))\n",
    "       +' '+str(metrics.recall_score(y_true, y_pred))\n",
    "       +' '+str(metrics.f1_score(y_true, y_pred)))"
   ]
  },
  {
   "cell_type": "markdown",
   "metadata": {},
   "source": [
    "для логистической регрессии — вероятность положительного класса (колонка score_logreg),\n",
    "\n",
    "для SVM — отступ от разделяющей поверхности (колонка score_svm),\n",
    "\n",
    "для метрического алгоритма — взвешенная сумма классов соседей (колонка score_knn),\n",
    "\n",
    "для решающего дерева — доля положительных объектов в листе (колонка score_tree)."
   ]
  },
  {
   "cell_type": "code",
   "execution_count": 10,
   "metadata": {
    "collapsed": true
   },
   "outputs": [],
   "source": [
    "data=pd.read_csv('scores.csv')"
   ]
  },
  {
   "cell_type": "code",
   "execution_count": 48,
   "metadata": {
    "collapsed": false
   },
   "outputs": [
    {
     "name": "stdout",
     "output_type": "stream",
     "text": [
      "0\n"
     ]
    }
   ],
   "source": [
    "rez=[]\n",
    "for i in data:\n",
    "    if i!='true':\n",
    "        rez.append(metrics.roc_auc_score(data['true'].values, data[i].values))\n",
    "print rez.index(max(rez))"
   ]
  },
  {
   "cell_type": "code",
   "execution_count": 52,
   "metadata": {
    "collapsed": false
   },
   "outputs": [],
   "source": [
    "pr_scores = {}\n",
    "for i in data:\n",
    "    if i!='true':\n",
    "        pr_curve = metrics.precision_recall_curve(data['true'], data[i])\n",
    "        pr_curve_df = pd.DataFrame({'precision': pr_curve[0], 'recall': pr_curve[1]})\n",
    "        pr_scores[i] = pr_curve_df[pr_curve_df['recall'] >= 0.7]['precision'].max()"
   ]
  },
  {
   "cell_type": "code",
   "execution_count": 58,
   "metadata": {
    "collapsed": false
   },
   "outputs": [
    {
     "name": "stdout",
     "output_type": "stream",
     "text": [
      "score_tree\n"
     ]
    }
   ],
   "source": [
    "print pd.Series(pr_scores).sort_values(ascending=False).head(1).index[0]"
   ]
  }
 ],
 "metadata": {
  "anaconda-cloud": {},
  "kernelspec": {
   "display_name": "Python [conda root]",
   "language": "python",
   "name": "conda-root-py"
  },
  "language_info": {
   "codemirror_mode": {
    "name": "ipython",
    "version": 2
   },
   "file_extension": ".py",
   "mimetype": "text/x-python",
   "name": "python",
   "nbconvert_exporter": "python",
   "pygments_lexer": "ipython2",
   "version": "2.7.12"
  }
 },
 "nbformat": 4,
 "nbformat_minor": 2
}
