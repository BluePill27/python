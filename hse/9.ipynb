{
 "cells": [
  {
   "cell_type": "code",
   "execution_count": 1,
   "metadata": {
    "collapsed": true
   },
   "outputs": [],
   "source": [
    "import pylab\n",
    "import matplotlib\n",
    "import numpy as np\n",
    "import pandas as pd\n",
    "from skimage.util import img_as_float\n",
    "from skimage.io import imread"
   ]
  },
  {
   "cell_type": "markdown",
   "metadata": {},
   "source": [
    "Загрузите картинку parrots.jpg. Преобразуйте изображение, приведя все значения в интервал от 0 до 1. Для этого можно воспользоваться функцией img_as_float из модуля skimage. Обратите внимание на этот шаг, так как при работе с исходным изображением вы получите некорректный результат."
   ]
  },
  {
   "cell_type": "code",
   "execution_count": 2,
   "metadata": {
    "collapsed": true
   },
   "outputs": [],
   "source": [
    "image = img_as_float(imread('parrots.jpg'))\n",
    "w, h, d = image.shape"
   ]
  },
  {
   "cell_type": "code",
   "execution_count": 3,
   "metadata": {
    "collapsed": true
   },
   "outputs": [],
   "source": [
    "for mass in image:\n",
    "    for arr in mass:\n",
    "        for num in arr:\n",
    "            if num > 1:\n",
    "                print 'IT\\'S a TRAP!'"
   ]
  },
  {
   "cell_type": "markdown",
   "metadata": {},
   "source": [
    "Создайте матрицу объекты-признаки: характеризуйте каждый пиксель тремя координатами - значениями интенсивности в пространстве RGB."
   ]
  },
  {
   "cell_type": "code",
   "execution_count": 4,
   "metadata": {
    "scrolled": true
   },
   "outputs": [
    {
     "data": {
      "text/html": [
       "<div>\n",
       "<style>\n",
       "    .dataframe thead tr:only-child th {\n",
       "        text-align: right;\n",
       "    }\n",
       "\n",
       "    .dataframe thead th {\n",
       "        text-align: left;\n",
       "    }\n",
       "\n",
       "    .dataframe tbody tr th {\n",
       "        vertical-align: top;\n",
       "    }\n",
       "</style>\n",
       "<table border=\"1\" class=\"dataframe\">\n",
       "  <thead>\n",
       "    <tr style=\"text-align: right;\">\n",
       "      <th></th>\n",
       "      <th>R</th>\n",
       "      <th>G</th>\n",
       "      <th>B</th>\n",
       "    </tr>\n",
       "  </thead>\n",
       "  <tbody>\n",
       "    <tr>\n",
       "      <th>0</th>\n",
       "      <td>0.015686</td>\n",
       "      <td>0.494118</td>\n",
       "      <td>0.019608</td>\n",
       "    </tr>\n",
       "    <tr>\n",
       "      <th>1</th>\n",
       "      <td>0.007843</td>\n",
       "      <td>0.494118</td>\n",
       "      <td>0.007843</td>\n",
       "    </tr>\n",
       "    <tr>\n",
       "      <th>2</th>\n",
       "      <td>0.007843</td>\n",
       "      <td>0.494118</td>\n",
       "      <td>0.007843</td>\n",
       "    </tr>\n",
       "    <tr>\n",
       "      <th>3</th>\n",
       "      <td>0.007843</td>\n",
       "      <td>0.494118</td>\n",
       "      <td>0.007843</td>\n",
       "    </tr>\n",
       "    <tr>\n",
       "      <th>4</th>\n",
       "      <td>0.007843</td>\n",
       "      <td>0.501961</td>\n",
       "      <td>0.011765</td>\n",
       "    </tr>\n",
       "  </tbody>\n",
       "</table>\n",
       "</div>"
      ],
      "text/plain": [
       "          R         G         B\n",
       "0  0.015686  0.494118  0.019608\n",
       "1  0.007843  0.494118  0.007843\n",
       "2  0.007843  0.494118  0.007843\n",
       "3  0.007843  0.494118  0.007843\n",
       "4  0.007843  0.501961  0.011765"
      ]
     },
     "execution_count": 4,
     "metadata": {},
     "output_type": "execute_result"
    }
   ],
   "source": [
    "pixels = pd.DataFrame(np.reshape(image, (w*h, d)), columns=['R', 'G', 'B'])\n",
    "pixels.head()"
   ]
  },
  {
   "cell_type": "markdown",
   "metadata": {},
   "source": [
    "Запустите алгоритм K-Means с параметрами init='k-means++' и random_state=241. После выделения кластеров все пиксели, отнесенные в один кластер, попробуйте заполнить двумя способами: медианным и средним цветом по кластеру."
   ]
  },
  {
   "cell_type": "code",
   "execution_count": 5,
   "metadata": {
    "collapsed": true
   },
   "outputs": [],
   "source": [
    "from sklearn.cluster import KMeans\n",
    "%matplotlib inline"
   ]
  },
  {
   "cell_type": "code",
   "execution_count": 6,
   "metadata": {},
   "outputs": [],
   "source": [
    "def search(n):\n",
    "    kmean = KMeans(n_clusters=n,init='k-means++', random_state=241).fit(pixels)\n",
    "    pixels['Label']= kmean.labels_\n",
    "    \n",
    "    medians, means = pixels.groupby('Label').median().values, pixels.groupby('Label').mean().values\n",
    "    \n",
    "    medians_pixels, means_pixels = [medians[c] for c in pixels['Label'].values], [means[c] for c in pixels['Label'].values]\n",
    "    \n",
    "    medians_img, means_img = np.reshape(medians_pixels, (w,h,d)), np.reshape(means_pixels, (w,h,d))\n",
    "      \n",
    "    return means_img, medians_img"
   ]
  },
  {
   "cell_type": "code",
   "execution_count": 7,
   "metadata": {
    "collapsed": true
   },
   "outputs": [],
   "source": [
    "from math import log10\n",
    "def psnr(img1,img2):\n",
    "    mse = np.mean((img1-img2)**2)\n",
    "    return 10 * log10(1/mse)"
   ]
  },
  {
   "cell_type": "markdown",
   "metadata": {},
   "source": [
    "Найдите минимальное количество кластеров, при котором значение PSNR выше 20 (можно рассмотреть не более 20 кластеров, но не забудьте рассмотреть оба способа заполнения пикселей одного кластера). Это число и будет ответом в данной задаче.\n"
   ]
  },
  {
   "cell_type": "code",
   "execution_count": 12,
   "metadata": {},
   "outputs": [
    {
     "name": "stdout",
     "output_type": "stream",
     "text": [
      "1 9.81883554477 9.42784046051\n",
      "2 12.0801770849 11.6550772669\n",
      "3 13.0490773814 12.5711656349\n",
      "4 14.2121678724 13.6708033157\n",
      "5 15.241296515 14.7290917967\n",
      "6 15.9424957668 15.4741208116\n",
      "7 16.7149132079 16.1630275368\n",
      "8 17.5856712535 17.0049508553\n",
      "9 18.4353515204 18.0324734616\n",
      "10 18.8232525211 18.4709516348\n",
      "11 19.2447137566 18.8619694268\n",
      "12 19.5430023458 19.2203253937\n",
      "13 19.8348917305 19.4902848051\n",
      "14 20.1329059648 19.8638836864\n"
     ]
    }
   ],
   "source": [
    "from skimage.measure import compare_psnr\n",
    "for i in range(1, 21):\n",
    "    tmp = search(i)\n",
    "    print i, psnr(image,tmp[0]), psnr(image,tmp[1])\n",
    "    #print i, compare_psnr(image, tmp[0]), compare_psnr(image, tmp[1])\n",
    "    if psnr(image,tmp[0])>20 or psnr(image,tmp[1])>20:\n",
    "        break"
   ]
  },
  {
   "cell_type": "code",
   "execution_count": null,
   "metadata": {
    "collapsed": true
   },
   "outputs": [],
   "source": []
  }
 ],
 "metadata": {
  "anaconda-cloud": {},
  "kernelspec": {
   "display_name": "Python 2",
   "language": "python",
   "name": "python2"
  },
  "language_info": {
   "codemirror_mode": {
    "name": "ipython",
    "version": 2
   },
   "file_extension": ".py",
   "mimetype": "text/x-python",
   "name": "python",
   "nbconvert_exporter": "python",
   "pygments_lexer": "ipython2",
   "version": "2.7.13"
  }
 },
 "nbformat": 4,
 "nbformat_minor": 2
}
