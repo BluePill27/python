{
 "cells": [
  {
   "cell_type": "code",
   "execution_count": 1,
   "metadata": {
    "collapsed": false
   },
   "outputs": [],
   "source": [
    "import pandas as pd\n",
    "import numpy as np\n",
    "data = pd.read_csv('data-logistic.csv', header=None)\n",
    "y = data[0].as_matrix()\n",
    "X = data[[1,2]].as_matrix()"
   ]
  },
  {
   "cell_type": "code",
   "execution_count": 2,
   "metadata": {
    "collapsed": false
   },
   "outputs": [
    {
     "name": "stdout",
     "output_type": "stream",
     "text": [
      "True 8\n"
     ]
    },
    {
     "data": {
      "text/plain": [
       "array([ 0.02855875,  0.02478014])"
      ]
     },
     "execution_count": 2,
     "metadata": {},
     "output_type": "execute_result"
    }
   ],
   "source": [
    "def step(w1, w2, X, y, k, C):\n",
    "    l = len(y)\n",
    "    new_w1 = w1 + k*(1./l)*sum([(y[i]*X[i][0])*(1-1/float(1+np.exp(-y[i]*(w1*X[i][0]+w2*X[i][1])))) for i in range(l)])-k*C*w1\n",
    "    new_w2 = w2 + k*(1./l)*sum([float(y[i]*X[i][1])*(1-1/float(1+np.exp(-y[i]*float(w1*X[i][0]+w2*X[i][1])))) for i in range(l)])-k*C*w2\n",
    "    return np.array([new_w1, new_w2])\n",
    "\n",
    "def gradient_descent(X,y, w_int, k=0.1, C=10, min_weight_dist=1e-5, max_iter=10000):\n",
    "    iter_num=0\n",
    "    weight_dist = np.inf\n",
    "    while weight_dist > min_weight_dist and iter_num < max_iter:\n",
    "        new_w=step(w_int[0],w_int[1], X, y, k, C)\n",
    "        weight_dist = sum([float(new_w[i]-w_int[i])**2 for i in range(len(w_int))])**0.5\n",
    "        w_int=new_w\n",
    "        iter_num+=1\n",
    "    print (weight_dist<min_weight_dist), iter_num\n",
    "    return new_w\n",
    "gradient_descent(X,y, np.array([.0,.0]))"
   ]
  },
  {
   "cell_type": "code",
   "execution_count": 22,
   "metadata": {
    "collapsed": false
   },
   "outputs": [
    {
     "name": "stdout",
     "output_type": "stream",
     "text": [
      "True 297\n",
      "True 8\n"
     ]
    }
   ],
   "source": [
    "w1, w2 = gradient_descent(X,y, np.array([.5,.99]), C=0)\n",
    "reg_w1, reg_w2 = gradient_descent(X,y, np.array([.0,.0]))"
   ]
  },
  {
   "cell_type": "code",
   "execution_count": 12,
   "metadata": {
    "collapsed": true
   },
   "outputs": [],
   "source": [
    "def a(X, w1, w2):\n",
    "    return  [1.0 / (1.0 + np.exp(-w1 * X[i][0] - w2 * X[i][1])) for i in range(len(X))]"
   ]
  },
  {
   "cell_type": "code",
   "execution_count": 13,
   "metadata": {
    "collapsed": false
   },
   "outputs": [],
   "source": [
    "y_score = a(X, w1, w2)\n",
    "y_reg_score = a(X, reg_w1, reg_w2)"
   ]
  },
  {
   "cell_type": "code",
   "execution_count": 15,
   "metadata": {
    "collapsed": false
   },
   "outputs": [],
   "source": [
    "from sklearn.metrics import roc_auc_score"
   ]
  },
  {
   "cell_type": "code",
   "execution_count": 16,
   "metadata": {
    "collapsed": true
   },
   "outputs": [],
   "source": [
    "auc = roc_auc_score(y, y_score)\n",
    "reg_auc = roc_auc_score(y, y_reg_score)"
   ]
  },
  {
   "cell_type": "code",
   "execution_count": 18,
   "metadata": {
    "collapsed": false
   },
   "outputs": [
    {
     "name": "stdout",
     "output_type": "stream",
     "text": [
      "0.927 0.936\n"
     ]
    }
   ],
   "source": [
    "print round(auc, 3), round(reg_auc, 3)"
   ]
  }
 ],
 "metadata": {
  "anaconda-cloud": {},
  "kernelspec": {
   "display_name": "Python [conda root]",
   "language": "python",
   "name": "conda-root-py"
  },
  "language_info": {
   "codemirror_mode": {
    "name": "ipython",
    "version": 2
   },
   "file_extension": ".py",
   "mimetype": "text/x-python",
   "name": "python",
   "nbconvert_exporter": "python",
   "pygments_lexer": "ipython2",
   "version": "2.7.12"
  }
 },
 "nbformat": 4,
 "nbformat_minor": 2
}
