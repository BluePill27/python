{
 "cells": [
  {
   "cell_type": "code",
   "execution_count": 2,
   "metadata": {
    "collapsed": false
   },
   "outputs": [],
   "source": [
    "import pandas\n",
    "data = pandas.read_csv('titanic.csv', index_col='PassengerId')"
   ]
  },
  {
   "cell_type": "code",
   "execution_count": 31,
   "metadata": {
    "collapsed": false
   },
   "outputs": [
    {
     "data": {
      "text/plain": [
       "38.38"
      ]
     },
     "execution_count": 31,
     "metadata": {},
     "output_type": "execute_result"
    }
   ],
   "source": [
    "round((data['Survived'].value_counts()[1]*100)/float(len(data['Survived'])),2)"
   ]
  },
  {
   "cell_type": "code",
   "execution_count": 34,
   "metadata": {
    "collapsed": false
   },
   "outputs": [
    {
     "data": {
      "text/plain": [
       "216"
      ]
     },
     "execution_count": 34,
     "metadata": {},
     "output_type": "execute_result"
    }
   ],
   "source": [
    "data['Pclass'].value_counts()[1]"
   ]
  },
  {
   "cell_type": "code",
   "execution_count": 35,
   "metadata": {
    "collapsed": false
   },
   "outputs": [
    {
     "data": {
      "text/plain": [
       "24.24"
      ]
     },
     "execution_count": 35,
     "metadata": {},
     "output_type": "execute_result"
    }
   ],
   "source": [
    "round((data['Pclass'].value_counts()[1]*100)/float(len(data['Pclass'])),2)"
   ]
  },
  {
   "cell_type": "code",
   "execution_count": 40,
   "metadata": {
    "collapsed": false
   },
   "outputs": [
    {
     "data": {
      "text/plain": [
       "29.7"
      ]
     },
     "execution_count": 40,
     "metadata": {},
     "output_type": "execute_result"
    }
   ],
   "source": [
    "round(data['Age'].mean(), 2)"
   ]
  },
  {
   "cell_type": "code",
   "execution_count": 39,
   "metadata": {
    "collapsed": false
   },
   "outputs": [
    {
     "data": {
      "text/plain": [
       "28.0"
      ]
     },
     "execution_count": 39,
     "metadata": {},
     "output_type": "execute_result"
    }
   ],
   "source": [
    "data['Age'].median()"
   ]
  },
  {
   "cell_type": "code",
   "execution_count": 48,
   "metadata": {
    "collapsed": false
   },
   "outputs": [
    {
     "data": {
      "text/plain": [
       "0.41"
      ]
     },
     "execution_count": 48,
     "metadata": {},
     "output_type": "execute_result"
    }
   ],
   "source": [
    "round(data['SibSp'].corr(data['Parch'], method='pearson'), 2)"
   ]
  },
  {
   "cell_type": "code",
   "execution_count": 110,
   "metadata": {
    "collapsed": false
   },
   "outputs": [],
   "source": [
    "Names=[]\n",
    "for i in range(1, len(data['Name'])):\n",
    "    if data['Sex'][i]=='female':\n",
    "        Names.append(data['Name'][i])\n",
    "Names=pandas.Series(Names).str.split()"
   ]
  },
  {
   "cell_type": "code",
   "execution_count": 115,
   "metadata": {
    "collapsed": false
   },
   "outputs": [
    {
     "data": {
      "text/plain": [
       "'Jacques'"
      ]
     },
     "execution_count": 115,
     "metadata": {},
     "output_type": "execute_result"
    }
   ],
   "source": [
    "Names[2][2]"
   ]
  },
  {
   "cell_type": "code",
   "execution_count": 116,
   "metadata": {
    "collapsed": false
   },
   "outputs": [],
   "source": [
    "s1=[]\n",
    "for i in range(1,len(Names)):\n",
    "    s1.append(Names[i][2])"
   ]
  },
  {
   "cell_type": "code",
   "execution_count": 117,
   "metadata": {
    "collapsed": false
   },
   "outputs": [],
   "source": [
    "s1=pandas.Series(s1)"
   ]
  },
  {
   "cell_type": "code",
   "execution_count": 118,
   "metadata": {
    "collapsed": false
   },
   "outputs": [
    {
     "data": {
      "text/plain": [
       "William      13\n",
       "Mary          9\n",
       "Anna          9\n",
       "Elizabeth     6\n",
       "Margaret      6\n",
       "Thomas        6\n",
       "Alice         5\n",
       "Frederick     5\n",
       "John          5\n",
       "Helen         4\n",
       "Bertha        4\n",
       "James         4\n",
       "Edward        4\n",
       "Ellen         4\n",
       "Annie         3\n",
       "Henry         3\n",
       "Kate          3\n",
       "Samuel        3\n",
       "Katherine     3\n",
       "Hanora        3\n",
       "Mrs.          3\n",
       "Joseph        3\n",
       "Charles       3\n",
       "Mabel         2\n",
       "Marija        2\n",
       "Alexander     2\n",
       "Constance     2\n",
       "Marion        2\n",
       "Marjorie      2\n",
       "Sidney        2\n",
       "             ..\n",
       "Amy           1\n",
       "Joan          1\n",
       "Dorothy       1\n",
       "Hjalmar       1\n",
       "Dickinson     1\n",
       "Laura         1\n",
       "Hilda         1\n",
       "Norman        1\n",
       "Countess.     1\n",
       "Laina         1\n",
       "(Marion       1\n",
       "Kristina      1\n",
       "Adele         1\n",
       "(Lutie        1\n",
       "Helmina       1\n",
       "Ann           1\n",
       "Ethel         1\n",
       "Gerda         1\n",
       "Kornelia      1\n",
       "Harriet       1\n",
       "Carl          1\n",
       "Stella        1\n",
       "Jamila        1\n",
       "Lizzie        1\n",
       "Karl          1\n",
       "Eva           1\n",
       "Henriette     1\n",
       "Robina        1\n",
       "Jeannie       1\n",
       "Richard       1\n",
       "dtype: int64"
      ]
     },
     "execution_count": 118,
     "metadata": {},
     "output_type": "execute_result"
    }
   ],
   "source": [
    "s1.value_counts()"
   ]
  },
  {
   "cell_type": "code",
   "execution_count": null,
   "metadata": {
    "collapsed": true
   },
   "outputs": [],
   "source": []
  }
 ],
 "metadata": {
  "anaconda-cloud": {},
  "kernelspec": {
   "display_name": "Python [default]",
   "language": "python",
   "name": "python2"
  },
  "language_info": {
   "codemirror_mode": {
    "name": "ipython",
    "version": 2
   },
   "file_extension": ".py",
   "mimetype": "text/x-python",
   "name": "python",
   "nbconvert_exporter": "python",
   "pygments_lexer": "ipython2",
   "version": "2.7.12"
  }
 },
 "nbformat": 4,
 "nbformat_minor": 2
}
