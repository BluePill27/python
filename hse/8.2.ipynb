{
 "cells": [
  {
   "cell_type": "code",
   "execution_count": 1,
   "metadata": {
    "collapsed": true
   },
   "outputs": [],
   "source": [
    "import pandas as pd\n",
    "import numpy as np"
   ]
  },
  {
   "cell_type": "markdown",
   "metadata": {},
   "source": [
    "Загрузите выборку из файла gbm-data.csv с помощью pandas и преобразуйте ее в массив numpy (параметр values у датафрейма). В первой колонке файла с данными записано, была или нет реакция. Все остальные колонки (d1 - d1776) содержат различные характеристики молекулы, такие как размер, форма и т.д. Разбейте выборку на обучающую и тестовую, используя функцию train_test_split с параметрами test_size = 0.8 и random_state = 241."
   ]
  },
  {
   "cell_type": "code",
   "execution_count": 2,
   "metadata": {
    "collapsed": true,
    "scrolled": true
   },
   "outputs": [],
   "source": [
    "data = pd.read_csv('gbm-data.csv')"
   ]
  },
  {
   "cell_type": "code",
   "execution_count": 3,
   "metadata": {
    "collapsed": true
   },
   "outputs": [],
   "source": [
    "X = data.iloc[:,1:1777].values\n",
    "y = data.iloc[:,0].values"
   ]
  },
  {
   "cell_type": "code",
   "execution_count": 4,
   "metadata": {
    "collapsed": true
   },
   "outputs": [],
   "source": [
    "from sklearn.model_selection import train_test_split"
   ]
  },
  {
   "cell_type": "code",
   "execution_count": 5,
   "metadata": {
    "collapsed": true
   },
   "outputs": [],
   "source": [
    "X_train, X_test, y_train, y_test = train_test_split(X, y, test_size = 0.8, random_state = 241)"
   ]
  },
  {
   "cell_type": "markdown",
   "metadata": {},
   "source": [
    "Обучите GradientBoostingClassifier с параметрами n_estimators=250, verbose=True, random_state=241 и для каждого значения learning_rate из списка [1, 0.5, 0.3, 0.2, 0.1] проделайте следующее:"
   ]
  },
  {
   "cell_type": "markdown",
   "metadata": {},
   "source": [
    "- Используйте метод staged_decision_function для предсказания качества на обучающей и тестовой выборке на каждой итерации.\n",
    "- Преобразуйте полученное предсказание с помощью сигмоидной функции по формуле 1 / (1 + e^{−y_pred}), где y_pred — предсказанное значение.\n",
    "- Вычислите и постройте график значений log-loss (которую можно посчитать с помощью функции sklearn.metrics.log_loss) на обучающей и тестовой выборках, а также найдите минимальное значение метрики и номер итерации, на которой оно достигается."
   ]
  },
  {
   "cell_type": "code",
   "execution_count": 6,
   "metadata": {
    "collapsed": true
   },
   "outputs": [],
   "source": [
    "def transform(y_pred):\n",
    "    for i in range(len(y_pred)):\n",
    "        y_pred[i] = 1. / (1 + np.exp(-y_pred[i])) \n",
    "    return y_pred"
   ]
  },
  {
   "cell_type": "code",
   "execution_count": 7,
   "metadata": {
    "collapsed": true
   },
   "outputs": [],
   "source": [
    "from sklearn.ensemble import GradientBoostingClassifier\n",
    "from sklearn.metrics import log_loss"
   ]
  },
  {
   "cell_type": "code",
   "execution_count": 10,
   "metadata": {
    "collapsed": false,
    "scrolled": true
   },
   "outputs": [
    {
     "name": "stdout",
     "output_type": "stream",
     "text": [
      "learning_rate =  1 \n",
      "\n",
      "      Iter       Train Loss   Remaining Time \n",
      "         1           1.0190           13.20s\n",
      "         2           0.9192           12.65s\n",
      "         3           0.8272           12.43s\n",
      "         4           0.7834           12.30s\n",
      "         5           0.7109           12.10s\n",
      "         6           0.6368           12.12s\n",
      "         7           0.5797           11.94s\n",
      "         8           0.5610           11.80s\n",
      "         9           0.5185           11.68s\n",
      "        10           0.4984           11.52s\n",
      "        20           0.1999           10.83s\n",
      "        30           0.1313           10.16s\n",
      "        40           0.0790            9.68s\n",
      "        50           0.0511            9.20s\n",
      "        60           0.0352            8.73s\n",
      "        70           0.0245            8.25s\n",
      "        80           0.0162            7.79s\n",
      "        90           0.0114            7.33s\n",
      "       100           0.0077            6.87s\n",
      "       200           0.0004            2.05s\n",
      "[<generator object staged_decision_function at 0x0000000008FF8870>]\n",
      "learning_rate =  0.5 \n",
      "\n",
      "      Iter       Train Loss   Remaining Time \n",
      "         1           1.1255           12.70s\n",
      "         2           1.0035           13.39s\n",
      "         3           0.9386           13.09s\n",
      "         4           0.8844           12.55s\n",
      "         5           0.8381           12.25s\n",
      "         6           0.7995           12.00s\n",
      "         7           0.7559           11.91s\n",
      "         8           0.7205           11.83s\n",
      "         9           0.6958           11.73s\n",
      "        10           0.6725           11.62s\n",
      "        20           0.4672           10.87s\n",
      "        30           0.3179           10.34s\n",
      "        40           0.2274            9.83s\n",
      "        50           0.1774            9.34s\n",
      "        60           0.1394            8.89s\n",
      "        70           0.1050            8.43s\n",
      "        80           0.0805            7.96s\n",
      "        90           0.0650            7.47s\n",
      "       100           0.0511            7.01s\n",
      "       200           0.0058            2.34s\n",
      "[<generator object staged_decision_function at 0x0000000008FF8870>, <generator object staged_decision_function at 0x000000000F045EA0>]\n",
      "learning_rate =  0.3 \n",
      "\n",
      "      Iter       Train Loss   Remaining Time \n",
      "         1           1.2095           13.20s\n",
      "         2           1.1006           13.27s\n",
      "         3           1.0240           13.09s\n",
      "         4           0.9729           12.92s\n",
      "         5           0.9387           12.59s\n",
      "         6           0.8948           12.65s\n",
      "         7           0.8621           12.53s\n",
      "         8           0.8360           12.34s\n",
      "         9           0.8171           12.18s\n",
      "        10           0.7883           12.05s\n",
      "        20           0.6164           11.16s\n",
      "        30           0.4933           10.57s\n",
      "        40           0.4248            9.96s\n",
      "        50           0.3345            9.52s\n",
      "        60           0.2760            9.08s\n",
      "        70           0.2263            8.59s\n",
      "        80           0.1971            8.08s\n",
      "        90           0.1693            7.60s\n",
      "       100           0.1388            7.16s\n",
      "       200           0.0294            2.36s\n",
      "[<generator object staged_decision_function at 0x0000000008FF8870>, <generator object staged_decision_function at 0x000000000F045EA0>, <generator object staged_decision_function at 0x000000000F0890D8>]\n",
      "learning_rate =  0.2 \n",
      "\n",
      "      Iter       Train Loss   Remaining Time \n",
      "         1           1.2613           12.95s\n",
      "         2           1.1715           13.02s\n",
      "         3           1.1009           12.93s\n",
      "         4           1.0529           12.79s\n",
      "         5           1.0130           12.74s\n",
      "         6           0.9740           12.69s\n",
      "         7           0.9475           12.43s\n",
      "         8           0.9197           12.37s\n",
      "         9           0.8979           12.16s\n",
      "        10           0.8730           12.07s\n",
      "        20           0.7207           11.07s\n",
      "        30           0.6055           10.45s\n",
      "        40           0.5244            9.91s\n",
      "        50           0.4501            9.40s\n",
      "        60           0.3908            8.94s\n",
      "        70           0.3372            8.48s\n",
      "        80           0.3009            8.00s\n",
      "        90           0.2603            7.53s\n",
      "       100           0.2327            7.04s\n",
      "       200           0.0835            2.33s\n",
      "[<generator object staged_decision_function at 0x0000000008FF8870>, <generator object staged_decision_function at 0x000000000F045EA0>, <generator object staged_decision_function at 0x000000000F0890D8>, <generator object staged_decision_function at 0x000000000F0891F8>]\n",
      "learning_rate =  0.1 \n",
      "\n",
      "      Iter       Train Loss   Remaining Time \n",
      "         1           1.3199           12.95s\n",
      "         2           1.2645           13.27s\n",
      "         3           1.2170           13.17s\n",
      "         4           1.1775           13.04s\n",
      "         5           1.1404           12.89s\n",
      "         6           1.1106           12.81s\n",
      "         7           1.0844           12.74s\n",
      "         8           1.0617           12.67s\n",
      "         9           1.0411           12.56s\n",
      "        10           1.0223           12.48s\n",
      "        20           0.8864           11.65s\n",
      "        30           0.7844           10.88s\n",
      "        40           0.7176           10.22s\n",
      "        50           0.6590            9.64s\n",
      "        60           0.6120            9.10s\n",
      "        70           0.5599            8.59s\n",
      "        80           0.5242            8.07s\n",
      "        90           0.4829            7.58s\n",
      "       100           0.4473            7.09s\n",
      "       200           0.2379            2.33s\n",
      "[<generator object staged_decision_function at 0x0000000008FF8870>, <generator object staged_decision_function at 0x000000000F045EA0>, <generator object staged_decision_function at 0x000000000F0890D8>, <generator object staged_decision_function at 0x000000000F0891F8>, <generator object staged_decision_function at 0x000000000F089288>]\n"
     ]
    }
   ],
   "source": [
    "for i in [1, 0.5, 0.3, 0.2, 0.1]:\n",
    "    print 'learning_rate = ', i, '\\n'\n",
    "    clf = GradientBoostingClassifier(learning_rate=i, n_estimators=250, verbose=True, random_state=241)\n",
    "    clf.fit(X_train, y_train)\n",
    "    decis.append(clf.staged_decision_function(X_test))\n",
    "    decis.append(clf.staged_decision_function(X_tain))\n",
    "    pred_test = clf.predict_proba(X_test)\n",
    "    pred_test = transform(pred_test)\n",
    "    pred_train = clf.predict_proba(y_train)\n",
    "    pred_tain = transform(pred_tain)"
   ]
  },
  {
   "cell_type": "code",
   "execution_count": 32,
   "metadata": {
    "collapsed": false
   },
   "outputs": [],
   "source": [
    "decis = clf.staged_decision_function(X_test)"
   ]
  },
  {
   "cell_type": "code",
   "execution_count": 33,
   "metadata": {
    "collapsed": false
   },
   "outputs": [
    {
     "ename": "TypeError",
     "evalue": "'int' object has no attribute '__getitem__'",
     "output_type": "error",
     "traceback": [
      "\u001b[0;31m---------------------------------------------------------------------------\u001b[0m",
      "\u001b[0;31mTypeError\u001b[0m                                 Traceback (most recent call last)",
      "\u001b[0;32m<ipython-input-33-feecbe2ac183>\u001b[0m in \u001b[0;36m<module>\u001b[0;34m()\u001b[0m\n\u001b[0;32m----> 1\u001b[0;31m \u001b[0mlen\u001b[0m\u001b[1;33m(\u001b[0m\u001b[0mlist\u001b[0m\u001b[1;33m(\u001b[0m\u001b[0mdecis\u001b[0m\u001b[1;33m)\u001b[0m\u001b[1;33m)\u001b[0m\u001b[1;33m[\u001b[0m\u001b[1;36m0\u001b[0m\u001b[1;33m]\u001b[0m\u001b[1;33m\u001b[0m\u001b[0m\n\u001b[0m",
      "\u001b[0;31mTypeError\u001b[0m: 'int' object has no attribute '__getitem__'"
     ]
    }
   ],
   "source": [
    "len(list(decis))"
   ]
  },
  {
   "cell_type": "code",
   "execution_count": 30,
   "metadata": {
    "collapsed": false
   },
   "outputs": [
    {
     "data": {
      "text/plain": [
       "3001"
      ]
     },
     "execution_count": 30,
     "metadata": {},
     "output_type": "execute_result"
    }
   ],
   "source": [
    "len(y_test)"
   ]
  },
  {
   "cell_type": "code",
   "execution_count": null,
   "metadata": {
    "collapsed": true
   },
   "outputs": [],
   "source": []
  }
 ],
 "metadata": {
  "anaconda-cloud": {},
  "kernelspec": {
   "display_name": "Python [default]",
   "language": "python",
   "name": "python2"
  },
  "language_info": {
   "codemirror_mode": {
    "name": "ipython",
    "version": 2
   },
   "file_extension": ".py",
   "mimetype": "text/x-python",
   "name": "python",
   "nbconvert_exporter": "python",
   "pygments_lexer": "ipython2",
   "version": "2.7.12"
  }
 },
 "nbformat": 4,
 "nbformat_minor": 2
}
