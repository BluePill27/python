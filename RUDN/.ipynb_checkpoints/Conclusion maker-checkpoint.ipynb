{
 "cells": [
  {
   "cell_type": "code",
   "execution_count": 1,
   "metadata": {},
   "outputs": [],
   "source": [
    "import pandas as pd\n",
    "import numpy as np\n",
    "import scipy.stats as sts\n",
    "\n",
    "import matplotlib.pyplot as plt\n",
    "import pylab\n",
    "\n",
    "import os \n",
    "import docx"
   ]
  },
  {
   "cell_type": "code",
   "execution_count": 2,
   "metadata": {
    "collapsed": true
   },
   "outputs": [],
   "source": [
    "defen = pd.read_excel('Data_Extract_From_Gender_Statistics.xlsx', sheetname=1, encoding = 'utf8').append(pd.read_excel('Data_Extract_From_Health_Nutrition_and_Population_Statistics.xlsx', sheetname=1, encoding='utf8')).append(pd.read_excel('Data_Extract_From_Millennium_Development_Goals.xlsx', sheetname=1, encoding='utf8'))"
   ]
  },
  {
   "cell_type": "code",
   "execution_count": 28,
   "metadata": {},
   "outputs": [],
   "source": [
    "def D_maker(data):\n",
    "    rez=[]\n",
    "    for index in data.index:\n",
    "        for column in data.columns:\n",
    "            i_tmp = index.split(':')\n",
    "            c_tmp = column.split(':')\n",
    "            value=[]\n",
    "            \n",
    "            if i_tmp[2]!=u'p-value' and i_tmp[0]!=c_tmp[0]:\n",
    "                value.append([data.get_value(index=index, col=column),data.get_value(index=i_tmp[0]+':'+i_tmp[1]+':p-value', col=column)])\n",
    "                \n",
    "                if abs(value[0][0])>0.5 and value[0][1]<0.001 and abs(value[0][0])<0.98:\n",
    "                    rez.append([defen[defen['Code']==i_tmp[0]]['Indicator Name'].tolist()[0], defen[defen['Code']==c_tmp[0]]['Indicator Name'].tolist()[0], value[0][0]])\n",
    "                    #Degbug                    \n",
    "                    #return rez\n",
    "    db = pd.DataFrame().append(rez)\n",
    "    db.columns = [u'Первый признак', u'Второй признак', u'Корреляция']\n",
    "    print (len(db))\n",
    "    return db.sort_values(by=[u'Корреляция'])\n",
    "\n",
    "def to_ex(data, name, n_region):\n",
    "    writer = pd.ExcelWriter(name+'.'+'Con.xlsx', engine='openpyxl')\n",
    "    data.to_excel(writer, sheet_name=n_region)\n",
    "    writer.save()\n",
    "\n",
    "def Sumup(d_name):\n",
    "    files = os.listdir(d_name)\n",
    "    for name in files:\n",
    "        data = pd.read_excel(d_name+'/'+name ,encoding = 'utf8')\n",
    "        n_region = name.split('.')[1].split('_')[2]\n",
    "        to_ex(D_maker(data), name.split('.')[0] , n_region)\n",
    "        print (n_region)"
   ]
  },
  {
   "cell_type": "code",
   "execution_count": 29,
   "metadata": {
    "scrolled": false
   },
   "outputs": [
    {
     "name": "stdout",
     "output_type": "stream",
     "text": [
      "4053\n",
      "Africa\n",
      "3042\n",
      "Americas\n",
      "4186\n",
      "Asia\n",
      "2\n",
      "Australia and New Zealand\n",
      "2433\n",
      "Caribbean\n",
      "1608\n",
      "Central America\n",
      "1089\n",
      "Central Asia\n",
      "3310\n",
      "Eastern Africa\n",
      "638\n",
      "Eastern Asia\n",
      "1610\n",
      "Eastern Europe\n",
      "2814\n",
      "Europe\n",
      "1072\n",
      "Melanesia\n",
      "416\n",
      "Micronesia\n",
      "2368\n",
      "Middle Africa\n",
      "1967\n",
      "Northern Africa\n",
      "7\n",
      "Northern America\n",
      "1938\n",
      "Oceania\n",
      "1973\n",
      "South America\n",
      "2317\n",
      "South-Eastern Asia\n",
      "1412\n",
      "Southern Africa\n",
      "2056\n",
      "Southern Asia\n",
      "2524\n",
      "Western Africa\n",
      "2817\n",
      "Western Asia\n"
     ]
    }
   ],
   "source": [
    "Sumup('all_results')"
   ]
  },
  {
   "cell_type": "code",
   "execution_count": null,
   "metadata": {
    "scrolled": true
   },
   "outputs": [],
   "source": [
    "tmp.hist(bins=10)\n",
    "plt.show()"
   ]
  },
  {
   "cell_type": "code",
   "execution_count": null,
   "metadata": {
    "collapsed": true
   },
   "outputs": [],
   "source": [
    "#for d in ['all_results','data1_results', 'data2_results','data3_results']:\n",
    "#    Sumup(d)"
   ]
  },
  {
   "cell_type": "code",
   "execution_count": null,
   "metadata": {},
   "outputs": [],
   "source": [
    "'all.Corr_in_Africa.xlsx'.split('.')[0]"
   ]
  },
  {
   "cell_type": "code",
   "execution_count": null,
   "metadata": {},
   "outputs": [],
   "source": [
    "d.Document()"
   ]
  },
  {
   "cell_type": "code",
   "execution_count": null,
   "metadata": {
    "collapsed": true
   },
   "outputs": [],
   "source": []
  }
 ],
 "metadata": {
  "anaconda-cloud": {},
  "kernelspec": {
   "display_name": "Python 3",
   "language": "python",
   "name": "python3"
  },
  "language_info": {
   "codemirror_mode": {
    "name": "ipython",
    "version": 3
   },
   "file_extension": ".py",
   "mimetype": "text/x-python",
   "name": "python",
   "nbconvert_exporter": "python",
   "pygments_lexer": "ipython3",
   "version": "3.6.3"
  }
 },
 "nbformat": 4,
 "nbformat_minor": 2
}
