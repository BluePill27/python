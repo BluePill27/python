{
 "cells": [
  {
   "cell_type": "code",
   "execution_count": 1,
   "metadata": {
    "collapsed": true
   },
   "outputs": [],
   "source": [
    "import pandas as pd\n",
    "import numpy as np\n",
    "import scipy.stats as sts\n",
    "\n",
    "import matplotlib.pyplot as plt\n",
    "import pylab\n",
    "\n",
    "import os "
   ]
  },
  {
   "cell_type": "code",
   "execution_count": 2,
   "metadata": {
    "collapsed": true
   },
   "outputs": [],
   "source": [
    "defen = pd.read_excel('Data_Extract_From_Gender_Statistics.xlsx', sheetname=1, encoding = 'utf8').append(pd.read_excel('Data_Extract_From_Health_Nutrition_and_Population_Statistics.xlsx', sheetname=1, encoding='utf8')).append(pd.read_excel('Data_Extract_From_Millennium_Development_Goals.xlsx', sheetname=1, encoding='utf8'))"
   ]
  },
  {
   "cell_type": "code",
   "execution_count": 15,
   "metadata": {
    "scrolled": false
   },
   "outputs": [],
   "source": [
    "def D_maker(data,c=0.5, p=0.01, m=1, s=u'Корреляция'):\n",
    "    rez=[]\n",
    "    for index in data.index:\n",
    "        for column in data.columns:\n",
    "            i_tmp = index.split(':')\n",
    "            c_tmp = column.split(':')\n",
    "            value=[]\n",
    "            \n",
    "            if i_tmp[2]!=u'p-value' and i_tmp[0]!=c_tmp[0]:\n",
    "                value.append([data.get_value(index=index, col=column),data.get_value(index=i_tmp[0]+':'+i_tmp[1]+':p-value', col=column)])\n",
    "                \n",
    "                if abs(value[0][0])>c and value[0][1]<p and abs(value[0][0])<m:\n",
    "                    \n",
    "                    if [defen[defen['Code']==c_tmp[0]]['Indicator Name'].tolist()[0], defen[defen['Code']==i_tmp[0]]['Indicator Name'].tolist()[0], value[0][0]] not in rez:\n",
    "                        rez.append([defen[defen['Code']==i_tmp[0]]['Indicator Name'].tolist()[0], defen[defen['Code']==c_tmp[0]]['Indicator Name'].tolist()[0], value[0][0]])\n",
    "                    \n",
    "                    #Degbug                    \n",
    "                    #return rez\n",
    "    db = pd.DataFrame().append(rez)\n",
    "    db.columns = [u'Первый признак', u'Второй признак', u'Корреляция']\n",
    "    #print (len(db))\n",
    "    db = check(db.sort_values(by=[s]))\n",
    "    return db\n",
    "\n",
    "def check(data):\n",
    "    rez=[]\n",
    "    data = data.sort_values(by=[u'Корреляция'])\n",
    "    tmp = data.as_matrix()\n",
    "    for i, row in enumerate(tmp):\n",
    "        if i<len(tmp)-1:\n",
    "            if row[2] != tmp[i+1][2] and row[1] != tmp[i+1][0] and row[0] != tmp[i+1][1]:\n",
    "                rez.append(row)\n",
    "    if len(rez)!=0:\n",
    "        db = pd.DataFrame().append(rez)\n",
    "        db.columns = [u'Первый признак', u'Второй признак', u'Корреляция']\n",
    "        return db.reset_index()\n",
    "    else:\n",
    "        print('what?')\n",
    "        return data\n",
    "            \n",
    "\n",
    "def to_ex(data, name, n_region):\n",
    "    filename = name+'.'+n_region+'.Con.xlsx'\n",
    "    data[[u'Первый признак', u'Второй признак', u'Корреляция']].sort_values(by=u'Первый признак').to_excel(filename, sheet_name=name, index = False)\n",
    "\n",
    "def Sumup(d_name):\n",
    "    files = os.listdir(d_name)\n",
    "    rez = pd.DataFrame(columns = [u'Первый признак', u'Второй признак', u'Корреляция'])\n",
    "    for name in files:\n",
    "        data = pd.read_excel(d_name+'/'+name ,encoding = 'utf8')\n",
    "        n_region = name.split('.')[1].split('_')[2]\n",
    "        print (n_region)\n",
    "        to_ex(D_maker(data), name.split('.')[0], n_region)"
   ]
  },
  {
   "cell_type": "code",
   "execution_count": 23,
   "metadata": {},
   "outputs": [],
   "source": [
    "to_ex(D_maker(pd.read_excel('deep.Corr_in_RUS.xlsx', encoding='utf8')), 'check', 'RUS')"
   ]
  },
  {
   "cell_type": "code",
   "execution_count": null,
   "metadata": {
    "collapsed": true
   },
   "outputs": [],
   "source": []
  }
 ],
 "metadata": {
  "anaconda-cloud": {},
  "kernelspec": {
   "display_name": "Python 3",
   "language": "python",
   "name": "python3"
  },
  "language_info": {
   "codemirror_mode": {
    "name": "ipython",
    "version": 3
   },
   "file_extension": ".py",
   "mimetype": "text/x-python",
   "name": "python",
   "nbconvert_exporter": "python",
   "pygments_lexer": "ipython3",
   "version": "3.6.3"
  }
 },
 "nbformat": 4,
 "nbformat_minor": 2
}
