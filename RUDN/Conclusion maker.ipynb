{
 "cells": [
  {
   "cell_type": "code",
   "execution_count": 1,
   "metadata": {
    "collapsed": true
   },
   "outputs": [],
   "source": [
    "import pandas as pd\n",
    "import numpy as np\n",
    "import scipy.stats as sts\n",
    "import matplotlib.pyplot as plt\n",
    "import pylab\n",
    "import os "
   ]
  },
  {
   "cell_type": "code",
   "execution_count": 2,
   "metadata": {},
   "outputs": [],
   "source": [
    "defen = pd.read_excel('Data_Extract_From_Gender_Statistics.xlsx', sheetname=1, encoding = 'utf8').append(pd.read_excel('Data_Extract_From_Health_Nutrition_and_Population_Statistics.xlsx', sheetname=1, encoding='utf8')).append(pd.read_excel('Data_Extract_From_Millennium_Development_Goals.xlsx', sheetname=1, encoding='utf8'))"
   ]
  },
  {
   "cell_type": "code",
   "execution_count": 137,
   "metadata": {},
   "outputs": [],
   "source": [
    "def D_maker(data):\n",
    "    #rez = pd.DataFrame()\n",
    "    #k=1\n",
    "    rez=[]\n",
    "    for index in data.index:\n",
    "        for column in data.columns:\n",
    "            i_tmp = index.split(':')\n",
    "            c_tmp = column.split(':')\n",
    "            value=[]\n",
    "            if i_tmp[2]!=u'p-value' and i_tmp[0]!=c_tmp[0]:\n",
    "                value.append([data.get_value(index=index, col=column),data.get_value(index=i_tmp[0]+':'+i_tmp[1]+':p-value', col=column)])\n",
    "                if value[0][0]>0.5 and value[0][1]<0.1 and value[0][0]!=1:\n",
    "                    #rez.append(pd.DataFrame(np.array(value[0][0]), columns=['Cor'], index=[k]))\n",
    "                    #rez.append(pd.DataFrame(defen[defen['Code']==i_tmp[0]]['Indicator Name'].tolist()[0], columns=['Def1'], index=[k]))\n",
    "                    #rez.append(pd.DataFrame(defen[defen['Code']==c_tmp[0]]['Indicator Name'].tolist()[0], columns=['Def2'], index=[k]))\n",
    "                    #k+=1\n",
    "                    rez.append([defen[defen['Code']==i_tmp[0]]['Indicator Name'].tolist()[0], defen[defen['Code']==c_tmp[0]]['Indicator Name'].tolist()[0], value[0][0]])\n",
    "                    #Degbug                    \n",
    "                    #return rez \n",
    "    return pd.DataFrame().append(rez)\n",
    "\n",
    "def Sumup(d_name):\n",
    "    files = os.listdir(d_name)\n",
    "    for name in files:\n",
    "        data = pd.read_excel(d_name+'/'+name ,encoding = 'utf8')\n",
    "        n_regino = name.split('.')[1].split('_')[2]\n",
    "    return D_maker(data)"
   ]
  },
  {
   "cell_type": "code",
   "execution_count": 138,
   "metadata": {
    "scrolled": false
   },
   "outputs": [
    {
     "data": {
      "text/plain": [
       "4532"
      ]
     },
     "execution_count": 138,
     "metadata": {},
     "output_type": "execute_result"
    }
   ],
   "source": [
    "tmp = Sumup('all_results')\n",
    "len(tmp)"
   ]
  },
  {
   "cell_type": "code",
   "execution_count": 134,
   "metadata": {},
   "outputs": [
    {
     "data": {
      "text/html": [
       "<div>\n",
       "<style>\n",
       "    .dataframe thead tr:only-child th {\n",
       "        text-align: right;\n",
       "    }\n",
       "\n",
       "    .dataframe thead th {\n",
       "        text-align: left;\n",
       "    }\n",
       "\n",
       "    .dataframe tbody tr th {\n",
       "        vertical-align: top;\n",
       "    }\n",
       "</style>\n",
       "<table border=\"1\" class=\"dataframe\">\n",
       "  <thead>\n",
       "    <tr style=\"text-align: right;\">\n",
       "      <th></th>\n",
       "      <th>0</th>\n",
       "      <th>1</th>\n",
       "      <th>2</th>\n",
       "    </tr>\n",
       "  </thead>\n",
       "  <tbody>\n",
       "    <tr>\n",
       "      <th>0</th>\n",
       "      <td>Inflation, consumer prices (annual %)</td>\n",
       "      <td>Number of infant deaths</td>\n",
       "      <td>0.910993</td>\n",
       "    </tr>\n",
       "    <tr>\n",
       "      <th>1</th>\n",
       "      <td>Inflation, consumer prices (annual %)</td>\n",
       "      <td>Number of under-five deaths</td>\n",
       "      <td>0.910781</td>\n",
       "    </tr>\n",
       "    <tr>\n",
       "      <th>2</th>\n",
       "      <td>Inflation, consumer prices (annual %)</td>\n",
       "      <td>Number of neonatal deaths</td>\n",
       "      <td>0.907715</td>\n",
       "    </tr>\n",
       "    <tr>\n",
       "      <th>3</th>\n",
       "      <td>Inflation, consumer prices (annual %)</td>\n",
       "      <td>Mortality rate, under-5 (per 1,000 live births)</td>\n",
       "      <td>0.665343</td>\n",
       "    </tr>\n",
       "    <tr>\n",
       "      <th>4</th>\n",
       "      <td>Inflation, consumer prices (annual %)</td>\n",
       "      <td>Mortality rate, neonatal (per 1,000 live births)</td>\n",
       "      <td>0.675374</td>\n",
       "    </tr>\n",
       "  </tbody>\n",
       "</table>\n",
       "</div>"
      ],
      "text/plain": [
       "                                       0  \\\n",
       "0  Inflation, consumer prices (annual %)   \n",
       "1  Inflation, consumer prices (annual %)   \n",
       "2  Inflation, consumer prices (annual %)   \n",
       "3  Inflation, consumer prices (annual %)   \n",
       "4  Inflation, consumer prices (annual %)   \n",
       "\n",
       "                                                  1         2  \n",
       "0                           Number of infant deaths  0.910993  \n",
       "1                       Number of under-five deaths  0.910781  \n",
       "2                         Number of neonatal deaths  0.907715  \n",
       "3   Mortality rate, under-5 (per 1,000 live births)  0.665343  \n",
       "4  Mortality rate, neonatal (per 1,000 live births)  0.675374  "
      ]
     },
     "execution_count": 134,
     "metadata": {},
     "output_type": "execute_result"
    }
   ],
   "source": [
    "tmp.head()"
   ]
  },
  {
   "cell_type": "code",
   "execution_count": 87,
   "metadata": {},
   "outputs": [],
   "source": [
    "#for d in ['all_results','data1_results', 'data2_results','data3_results']:\n",
    "#    Sumup(d)"
   ]
  },
  {
   "cell_type": "code",
   "execution_count": 88,
   "metadata": {},
   "outputs": [
    {
     "data": {
      "text/plain": [
       "'Africa'"
      ]
     },
     "execution_count": 88,
     "metadata": {},
     "output_type": "execute_result"
    }
   ],
   "source": [
    "'all.Corr_in_Africa.xlsx'.split('.')[1].split('_')[2]"
   ]
  },
  {
   "cell_type": "code",
   "execution_count": 89,
   "metadata": {},
   "outputs": [],
   "source": [
    "test = pd.read_excel('all_results'+'/'+'all.Corr_in_Africa.xlsx' ,encoding = 'utf8')"
   ]
  },
  {
   "cell_type": "code",
   "execution_count": 90,
   "metadata": {},
   "outputs": [
    {
     "data": {
      "text/plain": [
       "'FP.CPI.TOTL.ZG'"
      ]
     },
     "execution_count": 90,
     "metadata": {},
     "output_type": "execute_result"
    }
   ],
   "source": [
    "test.index[1].split(':')[0]"
   ]
  },
  {
   "cell_type": "code",
   "execution_count": 91,
   "metadata": {},
   "outputs": [
    {
     "data": {
      "text/plain": [
       "['FP.CPI.TOTL.ZG', 'Africa']"
      ]
     },
     "execution_count": 91,
     "metadata": {},
     "output_type": "execute_result"
    }
   ],
   "source": [
    "test.columns[0].split(':')"
   ]
  },
  {
   "cell_type": "code",
   "execution_count": 92,
   "metadata": {},
   "outputs": [
    {
     "data": {
      "text/plain": [
       "'FP.CPI.TOTL.ZG:Africa:cor-value'"
      ]
     },
     "execution_count": 92,
     "metadata": {},
     "output_type": "execute_result"
    }
   ],
   "source": [
    "test.index[0]"
   ]
  },
  {
   "cell_type": "code",
   "execution_count": 93,
   "metadata": {},
   "outputs": [
    {
     "data": {
      "text/plain": [
       "'Inflation, consumer prices (annual %)'"
      ]
     },
     "execution_count": 93,
     "metadata": {},
     "output_type": "execute_result"
    }
   ],
   "source": [
    "defen[defen['Code']=='FP.CPI.TOTL.ZG']['Indicator Name'].tolist()[0]"
   ]
  },
  {
   "cell_type": "code",
   "execution_count": 94,
   "metadata": {},
   "outputs": [
    {
     "data": {
      "text/html": [
       "<div>\n",
       "<style>\n",
       "    .dataframe thead tr:only-child th {\n",
       "        text-align: right;\n",
       "    }\n",
       "\n",
       "    .dataframe thead th {\n",
       "        text-align: left;\n",
       "    }\n",
       "\n",
       "    .dataframe tbody tr th {\n",
       "        vertical-align: top;\n",
       "    }\n",
       "</style>\n",
       "<table border=\"1\" class=\"dataframe\">\n",
       "  <thead>\n",
       "    <tr style=\"text-align: right;\">\n",
       "      <th></th>\n",
       "      <th>Code</th>\n",
       "      <th>Indicator Name</th>\n",
       "      <th>Long definition</th>\n",
       "      <th>Source</th>\n",
       "    </tr>\n",
       "  </thead>\n",
       "  <tbody>\n",
       "    <tr>\n",
       "      <th>0</th>\n",
       "      <td>SH.HIV.ARTC.FE.ZS</td>\n",
       "      <td>Antiretroviral therapy coverage (% of adult fe...</td>\n",
       "      <td>The percentage of adult females living with HI...</td>\n",
       "      <td>UNAIDS estimates.</td>\n",
       "    </tr>\n",
       "    <tr>\n",
       "      <th>1</th>\n",
       "      <td>SH.HIV.ARTC.MA.ZS</td>\n",
       "      <td>Antiretroviral therapy coverage (% of adult ma...</td>\n",
       "      <td>The percentage of adult males living with HIV ...</td>\n",
       "      <td>UNAIDS estimates.</td>\n",
       "    </tr>\n",
       "    <tr>\n",
       "      <th>2</th>\n",
       "      <td>SP.POP.DPND</td>\n",
       "      <td>Age dependency ratio (% of working-age populat...</td>\n",
       "      <td>Age dependency ratio is the ratio of dependent...</td>\n",
       "      <td>World Bank staff estimates using the World Ban...</td>\n",
       "    </tr>\n",
       "    <tr>\n",
       "      <th>3</th>\n",
       "      <td>SP.POP.AG00.FE.IN</td>\n",
       "      <td>Age population, age 0, female, interpolated</td>\n",
       "      <td>Age population, female refers to female popula...</td>\n",
       "      <td>The United Nations Population Division’s World...</td>\n",
       "    </tr>\n",
       "    <tr>\n",
       "      <th>4</th>\n",
       "      <td>SP.POP.AG00.MA.IN</td>\n",
       "      <td>Age population, age 0, male, interpolated</td>\n",
       "      <td>Age population, male refers to male population...</td>\n",
       "      <td>The United Nations Population Division’s World...</td>\n",
       "    </tr>\n",
       "  </tbody>\n",
       "</table>\n",
       "</div>"
      ],
      "text/plain": [
       "                Code                                     Indicator Name  \\\n",
       "0  SH.HIV.ARTC.FE.ZS  Antiretroviral therapy coverage (% of adult fe...   \n",
       "1  SH.HIV.ARTC.MA.ZS  Antiretroviral therapy coverage (% of adult ma...   \n",
       "2        SP.POP.DPND  Age dependency ratio (% of working-age populat...   \n",
       "3  SP.POP.AG00.FE.IN        Age population, age 0, female, interpolated   \n",
       "4  SP.POP.AG00.MA.IN          Age population, age 0, male, interpolated   \n",
       "\n",
       "                                     Long definition  \\\n",
       "0  The percentage of adult females living with HI...   \n",
       "1  The percentage of adult males living with HIV ...   \n",
       "2  Age dependency ratio is the ratio of dependent...   \n",
       "3  Age population, female refers to female popula...   \n",
       "4  Age population, male refers to male population...   \n",
       "\n",
       "                                              Source  \n",
       "0                                  UNAIDS estimates.  \n",
       "1                                  UNAIDS estimates.  \n",
       "2  World Bank staff estimates using the World Ban...  \n",
       "3  The United Nations Population Division’s World...  \n",
       "4  The United Nations Population Division’s World...  "
      ]
     },
     "execution_count": 94,
     "metadata": {},
     "output_type": "execute_result"
    }
   ],
   "source": [
    "defen.head()"
   ]
  },
  {
   "cell_type": "code",
   "execution_count": null,
   "metadata": {
    "collapsed": true
   },
   "outputs": [],
   "source": []
  }
 ],
 "metadata": {
  "anaconda-cloud": {},
  "kernelspec": {
   "display_name": "Python 3",
   "language": "python",
   "name": "python3"
  },
  "language_info": {
   "codemirror_mode": {
    "name": "ipython",
    "version": 3
   },
   "file_extension": ".py",
   "mimetype": "text/x-python",
   "name": "python",
   "nbconvert_exporter": "python",
   "pygments_lexer": "ipython3",
   "version": "3.6.2"
  }
 },
 "nbformat": 4,
 "nbformat_minor": 2
}
