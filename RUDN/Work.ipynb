{
 "cells": [
  {
   "cell_type": "code",
   "execution_count": 6,
   "metadata": {
    "collapsed": true,
    "nbpresent": {
     "id": "e096ee4e-79b4-46e9-bba6-38bc6f83e48b"
    }
   },
   "outputs": [],
   "source": [
    "import pandas as pd\n",
    "import numpy as np\n",
    "import scipy.stats as sts\n",
    "import matplotlib.pyplot as plt\n",
    "import pylab"
   ]
  },
  {
   "cell_type": "markdown",
   "metadata": {
    "nbpresent": {
     "id": "723dd0a8-cc41-465a-a4ab-ee49aa9c7d57"
    }
   },
   "source": [
    "Загружаем выборки."
   ]
  },
  {
   "cell_type": "code",
   "execution_count": 7,
   "metadata": {
    "collapsed": false,
    "nbpresent": {
     "id": "aa398a75-1ae2-412a-a724-e065e6085edc"
    }
   },
   "outputs": [],
   "source": [
    "data1 = pd.read_excel('Data_Extract_From_Gender_Statistics.xlsx', encoding = 'utf8')\n",
    "def_data1 = pd.read_excel('Data_Extract_From_Gender_Statistics.xlsx', sheetname=1, encoding = 'utf8')\n",
    "\n",
    "data2 = pd.read_excel('Data_Extract_From_Health_Nutrition_and_Population_Statistics.xlsx', encoding='utf8')\n",
    "def_data2 = pd.read_excel('Data_Extract_From_Health_Nutrition_and_Population_Statistics.xlsx', sheetname=1, encoding='utf8')\n",
    "\n",
    "data3 = pd.read_excel('Data_Extract_From_Millennium_Development_Goals.xlsx', encoding='utf8')\n",
    "def_data3 = pd.read_excel('Data_Extract_From_Millennium_Development_Goals.xlsx', sheetname=1, encoding='utf8')\n",
    "\n",
    "data_cnt = pd.read_csv('all.csv', encoding='utf8')"
   ]
  },
  {
   "cell_type": "markdown",
   "metadata": {
    "nbpresent": {
     "id": "a300ca12-503c-48bc-bd98-67ff4626bb5d"
    }
   },
   "source": [
    "Очищаем данные от больших пропусков, точек и пр."
   ]
  },
  {
   "cell_type": "code",
   "execution_count": 8,
   "metadata": {
    "collapsed": true,
    "nbpresent": {
     "id": "83b1d263-1f6f-4ab5-93aa-aa36938d6dd5"
    }
   },
   "outputs": [],
   "source": [
    "def Fillnan(data, years_c):\n",
    "    for name in years_c:\n",
    "        data[name] = data[name].apply(lambda x: np.nan if x==('..') else float(x))\n",
    "    return data\n",
    "    \n",
    "def Dropempt(data, years_c):\n",
    "    tmp=[]\n",
    "    for ind, item in enumerate(data[years_c].as_matrix()):\n",
    "        if np.nansum(item) == 0:\n",
    "            tmp.append(ind)\n",
    "    data = data.drop(data.index[tmp]).reset_index()\n",
    "    return data.drop('index', axis=1)\n",
    "    \n",
    "def Clearing(data):\n",
    "    years_c = [item for ind, item in enumerate(np.array(data.columns)) if ind not in (range(0,4))]\n",
    "    if data['Country Code'].get_value(len(data)-5) == np.nan:\n",
    "        data=data.drop(data.index[[range(len(data)-5, len(data))]]).reset_index()\n",
    "    data = Dropempt(Fillnan(data, years_c), years_c)\n",
    "    return data"
   ]
  },
  {
   "cell_type": "markdown",
   "metadata": {
    "nbpresent": {
     "id": "256be4ad-2233-4053-8bc3-af02e028ab77"
    }
   },
   "source": [
    "Сортировка по регионам."
   ]
  },
  {
   "cell_type": "code",
   "execution_count": 9,
   "metadata": {
    "collapsed": true,
    "nbpresent": {
     "id": "79988d41-8aed-4067-866c-5e081ea9c833"
    }
   },
   "outputs": [],
   "source": [
    "def Make_region(code):\n",
    "    #print code\n",
    "    if code in data_cnt['name'].values:\n",
    "        #print code\n",
    "        name = (data_cnt['name'][data_cnt['name'] == code].index.tolist())[0]\n",
    "        return data_cnt['region'].get_value(name)\n",
    "    else:\n",
    "        return np.nan\n",
    "\n",
    "def Sorting(data):\n",
    "    if data['Country Name'].get_value(len(data)-5) == np.nan:\n",
    "        data=data.drop(data.index[[range(len(data)-5, len(data))]]).reset_index()\n",
    "    elif 'Region' not in data.columns:\n",
    "        data['Region'] = data['Country Name'].apply(lambda x: Make_region(x))\n",
    "        data['Region'].dropna()\n",
    "        return data.reset_index()\n",
    "    else:\n",
    "        return data"
   ]
  },
  {
   "cell_type": "code",
   "execution_count": 10,
   "metadata": {
    "collapsed": false,
    "nbpresent": {
     "id": "07736ff1-f30a-4fe1-970f-3546128debd8"
    }
   },
   "outputs": [],
   "source": [
    "data1 = Clearing(data1)\n",
    "#заметил много шума.\n",
    "del data1['2016 [YR2016]']\n",
    "\n",
    "data2 = Clearing(data2)\n",
    "del data2['2001 [YR2001]']\n",
    "\n",
    "data3 = Clearing(data3)\n",
    "del data3['2016 [YR2016]']"
   ]
  },
  {
   "cell_type": "markdown",
   "metadata": {},
   "source": [
    "Эвристика\n",
    "Преимущество данного подхода в том, что мы не потеряем единственные значения у некоторых стран. Но при этом, отразим актуальность, а значит и реальность."
   ]
  },
  {
   "cell_type": "code",
   "execution_count": 11,
   "metadata": {
    "collapsed": true
   },
   "outputs": [],
   "source": [
    "def data_inc(data):\n",
    "    magic = 0.08\n",
    "    for ind, item in enumerate(np.array(data.columns)):\n",
    "        if ind not in (range(0,4)):\n",
    "        #попробую с интерполяцией\n",
    "            data[item] = data[item].apply(lambda x: ((ind-2)*magic)*x if ((ind-2)*magic)>1 else x).interpolate()\n",
    "    return data\n",
    "\n",
    "def R_mean(data):\n",
    "    if ('Mean' not in data.columns) and ('Region' not in data.columns):\n",
    "        data['Mean']= data[[item for ind, item in enumerate(np.array(data.columns)) if ind not in (range(0,4))]].apply(lambda x: np.nanmean(x), axis = 1)\n",
    "    elif ('Region' in data.columns):\n",
    "        data['Mean']= data[[item for ind, item in enumerate(np.array(data.columns)) if ind not in [(range(0,4)), len(data.columns)-1]]].apply(lambda x: np.nanmean(x), axis = 1)\n",
    "    return data"
   ]
  },
  {
   "cell_type": "markdown",
   "metadata": {},
   "source": [
    "Чувствую себя отвратительно за такой код. Доделаю до конца и поправлю. "
   ]
  },
  {
   "cell_type": "code",
   "execution_count": 12,
   "metadata": {
    "collapsed": true,
    "scrolled": true
   },
   "outputs": [],
   "source": [
    "data1 = Sorting(R_mean(data_inc(data1)))\n",
    "data2 = Sorting(R_mean(data_inc(data2)))\n",
    "data3 = Sorting(R_mean(data_inc(data3)))"
   ]
  },
  {
   "cell_type": "markdown",
   "metadata": {},
   "source": [
    "Вот тут буду коррелировать, строить графики и пр"
   ]
  },
  {
   "cell_type": "code",
   "execution_count": 27,
   "metadata": {
    "collapsed": true
   },
   "outputs": [],
   "source": [
    "def podshape(t1,t2):\n",
    "    cntrs1 = t1['Country Name'].tolist()\n",
    "    cntrs2 = t2['Country Name'].tolist()\n",
    "    x, y = [],[]\n",
    "    if len(t1)!=len(t2):\n",
    "        for contr in cntrs1:\n",
    "            if contr in cntrs2:\n",
    "                x.append(t1['Mean'][t1['Country Name']== contr].as_matrix()[0])\n",
    "                y.append(t2['Mean'][t2['Country Name']== contr].as_matrix()[0])\n",
    "        return x, y\n",
    "    else:\n",
    "        return t1['Mean'].as_matrix(), t2['Mean'].as_matrix()\n",
    "\n",
    "def Shaping(t1,t2):\n",
    "    if len(t1)==0 or len(t1)==0:\n",
    "        print 'zero'\n",
    "        return [0],[0]\n",
    "    \n",
    "    if len(t1)<len(t2):\n",
    "        return podshape(t1,t2)\n",
    "    elif len(t1)>len(t2):\n",
    "        return podshape(t1,t2)\n",
    "    else:\n",
    "        return t1['Mean'].as_matrix(), t2['Mean'].as_matrix()\n",
    "    \n",
    "def Correlation(data):\n",
    "    regions = data['Region'].unique()\n",
    "    codes = data['Series Code'].dropna().unique()\n",
    "    rez=pd.DataFrame()\n",
    "    for region in regions:\n",
    "        for code1 in codes:\n",
    "            for code2 in codes:\n",
    "                #print (region, code1, code2)\n",
    "                Sh = Shaping(data[['Mean', 'Country Name']][data['Series Code']==code1][data['Region']==region], data[['Mean', 'Country Name']][data['Series Code']==code2][data['Region']==region])\n",
    "                tmp = sts.pearsonr(Sh[0],Sh[1])\n",
    "                rez = rez.append(pd.DataFrame(tmp[0], columns=[code1+':'+region], index=[code2+':'+region+':'+'cor-value']))\n",
    "                rez = rez.append(pd.DataFrame(tmp[1], columns=[code1+':'+region], index=[code2+':'+region+':'+'p-value']))\n",
    "                rez = rez.groupby(rez.index).first()\n",
    "            #что-то да происходит.\n",
    "            return rez\n",
    "        print ('Passed: ' + region)\n",
    "    return rez"
   ]
  },
  {
   "cell_type": "code",
   "execution_count": 28,
   "metadata": {
    "collapsed": false,
    "scrolled": true
   },
   "outputs": [
    {
     "name": "stderr",
     "output_type": "stream",
     "text": [
      "C:\\Program Files\\Anaconda2\\lib\\site-packages\\ipykernel\\__main__.py:34: UserWarning: Boolean Series key will be reindexed to match DataFrame index.\n"
     ]
    },
    {
     "data": {
      "text/html": [
       "<div>\n",
       "<table border=\"1\" class=\"dataframe\">\n",
       "  <thead>\n",
       "    <tr style=\"text-align: right;\">\n",
       "      <th></th>\n",
       "      <th>SH.HIV.ARTC.FE.ZS:Asia</th>\n",
       "    </tr>\n",
       "  </thead>\n",
       "  <tbody>\n",
       "    <tr>\n",
       "      <th>FP.CPI.TOTL.ZG:Asia,cor-value</th>\n",
       "      <td>-0.530157</td>\n",
       "    </tr>\n",
       "    <tr>\n",
       "      <th>FP.CPI.TOTL.ZG:Asia,p-value</th>\n",
       "      <td>0.013431</td>\n",
       "    </tr>\n",
       "    <tr>\n",
       "      <th>IC.FRM.FEMM.ZS:Asia,cor-value</th>\n",
       "      <td>0.086447</td>\n",
       "    </tr>\n",
       "    <tr>\n",
       "      <th>IC.FRM.FEMM.ZS:Asia,p-value</th>\n",
       "      <td>0.709454</td>\n",
       "    </tr>\n",
       "    <tr>\n",
       "      <th>NY.GDP.MKTP.CD:Asia,cor-value</th>\n",
       "      <td>0.050404</td>\n",
       "    </tr>\n",
       "    <tr>\n",
       "      <th>NY.GDP.MKTP.CD:Asia,p-value</th>\n",
       "      <td>0.823725</td>\n",
       "    </tr>\n",
       "    <tr>\n",
       "      <th>NY.GDP.MKTP.KD.ZG:Asia,cor-value</th>\n",
       "      <td>-0.270369</td>\n",
       "    </tr>\n",
       "    <tr>\n",
       "      <th>NY.GDP.MKTP.KD.ZG:Asia,p-value</th>\n",
       "      <td>0.223625</td>\n",
       "    </tr>\n",
       "    <tr>\n",
       "      <th>NY.GDP.PCAP.CD:Asia,cor-value</th>\n",
       "      <td>0.288693</td>\n",
       "    </tr>\n",
       "    <tr>\n",
       "      <th>NY.GDP.PCAP.CD:Asia,p-value</th>\n",
       "      <td>0.192574</td>\n",
       "    </tr>\n",
       "    <tr>\n",
       "      <th>NY.GNP.ATLS.CD:Asia,cor-value</th>\n",
       "      <td>0.041173</td>\n",
       "    </tr>\n",
       "    <tr>\n",
       "      <th>NY.GNP.ATLS.CD:Asia,p-value</th>\n",
       "      <td>0.855645</td>\n",
       "    </tr>\n",
       "    <tr>\n",
       "      <th>NY.GNP.PCAP.CD:Asia,cor-value</th>\n",
       "      <td>0.275606</td>\n",
       "    </tr>\n",
       "    <tr>\n",
       "      <th>NY.GNP.PCAP.CD:Asia,p-value</th>\n",
       "      <td>0.214433</td>\n",
       "    </tr>\n",
       "    <tr>\n",
       "      <th>NY.GNP.PCAP.PP.CD:Asia,cor-value</th>\n",
       "      <td>0.459237</td>\n",
       "    </tr>\n",
       "    <tr>\n",
       "      <th>NY.GNP.PCAP.PP.CD:Asia,p-value</th>\n",
       "      <td>0.041657</td>\n",
       "    </tr>\n",
       "    <tr>\n",
       "      <th>SE.XPD.PRIM.PC.ZS:Asia,cor-value</th>\n",
       "      <td>0.155966</td>\n",
       "    </tr>\n",
       "    <tr>\n",
       "      <th>SE.XPD.PRIM.PC.ZS:Asia,p-value</th>\n",
       "      <td>0.578849</td>\n",
       "    </tr>\n",
       "    <tr>\n",
       "      <th>SE.XPD.SECO.PC.ZS:Asia,cor-value</th>\n",
       "      <td>0.221174</td>\n",
       "    </tr>\n",
       "    <tr>\n",
       "      <th>SE.XPD.SECO.PC.ZS:Asia,p-value</th>\n",
       "      <td>0.410393</td>\n",
       "    </tr>\n",
       "    <tr>\n",
       "      <th>SE.XPD.TOTL.GD.ZS:Asia,cor-value</th>\n",
       "      <td>0.265088</td>\n",
       "    </tr>\n",
       "    <tr>\n",
       "      <th>SE.XPD.TOTL.GD.ZS:Asia,p-value</th>\n",
       "      <td>0.258673</td>\n",
       "    </tr>\n",
       "    <tr>\n",
       "      <th>SG.COK.CHCO.ZS:Asia,cor-value</th>\n",
       "      <td>0.320602</td>\n",
       "    </tr>\n",
       "    <tr>\n",
       "      <th>SG.COK.CHCO.ZS:Asia,p-value</th>\n",
       "      <td>0.400263</td>\n",
       "    </tr>\n",
       "    <tr>\n",
       "      <th>SG.COK.CROP.ZS:Asia,cor-value</th>\n",
       "      <td>0.369389</td>\n",
       "    </tr>\n",
       "    <tr>\n",
       "      <th>SG.COK.CROP.ZS:Asia,p-value</th>\n",
       "      <td>0.414798</td>\n",
       "    </tr>\n",
       "    <tr>\n",
       "      <th>SG.COK.DUNG.ZS:Asia,cor-value</th>\n",
       "      <td>-0.006434</td>\n",
       "    </tr>\n",
       "    <tr>\n",
       "      <th>SG.COK.DUNG.ZS:Asia,p-value</th>\n",
       "      <td>0.987937</td>\n",
       "    </tr>\n",
       "    <tr>\n",
       "      <th>SG.COK.ELEC.ZS:Asia,cor-value</th>\n",
       "      <td>-0.185724</td>\n",
       "    </tr>\n",
       "    <tr>\n",
       "      <th>SG.COK.ELEC.ZS:Asia,p-value</th>\n",
       "      <td>0.607454</td>\n",
       "    </tr>\n",
       "    <tr>\n",
       "      <th>...</th>\n",
       "      <td>...</td>\n",
       "    </tr>\n",
       "    <tr>\n",
       "      <th>SP.POP.AG03.FE.IN:Asia,cor-value</th>\n",
       "      <td>-0.048242</td>\n",
       "    </tr>\n",
       "    <tr>\n",
       "      <th>SP.POP.AG03.FE.IN:Asia,p-value</th>\n",
       "      <td>0.831178</td>\n",
       "    </tr>\n",
       "    <tr>\n",
       "      <th>SP.POP.AG03.MA.IN:Asia,cor-value</th>\n",
       "      <td>-0.043008</td>\n",
       "    </tr>\n",
       "    <tr>\n",
       "      <th>SP.POP.AG03.MA.IN:Asia,p-value</th>\n",
       "      <td>0.849280</td>\n",
       "    </tr>\n",
       "    <tr>\n",
       "      <th>SP.POP.AG04.FE.IN:Asia,cor-value</th>\n",
       "      <td>-0.046911</td>\n",
       "    </tr>\n",
       "    <tr>\n",
       "      <th>SP.POP.AG04.FE.IN:Asia,p-value</th>\n",
       "      <td>0.835775</td>\n",
       "    </tr>\n",
       "    <tr>\n",
       "      <th>SP.POP.AG04.MA.IN:Asia,cor-value</th>\n",
       "      <td>-0.041767</td>\n",
       "    </tr>\n",
       "    <tr>\n",
       "      <th>SP.POP.AG04.MA.IN:Asia,p-value</th>\n",
       "      <td>0.853584</td>\n",
       "    </tr>\n",
       "    <tr>\n",
       "      <th>SP.POP.AG05.FE.IN:Asia,cor-value</th>\n",
       "      <td>-0.045820</td>\n",
       "    </tr>\n",
       "    <tr>\n",
       "      <th>SP.POP.AG05.FE.IN:Asia,p-value</th>\n",
       "      <td>0.839545</td>\n",
       "    </tr>\n",
       "    <tr>\n",
       "      <th>SP.POP.AG05.MA.IN:Asia,cor-value</th>\n",
       "      <td>-0.040765</td>\n",
       "    </tr>\n",
       "    <tr>\n",
       "      <th>SP.POP.AG05.MA.IN:Asia,p-value</th>\n",
       "      <td>0.857060</td>\n",
       "    </tr>\n",
       "    <tr>\n",
       "      <th>SP.POP.BRTH.MF:Asia,cor-value</th>\n",
       "      <td>-0.146632</td>\n",
       "    </tr>\n",
       "    <tr>\n",
       "      <th>SP.POP.BRTH.MF:Asia,p-value</th>\n",
       "      <td>0.514948</td>\n",
       "    </tr>\n",
       "    <tr>\n",
       "      <th>SP.POP.DPND:Asia,cor-value</th>\n",
       "      <td>-0.438791</td>\n",
       "    </tr>\n",
       "    <tr>\n",
       "      <th>SP.POP.DPND:Asia,p-value</th>\n",
       "      <td>0.041060</td>\n",
       "    </tr>\n",
       "    <tr>\n",
       "      <th>SP.POP.TOTL.FE.IN:Asia,cor-value</th>\n",
       "      <td>-0.025783</td>\n",
       "    </tr>\n",
       "    <tr>\n",
       "      <th>SP.POP.TOTL.FE.IN:Asia,p-value</th>\n",
       "      <td>0.909322</td>\n",
       "    </tr>\n",
       "    <tr>\n",
       "      <th>SP.POP.TOTL.FE.ZS:Asia,cor-value</th>\n",
       "      <td>-0.163005</td>\n",
       "    </tr>\n",
       "    <tr>\n",
       "      <th>SP.POP.TOTL.FE.ZS:Asia,p-value</th>\n",
       "      <td>0.468572</td>\n",
       "    </tr>\n",
       "    <tr>\n",
       "      <th>SP.POP.TOTL:Asia,cor-value</th>\n",
       "      <td>-0.024427</td>\n",
       "    </tr>\n",
       "    <tr>\n",
       "      <th>SP.POP.TOTL:Asia,p-value</th>\n",
       "      <td>0.914073</td>\n",
       "    </tr>\n",
       "    <tr>\n",
       "      <th>SP.RUR.TOTL.FE.ZS:Asia,cor-value</th>\n",
       "      <td>-0.251596</td>\n",
       "    </tr>\n",
       "    <tr>\n",
       "      <th>SP.RUR.TOTL.FE.ZS:Asia,p-value</th>\n",
       "      <td>0.258689</td>\n",
       "    </tr>\n",
       "    <tr>\n",
       "      <th>SP.RUR.TOTL.MA.ZS:Asia,cor-value</th>\n",
       "      <td>-0.288957</td>\n",
       "    </tr>\n",
       "    <tr>\n",
       "      <th>SP.RUR.TOTL.MA.ZS:Asia,p-value</th>\n",
       "      <td>0.192150</td>\n",
       "    </tr>\n",
       "    <tr>\n",
       "      <th>SP.URB.TOTL.FE.ZS:Asia,cor-value</th>\n",
       "      <td>0.227817</td>\n",
       "    </tr>\n",
       "    <tr>\n",
       "      <th>SP.URB.TOTL.FE.ZS:Asia,p-value</th>\n",
       "      <td>0.307883</td>\n",
       "    </tr>\n",
       "    <tr>\n",
       "      <th>SP.URB.TOTL.MA.ZS:Asia,cor-value</th>\n",
       "      <td>0.251255</td>\n",
       "    </tr>\n",
       "    <tr>\n",
       "      <th>SP.URB.TOTL.MA.ZS:Asia,p-value</th>\n",
       "      <td>0.259357</td>\n",
       "    </tr>\n",
       "  </tbody>\n",
       "</table>\n",
       "<p>304 rows × 1 columns</p>\n",
       "</div>"
      ],
      "text/plain": [
       "                                  SH.HIV.ARTC.FE.ZS:Asia\n",
       "FP.CPI.TOTL.ZG:Asia,cor-value                  -0.530157\n",
       "FP.CPI.TOTL.ZG:Asia,p-value                     0.013431\n",
       "IC.FRM.FEMM.ZS:Asia,cor-value                   0.086447\n",
       "IC.FRM.FEMM.ZS:Asia,p-value                     0.709454\n",
       "NY.GDP.MKTP.CD:Asia,cor-value                   0.050404\n",
       "NY.GDP.MKTP.CD:Asia,p-value                     0.823725\n",
       "NY.GDP.MKTP.KD.ZG:Asia,cor-value               -0.270369\n",
       "NY.GDP.MKTP.KD.ZG:Asia,p-value                  0.223625\n",
       "NY.GDP.PCAP.CD:Asia,cor-value                   0.288693\n",
       "NY.GDP.PCAP.CD:Asia,p-value                     0.192574\n",
       "NY.GNP.ATLS.CD:Asia,cor-value                   0.041173\n",
       "NY.GNP.ATLS.CD:Asia,p-value                     0.855645\n",
       "NY.GNP.PCAP.CD:Asia,cor-value                   0.275606\n",
       "NY.GNP.PCAP.CD:Asia,p-value                     0.214433\n",
       "NY.GNP.PCAP.PP.CD:Asia,cor-value                0.459237\n",
       "NY.GNP.PCAP.PP.CD:Asia,p-value                  0.041657\n",
       "SE.XPD.PRIM.PC.ZS:Asia,cor-value                0.155966\n",
       "SE.XPD.PRIM.PC.ZS:Asia,p-value                  0.578849\n",
       "SE.XPD.SECO.PC.ZS:Asia,cor-value                0.221174\n",
       "SE.XPD.SECO.PC.ZS:Asia,p-value                  0.410393\n",
       "SE.XPD.TOTL.GD.ZS:Asia,cor-value                0.265088\n",
       "SE.XPD.TOTL.GD.ZS:Asia,p-value                  0.258673\n",
       "SG.COK.CHCO.ZS:Asia,cor-value                   0.320602\n",
       "SG.COK.CHCO.ZS:Asia,p-value                     0.400263\n",
       "SG.COK.CROP.ZS:Asia,cor-value                   0.369389\n",
       "SG.COK.CROP.ZS:Asia,p-value                     0.414798\n",
       "SG.COK.DUNG.ZS:Asia,cor-value                  -0.006434\n",
       "SG.COK.DUNG.ZS:Asia,p-value                     0.987937\n",
       "SG.COK.ELEC.ZS:Asia,cor-value                  -0.185724\n",
       "SG.COK.ELEC.ZS:Asia,p-value                     0.607454\n",
       "...                                                  ...\n",
       "SP.POP.AG03.FE.IN:Asia,cor-value               -0.048242\n",
       "SP.POP.AG03.FE.IN:Asia,p-value                  0.831178\n",
       "SP.POP.AG03.MA.IN:Asia,cor-value               -0.043008\n",
       "SP.POP.AG03.MA.IN:Asia,p-value                  0.849280\n",
       "SP.POP.AG04.FE.IN:Asia,cor-value               -0.046911\n",
       "SP.POP.AG04.FE.IN:Asia,p-value                  0.835775\n",
       "SP.POP.AG04.MA.IN:Asia,cor-value               -0.041767\n",
       "SP.POP.AG04.MA.IN:Asia,p-value                  0.853584\n",
       "SP.POP.AG05.FE.IN:Asia,cor-value               -0.045820\n",
       "SP.POP.AG05.FE.IN:Asia,p-value                  0.839545\n",
       "SP.POP.AG05.MA.IN:Asia,cor-value               -0.040765\n",
       "SP.POP.AG05.MA.IN:Asia,p-value                  0.857060\n",
       "SP.POP.BRTH.MF:Asia,cor-value                  -0.146632\n",
       "SP.POP.BRTH.MF:Asia,p-value                     0.514948\n",
       "SP.POP.DPND:Asia,cor-value                     -0.438791\n",
       "SP.POP.DPND:Asia,p-value                        0.041060\n",
       "SP.POP.TOTL.FE.IN:Asia,cor-value               -0.025783\n",
       "SP.POP.TOTL.FE.IN:Asia,p-value                  0.909322\n",
       "SP.POP.TOTL.FE.ZS:Asia,cor-value               -0.163005\n",
       "SP.POP.TOTL.FE.ZS:Asia,p-value                  0.468572\n",
       "SP.POP.TOTL:Asia,cor-value                     -0.024427\n",
       "SP.POP.TOTL:Asia,p-value                        0.914073\n",
       "SP.RUR.TOTL.FE.ZS:Asia,cor-value               -0.251596\n",
       "SP.RUR.TOTL.FE.ZS:Asia,p-value                  0.258689\n",
       "SP.RUR.TOTL.MA.ZS:Asia,cor-value               -0.288957\n",
       "SP.RUR.TOTL.MA.ZS:Asia,p-value                  0.192150\n",
       "SP.URB.TOTL.FE.ZS:Asia,cor-value                0.227817\n",
       "SP.URB.TOTL.FE.ZS:Asia,p-value                  0.307883\n",
       "SP.URB.TOTL.MA.ZS:Asia,cor-value                0.251255\n",
       "SP.URB.TOTL.MA.ZS:Asia,p-value                  0.259357\n",
       "\n",
       "[304 rows x 1 columns]"
      ]
     },
     "execution_count": 28,
     "metadata": {},
     "output_type": "execute_result"
    }
   ],
   "source": [
    "Correlation(data1)"
   ]
  },
  {
   "cell_type": "code",
   "execution_count": null,
   "metadata": {
    "collapsed": true
   },
   "outputs": [],
   "source": []
  }
 ],
 "metadata": {
  "anaconda-cloud": {},
  "kernelspec": {
   "display_name": "Python [conda root]",
   "language": "python",
   "name": "conda-root-py"
  },
  "language_info": {
   "codemirror_mode": {
    "name": "ipython",
    "version": 2
   },
   "file_extension": ".py",
   "mimetype": "text/x-python",
   "name": "python",
   "nbconvert_exporter": "python",
   "pygments_lexer": "ipython2",
   "version": "2.7.12"
  },
  "nbpresent": {
   "slides": {
    "1770c077-ec78-42a7-9c51-e09f097671b3": {
     "id": "1770c077-ec78-42a7-9c51-e09f097671b3",
     "prev": "67355829-aee0-4b7c-ad97-b5d10379054c",
     "regions": {
      "ed9f116a-04e5-4933-9634-b7a4a678ea15": {
       "attrs": {
        "height": 0.8,
        "width": 0.8,
        "x": 0.1,
        "y": 0.1
       },
       "content": {
        "cell": "07736ff1-f30a-4fe1-970f-3546128debd8",
        "part": "whole"
       },
       "id": "ed9f116a-04e5-4933-9634-b7a4a678ea15"
      }
     }
    },
    "2a90d50f-151e-47d7-b7a5-787adb33de3e": {
     "id": "2a90d50f-151e-47d7-b7a5-787adb33de3e",
     "prev": "c47b1b0f-7fcf-40dd-bf2b-fc124a029830",
     "regions": {
      "39dafe93-e323-4895-a0b0-ef42697608aa": {
       "attrs": {
        "height": 0.8,
        "width": 0.8,
        "x": 0.1,
        "y": 0.1
       },
       "content": {
        "cell": "83b1d263-1f6f-4ab5-93aa-aa36938d6dd5",
        "part": "whole"
       },
       "id": "39dafe93-e323-4895-a0b0-ef42697608aa"
      }
     }
    },
    "5e789182-c359-43bc-a5ce-fd474255835b": {
     "id": "5e789182-c359-43bc-a5ce-fd474255835b",
     "prev": "1770c077-ec78-42a7-9c51-e09f097671b3",
     "regions": {
      "05256be4-0341-4ba2-b440-7971f147f2db": {
       "attrs": {
        "height": 0.8,
        "width": 0.8,
        "x": 0.1,
        "y": 0.1
       },
       "content": {
        "cell": "20feb308-bfc6-4346-b494-382e786a266e",
        "part": "whole"
       },
       "id": "05256be4-0341-4ba2-b440-7971f147f2db"
      }
     }
    },
    "62de02c4-03e5-46b0-8f3f-c1e0f664914e": {
     "id": "62de02c4-03e5-46b0-8f3f-c1e0f664914e",
     "prev": "f71d5b95-2c7f-4bab-985c-6ae006b9f6da",
     "regions": {
      "88aee9b0-ecad-41aa-82b6-1f4276f2c687": {
       "attrs": {
        "height": 0.8,
        "width": 0.8,
        "x": 0.1,
        "y": 0.1
       },
       "content": {
        "cell": "6c360d49-f7e5-4395-b395-ab33d7de590d",
        "part": "whole"
       },
       "id": "88aee9b0-ecad-41aa-82b6-1f4276f2c687"
      }
     }
    },
    "67355829-aee0-4b7c-ad97-b5d10379054c": {
     "id": "67355829-aee0-4b7c-ad97-b5d10379054c",
     "prev": "a0973d5d-cd3b-4104-93fc-1bf001822578",
     "regions": {
      "a14a7948-1cfd-4d52-9b85-15ee2d27bd35": {
       "attrs": {
        "height": 0.8,
        "width": 0.8,
        "x": 0.1,
        "y": 0.1
       },
       "content": {
        "cell": "79988d41-8aed-4067-866c-5e081ea9c833",
        "part": "whole"
       },
       "id": "a14a7948-1cfd-4d52-9b85-15ee2d27bd35"
      }
     }
    },
    "7ffa10cd-266d-4d53-8703-a30fe63d6487": {
     "id": "7ffa10cd-266d-4d53-8703-a30fe63d6487",
     "prev": null,
     "regions": {
      "aa140d55-c0ec-4c6e-b187-c5b4789425af": {
       "attrs": {
        "height": 0.8,
        "width": 0.8,
        "x": 0.1,
        "y": 0.1
       },
       "content": {
        "cell": "723dd0a8-cc41-465a-a4ab-ee49aa9c7d57",
        "part": "whole"
       },
       "id": "aa140d55-c0ec-4c6e-b187-c5b4789425af"
      }
     }
    },
    "86738833-8c75-45d2-8e51-606bc19a8fb6": {
     "id": "86738833-8c75-45d2-8e51-606bc19a8fb6",
     "prev": "5e789182-c359-43bc-a5ce-fd474255835b",
     "regions": {
      "3449f850-9acd-4a52-8200-48d6c46aa28a": {
       "attrs": {
        "height": 0.8,
        "width": 0.8,
        "x": 0.1,
        "y": 0.1
       },
       "content": {
        "cell": "6c712f7d-68e5-481e-8176-5e60b6e6b53c",
        "part": "whole"
       },
       "id": "3449f850-9acd-4a52-8200-48d6c46aa28a"
      }
     }
    },
    "a0973d5d-cd3b-4104-93fc-1bf001822578": {
     "id": "a0973d5d-cd3b-4104-93fc-1bf001822578",
     "prev": "2a90d50f-151e-47d7-b7a5-787adb33de3e",
     "regions": {
      "37777587-d984-4694-a106-3c8861244d2f": {
       "attrs": {
        "height": 0.8,
        "width": 0.8,
        "x": 0.1,
        "y": 0.1
       },
       "content": {
        "cell": "256be4ad-2233-4053-8bc3-af02e028ab77",
        "part": "whole"
       },
       "id": "37777587-d984-4694-a106-3c8861244d2f"
      }
     }
    },
    "a14ce96b-73e4-4ca2-b000-4889d9ce19ee": {
     "id": "a14ce96b-73e4-4ca2-b000-4889d9ce19ee",
     "prev": "fca9f896-6f28-4c89-91c3-da84271f0495",
     "regions": {
      "0080eba8-de7c-4cbc-921d-dead6ca0f4b0": {
       "attrs": {
        "height": 0.8,
        "width": 0.8,
        "x": 0.1,
        "y": 0.1
       },
       "content": {
        "cell": "4cd655b9-9eb3-4d4b-bbce-3a66f616b8c2",
        "part": "whole"
       },
       "id": "0080eba8-de7c-4cbc-921d-dead6ca0f4b0"
      }
     }
    },
    "b699f78c-87a5-46d9-947c-1f38dd6262cf": {
     "id": "b699f78c-87a5-46d9-947c-1f38dd6262cf",
     "prev": "7ffa10cd-266d-4d53-8703-a30fe63d6487",
     "regions": {
      "798c55f3-08de-4e28-b230-077ec83fb727": {
       "attrs": {
        "height": 0.8,
        "width": 0.8,
        "x": 0.1,
        "y": 0.1
       },
       "content": {
        "cell": "aa398a75-1ae2-412a-a724-e065e6085edc",
        "part": "whole"
       },
       "id": "798c55f3-08de-4e28-b230-077ec83fb727"
      }
     }
    },
    "c47b1b0f-7fcf-40dd-bf2b-fc124a029830": {
     "id": "c47b1b0f-7fcf-40dd-bf2b-fc124a029830",
     "prev": "b699f78c-87a5-46d9-947c-1f38dd6262cf",
     "regions": {
      "c40a5730-7eba-404c-94a6-06b6bc4364f1": {
       "attrs": {
        "height": 0.8,
        "width": 0.8,
        "x": 0.1,
        "y": 0.1
       },
       "content": {
        "cell": "a300ca12-503c-48bc-bd98-67ff4626bb5d",
        "part": "whole"
       },
       "id": "c40a5730-7eba-404c-94a6-06b6bc4364f1"
      }
     }
    },
    "e5dbe636-5b35-4862-8b95-eadf1e65cae9": {
     "id": "e5dbe636-5b35-4862-8b95-eadf1e65cae9",
     "prev": "a14ce96b-73e4-4ca2-b000-4889d9ce19ee",
     "regions": {
      "fa9f8402-5e52-4e66-a3ec-bb7acaa55369": {
       "attrs": {
        "height": 0.8,
        "width": 0.8,
        "x": 0.1,
        "y": 0.1
       },
       "content": {
        "cell": "6ea1be4c-4ee4-4463-aec4-df752c2de4a8",
        "part": "whole"
       },
       "id": "fa9f8402-5e52-4e66-a3ec-bb7acaa55369"
      }
     }
    },
    "f71d5b95-2c7f-4bab-985c-6ae006b9f6da": {
     "id": "f71d5b95-2c7f-4bab-985c-6ae006b9f6da",
     "prev": "86738833-8c75-45d2-8e51-606bc19a8fb6",
     "regions": {
      "40c70953-0d27-4620-a08a-9fea89b63099": {
       "attrs": {
        "height": 0.8,
        "width": 0.8,
        "x": 0.1,
        "y": 0.1
       },
       "content": {
        "cell": "8e2bf73d-c97d-430e-b457-238331706da5",
        "part": "whole"
       },
       "id": "40c70953-0d27-4620-a08a-9fea89b63099"
      }
     }
    },
    "fca9f896-6f28-4c89-91c3-da84271f0495": {
     "id": "fca9f896-6f28-4c89-91c3-da84271f0495",
     "prev": "62de02c4-03e5-46b0-8f3f-c1e0f664914e",
     "regions": {
      "a1162914-5d36-45ea-87f9-4aaa9f18f11d": {
       "attrs": {
        "height": 0.8,
        "width": 0.8,
        "x": 0.1,
        "y": 0.1
       },
       "content": {
        "cell": "df1d427b-3929-4180-8797-2e531fc1fb5a",
        "part": "whole"
       },
       "id": "a1162914-5d36-45ea-87f9-4aaa9f18f11d"
      }
     }
    }
   },
   "themes": {}
  }
 },
 "nbformat": 4,
 "nbformat_minor": 2
}
