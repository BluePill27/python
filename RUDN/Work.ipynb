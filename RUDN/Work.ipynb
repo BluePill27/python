{
 "cells": [
  {
   "cell_type": "code",
   "execution_count": 20,
   "metadata": {
    "collapsed": true,
    "nbpresent": {
     "id": "e096ee4e-79b4-46e9-bba6-38bc6f83e48b"
    }
   },
   "outputs": [],
   "source": [
    "import pandas as pd\n",
    "import numpy as np\n",
    "import scipy.stats as sts\n",
    "\n",
    "import sys\n",
    "import os\n",
    "import time\n",
    "import datetime\n",
    "\n",
    "import logging\n",
    "from multiprocessing import Pool\n",
    "from functools import partial\n",
    "\n",
    "logging.basicConfig(level=logging.DEBUG,\n",
    "                    format='[%(levelname)s] %(message)s',\n",
    "                    )"
   ]
  },
  {
   "cell_type": "markdown",
   "metadata": {
    "nbpresent": {
     "id": "723dd0a8-cc41-465a-a4ab-ee49aa9c7d57"
    }
   },
   "source": [
    "Загружаем выборки."
   ]
  },
  {
   "cell_type": "code",
   "execution_count": 2,
   "metadata": {
    "collapsed": true,
    "nbpresent": {
     "id": "aa398a75-1ae2-412a-a724-e065e6085edc"
    }
   },
   "outputs": [],
   "source": [
    "all_data = pd.read_excel('Data_Extract_From_Gender_Statistics.xlsx', encoding = 'utf8').append(pd.read_excel('Data_Extract_From_Health_Nutrition_and_Population_Statistics.xlsx', encoding='utf8')).append(pd.read_excel('Data_Extract_From_Millennium_Development_Goals.xlsx', encoding='utf8')).append(pd.read_excel('Data_Extract_From_Health_Nutrition_and_Population_Statistics_by_Wealth_Quintile.xlsx', encoding='utf8')\n",
    ")\n",
    "data_cnt = pd.read_csv('all.csv', encoding='utf8')"
   ]
  },
  {
   "cell_type": "markdown",
   "metadata": {
    "nbpresent": {
     "id": "a300ca12-503c-48bc-bd98-67ff4626bb5d"
    }
   },
   "source": [
    "Очищаем данные от больших пропусков, точек и пр."
   ]
  },
  {
   "cell_type": "code",
   "execution_count": 3,
   "metadata": {
    "collapsed": true
   },
   "outputs": [],
   "source": [
    "class Analyst:\n",
    "       def __init__(self, data, width=100, height=100):\n",
    "            self.data = data"
   ]
  },
  {
   "cell_type": "code",
   "execution_count": 12,
   "metadata": {
    "collapsed": true,
    "nbpresent": {
     "id": "83b1d263-1f6f-4ab5-93aa-aa36938d6dd5"
    }
   },
   "outputs": [],
   "source": [
    "def Fillnan(data, years_c):\n",
    "    for name in years_c:\n",
    "        data[name] = data[name].apply(lambda x: np.nan if x==('..') else float(x))\n",
    "    return data\n",
    "    \n",
    "def Dropempt(data, years_c):\n",
    "    tmp=[]\n",
    "    for ind, item in enumerate(data[years_c].as_matrix()):\n",
    "        if np.nansum(item) == 0:\n",
    "            tmp.append(ind)\n",
    "    data = data.drop(data.index[tmp]).reset_index()\n",
    "    return data.drop('index', axis=1)\n",
    "    \n",
    "def Clearing(data):\n",
    "    years_c = [item for ind, item in enumerate(np.array(all_data.columns)) if item not in ['Country Name', 'Country Code','Series Code','Series Name']]\n",
    "    #if data['Country Code'].get_value(len(data)-5) == np.nan:\n",
    "        #data=data.drop(data.index[[range(len(data)-5, len(data))]]).reset_index()\n",
    "    data = Dropempt(Fillnan(data, years_c), years_c)\n",
    "    return data"
   ]
  },
  {
   "cell_type": "markdown",
   "metadata": {
    "nbpresent": {
     "id": "256be4ad-2233-4053-8bc3-af02e028ab77"
    }
   },
   "source": [
    "Сортировка по регионам."
   ]
  },
  {
   "cell_type": "code",
   "execution_count": 5,
   "metadata": {
    "collapsed": true,
    "nbpresent": {
     "id": "79988d41-8aed-4067-866c-5e081ea9c833"
    }
   },
   "outputs": [],
   "source": [
    "def Make_region(code, reg='region'):\n",
    "    #print code\n",
    "    if code in data_cnt['name'].values:\n",
    "        #print code\n",
    "        name = (data_cnt['name'][data_cnt['name'] == code].index.tolist())[0]\n",
    "        return data_cnt[reg].get_value(name)\n",
    "    else:\n",
    "        return np.nan\n",
    "\n",
    "def Sorting(data, reg='region'):\n",
    "    #if data['Country Name'].get_value(len(data)-5) == np.nan:\n",
    "    #    data=data.drop(data.index[[range(len(data)-5, len(data))]]).reset_index()\n",
    "    if 'Region' not in data.columns:\n",
    "        data['Region'] = data['Country Name'].apply(lambda x: Make_region(x, reg))\n",
    "        data['Region'].dropna()\n",
    "        return data.reset_index()\n",
    "    else:\n",
    "        return data"
   ]
  },
  {
   "cell_type": "code",
   "execution_count": 13,
   "metadata": {
    "nbpresent": {
     "id": "07736ff1-f30a-4fe1-970f-3546128debd8"
    },
    "scrolled": true
   },
   "outputs": [],
   "source": [
    "all_data = Clearing(all_data)"
   ]
  },
  {
   "cell_type": "markdown",
   "metadata": {},
   "source": [
    "Эвристика\n",
    "Преимущество данного подхода в том, что мы не потеряем единственные значения у некоторых стран. Но при этом, отразим актуальность, а значит и реальность."
   ]
  },
  {
   "cell_type": "code",
   "execution_count": 14,
   "metadata": {
    "collapsed": true
   },
   "outputs": [],
   "source": [
    "def data_inc(data):\n",
    "    magic = 0.08\n",
    "    for ind, item in enumerate(np.array(data.columns)):\n",
    "        if ind not in (range(0,4)):\n",
    "        #попробую с интерполяцией\n",
    "            data[item] = data[item].apply(lambda x: ((ind-2)*magic)*x if ((ind-2)*magic)>1 else x).interpolate()\n",
    "    return data\n",
    "\n",
    "def R_mean(data):\n",
    "    if ('Mean' not in data.columns) and ('Region' not in data.columns):\n",
    "        data['Mean']= data[[item for ind, item in enumerate(np.array(data.columns)) if ind not in (range(0,4))]].apply(lambda x: np.nanmean(x), axis = 1)\n",
    "    elif ('Region' in data.columns):\n",
    "        data['Mean']= data[[item for ind, item in enumerate(np.array(data.columns)) if ind not in [(range(0,4)), len(data.columns)-1]]].apply(lambda x: np.nanmean(x), axis = 1)\n",
    "    return data"
   ]
  },
  {
   "cell_type": "markdown",
   "metadata": {},
   "source": [
    "Чувствую себя отвратительно за такой код. Доделаю до конца и поправлю. "
   ]
  },
  {
   "cell_type": "code",
   "execution_count": 15,
   "metadata": {
    "collapsed": true,
    "scrolled": true
   },
   "outputs": [],
   "source": [
    "#data1 = R_mean(data_inc(data1))\n",
    "#data2 = R_mean(data_inc(data2))\n",
    "#data3 = R_mean(data_inc(data3))"
   ]
  },
  {
   "cell_type": "markdown",
   "metadata": {},
   "source": [
    "Вот тут буду коррелировать, строить графики и пр"
   ]
  },
  {
   "cell_type": "code",
   "execution_count": 16,
   "metadata": {
    "collapsed": true
   },
   "outputs": [],
   "source": [
    "def podshape(t1,t2):\n",
    "    cntrs1 = t1['Country Name'].tolist()\n",
    "    cntrs2 = t2['Country Name'].tolist()\n",
    "    x, y = [],[]\n",
    "    if len(t1)!=len(t2):\n",
    "        for contr in cntrs1:\n",
    "            if contr in cntrs2:\n",
    "                x.append(t1['Mean'][t1['Country Name']== contr].as_matrix()[0])\n",
    "                y.append(t2['Mean'][t2['Country Name']== contr].as_matrix()[0])\n",
    "        return x, y\n",
    "    else:\n",
    "        return t1['Mean'].as_matrix(), t2['Mean'].as_matrix()\n",
    "\n",
    "def Shaping(t1,t2): \n",
    "    if len(t1)<len(t2):\n",
    "        return podshape(t1,t2)\n",
    "    elif len(t1)>len(t2):\n",
    "        return podshape(t1,t2)\n",
    "    elif len(t1)==0 or len(t1)==0:\n",
    "        return True\n",
    "    else:\n",
    "        return t1['Mean'].as_matrix(), t2['Mean'].as_matrix()\n",
    "    \n",
    "def Correlation(data_r,regions=[], where='region', name='Damn'):\n",
    "    data = data_r.copy()\n",
    "    if where == 'region':\n",
    "        data = Sorting(data)\n",
    "    else:\n",
    "        data = Sorting(data, where)\n",
    "        \n",
    "    if len(regions)==0:\n",
    "        regions = data['Region'].dropna().unique()\n",
    "    \n",
    "    codes = data['Series Code'].dropna().unique()\n",
    "    rez=pd.DataFrame()    \n",
    "    \n",
    "    tmp = []\n",
    "    \n",
    "    for region in regions:\n",
    "        for code1 in codes:\n",
    "            for code2 in codes:\n",
    "                tmp = []\n",
    "                Sh = Shaping(data[['Mean', 'Country Name']][data['Series Code']==code1][data['Region']==region], data[['Mean', 'Country Name']][data['Series Code']==code2][data['Region']==region])\n",
    "                if Sh!=True:\n",
    "                    tmp = sts.pearsonr(Sh[0],Sh[1])\n",
    "                    \n",
    "                if len(tmp)!=0 and np.abs(tmp[0])>0.099:\n",
    "                    rez = rez.append(pd.DataFrame(tmp[0], columns=[code1+':'+region], index=[code2+':'+region+':'+'cor-value']))\n",
    "                    rez = rez.append(pd.DataFrame(tmp[1], columns=[code1+':'+region], index=[code2+':'+region+':'+'p-value']))\n",
    "                    rez = rez.groupby(rez.index).first()\n",
    "        \n",
    "        filename = name+'.Corr_in_'+str(region)+'.xlsx'\n",
    "        rez.to_excel(filename, encoding='utf-8')\n",
    "        rez = pd.DataFrame()\n",
    "        print (str(region))"
   ]
  },
  {
   "cell_type": "code",
   "execution_count": 17,
   "metadata": {
    "collapsed": true
   },
   "outputs": [],
   "source": [
    "#data_cnt['sub-region'].unique()"
   ]
  },
  {
   "cell_type": "markdown",
   "metadata": {
    "scrolled": true
   },
   "source": [
    "Correlation(data2, where='region', name='data2')\n",
    "\n",
    "Correlation(data2, where='sub-region', name='data2')"
   ]
  },
  {
   "cell_type": "markdown",
   "metadata": {},
   "source": [
    "Correlation(data3, where='region', name='data3')\n",
    "\n",
    "Correlation(data3, where='sub-region', name='data3')"
   ]
  },
  {
   "cell_type": "markdown",
   "metadata": {},
   "source": [
    "Correlation(data1, where='region', name='data1')\n",
    "\n",
    "Correlation(data1, regions =[u'Western Europe', u'Eastern Europe',\n",
    "       u'Central America', u'Western Africa', u'Northern America',\n",
    "       u'Southern Africa', u'South-Eastern Asia', u'Eastern Africa',\n",
    "       u'Eastern Asia', u'Melanesia', u'Micronesia', u'Central Asia'], where='sub-region', name='data1')"
   ]
  },
  {
   "cell_type": "markdown",
   "metadata": {
    "collapsed": true
   },
   "source": [
    "Общая таблица"
   ]
  },
  {
   "cell_type": "markdown",
   "metadata": {},
   "source": [
    "Correlation(all_data, where='region', name='all')\n",
    "\n",
    "Correlation(all_data, regions=[u'Western Africa', u'Northern America',\n",
    "       u'Southern Africa', u'South-Eastern Asia', u'Eastern Africa',\n",
    "       u'Eastern Asia', u'Melanesia', u'Micronesia', u'Central Asia'], where='sub-region', name='all')"
   ]
  },
  {
   "cell_type": "markdown",
   "metadata": {},
   "source": [
    "Какое же это фиаско\n",
    "\n",
    "Продолжаем кодить, на этот раз смотрим по стране без среднего."
   ]
  },
  {
   "cell_type": "code",
   "execution_count": 21,
   "metadata": {
    "collapsed": true
   },
   "outputs": [],
   "source": [
    "def check_vec(X, Y, years_c, procent=1):\n",
    "    if procent!=1:\n",
    "        for i in range(len(X)):\n",
    "            if (X[i]==np.nan or Y[i]==np.nan) and (len(X)>=len(years_c)*procent or len(Y)>=len(years_c)*procent):\n",
    "                del X[i]\n",
    "                del Y[i]\n",
    "        return X,Y\n",
    "    \n",
    "    elif (np.nan not in X and np.nan not in Y):\n",
    "        return X,Y\n",
    "    \n",
    "    else:\n",
    "        return [],[]\n",
    "    \n",
    "def file_making(chlst, dir_name):\n",
    "    for name in chlst:\n",
    "        #print (name, os.listdir(dir_name))\n",
    "        if name in os.listdir(dir_name):\n",
    "            return True\n",
    "            \n",
    "\n",
    "def C_corr(data_r, country='RUS',procent=100, reg=True, dir_name = 'Correlations'):\n",
    "    \n",
    "    #вход в функцию и начало отсчета.\n",
    "    logging.debug('Starting')\n",
    "    start_time = datetime.datetime.now()\n",
    "    \n",
    "    #копируем, и определяем результрующий датафрейм.\n",
    "    data = data_r.copy()\n",
    "    rez=pd.DataFrame() \n",
    "    \n",
    "    #записываем года и коды из датасета и регион\n",
    "    years_c = [item for ind, item in enumerate(np.array(data1.columns)) if ind not in (range(0,4)) and item !='Mean' and item!='Region']\n",
    "    codes = data['Series Code'].dropna().unique()\n",
    "    region = Make_region(data[data['Country Code']==country]['Country Name'].as_matrix()[0], 'sub-region')\n",
    "    \n",
    "    filenames = [('deep'+'.Corr_in_'+str(country)+'.xlsx'),('deep'+'.Corr_in_'+str(country)+'.'+str(region)+'.xlsx'),('deep'+'.Corr_in_'+str(country)+'NONE.xlsx')]\n",
    "    \n",
    "    #делим проценты и опр. счетчик операций.\n",
    "    procent = procent/100\n",
    "    k=0\n",
    "    \n",
    "    #проверка директории\n",
    "    if dir_name not in os.listdir():\n",
    "        os.mkdir(dir_name)\n",
    "    \n",
    "    #проверка на наличие файла.\n",
    "    if file_making(filenames, dir_name)==True:\n",
    "        logging.debug('File exist!')\n",
    "        return 0\n",
    "    \n",
    "    for ind , code1 in enumerate(codes):\n",
    "        for jnd, code2 in enumerate(codes):\n",
    "            k+=1\n",
    "            \n",
    "            #идем ниже диагонали\n",
    "            if ind>jnd:\n",
    "                X = data[(data['Country Code']==country) & (data['Series Code']==code1)][years_c].as_matrix()\n",
    "                Y = data[(data['Country Code']==country) & (data['Series Code']==code2)][years_c].as_matrix()\n",
    "                \n",
    "                logging.debug(str(round((k*100)/(len(codes)**2),2))+'% in '+country)\n",
    "                \n",
    "                #проверяем наличие данных в двух векторах.\n",
    "                if len(X)!=0 and len(Y)!=0:\n",
    "                    \n",
    "                    #исходя из процентов выбрасываем нан, либо возвращаем пустые массивы.\n",
    "                    X,Y = check_vec(X[0],Y[0], years_c, procent)\n",
    "                    \n",
    "                    #проверяем чтобы оклонение было хорошее(чтобы не получилось, что данные лежат в одной точке, тогда корреляции не получается.)\n",
    "                    #заодно чекаем пустоту массивов.\n",
    "                    if (X.std()>0.7 and Y.std()>0.7) and (len(X)!=0 and len(Y)!=0):\n",
    "                        #корреляция пирсона\n",
    "                        tmp = sts.pearsonr(X,Y)\n",
    "                        \n",
    "                        #проверяем на пустоту корреляцию(малоли), а также, отсекаем малленькие корреляции.\n",
    "                        if len(tmp)!=0 and np.abs(tmp[0])>0.099:\n",
    "                            \n",
    "                            #Заполняем таблицу, (тут оптимизировать.)\n",
    "                            rez = rez.append(pd.DataFrame(tmp[0], columns=[code1+':'+country], index=[code2+':'+country+':'+'cor-value']))\n",
    "                            rez = rez.append(pd.DataFrame(tmp[1], columns=[code1+':'+country], index=[code2+':'+country+':'+'p-value']))\n",
    "                            rez = rez.groupby(rez.index).first()\n",
    "    \n",
    "                     \n",
    "    \n",
    "    #нужно ли указывать регион или сабрегион\n",
    "    if reg==False:\n",
    "        rez.to_excel(dir_name + '/' + filenames[0], encoding='utf-8')\n",
    "    elif region!=np.nan:\n",
    "        rez.to_excel(dir_name + '/' + filenames[1], encoding='utf-8')\n",
    "    else:\n",
    "        rez.to_excel(dir_name + '/' + filenames[2], encoding='utf-8')\n",
    "    \n",
    "    #время рассчета выводим и записываем в лог.\n",
    "    print ('Time elapsed:', datetime.datetime.now() - start_time)\n",
    "    print (country)\n",
    "    \n",
    "    currentDay = datetime.datetime.now().day\n",
    "    currentMonth = datetime.datetime.now().month\n",
    "    \n",
    "    f = open((str(currentDay)+'.'+str(currentMonth)+'.txt'),'w')\n",
    "    f.write(('\\n'+'Time elapsed:'+str(datetime.datetime.now() - start_time)+' in '+country + '\\n Time now:'+str(datetime.datetime.now())))\n",
    "    f.close()\n",
    "    \n",
    "    logging.debug('Exiting')"
   ]
  },
  {
   "cell_type": "markdown",
   "metadata": {},
   "source": [
    "C_corr(all_data)"
   ]
  },
  {
   "cell_type": "code",
   "execution_count": null,
   "metadata": {
    "collapsed": true
   },
   "outputs": [],
   "source": [
    "if __name__== '__main__':\n",
    "    pool = Pool(processes=int(sys.argv[1]))\n",
    "    func = partial(C_corr, all_data, procent=100, reg=True)\n",
    "    pool.map(func, all_data['Country Code'].unique())\n",
    "    pool.close()\n",
    "    pool.join()"
   ]
  },
  {
   "cell_type": "markdown",
   "metadata": {},
   "source": [
    "tmp1, tmp2 = all_data[(all_data['Series Name'] == 'Improved sanitation facilities (% of population with access)') & (all_data['Country Code']=='RUS')][years_c].as_matrix()[0], all_data[(all_data['Series Code'] == 'SI.POV.NAHC') & (all_data['Country Code']=='RUS')][years_c].as_matrix()[0]"
   ]
  },
  {
   "cell_type": "markdown",
   "metadata": {
    "collapsed": true
   },
   "source": [
    "Make_region('Angola')"
   ]
  },
  {
   "cell_type": "code",
   "execution_count": null,
   "metadata": {
    "collapsed": true
   },
   "outputs": [],
   "source": []
  }
 ],
 "metadata": {
  "anaconda-cloud": {},
  "kernelspec": {
   "display_name": "Python 3",
   "language": "python",
   "name": "python3"
  },
  "language_info": {
   "codemirror_mode": {
    "name": "ipython",
    "version": 3
   },
   "file_extension": ".py",
   "mimetype": "text/x-python",
   "name": "python",
   "nbconvert_exporter": "python",
   "pygments_lexer": "ipython3",
   "version": "3.6.3"
  },
  "nbpresent": {
   "slides": {
    "1770c077-ec78-42a7-9c51-e09f097671b3": {
     "id": "1770c077-ec78-42a7-9c51-e09f097671b3",
     "prev": "67355829-aee0-4b7c-ad97-b5d10379054c",
     "regions": {
      "ed9f116a-04e5-4933-9634-b7a4a678ea15": {
       "attrs": {
        "height": 0.8,
        "width": 0.8,
        "x": 0.1,
        "y": 0.1
       },
       "content": {
        "cell": "07736ff1-f30a-4fe1-970f-3546128debd8",
        "part": "whole"
       },
       "id": "ed9f116a-04e5-4933-9634-b7a4a678ea15"
      }
     }
    },
    "2a90d50f-151e-47d7-b7a5-787adb33de3e": {
     "id": "2a90d50f-151e-47d7-b7a5-787adb33de3e",
     "prev": "c47b1b0f-7fcf-40dd-bf2b-fc124a029830",
     "regions": {
      "39dafe93-e323-4895-a0b0-ef42697608aa": {
       "attrs": {
        "height": 0.8,
        "width": 0.8,
        "x": 0.1,
        "y": 0.1
       },
       "content": {
        "cell": "83b1d263-1f6f-4ab5-93aa-aa36938d6dd5",
        "part": "whole"
       },
       "id": "39dafe93-e323-4895-a0b0-ef42697608aa"
      }
     }
    },
    "5e789182-c359-43bc-a5ce-fd474255835b": {
     "id": "5e789182-c359-43bc-a5ce-fd474255835b",
     "prev": "1770c077-ec78-42a7-9c51-e09f097671b3",
     "regions": {
      "05256be4-0341-4ba2-b440-7971f147f2db": {
       "attrs": {
        "height": 0.8,
        "width": 0.8,
        "x": 0.1,
        "y": 0.1
       },
       "content": {
        "cell": "20feb308-bfc6-4346-b494-382e786a266e",
        "part": "whole"
       },
       "id": "05256be4-0341-4ba2-b440-7971f147f2db"
      }
     }
    },
    "62de02c4-03e5-46b0-8f3f-c1e0f664914e": {
     "id": "62de02c4-03e5-46b0-8f3f-c1e0f664914e",
     "prev": "f71d5b95-2c7f-4bab-985c-6ae006b9f6da",
     "regions": {
      "88aee9b0-ecad-41aa-82b6-1f4276f2c687": {
       "attrs": {
        "height": 0.8,
        "width": 0.8,
        "x": 0.1,
        "y": 0.1
       },
       "content": {
        "cell": "6c360d49-f7e5-4395-b395-ab33d7de590d",
        "part": "whole"
       },
       "id": "88aee9b0-ecad-41aa-82b6-1f4276f2c687"
      }
     }
    },
    "67355829-aee0-4b7c-ad97-b5d10379054c": {
     "id": "67355829-aee0-4b7c-ad97-b5d10379054c",
     "prev": "a0973d5d-cd3b-4104-93fc-1bf001822578",
     "regions": {
      "a14a7948-1cfd-4d52-9b85-15ee2d27bd35": {
       "attrs": {
        "height": 0.8,
        "width": 0.8,
        "x": 0.1,
        "y": 0.1
       },
       "content": {
        "cell": "79988d41-8aed-4067-866c-5e081ea9c833",
        "part": "whole"
       },
       "id": "a14a7948-1cfd-4d52-9b85-15ee2d27bd35"
      }
     }
    },
    "7ffa10cd-266d-4d53-8703-a30fe63d6487": {
     "id": "7ffa10cd-266d-4d53-8703-a30fe63d6487",
     "prev": null,
     "regions": {
      "aa140d55-c0ec-4c6e-b187-c5b4789425af": {
       "attrs": {
        "height": 0.8,
        "width": 0.8,
        "x": 0.1,
        "y": 0.1
       },
       "content": {
        "cell": "723dd0a8-cc41-465a-a4ab-ee49aa9c7d57",
        "part": "whole"
       },
       "id": "aa140d55-c0ec-4c6e-b187-c5b4789425af"
      }
     }
    },
    "86738833-8c75-45d2-8e51-606bc19a8fb6": {
     "id": "86738833-8c75-45d2-8e51-606bc19a8fb6",
     "prev": "5e789182-c359-43bc-a5ce-fd474255835b",
     "regions": {
      "3449f850-9acd-4a52-8200-48d6c46aa28a": {
       "attrs": {
        "height": 0.8,
        "width": 0.8,
        "x": 0.1,
        "y": 0.1
       },
       "content": {
        "cell": "6c712f7d-68e5-481e-8176-5e60b6e6b53c",
        "part": "whole"
       },
       "id": "3449f850-9acd-4a52-8200-48d6c46aa28a"
      }
     }
    },
    "a0973d5d-cd3b-4104-93fc-1bf001822578": {
     "id": "a0973d5d-cd3b-4104-93fc-1bf001822578",
     "prev": "2a90d50f-151e-47d7-b7a5-787adb33de3e",
     "regions": {
      "37777587-d984-4694-a106-3c8861244d2f": {
       "attrs": {
        "height": 0.8,
        "width": 0.8,
        "x": 0.1,
        "y": 0.1
       },
       "content": {
        "cell": "256be4ad-2233-4053-8bc3-af02e028ab77",
        "part": "whole"
       },
       "id": "37777587-d984-4694-a106-3c8861244d2f"
      }
     }
    },
    "a14ce96b-73e4-4ca2-b000-4889d9ce19ee": {
     "id": "a14ce96b-73e4-4ca2-b000-4889d9ce19ee",
     "prev": "fca9f896-6f28-4c89-91c3-da84271f0495",
     "regions": {
      "0080eba8-de7c-4cbc-921d-dead6ca0f4b0": {
       "attrs": {
        "height": 0.8,
        "width": 0.8,
        "x": 0.1,
        "y": 0.1
       },
       "content": {
        "cell": "4cd655b9-9eb3-4d4b-bbce-3a66f616b8c2",
        "part": "whole"
       },
       "id": "0080eba8-de7c-4cbc-921d-dead6ca0f4b0"
      }
     }
    },
    "b699f78c-87a5-46d9-947c-1f38dd6262cf": {
     "id": "b699f78c-87a5-46d9-947c-1f38dd6262cf",
     "prev": "7ffa10cd-266d-4d53-8703-a30fe63d6487",
     "regions": {
      "798c55f3-08de-4e28-b230-077ec83fb727": {
       "attrs": {
        "height": 0.8,
        "width": 0.8,
        "x": 0.1,
        "y": 0.1
       },
       "content": {
        "cell": "aa398a75-1ae2-412a-a724-e065e6085edc",
        "part": "whole"
       },
       "id": "798c55f3-08de-4e28-b230-077ec83fb727"
      }
     }
    },
    "c47b1b0f-7fcf-40dd-bf2b-fc124a029830": {
     "id": "c47b1b0f-7fcf-40dd-bf2b-fc124a029830",
     "prev": "b699f78c-87a5-46d9-947c-1f38dd6262cf",
     "regions": {
      "c40a5730-7eba-404c-94a6-06b6bc4364f1": {
       "attrs": {
        "height": 0.8,
        "width": 0.8,
        "x": 0.1,
        "y": 0.1
       },
       "content": {
        "cell": "a300ca12-503c-48bc-bd98-67ff4626bb5d",
        "part": "whole"
       },
       "id": "c40a5730-7eba-404c-94a6-06b6bc4364f1"
      }
     }
    },
    "e5dbe636-5b35-4862-8b95-eadf1e65cae9": {
     "id": "e5dbe636-5b35-4862-8b95-eadf1e65cae9",
     "prev": "a14ce96b-73e4-4ca2-b000-4889d9ce19ee",
     "regions": {
      "fa9f8402-5e52-4e66-a3ec-bb7acaa55369": {
       "attrs": {
        "height": 0.8,
        "width": 0.8,
        "x": 0.1,
        "y": 0.1
       },
       "content": {
        "cell": "6ea1be4c-4ee4-4463-aec4-df752c2de4a8",
        "part": "whole"
       },
       "id": "fa9f8402-5e52-4e66-a3ec-bb7acaa55369"
      }
     }
    },
    "f71d5b95-2c7f-4bab-985c-6ae006b9f6da": {
     "id": "f71d5b95-2c7f-4bab-985c-6ae006b9f6da",
     "prev": "86738833-8c75-45d2-8e51-606bc19a8fb6",
     "regions": {
      "40c70953-0d27-4620-a08a-9fea89b63099": {
       "attrs": {
        "height": 0.8,
        "width": 0.8,
        "x": 0.1,
        "y": 0.1
       },
       "content": {
        "cell": "8e2bf73d-c97d-430e-b457-238331706da5",
        "part": "whole"
       },
       "id": "40c70953-0d27-4620-a08a-9fea89b63099"
      }
     }
    },
    "fca9f896-6f28-4c89-91c3-da84271f0495": {
     "id": "fca9f896-6f28-4c89-91c3-da84271f0495",
     "prev": "62de02c4-03e5-46b0-8f3f-c1e0f664914e",
     "regions": {
      "a1162914-5d36-45ea-87f9-4aaa9f18f11d": {
       "attrs": {
        "height": 0.8,
        "width": 0.8,
        "x": 0.1,
        "y": 0.1
       },
       "content": {
        "cell": "df1d427b-3929-4180-8797-2e531fc1fb5a",
        "part": "whole"
       },
       "id": "a1162914-5d36-45ea-87f9-4aaa9f18f11d"
      }
     }
    }
   },
   "themes": {}
  }
 },
 "nbformat": 4,
 "nbformat_minor": 2
}
