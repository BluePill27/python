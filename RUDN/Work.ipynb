{
 "cells": [
  {
   "cell_type": "code",
   "execution_count": 1,
   "metadata": {
    "collapsed": true
   },
   "outputs": [],
   "source": [
    "import pandas as pd\n",
    "import numpy as np\n",
    "import scipy.stats as sts\n",
    "import re"
   ]
  },
  {
   "cell_type": "markdown",
   "metadata": {},
   "source": [
    "Загружаем выборки."
   ]
  },
  {
   "cell_type": "code",
   "execution_count": 2,
   "metadata": {
    "collapsed": true
   },
   "outputs": [],
   "source": [
    "data1 = pd.read_excel('Data_Extract_From_Gender_Statistics.xlsx', encoding='utf-8')\n",
    "def_data1 = pd.read_excel('Data_Extract_From_Gender_Statistics.xlsx', sheetname=1, encoding='utf-8')\n",
    "\n",
    "data2 = pd.read_excel('Data_Extract_From_Health_Nutrition_and_Population_Statistics.xlsx', encoding='utf-8')\n",
    "def_data2 = pd.read_excel('Data_Extract_From_Health_Nutrition_and_Population_Statistics.xlsx', sheetname=1, encoding='utf-8')\n",
    "\n",
    "data3 = pd.read_excel('Data_Extract_From_Millennium_Development_Goals.xlsx', encoding='utf-8')\n",
    "def_data3 = pd.read_excel('Data_Extract_From_Millennium_Development_Goals.xlsx', sheetname=1, encoding='utf-8')\n",
    "\n",
    "data_cnt = pd.read_csv('all.csv', encoding='utf-8')"
   ]
  },
  {
   "cell_type": "markdown",
   "metadata": {},
   "source": [
    "Очищаем данные от больших пропусков, точек и пр."
   ]
  },
  {
   "cell_type": "code",
   "execution_count": 10,
   "metadata": {
    "collapsed": true
   },
   "outputs": [],
   "source": [
    "def Fillnan(data, years_c):\n",
    "    for name in years_c:\n",
    "        data[name] = data[name].apply(lambda x: np.nan if x==('..') else float(x))\n",
    "    #избавлялся от юникода, оставлю на всякий.\n",
    "    #for name in data.columns:\n",
    "        #if name not in years_c:\n",
    "            #data[name] = data[name].apply(lambda x: str(x) if x!=u'\\u2019' else x)\n",
    "    return data\n",
    "    \n",
    "def Dropempt(data, years_c):\n",
    "    tmp=[]\n",
    "    for ind, item in enumerate(data[years_c].as_matrix()):\n",
    "        if np.nansum(item) == 0:\n",
    "            tmp.append(ind)\n",
    "    data = data.drop(data.index[tmp]).reset_index()\n",
    "    return data.drop('index', axis=1)\n",
    "    \n",
    "def Clearing(data):\n",
    "    years_c = [item for ind, item in enumerate(np.array(data.columns)) if ind not in (range(0,4))]\n",
    "    if data['Country Code'].get_value(len(data)-5) == np.nan:\n",
    "        data=data.drop(data.index[[range(len(data)-5, len(data))]]).reset_index()\n",
    "    data = Dropempt(Fillnan(data, years_c), years_c)\n",
    "    return data"
   ]
  },
  {
   "cell_type": "markdown",
   "metadata": {},
   "source": [
    "Сортировка по регионам."
   ]
  },
  {
   "cell_type": "code",
   "execution_count": 11,
   "metadata": {
    "collapsed": true
   },
   "outputs": [],
   "source": [
    "def Make_region(code):\n",
    "    #print code\n",
    "    if code in data_cnt['name'].values:\n",
    "        #print code\n",
    "        name = (data_cnt['name'][data_cnt['name'] == code].index.tolist())[0]\n",
    "        return data_cnt['region'].get_value(name)\n",
    "    else:\n",
    "        return np.nan\n",
    "\n",
    "def Sorting(data):\n",
    "    if data1['Country Name'].get_value(len(data1)-5) == np.nan:\n",
    "        data=data.drop(data.index[[range(len(data)-5, len(data))]]).reset_index()\n",
    "    data['Regions'] = data['Country Name'].apply(lambda x: Make_region(x))\n",
    "    return data"
   ]
  },
  {
   "cell_type": "markdown",
   "metadata": {},
   "source": [
    "Результат уменьшения."
   ]
  },
  {
   "cell_type": "code",
   "execution_count": 9,
   "metadata": {},
   "outputs": [
    {
     "name": "stdout",
     "output_type": "stream",
     "text": [
      "Первый датасет был уменьшен на  37 %\n",
      "Второй датасет был уменьшен на  24 %\n",
      "Третий датасет был уменьшен на  37 %\n"
     ]
    }
   ],
   "source": [
    "print u'Первый датасет был уменьшен на ', 100-((len(Clearing(data1))*100)/len(data1)), '%'\n",
    "print u'Второй датасет был уменьшен на ',100-((len(Clearing(data2))*100)/len(data2)), '%'\n",
    "print u'Третий датасет был уменьшен на ',100-((len(Clearing(data3))*100)/len(data3)), '%'"
   ]
  },
  {
   "cell_type": "code",
   "execution_count": null,
   "metadata": {
    "collapsed": true
   },
   "outputs": [],
   "source": []
  }
 ],
 "metadata": {
  "kernelspec": {
   "display_name": "Python 2",
   "language": "python",
   "name": "python2"
  },
  "language_info": {
   "codemirror_mode": {
    "name": "ipython",
    "version": 2
   },
   "file_extension": ".py",
   "mimetype": "text/x-python",
   "name": "python",
   "nbconvert_exporter": "python",
   "pygments_lexer": "ipython2",
   "version": "2.7.13"
  }
 },
 "nbformat": 4,
 "nbformat_minor": 2
}
