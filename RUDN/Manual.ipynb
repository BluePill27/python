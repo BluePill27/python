{
 "cells": [
  {
   "cell_type": "code",
   "execution_count": 1,
   "metadata": {},
   "outputs": [],
   "source": [
    "import pandas as pd\n",
    "import numpy as np\n",
    "import scipy.stats as sts\n",
    "import Work as bat"
   ]
  },
  {
   "cell_type": "code",
   "execution_count": 2,
   "metadata": {},
   "outputs": [
    {
     "name": "stdout",
     "output_type": "stream",
     "text": [
      "Before clear: 398541\n",
      "After clear: 6530\n"
     ]
    },
    {
     "name": "stderr",
     "output_type": "stream",
     "text": [
      "/home/denis/anaconda3/lib/python3.6/site-packages/pandas/util/_decorators.py:118: FutureWarning: The `sheetname` keyword is deprecated, use `sheet_name` instead\n",
      "  return func(*args, **kwargs)\n"
     ]
    }
   ],
   "source": [
    "df = pd.read_excel('Data_Extract_From_Gender_Statistics.xlsx',\n",
    "                         encoding = 'utf8').append(pd.read_excel('Data_Extract_From_Health_Nutrition_and_Population_Statistics.xlsx',\n",
    "                                                                                                                  encoding='utf8')).append(pd.read_excel('Data_Extract_From_Millennium_Development_Goals.xlsx',\n",
    "                                                                                                                  encoding='utf8')).append(pd.read_excel('Data_Extract_From_Health_Nutrition_and_Population_Statistics_by_Wealth_Quintile.xlsx',\n",
    "                                                                                                                  encoding='utf8'))\n",
    "df = bat.Clearing(df)\n",
    "defen = pd.read_excel('Data_Extract_From_Gender_Statistics.xlsx', sheetname=1, encoding = 'utf8').append(pd.read_excel('Data_Extract_From_Health_Nutrition_and_Population_Statistics.xlsx', sheetname=1, encoding='utf8')).append(pd.read_excel('Data_Extract_From_Millennium_Development_Goals.xlsx', sheetname=1, encoding='utf8'))"
   ]
  },
  {
   "cell_type": "code",
   "execution_count": 47,
   "metadata": {},
   "outputs": [],
   "source": [
    "def get_values(cnt, ind_names=False, codes=False):\n",
    "    \n",
    "    def values(codes, country=cnt):\n",
    "        years_c = [item for ind, item in enumerate(np.array(df.columns)) if item not in ['Country Name', 'Country Code','Series Code','Series Name'] and item !='Mean' and item!='Region']\n",
    "        X = df[(df['Country Code']==country) & (df['Series Code']==codes[0])][years_c].as_matrix()\n",
    "        Y = df[(df['Country Code']==country) & (df['Series Code']==codes[1])][years_c].as_matrix()\n",
    "        return X,Y, sts.pearsonr(X[0],Y[0])\n",
    "    \n",
    "    if ind_names != False:\n",
    "        codes = [defen[(defen['Indicator Name']==ind_names[0])]['Code'].as_matrix()[0], defen[(defen['Indicator Name']==ind_names[1])]['Code'].as_matrix()[0]]\n",
    "        return values(codes), codes\n",
    "    else:\n",
    "        return values(codes), codes"
   ]
  },
  {
   "cell_type": "code",
   "execution_count": 48,
   "metadata": {},
   "outputs": [
    {
     "data": {
      "text/plain": [
       "((array([[24.31999969, 24.13999939, 24.        , 23.35000038, 22.45000076,\n",
       "          22.13999939, 22.54000092, 22.56999969, 21.80999947, 20.95000076,\n",
       "          20.72999954, 21.02000046, 20.87999916, 20.90999985]]),\n",
       "  array([[75.68000031, 75.86000061, 76.        , 76.65000153, 77.55000305,\n",
       "          77.86000061, 77.45999908, 77.43000031, 78.19000244, 79.05000305,\n",
       "          79.26999664, 78.98000336, 79.12000275, 79.08999634]]),\n",
       "  (-0.999999999998225, 4.515628585558146e-70)),\n",
       " ['SL.EMP.SELF.MA.ZS', 'SL.EMP.WORK.MA.ZS'])"
      ]
     },
     "execution_count": 48,
     "metadata": {},
     "output_type": "execute_result"
    }
   ],
   "source": [
    "get_values('AUS', ind_names=['Self-employed, male (% of male employment)','Wage and salaried workers, male (% of male employment)'])"
   ]
  },
  {
   "cell_type": "code",
   "execution_count": 49,
   "metadata": {},
   "outputs": [
    {
     "data": {
      "text/plain": [
       "((array([[24.31999969, 24.13999939, 24.        , 23.35000038, 22.45000076,\n",
       "          22.13999939, 22.54000092, 22.56999969, 21.80999947, 20.95000076,\n",
       "          20.72999954, 21.02000046, 20.87999916, 20.90999985]]),\n",
       "  array([[75.68000031, 75.86000061, 76.        , 76.65000153, 77.55000305,\n",
       "          77.86000061, 77.45999908, 77.43000031, 78.19000244, 79.05000305,\n",
       "          79.26999664, 78.98000336, 79.12000275, 79.08999634]]),\n",
       "  (-0.999999999998225, 4.515628585558146e-70)),\n",
       " ['SL.EMP.SELF.MA.ZS', 'SL.EMP.WORK.MA.ZS'])"
      ]
     },
     "execution_count": 49,
     "metadata": {},
     "output_type": "execute_result"
    }
   ],
   "source": [
    "get_values('AUS', codes=['SL.EMP.SELF.MA.ZS', 'SL.EMP.WORK.MA.ZS'])"
   ]
  },
  {
   "cell_type": "code",
   "execution_count": null,
   "metadata": {},
   "outputs": [],
   "source": []
  }
 ],
 "metadata": {
  "kernelspec": {
   "display_name": "Python 3",
   "language": "python",
   "name": "python3"
  },
  "language_info": {
   "codemirror_mode": {
    "name": "ipython",
    "version": 3
   },
   "file_extension": ".py",
   "mimetype": "text/x-python",
   "name": "python",
   "nbconvert_exporter": "python",
   "pygments_lexer": "ipython3",
   "version": "3.6.2"
  },
  "toc": {
   "nav_menu": {},
   "number_sections": true,
   "sideBar": true,
   "skip_h1_title": false,
   "title_cell": "Table of Contents",
   "title_sidebar": "Contents",
   "toc_cell": false,
   "toc_position": {},
   "toc_section_display": true,
   "toc_window_display": false
  }
 },
 "nbformat": 4,
 "nbformat_minor": 2
}
