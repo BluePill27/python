{
 "cells": [
  {
   "cell_type": "code",
   "execution_count": 3,
   "metadata": {
    "collapsed": false
   },
   "outputs": [],
   "source": [
    "import pandas as pd\n",
    "import numpy as np\n",
    "import scipy.stats as sts"
   ]
  },
  {
   "cell_type": "code",
   "execution_count": 15,
   "metadata": {
    "collapsed": false
   },
   "outputs": [],
   "source": [
    "data1 = pd.read_excel('Data_Extract_From_Gender_Statistics.xlsx')\n",
    "def_data1 = pd.read_excel('Data_Extract_From_Gender_Statistics.xlsx', sheetname=1)\n",
    "\n",
    "data2 = pd.read_excel('Data_Extract_From_Health_Nutrition_and_Population_Statistics.xlsx')\n",
    "def_data2 = pd.read_excel('Data_Extract_From_Health_Nutrition_and_Population_Statistics.xlsx', sheetname=1)\n",
    "\n",
    "data3 = pd.read_excel('Data_Extract_From_Millennium_Development_Goals.xlsx')\n",
    "def_data3 = pd.read_excel('Data_Extract_From_Millennium_Development_Goals.xlsx', sheetname=1)"
   ]
  },
  {
   "cell_type": "code",
   "execution_count": null,
   "metadata": {
    "collapsed": true
   },
   "outputs": [],
   "source": []
  }
 ],
 "metadata": {
  "anaconda-cloud": {},
  "kernelspec": {
   "display_name": "Python [conda root]",
   "language": "python",
   "name": "conda-root-py"
  },
  "language_info": {
   "codemirror_mode": {
    "name": "ipython",
    "version": 2
   },
   "file_extension": ".py",
   "mimetype": "text/x-python",
   "name": "python",
   "nbconvert_exporter": "python",
   "pygments_lexer": "ipython2",
   "version": "2.7.12"
  }
 },
 "nbformat": 4,
 "nbformat_minor": 2
}
