{
 "cells": [
  {
   "cell_type": "code",
   "execution_count": 1,
   "metadata": {
    "collapsed": true
   },
   "outputs": [],
   "source": [
    "import pandas as pd\n",
    "import numpy as np\n",
    "import scipy.stats as sts\n",
    "\n",
    "import matplotlib.pyplot as plt\n",
    "import pylab\n",
    "\n",
    "import os "
   ]
  },
  {
   "cell_type": "code",
   "execution_count": 2,
   "metadata": {
    "collapsed": true
   },
   "outputs": [],
   "source": [
    "defen = pd.read_excel('Data_Extract_From_Gender_Statistics.xlsx', sheetname=1, encoding = 'utf8').append(pd.read_excel('Data_Extract_From_Health_Nutrition_and_Population_Statistics.xlsx', sheetname=1, encoding='utf8')).append(pd.read_excel('Data_Extract_From_Millennium_Development_Goals.xlsx', sheetname=1, encoding='utf8'))\n",
    "\n",
    "data_cnt = pd.read_csv('all.csv', encoding='utf8')"
   ]
  },
  {
   "cell_type": "code",
   "execution_count": 3,
   "metadata": {
    "scrolled": false
   },
   "outputs": [
    {
     "ename": "SyntaxError",
     "evalue": "invalid syntax (<ipython-input-3-94098a8b0c2e>, line 61)",
     "output_type": "error",
     "traceback": [
      "\u001b[1;36m  File \u001b[1;32m\"<ipython-input-3-94098a8b0c2e>\"\u001b[1;36m, line \u001b[1;32m61\u001b[0m\n\u001b[1;33m    for\u001b[0m\n\u001b[1;37m        ^\u001b[0m\n\u001b[1;31mSyntaxError\u001b[0m\u001b[1;31m:\u001b[0m invalid syntax\n"
     ]
    }
   ],
   "source": [
    "def D_maker(data, country, c=0.6, p=0.01, m=1, s=u'Correlation'):\n",
    "    rez=[]\n",
    "    \n",
    "    col = ['Feature 1', 'Feature 2', 'Greater than'+c+' '+s+' in:'+country]\n",
    "    \n",
    "    for index in data.index:\n",
    "        for column in data.columns:\n",
    "            i_tmp = index.split(':')\n",
    "            c_tmp = column.split(':')\n",
    "            value=[]\n",
    "            \n",
    "            if i_tmp[2]!=u'p-value' and i_tmp[0]!=c_tmp[0]:\n",
    "                value.append([data.get_value(index=index, col=column),data.get_value(index=i_tmp[0]+':'+i_tmp[1]+':p-value', col=column)])\n",
    "                \n",
    "                if abs(value[0][0])>c and value[0][1]<p and abs(value[0][0])<m:\n",
    "                    \n",
    "                    if [defen[defen['Code']==c_tmp[0]]['Indicator Name'].tolist()[0], defen[defen['Code']==i_tmp[0]]['Indicator Name'].tolist()[0], value[0][0]] not in rez:\n",
    "                        rez.append([defen[defen['Code']==i_tmp[0]]['Indicator Name'].tolist()[0], defen[defen['Code']==c_tmp[0]]['Indicator Name'].tolist()[0], value[0][0]])\n",
    "                    \n",
    "                    #Degbug                    \n",
    "                    #return rez\n",
    "    db = pd.DataFrame().append(rez)\n",
    "    db.columns = col\n",
    "    #print (len(db))\n",
    "    db = check(db.sort_values(by=[s]), col)\n",
    "    return db\n",
    "\n",
    "def check(data, col):\n",
    "    rez=[]\n",
    "    data = data.sort_values(by=[col[2]])\n",
    "    tmp = data.as_matrix()\n",
    "    for i, row in enumerate(tmp):\n",
    "        if i<len(tmp)-1:\n",
    "            if row[2] != tmp[i+1][2] and row[1] != tmp[i+1][0] and row[0] != tmp[i+1][1]:\n",
    "                rez.append(row)\n",
    "    if len(rez)!=0:\n",
    "        db = pd.DataFrame().append(rez)\n",
    "        db.columns = col\n",
    "        return db.reset_index()\n",
    "    else:\n",
    "        #Забыл, что тут, но если попадет сюда - это не к добру.\n",
    "        print('what?')\n",
    "        return data\n",
    "            \n",
    "\n",
    "def to_ex(data, name, dir_name='Conclusion'):\n",
    "    if dir_name not in os.listdir():\n",
    "        os.mkdir(dir_name)\n",
    "        \n",
    "    filename = dir_name + '/' + name + '.Con.xlsx'\n",
    "    data.sort_values(by=data.columns[0]).to_excel(filename, sheet_name=name, index = False)\n",
    "    \n",
    "def reg_segmen():\n",
    "    return 0\n",
    "\n",
    "def Sumup(d_name):\n",
    "    files = os.listdir(d_name)\n",
    "    regions = np.unique([name.split('.')[2] for name in files])\n",
    "    \n",
    "    for region in regions:\n",
    "        \n",
    "        for "
   ]
  },
  {
   "cell_type": "code",
   "execution_count": 6,
   "metadata": {},
   "outputs": [
    {
     "data": {
      "text/plain": [
       "array(['Australia and New Zealand', 'Caribbean', 'Central America',\n",
       "       'Central Asia', 'Eastern Africa', 'Eastern Asia', 'Eastern Europe',\n",
       "       'Middle Africa', 'Northern Africa', 'Northern America',\n",
       "       'Northern Europe', 'South America', 'South-Eastern Asia',\n",
       "       'Southern Africa', 'Southern Asia', 'Southern Europe',\n",
       "       'Western Africa', 'Western Asia', 'Western Europe', 'nan'], \n",
       "      dtype='<U25')"
      ]
     },
     "execution_count": 6,
     "metadata": {},
     "output_type": "execute_result"
    }
   ],
   "source": [
    "regions = []\n",
    "for name in os.listdir('Correlations'):\n",
    "    regions.append([region.split('.')[2]])\n",
    "    \n",
    "for region in np.unique(regions):\n",
    "    \n",
    "for country in os.listdir('Correlations'):\n",
    "    if np.unique(regions)"
   ]
  },
  {
   "cell_type": "code",
   "execution_count": 5,
   "metadata": {},
   "outputs": [
    {
     "data": {
      "text/plain": [
       "array(['Australia and New Zealand', 'Caribbean', 'Central America',\n",
       "       'Central Asia', 'Eastern Africa', 'Eastern Asia', 'Eastern Europe',\n",
       "       'Middle Africa', 'Northern Africa', 'Northern America',\n",
       "       'Northern Europe', 'South America', 'South-Eastern Asia',\n",
       "       'Southern Africa', 'Southern Asia', 'Southern Europe',\n",
       "       'Western Africa', 'Western Asia', 'Western Europe', 'nan'], \n",
       "      dtype='<U25')"
      ]
     },
     "execution_count": 5,
     "metadata": {},
     "output_type": "execute_result"
    }
   ],
   "source": []
  },
  {
   "cell_type": "code",
   "execution_count": null,
   "metadata": {},
   "outputs": [],
   "source": [
    "[for region os.listdir('Correlations')]"
   ]
  },
  {
   "cell_type": "code",
   "execution_count": null,
   "metadata": {
    "collapsed": true
   },
   "outputs": [],
   "source": []
  }
 ],
 "metadata": {
  "anaconda-cloud": {},
  "kernelspec": {
   "display_name": "Python 3",
   "language": "python",
   "name": "python3"
  },
  "language_info": {
   "codemirror_mode": {
    "name": "ipython",
    "version": 3
   },
   "file_extension": ".py",
   "mimetype": "text/x-python",
   "name": "python",
   "nbconvert_exporter": "python",
   "pygments_lexer": "ipython3",
   "version": "3.6.3"
  }
 },
 "nbformat": 4,
 "nbformat_minor": 2
}
