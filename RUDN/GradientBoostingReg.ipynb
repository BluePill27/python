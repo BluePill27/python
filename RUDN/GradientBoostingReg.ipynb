{
 "cells": [
  {
   "cell_type": "code",
   "execution_count": 1,
   "metadata": {
    "ExecuteTime": {
     "end_time": "2018-04-15T23:00:47.769197Z",
     "start_time": "2018-04-15T23:00:47.390999Z"
    },
    "scrolled": true
   },
   "outputs": [],
   "source": [
    "import pandas as pd\n",
    "import numpy as np\n",
    "\n",
    "import datetime\n",
    "\n",
    "from tqdm._tqdm_notebook import tqdm_notebook\n",
    "\n",
    "tqdm_notebook.pandas()\n",
    "\n",
    "import xgboost as xgb \n",
    "\n",
    "from sklearn.model_selection import RandomizedSearchCV, TimeSeriesSplit, train_test_split\n",
    "from sklearn.feature_selection import f_regression, mutual_info_regression\n",
    "from sklearn.metrics import mean_squared_error\n",
    "\n",
    "import graphviz\n",
    "\n",
    "import matplotlib.pyplot as plt\n",
    "%matplotlib inline"
   ]
  },
  {
   "cell_type": "code",
   "execution_count": 2,
   "metadata": {
    "ExecuteTime": {
     "end_time": "2018-04-15T23:00:47.773410Z",
     "start_time": "2018-04-15T23:00:47.770561Z"
    }
   },
   "outputs": [],
   "source": [
    "def fillnan(data, years_c):\n",
    "    for name in years_c:\n",
    "        #заменяем троеточия\n",
    "        data[name] = data[name].apply(lambda x: np.nan if x==('..') else float(x))\n",
    "\n",
    "    return data\n",
    "\n",
    "def dropempt(data, years_c):\n",
    "    data = fillnan(data, years_c)\n",
    "    return data.dropna(thresh=10)\n",
    "\n",
    "def Clearing(data):\n",
    "    years_c = [item for ind, item in enumerate(np.array(data.columns)) if item not in ['Country Name', 'Country Code','Series Code','Series Name']]\n",
    "    print ('Before clear:', len(data))\n",
    "\n",
    "    data = dropempt(data, years_c)\n",
    "\n",
    "    print ('After clear:', len(data))\n",
    "    return data"
   ]
  },
  {
   "cell_type": "code",
   "execution_count": 3,
   "metadata": {
    "ExecuteTime": {
     "end_time": "2018-04-15T23:00:47.790911Z",
     "start_time": "2018-04-15T23:00:47.774906Z"
    }
   },
   "outputs": [],
   "source": [
    "def Make_region(code, reg='region', by = 'name'):\n",
    "    #print code\n",
    "    if code in data_cnt[by].values:\n",
    "        #print code\n",
    "        name = (data_cnt[by][data_cnt[by] == code].index.tolist())[0]\n",
    "        return data_cnt[reg].at[name]\n",
    "    else:\n",
    "        return np.nan\n",
    "\n",
    "def Sorting(data, reg='region'):\n",
    "    #if data['Country Name'].get_value(len(data)-5) == np.nan:\n",
    "    #    data=data.drop(data.index[[range(len(data)-5, len(data))]]).reset_index()\n",
    "    if 'Region' not in data.columns:\n",
    "        data['Region'] = data['Country Name'].progress_apply(lambda x: Make_region(x, reg))\n",
    "        data['Region'].dropna()\n",
    "        return data.reset_index()\n",
    "    else:\n",
    "        return data"
   ]
  },
  {
   "cell_type": "code",
   "execution_count": 4,
   "metadata": {
    "ExecuteTime": {
     "end_time": "2018-04-15T23:02:20.686666Z",
     "start_time": "2018-04-15T23:00:47.792198Z"
    }
   },
   "outputs": [
    {
     "name": "stdout",
     "output_type": "stream",
     "text": [
      "Before clear: 398541\n",
      "After clear: 104445\n"
     ]
    },
    {
     "data": {
      "application/vnd.jupyter.widget-view+json": {
       "model_id": "41f2aeeeaec34870a795691fa6ad1b62",
       "version_major": 2,
       "version_minor": 0
      },
      "text/plain": [
       "HBox(children=(IntProgress(value=0, max=104445), HTML(value='')))"
      ]
     },
     "metadata": {},
     "output_type": "display_data"
    },
    {
     "name": "stdout",
     "output_type": "stream",
     "text": [
      "\n"
     ]
    }
   ],
   "source": [
    "df = pd.read_excel('data/Data_Extract_From_Gender_Statistics.xlsx', encoding = 'utf8').\\\n",
    "            append(pd.read_excel('data/Data_Extract_From_Health_Nutrition_and_Population_Statistics.xlsx', encoding='utf8')).\\\n",
    "            append(pd.read_excel('data/Data_Extract_From_Millennium_Development_Goals.xlsx', encoding='utf8')).\\\n",
    "            append(pd.read_excel('data/Data_Extract_From_Health_Nutrition_and_Population_Statistics_by_Wealth_Quintile.xlsx',encoding='utf8'))\n",
    "\n",
    "data_cnt = pd.read_csv('all.csv', encoding='utf8')\n",
    "df = Clearing(df)\n",
    "defen = pd.read_excel('data/Data_Extract_From_Gender_Statistics.xlsx', sheet_name=1, encoding = 'utf8').\\\n",
    "               append(pd.read_excel('data/Data_Extract_From_Health_Nutrition_and_Population_Statistics.xlsx', sheet_name=1, encoding='utf8')).\\\n",
    "               append(pd.read_excel('data/Data_Extract_From_Millennium_Development_Goals.xlsx', sheet_name=1, encoding='utf8'))\n",
    "\n",
    "df = Sorting(df, 'sub-region')\n",
    "df.drop_duplicates(inplace = True)\n",
    "df.drop(columns = 'index', inplace=True)"
   ]
  },
  {
   "cell_type": "code",
   "execution_count": 6,
   "metadata": {
    "ExecuteTime": {
     "end_time": "2018-04-15T23:02:20.716441Z",
     "start_time": "2018-04-15T23:02:20.697152Z"
    }
   },
   "outputs": [],
   "source": [
    "def Testing_grid_xgb(X_train, Y_train):\n",
    "    cv = TimeSeriesSplit(n_splits=4)\n",
    "    clf = xgb.XGBRegressor()        \n",
    "    parameters = {\n",
    "        'scale_pos_weight' : [1, 1.5, 1.2],\n",
    "        'objective':['reg:linear'],\n",
    "        'learning_rate': [0.05, 0.1, 0.2, 0.3],\n",
    "        'max_depth': [3 ,4 ,6, 5],\n",
    "        'min_child_weight': [2, 3 ,4, 5],\n",
    "        'max_delta_step': [0, 0.2, 0.8],\n",
    "        'reg_lambda': [0.5, 0.8, 0],\n",
    "        'reg_alpha': [0.5, 0.8, 0],\n",
    "        'silent': [1],\n",
    "        'subsample': [0.2, 0.05, 0.3, 0.4],\n",
    "        'colsample_bytree': [0.7, 0.8, 1],\n",
    "        'n_estimators': [100 ,250, 450],\n",
    "        'base_score' : [0.5, 1],\n",
    "        'gamma': [0, 0.5, 1]\n",
    "    }\n",
    "    \n",
    "    start_time = datetime.datetime.now()\n",
    "    gs = RandomizedSearchCV(clf, scoring='neg_mean_squared_error', param_distributions=parameters, \n",
    "                      cv=cv, n_jobs = -1, verbose=True,  n_iter=9000)\n",
    "    gs.fit(X_train,Y_train)\n",
    "    print ('Time elapsed:', datetime.datetime.now() - start_time)\n",
    "    \n",
    "    means = gs.cv_results_['mean_test_score']\n",
    "    \n",
    "    print (max(means))\n",
    "    return gs.best_params_"
   ]
  },
  {
   "cell_type": "code",
   "execution_count": 23,
   "metadata": {
    "ExecuteTime": {
     "end_time": "2018-04-16T06:55:42.574705Z",
     "start_time": "2018-04-16T06:55:42.570032Z"
    }
   },
   "outputs": [],
   "source": [
    "def makexy(df, country = 'RUS'):\n",
    "    #Years\n",
    "    years_c = [item for ind, item in enumerate(np.array(df.columns)) if item not in ['Region','Country Name', 'Country Code','Series Code','Series Name', 'index']]\n",
    "    \n",
    "    #split country\n",
    "    df = df[(df['Country Code']== country)].copy()\n",
    "    df.drop_duplicates(inplace = True)\n",
    "    \n",
    "    y = df[df['Series Name'] == 'Life expectancy at birth, total (years)'][years_c].interpolate(axis=1).T\n",
    "    \n",
    "    if y.shape[1] == 1:\n",
    "        y.columns = ['Life expectancy at birth, total (years)']\n",
    "    else:\n",
    "        return pd.DataFrame(), pd.DataFrame()\n",
    "    \n",
    "    #Transponenting and then adding \n",
    "    mask = ((df['Series Name'] != 'Life expectancy at birth, male (years)') & \n",
    "            (df['Series Name'] != 'Life expectancy at birth, female (years)') &\n",
    "            (df['Series Name'] != 'Life expectancy at birth, total (years)'))\n",
    "    \n",
    "    X = df[mask][years_c].T\n",
    "    X.columns = df[(df['Country Code']== country) & mask]['Series Name']\n",
    "    X.reset_index(inplace = True, drop = True)\n",
    "    del df\n",
    "    \n",
    "    X['Years'] = [int(name.split()[0]) for name in years_c]\n",
    "    X['Region_code'] = int(Make_region(country,'region-code', by = 'alpha-3'))\n",
    "    X['Reion_sub_code'] = int(Make_region(country, 'sub-region-code', 'alpha-3'))\n",
    "    X['Country_code'] = int(Make_region(country, 'country-code', 'alpha-3'))\n",
    "    return X.reset_index(drop = True).fillna(-999), y.reset_index(drop = True).fillna(-999)\n",
    "\n",
    "def train_set(df, region = 'Eastern Europe'):\n",
    "    x_train, y_train = pd.DataFrame(), pd.DataFrame()\n",
    "    for country in df[df['Region'] == region]['Country Code'].unique():\n",
    "        tmp = makexy(df, country)\n",
    "        x_train = pd.concat([tmp[0], x_train], axis=0).fillna(-999)\n",
    "        y_train = pd.concat([tmp[1], y_train], axis=0).fillna(-999)\n",
    "    return x_train.as_matrix(), y_train.as_matrix(), x_train.columns\n",
    "    "
   ]
  },
  {
   "cell_type": "code",
   "execution_count": 7,
   "metadata": {
    "ExecuteTime": {
     "end_time": "2018-04-15T23:02:20.730817Z",
     "start_time": "2018-04-15T23:02:20.718083Z"
    }
   },
   "outputs": [],
   "source": [
    "def Resmaking(df):\n",
    "    for region in tqdm_notebook(df['Region'].dropna().unique()):\n",
    "        tmp = train_set(df, region)\n",
    "        X_train, X_test, y_train, y_test = train_test_split(tmp[0], tmp[1], test_size=0.25,\n",
    "                                                            shuffle = True, random_state=42)\n",
    "        p = Testing_grid_xgb(X_train, y_train)\n",
    "        \n",
    "        model = xgb.XGBRegressor(max_depth=p['max_depth'], learning_rate = p['learning_rate'], \n",
    "                                 n_estimators = p['n_estimators'], objective = p['objective'], \n",
    "                                 gamma = p['gamma'], min_child_weight = p['min_child_weight'], \n",
    "                                 max_delta_step = p['max_delta_step'], subsample = p['subsample'], \n",
    "                                 colsample_bytree = p['colsample_bytree'], reg_alpha = p['reg_alpha'], \n",
    "                                 reg_lambda = p['reg_lambda'], scale_pos_weight = p['scale_pos_weight'], \n",
    "                                 base_score = p['base_score'])\n",
    "        model.fit(X_train, y_train)\n",
    "        \n",
    "        print ('MSE : {0:f}%, \\nIn {1:s}'.format(100-mean_squared_error(model.predict(X_test), y_test), region))\n",
    "        \n",
    "        model.fit(tmp[0], tmp[1])\n",
    "        \n",
    "        rez = pd.DataFrame(model.feature_importances_, index = tmp[2]).sort_values(by = [0], ascending=False)\n",
    "        rez[rez[0]!=0].to_excel('Importance/Varible_in_'+str(region)+'.xlsx')\n",
    "        \n",
    "        rez = pd.concat([pd.DataFrame(f_regression(tmp[0], tmp[1].ravel())[0], columns=['F-value'], index=tmp[2]),\n",
    "                         pd.DataFrame(f_regression(tmp[0], tmp[1].ravel())[1], columns=['p-value'], index=tmp[2])], axis=1)\n",
    "        rez['p-value'] = rez['p-value'].apply(lambda x: round(x, 5))\n",
    "        \n",
    "        rez[rez['p-value']<0.01].sort_values(by = ['F-value'], ascending=False).to_excel('Importance/Varible_f_reg_in_'+str(region)+'.xlsx')\n",
    "        \n",
    "        rez = pd.DataFrame(mutual_info_regression(tmp[0], tmp[1].ravel()),\n",
    "                           index = tmp[2]).sort_values(by = [0], ascending=False)\n",
    "        rez[rez[0]!=0].to_excel('Importance/Varible_muatal_in_'+str(region)+'.xlsx')"
   ]
  },
  {
   "cell_type": "code",
   "execution_count": 24,
   "metadata": {
    "ExecuteTime": {
     "end_time": "2018-04-16T06:55:45.498222Z",
     "start_time": "2018-04-16T06:55:45.474060Z"
    }
   },
   "outputs": [],
   "source": [
    "def Resmaking_for_contr(df, country):\n",
    "    tmp = list(makexy(df, country))\n",
    "    tmp.append(tmp[0].columns)\n",
    "        \n",
    "    X_train, X_test, y_train, y_test = train_test_split(tmp[0].as_matrix(), tmp[1].as_matrix(), test_size=0.1, random_state=42)\n",
    "    p = Testing_grid_xgb(X_train, y_train)\n",
    "        \n",
    "    model = xgb.XGBRegressor(max_depth=p['max_depth'], learning_rate = p['learning_rate'], \n",
    "                                 n_estimators = p['n_estimators'], objective = p['objective'], \n",
    "                                 gamma = p['gamma'], min_child_weight = p['min_child_weight'], \n",
    "                                 max_delta_step = p['max_delta_step'], subsample = p['subsample'], \n",
    "                                 colsample_bytree = p['colsample_bytree'], reg_alpha = p['reg_alpha'], \n",
    "                                 reg_lambda = p['reg_lambda'], scale_pos_weight = p['scale_pos_weight'], \n",
    "                                 base_score = p['base_score'])\n",
    "    model.fit(X_train, y_train)\n",
    "        \n",
    "    print ('MSE : {0:f}%, \\nIn {1:s}'.format(100-mean_squared_error(model.predict(X_test), y_test), country))\n",
    "        \n",
    "    model.fit(tmp[0], tmp[1])\n",
    "        \n",
    "    rez = pd.DataFrame(model.feature_importances_, index = tmp[2]).sort_values(by = [0], ascending=False)\n",
    "    rez[rez[0]!=0].to_excel('Importance/Varible_in_'+str(country)+'.xlsx')\n",
    "        \n",
    "    rez = pd.concat([pd.DataFrame(f_regression(tmp[0].as_matrix(), tmp[1].as_matrix().ravel())[0], columns=['F-value'], index=tmp[2]),\n",
    "                     pd.DataFrame(f_regression(tmp[0].as_matrix(), tmp[1].as_matrix().ravel())[1], columns=['p-value'], index=tmp[2])], axis=1)\n",
    "    rez['p-value'] = rez['p-value'].apply(lambda x: round(x, 5))\n",
    "        \n",
    "    rez[rez['p-value']<0.01].sort_values(by = ['F-value'], ascending=False).to_excel('Importance/Varible_f_reg_in_'+str(country)+'.xlsx')\n",
    "        \n",
    "    rez = pd.DataFrame(mutual_info_regression(tmp[0].as_matrix(), tmp[1].as_matrix().ravel()),\n",
    "                           index = tmp[2]).sort_values(by = [0], ascending=False)\n",
    "    rez[rez[0]!=0].to_excel('Importance/Varible_muatal_in_'+str(country)+'.xlsx')"
   ]
  },
  {
   "cell_type": "code",
   "execution_count": 8,
   "metadata": {
    "ExecuteTime": {
     "end_time": "2018-04-16T01:46:56.935318Z",
     "start_time": "2018-04-15T23:02:20.731963Z"
    },
    "scrolled": true
   },
   "outputs": [
    {
     "data": {
      "application/vnd.jupyter.widget-view+json": {
       "model_id": "e10912c6e69b4f78998db23551d6d707",
       "version_major": 2,
       "version_minor": 0
      },
      "text/plain": [
       "HBox(children=(IntProgress(value=0, max=22), HTML(value='')))"
      ]
     },
     "metadata": {},
     "output_type": "display_data"
    },
    {
     "name": "stdout",
     "output_type": "stream",
     "text": [
      "Fitting 4 folds for each of 9000 candidates, totalling 36000 fits\n"
     ]
    },
    {
     "name": "stderr",
     "output_type": "stream",
     "text": [
      "[Parallel(n_jobs=-1)]: Done  36 tasks      | elapsed:    1.1s\n",
      "[Parallel(n_jobs=-1)]: Done 618 tasks      | elapsed:    8.2s\n",
      "[Parallel(n_jobs=-1)]: Done 1368 tasks      | elapsed:   17.5s\n",
      "[Parallel(n_jobs=-1)]: Done 2418 tasks      | elapsed:   32.0s\n",
      "[Parallel(n_jobs=-1)]: Done 3768 tasks      | elapsed:   49.6s\n",
      "[Parallel(n_jobs=-1)]: Done 5418 tasks      | elapsed:  1.2min\n",
      "[Parallel(n_jobs=-1)]: Done 7368 tasks      | elapsed:  1.7min\n",
      "[Parallel(n_jobs=-1)]: Done 9618 tasks      | elapsed:  2.2min\n",
      "[Parallel(n_jobs=-1)]: Done 12168 tasks      | elapsed:  2.7min\n",
      "[Parallel(n_jobs=-1)]: Done 15018 tasks      | elapsed:  3.3min\n",
      "[Parallel(n_jobs=-1)]: Done 18168 tasks      | elapsed:  4.0min\n",
      "[Parallel(n_jobs=-1)]: Done 21618 tasks      | elapsed:  4.8min\n",
      "[Parallel(n_jobs=-1)]: Done 25368 tasks      | elapsed:  5.6min\n",
      "[Parallel(n_jobs=-1)]: Done 29418 tasks      | elapsed:  6.6min\n",
      "[Parallel(n_jobs=-1)]: Done 33768 tasks      | elapsed:  7.5min\n",
      "[Parallel(n_jobs=-1)]: Done 36000 out of 36000 | elapsed:  8.0min finished\n"
     ]
    },
    {
     "name": "stdout",
     "output_type": "stream",
     "text": [
      "Time elapsed: 0:08:02.946767\n",
      "-2.4321263203842785\n",
      "MSE : 99.675715%, \n",
      "In Southern Asia\n"
     ]
    },
    {
     "name": "stderr",
     "output_type": "stream",
     "text": [
      "/home/denis/anaconda3/lib/python3.6/site-packages/sklearn/feature_selection/univariate_selection.py:298: RuntimeWarning: divide by zero encountered in true_divide\n",
      "  corr /= X_norms\n",
      "/home/denis/anaconda3/lib/python3.6/site-packages/sklearn/feature_selection/univariate_selection.py:303: RuntimeWarning: invalid value encountered in true_divide\n",
      "  F = corr ** 2 / (1 - corr ** 2) * degrees_of_freedom\n",
      "/home/denis/anaconda3/lib/python3.6/site-packages/scipy/stats/_distn_infrastructure.py:879: RuntimeWarning: invalid value encountered in greater\n",
      "  return (self.a < x) & (x < self.b)\n",
      "/home/denis/anaconda3/lib/python3.6/site-packages/scipy/stats/_distn_infrastructure.py:879: RuntimeWarning: invalid value encountered in less\n",
      "  return (self.a < x) & (x < self.b)\n",
      "/home/denis/anaconda3/lib/python3.6/site-packages/scipy/stats/_distn_infrastructure.py:1821: RuntimeWarning: invalid value encountered in less_equal\n",
      "  cond2 = cond0 & (x <= self.a)\n"
     ]
    },
    {
     "name": "stdout",
     "output_type": "stream",
     "text": [
      "Fitting 4 folds for each of 9000 candidates, totalling 36000 fits\n"
     ]
    },
    {
     "name": "stderr",
     "output_type": "stream",
     "text": [
      "[Parallel(n_jobs=-1)]: Done  48 tasks      | elapsed:    0.8s\n",
      "[Parallel(n_jobs=-1)]: Done 1212 tasks      | elapsed:    9.8s\n",
      "[Parallel(n_jobs=-1)]: Done 2712 tasks      | elapsed:   22.3s\n",
      "[Parallel(n_jobs=-1)]: Done 4812 tasks      | elapsed:   41.0s\n",
      "[Parallel(n_jobs=-1)]: Done 7512 tasks      | elapsed:  1.0min\n",
      "[Parallel(n_jobs=-1)]: Done 10812 tasks      | elapsed:  1.5min\n",
      "[Parallel(n_jobs=-1)]: Done 14712 tasks      | elapsed:  2.1min\n",
      "[Parallel(n_jobs=-1)]: Done 19212 tasks      | elapsed:  2.7min\n",
      "[Parallel(n_jobs=-1)]: Done 24312 tasks      | elapsed:  3.4min\n",
      "[Parallel(n_jobs=-1)]: Done 30012 tasks      | elapsed:  4.2min\n",
      "[Parallel(n_jobs=-1)]: Done 36000 out of 36000 | elapsed:  5.0min finished\n"
     ]
    },
    {
     "name": "stdout",
     "output_type": "stream",
     "text": [
      "Time elapsed: 0:05:01.214610\n",
      "-0.6228230031515326\n",
      "MSE : 99.905598%, \n",
      "In Northern Africa\n"
     ]
    },
    {
     "name": "stderr",
     "output_type": "stream",
     "text": [
      "/home/denis/anaconda3/lib/python3.6/site-packages/sklearn/feature_selection/univariate_selection.py:298: RuntimeWarning: divide by zero encountered in true_divide\n",
      "  corr /= X_norms\n",
      "/home/denis/anaconda3/lib/python3.6/site-packages/sklearn/feature_selection/univariate_selection.py:303: RuntimeWarning: invalid value encountered in true_divide\n",
      "  F = corr ** 2 / (1 - corr ** 2) * degrees_of_freedom\n",
      "/home/denis/anaconda3/lib/python3.6/site-packages/scipy/stats/_distn_infrastructure.py:879: RuntimeWarning: invalid value encountered in greater\n",
      "  return (self.a < x) & (x < self.b)\n",
      "/home/denis/anaconda3/lib/python3.6/site-packages/scipy/stats/_distn_infrastructure.py:879: RuntimeWarning: invalid value encountered in less\n",
      "  return (self.a < x) & (x < self.b)\n",
      "/home/denis/anaconda3/lib/python3.6/site-packages/scipy/stats/_distn_infrastructure.py:1821: RuntimeWarning: invalid value encountered in less_equal\n",
      "  cond2 = cond0 & (x <= self.a)\n"
     ]
    },
    {
     "name": "stdout",
     "output_type": "stream",
     "text": [
      "Fitting 4 folds for each of 9000 candidates, totalling 36000 fits\n"
     ]
    },
    {
     "name": "stderr",
     "output_type": "stream",
     "text": [
      "[Parallel(n_jobs=-1)]: Done  40 tasks      | elapsed:    0.6s\n",
      "[Parallel(n_jobs=-1)]: Done 1012 tasks      | elapsed:    9.5s\n",
      "[Parallel(n_jobs=-1)]: Done 2012 tasks      | elapsed:   19.1s\n",
      "[Parallel(n_jobs=-1)]: Done 3412 tasks      | elapsed:   32.5s\n",
      "[Parallel(n_jobs=-1)]: Done 5212 tasks      | elapsed:   47.7s\n",
      "[Parallel(n_jobs=-1)]: Done 7412 tasks      | elapsed:  1.1min\n",
      "[Parallel(n_jobs=-1)]: Done 10012 tasks      | elapsed:  1.5min\n",
      "[Parallel(n_jobs=-1)]: Done 13012 tasks      | elapsed:  2.0min\n",
      "[Parallel(n_jobs=-1)]: Done 16412 tasks      | elapsed:  2.5min\n",
      "[Parallel(n_jobs=-1)]: Done 20212 tasks      | elapsed:  3.1min\n",
      "[Parallel(n_jobs=-1)]: Done 24412 tasks      | elapsed:  3.7min\n",
      "[Parallel(n_jobs=-1)]: Done 29012 tasks      | elapsed:  4.4min\n",
      "[Parallel(n_jobs=-1)]: Done 34012 tasks      | elapsed:  5.1min\n",
      "[Parallel(n_jobs=-1)]: Done 36000 out of 36000 | elapsed:  5.4min finished\n"
     ]
    },
    {
     "name": "stdout",
     "output_type": "stream",
     "text": [
      "Time elapsed: 0:05:26.534450\n",
      "-2.2792029365298148\n",
      "MSE : 99.612863%, \n",
      "In Middle Africa\n"
     ]
    },
    {
     "name": "stderr",
     "output_type": "stream",
     "text": [
      "/home/denis/anaconda3/lib/python3.6/site-packages/sklearn/feature_selection/univariate_selection.py:298: RuntimeWarning: divide by zero encountered in true_divide\n",
      "  corr /= X_norms\n",
      "/home/denis/anaconda3/lib/python3.6/site-packages/sklearn/feature_selection/univariate_selection.py:303: RuntimeWarning: invalid value encountered in true_divide\n",
      "  F = corr ** 2 / (1 - corr ** 2) * degrees_of_freedom\n",
      "/home/denis/anaconda3/lib/python3.6/site-packages/scipy/stats/_distn_infrastructure.py:879: RuntimeWarning: invalid value encountered in greater\n",
      "  return (self.a < x) & (x < self.b)\n",
      "/home/denis/anaconda3/lib/python3.6/site-packages/scipy/stats/_distn_infrastructure.py:879: RuntimeWarning: invalid value encountered in less\n",
      "  return (self.a < x) & (x < self.b)\n",
      "/home/denis/anaconda3/lib/python3.6/site-packages/scipy/stats/_distn_infrastructure.py:1821: RuntimeWarning: invalid value encountered in less_equal\n",
      "  cond2 = cond0 & (x <= self.a)\n"
     ]
    },
    {
     "name": "stdout",
     "output_type": "stream",
     "text": [
      "Fitting 4 folds for each of 9000 candidates, totalling 36000 fits\n"
     ]
    },
    {
     "name": "stderr",
     "output_type": "stream",
     "text": [
      "[Parallel(n_jobs=-1)]: Done  32 tasks      | elapsed:    0.7s\n",
      "[Parallel(n_jobs=-1)]: Done 510 tasks      | elapsed:    9.0s\n",
      "[Parallel(n_jobs=-1)]: Done 1012 tasks      | elapsed:   18.4s\n",
      "[Parallel(n_jobs=-1)]: Done 1712 tasks      | elapsed:   29.9s\n",
      "[Parallel(n_jobs=-1)]: Done 2612 tasks      | elapsed:   46.1s\n",
      "[Parallel(n_jobs=-1)]: Done 3712 tasks      | elapsed:  1.1min\n",
      "[Parallel(n_jobs=-1)]: Done 5012 tasks      | elapsed:  1.5min\n",
      "[Parallel(n_jobs=-1)]: Done 6512 tasks      | elapsed:  2.0min\n",
      "[Parallel(n_jobs=-1)]: Done 8212 tasks      | elapsed:  2.5min\n",
      "[Parallel(n_jobs=-1)]: Done 10112 tasks      | elapsed:  3.0min\n",
      "[Parallel(n_jobs=-1)]: Done 12212 tasks      | elapsed:  3.7min\n",
      "[Parallel(n_jobs=-1)]: Done 14512 tasks      | elapsed:  4.3min\n",
      "[Parallel(n_jobs=-1)]: Done 17012 tasks      | elapsed:  5.1min\n",
      "[Parallel(n_jobs=-1)]: Done 19712 tasks      | elapsed:  5.9min\n",
      "[Parallel(n_jobs=-1)]: Done 22612 tasks      | elapsed:  6.7min\n",
      "[Parallel(n_jobs=-1)]: Done 25712 tasks      | elapsed:  7.6min\n",
      "[Parallel(n_jobs=-1)]: Done 29012 tasks      | elapsed:  8.6min\n",
      "[Parallel(n_jobs=-1)]: Done 32512 tasks      | elapsed:  9.6min\n",
      "[Parallel(n_jobs=-1)]: Done 36000 out of 36000 | elapsed: 10.7min finished\n"
     ]
    },
    {
     "name": "stdout",
     "output_type": "stream",
     "text": [
      "Time elapsed: 0:10:43.137521\n",
      "-0.3003799112996423\n",
      "MSE : 98.486363%, \n",
      "In South America\n"
     ]
    },
    {
     "name": "stderr",
     "output_type": "stream",
     "text": [
      "/home/denis/anaconda3/lib/python3.6/site-packages/sklearn/feature_selection/univariate_selection.py:298: RuntimeWarning: divide by zero encountered in true_divide\n",
      "  corr /= X_norms\n",
      "/home/denis/anaconda3/lib/python3.6/site-packages/sklearn/feature_selection/univariate_selection.py:303: RuntimeWarning: invalid value encountered in true_divide\n",
      "  F = corr ** 2 / (1 - corr ** 2) * degrees_of_freedom\n",
      "/home/denis/anaconda3/lib/python3.6/site-packages/scipy/stats/_distn_infrastructure.py:879: RuntimeWarning: invalid value encountered in greater\n",
      "  return (self.a < x) & (x < self.b)\n",
      "/home/denis/anaconda3/lib/python3.6/site-packages/scipy/stats/_distn_infrastructure.py:879: RuntimeWarning: invalid value encountered in less\n",
      "  return (self.a < x) & (x < self.b)\n",
      "/home/denis/anaconda3/lib/python3.6/site-packages/scipy/stats/_distn_infrastructure.py:1821: RuntimeWarning: invalid value encountered in less_equal\n",
      "  cond2 = cond0 & (x <= self.a)\n"
     ]
    },
    {
     "name": "stdout",
     "output_type": "stream",
     "text": [
      "Fitting 4 folds for each of 9000 candidates, totalling 36000 fits\n"
     ]
    },
    {
     "name": "stderr",
     "output_type": "stream",
     "text": [
      "[Parallel(n_jobs=-1)]: Done  30 tasks      | elapsed:    0.7s\n",
      "[Parallel(n_jobs=-1)]: Done 328 tasks      | elapsed:    7.2s\n",
      "[Parallel(n_jobs=-1)]: Done 828 tasks      | elapsed:   18.5s\n",
      "[Parallel(n_jobs=-1)]: Done 1366 tasks      | elapsed:   30.1s\n",
      "[Parallel(n_jobs=-1)]: Done 1816 tasks      | elapsed:   40.0s\n",
      "[Parallel(n_jobs=-1)]: Done 2366 tasks      | elapsed:   52.6s\n",
      "[Parallel(n_jobs=-1)]: Done 3016 tasks      | elapsed:  1.1min\n",
      "[Parallel(n_jobs=-1)]: Done 3766 tasks      | elapsed:  1.4min\n",
      "[Parallel(n_jobs=-1)]: Done 4616 tasks      | elapsed:  1.7min\n",
      "[Parallel(n_jobs=-1)]: Done 5566 tasks      | elapsed:  2.1min\n",
      "[Parallel(n_jobs=-1)]: Done 6616 tasks      | elapsed:  2.5min\n",
      "[Parallel(n_jobs=-1)]: Done 7766 tasks      | elapsed:  3.0min\n",
      "[Parallel(n_jobs=-1)]: Done 9016 tasks      | elapsed:  3.4min\n",
      "[Parallel(n_jobs=-1)]: Done 10366 tasks      | elapsed:  3.9min\n",
      "[Parallel(n_jobs=-1)]: Done 11816 tasks      | elapsed:  4.4min\n",
      "[Parallel(n_jobs=-1)]: Done 13366 tasks      | elapsed:  4.9min\n",
      "[Parallel(n_jobs=-1)]: Done 15016 tasks      | elapsed:  5.5min\n",
      "[Parallel(n_jobs=-1)]: Done 16766 tasks      | elapsed:  6.1min\n",
      "[Parallel(n_jobs=-1)]: Done 18616 tasks      | elapsed:  6.8min\n",
      "[Parallel(n_jobs=-1)]: Done 20566 tasks      | elapsed:  7.5min\n",
      "[Parallel(n_jobs=-1)]: Done 22756 tasks      | elapsed:  8.3min\n",
      "[Parallel(n_jobs=-1)]: Done 25137 tasks      | elapsed:  9.2min\n",
      "[Parallel(n_jobs=-1)]: Done 29637 tasks      | elapsed: 10.7min\n",
      "[Parallel(n_jobs=-1)]: Done 32493 tasks      | elapsed: 11.8min\n",
      "[Parallel(n_jobs=-1)]: Done 34943 tasks      | elapsed: 12.7min\n",
      "[Parallel(n_jobs=-1)]: Done 35977 out of 36000 | elapsed: 13.0min remaining:    0.5s\n",
      "[Parallel(n_jobs=-1)]: Done 36000 out of 36000 | elapsed: 13.0min finished\n"
     ]
    },
    {
     "name": "stdout",
     "output_type": "stream",
     "text": [
      "Time elapsed: 0:13:03.701414\n",
      "-0.7040795456515889\n",
      "MSE : 99.525830%, \n",
      "In Western Asia\n"
     ]
    },
    {
     "name": "stderr",
     "output_type": "stream",
     "text": [
      "/home/denis/anaconda3/lib/python3.6/site-packages/sklearn/feature_selection/univariate_selection.py:298: RuntimeWarning: divide by zero encountered in true_divide\n",
      "  corr /= X_norms\n",
      "/home/denis/anaconda3/lib/python3.6/site-packages/sklearn/feature_selection/univariate_selection.py:303: RuntimeWarning: invalid value encountered in true_divide\n",
      "  F = corr ** 2 / (1 - corr ** 2) * degrees_of_freedom\n",
      "/home/denis/anaconda3/lib/python3.6/site-packages/scipy/stats/_distn_infrastructure.py:879: RuntimeWarning: invalid value encountered in greater\n",
      "  return (self.a < x) & (x < self.b)\n",
      "/home/denis/anaconda3/lib/python3.6/site-packages/scipy/stats/_distn_infrastructure.py:879: RuntimeWarning: invalid value encountered in less\n",
      "  return (self.a < x) & (x < self.b)\n",
      "/home/denis/anaconda3/lib/python3.6/site-packages/scipy/stats/_distn_infrastructure.py:1821: RuntimeWarning: invalid value encountered in less_equal\n",
      "  cond2 = cond0 & (x <= self.a)\n"
     ]
    },
    {
     "name": "stdout",
     "output_type": "stream",
     "text": [
      "Fitting 4 folds for each of 9000 candidates, totalling 36000 fits\n"
     ]
    },
    {
     "name": "stderr",
     "output_type": "stream",
     "text": [
      "[Parallel(n_jobs=-1)]: Done  52 tasks      | elapsed:    0.7s\n",
      "[Parallel(n_jobs=-1)]: Done 1515 tasks      | elapsed:    9.3s\n",
      "[Parallel(n_jobs=-1)]: Done 3265 tasks      | elapsed:   19.6s\n",
      "[Parallel(n_jobs=-1)]: Done 5715 tasks      | elapsed:   35.0s\n",
      "[Parallel(n_jobs=-1)]: Done 8865 tasks      | elapsed:   54.9s\n",
      "[Parallel(n_jobs=-1)]: Done 12715 tasks      | elapsed:  1.3min\n",
      "[Parallel(n_jobs=-1)]: Done 17265 tasks      | elapsed:  1.8min\n",
      "[Parallel(n_jobs=-1)]: Done 22515 tasks      | elapsed:  2.3min\n",
      "[Parallel(n_jobs=-1)]: Done 28465 tasks      | elapsed:  3.0min\n",
      "[Parallel(n_jobs=-1)]: Done 35115 tasks      | elapsed:  3.7min\n",
      "[Parallel(n_jobs=-1)]: Done 36000 out of 36000 | elapsed:  3.7min finished\n"
     ]
    },
    {
     "name": "stdout",
     "output_type": "stream",
     "text": [
      "Time elapsed: 0:03:45.221285\n",
      "-0.10916016063738918\n",
      "MSE : 99.743816%, \n",
      "In Australia and New Zealand\n"
     ]
    },
    {
     "name": "stderr",
     "output_type": "stream",
     "text": [
      "/home/denis/anaconda3/lib/python3.6/site-packages/sklearn/feature_selection/univariate_selection.py:298: RuntimeWarning: divide by zero encountered in true_divide\n",
      "  corr /= X_norms\n",
      "/home/denis/anaconda3/lib/python3.6/site-packages/sklearn/feature_selection/univariate_selection.py:303: RuntimeWarning: invalid value encountered in true_divide\n",
      "  F = corr ** 2 / (1 - corr ** 2) * degrees_of_freedom\n",
      "/home/denis/anaconda3/lib/python3.6/site-packages/scipy/stats/_distn_infrastructure.py:879: RuntimeWarning: invalid value encountered in greater\n",
      "  return (self.a < x) & (x < self.b)\n",
      "/home/denis/anaconda3/lib/python3.6/site-packages/scipy/stats/_distn_infrastructure.py:879: RuntimeWarning: invalid value encountered in less\n",
      "  return (self.a < x) & (x < self.b)\n",
      "/home/denis/anaconda3/lib/python3.6/site-packages/scipy/stats/_distn_infrastructure.py:1821: RuntimeWarning: invalid value encountered in less_equal\n",
      "  cond2 = cond0 & (x <= self.a)\n"
     ]
    },
    {
     "name": "stdout",
     "output_type": "stream",
     "text": [
      "Fitting 4 folds for each of 9000 candidates, totalling 36000 fits\n"
     ]
    },
    {
     "name": "stderr",
     "output_type": "stream",
     "text": [
      "[Parallel(n_jobs=-1)]: Done  32 tasks      | elapsed:    0.6s\n",
      "[Parallel(n_jobs=-1)]: Done 632 tasks      | elapsed:    9.2s\n",
      "[Parallel(n_jobs=-1)]: Done 1498 tasks      | elapsed:   22.5s\n",
      "[Parallel(n_jobs=-1)]: Done 2198 tasks      | elapsed:   31.7s\n",
      "[Parallel(n_jobs=-1)]: Done 3098 tasks      | elapsed:   44.2s\n",
      "[Parallel(n_jobs=-1)]: Done 4198 tasks      | elapsed:  1.0min\n",
      "[Parallel(n_jobs=-1)]: Done 5498 tasks      | elapsed:  1.3min\n",
      "[Parallel(n_jobs=-1)]: Done 6998 tasks      | elapsed:  1.7min\n",
      "[Parallel(n_jobs=-1)]: Done 8698 tasks      | elapsed:  2.1min\n",
      "[Parallel(n_jobs=-1)]: Done 10598 tasks      | elapsed:  2.6min\n",
      "[Parallel(n_jobs=-1)]: Done 12698 tasks      | elapsed:  3.2min\n",
      "[Parallel(n_jobs=-1)]: Done 14998 tasks      | elapsed:  3.8min\n",
      "[Parallel(n_jobs=-1)]: Done 17498 tasks      | elapsed:  4.4min\n",
      "[Parallel(n_jobs=-1)]: Done 20198 tasks      | elapsed:  5.1min\n",
      "[Parallel(n_jobs=-1)]: Done 23098 tasks      | elapsed:  5.8min\n",
      "[Parallel(n_jobs=-1)]: Done 26198 tasks      | elapsed:  6.6min\n",
      "[Parallel(n_jobs=-1)]: Done 29498 tasks      | elapsed:  7.5min\n",
      "[Parallel(n_jobs=-1)]: Done 32998 tasks      | elapsed:  8.4min\n",
      "[Parallel(n_jobs=-1)]: Done 36000 out of 36000 | elapsed:  9.1min finished\n"
     ]
    },
    {
     "name": "stdout",
     "output_type": "stream",
     "text": [
      "Time elapsed: 0:09:08.422710\n",
      "-3.9081908819805955\n",
      "MSE : 99.617277%, \n",
      "In Caribbean\n"
     ]
    },
    {
     "name": "stderr",
     "output_type": "stream",
     "text": [
      "/home/denis/anaconda3/lib/python3.6/site-packages/sklearn/feature_selection/univariate_selection.py:298: RuntimeWarning: divide by zero encountered in true_divide\n",
      "  corr /= X_norms\n",
      "/home/denis/anaconda3/lib/python3.6/site-packages/sklearn/feature_selection/univariate_selection.py:303: RuntimeWarning: invalid value encountered in true_divide\n",
      "  F = corr ** 2 / (1 - corr ** 2) * degrees_of_freedom\n",
      "/home/denis/anaconda3/lib/python3.6/site-packages/scipy/stats/_distn_infrastructure.py:879: RuntimeWarning: invalid value encountered in greater\n",
      "  return (self.a < x) & (x < self.b)\n",
      "/home/denis/anaconda3/lib/python3.6/site-packages/scipy/stats/_distn_infrastructure.py:879: RuntimeWarning: invalid value encountered in less\n",
      "  return (self.a < x) & (x < self.b)\n",
      "/home/denis/anaconda3/lib/python3.6/site-packages/scipy/stats/_distn_infrastructure.py:1821: RuntimeWarning: invalid value encountered in less_equal\n",
      "  cond2 = cond0 & (x <= self.a)\n"
     ]
    },
    {
     "name": "stdout",
     "output_type": "stream",
     "text": [
      "Fitting 4 folds for each of 9000 candidates, totalling 36000 fits\n"
     ]
    },
    {
     "name": "stderr",
     "output_type": "stream",
     "text": [
      "[Parallel(n_jobs=-1)]: Done  40 tasks      | elapsed:    0.8s\n",
      "[Parallel(n_jobs=-1)]: Done 856 tasks      | elapsed:    9.8s\n",
      "[Parallel(n_jobs=-1)]: Done 1856 tasks      | elapsed:   22.6s\n",
      "[Parallel(n_jobs=-1)]: Done 3256 tasks      | elapsed:   39.9s\n",
      "[Parallel(n_jobs=-1)]: Done 5056 tasks      | elapsed:  1.1min\n",
      "[Parallel(n_jobs=-1)]: Done 6424 tasks      | elapsed:  1.3min\n",
      "[Parallel(n_jobs=-1)]: Done 7724 tasks      | elapsed:  1.6min\n",
      "[Parallel(n_jobs=-1)]: Done 9224 tasks      | elapsed:  1.9min\n",
      "[Parallel(n_jobs=-1)]: Done 10924 tasks      | elapsed:  2.3min\n",
      "[Parallel(n_jobs=-1)]: Done 12824 tasks      | elapsed:  2.7min\n",
      "[Parallel(n_jobs=-1)]: Done 14924 tasks      | elapsed:  3.1min\n",
      "[Parallel(n_jobs=-1)]: Done 17224 tasks      | elapsed:  3.7min\n",
      "[Parallel(n_jobs=-1)]: Done 19724 tasks      | elapsed:  4.2min\n",
      "[Parallel(n_jobs=-1)]: Done 22424 tasks      | elapsed:  4.8min\n",
      "[Parallel(n_jobs=-1)]: Done 25324 tasks      | elapsed:  5.4min\n",
      "[Parallel(n_jobs=-1)]: Done 28424 tasks      | elapsed:  6.1min\n",
      "[Parallel(n_jobs=-1)]: Done 31724 tasks      | elapsed:  6.8min\n",
      "[Parallel(n_jobs=-1)]: Done 35224 tasks      | elapsed:  7.5min\n",
      "[Parallel(n_jobs=-1)]: Done 36000 out of 36000 | elapsed:  7.7min finished\n"
     ]
    },
    {
     "name": "stdout",
     "output_type": "stream",
     "text": [
      "Time elapsed: 0:07:42.902643\n",
      "-0.9583404386642788\n",
      "MSE : 99.702653%, \n",
      "In Eastern Europe\n"
     ]
    },
    {
     "name": "stderr",
     "output_type": "stream",
     "text": [
      "/home/denis/anaconda3/lib/python3.6/site-packages/sklearn/feature_selection/univariate_selection.py:298: RuntimeWarning: divide by zero encountered in true_divide\n",
      "  corr /= X_norms\n",
      "/home/denis/anaconda3/lib/python3.6/site-packages/sklearn/feature_selection/univariate_selection.py:303: RuntimeWarning: invalid value encountered in true_divide\n",
      "  F = corr ** 2 / (1 - corr ** 2) * degrees_of_freedom\n",
      "/home/denis/anaconda3/lib/python3.6/site-packages/scipy/stats/_distn_infrastructure.py:879: RuntimeWarning: invalid value encountered in greater\n",
      "  return (self.a < x) & (x < self.b)\n",
      "/home/denis/anaconda3/lib/python3.6/site-packages/scipy/stats/_distn_infrastructure.py:879: RuntimeWarning: invalid value encountered in less\n",
      "  return (self.a < x) & (x < self.b)\n",
      "/home/denis/anaconda3/lib/python3.6/site-packages/scipy/stats/_distn_infrastructure.py:1821: RuntimeWarning: invalid value encountered in less_equal\n",
      "  cond2 = cond0 & (x <= self.a)\n"
     ]
    },
    {
     "name": "stdout",
     "output_type": "stream",
     "text": [
      "Fitting 4 folds for each of 9000 candidates, totalling 36000 fits\n"
     ]
    },
    {
     "name": "stderr",
     "output_type": "stream",
     "text": [
      "[Parallel(n_jobs=-1)]: Done  29 tasks      | elapsed:    0.5s\n",
      "[Parallel(n_jobs=-1)]: Done 594 tasks      | elapsed:    7.7s\n",
      "[Parallel(n_jobs=-1)]: Done 1594 tasks      | elapsed:   20.3s\n",
      "[Parallel(n_jobs=-1)]: Done 2994 tasks      | elapsed:   37.9s\n",
      "[Parallel(n_jobs=-1)]: Done 4794 tasks      | elapsed:  1.0min\n",
      "[Parallel(n_jobs=-1)]: Done 6994 tasks      | elapsed:  1.5min\n",
      "[Parallel(n_jobs=-1)]: Done 9594 tasks      | elapsed:  2.1min\n",
      "[Parallel(n_jobs=-1)]: Done 12594 tasks      | elapsed:  2.7min\n",
      "[Parallel(n_jobs=-1)]: Done 15994 tasks      | elapsed:  3.4min\n",
      "[Parallel(n_jobs=-1)]: Done 17988 tasks      | elapsed:  3.9min\n",
      "[Parallel(n_jobs=-1)]: Done 20088 tasks      | elapsed:  4.3min\n",
      "[Parallel(n_jobs=-1)]: Done 22388 tasks      | elapsed:  4.8min\n",
      "[Parallel(n_jobs=-1)]: Done 24888 tasks      | elapsed:  5.4min\n",
      "[Parallel(n_jobs=-1)]: Done 27588 tasks      | elapsed:  6.1min\n",
      "[Parallel(n_jobs=-1)]: Done 30488 tasks      | elapsed:  6.8min\n",
      "[Parallel(n_jobs=-1)]: Done 33588 tasks      | elapsed:  7.4min\n",
      "[Parallel(n_jobs=-1)]: Done 36000 out of 36000 | elapsed:  8.0min finished\n"
     ]
    },
    {
     "name": "stdout",
     "output_type": "stream",
     "text": [
      "Time elapsed: 0:07:58.059999\n",
      "-0.9696952959459677\n",
      "MSE : 99.401816%, \n",
      "In Central America\n"
     ]
    },
    {
     "name": "stderr",
     "output_type": "stream",
     "text": [
      "/home/denis/anaconda3/lib/python3.6/site-packages/sklearn/feature_selection/univariate_selection.py:298: RuntimeWarning: divide by zero encountered in true_divide\n",
      "  corr /= X_norms\n",
      "/home/denis/anaconda3/lib/python3.6/site-packages/sklearn/feature_selection/univariate_selection.py:303: RuntimeWarning: invalid value encountered in true_divide\n",
      "  F = corr ** 2 / (1 - corr ** 2) * degrees_of_freedom\n",
      "/home/denis/anaconda3/lib/python3.6/site-packages/scipy/stats/_distn_infrastructure.py:879: RuntimeWarning: invalid value encountered in greater\n",
      "  return (self.a < x) & (x < self.b)\n",
      "/home/denis/anaconda3/lib/python3.6/site-packages/scipy/stats/_distn_infrastructure.py:879: RuntimeWarning: invalid value encountered in less\n",
      "  return (self.a < x) & (x < self.b)\n",
      "/home/denis/anaconda3/lib/python3.6/site-packages/scipy/stats/_distn_infrastructure.py:1821: RuntimeWarning: invalid value encountered in less_equal\n",
      "  cond2 = cond0 & (x <= self.a)\n"
     ]
    },
    {
     "name": "stdout",
     "output_type": "stream",
     "text": [
      "Fitting 4 folds for each of 9000 candidates, totalling 36000 fits\n"
     ]
    },
    {
     "name": "stderr",
     "output_type": "stream",
     "text": [
      "[Parallel(n_jobs=-1)]: Done  38 tasks      | elapsed:    0.9s\n",
      "[Parallel(n_jobs=-1)]: Done 592 tasks      | elapsed:    9.7s\n",
      "[Parallel(n_jobs=-1)]: Done 1094 tasks      | elapsed:   18.1s\n",
      "[Parallel(n_jobs=-1)]: Done 1794 tasks      | elapsed:   31.2s\n",
      "[Parallel(n_jobs=-1)]: Done 2694 tasks      | elapsed:   47.4s\n",
      "[Parallel(n_jobs=-1)]: Done 3794 tasks      | elapsed:  1.1min\n",
      "[Parallel(n_jobs=-1)]: Done 5094 tasks      | elapsed:  1.6min\n",
      "[Parallel(n_jobs=-1)]: Done 6594 tasks      | elapsed:  2.0min\n",
      "[Parallel(n_jobs=-1)]: Done 8294 tasks      | elapsed:  2.5min\n",
      "[Parallel(n_jobs=-1)]: Done 10194 tasks      | elapsed:  3.1min\n",
      "[Parallel(n_jobs=-1)]: Done 12294 tasks      | elapsed:  3.8min\n",
      "[Parallel(n_jobs=-1)]: Done 14594 tasks      | elapsed:  4.6min\n",
      "[Parallel(n_jobs=-1)]: Done 16470 tasks      | elapsed:  5.2min\n",
      "[Parallel(n_jobs=-1)]: Done 17820 tasks      | elapsed:  5.7min\n",
      "[Parallel(n_jobs=-1)]: Done 20185 tasks      | elapsed:  6.4min\n",
      "[Parallel(n_jobs=-1)]: Done 23285 tasks      | elapsed:  7.3min\n",
      "[Parallel(n_jobs=-1)]: Done 26585 tasks      | elapsed:  8.2min\n",
      "[Parallel(n_jobs=-1)]: Done 30085 tasks      | elapsed:  9.2min\n",
      "[Parallel(n_jobs=-1)]: Done 33785 tasks      | elapsed: 10.2min\n",
      "[Parallel(n_jobs=-1)]: Done 35977 out of 36000 | elapsed: 10.9min remaining:    0.4s\n",
      "[Parallel(n_jobs=-1)]: Done 36000 out of 36000 | elapsed: 10.9min finished\n"
     ]
    },
    {
     "name": "stdout",
     "output_type": "stream",
     "text": [
      "Time elapsed: 0:10:57.735892\n",
      "-1.3141296514450105\n",
      "MSE : 99.283608%, \n",
      "In Western Africa\n"
     ]
    },
    {
     "name": "stderr",
     "output_type": "stream",
     "text": [
      "/home/denis/anaconda3/lib/python3.6/site-packages/sklearn/feature_selection/univariate_selection.py:298: RuntimeWarning: divide by zero encountered in true_divide\n",
      "  corr /= X_norms\n",
      "/home/denis/anaconda3/lib/python3.6/site-packages/sklearn/feature_selection/univariate_selection.py:303: RuntimeWarning: invalid value encountered in true_divide\n",
      "  F = corr ** 2 / (1 - corr ** 2) * degrees_of_freedom\n",
      "/home/denis/anaconda3/lib/python3.6/site-packages/scipy/stats/_distn_infrastructure.py:879: RuntimeWarning: invalid value encountered in greater\n",
      "  return (self.a < x) & (x < self.b)\n",
      "/home/denis/anaconda3/lib/python3.6/site-packages/scipy/stats/_distn_infrastructure.py:879: RuntimeWarning: invalid value encountered in less\n",
      "  return (self.a < x) & (x < self.b)\n",
      "/home/denis/anaconda3/lib/python3.6/site-packages/scipy/stats/_distn_infrastructure.py:1821: RuntimeWarning: invalid value encountered in less_equal\n",
      "  cond2 = cond0 & (x <= self.a)\n"
     ]
    },
    {
     "name": "stdout",
     "output_type": "stream",
     "text": [
      "Fitting 4 folds for each of 9000 candidates, totalling 36000 fits\n"
     ]
    },
    {
     "name": "stderr",
     "output_type": "stream",
     "text": [
      "[Parallel(n_jobs=-1)]: Done  30 tasks      | elapsed:    0.4s\n",
      "[Parallel(n_jobs=-1)]: Done 328 tasks      | elapsed:    3.4s\n",
      "[Parallel(n_jobs=-1)]: Done 828 tasks      | elapsed:    8.2s\n",
      "[Parallel(n_jobs=-1)]: Done 1528 tasks      | elapsed:   14.6s\n",
      "[Parallel(n_jobs=-1)]: Done 2428 tasks      | elapsed:   24.0s\n",
      "[Parallel(n_jobs=-1)]: Done 3528 tasks      | elapsed:   35.7s\n",
      "[Parallel(n_jobs=-1)]: Done 4828 tasks      | elapsed:   49.4s\n",
      "[Parallel(n_jobs=-1)]: Done 6328 tasks      | elapsed:  1.1min\n",
      "[Parallel(n_jobs=-1)]: Done 8028 tasks      | elapsed:  1.4min\n",
      "[Parallel(n_jobs=-1)]: Done 9928 tasks      | elapsed:  1.7min\n",
      "[Parallel(n_jobs=-1)]: Done 12028 tasks      | elapsed:  2.1min\n",
      "[Parallel(n_jobs=-1)]: Done 14328 tasks      | elapsed:  2.4min\n",
      "[Parallel(n_jobs=-1)]: Done 16828 tasks      | elapsed:  2.9min\n",
      "[Parallel(n_jobs=-1)]: Done 19528 tasks      | elapsed:  3.4min\n",
      "[Parallel(n_jobs=-1)]: Done 22428 tasks      | elapsed:  3.9min\n",
      "[Parallel(n_jobs=-1)]: Done 25528 tasks      | elapsed:  4.3min\n",
      "[Parallel(n_jobs=-1)]: Done 28828 tasks      | elapsed:  4.9min\n",
      "[Parallel(n_jobs=-1)]: Done 32328 tasks      | elapsed:  5.4min\n",
      "[Parallel(n_jobs=-1)]: Done 36000 out of 36000 | elapsed:  6.0min finished\n"
     ]
    },
    {
     "name": "stdout",
     "output_type": "stream",
     "text": [
      "Time elapsed: 0:05:58.533943\n",
      "-4.579924356864284\n",
      "MSE : 97.846886%, \n",
      "In Southern Africa\n"
     ]
    },
    {
     "name": "stderr",
     "output_type": "stream",
     "text": [
      "/home/denis/anaconda3/lib/python3.6/site-packages/sklearn/feature_selection/univariate_selection.py:298: RuntimeWarning: divide by zero encountered in true_divide\n",
      "  corr /= X_norms\n",
      "/home/denis/anaconda3/lib/python3.6/site-packages/sklearn/feature_selection/univariate_selection.py:303: RuntimeWarning: invalid value encountered in true_divide\n",
      "  F = corr ** 2 / (1 - corr ** 2) * degrees_of_freedom\n",
      "/home/denis/anaconda3/lib/python3.6/site-packages/scipy/stats/_distn_infrastructure.py:879: RuntimeWarning: invalid value encountered in greater\n",
      "  return (self.a < x) & (x < self.b)\n",
      "/home/denis/anaconda3/lib/python3.6/site-packages/scipy/stats/_distn_infrastructure.py:879: RuntimeWarning: invalid value encountered in less\n",
      "  return (self.a < x) & (x < self.b)\n",
      "/home/denis/anaconda3/lib/python3.6/site-packages/scipy/stats/_distn_infrastructure.py:1821: RuntimeWarning: invalid value encountered in less_equal\n",
      "  cond2 = cond0 & (x <= self.a)\n"
     ]
    },
    {
     "name": "stdout",
     "output_type": "stream",
     "text": [
      "Fitting 4 folds for each of 9000 candidates, totalling 36000 fits\n"
     ]
    },
    {
     "name": "stderr",
     "output_type": "stream",
     "text": [
      "[Parallel(n_jobs=-1)]: Done  44 tasks      | elapsed:    1.4s\n",
      "[Parallel(n_jobs=-1)]: Done 651 tasks      | elapsed:   12.6s\n",
      "[Parallel(n_jobs=-1)]: Done 1151 tasks      | elapsed:   22.2s\n",
      "[Parallel(n_jobs=-1)]: Done 1851 tasks      | elapsed:   35.2s\n",
      "[Parallel(n_jobs=-1)]: Done 2751 tasks      | elapsed:   51.9s\n",
      "[Parallel(n_jobs=-1)]: Done 3851 tasks      | elapsed:  1.2min\n",
      "[Parallel(n_jobs=-1)]: Done 5151 tasks      | elapsed:  1.6min\n",
      "[Parallel(n_jobs=-1)]: Done 6651 tasks      | elapsed:  2.1min\n",
      "[Parallel(n_jobs=-1)]: Done 8351 tasks      | elapsed:  2.7min\n",
      "[Parallel(n_jobs=-1)]: Done 10018 tasks      | elapsed:  3.3min\n",
      "[Parallel(n_jobs=-1)]: Done 11396 tasks      | elapsed:  3.7min\n",
      "[Parallel(n_jobs=-1)]: Done 13696 tasks      | elapsed:  4.5min\n",
      "[Parallel(n_jobs=-1)]: Done 16196 tasks      | elapsed:  5.3min\n",
      "[Parallel(n_jobs=-1)]: Done 17937 tasks      | elapsed:  5.9min\n",
      "[Parallel(n_jobs=-1)]: Done 19387 tasks      | elapsed:  6.4min\n",
      "[Parallel(n_jobs=-1)]: Done 20937 tasks      | elapsed:  7.0min\n",
      "[Parallel(n_jobs=-1)]: Done 22811 tasks      | elapsed:  7.7min\n",
      "[Parallel(n_jobs=-1)]: Done 25365 tasks      | elapsed:  8.6min\n",
      "[Parallel(n_jobs=-1)]: Done 27215 tasks      | elapsed:  9.3min\n",
      "[Parallel(n_jobs=-1)]: Done 29165 tasks      | elapsed: 10.0min\n",
      "[Parallel(n_jobs=-1)]: Done 31215 tasks      | elapsed: 10.7min\n",
      "[Parallel(n_jobs=-1)]: Done 33365 tasks      | elapsed: 11.5min\n",
      "[Parallel(n_jobs=-1)]: Done 35615 tasks      | elapsed: 12.4min\n",
      "[Parallel(n_jobs=-1)]: Done 36000 out of 36000 | elapsed: 12.5min finished\n"
     ]
    },
    {
     "name": "stdout",
     "output_type": "stream",
     "text": [
      "Time elapsed: 0:12:31.439542\n",
      "-1.0728454379972272\n",
      "MSE : 99.813812%, \n",
      "In Eastern Africa\n"
     ]
    },
    {
     "name": "stderr",
     "output_type": "stream",
     "text": [
      "/home/denis/anaconda3/lib/python3.6/site-packages/sklearn/feature_selection/univariate_selection.py:298: RuntimeWarning: divide by zero encountered in true_divide\n",
      "  corr /= X_norms\n",
      "/home/denis/anaconda3/lib/python3.6/site-packages/sklearn/feature_selection/univariate_selection.py:303: RuntimeWarning: invalid value encountered in true_divide\n",
      "  F = corr ** 2 / (1 - corr ** 2) * degrees_of_freedom\n",
      "/home/denis/anaconda3/lib/python3.6/site-packages/scipy/stats/_distn_infrastructure.py:879: RuntimeWarning: invalid value encountered in greater\n",
      "  return (self.a < x) & (x < self.b)\n",
      "/home/denis/anaconda3/lib/python3.6/site-packages/scipy/stats/_distn_infrastructure.py:879: RuntimeWarning: invalid value encountered in less\n",
      "  return (self.a < x) & (x < self.b)\n",
      "/home/denis/anaconda3/lib/python3.6/site-packages/scipy/stats/_distn_infrastructure.py:1821: RuntimeWarning: invalid value encountered in less_equal\n",
      "  cond2 = cond0 & (x <= self.a)\n"
     ]
    },
    {
     "name": "stdout",
     "output_type": "stream",
     "text": [
      "Fitting 4 folds for each of 9000 candidates, totalling 36000 fits\n"
     ]
    },
    {
     "name": "stderr",
     "output_type": "stream",
     "text": [
      "[Parallel(n_jobs=-1)]: Done  29 tasks      | elapsed:    0.6s\n",
      "[Parallel(n_jobs=-1)]: Done 328 tasks      | elapsed:    4.6s\n",
      "[Parallel(n_jobs=-1)]: Done 828 tasks      | elapsed:   12.3s\n",
      "[Parallel(n_jobs=-1)]: Done 1528 tasks      | elapsed:   22.8s\n",
      "[Parallel(n_jobs=-1)]: Done 2428 tasks      | elapsed:   37.5s\n",
      "[Parallel(n_jobs=-1)]: Done 3528 tasks      | elapsed:   54.8s\n",
      "[Parallel(n_jobs=-1)]: Done 4828 tasks      | elapsed:  1.2min\n",
      "[Parallel(n_jobs=-1)]: Done 6328 tasks      | elapsed:  1.7min\n",
      "[Parallel(n_jobs=-1)]: Done 8028 tasks      | elapsed:  2.1min\n",
      "[Parallel(n_jobs=-1)]: Done 9928 tasks      | elapsed:  2.6min\n",
      "[Parallel(n_jobs=-1)]: Done 12028 tasks      | elapsed:  3.1min\n",
      "[Parallel(n_jobs=-1)]: Done 14328 tasks      | elapsed:  3.7min\n",
      "[Parallel(n_jobs=-1)]: Done 16828 tasks      | elapsed:  4.4min\n",
      "[Parallel(n_jobs=-1)]: Done 19528 tasks      | elapsed:  5.0min\n",
      "[Parallel(n_jobs=-1)]: Done 22428 tasks      | elapsed:  5.8min\n",
      "[Parallel(n_jobs=-1)]: Done 25528 tasks      | elapsed:  6.5min\n",
      "[Parallel(n_jobs=-1)]: Done 28828 tasks      | elapsed:  7.4min\n",
      "[Parallel(n_jobs=-1)]: Done 32328 tasks      | elapsed:  8.3min\n",
      "[Parallel(n_jobs=-1)]: Done 36000 out of 36000 | elapsed:  9.2min finished\n"
     ]
    },
    {
     "name": "stdout",
     "output_type": "stream",
     "text": [
      "Time elapsed: 0:09:15.476733\n",
      "-1.121367632152914\n",
      "MSE : 99.537780%, \n",
      "In South-Eastern Asia\n"
     ]
    },
    {
     "name": "stderr",
     "output_type": "stream",
     "text": [
      "/home/denis/anaconda3/lib/python3.6/site-packages/sklearn/feature_selection/univariate_selection.py:298: RuntimeWarning: divide by zero encountered in true_divide\n",
      "  corr /= X_norms\n",
      "/home/denis/anaconda3/lib/python3.6/site-packages/sklearn/feature_selection/univariate_selection.py:303: RuntimeWarning: invalid value encountered in true_divide\n",
      "  F = corr ** 2 / (1 - corr ** 2) * degrees_of_freedom\n",
      "/home/denis/anaconda3/lib/python3.6/site-packages/scipy/stats/_distn_infrastructure.py:879: RuntimeWarning: invalid value encountered in greater\n",
      "  return (self.a < x) & (x < self.b)\n",
      "/home/denis/anaconda3/lib/python3.6/site-packages/scipy/stats/_distn_infrastructure.py:879: RuntimeWarning: invalid value encountered in less\n",
      "  return (self.a < x) & (x < self.b)\n",
      "/home/denis/anaconda3/lib/python3.6/site-packages/scipy/stats/_distn_infrastructure.py:1821: RuntimeWarning: invalid value encountered in less_equal\n",
      "  cond2 = cond0 & (x <= self.a)\n"
     ]
    },
    {
     "name": "stdout",
     "output_type": "stream",
     "text": [
      "Fitting 4 folds for each of 9000 candidates, totalling 36000 fits\n"
     ]
    },
    {
     "name": "stderr",
     "output_type": "stream",
     "text": [
      "[Parallel(n_jobs=-1)]: Done  36 tasks      | elapsed:    0.8s\n",
      "[Parallel(n_jobs=-1)]: Done 624 tasks      | elapsed:   10.7s\n",
      "[Parallel(n_jobs=-1)]: Done 1348 tasks      | elapsed:   24.8s\n",
      "[Parallel(n_jobs=-1)]: Done 1700 tasks      | elapsed:   32.1s\n",
      "[Parallel(n_jobs=-1)]: Done 2150 tasks      | elapsed:   40.8s\n",
      "[Parallel(n_jobs=-1)]: Done 2700 tasks      | elapsed:   52.0s\n",
      "[Parallel(n_jobs=-1)]: Done 3350 tasks      | elapsed:  1.1min\n",
      "[Parallel(n_jobs=-1)]: Done 4100 tasks      | elapsed:  1.3min\n",
      "[Parallel(n_jobs=-1)]: Done 4950 tasks      | elapsed:  1.6min\n",
      "[Parallel(n_jobs=-1)]: Done 5900 tasks      | elapsed:  1.9min\n",
      "[Parallel(n_jobs=-1)]: Done 6950 tasks      | elapsed:  2.3min\n",
      "[Parallel(n_jobs=-1)]: Done 8100 tasks      | elapsed:  2.6min\n",
      "[Parallel(n_jobs=-1)]: Done 9350 tasks      | elapsed:  3.0min\n",
      "[Parallel(n_jobs=-1)]: Done 10700 tasks      | elapsed:  3.5min\n",
      "[Parallel(n_jobs=-1)]: Done 12150 tasks      | elapsed:  4.0min\n",
      "[Parallel(n_jobs=-1)]: Done 13700 tasks      | elapsed:  4.5min\n",
      "[Parallel(n_jobs=-1)]: Done 16674 tasks      | elapsed:  5.4min\n",
      "[Parallel(n_jobs=-1)]: Done 20174 tasks      | elapsed:  6.5min\n",
      "[Parallel(n_jobs=-1)]: Done 23874 tasks      | elapsed:  7.6min\n",
      "[Parallel(n_jobs=-1)]: Done 26957 tasks      | elapsed:  8.6min\n",
      "[Parallel(n_jobs=-1)]: Done 29007 tasks      | elapsed:  9.3min\n",
      "[Parallel(n_jobs=-1)]: Done 33043 tasks      | elapsed: 10.5min\n",
      "[Parallel(n_jobs=-1)]: Done 35977 out of 36000 | elapsed: 11.5min remaining:    0.4s\n",
      "[Parallel(n_jobs=-1)]: Done 36000 out of 36000 | elapsed: 11.5min finished\n"
     ]
    },
    {
     "name": "stdout",
     "output_type": "stream",
     "text": [
      "Time elapsed: 0:11:28.365467\n",
      "-0.6302343406668536\n",
      "MSE : 99.800048%, \n",
      "In Southern Europe\n"
     ]
    },
    {
     "name": "stderr",
     "output_type": "stream",
     "text": [
      "/home/denis/anaconda3/lib/python3.6/site-packages/sklearn/feature_selection/univariate_selection.py:298: RuntimeWarning: divide by zero encountered in true_divide\n",
      "  corr /= X_norms\n",
      "/home/denis/anaconda3/lib/python3.6/site-packages/sklearn/feature_selection/univariate_selection.py:303: RuntimeWarning: invalid value encountered in true_divide\n",
      "  F = corr ** 2 / (1 - corr ** 2) * degrees_of_freedom\n",
      "/home/denis/anaconda3/lib/python3.6/site-packages/scipy/stats/_distn_infrastructure.py:879: RuntimeWarning: invalid value encountered in greater\n",
      "  return (self.a < x) & (x < self.b)\n",
      "/home/denis/anaconda3/lib/python3.6/site-packages/scipy/stats/_distn_infrastructure.py:879: RuntimeWarning: invalid value encountered in less\n",
      "  return (self.a < x) & (x < self.b)\n",
      "/home/denis/anaconda3/lib/python3.6/site-packages/scipy/stats/_distn_infrastructure.py:1821: RuntimeWarning: invalid value encountered in less_equal\n",
      "  cond2 = cond0 & (x <= self.a)\n"
     ]
    },
    {
     "name": "stdout",
     "output_type": "stream",
     "text": [
      "Fitting 4 folds for each of 9000 candidates, totalling 36000 fits\n"
     ]
    },
    {
     "name": "stderr",
     "output_type": "stream",
     "text": [
      "[Parallel(n_jobs=-1)]: Done  40 tasks      | elapsed:    0.5s\n",
      "[Parallel(n_jobs=-1)]: Done 1240 tasks      | elapsed:   10.0s\n",
      "[Parallel(n_jobs=-1)]: Done 3240 tasks      | elapsed:   26.1s\n",
      "[Parallel(n_jobs=-1)]: Done 6040 tasks      | elapsed:   49.0s\n",
      "[Parallel(n_jobs=-1)]: Done 8092 tasks      | elapsed:  1.1min\n",
      "[Parallel(n_jobs=-1)]: Done 10292 tasks      | elapsed:  1.4min\n",
      "[Parallel(n_jobs=-1)]: Done 12892 tasks      | elapsed:  1.7min\n",
      "[Parallel(n_jobs=-1)]: Done 15892 tasks      | elapsed:  2.1min\n",
      "[Parallel(n_jobs=-1)]: Done 19292 tasks      | elapsed:  2.6min\n",
      "[Parallel(n_jobs=-1)]: Done 23092 tasks      | elapsed:  3.1min\n",
      "[Parallel(n_jobs=-1)]: Done 27292 tasks      | elapsed:  3.7min\n",
      "[Parallel(n_jobs=-1)]: Done 31892 tasks      | elapsed:  4.3min\n",
      "[Parallel(n_jobs=-1)]: Done 36000 out of 36000 | elapsed:  4.9min finished\n"
     ]
    },
    {
     "name": "stdout",
     "output_type": "stream",
     "text": [
      "Time elapsed: 0:04:51.783980\n",
      "-0.5353297882126665\n",
      "MSE : 99.860461%, \n",
      "In Melanesia\n"
     ]
    },
    {
     "name": "stderr",
     "output_type": "stream",
     "text": [
      "/home/denis/anaconda3/lib/python3.6/site-packages/sklearn/feature_selection/univariate_selection.py:298: RuntimeWarning: divide by zero encountered in true_divide\n",
      "  corr /= X_norms\n",
      "/home/denis/anaconda3/lib/python3.6/site-packages/sklearn/feature_selection/univariate_selection.py:303: RuntimeWarning: invalid value encountered in true_divide\n",
      "  F = corr ** 2 / (1 - corr ** 2) * degrees_of_freedom\n",
      "/home/denis/anaconda3/lib/python3.6/site-packages/scipy/stats/_distn_infrastructure.py:879: RuntimeWarning: invalid value encountered in greater\n",
      "  return (self.a < x) & (x < self.b)\n",
      "/home/denis/anaconda3/lib/python3.6/site-packages/scipy/stats/_distn_infrastructure.py:879: RuntimeWarning: invalid value encountered in less\n",
      "  return (self.a < x) & (x < self.b)\n",
      "/home/denis/anaconda3/lib/python3.6/site-packages/scipy/stats/_distn_infrastructure.py:1821: RuntimeWarning: invalid value encountered in less_equal\n",
      "  cond2 = cond0 & (x <= self.a)\n"
     ]
    },
    {
     "name": "stdout",
     "output_type": "stream",
     "text": [
      "Fitting 4 folds for each of 9000 candidates, totalling 36000 fits\n"
     ]
    },
    {
     "name": "stderr",
     "output_type": "stream",
     "text": [
      "[Parallel(n_jobs=-1)]: Done  32 tasks      | elapsed:    0.6s\n",
      "[Parallel(n_jobs=-1)]: Done 632 tasks      | elapsed:    8.1s\n",
      "[Parallel(n_jobs=-1)]: Done 1632 tasks      | elapsed:   21.8s\n",
      "[Parallel(n_jobs=-1)]: Done 2782 tasks      | elapsed:   38.4s\n",
      "[Parallel(n_jobs=-1)]: Done 3682 tasks      | elapsed:   51.4s\n",
      "[Parallel(n_jobs=-1)]: Done 4782 tasks      | elapsed:  1.1min\n",
      "[Parallel(n_jobs=-1)]: Done 6082 tasks      | elapsed:  1.4min\n",
      "[Parallel(n_jobs=-1)]: Done 7582 tasks      | elapsed:  1.8min\n",
      "[Parallel(n_jobs=-1)]: Done 9282 tasks      | elapsed:  2.2min\n",
      "[Parallel(n_jobs=-1)]: Done 11182 tasks      | elapsed:  2.6min\n",
      "[Parallel(n_jobs=-1)]: Done 13282 tasks      | elapsed:  3.1min\n",
      "[Parallel(n_jobs=-1)]: Done 15582 tasks      | elapsed:  3.6min\n",
      "[Parallel(n_jobs=-1)]: Done 18082 tasks      | elapsed:  4.2min\n",
      "[Parallel(n_jobs=-1)]: Done 20782 tasks      | elapsed:  4.8min\n",
      "[Parallel(n_jobs=-1)]: Done 23682 tasks      | elapsed:  5.5min\n",
      "[Parallel(n_jobs=-1)]: Done 26782 tasks      | elapsed:  6.2min\n",
      "[Parallel(n_jobs=-1)]: Done 30082 tasks      | elapsed:  7.0min\n",
      "[Parallel(n_jobs=-1)]: Done 33582 tasks      | elapsed:  7.8min\n",
      "[Parallel(n_jobs=-1)]: Done 36000 out of 36000 | elapsed:  8.4min finished\n"
     ]
    },
    {
     "name": "stdout",
     "output_type": "stream",
     "text": [
      "Time elapsed: 0:08:21.962615\n",
      "-0.18652850005296015\n",
      "MSE : 99.867675%, \n",
      "In Western Europe\n"
     ]
    },
    {
     "name": "stderr",
     "output_type": "stream",
     "text": [
      "/home/denis/anaconda3/lib/python3.6/site-packages/sklearn/feature_selection/univariate_selection.py:298: RuntimeWarning: divide by zero encountered in true_divide\n",
      "  corr /= X_norms\n",
      "/home/denis/anaconda3/lib/python3.6/site-packages/sklearn/feature_selection/univariate_selection.py:303: RuntimeWarning: invalid value encountered in true_divide\n",
      "  F = corr ** 2 / (1 - corr ** 2) * degrees_of_freedom\n",
      "/home/denis/anaconda3/lib/python3.6/site-packages/scipy/stats/_distn_infrastructure.py:879: RuntimeWarning: invalid value encountered in greater\n",
      "  return (self.a < x) & (x < self.b)\n",
      "/home/denis/anaconda3/lib/python3.6/site-packages/scipy/stats/_distn_infrastructure.py:879: RuntimeWarning: invalid value encountered in less\n",
      "  return (self.a < x) & (x < self.b)\n",
      "/home/denis/anaconda3/lib/python3.6/site-packages/scipy/stats/_distn_infrastructure.py:1821: RuntimeWarning: invalid value encountered in less_equal\n",
      "  cond2 = cond0 & (x <= self.a)\n"
     ]
    },
    {
     "name": "stdout",
     "output_type": "stream",
     "text": [
      "Fitting 4 folds for each of 9000 candidates, totalling 36000 fits\n"
     ]
    },
    {
     "name": "stderr",
     "output_type": "stream",
     "text": [
      "[Parallel(n_jobs=-1)]: Done  32 tasks      | elapsed:    0.8s\n",
      "[Parallel(n_jobs=-1)]: Done 632 tasks      | elapsed:    9.5s\n",
      "[Parallel(n_jobs=-1)]: Done 1264 tasks      | elapsed:   18.7s\n",
      "[Parallel(n_jobs=-1)]: Done 1964 tasks      | elapsed:   29.0s\n",
      "[Parallel(n_jobs=-1)]: Done 2864 tasks      | elapsed:   44.1s\n",
      "[Parallel(n_jobs=-1)]: Done 3964 tasks      | elapsed:  1.0min\n",
      "[Parallel(n_jobs=-1)]: Done 5264 tasks      | elapsed:  1.4min\n",
      "[Parallel(n_jobs=-1)]: Done 6764 tasks      | elapsed:  1.8min\n",
      "[Parallel(n_jobs=-1)]: Done 8464 tasks      | elapsed:  2.2min\n",
      "[Parallel(n_jobs=-1)]: Done 10364 tasks      | elapsed:  2.7min\n",
      "[Parallel(n_jobs=-1)]: Done 12464 tasks      | elapsed:  3.3min\n",
      "[Parallel(n_jobs=-1)]: Done 14764 tasks      | elapsed:  3.9min\n",
      "[Parallel(n_jobs=-1)]: Done 17264 tasks      | elapsed:  4.5min\n",
      "[Parallel(n_jobs=-1)]: Done 19964 tasks      | elapsed:  5.2min\n",
      "[Parallel(n_jobs=-1)]: Done 22864 tasks      | elapsed:  5.9min\n",
      "[Parallel(n_jobs=-1)]: Done 25964 tasks      | elapsed:  6.7min\n",
      "[Parallel(n_jobs=-1)]: Done 29264 tasks      | elapsed:  7.5min\n",
      "[Parallel(n_jobs=-1)]: Done 32764 tasks      | elapsed:  8.4min\n",
      "[Parallel(n_jobs=-1)]: Done 36000 out of 36000 | elapsed:  9.2min finished\n"
     ]
    },
    {
     "name": "stdout",
     "output_type": "stream",
     "text": [
      "Time elapsed: 0:09:15.992694\n",
      "-0.6488527198020617\n",
      "MSE : 99.672734%, \n",
      "In Northern Europe\n"
     ]
    },
    {
     "name": "stderr",
     "output_type": "stream",
     "text": [
      "/home/denis/anaconda3/lib/python3.6/site-packages/sklearn/feature_selection/univariate_selection.py:298: RuntimeWarning: divide by zero encountered in true_divide\n",
      "  corr /= X_norms\n",
      "/home/denis/anaconda3/lib/python3.6/site-packages/sklearn/feature_selection/univariate_selection.py:303: RuntimeWarning: invalid value encountered in true_divide\n",
      "  F = corr ** 2 / (1 - corr ** 2) * degrees_of_freedom\n",
      "/home/denis/anaconda3/lib/python3.6/site-packages/scipy/stats/_distn_infrastructure.py:879: RuntimeWarning: invalid value encountered in greater\n",
      "  return (self.a < x) & (x < self.b)\n",
      "/home/denis/anaconda3/lib/python3.6/site-packages/scipy/stats/_distn_infrastructure.py:879: RuntimeWarning: invalid value encountered in less\n",
      "  return (self.a < x) & (x < self.b)\n",
      "/home/denis/anaconda3/lib/python3.6/site-packages/scipy/stats/_distn_infrastructure.py:1821: RuntimeWarning: invalid value encountered in less_equal\n",
      "  cond2 = cond0 & (x <= self.a)\n"
     ]
    },
    {
     "name": "stdout",
     "output_type": "stream",
     "text": [
      "Fitting 4 folds for each of 9000 candidates, totalling 36000 fits\n"
     ]
    },
    {
     "name": "stderr",
     "output_type": "stream",
     "text": [
      "[Parallel(n_jobs=-1)]: Done  44 tasks      | elapsed:    0.8s\n",
      "[Parallel(n_jobs=-1)]: Done 1109 tasks      | elapsed:    9.6s\n",
      "[Parallel(n_jobs=-1)]: Done 2359 tasks      | elapsed:   19.8s\n",
      "[Parallel(n_jobs=-1)]: Done 4109 tasks      | elapsed:   34.5s\n",
      "[Parallel(n_jobs=-1)]: Done 6359 tasks      | elapsed:   53.5s\n",
      "[Parallel(n_jobs=-1)]: Done 9109 tasks      | elapsed:  1.3min\n",
      "[Parallel(n_jobs=-1)]: Done 12359 tasks      | elapsed:  1.7min\n",
      "[Parallel(n_jobs=-1)]: Done 16109 tasks      | elapsed:  2.2min\n",
      "[Parallel(n_jobs=-1)]: Done 20359 tasks      | elapsed:  2.8min\n",
      "[Parallel(n_jobs=-1)]: Done 25109 tasks      | elapsed:  3.5min\n",
      "[Parallel(n_jobs=-1)]: Done 30359 tasks      | elapsed:  4.2min\n",
      "[Parallel(n_jobs=-1)]: Done 36000 out of 36000 | elapsed:  5.0min finished\n"
     ]
    },
    {
     "name": "stdout",
     "output_type": "stream",
     "text": [
      "Time elapsed: 0:04:58.409038\n",
      "-0.25961563512422986\n",
      "MSE : 99.539361%, \n",
      "In Central Asia\n"
     ]
    },
    {
     "name": "stderr",
     "output_type": "stream",
     "text": [
      "/home/denis/anaconda3/lib/python3.6/site-packages/sklearn/feature_selection/univariate_selection.py:298: RuntimeWarning: divide by zero encountered in true_divide\n",
      "  corr /= X_norms\n",
      "/home/denis/anaconda3/lib/python3.6/site-packages/sklearn/feature_selection/univariate_selection.py:303: RuntimeWarning: invalid value encountered in true_divide\n",
      "  F = corr ** 2 / (1 - corr ** 2) * degrees_of_freedom\n",
      "/home/denis/anaconda3/lib/python3.6/site-packages/scipy/stats/_distn_infrastructure.py:879: RuntimeWarning: invalid value encountered in greater\n",
      "  return (self.a < x) & (x < self.b)\n",
      "/home/denis/anaconda3/lib/python3.6/site-packages/scipy/stats/_distn_infrastructure.py:879: RuntimeWarning: invalid value encountered in less\n",
      "  return (self.a < x) & (x < self.b)\n",
      "/home/denis/anaconda3/lib/python3.6/site-packages/scipy/stats/_distn_infrastructure.py:1821: RuntimeWarning: invalid value encountered in less_equal\n",
      "  cond2 = cond0 & (x <= self.a)\n"
     ]
    },
    {
     "name": "stdout",
     "output_type": "stream",
     "text": [
      "Fitting 4 folds for each of 9000 candidates, totalling 36000 fits\n"
     ]
    },
    {
     "name": "stderr",
     "output_type": "stream",
     "text": [
      "[Parallel(n_jobs=-1)]: Done  36 tasks      | elapsed:    0.6s\n",
      "[Parallel(n_jobs=-1)]: Done 936 tasks      | elapsed:    8.2s\n",
      "[Parallel(n_jobs=-1)]: Done 2436 tasks      | elapsed:   20.0s\n",
      "[Parallel(n_jobs=-1)]: Done 4536 tasks      | elapsed:   36.4s\n",
      "[Parallel(n_jobs=-1)]: Done 7236 tasks      | elapsed:   57.3s\n",
      "[Parallel(n_jobs=-1)]: Done 10536 tasks      | elapsed:  1.4min\n",
      "[Parallel(n_jobs=-1)]: Done 14436 tasks      | elapsed:  1.9min\n",
      "[Parallel(n_jobs=-1)]: Done 18936 tasks      | elapsed:  2.5min\n",
      "[Parallel(n_jobs=-1)]: Done 24036 tasks      | elapsed:  3.1min\n",
      "[Parallel(n_jobs=-1)]: Done 29736 tasks      | elapsed:  3.9min\n",
      "[Parallel(n_jobs=-1)]: Done 36000 out of 36000 | elapsed:  4.7min finished\n"
     ]
    },
    {
     "name": "stdout",
     "output_type": "stream",
     "text": [
      "Time elapsed: 0:04:42.237539\n",
      "-0.8392353557321246\n",
      "MSE : 95.706568%, \n",
      "In Eastern Asia\n"
     ]
    },
    {
     "name": "stderr",
     "output_type": "stream",
     "text": [
      "/home/denis/anaconda3/lib/python3.6/site-packages/sklearn/feature_selection/univariate_selection.py:298: RuntimeWarning: divide by zero encountered in true_divide\n",
      "  corr /= X_norms\n",
      "/home/denis/anaconda3/lib/python3.6/site-packages/sklearn/feature_selection/univariate_selection.py:303: RuntimeWarning: invalid value encountered in true_divide\n",
      "  F = corr ** 2 / (1 - corr ** 2) * degrees_of_freedom\n",
      "/home/denis/anaconda3/lib/python3.6/site-packages/scipy/stats/_distn_infrastructure.py:879: RuntimeWarning: invalid value encountered in greater\n",
      "  return (self.a < x) & (x < self.b)\n",
      "/home/denis/anaconda3/lib/python3.6/site-packages/scipy/stats/_distn_infrastructure.py:879: RuntimeWarning: invalid value encountered in less\n",
      "  return (self.a < x) & (x < self.b)\n",
      "/home/denis/anaconda3/lib/python3.6/site-packages/scipy/stats/_distn_infrastructure.py:1821: RuntimeWarning: invalid value encountered in less_equal\n",
      "  cond2 = cond0 & (x <= self.a)\n"
     ]
    },
    {
     "name": "stdout",
     "output_type": "stream",
     "text": [
      "Fitting 4 folds for each of 9000 candidates, totalling 36000 fits\n"
     ]
    },
    {
     "name": "stderr",
     "output_type": "stream",
     "text": [
      "[Parallel(n_jobs=-1)]: Done  44 tasks      | elapsed:    0.7s\n",
      "[Parallel(n_jobs=-1)]: Done 1544 tasks      | elapsed:   10.7s\n",
      "[Parallel(n_jobs=-1)]: Done 4044 tasks      | elapsed:   27.5s\n",
      "[Parallel(n_jobs=-1)]: Done 6074 tasks      | elapsed:   41.4s\n",
      "[Parallel(n_jobs=-1)]: Done 8324 tasks      | elapsed:   55.7s\n",
      "[Parallel(n_jobs=-1)]: Done 11074 tasks      | elapsed:  1.2min\n",
      "[Parallel(n_jobs=-1)]: Done 14324 tasks      | elapsed:  1.6min\n",
      "[Parallel(n_jobs=-1)]: Done 18074 tasks      | elapsed:  2.0min\n",
      "[Parallel(n_jobs=-1)]: Done 22324 tasks      | elapsed:  2.5min\n",
      "[Parallel(n_jobs=-1)]: Done 27074 tasks      | elapsed:  3.0min\n",
      "[Parallel(n_jobs=-1)]: Done 32324 tasks      | elapsed:  3.5min\n",
      "[Parallel(n_jobs=-1)]: Done 36000 out of 36000 | elapsed:  4.0min finished\n"
     ]
    },
    {
     "name": "stdout",
     "output_type": "stream",
     "text": [
      "Time elapsed: 0:03:58.042648\n",
      "-0.9858956051865295\n",
      "MSE : 97.580199%, \n",
      "In Northern America\n"
     ]
    },
    {
     "name": "stderr",
     "output_type": "stream",
     "text": [
      "/home/denis/anaconda3/lib/python3.6/site-packages/sklearn/feature_selection/univariate_selection.py:298: RuntimeWarning: divide by zero encountered in true_divide\n",
      "  corr /= X_norms\n",
      "/home/denis/anaconda3/lib/python3.6/site-packages/sklearn/feature_selection/univariate_selection.py:303: RuntimeWarning: invalid value encountered in true_divide\n",
      "  F = corr ** 2 / (1 - corr ** 2) * degrees_of_freedom\n",
      "/home/denis/anaconda3/lib/python3.6/site-packages/scipy/stats/_distn_infrastructure.py:879: RuntimeWarning: invalid value encountered in greater\n",
      "  return (self.a < x) & (x < self.b)\n",
      "/home/denis/anaconda3/lib/python3.6/site-packages/scipy/stats/_distn_infrastructure.py:879: RuntimeWarning: invalid value encountered in less\n",
      "  return (self.a < x) & (x < self.b)\n",
      "/home/denis/anaconda3/lib/python3.6/site-packages/scipy/stats/_distn_infrastructure.py:1821: RuntimeWarning: invalid value encountered in less_equal\n",
      "  cond2 = cond0 & (x <= self.a)\n"
     ]
    },
    {
     "name": "stdout",
     "output_type": "stream",
     "text": [
      "Fitting 4 folds for each of 9000 candidates, totalling 36000 fits\n"
     ]
    },
    {
     "name": "stderr",
     "output_type": "stream",
     "text": [
      "[Parallel(n_jobs=-1)]: Done  32 tasks      | elapsed:    0.4s\n",
      "[Parallel(n_jobs=-1)]: Done 632 tasks      | elapsed:    3.8s\n",
      "[Parallel(n_jobs=-1)]: Done 1632 tasks      | elapsed:   10.0s\n",
      "[Parallel(n_jobs=-1)]: Done 3032 tasks      | elapsed:   18.3s\n",
      "[Parallel(n_jobs=-1)]: Done 4832 tasks      | elapsed:   29.0s\n",
      "[Parallel(n_jobs=-1)]: Done 7032 tasks      | elapsed:   42.3s\n",
      "[Parallel(n_jobs=-1)]: Done 9632 tasks      | elapsed:   58.0s\n",
      "[Parallel(n_jobs=-1)]: Done 12632 tasks      | elapsed:  1.3min\n",
      "[Parallel(n_jobs=-1)]: Done 16032 tasks      | elapsed:  1.6min\n",
      "[Parallel(n_jobs=-1)]: Done 19832 tasks      | elapsed:  2.0min\n",
      "[Parallel(n_jobs=-1)]: Done 24032 tasks      | elapsed:  2.4min\n",
      "[Parallel(n_jobs=-1)]: Done 28632 tasks      | elapsed:  2.9min\n",
      "[Parallel(n_jobs=-1)]: Done 33632 tasks      | elapsed:  3.4min\n",
      "[Parallel(n_jobs=-1)]: Done 36000 out of 36000 | elapsed:  3.6min finished\n"
     ]
    },
    {
     "name": "stdout",
     "output_type": "stream",
     "text": [
      "Time elapsed: 0:03:37.405489\n",
      "-0.5744767657171072\n",
      "MSE : 99.875635%, \n",
      "In Polynesia\n"
     ]
    },
    {
     "name": "stderr",
     "output_type": "stream",
     "text": [
      "/home/denis/anaconda3/lib/python3.6/site-packages/sklearn/feature_selection/univariate_selection.py:298: RuntimeWarning: divide by zero encountered in true_divide\n",
      "  corr /= X_norms\n",
      "/home/denis/anaconda3/lib/python3.6/site-packages/sklearn/feature_selection/univariate_selection.py:303: RuntimeWarning: invalid value encountered in true_divide\n",
      "  F = corr ** 2 / (1 - corr ** 2) * degrees_of_freedom\n",
      "/home/denis/anaconda3/lib/python3.6/site-packages/scipy/stats/_distn_infrastructure.py:879: RuntimeWarning: invalid value encountered in greater\n",
      "  return (self.a < x) & (x < self.b)\n",
      "/home/denis/anaconda3/lib/python3.6/site-packages/scipy/stats/_distn_infrastructure.py:879: RuntimeWarning: invalid value encountered in less\n",
      "  return (self.a < x) & (x < self.b)\n",
      "/home/denis/anaconda3/lib/python3.6/site-packages/scipy/stats/_distn_infrastructure.py:1821: RuntimeWarning: invalid value encountered in less_equal\n",
      "  cond2 = cond0 & (x <= self.a)\n"
     ]
    },
    {
     "name": "stdout",
     "output_type": "stream",
     "text": [
      "Fitting 4 folds for each of 9000 candidates, totalling 36000 fits\n"
     ]
    },
    {
     "name": "stderr",
     "output_type": "stream",
     "text": [
      "[Parallel(n_jobs=-1)]: Done  40 tasks      | elapsed:    0.4s\n",
      "[Parallel(n_jobs=-1)]: Done 1240 tasks      | elapsed:    6.6s\n",
      "[Parallel(n_jobs=-1)]: Done 3240 tasks      | elapsed:   17.7s\n",
      "[Parallel(n_jobs=-1)]: Done 6040 tasks      | elapsed:   33.0s\n",
      "[Parallel(n_jobs=-1)]: Done 9640 tasks      | elapsed:   51.8s\n",
      "[Parallel(n_jobs=-1)]: Done 14040 tasks      | elapsed:  1.2min\n",
      "[Parallel(n_jobs=-1)]: Done 19240 tasks      | elapsed:  1.7min\n",
      "[Parallel(n_jobs=-1)]: Done 25240 tasks      | elapsed:  2.3min\n",
      "[Parallel(n_jobs=-1)]: Done 32040 tasks      | elapsed:  2.9min\n",
      "[Parallel(n_jobs=-1)]: Done 36000 out of 36000 | elapsed:  3.2min finished\n"
     ]
    },
    {
     "name": "stdout",
     "output_type": "stream",
     "text": [
      "Time elapsed: 0:03:14.247027\n",
      "-3.072412893101647\n",
      "MSE : 99.899309%, \n",
      "In Micronesia\n"
     ]
    },
    {
     "name": "stderr",
     "output_type": "stream",
     "text": [
      "/home/denis/anaconda3/lib/python3.6/site-packages/sklearn/feature_selection/univariate_selection.py:298: RuntimeWarning: divide by zero encountered in true_divide\n",
      "  corr /= X_norms\n",
      "/home/denis/anaconda3/lib/python3.6/site-packages/sklearn/feature_selection/univariate_selection.py:303: RuntimeWarning: invalid value encountered in true_divide\n",
      "  F = corr ** 2 / (1 - corr ** 2) * degrees_of_freedom\n",
      "/home/denis/anaconda3/lib/python3.6/site-packages/scipy/stats/_distn_infrastructure.py:879: RuntimeWarning: invalid value encountered in greater\n",
      "  return (self.a < x) & (x < self.b)\n",
      "/home/denis/anaconda3/lib/python3.6/site-packages/scipy/stats/_distn_infrastructure.py:879: RuntimeWarning: invalid value encountered in less\n",
      "  return (self.a < x) & (x < self.b)\n",
      "/home/denis/anaconda3/lib/python3.6/site-packages/scipy/stats/_distn_infrastructure.py:1821: RuntimeWarning: invalid value encountered in less_equal\n",
      "  cond2 = cond0 & (x <= self.a)\n"
     ]
    },
    {
     "name": "stdout",
     "output_type": "stream",
     "text": [
      "\n"
     ]
    }
   ],
   "source": [
    "Resmaking(df)"
   ]
  },
  {
   "cell_type": "code",
   "execution_count": 25,
   "metadata": {
    "ExecuteTime": {
     "end_time": "2018-04-16T06:58:49.689265Z",
     "start_time": "2018-04-16T06:55:47.243618Z"
    }
   },
   "outputs": [
    {
     "name": "stdout",
     "output_type": "stream",
     "text": [
      "Fitting 4 folds for each of 9000 candidates, totalling 36000 fits\n"
     ]
    },
    {
     "name": "stderr",
     "output_type": "stream",
     "text": [
      "[Parallel(n_jobs=-1)]: Done  48 tasks      | elapsed:    0.5s\n",
      "[Parallel(n_jobs=-1)]: Done 1848 tasks      | elapsed:    8.9s\n",
      "[Parallel(n_jobs=-1)]: Done 4848 tasks      | elapsed:   23.8s\n",
      "[Parallel(n_jobs=-1)]: Done 9048 tasks      | elapsed:   45.1s\n",
      "[Parallel(n_jobs=-1)]: Done 14448 tasks      | elapsed:  1.2min\n",
      "[Parallel(n_jobs=-1)]: Done 21048 tasks      | elapsed:  1.8min\n",
      "[Parallel(n_jobs=-1)]: Done 28848 tasks      | elapsed:  2.4min\n",
      "[Parallel(n_jobs=-1)]: Done 36000 out of 36000 | elapsed:  3.0min finished\n"
     ]
    },
    {
     "name": "stdout",
     "output_type": "stream",
     "text": [
      "Time elapsed: 0:03:02.127763\n",
      "-2.3220595251401783\n",
      "MSE : 99.938723%, \n",
      "In RUS\n"
     ]
    },
    {
     "name": "stderr",
     "output_type": "stream",
     "text": [
      "/home/denis/anaconda3/lib/python3.6/site-packages/sklearn/feature_selection/univariate_selection.py:298: RuntimeWarning: divide by zero encountered in true_divide\n",
      "  corr /= X_norms\n",
      "/home/denis/anaconda3/lib/python3.6/site-packages/sklearn/feature_selection/univariate_selection.py:303: RuntimeWarning: invalid value encountered in true_divide\n",
      "  F = corr ** 2 / (1 - corr ** 2) * degrees_of_freedom\n",
      "/home/denis/anaconda3/lib/python3.6/site-packages/scipy/stats/_distn_infrastructure.py:879: RuntimeWarning: invalid value encountered in greater\n",
      "  return (self.a < x) & (x < self.b)\n",
      "/home/denis/anaconda3/lib/python3.6/site-packages/scipy/stats/_distn_infrastructure.py:879: RuntimeWarning: invalid value encountered in less\n",
      "  return (self.a < x) & (x < self.b)\n",
      "/home/denis/anaconda3/lib/python3.6/site-packages/scipy/stats/_distn_infrastructure.py:1821: RuntimeWarning: invalid value encountered in less_equal\n",
      "  cond2 = cond0 & (x <= self.a)\n"
     ]
    }
   ],
   "source": [
    "Resmaking_for_contr(df, 'RUS')"
   ]
  },
  {
   "cell_type": "code",
   "execution_count": null,
   "metadata": {},
   "outputs": [],
   "source": []
  }
 ],
 "metadata": {
  "gist": {
   "data": {
    "description": "GitHub/python/RUDN/Treebased.ipynb",
    "public": false
   },
   "id": ""
  },
  "kernelspec": {
   "display_name": "Python 3",
   "language": "python",
   "name": "python3"
  },
  "language_info": {
   "codemirror_mode": {
    "name": "ipython",
    "version": 3
   },
   "file_extension": ".py",
   "mimetype": "text/x-python",
   "name": "python",
   "nbconvert_exporter": "python",
   "pygments_lexer": "ipython3",
   "version": "3.6.5"
  },
  "toc": {
   "base_numbering": 1,
   "nav_menu": {},
   "number_sections": true,
   "sideBar": true,
   "skip_h1_title": false,
   "title_cell": "Table of Contents",
   "title_sidebar": "Contents",
   "toc_cell": false,
   "toc_position": {},
   "toc_section_display": true,
   "toc_window_display": false
  }
 },
 "nbformat": 4,
 "nbformat_minor": 2
}
