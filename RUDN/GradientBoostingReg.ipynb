{
 "cells": [
  {
   "cell_type": "code",
   "execution_count": 1,
   "metadata": {
    "ExecuteTime": {
     "end_time": "2018-05-14T13:19:54.353253Z",
     "start_time": "2018-05-14T13:19:53.288609Z"
    },
    "scrolled": true
   },
   "outputs": [],
   "source": [
    "import pandas as pd\n",
    "import numpy as np\n",
    "\n",
    "import datetime\n",
    "\n",
    "from tqdm._tqdm_notebook import tqdm_notebook\n",
    "\n",
    "tqdm_notebook.pandas()\n",
    "\n",
    "import xgboost as xgb \n",
    "\n",
    "from sklearn.model_selection import RandomizedSearchCV, TimeSeriesSplit, train_test_split\n",
    "from sklearn.feature_selection import f_regression, mutual_info_regression\n",
    "from sklearn.metrics import mean_squared_error\n",
    "\n",
    "import graphviz\n",
    "\n",
    "import matplotlib.pyplot as plt\n",
    "%matplotlib inline"
   ]
  },
  {
   "cell_type": "code",
   "execution_count": 2,
   "metadata": {
    "ExecuteTime": {
     "end_time": "2018-05-14T13:19:54.357189Z",
     "start_time": "2018-05-14T13:19:54.354428Z"
    }
   },
   "outputs": [],
   "source": [
    "def fillnan(data, years_c):\n",
    "    for name in years_c:\n",
    "        #заменяем троеточия\n",
    "        data[name] = data[name].apply(lambda x: np.nan if x==('..') else float(x))\n",
    "\n",
    "    return data\n",
    "\n",
    "def dropempt(data, years_c):\n",
    "    data = fillnan(data, years_c)\n",
    "    return data.dropna(thresh=10)\n",
    "\n",
    "def Clearing(data):\n",
    "    years_c = [item for ind, item in enumerate(np.array(data.columns)) if item not in ['Country Name', 'Country Code','Series Code','Series Name']]\n",
    "    print ('Before clear:', len(data))\n",
    "\n",
    "    data = dropempt(data, years_c)\n",
    "\n",
    "    print ('After clear:', len(data))\n",
    "    return data"
   ]
  },
  {
   "cell_type": "code",
   "execution_count": 3,
   "metadata": {
    "ExecuteTime": {
     "end_time": "2018-05-14T13:20:04.606784Z",
     "start_time": "2018-05-14T13:20:04.601262Z"
    }
   },
   "outputs": [],
   "source": [
    "def Make_region(code, reg='region', by = 'name'):\n",
    "    #print code\n",
    "    if code in data_cnt[by].values:\n",
    "        #print code\n",
    "        name = (data_cnt[by][data_cnt[by] == code].index.tolist())[0]\n",
    "        return data_cnt[reg].at[name]\n",
    "    else:\n",
    "        return np.nan\n",
    "\n",
    "def Sorting(data, reg='region'):\n",
    "    #if data['Country Name'].get_value(len(data)-5) == np.nan:\n",
    "    #    data=data.drop(data.index[[range(len(data)-5, len(data))]]).reset_index()\n",
    "    if 'Region' not in data.columns:\n",
    "        data['Region'] = data['Country Name'].progress_apply(lambda x: Make_region(x, reg))\n",
    "        data['Region'].dropna()\n",
    "        return data.reset_index()\n",
    "    else:\n",
    "        return data"
   ]
  },
  {
   "cell_type": "code",
   "execution_count": 4,
   "metadata": {
    "ExecuteTime": {
     "end_time": "2018-05-14T13:21:30.819788Z",
     "start_time": "2018-05-14T13:20:04.801182Z"
    }
   },
   "outputs": [
    {
     "name": "stdout",
     "output_type": "stream",
     "text": [
      "Before clear: 398541\n",
      "After clear: 104445\n"
     ]
    },
    {
     "data": {
      "application/vnd.jupyter.widget-view+json": {
       "model_id": "9f760605b45c4901836523147979018b",
       "version_major": 2,
       "version_minor": 0
      },
      "text/plain": [
       "HBox(children=(IntProgress(value=0, max=104445), HTML(value='')))"
      ]
     },
     "metadata": {},
     "output_type": "display_data"
    },
    {
     "name": "stdout",
     "output_type": "stream",
     "text": [
      "\n"
     ]
    }
   ],
   "source": [
    "df = pd.read_excel('data/Data_Extract_From_Gender_Statistics.xlsx', encoding = 'utf8').\\\n",
    "            append(pd.read_excel('data/Data_Extract_From_Health_Nutrition_and_Population_Statistics.xlsx', encoding='utf8')).\\\n",
    "            append(pd.read_excel('data/Data_Extract_From_Millennium_Development_Goals.xlsx', encoding='utf8')).\\\n",
    "            append(pd.read_excel('data/Data_Extract_From_Health_Nutrition_and_Population_Statistics_by_Wealth_Quintile.xlsx',encoding='utf8'))\n",
    "\n",
    "data_cnt = pd.read_csv('all.csv', encoding='utf8')\n",
    "df = Clearing(df)\n",
    "defen = pd.read_excel('data/Data_Extract_From_Gender_Statistics.xlsx', sheet_name=1, encoding = 'utf8').\\\n",
    "               append(pd.read_excel('data/Data_Extract_From_Health_Nutrition_and_Population_Statistics.xlsx', sheet_name=1, encoding='utf8')).\\\n",
    "               append(pd.read_excel('data/Data_Extract_From_Millennium_Development_Goals.xlsx', sheet_name=1, encoding='utf8'))\n",
    "\n",
    "df = Sorting(df, 'sub-region')\n",
    "df.drop_duplicates(inplace = True)\n",
    "df.drop(columns = ['index','2016 [YR2016]'], inplace=True)"
   ]
  },
  {
   "cell_type": "code",
   "execution_count": 7,
   "metadata": {
    "ExecuteTime": {
     "end_time": "2018-05-14T13:24:54.318387Z",
     "start_time": "2018-05-14T13:24:54.310229Z"
    }
   },
   "outputs": [],
   "source": [
    "def Testing_grid_xgb(X_train, Y_train):\n",
    "    cv = TimeSeriesSplit(n_splits=8)\n",
    "    clf = xgb.XGBRegressor()        \n",
    "    parameters = {\n",
    "        'scale_pos_weight' : [1, 1.5, 1.2],\n",
    "        'objective':['reg:linear'],\n",
    "        'learning_rate': [0.05, 0.1, 0.2, 0.3],\n",
    "        'max_depth': [3 ,4 ,6, 5],\n",
    "        'min_child_weight': [2, 3 ,4, 5],\n",
    "        'max_delta_step': [0, 0.2, 0.8],\n",
    "        'reg_lambda': [0.5, 0.8, 0],\n",
    "        'reg_alpha': [0.5, 0.8, 0],\n",
    "        'silent': [1],\n",
    "        'subsample': [0.2, 0.05, 0.3, 0.4],\n",
    "        'colsample_bytree': [0.7, 0.8, 1],\n",
    "        'n_estimators': [100 ,250, 450],\n",
    "        'base_score' : [0.5, 1],\n",
    "        'gamma': [0, 0.5, 1]\n",
    "    }\n",
    "    \n",
    "    start_time = datetime.datetime.now()\n",
    "    gs = RandomizedSearchCV(clf, scoring='neg_mean_squared_error', param_distributions=parameters, \n",
    "                      cv=cv, n_jobs = -1, verbose=True,  n_iter=10000)\n",
    "    gs.fit(X_train,Y_train)\n",
    "    print ('Time elapsed:', datetime.datetime.now() - start_time)\n",
    "    \n",
    "    means = gs.cv_results_['mean_test_score']\n",
    "    \n",
    "    print (max(means))\n",
    "    return gs.best_params_"
   ]
  },
  {
   "cell_type": "code",
   "execution_count": 8,
   "metadata": {
    "ExecuteTime": {
     "end_time": "2018-05-14T13:24:55.344764Z",
     "start_time": "2018-05-14T13:24:55.337725Z"
    }
   },
   "outputs": [],
   "source": [
    "def makexy(df, country = 'RUS'):\n",
    "    #Years\n",
    "    years_c = [item for ind, item in enumerate(np.array(df.columns)) if item not in ['Region','Country Name', 'Country Code','Series Code','Series Name', 'index']]\n",
    "    \n",
    "    #split country\n",
    "    df = df[(df['Country Code']== country)].copy()\n",
    "    df.drop_duplicates(inplace = True)\n",
    "    \n",
    "    y = df[df['Series Name'] == 'Life expectancy at birth, total (years)'][years_c].interpolate(axis=1).T\n",
    "    \n",
    "    if y.shape[1] == 1:\n",
    "        y.columns = ['Life expectancy at birth, total (years)']\n",
    "    else:\n",
    "        return pd.DataFrame(), pd.DataFrame()\n",
    "    \n",
    "    #Transponenting and then adding \n",
    "    mask = ((df['Series Name'] != 'Life expectancy at birth, male (years)') & \n",
    "            (df['Series Name'] != 'Life expectancy at birth, female (years)') &\n",
    "            (df['Series Name'] != 'Life expectancy at birth, total (years)'))\n",
    "    \n",
    "    X = df[mask][years_c].T\n",
    "    X.columns = df[(df['Country Code']== country) & mask]['Series Name']\n",
    "    X.reset_index(inplace = True, drop = True)\n",
    "    del df\n",
    "    \n",
    "    X['Years'] = [int(name.split()[0]) for name in years_c]\n",
    "    X['Region_code'] = int(Make_region(country,'region-code', by = 'alpha-3'))\n",
    "    X['Reion_sub_code'] = int(Make_region(country, 'sub-region-code', 'alpha-3'))\n",
    "    X['Country_code'] = int(Make_region(country, 'country-code', 'alpha-3'))\n",
    "    return X.reset_index(drop = True).fillna(method='pad'), y.reset_index(drop = True).fillna(method='pad')\n",
    "\n",
    "def train_set(df, region = 'Eastern Europe'):\n",
    "    x_train, y_train = pd.DataFrame(), pd.DataFrame()\n",
    "    for country in df[df['Region'] == region]['Country Code'].unique():\n",
    "        tmp = makexy(df, country)\n",
    "        x_train = pd.concat([tmp[0], x_train], axis=0).fillna(-999)\n",
    "        y_train = pd.concat([tmp[1], y_train], axis=0).fillna(-999)\n",
    "    return x_train.as_matrix(), y_train.as_matrix(), x_train.columns, x_train\n",
    "    "
   ]
  },
  {
   "cell_type": "code",
   "execution_count": 7,
   "metadata": {
    "ExecuteTime": {
     "end_time": "2018-05-09T23:12:09.912724Z",
     "start_time": "2018-05-09T23:12:09.899886Z"
    }
   },
   "outputs": [],
   "source": [
    "def Resmaking(df):\n",
    "    for region in tqdm_notebook(df['Region'].dropna().unique()):\n",
    "        tmp = train_set(df, region)\n",
    "        X_train, X_test, y_train, y_test = train_test_split(tmp[0], tmp[1], test_size=0.25,\n",
    "                                                            random_state=42)\n",
    "        p = Testing_grid_xgb(X_train, y_train)\n",
    "        \n",
    "        model = xgb.XGBRegressor(max_depth=p['max_depth'], learning_rate = p['learning_rate'], \n",
    "                                 n_estimators = p['n_estimators'], objective = p['objective'], \n",
    "                                 gamma = p['gamma'], min_child_weight = p['min_child_weight'], \n",
    "                                 max_delta_step = p['max_delta_step'], subsample = p['subsample'], \n",
    "                                 colsample_bytree = p['colsample_bytree'], reg_alpha = p['reg_alpha'], \n",
    "                                 reg_lambda = p['reg_lambda'], scale_pos_weight = p['scale_pos_weight'], \n",
    "                                 base_score = p['base_score'])\n",
    "        model.fit(X_train, y_train)\n",
    "        \n",
    "        print ('MSE : {0:f}%, \\nIn {1:s}'.format(100-mean_squared_error(model.predict(X_test), y_test), region))\n",
    "        \n",
    "        model.fit(tmp[0], tmp[1])\n",
    "        \n",
    "        rez = pd.DataFrame(model.feature_importances_, index = tmp[2]).sort_values(by = [0], ascending=False)\n",
    "        rez[rez[0]!=0].to_excel('Importance/Varible_reg_in_'+str(region)+'.xlsx')\n",
    "        \n",
    "        rez = pd.concat([pd.DataFrame(f_regression(tmp[0], tmp[1].ravel())[0], columns=['F-value'], index=tmp[2]),\n",
    "                         pd.DataFrame(f_regression(tmp[0], tmp[1].ravel())[1], columns=['p-value'], index=tmp[2])], axis=1)\n",
    "        rez['p-value'] = rez['p-value'].apply(lambda x: round(x, 5))\n",
    "        \n",
    "        rez[rez['p-value']<0.01].sort_values(by = ['F-value'], ascending=False).to_excel('Importance/Varible_f_reg_in_'+str(region)+'.xlsx')\n",
    "        \n",
    "        rez = pd.DataFrame(mutual_info_regression(tmp[0], tmp[1].ravel()),\n",
    "                           index = tmp[2]).sort_values(by = [0], ascending=False)\n",
    "        rez[rez[0]!=0].to_excel('Importance/Varible_muatal_reg_in_'+str(region)+'.xlsx')"
   ]
  },
  {
   "cell_type": "code",
   "execution_count": 8,
   "metadata": {
    "ExecuteTime": {
     "end_time": "2018-05-10T04:42:24.777183Z",
     "start_time": "2018-05-09T23:12:09.913700Z"
    },
    "scrolled": true
   },
   "outputs": [
    {
     "data": {
      "application/vnd.jupyter.widget-view+json": {
       "model_id": "cc232089038c4d409ed3aff8a32c0112",
       "version_major": 2,
       "version_minor": 0
      },
      "text/plain": [
       "HBox(children=(IntProgress(value=0, max=22), HTML(value='')))"
      ]
     },
     "metadata": {},
     "output_type": "display_data"
    },
    {
     "name": "stdout",
     "output_type": "stream",
     "text": [
      "Fitting 8 folds for each of 10000 candidates, totalling 80000 fits\n"
     ]
    },
    {
     "name": "stderr",
     "output_type": "stream",
     "text": [
      "[Parallel(n_jobs=-1)]: Done  44 tasks      | elapsed:    1.1s\n",
      "[Parallel(n_jobs=-1)]: Done 691 tasks      | elapsed:   10.4s\n",
      "[Parallel(n_jobs=-1)]: Done 1191 tasks      | elapsed:   18.2s\n",
      "[Parallel(n_jobs=-1)]: Done 1891 tasks      | elapsed:   28.3s\n",
      "[Parallel(n_jobs=-1)]: Done 2791 tasks      | elapsed:   39.8s\n",
      "[Parallel(n_jobs=-1)]: Done 3891 tasks      | elapsed:   56.0s\n",
      "[Parallel(n_jobs=-1)]: Done 5191 tasks      | elapsed:  1.2min\n",
      "[Parallel(n_jobs=-1)]: Done 6691 tasks      | elapsed:  1.5min\n",
      "[Parallel(n_jobs=-1)]: Done 8391 tasks      | elapsed:  1.9min\n",
      "[Parallel(n_jobs=-1)]: Done 10291 tasks      | elapsed:  2.3min\n",
      "[Parallel(n_jobs=-1)]: Done 12391 tasks      | elapsed:  2.8min\n",
      "[Parallel(n_jobs=-1)]: Done 14691 tasks      | elapsed:  3.3min\n",
      "[Parallel(n_jobs=-1)]: Done 17191 tasks      | elapsed:  3.8min\n",
      "[Parallel(n_jobs=-1)]: Done 19891 tasks      | elapsed:  4.4min\n",
      "[Parallel(n_jobs=-1)]: Done 22791 tasks      | elapsed:  5.0min\n",
      "[Parallel(n_jobs=-1)]: Done 25891 tasks      | elapsed:  5.7min\n",
      "[Parallel(n_jobs=-1)]: Done 29191 tasks      | elapsed:  6.4min\n",
      "[Parallel(n_jobs=-1)]: Done 32691 tasks      | elapsed:  7.2min\n",
      "[Parallel(n_jobs=-1)]: Done 36391 tasks      | elapsed:  8.1min\n",
      "[Parallel(n_jobs=-1)]: Done 40291 tasks      | elapsed:  9.0min\n",
      "[Parallel(n_jobs=-1)]: Done 44391 tasks      | elapsed:  9.9min\n",
      "[Parallel(n_jobs=-1)]: Done 48691 tasks      | elapsed: 10.8min\n",
      "[Parallel(n_jobs=-1)]: Done 53191 tasks      | elapsed: 11.8min\n",
      "[Parallel(n_jobs=-1)]: Done 57891 tasks      | elapsed: 12.8min\n",
      "[Parallel(n_jobs=-1)]: Done 62791 tasks      | elapsed: 13.9min\n",
      "[Parallel(n_jobs=-1)]: Done 67891 tasks      | elapsed: 15.0min\n",
      "[Parallel(n_jobs=-1)]: Done 73191 tasks      | elapsed: 16.1min\n",
      "[Parallel(n_jobs=-1)]: Done 78691 tasks      | elapsed: 17.3min\n",
      "[Parallel(n_jobs=-1)]: Done 79977 out of 80000 | elapsed: 17.5min remaining:    0.3s\n",
      "[Parallel(n_jobs=-1)]: Done 80000 out of 80000 | elapsed: 17.6min finished\n"
     ]
    },
    {
     "name": "stdout",
     "output_type": "stream",
     "text": [
      "Time elapsed: 0:17:33.847840\n",
      "-1.827964772277412\n",
      "MSE : 99.643631%, \n",
      "In Southern Asia\n"
     ]
    },
    {
     "name": "stderr",
     "output_type": "stream",
     "text": [
      "/home/denis/anaconda3/lib/python3.6/site-packages/sklearn/feature_selection/univariate_selection.py:298: RuntimeWarning: divide by zero encountered in true_divide\n",
      "  corr /= X_norms\n",
      "/home/denis/anaconda3/lib/python3.6/site-packages/sklearn/feature_selection/univariate_selection.py:303: RuntimeWarning: invalid value encountered in true_divide\n",
      "  F = corr ** 2 / (1 - corr ** 2) * degrees_of_freedom\n",
      "/home/denis/anaconda3/lib/python3.6/site-packages/scipy/stats/_distn_infrastructure.py:879: RuntimeWarning: invalid value encountered in greater\n",
      "  return (self.a < x) & (x < self.b)\n",
      "/home/denis/anaconda3/lib/python3.6/site-packages/scipy/stats/_distn_infrastructure.py:879: RuntimeWarning: invalid value encountered in less\n",
      "  return (self.a < x) & (x < self.b)\n",
      "/home/denis/anaconda3/lib/python3.6/site-packages/scipy/stats/_distn_infrastructure.py:1821: RuntimeWarning: invalid value encountered in less_equal\n",
      "  cond2 = cond0 & (x <= self.a)\n"
     ]
    },
    {
     "name": "stdout",
     "output_type": "stream",
     "text": [
      "Fitting 8 folds for each of 10000 candidates, totalling 80000 fits\n"
     ]
    },
    {
     "name": "stderr",
     "output_type": "stream",
     "text": [
      "[Parallel(n_jobs=-1)]: Done  36 tasks      | elapsed:    0.6s\n",
      "[Parallel(n_jobs=-1)]: Done 936 tasks      | elapsed:    7.0s\n",
      "[Parallel(n_jobs=-1)]: Done 2436 tasks      | elapsed:   18.2s\n",
      "[Parallel(n_jobs=-1)]: Done 4536 tasks      | elapsed:   34.7s\n",
      "[Parallel(n_jobs=-1)]: Done 7236 tasks      | elapsed:   56.3s\n",
      "[Parallel(n_jobs=-1)]: Done 10536 tasks      | elapsed:  1.4min\n",
      "[Parallel(n_jobs=-1)]: Done 14436 tasks      | elapsed:  1.9min\n",
      "[Parallel(n_jobs=-1)]: Done 18936 tasks      | elapsed:  2.4min\n",
      "[Parallel(n_jobs=-1)]: Done 24036 tasks      | elapsed:  3.1min\n",
      "[Parallel(n_jobs=-1)]: Done 29736 tasks      | elapsed:  3.9min\n",
      "[Parallel(n_jobs=-1)]: Done 36036 tasks      | elapsed:  4.8min\n",
      "[Parallel(n_jobs=-1)]: Done 42936 tasks      | elapsed:  5.7min\n",
      "[Parallel(n_jobs=-1)]: Done 50436 tasks      | elapsed:  6.7min\n",
      "[Parallel(n_jobs=-1)]: Done 58536 tasks      | elapsed:  7.8min\n",
      "[Parallel(n_jobs=-1)]: Done 67236 tasks      | elapsed:  9.0min\n",
      "[Parallel(n_jobs=-1)]: Done 76536 tasks      | elapsed: 10.2min\n",
      "[Parallel(n_jobs=-1)]: Done 80000 out of 80000 | elapsed: 10.7min finished\n"
     ]
    },
    {
     "name": "stdout",
     "output_type": "stream",
     "text": [
      "Time elapsed: 0:10:40.901152\n",
      "-0.9859103297383882\n",
      "MSE : 99.729860%, \n",
      "In Northern Africa\n"
     ]
    },
    {
     "name": "stderr",
     "output_type": "stream",
     "text": [
      "/home/denis/anaconda3/lib/python3.6/site-packages/sklearn/feature_selection/univariate_selection.py:298: RuntimeWarning: divide by zero encountered in true_divide\n",
      "  corr /= X_norms\n",
      "/home/denis/anaconda3/lib/python3.6/site-packages/sklearn/feature_selection/univariate_selection.py:303: RuntimeWarning: invalid value encountered in true_divide\n",
      "  F = corr ** 2 / (1 - corr ** 2) * degrees_of_freedom\n",
      "/home/denis/anaconda3/lib/python3.6/site-packages/scipy/stats/_distn_infrastructure.py:879: RuntimeWarning: invalid value encountered in greater\n",
      "  return (self.a < x) & (x < self.b)\n",
      "/home/denis/anaconda3/lib/python3.6/site-packages/scipy/stats/_distn_infrastructure.py:879: RuntimeWarning: invalid value encountered in less\n",
      "  return (self.a < x) & (x < self.b)\n",
      "/home/denis/anaconda3/lib/python3.6/site-packages/scipy/stats/_distn_infrastructure.py:1821: RuntimeWarning: invalid value encountered in less_equal\n",
      "  cond2 = cond0 & (x <= self.a)\n"
     ]
    },
    {
     "name": "stdout",
     "output_type": "stream",
     "text": [
      "Fitting 8 folds for each of 10000 candidates, totalling 80000 fits\n"
     ]
    },
    {
     "name": "stderr",
     "output_type": "stream",
     "text": [
      "[Parallel(n_jobs=-1)]: Done  29 tasks      | elapsed:    0.4s\n",
      "[Parallel(n_jobs=-1)]: Done 588 tasks      | elapsed:    5.6s\n",
      "[Parallel(n_jobs=-1)]: Done 1588 tasks      | elapsed:   14.5s\n",
      "[Parallel(n_jobs=-1)]: Done 2988 tasks      | elapsed:   27.7s\n",
      "[Parallel(n_jobs=-1)]: Done 4788 tasks      | elapsed:   44.3s\n",
      "[Parallel(n_jobs=-1)]: Done 6988 tasks      | elapsed:  1.0min\n",
      "[Parallel(n_jobs=-1)]: Done 9588 tasks      | elapsed:  1.5min\n",
      "[Parallel(n_jobs=-1)]: Done 12588 tasks      | elapsed:  1.9min\n",
      "[Parallel(n_jobs=-1)]: Done 15988 tasks      | elapsed:  2.4min\n",
      "[Parallel(n_jobs=-1)]: Done 19788 tasks      | elapsed:  3.0min\n",
      "[Parallel(n_jobs=-1)]: Done 23988 tasks      | elapsed:  3.6min\n",
      "[Parallel(n_jobs=-1)]: Done 28588 tasks      | elapsed:  4.3min\n",
      "[Parallel(n_jobs=-1)]: Done 33588 tasks      | elapsed:  5.1min\n",
      "[Parallel(n_jobs=-1)]: Done 38988 tasks      | elapsed:  5.9min\n",
      "[Parallel(n_jobs=-1)]: Done 44788 tasks      | elapsed:  6.8min\n",
      "[Parallel(n_jobs=-1)]: Done 50988 tasks      | elapsed:  7.7min\n",
      "[Parallel(n_jobs=-1)]: Done 57588 tasks      | elapsed:  8.7min\n",
      "[Parallel(n_jobs=-1)]: Done 64588 tasks      | elapsed:  9.8min\n",
      "[Parallel(n_jobs=-1)]: Done 71988 tasks      | elapsed: 10.9min\n",
      "[Parallel(n_jobs=-1)]: Done 79788 tasks      | elapsed: 12.0min\n",
      "[Parallel(n_jobs=-1)]: Done 80000 out of 80000 | elapsed: 12.0min finished\n"
     ]
    },
    {
     "name": "stdout",
     "output_type": "stream",
     "text": [
      "Time elapsed: 0:12:03.226434\n",
      "-3.938847076268569\n",
      "MSE : 99.255567%, \n",
      "In Middle Africa\n"
     ]
    },
    {
     "name": "stderr",
     "output_type": "stream",
     "text": [
      "/home/denis/anaconda3/lib/python3.6/site-packages/sklearn/feature_selection/univariate_selection.py:298: RuntimeWarning: divide by zero encountered in true_divide\n",
      "  corr /= X_norms\n",
      "/home/denis/anaconda3/lib/python3.6/site-packages/sklearn/feature_selection/univariate_selection.py:303: RuntimeWarning: invalid value encountered in true_divide\n",
      "  F = corr ** 2 / (1 - corr ** 2) * degrees_of_freedom\n",
      "/home/denis/anaconda3/lib/python3.6/site-packages/scipy/stats/_distn_infrastructure.py:879: RuntimeWarning: invalid value encountered in greater\n",
      "  return (self.a < x) & (x < self.b)\n",
      "/home/denis/anaconda3/lib/python3.6/site-packages/scipy/stats/_distn_infrastructure.py:879: RuntimeWarning: invalid value encountered in less\n",
      "  return (self.a < x) & (x < self.b)\n",
      "/home/denis/anaconda3/lib/python3.6/site-packages/scipy/stats/_distn_infrastructure.py:1821: RuntimeWarning: invalid value encountered in less_equal\n",
      "  cond2 = cond0 & (x <= self.a)\n"
     ]
    },
    {
     "name": "stdout",
     "output_type": "stream",
     "text": [
      "Fitting 8 folds for each of 10000 candidates, totalling 80000 fits\n"
     ]
    },
    {
     "name": "stderr",
     "output_type": "stream",
     "text": [
      "[Parallel(n_jobs=-1)]: Done  36 tasks      | elapsed:    0.9s\n",
      "[Parallel(n_jobs=-1)]: Done 582 tasks      | elapsed:   11.4s\n",
      "[Parallel(n_jobs=-1)]: Done 1332 tasks      | elapsed:   24.2s\n",
      "[Parallel(n_jobs=-1)]: Done 2382 tasks      | elapsed:   42.4s\n",
      "[Parallel(n_jobs=-1)]: Done 2923 tasks      | elapsed:   53.9s\n",
      "[Parallel(n_jobs=-1)]: Done 3742 tasks      | elapsed:  1.2min\n",
      "[Parallel(n_jobs=-1)]: Done 4476 tasks      | elapsed:  1.4min\n",
      "[Parallel(n_jobs=-1)]: Done 5976 tasks      | elapsed:  1.9min\n",
      "[Parallel(n_jobs=-1)]: Done 7676 tasks      | elapsed:  2.4min\n",
      "[Parallel(n_jobs=-1)]: Done 9576 tasks      | elapsed:  3.0min\n",
      "[Parallel(n_jobs=-1)]: Done 11676 tasks      | elapsed:  3.6min\n",
      "[Parallel(n_jobs=-1)]: Done 13976 tasks      | elapsed:  4.3min\n",
      "[Parallel(n_jobs=-1)]: Done 16476 tasks      | elapsed:  5.1min\n",
      "[Parallel(n_jobs=-1)]: Done 19176 tasks      | elapsed:  5.9min\n",
      "[Parallel(n_jobs=-1)]: Done 22076 tasks      | elapsed:  6.8min\n",
      "[Parallel(n_jobs=-1)]: Done 24775 tasks      | elapsed:  7.7min\n",
      "[Parallel(n_jobs=-1)]: Done 26425 tasks      | elapsed:  8.2min\n",
      "[Parallel(n_jobs=-1)]: Done 29881 tasks      | elapsed:  9.3min\n",
      "[Parallel(n_jobs=-1)]: Done 33581 tasks      | elapsed: 10.5min\n",
      "[Parallel(n_jobs=-1)]: Done 37481 tasks      | elapsed: 11.7min\n",
      "[Parallel(n_jobs=-1)]: Done 41581 tasks      | elapsed: 13.0min\n",
      "[Parallel(n_jobs=-1)]: Done 45881 tasks      | elapsed: 14.3min\n",
      "[Parallel(n_jobs=-1)]: Done 50381 tasks      | elapsed: 15.8min\n",
      "[Parallel(n_jobs=-1)]: Done 55081 tasks      | elapsed: 17.2min\n",
      "[Parallel(n_jobs=-1)]: Done 59981 tasks      | elapsed: 18.7min\n",
      "[Parallel(n_jobs=-1)]: Done 65081 tasks      | elapsed: 20.3min\n",
      "[Parallel(n_jobs=-1)]: Done 70381 tasks      | elapsed: 21.9min\n",
      "[Parallel(n_jobs=-1)]: Done 75881 tasks      | elapsed: 23.5min\n",
      "[Parallel(n_jobs=-1)]: Done 79977 out of 80000 | elapsed: 24.8min remaining:    0.4s\n",
      "[Parallel(n_jobs=-1)]: Done 80000 out of 80000 | elapsed: 24.8min finished\n"
     ]
    },
    {
     "name": "stdout",
     "output_type": "stream",
     "text": [
      "Time elapsed: 0:24:47.836603\n",
      "-0.4382147285494618\n",
      "MSE : 99.878580%, \n",
      "In South America\n"
     ]
    },
    {
     "name": "stderr",
     "output_type": "stream",
     "text": [
      "/home/denis/anaconda3/lib/python3.6/site-packages/sklearn/feature_selection/univariate_selection.py:298: RuntimeWarning: divide by zero encountered in true_divide\n",
      "  corr /= X_norms\n",
      "/home/denis/anaconda3/lib/python3.6/site-packages/sklearn/feature_selection/univariate_selection.py:303: RuntimeWarning: invalid value encountered in true_divide\n",
      "  F = corr ** 2 / (1 - corr ** 2) * degrees_of_freedom\n",
      "/home/denis/anaconda3/lib/python3.6/site-packages/scipy/stats/_distn_infrastructure.py:879: RuntimeWarning: invalid value encountered in greater\n",
      "  return (self.a < x) & (x < self.b)\n",
      "/home/denis/anaconda3/lib/python3.6/site-packages/scipy/stats/_distn_infrastructure.py:879: RuntimeWarning: invalid value encountered in less\n",
      "  return (self.a < x) & (x < self.b)\n",
      "/home/denis/anaconda3/lib/python3.6/site-packages/scipy/stats/_distn_infrastructure.py:1821: RuntimeWarning: invalid value encountered in less_equal\n",
      "  cond2 = cond0 & (x <= self.a)\n"
     ]
    },
    {
     "name": "stdout",
     "output_type": "stream",
     "text": [
      "Fitting 8 folds for each of 10000 candidates, totalling 80000 fits\n"
     ]
    },
    {
     "name": "stderr",
     "output_type": "stream",
     "text": [
      "[Parallel(n_jobs=-1)]: Done  29 tasks      | elapsed:    0.5s\n",
      "[Parallel(n_jobs=-1)]: Done 328 tasks      | elapsed:    6.3s\n",
      "[Parallel(n_jobs=-1)]: Done 828 tasks      | elapsed:   15.5s\n",
      "[Parallel(n_jobs=-1)]: Done 1528 tasks      | elapsed:   28.7s\n",
      "[Parallel(n_jobs=-1)]: Done 2428 tasks      | elapsed:   48.7s\n",
      "[Parallel(n_jobs=-1)]: Done 3223 tasks      | elapsed:  1.1min\n",
      "[Parallel(n_jobs=-1)]: Done 4267 tasks      | elapsed:  1.4min\n",
      "[Parallel(n_jobs=-1)]: Done 5509 tasks      | elapsed:  1.9min\n",
      "[Parallel(n_jobs=-1)]: Done 6359 tasks      | elapsed:  2.2min\n",
      "[Parallel(n_jobs=-1)]: Done 7309 tasks      | elapsed:  2.5min\n",
      "[Parallel(n_jobs=-1)]: Done 8359 tasks      | elapsed:  2.9min\n",
      "[Parallel(n_jobs=-1)]: Done 9509 tasks      | elapsed:  3.3min\n",
      "[Parallel(n_jobs=-1)]: Done 11105 tasks      | elapsed:  3.9min\n",
      "[Parallel(n_jobs=-1)]: Done 13674 tasks      | elapsed:  4.8min\n",
      "[Parallel(n_jobs=-1)]: Done 15124 tasks      | elapsed:  5.2min\n",
      "[Parallel(n_jobs=-1)]: Done 16872 tasks      | elapsed:  5.8min\n",
      "[Parallel(n_jobs=-1)]: Done 19843 tasks      | elapsed:  6.9min\n",
      "[Parallel(n_jobs=-1)]: Done 22031 tasks      | elapsed:  7.6min\n",
      "[Parallel(n_jobs=-1)]: Done 23881 tasks      | elapsed:  8.3min\n",
      "[Parallel(n_jobs=-1)]: Done 26612 tasks      | elapsed:  9.2min\n",
      "[Parallel(n_jobs=-1)]: Done 29928 tasks      | elapsed: 10.3min\n",
      "[Parallel(n_jobs=-1)]: Done 33762 tasks      | elapsed: 11.6min\n",
      "[Parallel(n_jobs=-1)]: Done 36280 tasks      | elapsed: 12.5min\n",
      "[Parallel(n_jobs=-1)]: Done 39178 tasks      | elapsed: 13.5min\n",
      "[Parallel(n_jobs=-1)]: Done 41628 tasks      | elapsed: 14.4min\n",
      "[Parallel(n_jobs=-1)]: Done 44178 tasks      | elapsed: 15.3min\n",
      "[Parallel(n_jobs=-1)]: Done 47526 tasks      | elapsed: 16.6min\n",
      "[Parallel(n_jobs=-1)]: Done 50967 tasks      | elapsed: 17.7min\n",
      "[Parallel(n_jobs=-1)]: Done 56667 tasks      | elapsed: 19.6min\n",
      "[Parallel(n_jobs=-1)]: Done 62567 tasks      | elapsed: 21.6min\n",
      "[Parallel(n_jobs=-1)]: Done 67968 tasks      | elapsed: 23.4min\n",
      "[Parallel(n_jobs=-1)]: Done 72879 tasks      | elapsed: 25.1min\n",
      "[Parallel(n_jobs=-1)]: Done 78113 tasks      | elapsed: 26.9min\n",
      "[Parallel(n_jobs=-1)]: Done 79977 out of 80000 | elapsed: 27.5min remaining:    0.5s\n",
      "[Parallel(n_jobs=-1)]: Done 80000 out of 80000 | elapsed: 27.5min finished\n"
     ]
    },
    {
     "name": "stdout",
     "output_type": "stream",
     "text": [
      "Time elapsed: 0:27:33.479854\n",
      "-0.7421142978511441\n",
      "MSE : 99.957490%, \n",
      "In Western Asia\n"
     ]
    },
    {
     "name": "stderr",
     "output_type": "stream",
     "text": [
      "/home/denis/anaconda3/lib/python3.6/site-packages/sklearn/feature_selection/univariate_selection.py:298: RuntimeWarning: divide by zero encountered in true_divide\n",
      "  corr /= X_norms\n",
      "/home/denis/anaconda3/lib/python3.6/site-packages/sklearn/feature_selection/univariate_selection.py:303: RuntimeWarning: invalid value encountered in true_divide\n",
      "  F = corr ** 2 / (1 - corr ** 2) * degrees_of_freedom\n",
      "/home/denis/anaconda3/lib/python3.6/site-packages/scipy/stats/_distn_infrastructure.py:879: RuntimeWarning: invalid value encountered in greater\n",
      "  return (self.a < x) & (x < self.b)\n",
      "/home/denis/anaconda3/lib/python3.6/site-packages/scipy/stats/_distn_infrastructure.py:879: RuntimeWarning: invalid value encountered in less\n",
      "  return (self.a < x) & (x < self.b)\n",
      "/home/denis/anaconda3/lib/python3.6/site-packages/scipy/stats/_distn_infrastructure.py:1821: RuntimeWarning: invalid value encountered in less_equal\n",
      "  cond2 = cond0 & (x <= self.a)\n"
     ]
    },
    {
     "name": "stdout",
     "output_type": "stream",
     "text": [
      "Fitting 8 folds for each of 10000 candidates, totalling 80000 fits\n"
     ]
    },
    {
     "name": "stderr",
     "output_type": "stream",
     "text": [
      "[Parallel(n_jobs=-1)]: Done  40 tasks      | elapsed:    0.3s\n",
      "[Parallel(n_jobs=-1)]: Done 1240 tasks      | elapsed:    7.0s\n",
      "[Parallel(n_jobs=-1)]: Done 3240 tasks      | elapsed:   18.5s\n",
      "[Parallel(n_jobs=-1)]: Done 6040 tasks      | elapsed:   34.7s\n",
      "[Parallel(n_jobs=-1)]: Done 9640 tasks      | elapsed:   55.9s\n",
      "[Parallel(n_jobs=-1)]: Done 14040 tasks      | elapsed:  1.4min\n",
      "[Parallel(n_jobs=-1)]: Done 19240 tasks      | elapsed:  1.8min\n",
      "[Parallel(n_jobs=-1)]: Done 25240 tasks      | elapsed:  2.4min\n",
      "[Parallel(n_jobs=-1)]: Done 32040 tasks      | elapsed:  3.1min\n",
      "[Parallel(n_jobs=-1)]: Done 39640 tasks      | elapsed:  3.8min\n",
      "[Parallel(n_jobs=-1)]: Done 48040 tasks      | elapsed:  4.6min\n",
      "[Parallel(n_jobs=-1)]: Done 57240 tasks      | elapsed:  5.5min\n",
      "[Parallel(n_jobs=-1)]: Done 67240 tasks      | elapsed:  6.5min\n",
      "[Parallel(n_jobs=-1)]: Done 78040 tasks      | elapsed:  7.5min\n",
      "[Parallel(n_jobs=-1)]: Done 80000 out of 80000 | elapsed:  7.7min finished\n"
     ]
    },
    {
     "name": "stdout",
     "output_type": "stream",
     "text": [
      "Time elapsed: 0:07:42.064056\n",
      "-0.1326339085449199\n",
      "MSE : 99.836872%, \n",
      "In Australia and New Zealand\n"
     ]
    },
    {
     "name": "stderr",
     "output_type": "stream",
     "text": [
      "/home/denis/anaconda3/lib/python3.6/site-packages/sklearn/feature_selection/univariate_selection.py:298: RuntimeWarning: divide by zero encountered in true_divide\n",
      "  corr /= X_norms\n",
      "/home/denis/anaconda3/lib/python3.6/site-packages/sklearn/feature_selection/univariate_selection.py:298: RuntimeWarning: invalid value encountered in true_divide\n",
      "  corr /= X_norms\n",
      "/home/denis/anaconda3/lib/python3.6/site-packages/sklearn/feature_selection/univariate_selection.py:303: RuntimeWarning: invalid value encountered in true_divide\n",
      "  F = corr ** 2 / (1 - corr ** 2) * degrees_of_freedom\n",
      "/home/denis/anaconda3/lib/python3.6/site-packages/scipy/stats/_distn_infrastructure.py:879: RuntimeWarning: invalid value encountered in greater\n",
      "  return (self.a < x) & (x < self.b)\n",
      "/home/denis/anaconda3/lib/python3.6/site-packages/scipy/stats/_distn_infrastructure.py:879: RuntimeWarning: invalid value encountered in less\n",
      "  return (self.a < x) & (x < self.b)\n",
      "/home/denis/anaconda3/lib/python3.6/site-packages/scipy/stats/_distn_infrastructure.py:1821: RuntimeWarning: invalid value encountered in less_equal\n",
      "  cond2 = cond0 & (x <= self.a)\n"
     ]
    },
    {
     "name": "stdout",
     "output_type": "stream",
     "text": [
      "Fitting 8 folds for each of 10000 candidates, totalling 80000 fits\n"
     ]
    },
    {
     "name": "stderr",
     "output_type": "stream",
     "text": [
      "[Parallel(n_jobs=-1)]: Done  44 tasks      | elapsed:    0.9s\n",
      "[Parallel(n_jobs=-1)]: Done 730 tasks      | elapsed:    9.7s\n",
      "[Parallel(n_jobs=-1)]: Done 1233 tasks      | elapsed:   16.8s\n",
      "[Parallel(n_jobs=-1)]: Done 1933 tasks      | elapsed:   27.1s\n",
      "[Parallel(n_jobs=-1)]: Done 2833 tasks      | elapsed:   39.2s\n",
      "[Parallel(n_jobs=-1)]: Done 3933 tasks      | elapsed:   57.1s\n",
      "[Parallel(n_jobs=-1)]: Done 5233 tasks      | elapsed:  1.3min\n",
      "[Parallel(n_jobs=-1)]: Done 6733 tasks      | elapsed:  1.6min\n",
      "[Parallel(n_jobs=-1)]: Done 8433 tasks      | elapsed:  2.0min\n",
      "[Parallel(n_jobs=-1)]: Done 10333 tasks      | elapsed:  2.5min\n",
      "[Parallel(n_jobs=-1)]: Done 12433 tasks      | elapsed:  3.0min\n",
      "[Parallel(n_jobs=-1)]: Done 14733 tasks      | elapsed:  3.5min\n",
      "[Parallel(n_jobs=-1)]: Done 17233 tasks      | elapsed:  4.2min\n",
      "[Parallel(n_jobs=-1)]: Done 19933 tasks      | elapsed:  4.8min\n",
      "[Parallel(n_jobs=-1)]: Done 22833 tasks      | elapsed:  5.5min\n",
      "[Parallel(n_jobs=-1)]: Done 25933 tasks      | elapsed:  6.2min\n",
      "[Parallel(n_jobs=-1)]: Done 29233 tasks      | elapsed:  7.0min\n",
      "[Parallel(n_jobs=-1)]: Done 32733 tasks      | elapsed:  7.9min\n",
      "[Parallel(n_jobs=-1)]: Done 36433 tasks      | elapsed:  8.8min\n",
      "[Parallel(n_jobs=-1)]: Done 40333 tasks      | elapsed:  9.7min\n",
      "[Parallel(n_jobs=-1)]: Done 44433 tasks      | elapsed: 10.8min\n",
      "[Parallel(n_jobs=-1)]: Done 48733 tasks      | elapsed: 11.8min\n",
      "[Parallel(n_jobs=-1)]: Done 53233 tasks      | elapsed: 12.9min\n",
      "[Parallel(n_jobs=-1)]: Done 57933 tasks      | elapsed: 14.0min\n",
      "[Parallel(n_jobs=-1)]: Done 62833 tasks      | elapsed: 15.2min\n",
      "[Parallel(n_jobs=-1)]: Done 67933 tasks      | elapsed: 16.5min\n",
      "[Parallel(n_jobs=-1)]: Done 73233 tasks      | elapsed: 17.8min\n",
      "[Parallel(n_jobs=-1)]: Done 78733 tasks      | elapsed: 19.2min\n",
      "[Parallel(n_jobs=-1)]: Done 79977 out of 80000 | elapsed: 19.5min remaining:    0.3s\n",
      "[Parallel(n_jobs=-1)]: Done 80000 out of 80000 | elapsed: 19.5min finished\n"
     ]
    },
    {
     "name": "stdout",
     "output_type": "stream",
     "text": [
      "Time elapsed: 0:19:32.529148\n",
      "-0.5152916047610381\n",
      "MSE : 99.768292%, \n",
      "In Caribbean\n"
     ]
    },
    {
     "name": "stderr",
     "output_type": "stream",
     "text": [
      "/home/denis/anaconda3/lib/python3.6/site-packages/sklearn/feature_selection/univariate_selection.py:298: RuntimeWarning: divide by zero encountered in true_divide\n",
      "  corr /= X_norms\n",
      "/home/denis/anaconda3/lib/python3.6/site-packages/sklearn/feature_selection/univariate_selection.py:303: RuntimeWarning: invalid value encountered in true_divide\n",
      "  F = corr ** 2 / (1 - corr ** 2) * degrees_of_freedom\n",
      "/home/denis/anaconda3/lib/python3.6/site-packages/scipy/stats/_distn_infrastructure.py:879: RuntimeWarning: invalid value encountered in greater\n",
      "  return (self.a < x) & (x < self.b)\n",
      "/home/denis/anaconda3/lib/python3.6/site-packages/scipy/stats/_distn_infrastructure.py:879: RuntimeWarning: invalid value encountered in less\n",
      "  return (self.a < x) & (x < self.b)\n",
      "/home/denis/anaconda3/lib/python3.6/site-packages/scipy/stats/_distn_infrastructure.py:1821: RuntimeWarning: invalid value encountered in less_equal\n",
      "  cond2 = cond0 & (x <= self.a)\n"
     ]
    },
    {
     "name": "stdout",
     "output_type": "stream",
     "text": [
      "Fitting 8 folds for each of 10000 candidates, totalling 80000 fits\n"
     ]
    },
    {
     "name": "stderr",
     "output_type": "stream",
     "text": [
      "[Parallel(n_jobs=-1)]: Done  44 tasks      | elapsed:    0.7s\n",
      "[Parallel(n_jobs=-1)]: Done 1009 tasks      | elapsed:   11.2s\n",
      "[Parallel(n_jobs=-1)]: Done 1968 tasks      | elapsed:   22.9s\n",
      "[Parallel(n_jobs=-1)]: Done 2668 tasks      | elapsed:   31.4s\n",
      "[Parallel(n_jobs=-1)]: Done 3568 tasks      | elapsed:   42.4s\n",
      "[Parallel(n_jobs=-1)]: Done 4668 tasks      | elapsed:   56.7s\n",
      "[Parallel(n_jobs=-1)]: Done 5968 tasks      | elapsed:  1.2min\n",
      "[Parallel(n_jobs=-1)]: Done 7468 tasks      | elapsed:  1.5min\n",
      "[Parallel(n_jobs=-1)]: Done 9168 tasks      | elapsed:  1.9min\n",
      "[Parallel(n_jobs=-1)]: Done 11068 tasks      | elapsed:  2.3min\n",
      "[Parallel(n_jobs=-1)]: Done 13168 tasks      | elapsed:  2.7min\n",
      "[Parallel(n_jobs=-1)]: Done 15468 tasks      | elapsed:  3.1min\n",
      "[Parallel(n_jobs=-1)]: Done 17968 tasks      | elapsed:  3.6min\n",
      "[Parallel(n_jobs=-1)]: Done 20668 tasks      | elapsed:  4.2min\n",
      "[Parallel(n_jobs=-1)]: Done 23568 tasks      | elapsed:  4.8min\n",
      "[Parallel(n_jobs=-1)]: Done 26668 tasks      | elapsed:  5.4min\n",
      "[Parallel(n_jobs=-1)]: Done 29968 tasks      | elapsed:  6.1min\n",
      "[Parallel(n_jobs=-1)]: Done 33468 tasks      | elapsed:  6.9min\n",
      "[Parallel(n_jobs=-1)]: Done 37168 tasks      | elapsed:  7.6min\n",
      "[Parallel(n_jobs=-1)]: Done 41068 tasks      | elapsed:  8.4min\n",
      "[Parallel(n_jobs=-1)]: Done 45168 tasks      | elapsed:  9.2min\n",
      "[Parallel(n_jobs=-1)]: Done 49468 tasks      | elapsed: 10.1min\n",
      "[Parallel(n_jobs=-1)]: Done 54072 tasks      | elapsed: 11.1min\n",
      "[Parallel(n_jobs=-1)]: Done 61502 tasks      | elapsed: 12.6min\n",
      "[Parallel(n_jobs=-1)]: Done 66402 tasks      | elapsed: 13.6min\n",
      "[Parallel(n_jobs=-1)]: Done 71502 tasks      | elapsed: 14.6min\n",
      "[Parallel(n_jobs=-1)]: Done 76802 tasks      | elapsed: 15.7min\n",
      "[Parallel(n_jobs=-1)]: Done 80000 out of 80000 | elapsed: 16.4min finished\n"
     ]
    },
    {
     "name": "stdout",
     "output_type": "stream",
     "text": [
      "Time elapsed: 0:16:23.253373\n",
      "-0.954385163073052\n",
      "MSE : 99.664282%, \n",
      "In Eastern Europe\n"
     ]
    },
    {
     "name": "stderr",
     "output_type": "stream",
     "text": [
      "/home/denis/anaconda3/lib/python3.6/site-packages/sklearn/feature_selection/univariate_selection.py:298: RuntimeWarning: divide by zero encountered in true_divide\n",
      "  corr /= X_norms\n",
      "/home/denis/anaconda3/lib/python3.6/site-packages/sklearn/feature_selection/univariate_selection.py:303: RuntimeWarning: invalid value encountered in true_divide\n",
      "  F = corr ** 2 / (1 - corr ** 2) * degrees_of_freedom\n",
      "/home/denis/anaconda3/lib/python3.6/site-packages/scipy/stats/_distn_infrastructure.py:879: RuntimeWarning: invalid value encountered in greater\n",
      "  return (self.a < x) & (x < self.b)\n",
      "/home/denis/anaconda3/lib/python3.6/site-packages/scipy/stats/_distn_infrastructure.py:879: RuntimeWarning: invalid value encountered in less\n",
      "  return (self.a < x) & (x < self.b)\n",
      "/home/denis/anaconda3/lib/python3.6/site-packages/scipy/stats/_distn_infrastructure.py:1821: RuntimeWarning: invalid value encountered in less_equal\n",
      "  cond2 = cond0 & (x <= self.a)\n"
     ]
    },
    {
     "name": "stdout",
     "output_type": "stream",
     "text": [
      "Fitting 8 folds for each of 10000 candidates, totalling 80000 fits\n"
     ]
    },
    {
     "name": "stderr",
     "output_type": "stream",
     "text": [
      "[Parallel(n_jobs=-1)]: Done  36 tasks      | elapsed:    0.7s\n",
      "[Parallel(n_jobs=-1)]: Done 639 tasks      | elapsed:    8.4s\n",
      "[Parallel(n_jobs=-1)]: Done 1389 tasks      | elapsed:   17.6s\n",
      "[Parallel(n_jobs=-1)]: Done 2439 tasks      | elapsed:   30.4s\n",
      "[Parallel(n_jobs=-1)]: Done 3789 tasks      | elapsed:   45.8s\n",
      "[Parallel(n_jobs=-1)]: Done 5439 tasks      | elapsed:  1.1min\n",
      "[Parallel(n_jobs=-1)]: Done 7389 tasks      | elapsed:  1.5min\n",
      "[Parallel(n_jobs=-1)]: Done 9639 tasks      | elapsed:  1.9min\n",
      "[Parallel(n_jobs=-1)]: Done 12189 tasks      | elapsed:  2.4min\n",
      "[Parallel(n_jobs=-1)]: Done 15039 tasks      | elapsed:  3.0min\n",
      "[Parallel(n_jobs=-1)]: Done 18189 tasks      | elapsed:  3.7min\n",
      "[Parallel(n_jobs=-1)]: Done 21639 tasks      | elapsed:  4.3min\n",
      "[Parallel(n_jobs=-1)]: Done 25389 tasks      | elapsed:  5.1min\n",
      "[Parallel(n_jobs=-1)]: Done 29439 tasks      | elapsed:  6.0min\n",
      "[Parallel(n_jobs=-1)]: Done 33789 tasks      | elapsed:  6.9min\n",
      "[Parallel(n_jobs=-1)]: Done 38439 tasks      | elapsed:  7.8min\n",
      "[Parallel(n_jobs=-1)]: Done 43389 tasks      | elapsed:  8.8min\n",
      "[Parallel(n_jobs=-1)]: Done 48639 tasks      | elapsed: 10.0min\n",
      "[Parallel(n_jobs=-1)]: Done 54189 tasks      | elapsed: 11.2min\n",
      "[Parallel(n_jobs=-1)]: Done 60039 tasks      | elapsed: 12.4min\n",
      "[Parallel(n_jobs=-1)]: Done 66189 tasks      | elapsed: 13.6min\n",
      "[Parallel(n_jobs=-1)]: Done 72639 tasks      | elapsed: 14.9min\n",
      "[Parallel(n_jobs=-1)]: Done 79389 tasks      | elapsed: 16.3min\n",
      "[Parallel(n_jobs=-1)]: Done 79977 out of 80000 | elapsed: 16.4min remaining:    0.3s\n",
      "[Parallel(n_jobs=-1)]: Done 80000 out of 80000 | elapsed: 16.4min finished\n"
     ]
    },
    {
     "name": "stdout",
     "output_type": "stream",
     "text": [
      "Time elapsed: 0:16:25.249902\n",
      "-0.5630603531239453\n",
      "MSE : 99.837292%, \n",
      "In Central America\n"
     ]
    },
    {
     "name": "stderr",
     "output_type": "stream",
     "text": [
      "/home/denis/anaconda3/lib/python3.6/site-packages/sklearn/feature_selection/univariate_selection.py:298: RuntimeWarning: divide by zero encountered in true_divide\n",
      "  corr /= X_norms\n",
      "/home/denis/anaconda3/lib/python3.6/site-packages/sklearn/feature_selection/univariate_selection.py:303: RuntimeWarning: invalid value encountered in true_divide\n",
      "  F = corr ** 2 / (1 - corr ** 2) * degrees_of_freedom\n",
      "/home/denis/anaconda3/lib/python3.6/site-packages/scipy/stats/_distn_infrastructure.py:879: RuntimeWarning: invalid value encountered in greater\n",
      "  return (self.a < x) & (x < self.b)\n",
      "/home/denis/anaconda3/lib/python3.6/site-packages/scipy/stats/_distn_infrastructure.py:879: RuntimeWarning: invalid value encountered in less\n",
      "  return (self.a < x) & (x < self.b)\n",
      "/home/denis/anaconda3/lib/python3.6/site-packages/scipy/stats/_distn_infrastructure.py:1821: RuntimeWarning: invalid value encountered in less_equal\n",
      "  cond2 = cond0 & (x <= self.a)\n"
     ]
    },
    {
     "name": "stdout",
     "output_type": "stream",
     "text": [
      "Fitting 8 folds for each of 10000 candidates, totalling 80000 fits\n"
     ]
    },
    {
     "name": "stderr",
     "output_type": "stream",
     "text": [
      "[Parallel(n_jobs=-1)]: Done  36 tasks      | elapsed:    0.9s\n",
      "[Parallel(n_jobs=-1)]: Done 624 tasks      | elapsed:   10.2s\n",
      "[Parallel(n_jobs=-1)]: Done 1374 tasks      | elapsed:   20.9s\n",
      "[Parallel(n_jobs=-1)]: Done 2424 tasks      | elapsed:   36.8s\n",
      "[Parallel(n_jobs=-1)]: Done 3289 tasks      | elapsed:   49.5s\n",
      "[Parallel(n_jobs=-1)]: Done 4389 tasks      | elapsed:  1.1min\n",
      "[Parallel(n_jobs=-1)]: Done 5689 tasks      | elapsed:  1.4min\n",
      "[Parallel(n_jobs=-1)]: Done 7189 tasks      | elapsed:  1.8min\n",
      "[Parallel(n_jobs=-1)]: Done 8889 tasks      | elapsed:  2.3min\n",
      "[Parallel(n_jobs=-1)]: Done 10789 tasks      | elapsed:  2.7min\n",
      "[Parallel(n_jobs=-1)]: Done 12889 tasks      | elapsed:  3.3min\n",
      "[Parallel(n_jobs=-1)]: Done 15189 tasks      | elapsed:  3.9min\n",
      "[Parallel(n_jobs=-1)]: Done 17689 tasks      | elapsed:  4.6min\n",
      "[Parallel(n_jobs=-1)]: Done 20389 tasks      | elapsed:  5.3min\n",
      "[Parallel(n_jobs=-1)]: Done 23289 tasks      | elapsed:  6.0min\n",
      "[Parallel(n_jobs=-1)]: Done 26389 tasks      | elapsed:  6.8min\n",
      "[Parallel(n_jobs=-1)]: Done 29689 tasks      | elapsed:  7.7min\n",
      "[Parallel(n_jobs=-1)]: Done 33189 tasks      | elapsed:  8.6min\n",
      "[Parallel(n_jobs=-1)]: Done 36889 tasks      | elapsed:  9.6min\n",
      "[Parallel(n_jobs=-1)]: Done 40789 tasks      | elapsed: 10.7min\n",
      "[Parallel(n_jobs=-1)]: Done 44889 tasks      | elapsed: 11.7min\n",
      "[Parallel(n_jobs=-1)]: Done 49189 tasks      | elapsed: 12.9min\n",
      "[Parallel(n_jobs=-1)]: Done 53689 tasks      | elapsed: 14.0min\n",
      "[Parallel(n_jobs=-1)]: Done 58389 tasks      | elapsed: 15.3min\n",
      "[Parallel(n_jobs=-1)]: Done 63289 tasks      | elapsed: 16.6min\n",
      "[Parallel(n_jobs=-1)]: Done 68389 tasks      | elapsed: 17.9min\n",
      "[Parallel(n_jobs=-1)]: Done 73689 tasks      | elapsed: 19.2min\n",
      "[Parallel(n_jobs=-1)]: Done 79189 tasks      | elapsed: 20.7min\n",
      "[Parallel(n_jobs=-1)]: Done 79977 out of 80000 | elapsed: 20.9min remaining:    0.4s\n",
      "[Parallel(n_jobs=-1)]: Done 80000 out of 80000 | elapsed: 20.9min finished\n"
     ]
    },
    {
     "name": "stdout",
     "output_type": "stream",
     "text": [
      "Time elapsed: 0:20:55.785196\n",
      "-1.7368031975876426\n",
      "MSE : 99.893882%, \n",
      "In Western Africa\n"
     ]
    },
    {
     "name": "stderr",
     "output_type": "stream",
     "text": [
      "/home/denis/anaconda3/lib/python3.6/site-packages/sklearn/feature_selection/univariate_selection.py:298: RuntimeWarning: divide by zero encountered in true_divide\n",
      "  corr /= X_norms\n",
      "/home/denis/anaconda3/lib/python3.6/site-packages/sklearn/feature_selection/univariate_selection.py:303: RuntimeWarning: invalid value encountered in true_divide\n",
      "  F = corr ** 2 / (1 - corr ** 2) * degrees_of_freedom\n",
      "/home/denis/anaconda3/lib/python3.6/site-packages/scipy/stats/_distn_infrastructure.py:879: RuntimeWarning: invalid value encountered in greater\n",
      "  return (self.a < x) & (x < self.b)\n",
      "/home/denis/anaconda3/lib/python3.6/site-packages/scipy/stats/_distn_infrastructure.py:879: RuntimeWarning: invalid value encountered in less\n",
      "  return (self.a < x) & (x < self.b)\n",
      "/home/denis/anaconda3/lib/python3.6/site-packages/scipy/stats/_distn_infrastructure.py:1821: RuntimeWarning: invalid value encountered in less_equal\n",
      "  cond2 = cond0 & (x <= self.a)\n"
     ]
    },
    {
     "name": "stdout",
     "output_type": "stream",
     "text": [
      "Fitting 8 folds for each of 10000 candidates, totalling 80000 fits\n"
     ]
    },
    {
     "name": "stderr",
     "output_type": "stream",
     "text": [
      "[Parallel(n_jobs=-1)]: Done  44 tasks      | elapsed:    0.6s\n",
      "[Parallel(n_jobs=-1)]: Done 1119 tasks      | elapsed:    9.2s\n",
      "[Parallel(n_jobs=-1)]: Done 2369 tasks      | elapsed:   20.2s\n",
      "[Parallel(n_jobs=-1)]: Done 4119 tasks      | elapsed:   36.9s\n",
      "[Parallel(n_jobs=-1)]: Done 6369 tasks      | elapsed:   56.1s\n",
      "[Parallel(n_jobs=-1)]: Done 9119 tasks      | elapsed:  1.3min\n",
      "[Parallel(n_jobs=-1)]: Done 12369 tasks      | elapsed:  1.8min\n",
      "[Parallel(n_jobs=-1)]: Done 16119 tasks      | elapsed:  2.4min\n",
      "[Parallel(n_jobs=-1)]: Done 20369 tasks      | elapsed:  3.0min\n",
      "[Parallel(n_jobs=-1)]: Done 25119 tasks      | elapsed:  3.6min\n",
      "[Parallel(n_jobs=-1)]: Done 30369 tasks      | elapsed:  4.4min\n",
      "[Parallel(n_jobs=-1)]: Done 36119 tasks      | elapsed:  5.2min\n",
      "[Parallel(n_jobs=-1)]: Done 42369 tasks      | elapsed:  6.1min\n",
      "[Parallel(n_jobs=-1)]: Done 49119 tasks      | elapsed:  7.1min\n",
      "[Parallel(n_jobs=-1)]: Done 56369 tasks      | elapsed:  8.1min\n",
      "[Parallel(n_jobs=-1)]: Done 64119 tasks      | elapsed:  9.2min\n",
      "[Parallel(n_jobs=-1)]: Done 72369 tasks      | elapsed: 10.4min\n",
      "[Parallel(n_jobs=-1)]: Done 80000 out of 80000 | elapsed: 11.5min finished\n"
     ]
    },
    {
     "name": "stdout",
     "output_type": "stream",
     "text": [
      "Time elapsed: 0:11:28.091827\n",
      "-1.2423323924017728\n",
      "MSE : 99.472480%, \n",
      "In Southern Africa\n"
     ]
    },
    {
     "name": "stderr",
     "output_type": "stream",
     "text": [
      "/home/denis/anaconda3/lib/python3.6/site-packages/sklearn/feature_selection/univariate_selection.py:298: RuntimeWarning: divide by zero encountered in true_divide\n",
      "  corr /= X_norms\n",
      "/home/denis/anaconda3/lib/python3.6/site-packages/sklearn/feature_selection/univariate_selection.py:303: RuntimeWarning: invalid value encountered in true_divide\n",
      "  F = corr ** 2 / (1 - corr ** 2) * degrees_of_freedom\n",
      "/home/denis/anaconda3/lib/python3.6/site-packages/scipy/stats/_distn_infrastructure.py:879: RuntimeWarning: invalid value encountered in greater\n",
      "  return (self.a < x) & (x < self.b)\n",
      "/home/denis/anaconda3/lib/python3.6/site-packages/scipy/stats/_distn_infrastructure.py:879: RuntimeWarning: invalid value encountered in less\n",
      "  return (self.a < x) & (x < self.b)\n",
      "/home/denis/anaconda3/lib/python3.6/site-packages/scipy/stats/_distn_infrastructure.py:1821: RuntimeWarning: invalid value encountered in less_equal\n",
      "  cond2 = cond0 & (x <= self.a)\n"
     ]
    },
    {
     "name": "stdout",
     "output_type": "stream",
     "text": [
      "Fitting 8 folds for each of 10000 candidates, totalling 80000 fits\n"
     ]
    },
    {
     "name": "stderr",
     "output_type": "stream",
     "text": [
      "[Parallel(n_jobs=-1)]: Done  32 tasks      | elapsed:    0.7s\n",
      "[Parallel(n_jobs=-1)]: Done 470 tasks      | elapsed:    9.2s\n",
      "[Parallel(n_jobs=-1)]: Done 972 tasks      | elapsed:   18.6s\n",
      "[Parallel(n_jobs=-1)]: Done 1672 tasks      | elapsed:   32.6s\n",
      "[Parallel(n_jobs=-1)]: Done 2572 tasks      | elapsed:   49.9s\n",
      "[Parallel(n_jobs=-1)]: Done 3672 tasks      | elapsed:  1.1min\n",
      "[Parallel(n_jobs=-1)]: Done 4972 tasks      | elapsed:  1.5min\n",
      "[Parallel(n_jobs=-1)]: Done 6472 tasks      | elapsed:  2.0min\n",
      "[Parallel(n_jobs=-1)]: Done 8172 tasks      | elapsed:  2.5min\n",
      "[Parallel(n_jobs=-1)]: Done 10072 tasks      | elapsed:  3.1min\n",
      "[Parallel(n_jobs=-1)]: Done 12172 tasks      | elapsed:  3.7min\n",
      "[Parallel(n_jobs=-1)]: Done 14472 tasks      | elapsed:  4.4min\n",
      "[Parallel(n_jobs=-1)]: Done 16972 tasks      | elapsed:  5.1min\n",
      "[Parallel(n_jobs=-1)]: Done 19672 tasks      | elapsed:  5.9min\n",
      "[Parallel(n_jobs=-1)]: Done 22572 tasks      | elapsed:  6.8min\n",
      "[Parallel(n_jobs=-1)]: Done 25175 tasks      | elapsed:  7.6min\n",
      "[Parallel(n_jobs=-1)]: Done 28475 tasks      | elapsed:  8.6min\n",
      "[Parallel(n_jobs=-1)]: Done 31975 tasks      | elapsed:  9.7min\n",
      "[Parallel(n_jobs=-1)]: Done 35675 tasks      | elapsed: 10.8min\n",
      "[Parallel(n_jobs=-1)]: Done 39575 tasks      | elapsed: 11.9min\n",
      "[Parallel(n_jobs=-1)]: Done 43675 tasks      | elapsed: 13.2min\n",
      "[Parallel(n_jobs=-1)]: Done 47975 tasks      | elapsed: 14.5min\n",
      "[Parallel(n_jobs=-1)]: Done 52475 tasks      | elapsed: 15.8min\n",
      "[Parallel(n_jobs=-1)]: Done 57090 tasks      | elapsed: 17.1min\n",
      "[Parallel(n_jobs=-1)]: Done 61990 tasks      | elapsed: 18.6min\n",
      "[Parallel(n_jobs=-1)]: Done 67090 tasks      | elapsed: 20.1min\n",
      "[Parallel(n_jobs=-1)]: Done 72390 tasks      | elapsed: 21.6min\n",
      "[Parallel(n_jobs=-1)]: Done 77890 tasks      | elapsed: 23.3min\n",
      "[Parallel(n_jobs=-1)]: Done 80000 out of 80000 | elapsed: 23.9min finished\n"
     ]
    },
    {
     "name": "stdout",
     "output_type": "stream",
     "text": [
      "Time elapsed: 0:23:55.863242\n",
      "-0.3993129187267825\n",
      "MSE : 99.883338%, \n",
      "In Eastern Africa\n"
     ]
    },
    {
     "name": "stderr",
     "output_type": "stream",
     "text": [
      "/home/denis/anaconda3/lib/python3.6/site-packages/sklearn/feature_selection/univariate_selection.py:298: RuntimeWarning: divide by zero encountered in true_divide\n",
      "  corr /= X_norms\n",
      "/home/denis/anaconda3/lib/python3.6/site-packages/sklearn/feature_selection/univariate_selection.py:303: RuntimeWarning: invalid value encountered in true_divide\n",
      "  F = corr ** 2 / (1 - corr ** 2) * degrees_of_freedom\n",
      "/home/denis/anaconda3/lib/python3.6/site-packages/scipy/stats/_distn_infrastructure.py:879: RuntimeWarning: invalid value encountered in greater\n",
      "  return (self.a < x) & (x < self.b)\n",
      "/home/denis/anaconda3/lib/python3.6/site-packages/scipy/stats/_distn_infrastructure.py:879: RuntimeWarning: invalid value encountered in less\n",
      "  return (self.a < x) & (x < self.b)\n",
      "/home/denis/anaconda3/lib/python3.6/site-packages/scipy/stats/_distn_infrastructure.py:1821: RuntimeWarning: invalid value encountered in less_equal\n",
      "  cond2 = cond0 & (x <= self.a)\n"
     ]
    },
    {
     "name": "stdout",
     "output_type": "stream",
     "text": [
      "Fitting 8 folds for each of 10000 candidates, totalling 80000 fits\n"
     ]
    },
    {
     "name": "stderr",
     "output_type": "stream",
     "text": [
      "[Parallel(n_jobs=-1)]: Done  44 tasks      | elapsed:    1.3s\n",
      "[Parallel(n_jobs=-1)]: Done 883 tasks      | elapsed:   11.0s\n",
      "[Parallel(n_jobs=-1)]: Done 1386 tasks      | elapsed:   18.1s\n",
      "[Parallel(n_jobs=-1)]: Done 2086 tasks      | elapsed:   27.3s\n",
      "[Parallel(n_jobs=-1)]: Done 2986 tasks      | elapsed:   38.2s\n",
      "[Parallel(n_jobs=-1)]: Done 4086 tasks      | elapsed:   51.9s\n",
      "[Parallel(n_jobs=-1)]: Done 5386 tasks      | elapsed:  1.1min\n",
      "[Parallel(n_jobs=-1)]: Done 6886 tasks      | elapsed:  1.5min\n",
      "[Parallel(n_jobs=-1)]: Done 8586 tasks      | elapsed:  1.9min\n",
      "[Parallel(n_jobs=-1)]: Done 10486 tasks      | elapsed:  2.3min\n",
      "[Parallel(n_jobs=-1)]: Done 12586 tasks      | elapsed:  2.8min\n",
      "[Parallel(n_jobs=-1)]: Done 14886 tasks      | elapsed:  3.3min\n",
      "[Parallel(n_jobs=-1)]: Done 17386 tasks      | elapsed:  3.8min\n",
      "[Parallel(n_jobs=-1)]: Done 20086 tasks      | elapsed:  4.5min\n",
      "[Parallel(n_jobs=-1)]: Done 22986 tasks      | elapsed:  5.1min\n",
      "[Parallel(n_jobs=-1)]: Done 26086 tasks      | elapsed:  5.8min\n",
      "[Parallel(n_jobs=-1)]: Done 29386 tasks      | elapsed:  6.5min\n",
      "[Parallel(n_jobs=-1)]: Done 32886 tasks      | elapsed:  7.3min\n",
      "[Parallel(n_jobs=-1)]: Done 36586 tasks      | elapsed:  8.0min\n",
      "[Parallel(n_jobs=-1)]: Done 40486 tasks      | elapsed:  8.8min\n",
      "[Parallel(n_jobs=-1)]: Done 44586 tasks      | elapsed:  9.7min\n",
      "[Parallel(n_jobs=-1)]: Done 48886 tasks      | elapsed: 10.7min\n",
      "[Parallel(n_jobs=-1)]: Done 53386 tasks      | elapsed: 11.6min\n",
      "[Parallel(n_jobs=-1)]: Done 58086 tasks      | elapsed: 12.6min\n",
      "[Parallel(n_jobs=-1)]: Done 62986 tasks      | elapsed: 13.7min\n",
      "[Parallel(n_jobs=-1)]: Done 68086 tasks      | elapsed: 14.8min\n",
      "[Parallel(n_jobs=-1)]: Done 73386 tasks      | elapsed: 16.0min\n",
      "[Parallel(n_jobs=-1)]: Done 78886 tasks      | elapsed: 17.2min\n",
      "[Parallel(n_jobs=-1)]: Done 80000 out of 80000 | elapsed: 17.5min finished\n"
     ]
    },
    {
     "name": "stdout",
     "output_type": "stream",
     "text": [
      "Time elapsed: 0:17:29.241243\n",
      "-0.40027402512360866\n",
      "MSE : 99.863699%, \n",
      "In South-Eastern Asia\n"
     ]
    },
    {
     "name": "stderr",
     "output_type": "stream",
     "text": [
      "/home/denis/anaconda3/lib/python3.6/site-packages/sklearn/feature_selection/univariate_selection.py:298: RuntimeWarning: divide by zero encountered in true_divide\n",
      "  corr /= X_norms\n",
      "/home/denis/anaconda3/lib/python3.6/site-packages/sklearn/feature_selection/univariate_selection.py:303: RuntimeWarning: invalid value encountered in true_divide\n",
      "  F = corr ** 2 / (1 - corr ** 2) * degrees_of_freedom\n",
      "/home/denis/anaconda3/lib/python3.6/site-packages/scipy/stats/_distn_infrastructure.py:879: RuntimeWarning: invalid value encountered in greater\n",
      "  return (self.a < x) & (x < self.b)\n",
      "/home/denis/anaconda3/lib/python3.6/site-packages/scipy/stats/_distn_infrastructure.py:879: RuntimeWarning: invalid value encountered in less\n",
      "  return (self.a < x) & (x < self.b)\n",
      "/home/denis/anaconda3/lib/python3.6/site-packages/scipy/stats/_distn_infrastructure.py:1821: RuntimeWarning: invalid value encountered in less_equal\n",
      "  cond2 = cond0 & (x <= self.a)\n"
     ]
    },
    {
     "name": "stdout",
     "output_type": "stream",
     "text": [
      "Fitting 8 folds for each of 10000 candidates, totalling 80000 fits\n"
     ]
    },
    {
     "name": "stderr",
     "output_type": "stream",
     "text": [
      "[Parallel(n_jobs=-1)]: Done  31 tasks      | elapsed:    0.6s\n",
      "[Parallel(n_jobs=-1)]: Done 328 tasks      | elapsed:    6.4s\n",
      "[Parallel(n_jobs=-1)]: Done 828 tasks      | elapsed:   13.6s\n",
      "[Parallel(n_jobs=-1)]: Done 1528 tasks      | elapsed:   25.5s\n",
      "[Parallel(n_jobs=-1)]: Done 2428 tasks      | elapsed:   40.7s\n",
      "[Parallel(n_jobs=-1)]: Done 3528 tasks      | elapsed:   58.0s\n",
      "[Parallel(n_jobs=-1)]: Done 4828 tasks      | elapsed:  1.3min\n",
      "[Parallel(n_jobs=-1)]: Done 6328 tasks      | elapsed:  1.8min\n",
      "[Parallel(n_jobs=-1)]: Done 8028 tasks      | elapsed:  2.2min\n",
      "[Parallel(n_jobs=-1)]: Done 9928 tasks      | elapsed:  2.7min\n",
      "[Parallel(n_jobs=-1)]: Done 12028 tasks      | elapsed:  3.3min\n",
      "[Parallel(n_jobs=-1)]: Done 14328 tasks      | elapsed:  3.8min\n",
      "[Parallel(n_jobs=-1)]: Done 16828 tasks      | elapsed:  4.6min\n",
      "[Parallel(n_jobs=-1)]: Done 19528 tasks      | elapsed:  5.3min\n",
      "[Parallel(n_jobs=-1)]: Done 22428 tasks      | elapsed:  6.1min\n",
      "[Parallel(n_jobs=-1)]: Done 25528 tasks      | elapsed:  6.8min\n",
      "[Parallel(n_jobs=-1)]: Done 28828 tasks      | elapsed:  7.7min\n",
      "[Parallel(n_jobs=-1)]: Done 32328 tasks      | elapsed:  8.6min\n",
      "[Parallel(n_jobs=-1)]: Done 36028 tasks      | elapsed:  9.6min\n",
      "[Parallel(n_jobs=-1)]: Done 39928 tasks      | elapsed: 10.7min\n",
      "[Parallel(n_jobs=-1)]: Done 44028 tasks      | elapsed: 11.8min\n",
      "[Parallel(n_jobs=-1)]: Done 48328 tasks      | elapsed: 12.9min\n",
      "[Parallel(n_jobs=-1)]: Done 52828 tasks      | elapsed: 14.1min\n",
      "[Parallel(n_jobs=-1)]: Done 57528 tasks      | elapsed: 15.3min\n",
      "[Parallel(n_jobs=-1)]: Done 62428 tasks      | elapsed: 16.6min\n",
      "[Parallel(n_jobs=-1)]: Done 67528 tasks      | elapsed: 18.0min\n",
      "[Parallel(n_jobs=-1)]: Done 72828 tasks      | elapsed: 19.5min\n",
      "[Parallel(n_jobs=-1)]: Done 78328 tasks      | elapsed: 21.0min\n",
      "[Parallel(n_jobs=-1)]: Done 80000 out of 80000 | elapsed: 21.5min finished\n"
     ]
    },
    {
     "name": "stdout",
     "output_type": "stream",
     "text": [
      "Time elapsed: 0:21:28.524326\n",
      "-0.5522124921715652\n",
      "MSE : 99.867731%, \n",
      "In Southern Europe\n"
     ]
    },
    {
     "name": "stderr",
     "output_type": "stream",
     "text": [
      "/home/denis/anaconda3/lib/python3.6/site-packages/sklearn/feature_selection/univariate_selection.py:298: RuntimeWarning: divide by zero encountered in true_divide\n",
      "  corr /= X_norms\n",
      "/home/denis/anaconda3/lib/python3.6/site-packages/sklearn/feature_selection/univariate_selection.py:303: RuntimeWarning: invalid value encountered in true_divide\n",
      "  F = corr ** 2 / (1 - corr ** 2) * degrees_of_freedom\n",
      "/home/denis/anaconda3/lib/python3.6/site-packages/scipy/stats/_distn_infrastructure.py:879: RuntimeWarning: invalid value encountered in greater\n",
      "  return (self.a < x) & (x < self.b)\n",
      "/home/denis/anaconda3/lib/python3.6/site-packages/scipy/stats/_distn_infrastructure.py:879: RuntimeWarning: invalid value encountered in less\n",
      "  return (self.a < x) & (x < self.b)\n",
      "/home/denis/anaconda3/lib/python3.6/site-packages/scipy/stats/_distn_infrastructure.py:1821: RuntimeWarning: invalid value encountered in less_equal\n",
      "  cond2 = cond0 & (x <= self.a)\n"
     ]
    },
    {
     "name": "stdout",
     "output_type": "stream",
     "text": [
      "Fitting 8 folds for each of 10000 candidates, totalling 80000 fits\n"
     ]
    },
    {
     "name": "stderr",
     "output_type": "stream",
     "text": [
      "[Parallel(n_jobs=-1)]: Done  40 tasks      | elapsed:    0.4s\n",
      "[Parallel(n_jobs=-1)]: Done 1240 tasks      | elapsed:    8.8s\n",
      "[Parallel(n_jobs=-1)]: Done 3240 tasks      | elapsed:   23.4s\n",
      "[Parallel(n_jobs=-1)]: Done 6040 tasks      | elapsed:   42.2s\n",
      "[Parallel(n_jobs=-1)]: Done 9640 tasks      | elapsed:  1.1min\n",
      "[Parallel(n_jobs=-1)]: Done 14040 tasks      | elapsed:  1.6min\n",
      "[Parallel(n_jobs=-1)]: Done 19240 tasks      | elapsed:  2.2min\n",
      "[Parallel(n_jobs=-1)]: Done 25240 tasks      | elapsed:  2.9min\n",
      "[Parallel(n_jobs=-1)]: Done 32040 tasks      | elapsed:  3.7min\n",
      "[Parallel(n_jobs=-1)]: Done 36140 tasks      | elapsed:  4.1min\n",
      "[Parallel(n_jobs=-1)]: Done 40340 tasks      | elapsed:  4.6min\n",
      "[Parallel(n_jobs=-1)]: Done 44940 tasks      | elapsed:  5.1min\n",
      "[Parallel(n_jobs=-1)]: Done 49940 tasks      | elapsed:  5.7min\n",
      "[Parallel(n_jobs=-1)]: Done 55340 tasks      | elapsed:  6.3min\n",
      "[Parallel(n_jobs=-1)]: Done 61140 tasks      | elapsed:  7.0min\n",
      "[Parallel(n_jobs=-1)]: Done 67340 tasks      | elapsed:  7.7min\n",
      "[Parallel(n_jobs=-1)]: Done 73940 tasks      | elapsed:  8.5min\n",
      "[Parallel(n_jobs=-1)]: Done 80000 out of 80000 | elapsed:  9.1min finished\n"
     ]
    },
    {
     "name": "stdout",
     "output_type": "stream",
     "text": [
      "Time elapsed: 0:09:07.838081\n",
      "-0.46933539633535276\n",
      "MSE : 99.618226%, \n",
      "In Melanesia\n"
     ]
    },
    {
     "name": "stderr",
     "output_type": "stream",
     "text": [
      "/home/denis/anaconda3/lib/python3.6/site-packages/sklearn/feature_selection/univariate_selection.py:298: RuntimeWarning: divide by zero encountered in true_divide\n",
      "  corr /= X_norms\n",
      "/home/denis/anaconda3/lib/python3.6/site-packages/sklearn/feature_selection/univariate_selection.py:303: RuntimeWarning: invalid value encountered in true_divide\n",
      "  F = corr ** 2 / (1 - corr ** 2) * degrees_of_freedom\n",
      "/home/denis/anaconda3/lib/python3.6/site-packages/scipy/stats/_distn_infrastructure.py:879: RuntimeWarning: invalid value encountered in greater\n",
      "  return (self.a < x) & (x < self.b)\n",
      "/home/denis/anaconda3/lib/python3.6/site-packages/scipy/stats/_distn_infrastructure.py:879: RuntimeWarning: invalid value encountered in less\n",
      "  return (self.a < x) & (x < self.b)\n",
      "/home/denis/anaconda3/lib/python3.6/site-packages/scipy/stats/_distn_infrastructure.py:1821: RuntimeWarning: invalid value encountered in less_equal\n",
      "  cond2 = cond0 & (x <= self.a)\n"
     ]
    },
    {
     "name": "stdout",
     "output_type": "stream",
     "text": [
      "Fitting 8 folds for each of 10000 candidates, totalling 80000 fits\n"
     ]
    },
    {
     "name": "stderr",
     "output_type": "stream",
     "text": [
      "[Parallel(n_jobs=-1)]: Done  32 tasks      | elapsed:    0.5s\n",
      "[Parallel(n_jobs=-1)]: Done 632 tasks      | elapsed:    6.5s\n",
      "[Parallel(n_jobs=-1)]: Done 1632 tasks      | elapsed:   17.8s\n",
      "[Parallel(n_jobs=-1)]: Done 3032 tasks      | elapsed:   34.5s\n",
      "[Parallel(n_jobs=-1)]: Done 4832 tasks      | elapsed:   55.1s\n",
      "[Parallel(n_jobs=-1)]: Done 7032 tasks      | elapsed:  1.4min\n",
      "[Parallel(n_jobs=-1)]: Done 9632 tasks      | elapsed:  1.9min\n",
      "[Parallel(n_jobs=-1)]: Done 11914 tasks      | elapsed:  2.4min\n",
      "[Parallel(n_jobs=-1)]: Done 13614 tasks      | elapsed:  2.7min\n",
      "[Parallel(n_jobs=-1)]: Done 15514 tasks      | elapsed:  3.1min\n",
      "[Parallel(n_jobs=-1)]: Done 17614 tasks      | elapsed:  3.5min\n",
      "[Parallel(n_jobs=-1)]: Done 19914 tasks      | elapsed:  4.0min\n",
      "[Parallel(n_jobs=-1)]: Done 22414 tasks      | elapsed:  4.4min\n",
      "[Parallel(n_jobs=-1)]: Done 25114 tasks      | elapsed:  5.0min\n",
      "[Parallel(n_jobs=-1)]: Done 28014 tasks      | elapsed:  5.5min\n",
      "[Parallel(n_jobs=-1)]: Done 31114 tasks      | elapsed:  6.2min\n",
      "[Parallel(n_jobs=-1)]: Done 34414 tasks      | elapsed:  6.9min\n",
      "[Parallel(n_jobs=-1)]: Done 37914 tasks      | elapsed:  7.5min\n",
      "[Parallel(n_jobs=-1)]: Done 41614 tasks      | elapsed:  8.2min\n",
      "[Parallel(n_jobs=-1)]: Done 45514 tasks      | elapsed:  9.0min\n",
      "[Parallel(n_jobs=-1)]: Done 49614 tasks      | elapsed:  9.9min\n",
      "[Parallel(n_jobs=-1)]: Done 53914 tasks      | elapsed: 10.7min\n",
      "[Parallel(n_jobs=-1)]: Done 58414 tasks      | elapsed: 11.6min\n",
      "[Parallel(n_jobs=-1)]: Done 63114 tasks      | elapsed: 12.5min\n",
      "[Parallel(n_jobs=-1)]: Done 68014 tasks      | elapsed: 13.5min\n",
      "[Parallel(n_jobs=-1)]: Done 73114 tasks      | elapsed: 14.5min\n",
      "[Parallel(n_jobs=-1)]: Done 78414 tasks      | elapsed: 15.6min\n",
      "[Parallel(n_jobs=-1)]: Done 80000 out of 80000 | elapsed: 15.9min finished\n"
     ]
    },
    {
     "name": "stdout",
     "output_type": "stream",
     "text": [
      "Time elapsed: 0:15:54.061134\n",
      "-0.18243350037426986\n",
      "MSE : 99.864998%, \n",
      "In Western Europe\n"
     ]
    },
    {
     "name": "stderr",
     "output_type": "stream",
     "text": [
      "/home/denis/anaconda3/lib/python3.6/site-packages/sklearn/feature_selection/univariate_selection.py:298: RuntimeWarning: divide by zero encountered in true_divide\n",
      "  corr /= X_norms\n",
      "/home/denis/anaconda3/lib/python3.6/site-packages/sklearn/feature_selection/univariate_selection.py:298: RuntimeWarning: invalid value encountered in true_divide\n",
      "  corr /= X_norms\n",
      "/home/denis/anaconda3/lib/python3.6/site-packages/sklearn/feature_selection/univariate_selection.py:303: RuntimeWarning: invalid value encountered in true_divide\n",
      "  F = corr ** 2 / (1 - corr ** 2) * degrees_of_freedom\n",
      "/home/denis/anaconda3/lib/python3.6/site-packages/scipy/stats/_distn_infrastructure.py:879: RuntimeWarning: invalid value encountered in greater\n",
      "  return (self.a < x) & (x < self.b)\n",
      "/home/denis/anaconda3/lib/python3.6/site-packages/scipy/stats/_distn_infrastructure.py:879: RuntimeWarning: invalid value encountered in less\n",
      "  return (self.a < x) & (x < self.b)\n",
      "/home/denis/anaconda3/lib/python3.6/site-packages/scipy/stats/_distn_infrastructure.py:1821: RuntimeWarning: invalid value encountered in less_equal\n",
      "  cond2 = cond0 & (x <= self.a)\n"
     ]
    },
    {
     "name": "stdout",
     "output_type": "stream",
     "text": [
      "Fitting 8 folds for each of 10000 candidates, totalling 80000 fits\n"
     ]
    },
    {
     "name": "stderr",
     "output_type": "stream",
     "text": [
      "[Parallel(n_jobs=-1)]: Done  32 tasks      | elapsed:    0.5s\n",
      "[Parallel(n_jobs=-1)]: Done 632 tasks      | elapsed:    8.3s\n",
      "[Parallel(n_jobs=-1)]: Done 1192 tasks      | elapsed:   16.3s\n",
      "[Parallel(n_jobs=-1)]: Done 1892 tasks      | elapsed:   25.8s\n",
      "[Parallel(n_jobs=-1)]: Done 2792 tasks      | elapsed:   37.9s\n",
      "[Parallel(n_jobs=-1)]: Done 3892 tasks      | elapsed:   51.4s\n",
      "[Parallel(n_jobs=-1)]: Done 5192 tasks      | elapsed:  1.1min\n",
      "[Parallel(n_jobs=-1)]: Done 6692 tasks      | elapsed:  1.4min\n",
      "[Parallel(n_jobs=-1)]: Done 8392 tasks      | elapsed:  1.8min\n",
      "[Parallel(n_jobs=-1)]: Done 10292 tasks      | elapsed:  2.2min\n",
      "[Parallel(n_jobs=-1)]: Done 12392 tasks      | elapsed:  2.7min\n",
      "[Parallel(n_jobs=-1)]: Done 14692 tasks      | elapsed:  3.2min\n",
      "[Parallel(n_jobs=-1)]: Done 17192 tasks      | elapsed:  3.8min\n",
      "[Parallel(n_jobs=-1)]: Done 19892 tasks      | elapsed:  4.3min\n",
      "[Parallel(n_jobs=-1)]: Done 22792 tasks      | elapsed:  4.9min\n",
      "[Parallel(n_jobs=-1)]: Done 25892 tasks      | elapsed:  5.7min\n",
      "[Parallel(n_jobs=-1)]: Done 29192 tasks      | elapsed:  6.4min\n",
      "[Parallel(n_jobs=-1)]: Done 32692 tasks      | elapsed:  7.1min\n",
      "[Parallel(n_jobs=-1)]: Done 36392 tasks      | elapsed:  8.0min\n",
      "[Parallel(n_jobs=-1)]: Done 40292 tasks      | elapsed:  8.8min\n",
      "[Parallel(n_jobs=-1)]: Done 44392 tasks      | elapsed:  9.7min\n",
      "[Parallel(n_jobs=-1)]: Done 48692 tasks      | elapsed: 10.6min\n",
      "[Parallel(n_jobs=-1)]: Done 53192 tasks      | elapsed: 11.6min\n",
      "[Parallel(n_jobs=-1)]: Done 57892 tasks      | elapsed: 12.7min\n",
      "[Parallel(n_jobs=-1)]: Done 62792 tasks      | elapsed: 13.7min\n",
      "[Parallel(n_jobs=-1)]: Done 67892 tasks      | elapsed: 14.9min\n",
      "[Parallel(n_jobs=-1)]: Done 73192 tasks      | elapsed: 16.0min\n",
      "[Parallel(n_jobs=-1)]: Done 78692 tasks      | elapsed: 17.2min\n",
      "[Parallel(n_jobs=-1)]: Done 80000 out of 80000 | elapsed: 17.5min finished\n"
     ]
    },
    {
     "name": "stdout",
     "output_type": "stream",
     "text": [
      "Time elapsed: 0:17:32.033669\n",
      "-0.6972016929269541\n",
      "MSE : 99.687662%, \n",
      "In Northern Europe\n"
     ]
    },
    {
     "name": "stderr",
     "output_type": "stream",
     "text": [
      "/home/denis/anaconda3/lib/python3.6/site-packages/sklearn/feature_selection/univariate_selection.py:298: RuntimeWarning: divide by zero encountered in true_divide\n",
      "  corr /= X_norms\n",
      "/home/denis/anaconda3/lib/python3.6/site-packages/sklearn/feature_selection/univariate_selection.py:298: RuntimeWarning: invalid value encountered in true_divide\n",
      "  corr /= X_norms\n",
      "/home/denis/anaconda3/lib/python3.6/site-packages/sklearn/feature_selection/univariate_selection.py:303: RuntimeWarning: invalid value encountered in true_divide\n",
      "  F = corr ** 2 / (1 - corr ** 2) * degrees_of_freedom\n",
      "/home/denis/anaconda3/lib/python3.6/site-packages/scipy/stats/_distn_infrastructure.py:879: RuntimeWarning: invalid value encountered in greater\n",
      "  return (self.a < x) & (x < self.b)\n",
      "/home/denis/anaconda3/lib/python3.6/site-packages/scipy/stats/_distn_infrastructure.py:879: RuntimeWarning: invalid value encountered in less\n",
      "  return (self.a < x) & (x < self.b)\n",
      "/home/denis/anaconda3/lib/python3.6/site-packages/scipy/stats/_distn_infrastructure.py:1821: RuntimeWarning: invalid value encountered in less_equal\n",
      "  cond2 = cond0 & (x <= self.a)\n"
     ]
    },
    {
     "name": "stdout",
     "output_type": "stream",
     "text": [
      "Fitting 8 folds for each of 10000 candidates, totalling 80000 fits\n"
     ]
    },
    {
     "name": "stderr",
     "output_type": "stream",
     "text": [
      "[Parallel(n_jobs=-1)]: Done  36 tasks      | elapsed:    0.4s\n",
      "[Parallel(n_jobs=-1)]: Done 1260 tasks      | elapsed:    8.8s\n",
      "[Parallel(n_jobs=-1)]: Done 2760 tasks      | elapsed:   19.2s\n",
      "[Parallel(n_jobs=-1)]: Done 4860 tasks      | elapsed:   32.7s\n",
      "[Parallel(n_jobs=-1)]: Done 7560 tasks      | elapsed:   51.2s\n",
      "[Parallel(n_jobs=-1)]: Done 10860 tasks      | elapsed:  1.2min\n",
      "[Parallel(n_jobs=-1)]: Done 14760 tasks      | elapsed:  1.7min\n",
      "[Parallel(n_jobs=-1)]: Done 19260 tasks      | elapsed:  2.3min\n",
      "[Parallel(n_jobs=-1)]: Done 24360 tasks      | elapsed:  2.9min\n",
      "[Parallel(n_jobs=-1)]: Done 30060 tasks      | elapsed:  3.6min\n",
      "[Parallel(n_jobs=-1)]: Done 36360 tasks      | elapsed:  4.3min\n",
      "[Parallel(n_jobs=-1)]: Done 43260 tasks      | elapsed:  5.1min\n",
      "[Parallel(n_jobs=-1)]: Done 50760 tasks      | elapsed:  6.0min\n",
      "[Parallel(n_jobs=-1)]: Done 58860 tasks      | elapsed:  7.0min\n",
      "[Parallel(n_jobs=-1)]: Done 67560 tasks      | elapsed:  8.0min\n",
      "[Parallel(n_jobs=-1)]: Done 76860 tasks      | elapsed:  9.1min\n",
      "[Parallel(n_jobs=-1)]: Done 80000 out of 80000 | elapsed:  9.5min finished\n"
     ]
    },
    {
     "name": "stdout",
     "output_type": "stream",
     "text": [
      "Time elapsed: 0:09:29.016002\n",
      "-0.4799289787954153\n",
      "MSE : 99.877344%, \n",
      "In Central Asia\n"
     ]
    },
    {
     "name": "stderr",
     "output_type": "stream",
     "text": [
      "/home/denis/anaconda3/lib/python3.6/site-packages/sklearn/feature_selection/univariate_selection.py:298: RuntimeWarning: divide by zero encountered in true_divide\n",
      "  corr /= X_norms\n",
      "/home/denis/anaconda3/lib/python3.6/site-packages/sklearn/feature_selection/univariate_selection.py:303: RuntimeWarning: invalid value encountered in true_divide\n",
      "  F = corr ** 2 / (1 - corr ** 2) * degrees_of_freedom\n",
      "/home/denis/anaconda3/lib/python3.6/site-packages/scipy/stats/_distn_infrastructure.py:879: RuntimeWarning: invalid value encountered in greater\n",
      "  return (self.a < x) & (x < self.b)\n",
      "/home/denis/anaconda3/lib/python3.6/site-packages/scipy/stats/_distn_infrastructure.py:879: RuntimeWarning: invalid value encountered in less\n",
      "  return (self.a < x) & (x < self.b)\n",
      "/home/denis/anaconda3/lib/python3.6/site-packages/scipy/stats/_distn_infrastructure.py:1821: RuntimeWarning: invalid value encountered in less_equal\n",
      "  cond2 = cond0 & (x <= self.a)\n"
     ]
    },
    {
     "name": "stdout",
     "output_type": "stream",
     "text": [
      "Fitting 8 folds for each of 10000 candidates, totalling 80000 fits\n"
     ]
    },
    {
     "name": "stderr",
     "output_type": "stream",
     "text": [
      "[Parallel(n_jobs=-1)]: Done  36 tasks      | elapsed:    0.3s\n",
      "[Parallel(n_jobs=-1)]: Done 936 tasks      | elapsed:    6.3s\n",
      "[Parallel(n_jobs=-1)]: Done 2436 tasks      | elapsed:   17.0s\n",
      "[Parallel(n_jobs=-1)]: Done 4536 tasks      | elapsed:   31.5s\n",
      "[Parallel(n_jobs=-1)]: Done 7236 tasks      | elapsed:   50.2s\n",
      "[Parallel(n_jobs=-1)]: Done 10536 tasks      | elapsed:  1.2min\n",
      "[Parallel(n_jobs=-1)]: Done 14436 tasks      | elapsed:  1.7min\n",
      "[Parallel(n_jobs=-1)]: Done 18936 tasks      | elapsed:  2.2min\n",
      "[Parallel(n_jobs=-1)]: Done 24036 tasks      | elapsed:  2.8min\n",
      "[Parallel(n_jobs=-1)]: Done 29736 tasks      | elapsed:  3.4min\n",
      "[Parallel(n_jobs=-1)]: Done 36036 tasks      | elapsed:  4.1min\n",
      "[Parallel(n_jobs=-1)]: Done 42936 tasks      | elapsed:  4.9min\n",
      "[Parallel(n_jobs=-1)]: Done 50436 tasks      | elapsed:  5.8min\n",
      "[Parallel(n_jobs=-1)]: Done 58536 tasks      | elapsed:  6.7min\n",
      "[Parallel(n_jobs=-1)]: Done 67236 tasks      | elapsed:  7.7min\n",
      "[Parallel(n_jobs=-1)]: Done 76536 tasks      | elapsed:  8.7min\n",
      "[Parallel(n_jobs=-1)]: Done 80000 out of 80000 | elapsed:  9.1min finished\n"
     ]
    },
    {
     "name": "stdout",
     "output_type": "stream",
     "text": [
      "Time elapsed: 0:09:06.859234\n",
      "-4.393879519438223\n",
      "MSE : 99.718224%, \n",
      "In Eastern Asia\n"
     ]
    },
    {
     "name": "stderr",
     "output_type": "stream",
     "text": [
      "/home/denis/anaconda3/lib/python3.6/site-packages/sklearn/feature_selection/univariate_selection.py:298: RuntimeWarning: divide by zero encountered in true_divide\n",
      "  corr /= X_norms\n",
      "/home/denis/anaconda3/lib/python3.6/site-packages/sklearn/feature_selection/univariate_selection.py:303: RuntimeWarning: invalid value encountered in true_divide\n",
      "  F = corr ** 2 / (1 - corr ** 2) * degrees_of_freedom\n",
      "/home/denis/anaconda3/lib/python3.6/site-packages/scipy/stats/_distn_infrastructure.py:879: RuntimeWarning: invalid value encountered in greater\n",
      "  return (self.a < x) & (x < self.b)\n",
      "/home/denis/anaconda3/lib/python3.6/site-packages/scipy/stats/_distn_infrastructure.py:879: RuntimeWarning: invalid value encountered in less\n",
      "  return (self.a < x) & (x < self.b)\n",
      "/home/denis/anaconda3/lib/python3.6/site-packages/scipy/stats/_distn_infrastructure.py:1821: RuntimeWarning: invalid value encountered in less_equal\n",
      "  cond2 = cond0 & (x <= self.a)\n"
     ]
    },
    {
     "name": "stdout",
     "output_type": "stream",
     "text": [
      "Fitting 8 folds for each of 10000 candidates, totalling 80000 fits\n"
     ]
    },
    {
     "name": "stderr",
     "output_type": "stream",
     "text": [
      "[Parallel(n_jobs=-1)]: Done  40 tasks      | elapsed:    0.4s\n",
      "[Parallel(n_jobs=-1)]: Done 1240 tasks      | elapsed:    7.3s\n",
      "[Parallel(n_jobs=-1)]: Done 3240 tasks      | elapsed:   17.6s\n",
      "[Parallel(n_jobs=-1)]: Done 6040 tasks      | elapsed:   33.6s\n",
      "[Parallel(n_jobs=-1)]: Done 9640 tasks      | elapsed:   54.0s\n",
      "[Parallel(n_jobs=-1)]: Done 14040 tasks      | elapsed:  1.3min\n",
      "[Parallel(n_jobs=-1)]: Done 19240 tasks      | elapsed:  1.8min\n",
      "[Parallel(n_jobs=-1)]: Done 25240 tasks      | elapsed:  2.4min\n",
      "[Parallel(n_jobs=-1)]: Done 32040 tasks      | elapsed:  3.0min\n",
      "[Parallel(n_jobs=-1)]: Done 39640 tasks      | elapsed:  3.7min\n",
      "[Parallel(n_jobs=-1)]: Done 48040 tasks      | elapsed:  4.5min\n",
      "[Parallel(n_jobs=-1)]: Done 57240 tasks      | elapsed:  5.4min\n",
      "[Parallel(n_jobs=-1)]: Done 67240 tasks      | elapsed:  6.3min\n",
      "[Parallel(n_jobs=-1)]: Done 78040 tasks      | elapsed:  7.3min\n",
      "[Parallel(n_jobs=-1)]: Done 80000 out of 80000 | elapsed:  7.5min finished\n"
     ]
    },
    {
     "name": "stdout",
     "output_type": "stream",
     "text": [
      "Time elapsed: 0:07:32.004999\n",
      "-1.2390538104261644\n",
      "MSE : 99.472950%, \n",
      "In Northern America\n"
     ]
    },
    {
     "name": "stderr",
     "output_type": "stream",
     "text": [
      "/home/denis/anaconda3/lib/python3.6/site-packages/sklearn/feature_selection/univariate_selection.py:298: RuntimeWarning: divide by zero encountered in true_divide\n",
      "  corr /= X_norms\n",
      "/home/denis/anaconda3/lib/python3.6/site-packages/sklearn/feature_selection/univariate_selection.py:298: RuntimeWarning: invalid value encountered in true_divide\n",
      "  corr /= X_norms\n",
      "/home/denis/anaconda3/lib/python3.6/site-packages/sklearn/feature_selection/univariate_selection.py:303: RuntimeWarning: invalid value encountered in true_divide\n",
      "  F = corr ** 2 / (1 - corr ** 2) * degrees_of_freedom\n",
      "/home/denis/anaconda3/lib/python3.6/site-packages/scipy/stats/_distn_infrastructure.py:879: RuntimeWarning: invalid value encountered in greater\n",
      "  return (self.a < x) & (x < self.b)\n",
      "/home/denis/anaconda3/lib/python3.6/site-packages/scipy/stats/_distn_infrastructure.py:879: RuntimeWarning: invalid value encountered in less\n",
      "  return (self.a < x) & (x < self.b)\n",
      "/home/denis/anaconda3/lib/python3.6/site-packages/scipy/stats/_distn_infrastructure.py:1821: RuntimeWarning: invalid value encountered in less_equal\n",
      "  cond2 = cond0 & (x <= self.a)\n"
     ]
    },
    {
     "name": "stdout",
     "output_type": "stream",
     "text": [
      "Fitting 8 folds for each of 10000 candidates, totalling 80000 fits\n"
     ]
    },
    {
     "name": "stderr",
     "output_type": "stream",
     "text": [
      "[Parallel(n_jobs=-1)]: Done  40 tasks      | elapsed:    0.3s\n",
      "[Parallel(n_jobs=-1)]: Done 1240 tasks      | elapsed:    6.8s\n",
      "[Parallel(n_jobs=-1)]: Done 3240 tasks      | elapsed:   17.4s\n",
      "[Parallel(n_jobs=-1)]: Done 6040 tasks      | elapsed:   31.8s\n",
      "[Parallel(n_jobs=-1)]: Done 9640 tasks      | elapsed:   50.2s\n",
      "[Parallel(n_jobs=-1)]: Done 14040 tasks      | elapsed:  1.2min\n",
      "[Parallel(n_jobs=-1)]: Done 19240 tasks      | elapsed:  1.7min\n",
      "[Parallel(n_jobs=-1)]: Done 25240 tasks      | elapsed:  2.2min\n",
      "[Parallel(n_jobs=-1)]: Done 32040 tasks      | elapsed:  2.8min\n",
      "[Parallel(n_jobs=-1)]: Done 39640 tasks      | elapsed:  3.4min\n",
      "[Parallel(n_jobs=-1)]: Done 48040 tasks      | elapsed:  4.1min\n",
      "[Parallel(n_jobs=-1)]: Done 57240 tasks      | elapsed:  4.9min\n",
      "[Parallel(n_jobs=-1)]: Done 67240 tasks      | elapsed:  5.8min\n",
      "[Parallel(n_jobs=-1)]: Done 78040 tasks      | elapsed:  6.7min\n",
      "[Parallel(n_jobs=-1)]: Done 80000 out of 80000 | elapsed:  6.9min finished\n"
     ]
    },
    {
     "name": "stdout",
     "output_type": "stream",
     "text": [
      "Time elapsed: 0:06:55.126268\n",
      "-0.7690055595359245\n",
      "MSE : 99.111031%, \n",
      "In Polynesia\n"
     ]
    },
    {
     "name": "stderr",
     "output_type": "stream",
     "text": [
      "/home/denis/anaconda3/lib/python3.6/site-packages/sklearn/feature_selection/univariate_selection.py:298: RuntimeWarning: divide by zero encountered in true_divide\n",
      "  corr /= X_norms\n",
      "/home/denis/anaconda3/lib/python3.6/site-packages/sklearn/feature_selection/univariate_selection.py:303: RuntimeWarning: invalid value encountered in true_divide\n",
      "  F = corr ** 2 / (1 - corr ** 2) * degrees_of_freedom\n",
      "/home/denis/anaconda3/lib/python3.6/site-packages/scipy/stats/_distn_infrastructure.py:879: RuntimeWarning: invalid value encountered in greater\n",
      "  return (self.a < x) & (x < self.b)\n",
      "/home/denis/anaconda3/lib/python3.6/site-packages/scipy/stats/_distn_infrastructure.py:879: RuntimeWarning: invalid value encountered in less\n",
      "  return (self.a < x) & (x < self.b)\n",
      "/home/denis/anaconda3/lib/python3.6/site-packages/scipy/stats/_distn_infrastructure.py:1821: RuntimeWarning: invalid value encountered in less_equal\n",
      "  cond2 = cond0 & (x <= self.a)\n"
     ]
    },
    {
     "name": "stdout",
     "output_type": "stream",
     "text": [
      "Fitting 8 folds for each of 10000 candidates, totalling 80000 fits\n"
     ]
    },
    {
     "name": "stderr",
     "output_type": "stream",
     "text": [
      "[Parallel(n_jobs=-1)]: Done  32 tasks      | elapsed:    0.4s\n",
      "[Parallel(n_jobs=-1)]: Done 632 tasks      | elapsed:    3.0s\n",
      "[Parallel(n_jobs=-1)]: Done 1632 tasks      | elapsed:    7.6s\n",
      "[Parallel(n_jobs=-1)]: Done 3032 tasks      | elapsed:   14.1s\n",
      "[Parallel(n_jobs=-1)]: Done 4832 tasks      | elapsed:   22.4s\n",
      "[Parallel(n_jobs=-1)]: Done 7032 tasks      | elapsed:   32.9s\n",
      "[Parallel(n_jobs=-1)]: Done 9632 tasks      | elapsed:   45.3s\n",
      "[Parallel(n_jobs=-1)]: Done 12632 tasks      | elapsed:   59.4s\n",
      "[Parallel(n_jobs=-1)]: Done 16032 tasks      | elapsed:  1.3min\n",
      "[Parallel(n_jobs=-1)]: Done 19832 tasks      | elapsed:  1.5min\n",
      "[Parallel(n_jobs=-1)]: Done 24032 tasks      | elapsed:  1.9min\n",
      "[Parallel(n_jobs=-1)]: Done 28632 tasks      | elapsed:  2.2min\n",
      "[Parallel(n_jobs=-1)]: Done 33632 tasks      | elapsed:  2.6min\n",
      "[Parallel(n_jobs=-1)]: Done 39032 tasks      | elapsed:  3.0min\n",
      "[Parallel(n_jobs=-1)]: Done 44832 tasks      | elapsed:  3.4min\n",
      "[Parallel(n_jobs=-1)]: Done 51032 tasks      | elapsed:  3.9min\n",
      "[Parallel(n_jobs=-1)]: Done 57632 tasks      | elapsed:  4.4min\n",
      "[Parallel(n_jobs=-1)]: Done 64632 tasks      | elapsed:  4.9min\n",
      "[Parallel(n_jobs=-1)]: Done 72032 tasks      | elapsed:  5.5min\n",
      "[Parallel(n_jobs=-1)]: Done 79832 tasks      | elapsed:  6.1min\n",
      "[Parallel(n_jobs=-1)]: Done 80000 out of 80000 | elapsed:  6.1min finished\n"
     ]
    },
    {
     "name": "stdout",
     "output_type": "stream",
     "text": [
      "Time elapsed: 0:06:07.378326\n",
      "-0.1609113678059338\n",
      "MSE : 99.935141%, \n",
      "In Micronesia\n"
     ]
    },
    {
     "name": "stderr",
     "output_type": "stream",
     "text": [
      "/home/denis/anaconda3/lib/python3.6/site-packages/sklearn/feature_selection/univariate_selection.py:298: RuntimeWarning: divide by zero encountered in true_divide\n",
      "  corr /= X_norms\n",
      "/home/denis/anaconda3/lib/python3.6/site-packages/sklearn/feature_selection/univariate_selection.py:303: RuntimeWarning: invalid value encountered in true_divide\n",
      "  F = corr ** 2 / (1 - corr ** 2) * degrees_of_freedom\n",
      "/home/denis/anaconda3/lib/python3.6/site-packages/scipy/stats/_distn_infrastructure.py:879: RuntimeWarning: invalid value encountered in greater\n",
      "  return (self.a < x) & (x < self.b)\n",
      "/home/denis/anaconda3/lib/python3.6/site-packages/scipy/stats/_distn_infrastructure.py:879: RuntimeWarning: invalid value encountered in less\n",
      "  return (self.a < x) & (x < self.b)\n",
      "/home/denis/anaconda3/lib/python3.6/site-packages/scipy/stats/_distn_infrastructure.py:1821: RuntimeWarning: invalid value encountered in less_equal\n",
      "  cond2 = cond0 & (x <= self.a)\n"
     ]
    },
    {
     "name": "stdout",
     "output_type": "stream",
     "text": [
      "\n"
     ]
    }
   ],
   "source": [
    "Resmaking(df)"
   ]
  },
  {
   "cell_type": "code",
   "execution_count": 9,
   "metadata": {
    "ExecuteTime": {
     "end_time": "2018-05-10T04:42:24.785361Z",
     "start_time": "2018-05-10T04:42:24.778591Z"
    }
   },
   "outputs": [],
   "source": [
    "def Resmaking_for_contr(df, country):\n",
    "    tmp = list(makexy(df, country))\n",
    "    tmp.append(tmp[0].columns)\n",
    "        \n",
    "    X_train, X_test, y_train, y_test = train_test_split(tmp[0].as_matrix(), tmp[1].as_matrix(), test_size=0.1, random_state=42)\n",
    "    p = Testing_grid_xgb(X_train, y_train)\n",
    "        \n",
    "    model = xgb.XGBRegressor(max_depth=p['max_depth'], learning_rate = p['learning_rate'], \n",
    "                                 n_estimators = p['n_estimators'], objective = p['objective'], \n",
    "                                 gamma = p['gamma'], min_child_weight = p['min_child_weight'], \n",
    "                                 max_delta_step = p['max_delta_step'], subsample = p['subsample'], \n",
    "                                 colsample_bytree = p['colsample_bytree'], reg_alpha = p['reg_alpha'], \n",
    "                                 reg_lambda = p['reg_lambda'], scale_pos_weight = p['scale_pos_weight'], \n",
    "                                 base_score = p['base_score'])\n",
    "    model.fit(X_train, y_train)\n",
    "        \n",
    "    print ('MSE : {0:f}%, \\nIn {1:s}'.format(100-mean_squared_error(model.predict(X_test), y_test), country))\n",
    "        \n",
    "    model.fit(tmp[0], tmp[1])\n",
    "    tmp[0] = np.nan_to_num(tmp[0].as_matrix())\n",
    "    tmp[1] = np.nan_to_num(tmp[1].as_matrix())\n",
    "    \n",
    "    rez = pd.DataFrame(model.feature_importances_, index = tmp[2]).sort_values(by = [0], ascending=False)\n",
    "    rez[rez[0]!=0].to_excel('Importance/Varible_reg_in_'+str(country)+'.xlsx')\n",
    "        \n",
    "    rez = pd.concat([pd.DataFrame(f_regression(tmp[0], tmp[1].ravel())[0], columns=['F-value'], index=tmp[2]),\n",
    "                     pd.DataFrame(f_regression(tmp[0], tmp[1].ravel())[1], columns=['p-value'], index=tmp[2])], axis=1)\n",
    "    rez['p-value'] = rez['p-value'].apply(lambda x: round(x, 5))\n",
    "        \n",
    "    rez[rez['p-value']<0.01].sort_values(by = ['F-value'], ascending=False).to_excel('Importance/Varible_f_reg_in_'+str(country)+'.xlsx')\n",
    "        \n",
    "    rez = pd.DataFrame(mutual_info_regression(tmp[0], tmp[1].ravel()),\n",
    "                           index = tmp[2]).sort_values(by = [0], ascending=False)\n",
    "    rez[rez[0]!=0].to_excel('Importance/Varible_muatal_reg_in_'+str(country)+'.xlsx')"
   ]
  },
  {
   "cell_type": "code",
   "execution_count": 10,
   "metadata": {
    "ExecuteTime": {
     "end_time": "2018-05-10T04:48:46.719937Z",
     "start_time": "2018-05-10T04:42:24.786449Z"
    }
   },
   "outputs": [
    {
     "name": "stdout",
     "output_type": "stream",
     "text": [
      "Fitting 8 folds for each of 10000 candidates, totalling 80000 fits\n"
     ]
    },
    {
     "name": "stderr",
     "output_type": "stream",
     "text": [
      "[Parallel(n_jobs=-1)]: Done  40 tasks      | elapsed:    0.3s\n",
      "[Parallel(n_jobs=-1)]: Done 1240 tasks      | elapsed:    5.9s\n",
      "[Parallel(n_jobs=-1)]: Done 3240 tasks      | elapsed:   15.9s\n",
      "[Parallel(n_jobs=-1)]: Done 6040 tasks      | elapsed:   29.6s\n",
      "[Parallel(n_jobs=-1)]: Done 9640 tasks      | elapsed:   46.4s\n",
      "[Parallel(n_jobs=-1)]: Done 14040 tasks      | elapsed:  1.1min\n",
      "[Parallel(n_jobs=-1)]: Done 19240 tasks      | elapsed:  1.5min\n",
      "[Parallel(n_jobs=-1)]: Done 25240 tasks      | elapsed:  2.0min\n",
      "[Parallel(n_jobs=-1)]: Done 32040 tasks      | elapsed:  2.5min\n",
      "[Parallel(n_jobs=-1)]: Done 39640 tasks      | elapsed:  3.1min\n",
      "[Parallel(n_jobs=-1)]: Done 48040 tasks      | elapsed:  3.8min\n",
      "[Parallel(n_jobs=-1)]: Done 57240 tasks      | elapsed:  4.5min\n",
      "[Parallel(n_jobs=-1)]: Done 67240 tasks      | elapsed:  5.3min\n",
      "[Parallel(n_jobs=-1)]: Done 78040 tasks      | elapsed:  6.2min\n",
      "[Parallel(n_jobs=-1)]: Done 80000 out of 80000 | elapsed:  6.3min finished\n"
     ]
    },
    {
     "name": "stdout",
     "output_type": "stream",
     "text": [
      "Time elapsed: 0:06:21.570331\n",
      "-0.36721313107861697\n",
      "MSE : 97.812259%, \n",
      "In RUS\n"
     ]
    },
    {
     "name": "stderr",
     "output_type": "stream",
     "text": [
      "/home/denis/anaconda3/lib/python3.6/site-packages/sklearn/feature_selection/univariate_selection.py:298: RuntimeWarning: divide by zero encountered in true_divide\n",
      "  corr /= X_norms\n",
      "/home/denis/anaconda3/lib/python3.6/site-packages/sklearn/feature_selection/univariate_selection.py:303: RuntimeWarning: invalid value encountered in true_divide\n",
      "  F = corr ** 2 / (1 - corr ** 2) * degrees_of_freedom\n",
      "/home/denis/anaconda3/lib/python3.6/site-packages/scipy/stats/_distn_infrastructure.py:879: RuntimeWarning: invalid value encountered in greater\n",
      "  return (self.a < x) & (x < self.b)\n",
      "/home/denis/anaconda3/lib/python3.6/site-packages/scipy/stats/_distn_infrastructure.py:879: RuntimeWarning: invalid value encountered in less\n",
      "  return (self.a < x) & (x < self.b)\n",
      "/home/denis/anaconda3/lib/python3.6/site-packages/scipy/stats/_distn_infrastructure.py:1821: RuntimeWarning: invalid value encountered in less_equal\n",
      "  cond2 = cond0 & (x <= self.a)\n"
     ]
    }
   ],
   "source": [
    "Resmaking_for_contr(df, 'RUS')"
   ]
  }
 ],
 "metadata": {
  "gist": {
   "data": {
    "description": "GitHub/python/RUDN/Treebased.ipynb",
    "public": false
   },
   "id": ""
  },
  "kernelspec": {
   "display_name": "Python 3",
   "language": "python",
   "name": "python3"
  },
  "language_info": {
   "codemirror_mode": {
    "name": "ipython",
    "version": 3
   },
   "file_extension": ".py",
   "mimetype": "text/x-python",
   "name": "python",
   "nbconvert_exporter": "python",
   "pygments_lexer": "ipython3",
   "version": "3.6.5"
  },
  "toc": {
   "base_numbering": 1,
   "nav_menu": {},
   "number_sections": true,
   "sideBar": true,
   "skip_h1_title": false,
   "title_cell": "Table of Contents",
   "title_sidebar": "Contents",
   "toc_cell": false,
   "toc_position": {},
   "toc_section_display": true,
   "toc_window_display": false
  }
 },
 "nbformat": 4,
 "nbformat_minor": 2
}
