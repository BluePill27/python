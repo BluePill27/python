{
 "cells": [
  {
   "cell_type": "code",
   "execution_count": 1,
   "metadata": {
    "ExecuteTime": {
     "end_time": "2018-04-11T17:24:23.952665Z",
     "start_time": "2018-04-11T17:24:23.611859Z"
    },
    "scrolled": true
   },
   "outputs": [],
   "source": [
    "import pandas as pd\n",
    "import numpy as np\n",
    "\n",
    "import datetime\n",
    "\n",
    "from tqdm._tqdm_notebook import tqdm_notebook\n",
    "\n",
    "tqdm_notebook.pandas()\n",
    "\n",
    "import xgboost as xgb \n",
    "\n",
    "from sklearn.model_selection import RandomizedSearchCV, TimeSeriesSplit, train_test_split\n",
    "from sklearn.feature_selection import f_regression, mutual_info_regression\n",
    "from sklearn.metrics import mean_squared_error\n",
    "\n",
    "import graphviz\n",
    "\n",
    "import matplotlib.pyplot as plt\n",
    "%matplotlib inline"
   ]
  },
  {
   "cell_type": "code",
   "execution_count": 2,
   "metadata": {
    "ExecuteTime": {
     "end_time": "2018-04-11T17:24:23.966906Z",
     "start_time": "2018-04-11T17:24:23.953947Z"
    }
   },
   "outputs": [],
   "source": [
    "def fillnan(data, years_c):\n",
    "    for name in years_c:\n",
    "        #заменяем троеточия\n",
    "        data[name] = data[name].apply(lambda x: np.nan if x==('..') else float(x))\n",
    "\n",
    "    return data\n",
    "\n",
    "def dropempt(data, years_c):\n",
    "    data = fillnan(data, years_c)\n",
    "    return data.dropna(thresh=10)\n",
    "\n",
    "def Clearing(data):\n",
    "    years_c = [item for ind, item in enumerate(np.array(data.columns)) if item not in ['Country Name', 'Country Code','Series Code','Series Name']]\n",
    "    print ('Before clear:', len(data))\n",
    "\n",
    "    data = dropempt(data, years_c)\n",
    "\n",
    "    print ('After clear:', len(data))\n",
    "    return data"
   ]
  },
  {
   "cell_type": "code",
   "execution_count": 3,
   "metadata": {
    "ExecuteTime": {
     "end_time": "2018-04-11T17:24:23.981641Z",
     "start_time": "2018-04-11T17:24:23.968586Z"
    }
   },
   "outputs": [],
   "source": [
    "def Make_region(code, reg='region', by = 'name'):\n",
    "    #print code\n",
    "    if code in data_cnt[by].values:\n",
    "        #print code\n",
    "        name = (data_cnt[by][data_cnt[by] == code].index.tolist())[0]\n",
    "        return data_cnt[reg].at[name]\n",
    "    else:\n",
    "        return np.nan\n",
    "\n",
    "def Sorting(data, reg='region'):\n",
    "    #if data['Country Name'].get_value(len(data)-5) == np.nan:\n",
    "    #    data=data.drop(data.index[[range(len(data)-5, len(data))]]).reset_index()\n",
    "    if 'Region' not in data.columns:\n",
    "        data['Region'] = data['Country Name'].progress_apply(lambda x: Make_region(x, reg))\n",
    "        data['Region'].dropna()\n",
    "        return data.reset_index()\n",
    "    else:\n",
    "        return data"
   ]
  },
  {
   "cell_type": "code",
   "execution_count": 4,
   "metadata": {
    "ExecuteTime": {
     "end_time": "2018-04-11T17:25:50.298339Z",
     "start_time": "2018-04-11T17:24:23.982936Z"
    }
   },
   "outputs": [
    {
     "name": "stdout",
     "output_type": "stream",
     "text": [
      "Before clear: 398541\n",
      "After clear: 104445\n"
     ]
    },
    {
     "data": {
      "application/vnd.jupyter.widget-view+json": {
       "model_id": "0b5eb8779ae74408a061d7b5eba80d2c",
       "version_major": 2,
       "version_minor": 0
      },
      "text/html": [
       "<p>Failed to display Jupyter Widget of type <code>HBox</code>.</p>\n",
       "<p>\n",
       "  If you're reading this message in the Jupyter Notebook or JupyterLab Notebook, it may mean\n",
       "  that the widgets JavaScript is still loading. If this message persists, it\n",
       "  likely means that the widgets JavaScript library is either not installed or\n",
       "  not enabled. See the <a href=\"https://ipywidgets.readthedocs.io/en/stable/user_install.html\">Jupyter\n",
       "  Widgets Documentation</a> for setup instructions.\n",
       "</p>\n",
       "<p>\n",
       "  If you're reading this message in another frontend (for example, a static\n",
       "  rendering on GitHub or <a href=\"https://nbviewer.jupyter.org/\">NBViewer</a>),\n",
       "  it may mean that your frontend doesn't currently support widgets.\n",
       "</p>\n"
      ],
      "text/plain": [
       "HBox(children=(IntProgress(value=0, max=104445), HTML(value='')))"
      ]
     },
     "metadata": {},
     "output_type": "display_data"
    },
    {
     "name": "stdout",
     "output_type": "stream",
     "text": [
      "\n"
     ]
    }
   ],
   "source": [
    "df = pd.read_excel('data/Data_Extract_From_Gender_Statistics.xlsx', encoding = 'utf8').\\\n",
    "            append(pd.read_excel('data/Data_Extract_From_Health_Nutrition_and_Population_Statistics.xlsx', encoding='utf8')).\\\n",
    "            append(pd.read_excel('data/Data_Extract_From_Millennium_Development_Goals.xlsx', encoding='utf8')).\\\n",
    "            append(pd.read_excel('data/Data_Extract_From_Health_Nutrition_and_Population_Statistics_by_Wealth_Quintile.xlsx',encoding='utf8'))\n",
    "\n",
    "data_cnt = pd.read_csv('all.csv', encoding='utf8')\n",
    "df = Clearing(df)\n",
    "defen = pd.read_excel('data/Data_Extract_From_Gender_Statistics.xlsx', sheet_name=1, encoding = 'utf8').\\\n",
    "               append(pd.read_excel('data/Data_Extract_From_Health_Nutrition_and_Population_Statistics.xlsx', sheet_name=1, encoding='utf8')).\\\n",
    "               append(pd.read_excel('data/Data_Extract_From_Millennium_Development_Goals.xlsx', sheet_name=1, encoding='utf8'))\n",
    "\n",
    "df = Sorting(df, 'sub-region')\n",
    "df.drop_duplicates(inplace = True)\n",
    "df.drop(columns = 'index', inplace=True)"
   ]
  },
  {
   "cell_type": "code",
   "execution_count": 5,
   "metadata": {
    "ExecuteTime": {
     "end_time": "2018-04-11T17:25:50.339378Z",
     "start_time": "2018-04-11T17:25:50.299578Z"
    }
   },
   "outputs": [],
   "source": [
    "def makexy(df, country = 'RUS'):\n",
    "    #Years\n",
    "    years_c = [item for ind, item in enumerate(np.array(df.columns)) if item not in ['Region','Country Name', 'Country Code','Series Code','Series Name', 'index']]\n",
    "    \n",
    "    #split country\n",
    "    df = df[(df['Country Code']== country)].copy()\n",
    "    df.drop_duplicates(inplace = True)\n",
    "    \n",
    "    y = df[df['Series Name'] == 'Life expectancy at birth, total (years)'][years_c].interpolate(axis=1).T\n",
    "    \n",
    "    if y.shape[1] == 1:\n",
    "        y.columns = ['Life expectancy at birth, total (years)']\n",
    "    else:\n",
    "        return pd.DataFrame(), pd.DataFrame()\n",
    "    \n",
    "    #Transponenting and then adding \n",
    "    mask = ((df['Series Name'] != 'Life expectancy at birth, male (years)') & \n",
    "            (df['Series Name'] != 'Life expectancy at birth, female (years)') &\n",
    "            (df['Series Name'] != 'Life expectancy at birth, total (years)'))\n",
    "    \n",
    "    X = df[mask][years_c].T\n",
    "    X.columns = df[(df['Country Code']== country) & mask]['Series Name']\n",
    "    X.reset_index(inplace = True, drop = True)\n",
    "    del df\n",
    "    \n",
    "    X['Years'] = [int(name.split()[0]) for name in years_c]\n",
    "    X['Region_code'] = int(Make_region(country,'region-code', by = 'alpha-3'))\n",
    "    X['Reion_sub_code'] = int(Make_region(country, 'sub-region-code', 'alpha-3'))\n",
    "    X['Country_code'] = int(Make_region(country, 'country-code', 'alpha-3'))\n",
    "    return X.reset_index(drop = True), y.reset_index(drop = True)\n",
    "\n",
    "def train_set(df, region = 'Eastern Europe'):\n",
    "    x_train, y_train = pd.DataFrame(), pd.DataFrame()\n",
    "    for country in df[df['Region'] == region]['Country Code'].unique():\n",
    "        tmp = makexy(df, country)\n",
    "        x_train = pd.concat([tmp[0], x_train], axis=0).fillna(-999)\n",
    "        y_train = pd.concat([tmp[1], y_train], axis=0).fillna(-999)\n",
    "    return x_train.as_matrix(), y_train.as_matrix(), x_train.columns\n",
    "    "
   ]
  },
  {
   "cell_type": "code",
   "execution_count": 6,
   "metadata": {
    "ExecuteTime": {
     "end_time": "2018-04-11T17:25:50.357388Z",
     "start_time": "2018-04-11T17:25:50.340721Z"
    }
   },
   "outputs": [],
   "source": [
    "def Testing_grid_xgb(X_train, Y_train):\n",
    "    cv = TimeSeriesSplit(n_splits=4)\n",
    "    clf = xgb.XGBRegressor()        \n",
    "    parameters = {\n",
    "        'scale_pos_weight' : [1, 1.5, 1.2],\n",
    "        'objective':['reg:linear'],\n",
    "        'learning_rate': [0.05, 0.1, 0.2, 0.3],\n",
    "        'max_depth': [3 ,4 ,6, 5],\n",
    "        'min_child_weight': [2, 3 ,4, 5],\n",
    "        'max_delta_step': [0, 0.2, 0.8],\n",
    "        'reg_lambda': [0.5, 0.8, 0],\n",
    "        'reg_alpha': [0.5, 0.8, 0],\n",
    "        'silent': [1],\n",
    "        'subsample': [0.2, 0.05, 0.3, 0.4],\n",
    "        'colsample_bytree': [0.7, 0.8, 1],\n",
    "        'n_estimators': [100 ,250, 450],\n",
    "        'base_score' : [0.5, 1],\n",
    "        'gamma': [0, 0.5, 1]\n",
    "    }\n",
    "    \n",
    "    start_time = datetime.datetime.now()\n",
    "    gs = RandomizedSearchCV(clf, scoring='neg_mean_squared_error', param_distributions=parameters, \n",
    "                      cv=cv, n_jobs = -1, verbose=True,  n_iter=3000)\n",
    "    gs.fit(X_train,Y_train)\n",
    "    print ('Time elapsed:', datetime.datetime.now() - start_time)\n",
    "    \n",
    "    means = gs.cv_results_['mean_test_score']\n",
    "    \n",
    "    print (max(means))\n",
    "    return gs.best_params_"
   ]
  },
  {
   "cell_type": "code",
   "execution_count": 7,
   "metadata": {
    "ExecuteTime": {
     "end_time": "2018-04-11T17:25:50.397694Z",
     "start_time": "2018-04-11T17:25:50.360707Z"
    }
   },
   "outputs": [],
   "source": [
    "def Resmaking(df):\n",
    "    for region in tqdm_notebook(df['Region'].dropna().unique()):\n",
    "        tmp = train_set(df, region)\n",
    "        X_train, X_test, y_train, y_test = train_test_split(tmp[0], tmp[1], test_size=0.25,\n",
    "                                                            shuffle = True, random_state=42)\n",
    "        p = Testing_grid_xgb(X_train, y_train)\n",
    "        \n",
    "        model = xgb.XGBRegressor(max_depth=p['max_depth'], learning_rate = p['learning_rate'], \n",
    "                                 n_estimators = p['n_estimators'], objective = p['objective'], \n",
    "                                 gamma = p['gamma'], min_child_weight = p['min_child_weight'], \n",
    "                                 max_delta_step = p['max_delta_step'], subsample = p['subsample'], \n",
    "                                 colsample_bytree = p['colsample_bytree'], reg_alpha = p['reg_alpha'], \n",
    "                                 reg_lambda = p['reg_lambda'], scale_pos_weight = p['scale_pos_weight'], \n",
    "                                 base_score = p['base_score'])\n",
    "        model.fit(X_train, y_train)\n",
    "        \n",
    "        print ('MSE : {0:f}%, \\nIn {1:s}'.format(100-mean_squared_error(model.predict(X_test), y_test), region))\n",
    "        \n",
    "        model.fit(tmp[0], tmp[1])\n",
    "        \n",
    "        rez = pd.DataFrame(model.feature_importances_, index = tmp[2]).sort_values(by = [0], ascending=False)\n",
    "        rez[rez[0]!=0].to_csv('Importance/Varible_in_'+str(region)+'.csv')\n",
    "        \n",
    "        rez = pd.concat([pd.DataFrame(f_regression(tmp[0], tmp[1].ravel())[0], columns=['F-value'], index=tmp[2]),\n",
    "                         pd.DataFrame(f_regression(tmp[0], tmp[1].ravel())[1], columns=['p-value'], index=tmp[2])], axis=1)\n",
    "        rez['p-value'] = rez['p-value'].apply(lambda x: round(x, 5))\n",
    "        \n",
    "        rez[rez['p-value']<0.01].to_csv('Importance/Varible_f_reg_in_'+str(region)+'.csv')\n",
    "        \n",
    "        rez = pd.DataFrame(mutual_info_regression(tmp[0], tmp[1].ravel()),\n",
    "                           index = tmp[2]).sort_values(by = [0], ascending=False)\n",
    "        rez[rez[0]!=0].to_csv('Importance/Varible_muatal_in_'+str(region)+'.csv')"
   ]
  },
  {
   "cell_type": "code",
   "execution_count": 8,
   "metadata": {
    "ExecuteTime": {
     "end_time": "2018-04-11T18:18:52.327653Z",
     "start_time": "2018-04-11T17:25:50.398949Z"
    },
    "scrolled": true
   },
   "outputs": [
    {
     "data": {
      "application/vnd.jupyter.widget-view+json": {
       "model_id": "a8d07d4871d24ce6be6efc69af717746",
       "version_major": 2,
       "version_minor": 0
      },
      "text/html": [
       "<p>Failed to display Jupyter Widget of type <code>HBox</code>.</p>\n",
       "<p>\n",
       "  If you're reading this message in the Jupyter Notebook or JupyterLab Notebook, it may mean\n",
       "  that the widgets JavaScript is still loading. If this message persists, it\n",
       "  likely means that the widgets JavaScript library is either not installed or\n",
       "  not enabled. See the <a href=\"https://ipywidgets.readthedocs.io/en/stable/user_install.html\">Jupyter\n",
       "  Widgets Documentation</a> for setup instructions.\n",
       "</p>\n",
       "<p>\n",
       "  If you're reading this message in another frontend (for example, a static\n",
       "  rendering on GitHub or <a href=\"https://nbviewer.jupyter.org/\">NBViewer</a>),\n",
       "  it may mean that your frontend doesn't currently support widgets.\n",
       "</p>\n"
      ],
      "text/plain": [
       "HBox(children=(IntProgress(value=0, max=22), HTML(value='')))"
      ]
     },
     "metadata": {},
     "output_type": "display_data"
    },
    {
     "name": "stdout",
     "output_type": "stream",
     "text": [
      "Fitting 4 folds for each of 3000 candidates, totalling 12000 fits\n"
     ]
    },
    {
     "name": "stderr",
     "output_type": "stream",
     "text": [
      "[Parallel(n_jobs=-1)]: Done  30 tasks      | elapsed:    0.6s\n",
      "[Parallel(n_jobs=-1)]: Done 328 tasks      | elapsed:    4.4s\n",
      "[Parallel(n_jobs=-1)]: Done 828 tasks      | elapsed:   10.7s\n",
      "[Parallel(n_jobs=-1)]: Done 1528 tasks      | elapsed:   19.7s\n",
      "[Parallel(n_jobs=-1)]: Done 2428 tasks      | elapsed:   31.2s\n",
      "[Parallel(n_jobs=-1)]: Done 3528 tasks      | elapsed:   44.2s\n",
      "[Parallel(n_jobs=-1)]: Done 4828 tasks      | elapsed:  1.0min\n",
      "[Parallel(n_jobs=-1)]: Done 6328 tasks      | elapsed:  1.4min\n",
      "[Parallel(n_jobs=-1)]: Done 8028 tasks      | elapsed:  1.8min\n",
      "[Parallel(n_jobs=-1)]: Done 9928 tasks      | elapsed:  2.2min\n",
      "[Parallel(n_jobs=-1)]: Done 12000 out of 12000 | elapsed:  2.6min finished\n"
     ]
    },
    {
     "name": "stdout",
     "output_type": "stream",
     "text": [
      "Time elapsed: 0:02:37.576438\n",
      "-2.4965683162371435\n",
      "MSE : 99.398320%, \n",
      "In Southern Asia\n"
     ]
    },
    {
     "name": "stderr",
     "output_type": "stream",
     "text": [
      "/home/denis/anaconda3/lib/python3.6/site-packages/sklearn/feature_selection/univariate_selection.py:298: RuntimeWarning: divide by zero encountered in true_divide\n",
      "  corr /= X_norms\n",
      "/home/denis/anaconda3/lib/python3.6/site-packages/sklearn/feature_selection/univariate_selection.py:303: RuntimeWarning: invalid value encountered in true_divide\n",
      "  F = corr ** 2 / (1 - corr ** 2) * degrees_of_freedom\n",
      "/home/denis/anaconda3/lib/python3.6/site-packages/scipy/stats/_distn_infrastructure.py:879: RuntimeWarning: invalid value encountered in greater\n",
      "  return (self.a < x) & (x < self.b)\n",
      "/home/denis/anaconda3/lib/python3.6/site-packages/scipy/stats/_distn_infrastructure.py:879: RuntimeWarning: invalid value encountered in less\n",
      "  return (self.a < x) & (x < self.b)\n",
      "/home/denis/anaconda3/lib/python3.6/site-packages/scipy/stats/_distn_infrastructure.py:1821: RuntimeWarning: invalid value encountered in less_equal\n",
      "  cond2 = cond0 & (x <= self.a)\n"
     ]
    },
    {
     "name": "stdout",
     "output_type": "stream",
     "text": [
      "Fitting 4 folds for each of 3000 candidates, totalling 12000 fits\n"
     ]
    },
    {
     "name": "stderr",
     "output_type": "stream",
     "text": [
      "[Parallel(n_jobs=-1)]: Done  44 tasks      | elapsed:    0.6s\n",
      "[Parallel(n_jobs=-1)]: Done 1339 tasks      | elapsed:   10.2s\n",
      "[Parallel(n_jobs=-1)]: Done 2589 tasks      | elapsed:   20.4s\n",
      "[Parallel(n_jobs=-1)]: Done 4339 tasks      | elapsed:   34.6s\n",
      "[Parallel(n_jobs=-1)]: Done 6589 tasks      | elapsed:   54.1s\n",
      "[Parallel(n_jobs=-1)]: Done 9339 tasks      | elapsed:  1.3min\n",
      "[Parallel(n_jobs=-1)]: Done 12000 out of 12000 | elapsed:  1.7min finished\n"
     ]
    },
    {
     "name": "stdout",
     "output_type": "stream",
     "text": [
      "Time elapsed: 0:01:39.636134\n",
      "-0.6631576281249901\n",
      "MSE : 99.862632%, \n",
      "In Northern Africa\n"
     ]
    },
    {
     "name": "stderr",
     "output_type": "stream",
     "text": [
      "/home/denis/anaconda3/lib/python3.6/site-packages/sklearn/feature_selection/univariate_selection.py:298: RuntimeWarning: divide by zero encountered in true_divide\n",
      "  corr /= X_norms\n",
      "/home/denis/anaconda3/lib/python3.6/site-packages/sklearn/feature_selection/univariate_selection.py:303: RuntimeWarning: invalid value encountered in true_divide\n",
      "  F = corr ** 2 / (1 - corr ** 2) * degrees_of_freedom\n",
      "/home/denis/anaconda3/lib/python3.6/site-packages/scipy/stats/_distn_infrastructure.py:879: RuntimeWarning: invalid value encountered in greater\n",
      "  return (self.a < x) & (x < self.b)\n",
      "/home/denis/anaconda3/lib/python3.6/site-packages/scipy/stats/_distn_infrastructure.py:879: RuntimeWarning: invalid value encountered in less\n",
      "  return (self.a < x) & (x < self.b)\n",
      "/home/denis/anaconda3/lib/python3.6/site-packages/scipy/stats/_distn_infrastructure.py:1821: RuntimeWarning: invalid value encountered in less_equal\n",
      "  cond2 = cond0 & (x <= self.a)\n"
     ]
    },
    {
     "name": "stdout",
     "output_type": "stream",
     "text": [
      "Fitting 4 folds for each of 3000 candidates, totalling 12000 fits\n"
     ]
    },
    {
     "name": "stderr",
     "output_type": "stream",
     "text": [
      "[Parallel(n_jobs=-1)]: Done  36 tasks      | elapsed:    0.6s\n",
      "[Parallel(n_jobs=-1)]: Done 936 tasks      | elapsed:    9.0s\n",
      "[Parallel(n_jobs=-1)]: Done 2436 tasks      | elapsed:   23.3s\n",
      "[Parallel(n_jobs=-1)]: Done 4536 tasks      | elapsed:   43.4s\n",
      "[Parallel(n_jobs=-1)]: Done 7236 tasks      | elapsed:  1.1min\n",
      "[Parallel(n_jobs=-1)]: Done 10536 tasks      | elapsed:  1.7min\n",
      "[Parallel(n_jobs=-1)]: Done 12000 out of 12000 | elapsed:  1.9min finished\n"
     ]
    },
    {
     "name": "stdout",
     "output_type": "stream",
     "text": [
      "Time elapsed: 0:01:56.517480\n",
      "-2.3001440684278167\n",
      "MSE : 99.670746%, \n",
      "In Middle Africa\n"
     ]
    },
    {
     "name": "stderr",
     "output_type": "stream",
     "text": [
      "/home/denis/anaconda3/lib/python3.6/site-packages/sklearn/feature_selection/univariate_selection.py:298: RuntimeWarning: divide by zero encountered in true_divide\n",
      "  corr /= X_norms\n",
      "/home/denis/anaconda3/lib/python3.6/site-packages/sklearn/feature_selection/univariate_selection.py:303: RuntimeWarning: invalid value encountered in true_divide\n",
      "  F = corr ** 2 / (1 - corr ** 2) * degrees_of_freedom\n",
      "/home/denis/anaconda3/lib/python3.6/site-packages/scipy/stats/_distn_infrastructure.py:879: RuntimeWarning: invalid value encountered in greater\n",
      "  return (self.a < x) & (x < self.b)\n",
      "/home/denis/anaconda3/lib/python3.6/site-packages/scipy/stats/_distn_infrastructure.py:879: RuntimeWarning: invalid value encountered in less\n",
      "  return (self.a < x) & (x < self.b)\n",
      "/home/denis/anaconda3/lib/python3.6/site-packages/scipy/stats/_distn_infrastructure.py:1821: RuntimeWarning: invalid value encountered in less_equal\n",
      "  cond2 = cond0 & (x <= self.a)\n"
     ]
    },
    {
     "name": "stdout",
     "output_type": "stream",
     "text": [
      "Fitting 4 folds for each of 3000 candidates, totalling 12000 fits\n"
     ]
    },
    {
     "name": "stderr",
     "output_type": "stream",
     "text": [
      "[Parallel(n_jobs=-1)]: Done  30 tasks      | elapsed:    0.9s\n",
      "[Parallel(n_jobs=-1)]: Done 328 tasks      | elapsed:    6.6s\n",
      "[Parallel(n_jobs=-1)]: Done 828 tasks      | elapsed:   15.6s\n",
      "[Parallel(n_jobs=-1)]: Done 1528 tasks      | elapsed:   27.7s\n",
      "[Parallel(n_jobs=-1)]: Done 2428 tasks      | elapsed:   44.8s\n",
      "[Parallel(n_jobs=-1)]: Done 3528 tasks      | elapsed:  1.1min\n",
      "[Parallel(n_jobs=-1)]: Done 4828 tasks      | elapsed:  1.5min\n",
      "[Parallel(n_jobs=-1)]: Done 6328 tasks      | elapsed:  2.0min\n",
      "[Parallel(n_jobs=-1)]: Done 8028 tasks      | elapsed:  2.6min\n",
      "[Parallel(n_jobs=-1)]: Done 9928 tasks      | elapsed:  3.2min\n",
      "[Parallel(n_jobs=-1)]: Done 12000 out of 12000 | elapsed:  3.9min finished\n"
     ]
    },
    {
     "name": "stdout",
     "output_type": "stream",
     "text": [
      "Time elapsed: 0:03:54.168465\n",
      "-0.31673370451108246\n",
      "MSE : 99.222551%, \n",
      "In South America\n"
     ]
    },
    {
     "name": "stderr",
     "output_type": "stream",
     "text": [
      "/home/denis/anaconda3/lib/python3.6/site-packages/sklearn/feature_selection/univariate_selection.py:298: RuntimeWarning: divide by zero encountered in true_divide\n",
      "  corr /= X_norms\n",
      "/home/denis/anaconda3/lib/python3.6/site-packages/sklearn/feature_selection/univariate_selection.py:303: RuntimeWarning: invalid value encountered in true_divide\n",
      "  F = corr ** 2 / (1 - corr ** 2) * degrees_of_freedom\n",
      "/home/denis/anaconda3/lib/python3.6/site-packages/scipy/stats/_distn_infrastructure.py:879: RuntimeWarning: invalid value encountered in greater\n",
      "  return (self.a < x) & (x < self.b)\n",
      "/home/denis/anaconda3/lib/python3.6/site-packages/scipy/stats/_distn_infrastructure.py:879: RuntimeWarning: invalid value encountered in less\n",
      "  return (self.a < x) & (x < self.b)\n",
      "/home/denis/anaconda3/lib/python3.6/site-packages/scipy/stats/_distn_infrastructure.py:1821: RuntimeWarning: invalid value encountered in less_equal\n",
      "  cond2 = cond0 & (x <= self.a)\n"
     ]
    },
    {
     "name": "stdout",
     "output_type": "stream",
     "text": [
      "Fitting 4 folds for each of 3000 candidates, totalling 12000 fits\n"
     ]
    },
    {
     "name": "stderr",
     "output_type": "stream",
     "text": [
      "[Parallel(n_jobs=-1)]: Done  36 tasks      | elapsed:    0.9s\n",
      "[Parallel(n_jobs=-1)]: Done 428 tasks      | elapsed:   10.7s\n",
      "[Parallel(n_jobs=-1)]: Done 678 tasks      | elapsed:   15.9s\n",
      "[Parallel(n_jobs=-1)]: Done 1028 tasks      | elapsed:   24.5s\n",
      "[Parallel(n_jobs=-1)]: Done 1478 tasks      | elapsed:   37.0s\n",
      "[Parallel(n_jobs=-1)]: Done 2028 tasks      | elapsed:   49.6s\n",
      "[Parallel(n_jobs=-1)]: Done 2678 tasks      | elapsed:  1.1min\n",
      "[Parallel(n_jobs=-1)]: Done 3428 tasks      | elapsed:  1.4min\n",
      "[Parallel(n_jobs=-1)]: Done 4278 tasks      | elapsed:  1.6min\n",
      "[Parallel(n_jobs=-1)]: Done 5228 tasks      | elapsed:  2.0min\n",
      "[Parallel(n_jobs=-1)]: Done 6278 tasks      | elapsed:  2.3min\n",
      "[Parallel(n_jobs=-1)]: Done 7428 tasks      | elapsed:  2.8min\n",
      "[Parallel(n_jobs=-1)]: Done 8678 tasks      | elapsed:  3.2min\n",
      "[Parallel(n_jobs=-1)]: Done 10028 tasks      | elapsed:  3.7min\n",
      "[Parallel(n_jobs=-1)]: Done 11478 tasks      | elapsed:  4.3min\n",
      "[Parallel(n_jobs=-1)]: Done 12000 out of 12000 | elapsed:  4.5min finished\n"
     ]
    },
    {
     "name": "stdout",
     "output_type": "stream",
     "text": [
      "Time elapsed: 0:04:29.609567\n",
      "-0.719829674634333\n",
      "MSE : 99.683198%, \n",
      "In Western Asia\n"
     ]
    },
    {
     "name": "stderr",
     "output_type": "stream",
     "text": [
      "/home/denis/anaconda3/lib/python3.6/site-packages/sklearn/feature_selection/univariate_selection.py:298: RuntimeWarning: divide by zero encountered in true_divide\n",
      "  corr /= X_norms\n",
      "/home/denis/anaconda3/lib/python3.6/site-packages/sklearn/feature_selection/univariate_selection.py:303: RuntimeWarning: invalid value encountered in true_divide\n",
      "  F = corr ** 2 / (1 - corr ** 2) * degrees_of_freedom\n",
      "/home/denis/anaconda3/lib/python3.6/site-packages/scipy/stats/_distn_infrastructure.py:879: RuntimeWarning: invalid value encountered in greater\n",
      "  return (self.a < x) & (x < self.b)\n",
      "/home/denis/anaconda3/lib/python3.6/site-packages/scipy/stats/_distn_infrastructure.py:879: RuntimeWarning: invalid value encountered in less\n",
      "  return (self.a < x) & (x < self.b)\n",
      "/home/denis/anaconda3/lib/python3.6/site-packages/scipy/stats/_distn_infrastructure.py:1821: RuntimeWarning: invalid value encountered in less_equal\n",
      "  cond2 = cond0 & (x <= self.a)\n"
     ]
    },
    {
     "name": "stdout",
     "output_type": "stream",
     "text": [
      "Fitting 4 folds for each of 3000 candidates, totalling 12000 fits\n"
     ]
    },
    {
     "name": "stderr",
     "output_type": "stream",
     "text": [
      "[Parallel(n_jobs=-1)]: Done  28 tasks      | elapsed:    0.4s\n",
      "[Parallel(n_jobs=-1)]: Done 582 tasks      | elapsed:    3.5s\n",
      "[Parallel(n_jobs=-1)]: Done 1582 tasks      | elapsed:    9.5s\n",
      "[Parallel(n_jobs=-1)]: Done 2982 tasks      | elapsed:   17.7s\n",
      "[Parallel(n_jobs=-1)]: Done 4782 tasks      | elapsed:   29.1s\n",
      "[Parallel(n_jobs=-1)]: Done 6982 tasks      | elapsed:   43.1s\n",
      "[Parallel(n_jobs=-1)]: Done 9582 tasks      | elapsed:   59.1s\n",
      "[Parallel(n_jobs=-1)]: Done 12000 out of 12000 | elapsed:  1.2min finished\n"
     ]
    },
    {
     "name": "stdout",
     "output_type": "stream",
     "text": [
      "Time elapsed: 0:01:13.534583\n",
      "-0.12378553586740494\n",
      "MSE : 99.735411%, \n",
      "In Australia and New Zealand\n"
     ]
    },
    {
     "name": "stderr",
     "output_type": "stream",
     "text": [
      "/home/denis/anaconda3/lib/python3.6/site-packages/sklearn/feature_selection/univariate_selection.py:298: RuntimeWarning: divide by zero encountered in true_divide\n",
      "  corr /= X_norms\n",
      "/home/denis/anaconda3/lib/python3.6/site-packages/sklearn/feature_selection/univariate_selection.py:303: RuntimeWarning: invalid value encountered in true_divide\n",
      "  F = corr ** 2 / (1 - corr ** 2) * degrees_of_freedom\n",
      "/home/denis/anaconda3/lib/python3.6/site-packages/scipy/stats/_distn_infrastructure.py:879: RuntimeWarning: invalid value encountered in greater\n",
      "  return (self.a < x) & (x < self.b)\n",
      "/home/denis/anaconda3/lib/python3.6/site-packages/scipy/stats/_distn_infrastructure.py:879: RuntimeWarning: invalid value encountered in less\n",
      "  return (self.a < x) & (x < self.b)\n",
      "/home/denis/anaconda3/lib/python3.6/site-packages/scipy/stats/_distn_infrastructure.py:1821: RuntimeWarning: invalid value encountered in less_equal\n",
      "  cond2 = cond0 & (x <= self.a)\n"
     ]
    },
    {
     "name": "stdout",
     "output_type": "stream",
     "text": [
      "Fitting 4 folds for each of 3000 candidates, totalling 12000 fits\n"
     ]
    },
    {
     "name": "stderr",
     "output_type": "stream",
     "text": [
      "[Parallel(n_jobs=-1)]: Done  32 tasks      | elapsed:    0.5s\n",
      "[Parallel(n_jobs=-1)]: Done 632 tasks      | elapsed:    8.9s\n",
      "[Parallel(n_jobs=-1)]: Done 1292 tasks      | elapsed:   18.4s\n",
      "[Parallel(n_jobs=-1)]: Done 1992 tasks      | elapsed:   29.2s\n",
      "[Parallel(n_jobs=-1)]: Done 2892 tasks      | elapsed:   43.0s\n",
      "[Parallel(n_jobs=-1)]: Done 3992 tasks      | elapsed:   58.8s\n",
      "[Parallel(n_jobs=-1)]: Done 5292 tasks      | elapsed:  1.3min\n",
      "[Parallel(n_jobs=-1)]: Done 6792 tasks      | elapsed:  1.7min\n",
      "[Parallel(n_jobs=-1)]: Done 8492 tasks      | elapsed:  2.2min\n",
      "[Parallel(n_jobs=-1)]: Done 10392 tasks      | elapsed:  2.7min\n",
      "[Parallel(n_jobs=-1)]: Done 12000 out of 12000 | elapsed:  3.1min finished\n"
     ]
    },
    {
     "name": "stdout",
     "output_type": "stream",
     "text": [
      "Time elapsed: 0:03:09.064875\n",
      "-3.573577729982969\n",
      "MSE : 99.617627%, \n",
      "In Caribbean\n"
     ]
    },
    {
     "name": "stderr",
     "output_type": "stream",
     "text": [
      "/home/denis/anaconda3/lib/python3.6/site-packages/sklearn/feature_selection/univariate_selection.py:298: RuntimeWarning: divide by zero encountered in true_divide\n",
      "  corr /= X_norms\n",
      "/home/denis/anaconda3/lib/python3.6/site-packages/sklearn/feature_selection/univariate_selection.py:303: RuntimeWarning: invalid value encountered in true_divide\n",
      "  F = corr ** 2 / (1 - corr ** 2) * degrees_of_freedom\n",
      "/home/denis/anaconda3/lib/python3.6/site-packages/scipy/stats/_distn_infrastructure.py:879: RuntimeWarning: invalid value encountered in greater\n",
      "  return (self.a < x) & (x < self.b)\n",
      "/home/denis/anaconda3/lib/python3.6/site-packages/scipy/stats/_distn_infrastructure.py:879: RuntimeWarning: invalid value encountered in less\n",
      "  return (self.a < x) & (x < self.b)\n",
      "/home/denis/anaconda3/lib/python3.6/site-packages/scipy/stats/_distn_infrastructure.py:1821: RuntimeWarning: invalid value encountered in less_equal\n",
      "  cond2 = cond0 & (x <= self.a)\n"
     ]
    },
    {
     "name": "stdout",
     "output_type": "stream",
     "text": [
      "Fitting 4 folds for each of 3000 candidates, totalling 12000 fits\n"
     ]
    },
    {
     "name": "stderr",
     "output_type": "stream",
     "text": [
      "[Parallel(n_jobs=-1)]: Done  40 tasks      | elapsed:    0.9s\n",
      "[Parallel(n_jobs=-1)]: Done 808 tasks      | elapsed:   11.1s\n",
      "[Parallel(n_jobs=-1)]: Done 1808 tasks      | elapsed:   25.1s\n",
      "[Parallel(n_jobs=-1)]: Done 3208 tasks      | elapsed:   44.9s\n",
      "[Parallel(n_jobs=-1)]: Done 5008 tasks      | elapsed:  1.2min\n",
      "[Parallel(n_jobs=-1)]: Done 6158 tasks      | elapsed:  1.4min\n",
      "[Parallel(n_jobs=-1)]: Done 7458 tasks      | elapsed:  1.7min\n",
      "[Parallel(n_jobs=-1)]: Done 8958 tasks      | elapsed:  2.0min\n",
      "[Parallel(n_jobs=-1)]: Done 10658 tasks      | elapsed:  2.4min\n",
      "[Parallel(n_jobs=-1)]: Done 12000 out of 12000 | elapsed:  2.7min finished\n"
     ]
    },
    {
     "name": "stdout",
     "output_type": "stream",
     "text": [
      "Time elapsed: 0:02:44.166914\n",
      "-0.9943356968514577\n",
      "MSE : 99.445081%, \n",
      "In Eastern Europe\n"
     ]
    },
    {
     "name": "stderr",
     "output_type": "stream",
     "text": [
      "/home/denis/anaconda3/lib/python3.6/site-packages/sklearn/feature_selection/univariate_selection.py:298: RuntimeWarning: divide by zero encountered in true_divide\n",
      "  corr /= X_norms\n",
      "/home/denis/anaconda3/lib/python3.6/site-packages/sklearn/feature_selection/univariate_selection.py:303: RuntimeWarning: invalid value encountered in true_divide\n",
      "  F = corr ** 2 / (1 - corr ** 2) * degrees_of_freedom\n",
      "/home/denis/anaconda3/lib/python3.6/site-packages/scipy/stats/_distn_infrastructure.py:879: RuntimeWarning: invalid value encountered in greater\n",
      "  return (self.a < x) & (x < self.b)\n",
      "/home/denis/anaconda3/lib/python3.6/site-packages/scipy/stats/_distn_infrastructure.py:879: RuntimeWarning: invalid value encountered in less\n",
      "  return (self.a < x) & (x < self.b)\n",
      "/home/denis/anaconda3/lib/python3.6/site-packages/scipy/stats/_distn_infrastructure.py:1821: RuntimeWarning: invalid value encountered in less_equal\n",
      "  cond2 = cond0 & (x <= self.a)\n"
     ]
    },
    {
     "name": "stdout",
     "output_type": "stream",
     "text": [
      "Fitting 4 folds for each of 3000 candidates, totalling 12000 fits\n"
     ]
    },
    {
     "name": "stderr",
     "output_type": "stream",
     "text": [
      "[Parallel(n_jobs=-1)]: Done  40 tasks      | elapsed:    0.8s\n",
      "[Parallel(n_jobs=-1)]: Done 792 tasks      | elapsed:    9.3s\n",
      "[Parallel(n_jobs=-1)]: Done 1792 tasks      | elapsed:   21.8s\n",
      "[Parallel(n_jobs=-1)]: Done 3192 tasks      | elapsed:   39.5s\n",
      "[Parallel(n_jobs=-1)]: Done 4632 tasks      | elapsed:  1.0min\n",
      "[Parallel(n_jobs=-1)]: Done 5732 tasks      | elapsed:  1.2min\n",
      "[Parallel(n_jobs=-1)]: Done 7032 tasks      | elapsed:  1.6min\n",
      "[Parallel(n_jobs=-1)]: Done 8532 tasks      | elapsed:  1.9min\n",
      "[Parallel(n_jobs=-1)]: Done 10232 tasks      | elapsed:  2.2min\n",
      "[Parallel(n_jobs=-1)]: Done 12000 out of 12000 | elapsed:  2.6min finished\n"
     ]
    },
    {
     "name": "stdout",
     "output_type": "stream",
     "text": [
      "Time elapsed: 0:02:39.203679\n",
      "-1.0423107332601427\n",
      "MSE : 99.497081%, \n",
      "In Central America\n"
     ]
    },
    {
     "name": "stderr",
     "output_type": "stream",
     "text": [
      "/home/denis/anaconda3/lib/python3.6/site-packages/sklearn/feature_selection/univariate_selection.py:298: RuntimeWarning: divide by zero encountered in true_divide\n",
      "  corr /= X_norms\n",
      "/home/denis/anaconda3/lib/python3.6/site-packages/sklearn/feature_selection/univariate_selection.py:303: RuntimeWarning: invalid value encountered in true_divide\n",
      "  F = corr ** 2 / (1 - corr ** 2) * degrees_of_freedom\n",
      "/home/denis/anaconda3/lib/python3.6/site-packages/scipy/stats/_distn_infrastructure.py:879: RuntimeWarning: invalid value encountered in greater\n",
      "  return (self.a < x) & (x < self.b)\n",
      "/home/denis/anaconda3/lib/python3.6/site-packages/scipy/stats/_distn_infrastructure.py:879: RuntimeWarning: invalid value encountered in less\n",
      "  return (self.a < x) & (x < self.b)\n",
      "/home/denis/anaconda3/lib/python3.6/site-packages/scipy/stats/_distn_infrastructure.py:1821: RuntimeWarning: invalid value encountered in less_equal\n",
      "  cond2 = cond0 & (x <= self.a)\n"
     ]
    },
    {
     "name": "stdout",
     "output_type": "stream",
     "text": [
      "Fitting 4 folds for each of 3000 candidates, totalling 12000 fits\n"
     ]
    },
    {
     "name": "stderr",
     "output_type": "stream",
     "text": [
      "[Parallel(n_jobs=-1)]: Done  36 tasks      | elapsed:    1.3s\n",
      "[Parallel(n_jobs=-1)]: Done 591 tasks      | elapsed:   11.1s\n",
      "[Parallel(n_jobs=-1)]: Done 1341 tasks      | elapsed:   23.5s\n",
      "[Parallel(n_jobs=-1)]: Done 2071 tasks      | elapsed:   37.5s\n",
      "[Parallel(n_jobs=-1)]: Done 2521 tasks      | elapsed:   44.3s\n",
      "[Parallel(n_jobs=-1)]: Done 3075 tasks      | elapsed:   54.7s\n",
      "[Parallel(n_jobs=-1)]: Done 4372 tasks      | elapsed:  1.3min\n",
      "[Parallel(n_jobs=-1)]: Done 5872 tasks      | elapsed:  1.7min\n",
      "[Parallel(n_jobs=-1)]: Done 7572 tasks      | elapsed:  2.2min\n",
      "[Parallel(n_jobs=-1)]: Done 9472 tasks      | elapsed:  2.8min\n",
      "[Parallel(n_jobs=-1)]: Done 11572 tasks      | elapsed:  3.4min\n",
      "[Parallel(n_jobs=-1)]: Done 12000 out of 12000 | elapsed:  3.5min finished\n"
     ]
    },
    {
     "name": "stdout",
     "output_type": "stream",
     "text": [
      "Time elapsed: 0:03:29.431455\n",
      "-1.392178411638842\n",
      "MSE : 98.366339%, \n",
      "In Western Africa\n"
     ]
    },
    {
     "name": "stderr",
     "output_type": "stream",
     "text": [
      "/home/denis/anaconda3/lib/python3.6/site-packages/sklearn/feature_selection/univariate_selection.py:298: RuntimeWarning: divide by zero encountered in true_divide\n",
      "  corr /= X_norms\n",
      "/home/denis/anaconda3/lib/python3.6/site-packages/sklearn/feature_selection/univariate_selection.py:303: RuntimeWarning: invalid value encountered in true_divide\n",
      "  F = corr ** 2 / (1 - corr ** 2) * degrees_of_freedom\n",
      "/home/denis/anaconda3/lib/python3.6/site-packages/scipy/stats/_distn_infrastructure.py:879: RuntimeWarning: invalid value encountered in greater\n",
      "  return (self.a < x) & (x < self.b)\n",
      "/home/denis/anaconda3/lib/python3.6/site-packages/scipy/stats/_distn_infrastructure.py:879: RuntimeWarning: invalid value encountered in less\n",
      "  return (self.a < x) & (x < self.b)\n",
      "/home/denis/anaconda3/lib/python3.6/site-packages/scipy/stats/_distn_infrastructure.py:1821: RuntimeWarning: invalid value encountered in less_equal\n",
      "  cond2 = cond0 & (x <= self.a)\n"
     ]
    },
    {
     "name": "stdout",
     "output_type": "stream",
     "text": [
      "Fitting 4 folds for each of 3000 candidates, totalling 12000 fits\n"
     ]
    },
    {
     "name": "stderr",
     "output_type": "stream",
     "text": [
      "[Parallel(n_jobs=-1)]: Done  40 tasks      | elapsed:    0.5s\n",
      "[Parallel(n_jobs=-1)]: Done 1112 tasks      | elapsed:   10.0s\n",
      "[Parallel(n_jobs=-1)]: Done 2112 tasks      | elapsed:   19.5s\n",
      "[Parallel(n_jobs=-1)]: Done 3512 tasks      | elapsed:   32.3s\n",
      "[Parallel(n_jobs=-1)]: Done 5312 tasks      | elapsed:   48.3s\n",
      "[Parallel(n_jobs=-1)]: Done 7512 tasks      | elapsed:  1.1min\n",
      "[Parallel(n_jobs=-1)]: Done 10112 tasks      | elapsed:  1.5min\n",
      "[Parallel(n_jobs=-1)]: Done 12000 out of 12000 | elapsed:  1.8min finished\n"
     ]
    },
    {
     "name": "stdout",
     "output_type": "stream",
     "text": [
      "Time elapsed: 0:01:49.649392\n",
      "-4.338456778434453\n",
      "MSE : 98.243487%, \n",
      "In Southern Africa\n"
     ]
    },
    {
     "name": "stderr",
     "output_type": "stream",
     "text": [
      "/home/denis/anaconda3/lib/python3.6/site-packages/sklearn/feature_selection/univariate_selection.py:298: RuntimeWarning: divide by zero encountered in true_divide\n",
      "  corr /= X_norms\n",
      "/home/denis/anaconda3/lib/python3.6/site-packages/sklearn/feature_selection/univariate_selection.py:303: RuntimeWarning: invalid value encountered in true_divide\n",
      "  F = corr ** 2 / (1 - corr ** 2) * degrees_of_freedom\n",
      "/home/denis/anaconda3/lib/python3.6/site-packages/scipy/stats/_distn_infrastructure.py:879: RuntimeWarning: invalid value encountered in greater\n",
      "  return (self.a < x) & (x < self.b)\n",
      "/home/denis/anaconda3/lib/python3.6/site-packages/scipy/stats/_distn_infrastructure.py:879: RuntimeWarning: invalid value encountered in less\n",
      "  return (self.a < x) & (x < self.b)\n",
      "/home/denis/anaconda3/lib/python3.6/site-packages/scipy/stats/_distn_infrastructure.py:1821: RuntimeWarning: invalid value encountered in less_equal\n",
      "  cond2 = cond0 & (x <= self.a)\n"
     ]
    },
    {
     "name": "stdout",
     "output_type": "stream",
     "text": [
      "Fitting 4 folds for each of 3000 candidates, totalling 12000 fits\n"
     ]
    },
    {
     "name": "stderr",
     "output_type": "stream",
     "text": [
      "[Parallel(n_jobs=-1)]: Done  44 tasks      | elapsed:    1.3s\n",
      "[Parallel(n_jobs=-1)]: Done 538 tasks      | elapsed:   11.4s\n",
      "[Parallel(n_jobs=-1)]: Done 850 tasks      | elapsed:   17.4s\n",
      "[Parallel(n_jobs=-1)]: Done 1550 tasks      | elapsed:   30.4s\n",
      "[Parallel(n_jobs=-1)]: Done 2450 tasks      | elapsed:   48.9s\n",
      "[Parallel(n_jobs=-1)]: Done 3550 tasks      | elapsed:  1.2min\n",
      "[Parallel(n_jobs=-1)]: Done 4850 tasks      | elapsed:  1.6min\n",
      "[Parallel(n_jobs=-1)]: Done 6350 tasks      | elapsed:  2.1min\n",
      "[Parallel(n_jobs=-1)]: Done 8050 tasks      | elapsed:  2.6min\n",
      "[Parallel(n_jobs=-1)]: Done 9950 tasks      | elapsed:  3.3min\n",
      "[Parallel(n_jobs=-1)]: Done 12000 out of 12000 | elapsed:  3.9min finished\n"
     ]
    },
    {
     "name": "stdout",
     "output_type": "stream",
     "text": [
      "Time elapsed: 0:03:57.024736\n",
      "-1.1359711939845714\n",
      "MSE : 99.787084%, \n",
      "In Eastern Africa\n"
     ]
    },
    {
     "name": "stderr",
     "output_type": "stream",
     "text": [
      "/home/denis/anaconda3/lib/python3.6/site-packages/sklearn/feature_selection/univariate_selection.py:298: RuntimeWarning: divide by zero encountered in true_divide\n",
      "  corr /= X_norms\n",
      "/home/denis/anaconda3/lib/python3.6/site-packages/sklearn/feature_selection/univariate_selection.py:303: RuntimeWarning: invalid value encountered in true_divide\n",
      "  F = corr ** 2 / (1 - corr ** 2) * degrees_of_freedom\n",
      "/home/denis/anaconda3/lib/python3.6/site-packages/scipy/stats/_distn_infrastructure.py:879: RuntimeWarning: invalid value encountered in greater\n",
      "  return (self.a < x) & (x < self.b)\n",
      "/home/denis/anaconda3/lib/python3.6/site-packages/scipy/stats/_distn_infrastructure.py:879: RuntimeWarning: invalid value encountered in less\n",
      "  return (self.a < x) & (x < self.b)\n",
      "/home/denis/anaconda3/lib/python3.6/site-packages/scipy/stats/_distn_infrastructure.py:1821: RuntimeWarning: invalid value encountered in less_equal\n",
      "  cond2 = cond0 & (x <= self.a)\n"
     ]
    },
    {
     "name": "stdout",
     "output_type": "stream",
     "text": [
      "Fitting 4 folds for each of 3000 candidates, totalling 12000 fits\n"
     ]
    },
    {
     "name": "stderr",
     "output_type": "stream",
     "text": [
      "[Parallel(n_jobs=-1)]: Done  40 tasks      | elapsed:    0.8s\n",
      "[Parallel(n_jobs=-1)]: Done 804 tasks      | elapsed:   11.4s\n",
      "[Parallel(n_jobs=-1)]: Done 1380 tasks      | elapsed:   19.3s\n",
      "[Parallel(n_jobs=-1)]: Done 2080 tasks      | elapsed:   29.8s\n",
      "[Parallel(n_jobs=-1)]: Done 2980 tasks      | elapsed:   42.8s\n",
      "[Parallel(n_jobs=-1)]: Done 4080 tasks      | elapsed:   58.7s\n",
      "[Parallel(n_jobs=-1)]: Done 5380 tasks      | elapsed:  1.3min\n",
      "[Parallel(n_jobs=-1)]: Done 6880 tasks      | elapsed:  1.6min\n",
      "[Parallel(n_jobs=-1)]: Done 8580 tasks      | elapsed:  2.0min\n",
      "[Parallel(n_jobs=-1)]: Done 10480 tasks      | elapsed:  2.4min\n",
      "[Parallel(n_jobs=-1)]: Done 12000 out of 12000 | elapsed:  2.8min finished\n"
     ]
    },
    {
     "name": "stdout",
     "output_type": "stream",
     "text": [
      "Time elapsed: 0:02:50.364077\n",
      "-1.162605535989575\n",
      "MSE : 99.449110%, \n",
      "In South-Eastern Asia\n"
     ]
    },
    {
     "name": "stderr",
     "output_type": "stream",
     "text": [
      "/home/denis/anaconda3/lib/python3.6/site-packages/sklearn/feature_selection/univariate_selection.py:298: RuntimeWarning: divide by zero encountered in true_divide\n",
      "  corr /= X_norms\n",
      "/home/denis/anaconda3/lib/python3.6/site-packages/sklearn/feature_selection/univariate_selection.py:303: RuntimeWarning: invalid value encountered in true_divide\n",
      "  F = corr ** 2 / (1 - corr ** 2) * degrees_of_freedom\n",
      "/home/denis/anaconda3/lib/python3.6/site-packages/scipy/stats/_distn_infrastructure.py:879: RuntimeWarning: invalid value encountered in greater\n",
      "  return (self.a < x) & (x < self.b)\n",
      "/home/denis/anaconda3/lib/python3.6/site-packages/scipy/stats/_distn_infrastructure.py:879: RuntimeWarning: invalid value encountered in less\n",
      "  return (self.a < x) & (x < self.b)\n",
      "/home/denis/anaconda3/lib/python3.6/site-packages/scipy/stats/_distn_infrastructure.py:1821: RuntimeWarning: invalid value encountered in less_equal\n",
      "  cond2 = cond0 & (x <= self.a)\n"
     ]
    },
    {
     "name": "stdout",
     "output_type": "stream",
     "text": [
      "Fitting 4 folds for each of 3000 candidates, totalling 12000 fits\n"
     ]
    },
    {
     "name": "stderr",
     "output_type": "stream",
     "text": [
      "[Parallel(n_jobs=-1)]: Done  40 tasks      | elapsed:    1.4s\n",
      "[Parallel(n_jobs=-1)]: Done 780 tasks      | elapsed:   11.6s\n",
      "[Parallel(n_jobs=-1)]: Done 1364 tasks      | elapsed:   21.4s\n",
      "[Parallel(n_jobs=-1)]: Done 2064 tasks      | elapsed:   33.5s\n",
      "[Parallel(n_jobs=-1)]: Done 2964 tasks      | elapsed:   49.9s\n",
      "[Parallel(n_jobs=-1)]: Done 4064 tasks      | elapsed:  1.2min\n",
      "[Parallel(n_jobs=-1)]: Done 5364 tasks      | elapsed:  1.5min\n",
      "[Parallel(n_jobs=-1)]: Done 6864 tasks      | elapsed:  2.0min\n",
      "[Parallel(n_jobs=-1)]: Done 8564 tasks      | elapsed:  2.5min\n",
      "[Parallel(n_jobs=-1)]: Done 10464 tasks      | elapsed:  3.0min\n",
      "[Parallel(n_jobs=-1)]: Done 12000 out of 12000 | elapsed:  3.4min finished\n"
     ]
    },
    {
     "name": "stdout",
     "output_type": "stream",
     "text": [
      "Time elapsed: 0:03:24.022449\n",
      "-0.694905509800148\n",
      "MSE : 99.751964%, \n",
      "In Southern Europe\n"
     ]
    },
    {
     "name": "stderr",
     "output_type": "stream",
     "text": [
      "/home/denis/anaconda3/lib/python3.6/site-packages/sklearn/feature_selection/univariate_selection.py:298: RuntimeWarning: divide by zero encountered in true_divide\n",
      "  corr /= X_norms\n",
      "/home/denis/anaconda3/lib/python3.6/site-packages/sklearn/feature_selection/univariate_selection.py:303: RuntimeWarning: invalid value encountered in true_divide\n",
      "  F = corr ** 2 / (1 - corr ** 2) * degrees_of_freedom\n",
      "/home/denis/anaconda3/lib/python3.6/site-packages/scipy/stats/_distn_infrastructure.py:879: RuntimeWarning: invalid value encountered in greater\n",
      "  return (self.a < x) & (x < self.b)\n",
      "/home/denis/anaconda3/lib/python3.6/site-packages/scipy/stats/_distn_infrastructure.py:879: RuntimeWarning: invalid value encountered in less\n",
      "  return (self.a < x) & (x < self.b)\n",
      "/home/denis/anaconda3/lib/python3.6/site-packages/scipy/stats/_distn_infrastructure.py:1821: RuntimeWarning: invalid value encountered in less_equal\n",
      "  cond2 = cond0 & (x <= self.a)\n"
     ]
    },
    {
     "name": "stdout",
     "output_type": "stream",
     "text": [
      "Fitting 4 folds for each of 3000 candidates, totalling 12000 fits\n"
     ]
    },
    {
     "name": "stderr",
     "output_type": "stream",
     "text": [
      "[Parallel(n_jobs=-1)]: Done  48 tasks      | elapsed:    0.8s\n",
      "[Parallel(n_jobs=-1)]: Done 1278 tasks      | elapsed:    8.4s\n",
      "[Parallel(n_jobs=-1)]: Done 2778 tasks      | elapsed:   18.9s\n",
      "[Parallel(n_jobs=-1)]: Done 4878 tasks      | elapsed:   34.0s\n",
      "[Parallel(n_jobs=-1)]: Done 7578 tasks      | elapsed:   52.5s\n",
      "[Parallel(n_jobs=-1)]: Done 10878 tasks      | elapsed:  1.3min\n",
      "[Parallel(n_jobs=-1)]: Done 12000 out of 12000 | elapsed:  1.4min finished\n"
     ]
    },
    {
     "name": "stdout",
     "output_type": "stream",
     "text": [
      "Time elapsed: 0:01:23.935668\n",
      "-0.5390501320173476\n",
      "MSE : 99.842377%, \n",
      "In Melanesia\n"
     ]
    },
    {
     "name": "stderr",
     "output_type": "stream",
     "text": [
      "/home/denis/anaconda3/lib/python3.6/site-packages/sklearn/feature_selection/univariate_selection.py:298: RuntimeWarning: divide by zero encountered in true_divide\n",
      "  corr /= X_norms\n",
      "/home/denis/anaconda3/lib/python3.6/site-packages/sklearn/feature_selection/univariate_selection.py:303: RuntimeWarning: invalid value encountered in true_divide\n",
      "  F = corr ** 2 / (1 - corr ** 2) * degrees_of_freedom\n",
      "/home/denis/anaconda3/lib/python3.6/site-packages/scipy/stats/_distn_infrastructure.py:879: RuntimeWarning: invalid value encountered in greater\n",
      "  return (self.a < x) & (x < self.b)\n",
      "/home/denis/anaconda3/lib/python3.6/site-packages/scipy/stats/_distn_infrastructure.py:879: RuntimeWarning: invalid value encountered in less\n",
      "  return (self.a < x) & (x < self.b)\n",
      "/home/denis/anaconda3/lib/python3.6/site-packages/scipy/stats/_distn_infrastructure.py:1821: RuntimeWarning: invalid value encountered in less_equal\n",
      "  cond2 = cond0 & (x <= self.a)\n"
     ]
    },
    {
     "name": "stdout",
     "output_type": "stream",
     "text": [
      "Fitting 4 folds for each of 3000 candidates, totalling 12000 fits\n"
     ]
    },
    {
     "name": "stderr",
     "output_type": "stream",
     "text": [
      "[Parallel(n_jobs=-1)]: Done  40 tasks      | elapsed:    0.7s\n",
      "[Parallel(n_jobs=-1)]: Done 820 tasks      | elapsed:    9.6s\n",
      "[Parallel(n_jobs=-1)]: Done 1820 tasks      | elapsed:   21.4s\n",
      "[Parallel(n_jobs=-1)]: Done 3220 tasks      | elapsed:   38.0s\n",
      "[Parallel(n_jobs=-1)]: Done 5020 tasks      | elapsed:  1.0min\n",
      "[Parallel(n_jobs=-1)]: Done 7220 tasks      | elapsed:  1.4min\n",
      "[Parallel(n_jobs=-1)]: Done 9820 tasks      | elapsed:  2.0min\n",
      "[Parallel(n_jobs=-1)]: Done 12000 out of 12000 | elapsed:  2.4min finished\n"
     ]
    },
    {
     "name": "stdout",
     "output_type": "stream",
     "text": [
      "Time elapsed: 0:02:24.861966\n",
      "-0.1982230547060188\n",
      "MSE : 99.849216%, \n",
      "In Western Europe\n"
     ]
    },
    {
     "name": "stderr",
     "output_type": "stream",
     "text": [
      "/home/denis/anaconda3/lib/python3.6/site-packages/sklearn/feature_selection/univariate_selection.py:298: RuntimeWarning: divide by zero encountered in true_divide\n",
      "  corr /= X_norms\n",
      "/home/denis/anaconda3/lib/python3.6/site-packages/sklearn/feature_selection/univariate_selection.py:303: RuntimeWarning: invalid value encountered in true_divide\n",
      "  F = corr ** 2 / (1 - corr ** 2) * degrees_of_freedom\n",
      "/home/denis/anaconda3/lib/python3.6/site-packages/scipy/stats/_distn_infrastructure.py:879: RuntimeWarning: invalid value encountered in greater\n",
      "  return (self.a < x) & (x < self.b)\n",
      "/home/denis/anaconda3/lib/python3.6/site-packages/scipy/stats/_distn_infrastructure.py:879: RuntimeWarning: invalid value encountered in less\n",
      "  return (self.a < x) & (x < self.b)\n",
      "/home/denis/anaconda3/lib/python3.6/site-packages/scipy/stats/_distn_infrastructure.py:1821: RuntimeWarning: invalid value encountered in less_equal\n",
      "  cond2 = cond0 & (x <= self.a)\n"
     ]
    },
    {
     "name": "stdout",
     "output_type": "stream",
     "text": [
      "Fitting 4 folds for each of 3000 candidates, totalling 12000 fits\n"
     ]
    },
    {
     "name": "stderr",
     "output_type": "stream",
     "text": [
      "[Parallel(n_jobs=-1)]: Done  40 tasks      | elapsed:    1.0s\n",
      "[Parallel(n_jobs=-1)]: Done 812 tasks      | elapsed:   11.1s\n",
      "[Parallel(n_jobs=-1)]: Done 1812 tasks      | elapsed:   23.8s\n",
      "[Parallel(n_jobs=-1)]: Done 3212 tasks      | elapsed:   44.1s\n",
      "[Parallel(n_jobs=-1)]: Done 4160 tasks      | elapsed:   57.3s\n",
      "[Parallel(n_jobs=-1)]: Done 5260 tasks      | elapsed:  1.2min\n",
      "[Parallel(n_jobs=-1)]: Done 6560 tasks      | elapsed:  1.6min\n",
      "[Parallel(n_jobs=-1)]: Done 8060 tasks      | elapsed:  1.9min\n",
      "[Parallel(n_jobs=-1)]: Done 9760 tasks      | elapsed:  2.3min\n",
      "[Parallel(n_jobs=-1)]: Done 11660 tasks      | elapsed:  2.8min\n",
      "[Parallel(n_jobs=-1)]: Done 12000 out of 12000 | elapsed:  2.8min finished\n"
     ]
    },
    {
     "name": "stdout",
     "output_type": "stream",
     "text": [
      "Time elapsed: 0:02:50.436262\n",
      "-0.6913374618045836\n",
      "MSE : 99.788240%, \n",
      "In Northern Europe\n"
     ]
    },
    {
     "name": "stderr",
     "output_type": "stream",
     "text": [
      "/home/denis/anaconda3/lib/python3.6/site-packages/sklearn/feature_selection/univariate_selection.py:298: RuntimeWarning: divide by zero encountered in true_divide\n",
      "  corr /= X_norms\n",
      "/home/denis/anaconda3/lib/python3.6/site-packages/sklearn/feature_selection/univariate_selection.py:303: RuntimeWarning: invalid value encountered in true_divide\n",
      "  F = corr ** 2 / (1 - corr ** 2) * degrees_of_freedom\n",
      "/home/denis/anaconda3/lib/python3.6/site-packages/scipy/stats/_distn_infrastructure.py:879: RuntimeWarning: invalid value encountered in greater\n",
      "  return (self.a < x) & (x < self.b)\n",
      "/home/denis/anaconda3/lib/python3.6/site-packages/scipy/stats/_distn_infrastructure.py:879: RuntimeWarning: invalid value encountered in less\n",
      "  return (self.a < x) & (x < self.b)\n",
      "/home/denis/anaconda3/lib/python3.6/site-packages/scipy/stats/_distn_infrastructure.py:1821: RuntimeWarning: invalid value encountered in less_equal\n",
      "  cond2 = cond0 & (x <= self.a)\n"
     ]
    },
    {
     "name": "stdout",
     "output_type": "stream",
     "text": [
      "Fitting 4 folds for each of 3000 candidates, totalling 12000 fits\n"
     ]
    },
    {
     "name": "stderr",
     "output_type": "stream",
     "text": [
      "[Parallel(n_jobs=-1)]: Done  32 tasks      | elapsed:    0.3s\n",
      "[Parallel(n_jobs=-1)]: Done 1144 tasks      | elapsed:    9.1s\n",
      "[Parallel(n_jobs=-1)]: Done 3144 tasks      | elapsed:   23.6s\n",
      "[Parallel(n_jobs=-1)]: Done 5944 tasks      | elapsed:   45.5s\n",
      "[Parallel(n_jobs=-1)]: Done 9544 tasks      | elapsed:  1.2min\n",
      "[Parallel(n_jobs=-1)]: Done 12000 out of 12000 | elapsed:  1.5min finished\n"
     ]
    },
    {
     "name": "stdout",
     "output_type": "stream",
     "text": [
      "Time elapsed: 0:01:31.863909\n",
      "-0.32309207260518097\n",
      "MSE : 99.548115%, \n",
      "In Central Asia\n"
     ]
    },
    {
     "name": "stderr",
     "output_type": "stream",
     "text": [
      "/home/denis/anaconda3/lib/python3.6/site-packages/sklearn/feature_selection/univariate_selection.py:298: RuntimeWarning: divide by zero encountered in true_divide\n",
      "  corr /= X_norms\n",
      "/home/denis/anaconda3/lib/python3.6/site-packages/sklearn/feature_selection/univariate_selection.py:303: RuntimeWarning: invalid value encountered in true_divide\n",
      "  F = corr ** 2 / (1 - corr ** 2) * degrees_of_freedom\n",
      "/home/denis/anaconda3/lib/python3.6/site-packages/scipy/stats/_distn_infrastructure.py:879: RuntimeWarning: invalid value encountered in greater\n",
      "  return (self.a < x) & (x < self.b)\n",
      "/home/denis/anaconda3/lib/python3.6/site-packages/scipy/stats/_distn_infrastructure.py:879: RuntimeWarning: invalid value encountered in less\n",
      "  return (self.a < x) & (x < self.b)\n",
      "/home/denis/anaconda3/lib/python3.6/site-packages/scipy/stats/_distn_infrastructure.py:1821: RuntimeWarning: invalid value encountered in less_equal\n",
      "  cond2 = cond0 & (x <= self.a)\n"
     ]
    },
    {
     "name": "stdout",
     "output_type": "stream",
     "text": [
      "Fitting 4 folds for each of 3000 candidates, totalling 12000 fits\n"
     ]
    },
    {
     "name": "stderr",
     "output_type": "stream",
     "text": [
      "[Parallel(n_jobs=-1)]: Done  44 tasks      | elapsed:    0.7s\n",
      "[Parallel(n_jobs=-1)]: Done 1544 tasks      | elapsed:   10.6s\n",
      "[Parallel(n_jobs=-1)]: Done 4044 tasks      | elapsed:   27.9s\n",
      "[Parallel(n_jobs=-1)]: Done 7544 tasks      | elapsed:   52.1s\n",
      "[Parallel(n_jobs=-1)]: Done 12000 out of 12000 | elapsed:  1.4min finished\n"
     ]
    },
    {
     "name": "stdout",
     "output_type": "stream",
     "text": [
      "Time elapsed: 0:01:22.002705\n",
      "-0.8687858870469481\n",
      "MSE : 96.291909%, \n",
      "In Eastern Asia\n"
     ]
    },
    {
     "name": "stderr",
     "output_type": "stream",
     "text": [
      "/home/denis/anaconda3/lib/python3.6/site-packages/sklearn/feature_selection/univariate_selection.py:298: RuntimeWarning: divide by zero encountered in true_divide\n",
      "  corr /= X_norms\n",
      "/home/denis/anaconda3/lib/python3.6/site-packages/sklearn/feature_selection/univariate_selection.py:303: RuntimeWarning: invalid value encountered in true_divide\n",
      "  F = corr ** 2 / (1 - corr ** 2) * degrees_of_freedom\n",
      "/home/denis/anaconda3/lib/python3.6/site-packages/scipy/stats/_distn_infrastructure.py:879: RuntimeWarning: invalid value encountered in greater\n",
      "  return (self.a < x) & (x < self.b)\n",
      "/home/denis/anaconda3/lib/python3.6/site-packages/scipy/stats/_distn_infrastructure.py:879: RuntimeWarning: invalid value encountered in less\n",
      "  return (self.a < x) & (x < self.b)\n",
      "/home/denis/anaconda3/lib/python3.6/site-packages/scipy/stats/_distn_infrastructure.py:1821: RuntimeWarning: invalid value encountered in less_equal\n",
      "  cond2 = cond0 & (x <= self.a)\n"
     ]
    },
    {
     "name": "stdout",
     "output_type": "stream",
     "text": [
      "Fitting 4 folds for each of 3000 candidates, totalling 12000 fits\n"
     ]
    },
    {
     "name": "stderr",
     "output_type": "stream",
     "text": [
      "[Parallel(n_jobs=-1)]: Done  56 tasks      | elapsed:    0.9s\n",
      "[Parallel(n_jobs=-1)]: Done 1600 tasks      | elapsed:    9.3s\n",
      "[Parallel(n_jobs=-1)]: Done 3600 tasks      | elapsed:   20.7s\n",
      "[Parallel(n_jobs=-1)]: Done 6400 tasks      | elapsed:   36.6s\n",
      "[Parallel(n_jobs=-1)]: Done 10000 tasks      | elapsed:   57.4s\n",
      "[Parallel(n_jobs=-1)]: Done 12000 out of 12000 | elapsed:  1.1min finished\n"
     ]
    },
    {
     "name": "stdout",
     "output_type": "stream",
     "text": [
      "Time elapsed: 0:01:08.510370\n",
      "-1.5720284220978231\n",
      "MSE : 97.085735%, \n",
      "In Northern America\n"
     ]
    },
    {
     "name": "stderr",
     "output_type": "stream",
     "text": [
      "/home/denis/anaconda3/lib/python3.6/site-packages/sklearn/feature_selection/univariate_selection.py:298: RuntimeWarning: divide by zero encountered in true_divide\n",
      "  corr /= X_norms\n",
      "/home/denis/anaconda3/lib/python3.6/site-packages/sklearn/feature_selection/univariate_selection.py:303: RuntimeWarning: invalid value encountered in true_divide\n",
      "  F = corr ** 2 / (1 - corr ** 2) * degrees_of_freedom\n",
      "/home/denis/anaconda3/lib/python3.6/site-packages/scipy/stats/_distn_infrastructure.py:879: RuntimeWarning: invalid value encountered in greater\n",
      "  return (self.a < x) & (x < self.b)\n",
      "/home/denis/anaconda3/lib/python3.6/site-packages/scipy/stats/_distn_infrastructure.py:879: RuntimeWarning: invalid value encountered in less\n",
      "  return (self.a < x) & (x < self.b)\n",
      "/home/denis/anaconda3/lib/python3.6/site-packages/scipy/stats/_distn_infrastructure.py:1821: RuntimeWarning: invalid value encountered in less_equal\n",
      "  cond2 = cond0 & (x <= self.a)\n"
     ]
    },
    {
     "name": "stdout",
     "output_type": "stream",
     "text": [
      "Fitting 4 folds for each of 3000 candidates, totalling 12000 fits\n"
     ]
    },
    {
     "name": "stderr",
     "output_type": "stream",
     "text": [
      "[Parallel(n_jobs=-1)]: Done  52 tasks      | elapsed:    0.7s\n",
      "[Parallel(n_jobs=-1)]: Done 2152 tasks      | elapsed:   11.0s\n",
      "[Parallel(n_jobs=-1)]: Done 5652 tasks      | elapsed:   28.4s\n",
      "[Parallel(n_jobs=-1)]: Done 10552 tasks      | elapsed:   53.4s\n",
      "[Parallel(n_jobs=-1)]: Done 12000 out of 12000 | elapsed:  1.0min finished\n"
     ]
    },
    {
     "name": "stdout",
     "output_type": "stream",
     "text": [
      "Time elapsed: 0:01:00.921593\n",
      "-0.6144293615965793\n",
      "MSE : 99.927275%, \n",
      "In Polynesia\n"
     ]
    },
    {
     "name": "stderr",
     "output_type": "stream",
     "text": [
      "/home/denis/anaconda3/lib/python3.6/site-packages/sklearn/feature_selection/univariate_selection.py:298: RuntimeWarning: divide by zero encountered in true_divide\n",
      "  corr /= X_norms\n",
      "/home/denis/anaconda3/lib/python3.6/site-packages/sklearn/feature_selection/univariate_selection.py:303: RuntimeWarning: invalid value encountered in true_divide\n",
      "  F = corr ** 2 / (1 - corr ** 2) * degrees_of_freedom\n",
      "/home/denis/anaconda3/lib/python3.6/site-packages/scipy/stats/_distn_infrastructure.py:879: RuntimeWarning: invalid value encountered in greater\n",
      "  return (self.a < x) & (x < self.b)\n",
      "/home/denis/anaconda3/lib/python3.6/site-packages/scipy/stats/_distn_infrastructure.py:879: RuntimeWarning: invalid value encountered in less\n",
      "  return (self.a < x) & (x < self.b)\n",
      "/home/denis/anaconda3/lib/python3.6/site-packages/scipy/stats/_distn_infrastructure.py:1821: RuntimeWarning: invalid value encountered in less_equal\n",
      "  cond2 = cond0 & (x <= self.a)\n"
     ]
    },
    {
     "name": "stdout",
     "output_type": "stream",
     "text": [
      "Fitting 4 folds for each of 3000 candidates, totalling 12000 fits\n"
     ]
    },
    {
     "name": "stderr",
     "output_type": "stream",
     "text": [
      "[Parallel(n_jobs=-1)]: Done  40 tasks      | elapsed:    0.4s\n",
      "[Parallel(n_jobs=-1)]: Done 1240 tasks      | elapsed:    5.8s\n",
      "[Parallel(n_jobs=-1)]: Done 3240 tasks      | elapsed:   15.4s\n",
      "[Parallel(n_jobs=-1)]: Done 6040 tasks      | elapsed:   28.5s\n",
      "[Parallel(n_jobs=-1)]: Done 9640 tasks      | elapsed:   45.1s\n",
      "[Parallel(n_jobs=-1)]: Done 12000 out of 12000 | elapsed:   55.8s finished\n"
     ]
    },
    {
     "name": "stdout",
     "output_type": "stream",
     "text": [
      "Time elapsed: 0:00:56.094617\n",
      "-3.129318610345384\n",
      "MSE : 99.855260%, \n",
      "In Micronesia\n"
     ]
    },
    {
     "name": "stderr",
     "output_type": "stream",
     "text": [
      "/home/denis/anaconda3/lib/python3.6/site-packages/sklearn/feature_selection/univariate_selection.py:298: RuntimeWarning: divide by zero encountered in true_divide\n",
      "  corr /= X_norms\n",
      "/home/denis/anaconda3/lib/python3.6/site-packages/sklearn/feature_selection/univariate_selection.py:303: RuntimeWarning: invalid value encountered in true_divide\n",
      "  F = corr ** 2 / (1 - corr ** 2) * degrees_of_freedom\n",
      "/home/denis/anaconda3/lib/python3.6/site-packages/scipy/stats/_distn_infrastructure.py:879: RuntimeWarning: invalid value encountered in greater\n",
      "  return (self.a < x) & (x < self.b)\n",
      "/home/denis/anaconda3/lib/python3.6/site-packages/scipy/stats/_distn_infrastructure.py:879: RuntimeWarning: invalid value encountered in less\n",
      "  return (self.a < x) & (x < self.b)\n",
      "/home/denis/anaconda3/lib/python3.6/site-packages/scipy/stats/_distn_infrastructure.py:1821: RuntimeWarning: invalid value encountered in less_equal\n",
      "  cond2 = cond0 & (x <= self.a)\n"
     ]
    },
    {
     "name": "stdout",
     "output_type": "stream",
     "text": [
      "\n"
     ]
    }
   ],
   "source": [
    "Resmaking(df)"
   ]
  },
  {
   "cell_type": "code",
   "execution_count": null,
   "metadata": {},
   "outputs": [],
   "source": []
  }
 ],
 "metadata": {
  "gist": {
   "data": {
    "description": "GitHub/python/RUDN/Treebased.ipynb",
    "public": false
   },
   "id": ""
  },
  "kernelspec": {
   "display_name": "Python 3",
   "language": "python",
   "name": "python3"
  },
  "language_info": {
   "codemirror_mode": {
    "name": "ipython",
    "version": 3
   },
   "file_extension": ".py",
   "mimetype": "text/x-python",
   "name": "python",
   "nbconvert_exporter": "python",
   "pygments_lexer": "ipython3",
   "version": "3.6.4"
  },
  "toc": {
   "nav_menu": {},
   "number_sections": true,
   "sideBar": true,
   "skip_h1_title": false,
   "title_cell": "Table of Contents",
   "title_sidebar": "Contents",
   "toc_cell": false,
   "toc_position": {},
   "toc_section_display": true,
   "toc_window_display": false
  }
 },
 "nbformat": 4,
 "nbformat_minor": 2
}
