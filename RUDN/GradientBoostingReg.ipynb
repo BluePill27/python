{
 "cells": [
  {
   "cell_type": "code",
   "execution_count": 33,
   "metadata": {
    "scrolled": true
   },
   "outputs": [],
   "source": [
    "import pandas as pd\n",
    "import numpy as np\n",
    "\n",
    "import datetime\n",
    "\n",
    "from tqdm._tqdm_notebook import tqdm_notebook\n",
    "\n",
    "tqdm_notebook.pandas()\n",
    "\n",
    "import xgboost as xgb \n",
    "\n",
    "from sklearn.model_selection import RandomizedSearchCV, TimeSeriesSplit, train_test_split\n",
    "from sklearn.metrics import mean_squared_error\n",
    "\n",
    "import graphviz\n",
    "\n",
    "import matplotlib.pyplot as plt\n",
    "%matplotlib inline"
   ]
  },
  {
   "cell_type": "code",
   "execution_count": 2,
   "metadata": {},
   "outputs": [],
   "source": [
    "def fillnan(data, years_c):\n",
    "    for name in years_c:\n",
    "        #заменяем троеточия\n",
    "        data[name] = data[name].apply(lambda x: np.nan if x==('..') else float(x))\n",
    "\n",
    "    return data\n",
    "\n",
    "def dropempt(data, years_c):\n",
    "    data = fillnan(data, years_c)\n",
    "    return data.dropna(thresh=10)\n",
    "\n",
    "def Clearing(data):\n",
    "    years_c = [item for ind, item in enumerate(np.array(data.columns)) if item not in ['Country Name', 'Country Code','Series Code','Series Name']]\n",
    "    print ('Before clear:', len(data))\n",
    "\n",
    "    data = dropempt(data, years_c)\n",
    "\n",
    "    print ('After clear:', len(data))\n",
    "    return data"
   ]
  },
  {
   "cell_type": "code",
   "execution_count": 3,
   "metadata": {},
   "outputs": [],
   "source": [
    "def Make_region(code, reg='region', by = 'name'):\n",
    "    #print code\n",
    "    if code in data_cnt[by].values:\n",
    "        #print code\n",
    "        name = (data_cnt[by][data_cnt[by] == code].index.tolist())[0]\n",
    "        return data_cnt[reg].at[name]\n",
    "    else:\n",
    "        return np.nan\n",
    "\n",
    "def Sorting(data, reg='region'):\n",
    "    #if data['Country Name'].get_value(len(data)-5) == np.nan:\n",
    "    #    data=data.drop(data.index[[range(len(data)-5, len(data))]]).reset_index()\n",
    "    if 'Region' not in data.columns:\n",
    "        data['Region'] = data['Country Name'].progress_apply(lambda x: Make_region(x, reg))\n",
    "        data['Region'].dropna()\n",
    "        return data.reset_index()\n",
    "    else:\n",
    "        return data"
   ]
  },
  {
   "cell_type": "code",
   "execution_count": 4,
   "metadata": {},
   "outputs": [
    {
     "name": "stdout",
     "output_type": "stream",
     "text": [
      "Before clear: 398541\n",
      "After clear: 104445\n"
     ]
    },
    {
     "data": {
      "application/vnd.jupyter.widget-view+json": {
       "model_id": "5b27bceb4eee43e3ba2f8ac2329c8071",
       "version_major": 2,
       "version_minor": 0
      },
      "text/html": [
       "<p>Failed to display Jupyter Widget of type <code>HBox</code>.</p>\n",
       "<p>\n",
       "  If you're reading this message in the Jupyter Notebook or JupyterLab Notebook, it may mean\n",
       "  that the widgets JavaScript is still loading. If this message persists, it\n",
       "  likely means that the widgets JavaScript library is either not installed or\n",
       "  not enabled. See the <a href=\"https://ipywidgets.readthedocs.io/en/stable/user_install.html\">Jupyter\n",
       "  Widgets Documentation</a> for setup instructions.\n",
       "</p>\n",
       "<p>\n",
       "  If you're reading this message in another frontend (for example, a static\n",
       "  rendering on GitHub or <a href=\"https://nbviewer.jupyter.org/\">NBViewer</a>),\n",
       "  it may mean that your frontend doesn't currently support widgets.\n",
       "</p>\n"
      ],
      "text/plain": [
       "HBox(children=(IntProgress(value=0, max=104445), HTML(value='')))"
      ]
     },
     "metadata": {},
     "output_type": "display_data"
    },
    {
     "name": "stdout",
     "output_type": "stream",
     "text": [
      "\n"
     ]
    }
   ],
   "source": [
    "df = pd.read_excel('data/Data_Extract_From_Gender_Statistics.xlsx', encoding = 'utf8').\\\n",
    "            append(pd.read_excel('data/Data_Extract_From_Health_Nutrition_and_Population_Statistics.xlsx', encoding='utf8')).\\\n",
    "            append(pd.read_excel('data/Data_Extract_From_Millennium_Development_Goals.xlsx', encoding='utf8')).\\\n",
    "            append(pd.read_excel('data/Data_Extract_From_Health_Nutrition_and_Population_Statistics_by_Wealth_Quintile.xlsx',encoding='utf8'))\n",
    "\n",
    "data_cnt = pd.read_csv('all.csv', encoding='utf8')\n",
    "df = Clearing(df)\n",
    "defen = pd.read_excel('data/Data_Extract_From_Gender_Statistics.xlsx', sheet_name=1, encoding = 'utf8').\\\n",
    "               append(pd.read_excel('data/Data_Extract_From_Health_Nutrition_and_Population_Statistics.xlsx', sheet_name=1, encoding='utf8')).\\\n",
    "               append(pd.read_excel('data/Data_Extract_From_Millennium_Development_Goals.xlsx', sheet_name=1, encoding='utf8'))\n",
    "\n",
    "df = Sorting(df, 'sub-region')\n",
    "df.drop_duplicates(inplace = True)\n",
    "df.drop(columns = 'index', inplace=True)"
   ]
  },
  {
   "cell_type": "code",
   "execution_count": 27,
   "metadata": {},
   "outputs": [],
   "source": [
    "def makexy(df, country = 'RUS'):\n",
    "    #Years\n",
    "    years_c = [item for ind, item in enumerate(np.array(df.columns)) if item not in ['Region','Country Name', 'Country Code','Series Code','Series Name', 'index']]\n",
    "    \n",
    "    #split country\n",
    "    df = df[(df['Country Code']== country)].copy()\n",
    "    df.drop_duplicates(inplace = True)\n",
    "    \n",
    "    y = df[df['Series Name'] == 'Life expectancy at birth, total (years)'][years_c].interpolate(axis=1).T\n",
    "    \n",
    "    if y.shape[1] == 1:\n",
    "        y.columns = ['Life expectancy at birth, total (years)']\n",
    "    else:\n",
    "        return pd.DataFrame(), pd.DataFrame()\n",
    "    \n",
    "    #Transponenting and then adding \n",
    "    mask = ((df['Series Name'] != 'Life expectancy at birth, male (years)') & \n",
    "            (df['Series Name'] != 'Life expectancy at birth, female (years)') &\n",
    "            (df['Series Name'] != 'Life expectancy at birth, total (years)'))\n",
    "    \n",
    "    X = df[mask][years_c].T\n",
    "    X.columns = df[(df['Country Code']== country) & mask]['Series Name']\n",
    "    X.reset_index(inplace = True, drop = True)\n",
    "    del df\n",
    "    \n",
    "    X['Years'] = [int(name.split()[0]) for name in years_c]\n",
    "    X['Region_code'] = int(Make_region(country,'region-code', by = 'alpha-3'))\n",
    "    X['Reion_sub_code'] = int(Make_region(country, 'sub-region-code', 'alpha-3'))\n",
    "    X['Country_code'] = int(Make_region(country, 'country-code', 'alpha-3'))\n",
    "    return X.reset_index(drop = True), y.reset_index(drop = True)\n",
    "\n",
    "def train_set(df, region = 'Eastern Europe'):\n",
    "    x_train, y_train = pd.DataFrame(), pd.DataFrame()\n",
    "    for country in df[df['Region'] == region]['Country Code'].unique():\n",
    "        tmp = makexy(df, country)\n",
    "        x_train = pd.concat([tmp[0], x_train], axis=0).fillna(-999)\n",
    "        y_train = pd.concat([tmp[1], y_train], axis=0).fillna(-999)\n",
    "    return x_train.as_matrix(), y_train.as_matrix(), x_train.columns\n",
    "    "
   ]
  },
  {
   "cell_type": "code",
   "execution_count": 42,
   "metadata": {},
   "outputs": [],
   "source": [
    "def Testing_grid_xgb(X_train, Y_train):\n",
    "    cv = TimeSeriesSplit(n_splits=4)\n",
    "    clf = xgb.XGBRegressor()        \n",
    "    parameters = {\n",
    "        'scale_pos_weight' : [1, 1.5],\n",
    "        'objective':['reg:linear'],\n",
    "        'learning_rate': [0.05, 0.1, 0.2],\n",
    "        'max_depth': [3 ,6],\n",
    "        'min_child_weight': [3 ,4, 5],\n",
    "        'max_delta_step': [0, 0.2, 0.8],\n",
    "        'reg_lambda': [0.5, 0.8, 0],\n",
    "        'reg_alpha': [0.5, 0.8, 0],\n",
    "        'silent': [1],\n",
    "        'subsample': [0.2, 0.05],\n",
    "        'colsample_bytree': [0.7, 0.8, 1],\n",
    "        'n_estimators': [100 ,250, 450],\n",
    "        'base_score' : [0.5, 1],\n",
    "        'gamma': [0, 0.5, 1]\n",
    "    }\n",
    "    \n",
    "    start_time = datetime.datetime.now()\n",
    "    gs = RandomizedSearchCV(clf, scoring='neg_mean_squared_error', param_distributions=parameters, \n",
    "                      cv=cv, n_jobs = -1, verbose=True,  n_iter=500)\n",
    "    gs.fit(X_train,Y_train)\n",
    "    print ('Time elapsed:', datetime.datetime.now() - start_time)\n",
    "    \n",
    "    means = gs.cv_results_['mean_test_score']\n",
    "    \n",
    "    print (max(means))\n",
    "    return gs.best_params_"
   ]
  },
  {
   "cell_type": "code",
   "execution_count": 43,
   "metadata": {},
   "outputs": [],
   "source": [
    "def Resmaking(df):\n",
    "    for region in tqdm_notebook(df['Region'].dropna().unique()):\n",
    "        tmp = train_set(df, region)\n",
    "        X_train, X_test, y_train, y_test = train_test_split(tmp[0], tmp[1], test_size=0.25, random_state=42)\n",
    "        p = Testing_grid_xgb(X_train, y_train)\n",
    "        \n",
    "        model = xgb.XGBRegressor(max_depth=p['max_depth'], learning_rate = p['learning_rate'], \n",
    "                                 n_estimators = p['n_estimators'], objective = p['objective'], \n",
    "                                 gamma = p['gamma'], min_child_weight = p['min_child_weight'], \n",
    "                                 max_delta_step = p['max_delta_step'], subsample = p['subsample'], \n",
    "                                 colsample_bytree = p['colsample_bytree'], reg_alpha = p['reg_alpha'], \n",
    "                                 reg_lambda = p['reg_lambda'], scale_pos_weight = p['scale_pos_weight'], \n",
    "                                 base_score = p['base_score'])\n",
    "        model.fit(X_train, y_train)\n",
    "        \n",
    "        print ('MSE : {0:f}%, \\nIn {1:s}'.format(100-mean_squared_error(model.predict(X_test), y_test), region))\n",
    "        \n",
    "        model.fit(tmp[0], tmp[1])\n",
    "        \n",
    "        rez = pd.DataFrame(model.feature_importances_, index = tmp[2]).sort_values(by = [0], ascending=False)\n",
    "        rez[rez[0]!=0].to_csv('Importance\\Varible_in_'+str(region)+'.csv')"
   ]
  },
  {
   "cell_type": "code",
   "execution_count": 44,
   "metadata": {
    "scrolled": true
   },
   "outputs": [
    {
     "data": {
      "application/vnd.jupyter.widget-view+json": {
       "model_id": "67725b7a606d4305bc639ac38dba91b5",
       "version_major": 2,
       "version_minor": 0
      },
      "text/html": [
       "<p>Failed to display Jupyter Widget of type <code>HBox</code>.</p>\n",
       "<p>\n",
       "  If you're reading this message in the Jupyter Notebook or JupyterLab Notebook, it may mean\n",
       "  that the widgets JavaScript is still loading. If this message persists, it\n",
       "  likely means that the widgets JavaScript library is either not installed or\n",
       "  not enabled. See the <a href=\"https://ipywidgets.readthedocs.io/en/stable/user_install.html\">Jupyter\n",
       "  Widgets Documentation</a> for setup instructions.\n",
       "</p>\n",
       "<p>\n",
       "  If you're reading this message in another frontend (for example, a static\n",
       "  rendering on GitHub or <a href=\"https://nbviewer.jupyter.org/\">NBViewer</a>),\n",
       "  it may mean that your frontend doesn't currently support widgets.\n",
       "</p>\n"
      ],
      "text/plain": [
       "HBox(children=(IntProgress(value=0, max=22), HTML(value='')))"
      ]
     },
     "metadata": {},
     "output_type": "display_data"
    },
    {
     "name": "stdout",
     "output_type": "stream",
     "text": [
      "Fitting 4 folds for each of 500 candidates, totalling 2000 fits\n"
     ]
    },
    {
     "name": "stderr",
     "output_type": "stream",
     "text": [
      "[Parallel(n_jobs=-1)]: Done  44 tasks      | elapsed:    0.9s\n",
      "[Parallel(n_jobs=-1)]: Done 1024 tasks      | elapsed:    9.5s\n",
      "[Parallel(n_jobs=-1)]: Done 2000 out of 2000 | elapsed:   19.0s finished\n"
     ]
    },
    {
     "name": "stdout",
     "output_type": "stream",
     "text": [
      "Time elapsed: 0:00:19.511576\n",
      "-3.622864795057584\n",
      "MSE : 99.586575%, \n",
      "In Southern Asia\n",
      "Fitting 4 folds for each of 500 candidates, totalling 2000 fits\n"
     ]
    },
    {
     "name": "stderr",
     "output_type": "stream",
     "text": [
      "[Parallel(n_jobs=-1)]: Done  36 tasks      | elapsed:    0.4s\n",
      "[Parallel(n_jobs=-1)]: Done 936 tasks      | elapsed:    6.4s\n",
      "[Parallel(n_jobs=-1)]: Done 2000 out of 2000 | elapsed:   13.5s finished\n"
     ]
    },
    {
     "name": "stdout",
     "output_type": "stream",
     "text": [
      "Time elapsed: 0:00:13.858698\n",
      "-1.2485584114202213\n",
      "MSE : 99.815655%, \n",
      "In Northern Africa\n",
      "Fitting 4 folds for each of 500 candidates, totalling 2000 fits\n"
     ]
    },
    {
     "name": "stderr",
     "output_type": "stream",
     "text": [
      "[Parallel(n_jobs=-1)]: Done  48 tasks      | elapsed:    0.7s\n",
      "[Parallel(n_jobs=-1)]: Done 1584 tasks      | elapsed:   10.9s\n",
      "[Parallel(n_jobs=-1)]: Done 2000 out of 2000 | elapsed:   13.7s finished\n"
     ]
    },
    {
     "name": "stdout",
     "output_type": "stream",
     "text": [
      "Time elapsed: 0:00:14.028816\n",
      "-4.027633220381192\n",
      "MSE : 99.046135%, \n",
      "In Middle Africa\n",
      "Fitting 4 folds for each of 500 candidates, totalling 2000 fits\n"
     ]
    },
    {
     "name": "stderr",
     "output_type": "stream",
     "text": [
      "[Parallel(n_jobs=-1)]: Done  40 tasks      | elapsed:    1.0s\n",
      "[Parallel(n_jobs=-1)]: Done 702 tasks      | elapsed:   10.0s\n",
      "[Parallel(n_jobs=-1)]: Done 1204 tasks      | elapsed:   16.9s\n",
      "[Parallel(n_jobs=-1)]: Done 1904 tasks      | elapsed:   25.5s\n",
      "[Parallel(n_jobs=-1)]: Done 2000 out of 2000 | elapsed:   26.9s finished\n"
     ]
    },
    {
     "name": "stdout",
     "output_type": "stream",
     "text": [
      "Time elapsed: 0:00:27.470788\n",
      "-0.6548673873684161\n",
      "MSE : 99.096434%, \n",
      "In South America\n",
      "Fitting 4 folds for each of 500 candidates, totalling 2000 fits\n"
     ]
    },
    {
     "name": "stderr",
     "output_type": "stream",
     "text": [
      "[Parallel(n_jobs=-1)]: Done  44 tasks      | elapsed:    1.2s\n",
      "[Parallel(n_jobs=-1)]: Done 675 tasks      | elapsed:   10.1s\n",
      "[Parallel(n_jobs=-1)]: Done 1175 tasks      | elapsed:   17.5s\n",
      "[Parallel(n_jobs=-1)]: Done 1875 tasks      | elapsed:   29.0s\n",
      "[Parallel(n_jobs=-1)]: Done 1977 out of 2000 | elapsed:   30.7s remaining:    0.4s\n",
      "[Parallel(n_jobs=-1)]: Done 2000 out of 2000 | elapsed:   31.1s finished\n"
     ]
    },
    {
     "name": "stdout",
     "output_type": "stream",
     "text": [
      "Time elapsed: 0:00:31.850331\n",
      "-0.7957204927050893\n",
      "MSE : 99.681622%, \n",
      "In Western Asia\n",
      "Fitting 4 folds for each of 500 candidates, totalling 2000 fits\n"
     ]
    },
    {
     "name": "stderr",
     "output_type": "stream",
     "text": [
      "[Parallel(n_jobs=-1)]: Done  32 tasks      | elapsed:    0.3s\n",
      "[Parallel(n_jobs=-1)]: Done 1664 tasks      | elapsed:    9.3s\n",
      "[Parallel(n_jobs=-1)]: Done 2000 out of 2000 | elapsed:   10.9s finished\n"
     ]
    },
    {
     "name": "stdout",
     "output_type": "stream",
     "text": [
      "Time elapsed: 0:00:11.149493\n",
      "-0.17233244124960803\n",
      "MSE : 99.868245%, \n",
      "In Australia and New Zealand\n",
      "Fitting 4 folds for each of 500 candidates, totalling 2000 fits\n"
     ]
    },
    {
     "name": "stderr",
     "output_type": "stream",
     "text": [
      "[Parallel(n_jobs=-1)]: Done  40 tasks      | elapsed:    1.0s\n",
      "[Parallel(n_jobs=-1)]: Done 908 tasks      | elapsed:    9.0s\n",
      "[Parallel(n_jobs=-1)]: Done 1908 tasks      | elapsed:   18.8s\n",
      "[Parallel(n_jobs=-1)]: Done 2000 out of 2000 | elapsed:   19.7s finished\n"
     ]
    },
    {
     "name": "stdout",
     "output_type": "stream",
     "text": [
      "Time elapsed: 0:00:20.210425\n",
      "-5.202821709646311\n",
      "MSE : 99.718221%, \n",
      "In Caribbean\n",
      "Fitting 4 folds for each of 500 candidates, totalling 2000 fits\n"
     ]
    },
    {
     "name": "stderr",
     "output_type": "stream",
     "text": [
      "[Parallel(n_jobs=-1)]: Done  35 tasks      | elapsed:    0.4s\n",
      "[Parallel(n_jobs=-1)]: Done 832 tasks      | elapsed:    8.0s\n",
      "[Parallel(n_jobs=-1)]: Done 1832 tasks      | elapsed:   16.8s\n",
      "[Parallel(n_jobs=-1)]: Done 2000 out of 2000 | elapsed:   18.5s finished\n"
     ]
    },
    {
     "name": "stdout",
     "output_type": "stream",
     "text": [
      "Time elapsed: 0:00:18.905873\n",
      "-1.6390532498184152\n",
      "MSE : 97.922948%, \n",
      "In Eastern Europe\n",
      "Fitting 4 folds for each of 500 candidates, totalling 2000 fits\n"
     ]
    },
    {
     "name": "stderr",
     "output_type": "stream",
     "text": [
      "[Parallel(n_jobs=-1)]: Done  40 tasks      | elapsed:    0.5s\n",
      "[Parallel(n_jobs=-1)]: Done 884 tasks      | elapsed:    8.2s\n",
      "[Parallel(n_jobs=-1)]: Done 1884 tasks      | elapsed:   17.0s\n",
      "[Parallel(n_jobs=-1)]: Done 2000 out of 2000 | elapsed:   18.1s finished\n"
     ]
    },
    {
     "name": "stdout",
     "output_type": "stream",
     "text": [
      "Time elapsed: 0:00:18.495820\n",
      "-2.445365878522053\n",
      "MSE : 99.702367%, \n",
      "In Central America\n",
      "Fitting 4 folds for each of 500 candidates, totalling 2000 fits\n"
     ]
    },
    {
     "name": "stderr",
     "output_type": "stream",
     "text": [
      "[Parallel(n_jobs=-1)]: Done  36 tasks      | elapsed:    0.6s\n",
      "[Parallel(n_jobs=-1)]: Done 762 tasks      | elapsed:    9.2s\n",
      "[Parallel(n_jobs=-1)]: Done 1512 tasks      | elapsed:   18.2s\n",
      "[Parallel(n_jobs=-1)]: Done 1977 out of 2000 | elapsed:   23.4s remaining:    0.3s\n",
      "[Parallel(n_jobs=-1)]: Done 2000 out of 2000 | elapsed:   24.0s finished\n"
     ]
    },
    {
     "name": "stdout",
     "output_type": "stream",
     "text": [
      "Time elapsed: 0:00:24.451604\n",
      "-1.9837950764920511\n",
      "MSE : 98.997212%, \n",
      "In Western Africa\n",
      "Fitting 4 folds for each of 500 candidates, totalling 2000 fits\n"
     ]
    },
    {
     "name": "stderr",
     "output_type": "stream",
     "text": [
      "[Parallel(n_jobs=-1)]: Done  48 tasks      | elapsed:    1.0s\n",
      "[Parallel(n_jobs=-1)]: Done 1320 tasks      | elapsed:    9.6s\n",
      "[Parallel(n_jobs=-1)]: Done 2000 out of 2000 | elapsed:   14.4s finished\n"
     ]
    },
    {
     "name": "stdout",
     "output_type": "stream",
     "text": [
      "Time elapsed: 0:00:14.788956\n",
      "-6.572255029718765\n",
      "MSE : 99.700631%, \n",
      "In Southern Africa\n",
      "Fitting 4 folds for each of 500 candidates, totalling 2000 fits\n"
     ]
    },
    {
     "name": "stderr",
     "output_type": "stream",
     "text": [
      "[Parallel(n_jobs=-1)]: Done  41 tasks      | elapsed:    0.8s\n",
      "[Parallel(n_jobs=-1)]: Done 693 tasks      | elapsed:    8.7s\n",
      "[Parallel(n_jobs=-1)]: Done 1443 tasks      | elapsed:   18.4s\n",
      "[Parallel(n_jobs=-1)]: Done 2000 out of 2000 | elapsed:   25.2s finished\n"
     ]
    },
    {
     "name": "stdout",
     "output_type": "stream",
     "text": [
      "Time elapsed: 0:00:25.800885\n",
      "-1.2126193813086148\n",
      "MSE : 99.375763%, \n",
      "In Eastern Africa\n",
      "Fitting 4 folds for each of 500 candidates, totalling 2000 fits\n"
     ]
    },
    {
     "name": "stderr",
     "output_type": "stream",
     "text": [
      "[Parallel(n_jobs=-1)]: Done  40 tasks      | elapsed:    0.7s\n",
      "[Parallel(n_jobs=-1)]: Done 884 tasks      | elapsed:    9.0s\n",
      "[Parallel(n_jobs=-1)]: Done 1884 tasks      | elapsed:   18.5s\n",
      "[Parallel(n_jobs=-1)]: Done 2000 out of 2000 | elapsed:   19.5s finished\n"
     ]
    },
    {
     "name": "stdout",
     "output_type": "stream",
     "text": [
      "Time elapsed: 0:00:19.989741\n",
      "-1.8191005026969327\n",
      "MSE : 99.656284%, \n",
      "In South-Eastern Asia\n",
      "Fitting 4 folds for each of 500 candidates, totalling 2000 fits\n"
     ]
    },
    {
     "name": "stderr",
     "output_type": "stream",
     "text": [
      "[Parallel(n_jobs=-1)]: Done  44 tasks      | elapsed:    1.2s\n",
      "[Parallel(n_jobs=-1)]: Done 969 tasks      | elapsed:   12.6s\n",
      "[Parallel(n_jobs=-1)]: Done 2000 out of 2000 | elapsed:   24.6s finished\n"
     ]
    },
    {
     "name": "stdout",
     "output_type": "stream",
     "text": [
      "Time elapsed: 0:00:25.148271\n",
      "-1.141752457885638\n",
      "MSE : 99.545929%, \n",
      "In Southern Europe\n",
      "Fitting 4 folds for each of 500 candidates, totalling 2000 fits\n"
     ]
    },
    {
     "name": "stderr",
     "output_type": "stream",
     "text": [
      "[Parallel(n_jobs=-1)]: Done  36 tasks      | elapsed:    0.4s\n",
      "[Parallel(n_jobs=-1)]: Done 936 tasks      | elapsed:    5.4s\n",
      "[Parallel(n_jobs=-1)]: Done 2000 out of 2000 | elapsed:   11.5s finished\n"
     ]
    },
    {
     "name": "stdout",
     "output_type": "stream",
     "text": [
      "Time elapsed: 0:00:11.813289\n",
      "-1.0048719545373157\n",
      "MSE : 99.722581%, \n",
      "In Melanesia\n",
      "Fitting 4 folds for each of 500 candidates, totalling 2000 fits\n"
     ]
    },
    {
     "name": "stderr",
     "output_type": "stream",
     "text": [
      "[Parallel(n_jobs=-1)]: Done  48 tasks      | elapsed:    1.0s\n",
      "[Parallel(n_jobs=-1)]: Done 1182 tasks      | elapsed:   10.9s\n",
      "[Parallel(n_jobs=-1)]: Done 2000 out of 2000 | elapsed:   18.2s finished\n"
     ]
    },
    {
     "name": "stdout",
     "output_type": "stream",
     "text": [
      "Time elapsed: 0:00:18.522267\n",
      "-0.23016207681797377\n",
      "MSE : 99.836080%, \n",
      "In Western Europe\n",
      "Fitting 4 folds for each of 500 candidates, totalling 2000 fits\n"
     ]
    },
    {
     "name": "stderr",
     "output_type": "stream",
     "text": [
      "[Parallel(n_jobs=-1)]: Done  48 tasks      | elapsed:    1.3s\n",
      "[Parallel(n_jobs=-1)]: Done 1176 tasks      | elapsed:   12.0s\n",
      "[Parallel(n_jobs=-1)]: Done 2000 out of 2000 | elapsed:   20.1s finished\n"
     ]
    },
    {
     "name": "stdout",
     "output_type": "stream",
     "text": [
      "Time elapsed: 0:00:20.429797\n",
      "-0.9649640626034507\n",
      "MSE : 99.718276%, \n",
      "In Northern Europe\n",
      "Fitting 4 folds for each of 500 candidates, totalling 2000 fits\n"
     ]
    },
    {
     "name": "stderr",
     "output_type": "stream",
     "text": [
      "[Parallel(n_jobs=-1)]: Done  36 tasks      | elapsed:    0.4s\n",
      "[Parallel(n_jobs=-1)]: Done 936 tasks      | elapsed:    5.9s\n",
      "[Parallel(n_jobs=-1)]: Done 2000 out of 2000 | elapsed:   12.5s finished\n"
     ]
    },
    {
     "name": "stdout",
     "output_type": "stream",
     "text": [
      "Time elapsed: 0:00:12.811035\n",
      "-0.4989392003268708\n",
      "MSE : 99.697039%, \n",
      "In Central Asia\n",
      "Fitting 4 folds for each of 500 candidates, totalling 2000 fits\n"
     ]
    },
    {
     "name": "stderr",
     "output_type": "stream",
     "text": [
      "[Parallel(n_jobs=-1)]: Done  48 tasks      | elapsed:    0.6s\n",
      "[Parallel(n_jobs=-1)]: Done 2000 out of 2000 | elapsed:   12.4s finished\n"
     ]
    },
    {
     "name": "stdout",
     "output_type": "stream",
     "text": [
      "Time elapsed: 0:00:12.653631\n",
      "-0.8569932535436636\n",
      "MSE : 95.159568%, \n",
      "In Eastern Asia\n",
      "Fitting 4 folds for each of 500 candidates, totalling 2000 fits\n"
     ]
    },
    {
     "name": "stderr",
     "output_type": "stream",
     "text": [
      "[Parallel(n_jobs=-1)]: Done  52 tasks      | elapsed:    0.5s\n",
      "[Parallel(n_jobs=-1)]: Done 1795 tasks      | elapsed:    9.4s\n",
      "[Parallel(n_jobs=-1)]: Done 2000 out of 2000 | elapsed:   10.2s finished\n"
     ]
    },
    {
     "name": "stdout",
     "output_type": "stream",
     "text": [
      "Time elapsed: 0:00:10.409158\n",
      "-4.062276508074423\n",
      "MSE : 95.622427%, \n",
      "In Northern America\n",
      "Fitting 4 folds for each of 500 candidates, totalling 2000 fits\n"
     ]
    },
    {
     "name": "stderr",
     "output_type": "stream",
     "text": [
      "[Parallel(n_jobs=-1)]: Done  36 tasks      | elapsed:    0.3s\n",
      "[Parallel(n_jobs=-1)]: Done 936 tasks      | elapsed:    4.3s\n",
      "[Parallel(n_jobs=-1)]: Done 2000 out of 2000 | elapsed:    9.5s finished\n"
     ]
    },
    {
     "name": "stdout",
     "output_type": "stream",
     "text": [
      "Time elapsed: 0:00:09.776950\n",
      "-0.9447898151738808\n",
      "MSE : 99.877525%, \n",
      "In Polynesia\n",
      "Fitting 4 folds for each of 500 candidates, totalling 2000 fits\n"
     ]
    },
    {
     "name": "stderr",
     "output_type": "stream",
     "text": [
      "[Parallel(n_jobs=-1)]: Done  48 tasks      | elapsed:    0.5s\n",
      "[Parallel(n_jobs=-1)]: Done 2000 out of 2000 | elapsed:    8.3s finished\n"
     ]
    },
    {
     "name": "stdout",
     "output_type": "stream",
     "text": [
      "Time elapsed: 0:00:08.681005\n",
      "-5.2554911972226535\n",
      "MSE : 99.758044%, \n",
      "In Micronesia\n",
      "\n"
     ]
    }
   ],
   "source": [
    "Resmaking(df)"
   ]
  },
  {
   "cell_type": "code",
   "execution_count": 41,
   "metadata": {},
   "outputs": [],
   "source": [
    "RandomizedSearchCV?"
   ]
  }
 ],
 "metadata": {
  "gist": {
   "data": {
    "description": "GitHub/python/RUDN/Treebased.ipynb",
    "public": false
   },
   "id": ""
  },
  "kernelspec": {
   "display_name": "Python 3",
   "language": "python",
   "name": "python3"
  },
  "language_info": {
   "codemirror_mode": {
    "name": "ipython",
    "version": 3
   },
   "file_extension": ".py",
   "mimetype": "text/x-python",
   "name": "python",
   "nbconvert_exporter": "python",
   "pygments_lexer": "ipython3",
   "version": "3.6.4"
  },
  "toc": {
   "nav_menu": {},
   "number_sections": true,
   "sideBar": true,
   "skip_h1_title": false,
   "title_cell": "Table of Contents",
   "title_sidebar": "Contents",
   "toc_cell": false,
   "toc_position": {},
   "toc_section_display": true,
   "toc_window_display": false
  }
 },
 "nbformat": 4,
 "nbformat_minor": 2
}
