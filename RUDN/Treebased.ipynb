{
 "cells": [
  {
   "cell_type": "code",
   "execution_count": 1,
   "metadata": {},
   "outputs": [],
   "source": [
    "import pandas as pd\n",
    "import numpy as np\n",
    "\n",
    "import datetime\n",
    "\n",
    "from tqdm._tqdm_notebook import tqdm_notebook\n",
    "\n",
    "tqdm_notebook.pandas()\n",
    "\n",
    "from xgboost import XGBRegressor\n",
    "from sklearn.model_selection import GridSearchCV, TimeSeriesSplit\n",
    "\n",
    "import matplotlib.pyplot as plt\n",
    "%matplotlib inline"
   ]
  },
  {
   "cell_type": "code",
   "execution_count": 2,
   "metadata": {},
   "outputs": [],
   "source": [
    "def fillnan(data, years_c):\n",
    "    for name in years_c:\n",
    "        #заменяем троеточия\n",
    "        data[name] = data[name].apply(lambda x: np.nan if x==('..') else float(x))\n",
    "\n",
    "    return data\n",
    "\n",
    "def dropempt(data, years_c):\n",
    "    data = fillnan(data, years_c)\n",
    "    return data.dropna(thresh=10)\n",
    "\n",
    "def Clearing(data):\n",
    "    years_c = [item for ind, item in enumerate(np.array(data.columns)) if item not in ['Country Name', 'Country Code','Series Code','Series Name']]\n",
    "    print ('Before clear:', len(data))\n",
    "\n",
    "    data = dropempt(data, years_c)\n",
    "\n",
    "    print ('After clear:', len(data))\n",
    "    return data"
   ]
  },
  {
   "cell_type": "code",
   "execution_count": 3,
   "metadata": {},
   "outputs": [],
   "source": [
    "def Make_region(code, reg='region', by = 'name'):\n",
    "    #print code\n",
    "    if code in data_cnt[by].values:\n",
    "        #print code\n",
    "        name = (data_cnt[by][data_cnt[by] == code].index.tolist())[0]\n",
    "        return data_cnt[reg].at[name]\n",
    "    else:\n",
    "        return np.nan\n",
    "\n",
    "def Sorting(data, reg='region'):\n",
    "    #if data['Country Name'].get_value(len(data)-5) == np.nan:\n",
    "    #    data=data.drop(data.index[[range(len(data)-5, len(data))]]).reset_index()\n",
    "    if 'Region' not in data.columns:\n",
    "        data['Region'] = data['Country Name'].progress_apply(lambda x: Make_region(x, reg))\n",
    "        data['Region'].dropna()\n",
    "        return data.reset_index()\n",
    "    else:\n",
    "        return data"
   ]
  },
  {
   "cell_type": "code",
   "execution_count": 4,
   "metadata": {},
   "outputs": [
    {
     "name": "stdout",
     "output_type": "stream",
     "text": [
      "Before clear: 398541\n",
      "After clear: 104445\n"
     ]
    }
   ],
   "source": [
    "df = pd.read_excel('data/Data_Extract_From_Gender_Statistics.xlsx', encoding = 'utf8').\\\n",
    "            append(pd.read_excel('data/Data_Extract_From_Health_Nutrition_and_Population_Statistics.xlsx', encoding='utf8')).\\\n",
    "            append(pd.read_excel('data/Data_Extract_From_Millennium_Development_Goals.xlsx', encoding='utf8')).\\\n",
    "            append(pd.read_excel('data/Data_Extract_From_Health_Nutrition_and_Population_Statistics_by_Wealth_Quintile.xlsx',encoding='utf8'))\n",
    "\n",
    "data_cnt = pd.read_csv('all.csv', encoding='utf8')\n",
    "df = Clearing(df)\n",
    "defen = pd.read_excel('data/Data_Extract_From_Gender_Statistics.xlsx', sheet_name=1, encoding = 'utf8').\\\n",
    "               append(pd.read_excel('data/Data_Extract_From_Health_Nutrition_and_Population_Statistics.xlsx', sheet_name=1, encoding='utf8')).\\\n",
    "               append(pd.read_excel('data/Data_Extract_From_Millennium_Development_Goals.xlsx', sheet_name=1, encoding='utf8'))"
   ]
  },
  {
   "cell_type": "code",
   "execution_count": 5,
   "metadata": {},
   "outputs": [
    {
     "data": {
      "application/vnd.jupyter.widget-view+json": {
       "model_id": "b713ffd3e2104ce99cba02dda0acf5a7",
       "version_major": 2,
       "version_minor": 0
      },
      "text/html": [
       "<p>Failed to display Jupyter Widget of type <code>HBox</code>.</p>\n",
       "<p>\n",
       "  If you're reading this message in the Jupyter Notebook or JupyterLab Notebook, it may mean\n",
       "  that the widgets JavaScript is still loading. If this message persists, it\n",
       "  likely means that the widgets JavaScript library is either not installed or\n",
       "  not enabled. See the <a href=\"https://ipywidgets.readthedocs.io/en/stable/user_install.html\">Jupyter\n",
       "  Widgets Documentation</a> for setup instructions.\n",
       "</p>\n",
       "<p>\n",
       "  If you're reading this message in another frontend (for example, a static\n",
       "  rendering on GitHub or <a href=\"https://nbviewer.jupyter.org/\">NBViewer</a>),\n",
       "  it may mean that your frontend doesn't currently support widgets.\n",
       "</p>\n"
      ],
      "text/plain": [
       "HBox(children=(IntProgress(value=0, max=104445), HTML(value='')))"
      ]
     },
     "metadata": {},
     "output_type": "display_data"
    },
    {
     "name": "stdout",
     "output_type": "stream",
     "text": [
      "\n"
     ]
    }
   ],
   "source": [
    "df = Sorting(df, 'sub-region')"
   ]
  },
  {
   "cell_type": "code",
   "execution_count": 6,
   "metadata": {},
   "outputs": [],
   "source": [
    "df.drop_duplicates(inplace = True)"
   ]
  },
  {
   "cell_type": "code",
   "execution_count": 7,
   "metadata": {},
   "outputs": [],
   "source": [
    "years_c = [item for ind, item in enumerate(np.array(df.columns)) if item not in ['Region','Country Name', 'Country Code','Series Code','Series Name', 'index']]"
   ]
  },
  {
   "cell_type": "code",
   "execution_count": 8,
   "metadata": {},
   "outputs": [
    {
     "data": {
      "text/html": [
       "<div>\n",
       "<style scoped>\n",
       "    .dataframe tbody tr th:only-of-type {\n",
       "        vertical-align: middle;\n",
       "    }\n",
       "\n",
       "    .dataframe tbody tr th {\n",
       "        vertical-align: top;\n",
       "    }\n",
       "\n",
       "    .dataframe thead th {\n",
       "        text-align: right;\n",
       "    }\n",
       "</style>\n",
       "<table border=\"1\" class=\"dataframe\">\n",
       "  <thead>\n",
       "    <tr style=\"text-align: right;\">\n",
       "      <th></th>\n",
       "      <th>index</th>\n",
       "      <th>2003 [YR2003]</th>\n",
       "      <th>2004 [YR2004]</th>\n",
       "      <th>2005 [YR2005]</th>\n",
       "      <th>2006 [YR2006]</th>\n",
       "      <th>2007 [YR2007]</th>\n",
       "      <th>2008 [YR2008]</th>\n",
       "      <th>2009 [YR2009]</th>\n",
       "      <th>2010 [YR2010]</th>\n",
       "      <th>2011 [YR2011]</th>\n",
       "      <th>2012 [YR2012]</th>\n",
       "      <th>2013 [YR2013]</th>\n",
       "      <th>2014 [YR2014]</th>\n",
       "      <th>2015 [YR2015]</th>\n",
       "      <th>2016 [YR2016]</th>\n",
       "      <th>Country Code</th>\n",
       "      <th>Country Name</th>\n",
       "      <th>Series Code</th>\n",
       "      <th>Series Name</th>\n",
       "      <th>Region</th>\n",
       "    </tr>\n",
       "  </thead>\n",
       "  <tbody>\n",
       "    <tr>\n",
       "      <th>0</th>\n",
       "      <td>0</td>\n",
       "      <td>0.000000</td>\n",
       "      <td>0.000000</td>\n",
       "      <td>0.000000</td>\n",
       "      <td>0.000000</td>\n",
       "      <td>0.000000</td>\n",
       "      <td>0.000000</td>\n",
       "      <td>1.000000</td>\n",
       "      <td>1.000000</td>\n",
       "      <td>2.000000</td>\n",
       "      <td>3.000000</td>\n",
       "      <td>3.000000</td>\n",
       "      <td>5.000000</td>\n",
       "      <td>5.000000</td>\n",
       "      <td>10.000000</td>\n",
       "      <td>AFG</td>\n",
       "      <td>Afghanistan</td>\n",
       "      <td>SH.HIV.ARTC.FE.ZS</td>\n",
       "      <td>Access to anti-retroviral drugs, female (%)</td>\n",
       "      <td>Southern Asia</td>\n",
       "    </tr>\n",
       "    <tr>\n",
       "      <th>1</th>\n",
       "      <td>2</td>\n",
       "      <td>0.000000</td>\n",
       "      <td>0.000000</td>\n",
       "      <td>0.000000</td>\n",
       "      <td>6.000000</td>\n",
       "      <td>8.000000</td>\n",
       "      <td>9.000000</td>\n",
       "      <td>17.000000</td>\n",
       "      <td>26.000000</td>\n",
       "      <td>29.000000</td>\n",
       "      <td>34.000000</td>\n",
       "      <td>45.000000</td>\n",
       "      <td>57.000000</td>\n",
       "      <td>67.000000</td>\n",
       "      <td>78.000000</td>\n",
       "      <td>DZA</td>\n",
       "      <td>Algeria</td>\n",
       "      <td>SH.HIV.ARTC.FE.ZS</td>\n",
       "      <td>Access to anti-retroviral drugs, female (%)</td>\n",
       "      <td>Northern Africa</td>\n",
       "    </tr>\n",
       "    <tr>\n",
       "      <th>2</th>\n",
       "      <td>5</td>\n",
       "      <td>0.000000</td>\n",
       "      <td>0.000000</td>\n",
       "      <td>0.000000</td>\n",
       "      <td>3.000000</td>\n",
       "      <td>5.000000</td>\n",
       "      <td>7.000000</td>\n",
       "      <td>9.000000</td>\n",
       "      <td>11.000000</td>\n",
       "      <td>13.000000</td>\n",
       "      <td>14.000000</td>\n",
       "      <td>20.000000</td>\n",
       "      <td>24.000000</td>\n",
       "      <td>26.000000</td>\n",
       "      <td>24.000000</td>\n",
       "      <td>AGO</td>\n",
       "      <td>Angola</td>\n",
       "      <td>SH.HIV.ARTC.FE.ZS</td>\n",
       "      <td>Access to anti-retroviral drugs, female (%)</td>\n",
       "      <td>Middle Africa</td>\n",
       "    </tr>\n",
       "    <tr>\n",
       "      <th>3</th>\n",
       "      <td>7</td>\n",
       "      <td>1.957837</td>\n",
       "      <td>2.349114</td>\n",
       "      <td>2.886862</td>\n",
       "      <td>4.131851</td>\n",
       "      <td>5.251858</td>\n",
       "      <td>7.379121</td>\n",
       "      <td>8.981335</td>\n",
       "      <td>10.809919</td>\n",
       "      <td>12.393742</td>\n",
       "      <td>14.735615</td>\n",
       "      <td>17.476939</td>\n",
       "      <td>20.271829</td>\n",
       "      <td>23.921017</td>\n",
       "      <td>27.819662</td>\n",
       "      <td>ARB</td>\n",
       "      <td>Arab World</td>\n",
       "      <td>SH.HIV.ARTC.FE.ZS</td>\n",
       "      <td>Access to anti-retroviral drugs, female (%)</td>\n",
       "      <td>NaN</td>\n",
       "    </tr>\n",
       "    <tr>\n",
       "      <th>4</th>\n",
       "      <td>8</td>\n",
       "      <td>40.000000</td>\n",
       "      <td>44.000000</td>\n",
       "      <td>48.000000</td>\n",
       "      <td>51.000000</td>\n",
       "      <td>55.000000</td>\n",
       "      <td>58.000000</td>\n",
       "      <td>60.000000</td>\n",
       "      <td>63.000000</td>\n",
       "      <td>65.000000</td>\n",
       "      <td>68.000000</td>\n",
       "      <td>70.000000</td>\n",
       "      <td>72.000000</td>\n",
       "      <td>74.000000</td>\n",
       "      <td>75.000000</td>\n",
       "      <td>ARG</td>\n",
       "      <td>Argentina</td>\n",
       "      <td>SH.HIV.ARTC.FE.ZS</td>\n",
       "      <td>Access to anti-retroviral drugs, female (%)</td>\n",
       "      <td>South America</td>\n",
       "    </tr>\n",
       "  </tbody>\n",
       "</table>\n",
       "</div>"
      ],
      "text/plain": [
       "   index  2003 [YR2003]  2004 [YR2004]  2005 [YR2005]  2006 [YR2006]  \\\n",
       "0      0       0.000000       0.000000       0.000000       0.000000   \n",
       "1      2       0.000000       0.000000       0.000000       6.000000   \n",
       "2      5       0.000000       0.000000       0.000000       3.000000   \n",
       "3      7       1.957837       2.349114       2.886862       4.131851   \n",
       "4      8      40.000000      44.000000      48.000000      51.000000   \n",
       "\n",
       "   2007 [YR2007]  2008 [YR2008]  2009 [YR2009]  2010 [YR2010]  2011 [YR2011]  \\\n",
       "0       0.000000       0.000000       1.000000       1.000000       2.000000   \n",
       "1       8.000000       9.000000      17.000000      26.000000      29.000000   \n",
       "2       5.000000       7.000000       9.000000      11.000000      13.000000   \n",
       "3       5.251858       7.379121       8.981335      10.809919      12.393742   \n",
       "4      55.000000      58.000000      60.000000      63.000000      65.000000   \n",
       "\n",
       "   2012 [YR2012]  2013 [YR2013]  2014 [YR2014]  2015 [YR2015]  2016 [YR2016]  \\\n",
       "0       3.000000       3.000000       5.000000       5.000000      10.000000   \n",
       "1      34.000000      45.000000      57.000000      67.000000      78.000000   \n",
       "2      14.000000      20.000000      24.000000      26.000000      24.000000   \n",
       "3      14.735615      17.476939      20.271829      23.921017      27.819662   \n",
       "4      68.000000      70.000000      72.000000      74.000000      75.000000   \n",
       "\n",
       "  Country Code Country Name        Series Code  \\\n",
       "0          AFG  Afghanistan  SH.HIV.ARTC.FE.ZS   \n",
       "1          DZA      Algeria  SH.HIV.ARTC.FE.ZS   \n",
       "2          AGO       Angola  SH.HIV.ARTC.FE.ZS   \n",
       "3          ARB   Arab World  SH.HIV.ARTC.FE.ZS   \n",
       "4          ARG    Argentina  SH.HIV.ARTC.FE.ZS   \n",
       "\n",
       "                                   Series Name           Region  \n",
       "0  Access to anti-retroviral drugs, female (%)    Southern Asia  \n",
       "1  Access to anti-retroviral drugs, female (%)  Northern Africa  \n",
       "2  Access to anti-retroviral drugs, female (%)    Middle Africa  \n",
       "3  Access to anti-retroviral drugs, female (%)              NaN  \n",
       "4  Access to anti-retroviral drugs, female (%)    South America  "
      ]
     },
     "execution_count": 8,
     "metadata": {},
     "output_type": "execute_result"
    }
   ],
   "source": [
    "df[(df['Series Name'] != 'Life expectancy at birth, total (years)')].head()"
   ]
  },
  {
   "cell_type": "code",
   "execution_count": 9,
   "metadata": {},
   "outputs": [],
   "source": [
    "df.drop(columns = 'index', inplace=True)"
   ]
  },
  {
   "cell_type": "markdown",
   "metadata": {},
   "source": [
    "Life expectancy at birth, total (years)"
   ]
  },
  {
   "cell_type": "code",
   "execution_count": 31,
   "metadata": {},
   "outputs": [],
   "source": [
    "def makexy(df, country = 'RUS'):\n",
    "    #Years\n",
    "    years_c = [item for ind, item in enumerate(np.array(df.columns)) if item not in ['Region','Country Name', 'Country Code','Series Code','Series Name', 'index']]\n",
    "    \n",
    "    #split country\n",
    "    df = df[(df['Country Code']== country)].copy()\n",
    "    df.drop_duplicates(inplace = True)\n",
    "    \n",
    "    y = df[df['Series Name'] == 'Life expectancy at birth, total (years)'][years_c].interpolate(axis=1).T.as_matrix()\n",
    "    #Transponenting and then adding \n",
    "    X = df[df['Series Name'] != 'Life expectancy at birth, total (years)'][years_c].T\n",
    "    X.columns = df[(df['Country Code']== country) & (df['Series Name'] != 'Life expectancy at birth, total (years)')]['Series Name'].tolist()\n",
    "    X.reset_index(inplace = True, drop = True)\n",
    "    del df\n",
    "    \n",
    "    X['Years'] = [int(name.split()[0]) for name in years_c]\n",
    "    X['Region_code'] = int(Make_region(country,'region-code', by = 'alpha-3'))\n",
    "    X['Reion_sub_code'] = int(Make_region(country, 'sub-region-code', 'alpha-3'))\n",
    "    X['Country_code'] = int(Make_region(country, 'country-code', 'alpha-3'))\n",
    "    return X.as_matrix(), y, X.columns"
   ]
  },
  {
   "cell_type": "code",
   "execution_count": 32,
   "metadata": {},
   "outputs": [],
   "source": [
    "def Testing_grid_xgb(X_train, Y_train):\n",
    "    cv = TimeSeriesSplit(n_splits=5)\n",
    "    clf = XGBRegressor()        \n",
    "    parameters = {\n",
    "        'scale_pos_weight' : [1.5],\n",
    "        'objective':['reg:linear'],\n",
    "        'learning_rate': [0.3, 0.4],\n",
    "        'max_depth': [6],\n",
    "        'min_child_weight': [4],\n",
    "        'max_delta_step': [0],\n",
    "        'reg_lambda': [0],\n",
    "        'reg_alpha': [0.8],\n",
    "        'silent': [1],\n",
    "        'subsample': [0.05],\n",
    "        'colsample_bytree': [1],\n",
    "        'n_estimators': [150, 450],\n",
    "        'base_score' : [0.5]\n",
    "    }\n",
    "    \n",
    "    start_time = datetime.datetime.now()\n",
    "    gs = GridSearchCV(clf, scoring='neg_mean_absolute_error', param_grid=parameters, cv=cv,  n_jobs = -1, verbose=True)\n",
    "    gs.fit(X_train,Y_train)\n",
    "    print ('Time elapsed:', datetime.datetime.now() - start_time)\n",
    "    \n",
    "    means = gs.cv_results_['mean_test_score']\n",
    "    \n",
    "    print (gs.best_params_)\n",
    "    return max(means), gs.best_params_"
   ]
  },
  {
   "cell_type": "code",
   "execution_count": 33,
   "metadata": {},
   "outputs": [],
   "source": [
    "tmp = makexy(df)"
   ]
  },
  {
   "cell_type": "code",
   "execution_count": 34,
   "metadata": {
    "scrolled": true
   },
   "outputs": [
    {
     "name": "stdout",
     "output_type": "stream",
     "text": [
      "Fitting 5 folds for each of 4 candidates, totalling 20 fits\n",
      "Time elapsed: 0:00:00.495474\n",
      "{'base_score': 0.5, 'colsample_bytree': 1, 'learning_rate': 0.4, 'max_delta_step': 0, 'max_depth': 6, 'min_child_weight': 4, 'n_estimators': 450, 'objective': 'reg:linear', 'reg_alpha': 0.8, 'reg_lambda': 0, 'scale_pos_weight': 1.5, 'silent': 1, 'subsample': 0.05}\n"
     ]
    },
    {
     "name": "stderr",
     "output_type": "stream",
     "text": [
      "[Parallel(n_jobs=-1)]: Done  18 out of  20 | elapsed:    0.1s remaining:    0.0s\n",
      "[Parallel(n_jobs=-1)]: Done  20 out of  20 | elapsed:    0.1s finished\n"
     ]
    },
    {
     "data": {
      "text/plain": [
       "(-1.2826133675924196,\n",
       " {'base_score': 0.5,\n",
       "  'colsample_bytree': 1,\n",
       "  'learning_rate': 0.4,\n",
       "  'max_delta_step': 0,\n",
       "  'max_depth': 6,\n",
       "  'min_child_weight': 4,\n",
       "  'n_estimators': 450,\n",
       "  'objective': 'reg:linear',\n",
       "  'reg_alpha': 0.8,\n",
       "  'reg_lambda': 0,\n",
       "  'scale_pos_weight': 1.5,\n",
       "  'silent': 1,\n",
       "  'subsample': 0.05})"
      ]
     },
     "execution_count": 34,
     "metadata": {},
     "output_type": "execute_result"
    }
   ],
   "source": [
    "Testing_grid_xgb(tmp[0], tmp[1])"
   ]
  },
  {
   "cell_type": "code",
   "execution_count": 35,
   "metadata": {},
   "outputs": [],
   "source": [
    "model = XGBRegressor(max_depth=6, learning_rate=0.3, n_estimators=450, \n",
    "                     silent=True, objective='reg:linear', booster='gbtree', \n",
    "                     nthread=None, gamma=0, min_child_weight=4,\n",
    "                     max_delta_step=0, subsample=0.05, colsample_bytree=1, \n",
    "                     colsample_bylevel=1, reg_alpha=0.8, reg_lambda=1, \n",
    "                     scale_pos_weight=1.5, base_score=0.5, random_state=41).fit(tmp[0], tmp[1])"
   ]
  },
  {
   "cell_type": "code",
   "execution_count": 48,
   "metadata": {},
   "outputs": [
    {
     "data": {
      "text/html": [
       "<div>\n",
       "<style scoped>\n",
       "    .dataframe tbody tr th:only-of-type {\n",
       "        vertical-align: middle;\n",
       "    }\n",
       "\n",
       "    .dataframe tbody tr th {\n",
       "        vertical-align: top;\n",
       "    }\n",
       "\n",
       "    .dataframe thead th {\n",
       "        text-align: right;\n",
       "    }\n",
       "</style>\n",
       "<table border=\"1\" class=\"dataframe\">\n",
       "  <thead>\n",
       "    <tr style=\"text-align: right;\">\n",
       "      <th></th>\n",
       "      <th>0</th>\n",
       "    </tr>\n",
       "  </thead>\n",
       "  <tbody>\n",
       "    <tr>\n",
       "      <th>Adjusted net enrollment rate, primary, female (% of primary school age children)</th>\n",
       "      <td>0.923077</td>\n",
       "    </tr>\n",
       "    <tr>\n",
       "      <th>Adolescent fertility rate (births per 1,000 women ages 15-19)</th>\n",
       "      <td>0.076923</td>\n",
       "    </tr>\n",
       "    <tr>\n",
       "      <th>Mortality rate, adult, male (per 1,000 male adults)</th>\n",
       "      <td>0.000000</td>\n",
       "    </tr>\n",
       "    <tr>\n",
       "      <th>People using basic drinking water services (% of population)</th>\n",
       "      <td>0.000000</td>\n",
       "    </tr>\n",
       "    <tr>\n",
       "      <th>Out-of-pocket health expenditure (% of total expenditure on health)</th>\n",
       "      <td>0.000000</td>\n",
       "    </tr>\n",
       "  </tbody>\n",
       "</table>\n",
       "</div>"
      ],
      "text/plain": [
       "                                                           0\n",
       "Adjusted net enrollment rate, primary, female (...  0.923077\n",
       "Adolescent fertility rate (births per 1,000 wom...  0.076923\n",
       "Mortality rate, adult, male (per 1,000 male adu...  0.000000\n",
       "People using basic drinking water services (% o...  0.000000\n",
       "Out-of-pocket health expenditure (% of total ex...  0.000000"
      ]
     },
     "execution_count": 48,
     "metadata": {},
     "output_type": "execute_result"
    }
   ],
   "source": [
    "pd.DataFrame(model.feature_importances_, index = tmp[2]).sort_values(by = [0], ascending=False).head()"
   ]
  },
  {
   "cell_type": "code",
   "execution_count": null,
   "metadata": {},
   "outputs": [],
   "source": []
  }
 ],
 "metadata": {
  "gist": {
   "data": {
    "description": "GitHub/python/RUDN/Treebased.ipynb",
    "public": false
   },
   "id": ""
  },
  "kernelspec": {
   "display_name": "Python 3",
   "language": "python",
   "name": "python3"
  },
  "language_info": {
   "codemirror_mode": {
    "name": "ipython",
    "version": 3
   },
   "file_extension": ".py",
   "mimetype": "text/x-python",
   "name": "python",
   "nbconvert_exporter": "python",
   "pygments_lexer": "ipython3",
   "version": "3.6.4"
  },
  "toc": {
   "nav_menu": {},
   "number_sections": true,
   "sideBar": true,
   "skip_h1_title": false,
   "title_cell": "Table of Contents",
   "title_sidebar": "Contents",
   "toc_cell": false,
   "toc_position": {},
   "toc_section_display": true,
   "toc_window_display": false
  }
 },
 "nbformat": 4,
 "nbformat_minor": 2
}
