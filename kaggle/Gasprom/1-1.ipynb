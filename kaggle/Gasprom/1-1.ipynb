{
 "cells": [
  {
   "cell_type": "markdown",
   "metadata": {},
   "source": [
    "#### Постановка задачи\n",
    "Проблема прогнозирования спроса клиентов является одной из ключевых во всех сегментах рынка. Любая компания заинтересована в увеличении реализации, привлечения и удержания своих клиентов. Один из ключевых факторов является конечная цена клиента. Постановка задачи: определить влияние изменения цены для корпоративного клиента на его потребление (НП).\n",
    "\n",
    "#### Цель\n",
    "Разработать алгоритм, определяющий количество приобретенного клиентом нефтепродукта за период (январь 2018- 15 марта 2018) для конкретного клиента (CLIENT), в разрезе транзакции в зависимости от его конечной цены и его сегмента.\n",
    "\n",
    "#### Данные для разработки модели\n",
    "Участникам предоставляется обезличенная выгрузка транзакционных данных клиентов «Газпромнефть» по региону, и нефтепродукту. Выгрузка содержит данные о покупках клиентов за период ноябрь 2016 по 15 марта 2018 года (причем за период с 1 января 2018 по 15 марта 2018 данные НЕ включают объемы).\n",
    "\n",
    "#### Общее описание подхода\n",
    "В файлах необходимо заполнить колонки «COL_LITR» напротив каждого клиента (CLIENT) для транзакций с 1 января по 15 марта 2018г, а также сегментировать клиентов по выборке (см. внизу разбивку), то есть добавить дополнительный столбец. Преимущество будет отдано той команде, которая кроме выполнения основного задания сможет дать динамику коммерческого оттока и коэффициент удержания клиентов, а также дополнительно дать информацию по поведению клиентов в зависимости от сегмента.\n",
    "\n",
    "#### Формат предоставления результатов\n",
    "Результаты необходимо предоставить в файлах: * Табличный (обязательно!) * Графический * другой\n",
    "\n",
    "#### Оценка результатов моделирования\n",
    "Результаты оцениваются путем сравнения предсказанных значений с фактическим поведением клиента (оценивает Заказчик)."
   ]
  },
  {
   "cell_type": "code",
   "execution_count": 3,
   "metadata": {},
   "outputs": [],
   "source": [
    "import pandas as pd\n",
    "import numpy as np\n",
    "\n",
    "import time, json, datetime\n",
    "import urllib.request as ur \n",
    "\n",
    "from tqdm._tqdm_notebook import tqdm_notebook\n",
    "tqdm_notebook.pandas()\n",
    "\n",
    "from scipy import sparse\n",
    "\n",
    "from sklearn.model_selection import train_test_split\n",
    "from sklearn.model_selection import GridSearchCV\n",
    "\n",
    "import lightgbm as lgb\n",
    "\n",
    "import matplotlib.pyplot as plt\n",
    "%matplotlib inline  "
   ]
  },
  {
   "cell_type": "code",
   "execution_count": 4,
   "metadata": {},
   "outputs": [
    {
     "name": "stdout",
     "output_type": "stream",
     "text": [
      "sample_submission.csv  test_extended.csv  train_extended.csv\r\n",
      "test_data.csv\t       train_data.csv\r\n"
     ]
    }
   ],
   "source": [
    "!ls data"
   ]
  },
  {
   "cell_type": "markdown",
   "metadata": {},
   "source": [
    "### Load data"
   ]
  },
  {
   "cell_type": "code",
   "execution_count": 5,
   "metadata": {},
   "outputs": [],
   "source": [
    "dtype = {'tm_wday' :np.int8, 'COL_LITR': np.float32, 'CENA_CLIENT': np.float32,\n",
    "         'tm_mon': np.int8, 'tm_mday': np.int8, 'tm_hour': np.int8, 'tm_dist': np.int8,\n",
    "         'REGION_AZS': np.int8, 'VID_NP': np.int8, 'holiday': np.int8}\n",
    "\n",
    "train = pd.read_csv('data/train_extended.csv', dtype = dtype)\n",
    "test = pd.read_csv('data/test_extended.csv', dtype = dtype)\n",
    "sample = pd.read_csv('data/sample_submission.csv', index_col = 'ID')"
   ]
  },
  {
   "cell_type": "code",
   "execution_count": 6,
   "metadata": {},
   "outputs": [
    {
     "data": {
      "text/html": [
       "<div>\n",
       "<style scoped>\n",
       "    .dataframe tbody tr th:only-of-type {\n",
       "        vertical-align: middle;\n",
       "    }\n",
       "\n",
       "    .dataframe tbody tr th {\n",
       "        vertical-align: top;\n",
       "    }\n",
       "\n",
       "    .dataframe thead th {\n",
       "        text-align: right;\n",
       "    }\n",
       "</style>\n",
       "<table border=\"1\" class=\"dataframe\">\n",
       "  <thead>\n",
       "    <tr style=\"text-align: right;\">\n",
       "      <th></th>\n",
       "      <th>CLIENT</th>\n",
       "      <th>AZS_NUMBER</th>\n",
       "      <th>REGION_AZS</th>\n",
       "      <th>VID_NP</th>\n",
       "      <th>COL_LITR</th>\n",
       "      <th>CENA_CLIENT</th>\n",
       "      <th>holiday</th>\n",
       "      <th>tm_year</th>\n",
       "      <th>tm_mon</th>\n",
       "      <th>tm_mday</th>\n",
       "      <th>tm_wday</th>\n",
       "      <th>tm_hour</th>\n",
       "      <th>tm_dist</th>\n",
       "    </tr>\n",
       "  </thead>\n",
       "  <tbody>\n",
       "    <tr>\n",
       "      <th>0</th>\n",
       "      <td>46219</td>\n",
       "      <td>2335</td>\n",
       "      <td>3</td>\n",
       "      <td>1</td>\n",
       "      <td>15.000000</td>\n",
       "      <td>35.700001</td>\n",
       "      <td>0</td>\n",
       "      <td>2016</td>\n",
       "      <td>11</td>\n",
       "      <td>1</td>\n",
       "      <td>1</td>\n",
       "      <td>0</td>\n",
       "      <td>0</td>\n",
       "    </tr>\n",
       "    <tr>\n",
       "      <th>1</th>\n",
       "      <td>33792</td>\n",
       "      <td>3356</td>\n",
       "      <td>18</td>\n",
       "      <td>2</td>\n",
       "      <td>30.000000</td>\n",
       "      <td>31.440001</td>\n",
       "      <td>0</td>\n",
       "      <td>2016</td>\n",
       "      <td>11</td>\n",
       "      <td>1</td>\n",
       "      <td>1</td>\n",
       "      <td>1</td>\n",
       "      <td>0</td>\n",
       "    </tr>\n",
       "    <tr>\n",
       "      <th>2</th>\n",
       "      <td>16215</td>\n",
       "      <td>3381</td>\n",
       "      <td>18</td>\n",
       "      <td>1</td>\n",
       "      <td>220.000000</td>\n",
       "      <td>32.939999</td>\n",
       "      <td>0</td>\n",
       "      <td>2016</td>\n",
       "      <td>11</td>\n",
       "      <td>1</td>\n",
       "      <td>1</td>\n",
       "      <td>3</td>\n",
       "      <td>0</td>\n",
       "    </tr>\n",
       "    <tr>\n",
       "      <th>3</th>\n",
       "      <td>33792</td>\n",
       "      <td>3303</td>\n",
       "      <td>18</td>\n",
       "      <td>2</td>\n",
       "      <td>15.000000</td>\n",
       "      <td>31.160000</td>\n",
       "      <td>0</td>\n",
       "      <td>2016</td>\n",
       "      <td>11</td>\n",
       "      <td>1</td>\n",
       "      <td>1</td>\n",
       "      <td>1</td>\n",
       "      <td>0</td>\n",
       "    </tr>\n",
       "    <tr>\n",
       "      <th>4</th>\n",
       "      <td>17075</td>\n",
       "      <td>3276</td>\n",
       "      <td>18</td>\n",
       "      <td>1</td>\n",
       "      <td>133.600006</td>\n",
       "      <td>34.720001</td>\n",
       "      <td>0</td>\n",
       "      <td>2016</td>\n",
       "      <td>11</td>\n",
       "      <td>1</td>\n",
       "      <td>1</td>\n",
       "      <td>2</td>\n",
       "      <td>0</td>\n",
       "    </tr>\n",
       "  </tbody>\n",
       "</table>\n",
       "</div>"
      ],
      "text/plain": [
       "   CLIENT  AZS_NUMBER  REGION_AZS  VID_NP    COL_LITR  CENA_CLIENT  holiday  \\\n",
       "0   46219        2335           3       1   15.000000    35.700001        0   \n",
       "1   33792        3356          18       2   30.000000    31.440001        0   \n",
       "2   16215        3381          18       1  220.000000    32.939999        0   \n",
       "3   33792        3303          18       2   15.000000    31.160000        0   \n",
       "4   17075        3276          18       1  133.600006    34.720001        0   \n",
       "\n",
       "   tm_year  tm_mon  tm_mday  tm_wday  tm_hour  tm_dist  \n",
       "0     2016      11        1        1        0        0  \n",
       "1     2016      11        1        1        1        0  \n",
       "2     2016      11        1        1        3        0  \n",
       "3     2016      11        1        1        1        0  \n",
       "4     2016      11        1        1        2        0  "
      ]
     },
     "execution_count": 6,
     "metadata": {},
     "output_type": "execute_result"
    }
   ],
   "source": [
    "train.head()"
   ]
  },
  {
   "cell_type": "markdown",
   "metadata": {},
   "source": [
    "### Feature extraction"
   ]
  },
  {
   "cell_type": "code",
   "execution_count": 7,
   "metadata": {},
   "outputs": [],
   "source": [
    "def holidays(d, m, year):\n",
    "    time.sleep(0.2)\n",
    "    elevations = ur.urlopen(\"https://kayaposoft.com/enrico/json/v2.0/?action=isPublicHoliday&date=\"+str(d)+'-'+str(m)+'-'+str(year)+\"&country=ru\").read()\n",
    "    data = json.loads(elevations)\n",
    "    if data['isPublicHoliday'] == True:\n",
    "        return 1\n",
    "    else:\n",
    "        return 0\n",
    "\n",
    "def extr(df):\n",
    "    df = df.set_value(df[pd.isnull(df['DATA_TRANS'])].index, 'DATA_TRANS', '11.11.2011 1:1:1')\n",
    "    \n",
    "    df['d_m_year'] = df['DATA_TRANS'].progress_apply(lambda x: x.split()[0])\n",
    "    tmp = pd.DataFrame([[holidays(d.split('.')[0], d.split('.')[1], d.split('.')[2]), d] for d in tqdm_notebook(df['d_m_year'].unique())], columns=['holiday', 'd_m_year'])\n",
    "    df = df.merge(tmp, on='d_m_year')\n",
    "    \n",
    "    df['holiday'].to_csv('holiday.csv')\n",
    "    return 0\n",
    "    \n",
    "    del df['d_m_year']\n",
    "    del tmp \n",
    "    \n",
    "    \n",
    "    df['check'] = df['DATA_TRANS'].progress_apply(lambda x: 1 if len(x.split()) != 1 else 0)\n",
    "        \n",
    "    df[df['check'] == 1]['tm_year'] = df[df['check'] == 1]['DATA_TRANS'].progress_apply(lambda x: time.strptime(str(x), '%d.%m.%Y %H:%M:%S')[0])\n",
    "    df[df['check'] == 1]['tm_mon'] = df[df['check'] == 1]['DATA_TRANS'].progress_apply(lambda x:  time.strptime(str(x), '%d.%m.%Y %H:%M:%S')[1])\n",
    "    df[df['check'] == 1]['tm_mday'] = df[df['check'] == 1]['DATA_TRANS'].progress_apply(lambda x: time.strptime(str(x), '%d.%m.%Y %H:%M:%S')[2])\n",
    "    df[df['check'] == 1]['tm_wday'] = df[df['check'] == 1]['DATA_TRANS'].progress_apply(lambda x: time.strptime(str(x), '%d.%m.%Y %H:%M:%S')[6])\n",
    "    \n",
    "    df[df['check'] == 1]['tm_hour'] = df[df['check'] == 1]['DATA_TRANS'].progress_apply(lambda x: time.strptime(str(x), '%d.%m.%Y %H:%M:%S')[3])\n",
    "    df[df['check'] == 1]['tm_dist'] = df[df['check'] == 1].progress_apply(lambda row: 0 if row['tm_hour'] <= 6 or row['tm_hour'] == 23 else 1, axis = 1)\n",
    "    df[df['check'] == 1]['tm_dist'] = df[df['check'] == 1]['DATA_TRANS'].progress_apply(lambda x: time.strptime(str(x), '%d.%m.%Y %H:%M:%S')[8])\n",
    "    \n",
    "    \n",
    "    del df['check']\n",
    "    del df['DATA_TRANS']\n",
    "    return df\n"
   ]
  },
  {
   "cell_type": "code",
   "execution_count": 8,
   "metadata": {},
   "outputs": [],
   "source": [
    "def clean_dataset(df):\n",
    "    assert isinstance(df, pd.DataFrame), \"df needs to be a pd.DataFrame\"\n",
    "    df.dropna(inplace=True)\n",
    "    indices_to_keep = ~df.isin([np.nan, np.inf, -np.inf]).any(1)\n",
    "    return df[indices_to_keep].astype(np.float64)\n",
    "train = clean_dataset(train)\n",
    "test = clean_dataset(test)"
   ]
  },
  {
   "cell_type": "markdown",
   "metadata": {
    "scrolled": false
   },
   "source": [
    "train = extr(train)\n",
    "\n",
    "test = extr(test)"
   ]
  },
  {
   "cell_type": "code",
   "execution_count": 10,
   "metadata": {},
   "outputs": [],
   "source": [
    "X_train, X_test, y_train, y_test = train_test_split(train[[c for c in train.columns if c != 'COL_LITR']].astype(np.float64).values, \n",
    "                                                    train['COL_LITR'].astype(np.float64).values,\n",
    "                                                    test_size=0.35, random_state=42)"
   ]
  },
  {
   "cell_type": "markdown",
   "metadata": {},
   "source": [
    "### Predict"
   ]
  },
  {
   "cell_type": "code",
   "execution_count": null,
   "metadata": {},
   "outputs": [],
   "source": [
    "def Test_lgb(X_train, y_train):\n",
    "    clf = lgb.LGBMRegressor(n_jobs=1)\n",
    "    \n",
    "    param = {\n",
    "    'learning_reate': [0.1,0.2, 0.001, 0.02],\n",
    "    'num_leaves': [31, 127],\n",
    "    'feature_fraction': [0.5, 1.0],\n",
    "    'bagging_fraction': [0.75, 0.95], \n",
    "    'reg_alpha': [0.1, 0.5],\n",
    "    'n_estimators': [20, 50]\n",
    "    }\n",
    "    \n",
    "    start_time = datetime.datetime.now()\n",
    "    gs = GridSearchCV(clf, scoring='neg_mean_squared_error', param_grid=param, cv=4, \n",
    "                      return_train_score=True, n_jobs=-1, verbose = True)\n",
    "    \n",
    "    gs.fit(X_train,y_train)\n",
    "    \n",
    "    print ('Time elapsed:', datetime.datetime.now() - start_time)\n",
    "    print (max(gs.cv_results_['mean_test_score']))\n",
    "    \n",
    "    return gs.best_params_"
   ]
  },
  {
   "cell_type": "code",
   "execution_count": 1,
   "metadata": {},
   "outputs": [],
   "source": [
    "#Test_lgb(train[[c for c in train.columns if c != 'COL_LITR']].astype(np.float64).values, train['COL_LITR'].astype(np.float64).values)"
   ]
  },
  {
   "cell_type": "code",
   "execution_count": 11,
   "metadata": {},
   "outputs": [
    {
     "name": "stdout",
     "output_type": "stream",
     "text": [
      "[1]\tvalid_0's l1: 70.4653\n",
      "Training until validation scores don't improve for 5 rounds.\n",
      "[2]\tvalid_0's l1: 68.9862\n",
      "[3]\tvalid_0's l1: 67.6094\n",
      "[4]\tvalid_0's l1: 66.3453\n",
      "[5]\tvalid_0's l1: 65.1358\n",
      "[6]\tvalid_0's l1: 64.045\n",
      "[7]\tvalid_0's l1: 63.0392\n",
      "[8]\tvalid_0's l1: 62.091\n",
      "[9]\tvalid_0's l1: 61.1852\n",
      "[10]\tvalid_0's l1: 60.3375\n",
      "[11]\tvalid_0's l1: 59.5585\n",
      "[12]\tvalid_0's l1: 58.8415\n",
      "[13]\tvalid_0's l1: 58.1666\n",
      "[14]\tvalid_0's l1: 57.5587\n",
      "[15]\tvalid_0's l1: 56.9666\n",
      "[16]\tvalid_0's l1: 56.4249\n",
      "[17]\tvalid_0's l1: 55.9193\n",
      "[18]\tvalid_0's l1: 55.4381\n",
      "[19]\tvalid_0's l1: 54.9839\n",
      "[20]\tvalid_0's l1: 54.5723\n",
      "Did not meet early stopping. Best iteration is:\n",
      "[20]\tvalid_0's l1: 54.5723\n"
     ]
    },
    {
     "data": {
      "text/plain": [
       "LGBMRegressor(boosting_type='gbdt', class_weight=None, colsample_bytree=1.0,\n",
       "       learning_rate=0.05, max_depth=-1, min_child_samples=20,\n",
       "       min_child_weight=0.001, min_split_gain=0.0, n_estimators=20,\n",
       "       n_jobs=-1, num_leaves=31, objective='regression', random_state=None,\n",
       "       reg_alpha=0.0, reg_lambda=0.0, silent=True, subsample=1.0,\n",
       "       subsample_for_bin=200000, subsample_freq=1)"
      ]
     },
     "execution_count": 11,
     "metadata": {},
     "output_type": "execute_result"
    }
   ],
   "source": [
    "gbm = lgb.LGBMRegressor(objective='regression',\n",
    "                        num_leaves=31,\n",
    "                        learning_rate=0.05,\n",
    "                        n_estimators=20)\n",
    "gbm.fit(X_train, y_train,\n",
    "        eval_set=[(X_test, y_test)],\n",
    "        eval_metric='l1',\n",
    "        early_stopping_rounds=5)\n"
   ]
  },
  {
   "cell_type": "code",
   "execution_count": null,
   "metadata": {},
   "outputs": [],
   "source": [
    "sample['COL_LITR'] = gbm.predict(test.values)"
   ]
  },
  {
   "cell_type": "code",
   "execution_count": null,
   "metadata": {},
   "outputs": [],
   "source": [
    "sample.to_csv('lgb_result.csv')"
   ]
  },
  {
   "cell_type": "code",
   "execution_count": null,
   "metadata": {},
   "outputs": [],
   "source": []
  }
 ],
 "metadata": {
  "kernelspec": {
   "display_name": "Python 3",
   "language": "python",
   "name": "python3"
  },
  "language_info": {
   "codemirror_mode": {
    "name": "ipython",
    "version": 3
   },
   "file_extension": ".py",
   "mimetype": "text/x-python",
   "name": "python",
   "nbconvert_exporter": "python",
   "pygments_lexer": "ipython3",
   "version": "3.6.4"
  },
  "toc": {
   "nav_menu": {},
   "number_sections": true,
   "sideBar": true,
   "skip_h1_title": false,
   "title_cell": "Table of Contents",
   "title_sidebar": "Contents",
   "toc_cell": false,
   "toc_position": {},
   "toc_section_display": true,
   "toc_window_display": false
  }
 },
 "nbformat": 4,
 "nbformat_minor": 2
}
