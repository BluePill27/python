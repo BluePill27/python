{
 "cells": [
  {
   "cell_type": "markdown",
   "metadata": {},
   "source": [
    "### Description\n",
    "\n",
    "Data set\n",
    "- terminal_id идентификационный номер терминала\n",
    "- customer_id идентификационный номер клиента\n",
    "- amount количество потраченных средств за транзакцию\n",
    "- country страна\n",
    "- currency валюта\n",
    "- mcc код категории продавца\n",
    "- transaction_date дата транзакции\n",
    "- atm_address адрес банкомата\n",
    "- pos_address адрес установки pos-терминала\n",
    "- pos_address_lat адрес установки pos-терминала широта\n",
    "- pos_address_lon адрес установки pos-терминала долгота\n",
    "- work_add_lat широта работы клиента\n",
    "- work_add_lon долгота работы клиента\n",
    "- home_add_lat широта дома клиента\n",
    "- home_add_lon долгота дома клиента\n",
    "\n",
    "Вам предстоит предсказать две пары координат `(_HOME_LAT_,_HOME_LON_,_WORK_LAT_,_WORK_LON_)`: работы и дома. В качестве датасета участникам предоставлены истории транзакций клиентов «Райффайзенбанк»."
   ]
  },
  {
   "cell_type": "code",
   "execution_count": 1,
   "metadata": {},
   "outputs": [],
   "source": [
    "import pandas as pd\n",
    "import numpy as np\n",
    "\n",
    "import holidayapi\n",
    "\n",
    "import urllib.request as ur\n",
    "import time\n",
    "\n",
    "from tqdm import tqdm_notebook\n",
    "from multiprocessing import Pool\n",
    "\n",
    "import json\n",
    "from pandas.io.json import json_normalize"
   ]
  },
  {
   "cell_type": "markdown",
   "metadata": {},
   "source": [
    "### Load part"
   ]
  },
  {
   "cell_type": "code",
   "execution_count": 2,
   "metadata": {},
   "outputs": [
    {
     "name": "stderr",
     "output_type": "stream",
     "text": [
      "/home/denis/anaconda3/lib/python3.6/site-packages/IPython/core/interactiveshell.py:2728: DtypeWarning: Columns (1,11) have mixed types. Specify dtype option on import or set low_memory=False.\n",
      "  interactivity=interactivity, compiler=compiler, result=result)\n",
      "/home/denis/anaconda3/lib/python3.6/site-packages/IPython/core/interactiveshell.py:2728: DtypeWarning: Columns (1,8,9) have mixed types. Specify dtype option on import or set low_memory=False.\n",
      "  interactivity=interactivity, compiler=compiler, result=result)\n"
     ]
    }
   ],
   "source": [
    "train = pd.read_csv('data/train_set.csv', encoding = 'utf-8')\n",
    "test = pd.read_csv('data/test_set.csv', encoding = 'utf-8')\n",
    "cnt = pd.read_csv('data/all.csv', encoding = 'utf-8')"
   ]
  },
  {
   "cell_type": "code",
   "execution_count": 3,
   "metadata": {},
   "outputs": [
    {
     "data": {
      "text/html": [
       "<div>\n",
       "<style scoped>\n",
       "    .dataframe tbody tr th:only-of-type {\n",
       "        vertical-align: middle;\n",
       "    }\n",
       "\n",
       "    .dataframe tbody tr th {\n",
       "        vertical-align: top;\n",
       "    }\n",
       "\n",
       "    .dataframe thead th {\n",
       "        text-align: right;\n",
       "    }\n",
       "</style>\n",
       "<table border=\"1\" class=\"dataframe\">\n",
       "  <thead>\n",
       "    <tr style=\"text-align: right;\">\n",
       "      <th></th>\n",
       "      <th>amount</th>\n",
       "      <th>atm_address</th>\n",
       "      <th>atm_address_lat</th>\n",
       "      <th>atm_address_lon</th>\n",
       "      <th>city</th>\n",
       "      <th>country</th>\n",
       "      <th>currency</th>\n",
       "      <th>customer_id</th>\n",
       "      <th>home_add_lat</th>\n",
       "      <th>home_add_lon</th>\n",
       "      <th>mcc</th>\n",
       "      <th>pos_address</th>\n",
       "      <th>pos_adress_lat</th>\n",
       "      <th>pos_adress_lon</th>\n",
       "      <th>terminal_id</th>\n",
       "      <th>transaction_date</th>\n",
       "      <th>work_add_lat</th>\n",
       "      <th>work_add_lon</th>\n",
       "    </tr>\n",
       "  </thead>\n",
       "  <tbody>\n",
       "    <tr>\n",
       "      <th>0</th>\n",
       "      <td>2.884034</td>\n",
       "      <td>NaN</td>\n",
       "      <td>NaN</td>\n",
       "      <td>NaN</td>\n",
       "      <td>ST PETERSBURG</td>\n",
       "      <td>RUS</td>\n",
       "      <td>643.0</td>\n",
       "      <td>0dc0137d280a2a82d2dc89282450ff1b</td>\n",
       "      <td>59.851</td>\n",
       "      <td>30.232</td>\n",
       "      <td>5261</td>\n",
       "      <td>NaN</td>\n",
       "      <td>59.844072</td>\n",
       "      <td>30.179153</td>\n",
       "      <td>11606fde0c814ce78e0d726e39a0a5ee</td>\n",
       "      <td>2017-07-15</td>\n",
       "      <td>59.847</td>\n",
       "      <td>30.177</td>\n",
       "    </tr>\n",
       "    <tr>\n",
       "      <th>1</th>\n",
       "      <td>2.775633</td>\n",
       "      <td>NaN</td>\n",
       "      <td>NaN</td>\n",
       "      <td>NaN</td>\n",
       "      <td>ST PETERSBURG</td>\n",
       "      <td>RUS</td>\n",
       "      <td>643.0</td>\n",
       "      <td>0dc0137d280a2a82d2dc89282450ff1b</td>\n",
       "      <td>59.851</td>\n",
       "      <td>30.232</td>\n",
       "      <td>5261</td>\n",
       "      <td>NaN</td>\n",
       "      <td>59.844072</td>\n",
       "      <td>30.179153</td>\n",
       "      <td>e9647a5e1eacfb06713b6af755ccc595</td>\n",
       "      <td>2017-10-27</td>\n",
       "      <td>59.847</td>\n",
       "      <td>30.177</td>\n",
       "    </tr>\n",
       "    <tr>\n",
       "      <th>2</th>\n",
       "      <td>3.708368</td>\n",
       "      <td>NaN</td>\n",
       "      <td>NaN</td>\n",
       "      <td>NaN</td>\n",
       "      <td>St Petersburg</td>\n",
       "      <td>RUS</td>\n",
       "      <td>643.0</td>\n",
       "      <td>0dc0137d280a2a82d2dc89282450ff1b</td>\n",
       "      <td>59.851</td>\n",
       "      <td>30.232</td>\n",
       "      <td>5992</td>\n",
       "      <td>PR.MARSHALA ZHUKOVA,31St Petersburg190000    7...</td>\n",
       "      <td>59.858198</td>\n",
       "      <td>30.229024</td>\n",
       "      <td>df06c1fcd3718a514535ae822785f716</td>\n",
       "      <td>2017-10-03</td>\n",
       "      <td>59.847</td>\n",
       "      <td>30.177</td>\n",
       "    </tr>\n",
       "    <tr>\n",
       "      <th>3</th>\n",
       "      <td>2.787498</td>\n",
       "      <td>NaN</td>\n",
       "      <td>NaN</td>\n",
       "      <td>NaN</td>\n",
       "      <td>ST PETERSBURG</td>\n",
       "      <td>RUS</td>\n",
       "      <td>643.0</td>\n",
       "      <td>0dc0137d280a2a82d2dc89282450ff1b</td>\n",
       "      <td>59.851</td>\n",
       "      <td>30.232</td>\n",
       "      <td>5261</td>\n",
       "      <td>NaN</td>\n",
       "      <td>59.844072</td>\n",
       "      <td>30.179153</td>\n",
       "      <td>6c5e5793ebc984fb72875feffff62854</td>\n",
       "      <td>2017-09-09</td>\n",
       "      <td>59.847</td>\n",
       "      <td>30.177</td>\n",
       "    </tr>\n",
       "    <tr>\n",
       "      <th>4</th>\n",
       "      <td>2.892510</td>\n",
       "      <td>NaN</td>\n",
       "      <td>NaN</td>\n",
       "      <td>NaN</td>\n",
       "      <td>ST PETERSBURG</td>\n",
       "      <td>RUS</td>\n",
       "      <td>643.0</td>\n",
       "      <td>0dc0137d280a2a82d2dc89282450ff1b</td>\n",
       "      <td>59.851</td>\n",
       "      <td>30.232</td>\n",
       "      <td>5261</td>\n",
       "      <td>NaN</td>\n",
       "      <td>59.844072</td>\n",
       "      <td>30.179153</td>\n",
       "      <td>0576445d74e374c92c0902e612fca356</td>\n",
       "      <td>2017-07-06</td>\n",
       "      <td>59.847</td>\n",
       "      <td>30.177</td>\n",
       "    </tr>\n",
       "  </tbody>\n",
       "</table>\n",
       "</div>"
      ],
      "text/plain": [
       "     amount atm_address  atm_address_lat  atm_address_lon           city  \\\n",
       "0  2.884034         NaN              NaN              NaN  ST PETERSBURG   \n",
       "1  2.775633         NaN              NaN              NaN  ST PETERSBURG   \n",
       "2  3.708368         NaN              NaN              NaN  St Petersburg   \n",
       "3  2.787498         NaN              NaN              NaN  ST PETERSBURG   \n",
       "4  2.892510         NaN              NaN              NaN  ST PETERSBURG   \n",
       "\n",
       "  country  currency                       customer_id  home_add_lat  \\\n",
       "0     RUS     643.0  0dc0137d280a2a82d2dc89282450ff1b        59.851   \n",
       "1     RUS     643.0  0dc0137d280a2a82d2dc89282450ff1b        59.851   \n",
       "2     RUS     643.0  0dc0137d280a2a82d2dc89282450ff1b        59.851   \n",
       "3     RUS     643.0  0dc0137d280a2a82d2dc89282450ff1b        59.851   \n",
       "4     RUS     643.0  0dc0137d280a2a82d2dc89282450ff1b        59.851   \n",
       "\n",
       "   home_add_lon   mcc                                        pos_address  \\\n",
       "0        30.232  5261                                                NaN   \n",
       "1        30.232  5261                                                NaN   \n",
       "2        30.232  5992  PR.MARSHALA ZHUKOVA,31St Petersburg190000    7...   \n",
       "3        30.232  5261                                                NaN   \n",
       "4        30.232  5261                                                NaN   \n",
       "\n",
       "   pos_adress_lat  pos_adress_lon                       terminal_id  \\\n",
       "0       59.844072       30.179153  11606fde0c814ce78e0d726e39a0a5ee   \n",
       "1       59.844072       30.179153  e9647a5e1eacfb06713b6af755ccc595   \n",
       "2       59.858198       30.229024  df06c1fcd3718a514535ae822785f716   \n",
       "3       59.844072       30.179153  6c5e5793ebc984fb72875feffff62854   \n",
       "4       59.844072       30.179153  0576445d74e374c92c0902e612fca356   \n",
       "\n",
       "  transaction_date  work_add_lat  work_add_lon  \n",
       "0       2017-07-15        59.847        30.177  \n",
       "1       2017-10-27        59.847        30.177  \n",
       "2       2017-10-03        59.847        30.177  \n",
       "3       2017-09-09        59.847        30.177  \n",
       "4       2017-07-06        59.847        30.177  "
      ]
     },
     "execution_count": 3,
     "metadata": {},
     "output_type": "execute_result"
    }
   ],
   "source": [
    "train.head()"
   ]
  },
  {
   "cell_type": "markdown",
   "metadata": {},
   "source": [
    "### Feature extracting part"
   ]
  },
  {
   "cell_type": "markdown",
   "metadata": {},
   "source": [
    "#### Date split"
   ]
  },
  {
   "cell_type": "code",
   "execution_count": 4,
   "metadata": {},
   "outputs": [],
   "source": [
    "def holidays(d, m, year):\n",
    "    time.sleep(0.2)\n",
    "    elevations = ur.urlopen(\"https://kayaposoft.com/enrico/json/v2.0/?action=isPublicHoliday&date=\"+str(d)+'-'+str(m)+'-'+str(year)+\"&country=ru\").read()\n",
    "    data = json.loads(elevations)\n",
    "    if data['isPublicHoliday'] == True:\n",
    "        return 1\n",
    "    else:\n",
    "        return 0\n",
    "\n",
    "def extr(df):\n",
    "    df = df.set_value(df[pd.isnull(df['transaction_date'])].index, 'transaction_date', '2017-02-01')\n",
    "    \n",
    "    tmp = pd.DataFrame(list(zip(df.transaction_date.unique(), [holidays(d.split('-')[2], d.split('-')[1], d.split('-')[0]) for d in tqdm_notebook(df.transaction_date.unique())])), \n",
    "                       columns=['date', 'value'])\n",
    "    \n",
    "    df['holiday'] = df['transaction_date'].apply(lambda x: tmp[tmp['date'] == x]['value'].as_matrix()[0])\n",
    "    df['tm_year'] = df['transaction_date'].apply(lambda x: time.strptime(str(x), '%Y-%m-%d')[0])\n",
    "    df['tm_mon'] = df['transaction_date'].apply(lambda x:  time.strptime(str(x), '%Y-%m-%d')[1])\n",
    "    df['tm_mday'] = df['transaction_date'].apply(lambda x: time.strptime(str(x), '%Y-%m-%d')[2])\n",
    "    df['tm_wday'] = df['transaction_date'].apply(lambda x: time.strptime(str(x), '%Y-%m-%d')[6])\n",
    "    df['tm_yday'] = df['transaction_date'].apply(lambda x: time.strptime(str(x), '%Y-%m-%d')[7])\n",
    "    del df['transaction_date']\n",
    "    return df"
   ]
  },
  {
   "cell_type": "markdown",
   "metadata": {},
   "source": [
    "train = extr(train)\n",
    "test = extr(test)"
   ]
  },
  {
   "cell_type": "code",
   "execution_count": 5,
   "metadata": {},
   "outputs": [
    {
     "name": "stderr",
     "output_type": "stream",
     "text": [
      "/home/denis/anaconda3/lib/python3.6/site-packages/IPython/core/interactiveshell.py:2728: DtypeWarning: Columns (2,12) have mixed types. Specify dtype option on import or set low_memory=False.\n",
      "  interactivity=interactivity, compiler=compiler, result=result)\n",
      "/home/denis/anaconda3/lib/python3.6/site-packages/numpy/lib/arraysetops.py:472: FutureWarning: elementwise comparison failed; returning scalar instead, but in the future will perform elementwise comparison\n",
      "  mask |= (ar1 == a)\n",
      "/home/denis/anaconda3/lib/python3.6/site-packages/IPython/core/interactiveshell.py:2728: DtypeWarning: Columns (2,9,10) have mixed types. Specify dtype option on import or set low_memory=False.\n",
      "  interactivity=interactivity, compiler=compiler, result=result)\n"
     ]
    }
   ],
   "source": [
    "train = pd.read_csv('data/train_date.csv', encoding = 'utf-8', index_col=0)\n",
    "test = pd.read_csv('data/test_date.csv', encoding = 'utf-8', index_col=0)"
   ]
  },
  {
   "cell_type": "markdown",
   "metadata": {},
   "source": [
    "#### Country fix"
   ]
  },
  {
   "cell_type": "code",
   "execution_count": 6,
   "metadata": {},
   "outputs": [],
   "source": [
    "def cnt_chng(x):\n",
    "    if x in cnt['alpha-2'].as_matrix():\n",
    "        return x\n",
    "    elif x in cnt['alpha-3'].as_matrix():\n",
    "        return cnt[cnt['alpha-3'] == x]['alpha-2'].as_matrix()[0]\n",
    "    else:\n",
    "        return np.nan"
   ]
  },
  {
   "cell_type": "markdown",
   "metadata": {},
   "source": [
    "train['country'] = train['country'].apply(func = (lambda x: cnt_chng(x.split()[0])))\n",
    "test['country'] = test['country'].apply(func = (lambda x: cnt_chng(x.split()[0])))"
   ]
  },
  {
   "cell_type": "markdown",
   "metadata": {},
   "source": [
    "#### Geo fix"
   ]
  },
  {
   "cell_type": "code",
   "execution_count": 17,
   "metadata": {},
   "outputs": [],
   "source": [
    "def adr(adr):\n",
    "    return 0\n",
    "    \n",
    "def pos(cordinates):\n",
    "    lat, lon = cordinates[0], cordinates[1]\n",
    "    elevations = ur.urlopen(\"https://geocode-maps.yandex.ru/1.x/?format=json&geocode=\" +str(lon)+\",\"+str(lat)+\"&lang=en_US&kind=house&kind=locality\").read()\n",
    "    data = json.loads(elevations)\n",
    "    df = json_normalize(data['response']['GeoObjectCollection']['featureMember'], errors= 'ignore')\n",
    "    df.columns = [c.split('.')[len(c.split('.'))-1] for c in df.columns]\n",
    "    #print (df)\n",
    "    if len(df)!=0:\n",
    "        return df.head(1)\n",
    "    else:\n",
    "        return pd.DataFrame([np.nan, np.nan, np.nan, np.nan], columns=['name', 'country_code', 'postal_code', 'LocalityName'])\n",
    "\n",
    "def res(result, df):\n",
    "    result =  pd.concat(result).reset_index(drop=True)\n",
    "    df = pd.concat([train, result], axis=1)\n",
    "    return df\n",
    "\n",
    "def geo_fix(df):\n",
    "    pool = Pool(processes=4)\n",
    "    df = res(pool.map(pos, df[~pd.isnull(train['atm_address_lat'])][['atm_address_lat','atm_address_lon']].as_matrix()), df)\n",
    "    df = res(pool.map(pos, df[~pd.isnull(train['pos_adress_lon'])][['pos_adress_lat','pos_adress_lon']].as_matrix()), df)\n",
    "    pool.close()\n",
    "    pool.join()\n",
    "    return df"
   ]
  },
  {
   "cell_type": "code",
   "execution_count": null,
   "metadata": {},
   "outputs": [],
   "source": [
    "train = geo_fix(train)"
   ]
  },
  {
   "cell_type": "code",
   "execution_count": 8,
   "metadata": {},
   "outputs": [
    {
     "data": {
      "text/plain": [
       "(10, 2)"
      ]
     },
     "execution_count": 8,
     "metadata": {},
     "output_type": "execute_result"
    }
   ],
   "source": [
    "train[~pd.isnull(train['atm_address_lat'])][['atm_address_lat','atm_address_lon']].as_matrix()[:10].shape"
   ]
  },
  {
   "cell_type": "code",
   "execution_count": null,
   "metadata": {},
   "outputs": [],
   "source": [
    "train.head()"
   ]
  },
  {
   "cell_type": "code",
   "execution_count": 10,
   "metadata": {},
   "outputs": [
    {
     "data": {
      "text/html": [
       "<div>\n",
       "<style scoped>\n",
       "    .dataframe tbody tr th:only-of-type {\n",
       "        vertical-align: middle;\n",
       "    }\n",
       "\n",
       "    .dataframe tbody tr th {\n",
       "        vertical-align: top;\n",
       "    }\n",
       "\n",
       "    .dataframe thead th {\n",
       "        text-align: right;\n",
       "    }\n",
       "</style>\n",
       "<table border=\"1\" class=\"dataframe\">\n",
       "  <thead>\n",
       "    <tr style=\"text-align: right;\">\n",
       "      <th></th>\n",
       "      <th>amount</th>\n",
       "      <th>atm_address</th>\n",
       "      <th>atm_address_lat</th>\n",
       "      <th>atm_address_lon</th>\n",
       "      <th>city</th>\n",
       "      <th>country</th>\n",
       "      <th>currency</th>\n",
       "      <th>customer_id</th>\n",
       "      <th>home_add_lat</th>\n",
       "      <th>home_add_lon</th>\n",
       "      <th>...</th>\n",
       "      <th>pos_adress_lon</th>\n",
       "      <th>terminal_id</th>\n",
       "      <th>work_add_lat</th>\n",
       "      <th>work_add_lon</th>\n",
       "      <th>holiday</th>\n",
       "      <th>tm_year</th>\n",
       "      <th>tm_mon</th>\n",
       "      <th>tm_mday</th>\n",
       "      <th>tm_wday</th>\n",
       "      <th>tm_yday</th>\n",
       "    </tr>\n",
       "  </thead>\n",
       "  <tbody>\n",
       "  </tbody>\n",
       "</table>\n",
       "<p>0 rows × 23 columns</p>\n",
       "</div>"
      ],
      "text/plain": [
       "Empty DataFrame\n",
       "Columns: [amount, atm_address, atm_address_lat, atm_address_lon, city, country, currency, customer_id, home_add_lat, home_add_lon, mcc, pos_address, pos_adress_lat, pos_adress_lon, terminal_id, work_add_lat, work_add_lon, holiday, tm_year, tm_mon, tm_mday, tm_wday, tm_yday]\n",
       "Index: []\n",
       "\n",
       "[0 rows x 23 columns]"
      ]
     },
     "execution_count": 10,
     "metadata": {},
     "output_type": "execute_result"
    }
   ],
   "source": [
    "train[(~np.isnan(train['atm_address_lat'])) & (~np.isnan(train['pos_adress_lat']))]"
   ]
  },
  {
   "cell_type": "code",
   "execution_count": 11,
   "metadata": {},
   "outputs": [],
   "source": [
    "elevations = ur.urlopen(\"https://geocode-maps.yandex.ru/1.x/?format=json&geocode=55.744, 37.663&lang=en_US\").read()"
   ]
  },
  {
   "cell_type": "code",
   "execution_count": 12,
   "metadata": {},
   "outputs": [],
   "source": [
    "data = json.loads(elevations)\n",
    "df = json_normalize(data['response']['GeoObjectCollection']['featureMember'], errors= 'ignore')"
   ]
  },
  {
   "cell_type": "code",
   "execution_count": 13,
   "metadata": {},
   "outputs": [
    {
     "data": {
      "text/plain": [
       "Index(['pos', 'lowerCorner', 'upperCorner', 'description', 'Components',\n",
       "       'country_code', 'formatted', 'AddressLine', 'AdministrativeAreaName',\n",
       "       'CountryName', 'CountryNameCode', 'kind', 'precision', 'text', 'name'],\n",
       "      dtype='object')"
      ]
     },
     "execution_count": 13,
     "metadata": {},
     "output_type": "execute_result"
    }
   ],
   "source": [
    "df.columns = [c.split('.')[len(c.split('.'))-1] for c in df.columns]\n",
    "df.columns"
   ]
  },
  {
   "cell_type": "code",
   "execution_count": 14,
   "metadata": {},
   "outputs": [
    {
     "data": {
      "text/html": [
       "<div>\n",
       "<style scoped>\n",
       "    .dataframe tbody tr th:only-of-type {\n",
       "        vertical-align: middle;\n",
       "    }\n",
       "\n",
       "    .dataframe tbody tr th {\n",
       "        vertical-align: top;\n",
       "    }\n",
       "\n",
       "    .dataframe thead th {\n",
       "        text-align: right;\n",
       "    }\n",
       "</style>\n",
       "<table border=\"1\" class=\"dataframe\">\n",
       "  <thead>\n",
       "    <tr style=\"text-align: right;\">\n",
       "      <th></th>\n",
       "      <th>pos</th>\n",
       "      <th>lowerCorner</th>\n",
       "      <th>upperCorner</th>\n",
       "      <th>description</th>\n",
       "      <th>Components</th>\n",
       "      <th>country_code</th>\n",
       "      <th>formatted</th>\n",
       "      <th>AddressLine</th>\n",
       "      <th>AdministrativeAreaName</th>\n",
       "      <th>CountryName</th>\n",
       "      <th>CountryNameCode</th>\n",
       "      <th>kind</th>\n",
       "      <th>precision</th>\n",
       "      <th>text</th>\n",
       "      <th>name</th>\n",
       "    </tr>\n",
       "  </thead>\n",
       "  <tbody>\n",
       "    <tr>\n",
       "      <th>0</th>\n",
       "      <td>55.308428 37.578935</td>\n",
       "      <td>53.723036 36.491486</td>\n",
       "      <td>56.314056 38.111537</td>\n",
       "      <td>Iran</td>\n",
       "      <td>[{'kind': 'country', 'name': 'Iran'}, {'kind':...</td>\n",
       "      <td>IR</td>\n",
       "      <td>Golestan</td>\n",
       "      <td>Golestan</td>\n",
       "      <td>Golestan</td>\n",
       "      <td>Iran</td>\n",
       "      <td>IR</td>\n",
       "      <td>province</td>\n",
       "      <td>other</td>\n",
       "      <td>Iran, Golestan</td>\n",
       "      <td>Golestan</td>\n",
       "    </tr>\n",
       "    <tr>\n",
       "      <th>1</th>\n",
       "      <td>54.154919 32.046882</td>\n",
       "      <td>44.032702 24.872455</td>\n",
       "      <td>63.317241 39.782107</td>\n",
       "      <td>NaN</td>\n",
       "      <td>[{'kind': 'country', 'name': 'Iran'}]</td>\n",
       "      <td>IR</td>\n",
       "      <td></td>\n",
       "      <td></td>\n",
       "      <td>NaN</td>\n",
       "      <td>Iran</td>\n",
       "      <td>IR</td>\n",
       "      <td>country</td>\n",
       "      <td>other</td>\n",
       "      <td>Iran</td>\n",
       "      <td>Iran</td>\n",
       "    </tr>\n",
       "  </tbody>\n",
       "</table>\n",
       "</div>"
      ],
      "text/plain": [
       "                   pos          lowerCorner          upperCorner description  \\\n",
       "0  55.308428 37.578935  53.723036 36.491486  56.314056 38.111537        Iran   \n",
       "1  54.154919 32.046882  44.032702 24.872455  63.317241 39.782107         NaN   \n",
       "\n",
       "                                          Components country_code formatted  \\\n",
       "0  [{'kind': 'country', 'name': 'Iran'}, {'kind':...           IR  Golestan   \n",
       "1              [{'kind': 'country', 'name': 'Iran'}]           IR             \n",
       "\n",
       "  AddressLine AdministrativeAreaName CountryName CountryNameCode      kind  \\\n",
       "0    Golestan               Golestan        Iran              IR  province   \n",
       "1                                NaN        Iran              IR   country   \n",
       "\n",
       "  precision            text      name  \n",
       "0     other  Iran, Golestan  Golestan  \n",
       "1     other            Iran      Iran  "
      ]
     },
     "execution_count": 14,
     "metadata": {},
     "output_type": "execute_result"
    }
   ],
   "source": [
    "df[for i in ]"
   ]
  },
  {
   "cell_type": "code",
   "execution_count": null,
   "metadata": {},
   "outputs": [],
   "source": [
    "df[['name', 'country_code', 'postal_code', 'ThoroughfareName', 'LocalityName']].as_matrix()[0]"
   ]
  },
  {
   "cell_type": "code",
   "execution_count": null,
   "metadata": {},
   "outputs": [],
   "source": [
    "df['AddressLine'].head()"
   ]
  },
  {
   "cell_type": "code",
   "execution_count": null,
   "metadata": {},
   "outputs": [],
   "source": [
    "np.dtype?"
   ]
  },
  {
   "cell_type": "code",
   "execution_count": null,
   "metadata": {},
   "outputs": [],
   "source": []
  }
 ],
 "metadata": {
  "kernelspec": {
   "display_name": "Python 3",
   "language": "python",
   "name": "python3"
  },
  "language_info": {
   "codemirror_mode": {
    "name": "ipython",
    "version": 3
   },
   "file_extension": ".py",
   "mimetype": "text/x-python",
   "name": "python",
   "nbconvert_exporter": "python",
   "pygments_lexer": "ipython3",
   "version": "3.6.4"
  },
  "toc": {
   "nav_menu": {},
   "number_sections": true,
   "sideBar": true,
   "skip_h1_title": false,
   "title_cell": "Table of Contents",
   "title_sidebar": "Contents",
   "toc_cell": false,
   "toc_position": {},
   "toc_section_display": true,
   "toc_window_display": false
  }
 },
 "nbformat": 4,
 "nbformat_minor": 2
}
