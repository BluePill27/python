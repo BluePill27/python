{
 "cells": [
  {
   "cell_type": "code",
   "execution_count": 1,
   "metadata": {},
   "outputs": [],
   "source": [
    "import numpy as np\n",
    "import pandas as pd\n",
    "\n",
    "from sklearn.model_selection import StratifiedKFold, GridSearchCV\n",
    "from sklearn.feature_extraction.text import CountVectorizer, TfidfTransformer\n",
    "from sklearn.pipeline import Pipeline\n",
    "\n",
    "from sklearn.svm import SVC\n",
    "\n",
    "import matplotlib.pyplot as plt\n",
    "%matplotlib inline\n",
    "\n",
    "import datetime"
   ]
  },
  {
   "cell_type": "code",
   "execution_count": 31,
   "metadata": {},
   "outputs": [],
   "source": [
    "train = pd.read_csv('train.csv')\n",
    "test = pd.read_csv('test.csv')"
   ]
  },
  {
   "cell_type": "code",
   "execution_count": 32,
   "metadata": {},
   "outputs": [],
   "source": [
    "train = train.drop(index = train[train.Word.duplicated()].index, axis=1)"
   ]
  },
  {
   "cell_type": "code",
   "execution_count": 33,
   "metadata": {},
   "outputs": [
    {
     "data": {
      "text/plain": [
       "array([[<matplotlib.axes._subplots.AxesSubplot object at 0x7fb1ca6deeb8>]],\n",
       "      dtype=object)"
      ]
     },
     "execution_count": 33,
     "metadata": {},
     "output_type": "execute_result"
    },
    {
     "data": {
      "image/png": "[encoded data removed]",
      "text/plain": [
       "<matplotlib.figure.Figure at 0x7fb2006876a0>"
      ]
     },
     "metadata": {},
     "output_type": "display_data"
    }
   ],
   "source": [
    "train.hist()"
   ]
  },
  {
   "cell_type": "code",
   "execution_count": 34,
   "metadata": {},
   "outputs": [],
   "source": [
    "def Testing_grid_reg(X_train, Y_train, c=[10.0 ** i for i in range(-2, 3)]):\n",
    "    cv = StratifiedKFold(n_splits=5, shuffle=True, random_state=42)\n",
    "    \n",
    "    pipe  = Pipeline([('cc', CountVectorizer(encoding = 'unicode')),\n",
    "                     ('clf', SVC(class_weight = 'balanced', probability=True))])\n",
    "    \n",
    "    grid = {'clf__C' : c,\n",
    "           'clf__kernel' : ['linear'],\n",
    "           'clf__degree' : [1, 2],\n",
    "           'clf__coef0' : [0.01, 0.4],\n",
    "           'clf__probability': [True, False],\n",
    "           'clf__shrinking' : [True, False],\n",
    "           'clf__gamma' : [0.001, 0.1, 1],\n",
    "           'cc__analyzer' : ['char'],\n",
    "           'cc__min_df' : [3],\n",
    "           'cc__max_df' : [14],\n",
    "           'cc__ngram_range' : [(3, 8)]\n",
    "           }\n",
    "    \n",
    "    start_time = datetime.datetime.now()\n",
    "    gs = GridSearchCV(pipe, scoring='roc_auc', param_grid=grid, cv=cv, \n",
    "                      return_train_score=True, n_jobs=-1, verbose = True)\n",
    "    \n",
    "    gs.fit(X_train,Y_train)\n",
    "    \n",
    "    print ('Time elapsed:', datetime.datetime.now() - start_time)\n",
    "    print (max(gs.cv_results_['mean_test_score']))\n",
    "    \n",
    "    return gs.best_params_"
   ]
  },
  {
   "cell_type": "code",
   "execution_count": null,
   "metadata": {
    "scrolled": false
   },
   "outputs": [
    {
     "name": "stdout",
     "output_type": "stream",
     "text": [
      "Fitting 5 folds for each of 240 candidates, totalling 1200 fits\n"
     ]
    }
   ],
   "source": [
    "p = Testing_grid_reg(train['Word'].as_matrix(), train['Label'].as_matrix())\n",
    "print (p)"
   ]
  },
  {
   "cell_type": "code",
   "execution_count": null,
   "metadata": {},
   "outputs": [],
   "source": [
    "def vec(p):\n",
    "    cc = CountVectorizer(encoding = 'unicode', \n",
    "                         analyzer = p['cc__analyzer'], \n",
    "                         ngram_range = p['cc__ngram_range'], \n",
    "                         min_df = p['cc__min_df'], \n",
    "                         max_df = p['cc__max_df'])\n",
    "    \n",
    "    X_train, y_train = cc.fit_transform(train['Word']), train['Label'].as_matrix()\n",
    "    X_test = cc.transform(test['Word'])\n",
    "    \n",
    "    return X_train, y_train, X_test\n",
    "\n",
    "def Predict(p):\n",
    "    X_train, y_train, X_test = vec(p)\n",
    "    \n",
    "    clf = SVC(class_weight = 'balanced', \n",
    "              max_iter = p['clf__max_iter'], \n",
    "              n_jobs=-1,\n",
    "              C = p['clf__C'],\n",
    "              penalty = p['clf__penalty'])\n",
    "    \n",
    "    clf.fit(X_train, y_train)\n",
    "    y_pred = clf.predict_proba(X_test)\n",
    "    \n",
    "    return y_pred"
   ]
  },
  {
   "cell_type": "code",
   "execution_count": null,
   "metadata": {},
   "outputs": [],
   "source": [
    "y_pred = Predict(p)\n",
    "sample = pd.read_csv('sample_submission.csv')\n",
    "sample['Prediction'] = y_pred\n",
    "sample.to_csv('res.csv',index=False)"
   ]
  },
  {
   "cell_type": "code",
   "execution_count": null,
   "metadata": {},
   "outputs": [],
   "source": []
  }
 ],
 "metadata": {
  "kernelspec": {
   "display_name": "Python 3",
   "language": "python",
   "name": "python3"
  },
  "language_info": {
   "codemirror_mode": {
    "name": "ipython",
    "version": 3
   },
   "file_extension": ".py",
   "mimetype": "text/x-python",
   "name": "python",
   "nbconvert_exporter": "python",
   "pygments_lexer": "ipython3",
   "version": "3.6.2"
  },
  "toc": {
   "nav_menu": {},
   "number_sections": true,
   "sideBar": true,
   "skip_h1_title": false,
   "title_cell": "Table of Contents",
   "title_sidebar": "Contents",
   "toc_cell": false,
   "toc_position": {},
   "toc_section_display": true,
   "toc_window_display": false
  }
 },
 "nbformat": 4,
 "nbformat_minor": 2
}
