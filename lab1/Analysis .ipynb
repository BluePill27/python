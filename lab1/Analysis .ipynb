{
 "cells": [
  {
   "cell_type": "markdown",
   "metadata": {},
   "source": [
    "## Задание 1"
   ]
  },
  {
   "cell_type": "markdown",
   "metadata": {},
   "source": [
    "### Критерий $\\chi^2 $"
   ]
  },
  {
   "cell_type": "code",
   "execution_count": 1,
   "metadata": {
    "collapsed": false
   },
   "outputs": [],
   "source": [
    "import pandas as pd\n",
    "import numpy as np\n",
    "from scipy import stats\n",
    "data1 = pd.read_excel('data.xlsx')\n",
    "Xy = [i.values for i in data1['Weight'],data1['Distanse']]\n",
    "def modchisq(Xy):\n",
    "    chi2, prob, df, expected = stats.chi2_contingency(Xy)\n",
    "    output = \"test Statistics: {}\\ndegrees of freedom: {}\\np-value: {}\\n\"\n",
    "    print (output.format(chi2, df, prob))\n",
    "    print (expected)"
   ]
  },
  {
   "cell_type": "code",
   "execution_count": 2,
   "metadata": {
    "collapsed": false
   },
   "outputs": [
    {
     "data": {
      "text/html": [
       "<div>\n",
       "<table border=\"1\" class=\"dataframe\">\n",
       "  <thead>\n",
       "    <tr style=\"text-align: right;\">\n",
       "      <th></th>\n",
       "      <th>Weight</th>\n",
       "      <th>Distanse</th>\n",
       "    </tr>\n",
       "  </thead>\n",
       "  <tbody>\n",
       "    <tr>\n",
       "      <th>0</th>\n",
       "      <td>67.3</td>\n",
       "      <td>8828</td>\n",
       "    </tr>\n",
       "    <tr>\n",
       "      <th>1</th>\n",
       "      <td>73.1</td>\n",
       "      <td>8332</td>\n",
       "    </tr>\n",
       "    <tr>\n",
       "      <th>2</th>\n",
       "      <td>72.6</td>\n",
       "      <td>7101</td>\n",
       "    </tr>\n",
       "    <tr>\n",
       "      <th>3</th>\n",
       "      <td>73.9</td>\n",
       "      <td>8127</td>\n",
       "    </tr>\n",
       "    <tr>\n",
       "      <th>4</th>\n",
       "      <td>74.7</td>\n",
       "      <td>5985</td>\n",
       "    </tr>\n",
       "    <tr>\n",
       "      <th>5</th>\n",
       "      <td>75.0</td>\n",
       "      <td>10827</td>\n",
       "    </tr>\n",
       "    <tr>\n",
       "      <th>6</th>\n",
       "      <td>77.1</td>\n",
       "      <td>8565</td>\n",
       "    </tr>\n",
       "    <tr>\n",
       "      <th>7</th>\n",
       "      <td>90.4</td>\n",
       "      <td>4295</td>\n",
       "    </tr>\n",
       "    <tr>\n",
       "      <th>8</th>\n",
       "      <td>70.9</td>\n",
       "      <td>4750</td>\n",
       "    </tr>\n",
       "    <tr>\n",
       "      <th>9</th>\n",
       "      <td>74.7</td>\n",
       "      <td>6379</td>\n",
       "    </tr>\n",
       "    <tr>\n",
       "      <th>10</th>\n",
       "      <td>80.2</td>\n",
       "      <td>10103</td>\n",
       "    </tr>\n",
       "  </tbody>\n",
       "</table>\n",
       "</div>"
      ],
      "text/plain": [
       "    Weight  Distanse\n",
       "0     67.3      8828\n",
       "1     73.1      8332\n",
       "2     72.6      7101\n",
       "3     73.9      8127\n",
       "4     74.7      5985\n",
       "5     75.0     10827\n",
       "6     77.1      8565\n",
       "7     90.4      4295\n",
       "8     70.9      4750\n",
       "9     74.7      6379\n",
       "10    80.2     10103"
      ]
     },
     "execution_count": 2,
     "metadata": {},
     "output_type": "execute_result"
    }
   ],
   "source": [
    "data1"
   ]
  },
  {
   "cell_type": "code",
   "execution_count": 3,
   "metadata": {
    "collapsed": false,
    "scrolled": true
   },
   "outputs": [
    {
     "name": "stdout",
     "output_type": "stream",
     "text": [
      "[[87.756095261757054, 82.920053993074347, 70.770758149780264, 80.905530070053103, 59.781638669597328, 107.55308427413077, 85.258164520772837, 43.263923663160242, 47.560325075872036, 63.668624103830275, 100.46180221797179], [8807.5439047382442, 8322.1799460069269, 7102.8292418502197, 8119.9944699299476, 5999.9183613304021, 10794.446915725872, 8556.8418354792284, 4342.1360763368393, 4773.3396749241283, 6390.0313758961693, 10082.73819778203]]\n"
     ]
    },
    {
     "data": {
      "text/plain": [
       "90.642063578454525"
      ]
     },
     "execution_count": 3,
     "metadata": {},
     "output_type": "execute_result"
    }
   ],
   "source": [
    "def chisq(Xy):\n",
    "    tmp=[Xy[0][i]+Xy[1][i] for i in range(len(Xy[0]))]\n",
    "    s=sum(tmp)\n",
    "    tmp=[i/float(s) for i in tmp]\n",
    "    expected=[[i*sum(Xy[j]) for i in tmp]for j in range(2)]\n",
    "    rez=[[((Xy[j][i]-expected[j][i])**2)/expected[j][i] for i in range(len(Xy[0]))]for j in range(2)]\n",
    "    print (expected)\n",
    "    return sum(rez[0])+sum(rez[1])\n",
    "chisq(Xy)"
   ]
  },
  {
   "cell_type": "code",
   "execution_count": 4,
   "metadata": {
    "collapsed": false
   },
   "outputs": [
    {
     "name": "stdout",
     "output_type": "stream",
     "text": [
      "test Statistics: 90.6420635785\n",
      "degrees of freedom: 10\n",
      "p-value: 3.99462573305e-15\n",
      "\n",
      "[[    87.75609526     82.92005399     70.77075815     80.90553007\n",
      "      59.78163867    107.55308427     85.25816452     43.26392366\n",
      "      47.56032508     63.6686241     100.46180222]\n",
      " [  8807.54390474   8322.17994601   7102.82924185   8119.99446993\n",
      "    5999.91836133  10794.44691573   8556.84183548   4342.13607634\n",
      "    4773.33967492   6390.0313759   10082.73819778]]\n"
     ]
    }
   ],
   "source": [
    "modchisq(Xy)"
   ]
  },
  {
   "cell_type": "markdown",
   "metadata": {},
   "source": [
    "При уровне значимости $ \\alpha = (1-0,05)$, и $k=(11-1)(2-1)=10$ => $\\chi^2_{spec}=90.642063578454525 $, a $\\chi^2_{k=10,\\alpha=0.95}=3.994$ => Так как $\\chi^2_{spec} > \\chi^2_{k=10,\\alpha=0.95}$ - есть основание отвергнуть гипотезу о зависимости данных велечин. "
   ]
  },
  {
   "cell_type": "markdown",
   "metadata": {},
   "source": [
    "### Т-критерий Стьюдента"
   ]
  },
  {
   "cell_type": "code",
   "execution_count": 5,
   "metadata": {
    "collapsed": false
   },
   "outputs": [],
   "source": [
    "def modtks(Xy):\n",
    "    t, prob = stats.ttest_ind(Xy[0], Xy[1])\n",
    "    output = \"test Statistics: {}\\np-value: {}\\n\"\n",
    "    print (output.format(t, prob))"
   ]
  },
  {
   "cell_type": "code",
   "execution_count": 6,
   "metadata": {
    "collapsed": false
   },
   "outputs": [
    {
     "data": {
      "text/plain": [
       "11.946226943133036"
      ]
     },
     "execution_count": 6,
     "metadata": {},
     "output_type": "execute_result"
    }
   ],
   "source": [
    "def tks(Xy):\n",
    "    avxy = [np.average(Xy[0]), np.average(Xy[1])]\n",
    "    serror=[[((Xy[j][i]-avxy[j])**2) for i in range(len(Xy[0]))]for j in range(2)]\n",
    "    Sd=np.sqrt((sum(serror[0])+sum(serror[1]))/((len(Xy[0])-1)*(len(Xy[0]))))\n",
    "    return np.abs(avxy[0]-avxy[1])/Sd\n",
    "tks(Xy)"
   ]
  },
  {
   "cell_type": "code",
   "execution_count": 7,
   "metadata": {
    "collapsed": false
   },
   "outputs": [
    {
     "name": "stdout",
     "output_type": "stream",
     "text": [
      "test Statistics: -11.9462269431\n",
      "p-value: 1.47178838936e-10\n",
      "\n"
     ]
    }
   ],
   "source": [
    "modtks(Xy)"
   ]
  },
  {
   "cell_type": "markdown",
   "metadata": {},
   "source": [
    "При уровне значимости $\\alpha=0.05$ и $k=(11+11)-2=20$ => $t_{spec}=11.946226943133036 $, a $t_{k=20,\\alpha=0.05}=2.09$"
   ]
  },
  {
   "cell_type": "markdown",
   "metadata": {},
   "source": [
    "2.09 для P $ \\le $ 0.05\n",
    "\n",
    "2.85 для P $ \\le $ 0.01\n",
    "\n",
    "3.85 для P $ \\le $ 0.001"
   ]
  },
  {
   "cell_type": "markdown",
   "metadata": {},
   "source": [
    "Так как $t_{spec} > t_{k=10,\\alpha=0.05}$ - есть основание отвергнуть гипотезу о зависимости данных велечин. "
   ]
  },
  {
   "cell_type": "markdown",
   "metadata": {},
   "source": [
    "## Задание 2"
   ]
  },
  {
   "cell_type": "code",
   "execution_count": 8,
   "metadata": {
    "collapsed": false
   },
   "outputs": [],
   "source": [
    "data2 = pd.read_excel('data2.xlsx')\n",
    "Xy2 = [i.values for i in data2['Test1'],data2['Sumup']]"
   ]
  },
  {
   "cell_type": "code",
   "execution_count": 9,
   "metadata": {
    "collapsed": false
   },
   "outputs": [
    {
     "name": "stdout",
     "output_type": "stream",
     "text": [
      "[[7.5671794871794864, 26.039999999999999, 12.463589743589743, 27.375384615384615, 9.5702564102564089, 25.14974358974359, 23.369230769230771, 25.594871794871793, 24.704615384615384, 12.241025641025642, 22.924102564102562], [26.432820512820513, 90.959999999999994, 43.536410256410257, 95.624615384615382, 33.429743589743588, 87.850256410256407, 81.630769230769232, 89.405128205128207, 86.29538461538462, 42.758974358974356, 80.075897435897431]]\n"
     ]
    },
    {
     "data": {
      "text/plain": [
       "17.956288757244966"
      ]
     },
     "execution_count": 9,
     "metadata": {},
     "output_type": "execute_result"
    }
   ],
   "source": [
    "chisq(Xy2)"
   ]
  },
  {
   "cell_type": "code",
   "execution_count": 10,
   "metadata": {
    "collapsed": false
   },
   "outputs": [
    {
     "data": {
      "text/plain": [
       "6.3315791369721133"
      ]
     },
     "execution_count": 10,
     "metadata": {},
     "output_type": "execute_result"
    }
   ],
   "source": [
    "tks(Xy2)"
   ]
  },
  {
   "cell_type": "markdown",
   "metadata": {},
   "source": [
    "## Задание 3"
   ]
  },
  {
   "cell_type": "code",
   "execution_count": 11,
   "metadata": {
    "collapsed": false
   },
   "outputs": [
    {
     "data": {
      "text/plain": [
       "SpearmanrResult(correlation=0.30029461361660664, pvalue=0.01974141390904845)"
      ]
     },
     "execution_count": 11,
     "metadata": {},
     "output_type": "execute_result"
    }
   ],
   "source": [
    "data3 = pd.read_excel('data3.xlsx')\n",
    "Xy3 = [i.values for i in data3['CREA'],data3['TG']]\n",
    "stats.spearmanr(Xy3[0],Xy3[1])"
   ]
  },
  {
   "cell_type": "code",
   "execution_count": null,
   "metadata": {
    "collapsed": true
   },
   "outputs": [],
   "source": []
  }
 ],
 "metadata": {
  "anaconda-cloud": {},
  "kernelspec": {
   "display_name": "Python [conda root]",
   "language": "python",
   "name": "conda-root-py"
  },
  "language_info": {
   "codemirror_mode": {
    "name": "ipython",
    "version": 2
   },
   "file_extension": ".py",
   "mimetype": "text/x-python",
   "name": "python",
   "nbconvert_exporter": "python",
   "pygments_lexer": "ipython2",
   "version": "2.7.12"
  }
 },
 "nbformat": 4,
 "nbformat_minor": 1
}
