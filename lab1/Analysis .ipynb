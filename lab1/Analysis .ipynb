{
 "cells": [
  {
   "cell_type": "markdown",
   "metadata": {},
   "source": [
    "## Задание 1"
   ]
  },
  {
   "cell_type": "markdown",
   "metadata": {},
   "source": [
    "В рамках комплексного анализа игры некоторого футбольного клуба, тренерский штаб решил исследовать зависимость между весом игроков (в килограммах) и дистанцией (в метрах), которую игроки пробегают за первый тайм. Данные приведены в таблице. Проверить гипотезу о независимости веса игроков и преодоленной дистанции, считая, что данные имеют нормальное распределение, против альтернативы о наличии отрицательной зависимости. Примите уровень значимости равным 0,05."
   ]
  },
  {
   "cell_type": "code",
   "execution_count": 1,
   "metadata": {
    "collapsed": false
   },
   "outputs": [],
   "source": [
    "import pandas as pd\n",
    "import numpy as np\n",
    "from scipy import stats"
   ]
  },
  {
   "cell_type": "code",
   "execution_count": 2,
   "metadata": {
    "collapsed": false
   },
   "outputs": [
    {
     "data": {
      "text/html": [
       "<div>\n",
       "<table border=\"1\" class=\"dataframe\">\n",
       "  <thead>\n",
       "    <tr style=\"text-align: right;\">\n",
       "      <th></th>\n",
       "      <th>Weight</th>\n",
       "      <th>Distanse</th>\n",
       "    </tr>\n",
       "  </thead>\n",
       "  <tbody>\n",
       "    <tr>\n",
       "      <th>0</th>\n",
       "      <td>67.3</td>\n",
       "      <td>8828</td>\n",
       "    </tr>\n",
       "    <tr>\n",
       "      <th>1</th>\n",
       "      <td>73.1</td>\n",
       "      <td>8332</td>\n",
       "    </tr>\n",
       "    <tr>\n",
       "      <th>2</th>\n",
       "      <td>72.6</td>\n",
       "      <td>7101</td>\n",
       "    </tr>\n",
       "    <tr>\n",
       "      <th>3</th>\n",
       "      <td>73.9</td>\n",
       "      <td>8127</td>\n",
       "    </tr>\n",
       "    <tr>\n",
       "      <th>4</th>\n",
       "      <td>74.7</td>\n",
       "      <td>5985</td>\n",
       "    </tr>\n",
       "    <tr>\n",
       "      <th>5</th>\n",
       "      <td>75.0</td>\n",
       "      <td>10827</td>\n",
       "    </tr>\n",
       "    <tr>\n",
       "      <th>6</th>\n",
       "      <td>77.1</td>\n",
       "      <td>8565</td>\n",
       "    </tr>\n",
       "    <tr>\n",
       "      <th>7</th>\n",
       "      <td>90.4</td>\n",
       "      <td>4295</td>\n",
       "    </tr>\n",
       "    <tr>\n",
       "      <th>8</th>\n",
       "      <td>70.9</td>\n",
       "      <td>4750</td>\n",
       "    </tr>\n",
       "    <tr>\n",
       "      <th>9</th>\n",
       "      <td>74.7</td>\n",
       "      <td>6379</td>\n",
       "    </tr>\n",
       "    <tr>\n",
       "      <th>10</th>\n",
       "      <td>80.2</td>\n",
       "      <td>10103</td>\n",
       "    </tr>\n",
       "  </tbody>\n",
       "</table>\n",
       "</div>"
      ],
      "text/plain": [
       "    Weight  Distanse\n",
       "0     67.3      8828\n",
       "1     73.1      8332\n",
       "2     72.6      7101\n",
       "3     73.9      8127\n",
       "4     74.7      5985\n",
       "5     75.0     10827\n",
       "6     77.1      8565\n",
       "7     90.4      4295\n",
       "8     70.9      4750\n",
       "9     74.7      6379\n",
       "10    80.2     10103"
      ]
     },
     "execution_count": 2,
     "metadata": {},
     "output_type": "execute_result"
    }
   ],
   "source": [
    "data1 = pd.read_excel('data.xlsx')\n",
    "Xy = [i.values for i in data1['Weight'],data1['Distanse']]\n",
    "data1"
   ]
  },
  {
   "cell_type": "code",
   "execution_count": 3,
   "metadata": {
    "collapsed": false
   },
   "outputs": [
    {
     "data": {
      "text/plain": [
       "(-0.27007983715504258, 0.42185710831232665)"
      ]
     },
     "execution_count": 3,
     "metadata": {},
     "output_type": "execute_result"
    }
   ],
   "source": [
    "stats.pearsonr(Xy[0], Xy[1])"
   ]
  },
  {
   "cell_type": "markdown",
   "metadata": {},
   "source": [
    "Коэффицент корреляции Пирсона $r_{x,y}=\\frac{\\sum_{i=1}^{m}(x_{i}-\\bar{x})  (y_{i}-\\bar{y})}{\\sqrt{\\sum_{i=1}^{m}(x_{i}-\\bar{x})^2  (y_{i}-\\bar{y})^2}}=\\frac{cov(x,y)}{\\sqrt{S_{x}S_{y}}}$"
   ]
  },
  {
   "cell_type": "code",
   "execution_count": 4,
   "metadata": {
    "collapsed": false
   },
   "outputs": [
    {
     "name": "stdout",
     "output_type": "stream",
     "text": [
      "Ковариация cov(x,y) = -33410.4\n",
      "\n",
      "Выборочные дисперсии Sx=  353.287272727 \n",
      "Средневыборочное Sy =  43316268.0\n",
      "Коэффициент корреляции Пирсона r = -0.270079837155\n"
     ]
    }
   ],
   "source": [
    "def korP(V):\n",
    "    cov= sum([(V[0][i] - np.mean(V[0]))*(V[1][i] - np.mean(V[1])) for i in range(len(V[0]))])\n",
    "    print u'Ковариация cov(x,y) =',cov\n",
    "    Sx=sum([(V[0][i] - np.mean(V[0]))**2 for i in range(len(V[0]))])\n",
    "    Sy=sum([(V[1][i] - np.mean(V[1]))**2 for i in range(len(V[0]))])\n",
    "    print u'\\nВыборочные дисперсии Sx= ',Sx,u'\\nСредневыборочное Sy = ',Sy\n",
    "    r=cov/np.sqrt(Sx*Sy)\n",
    "    print u'Коэффициент корреляции Пирсона r =', r\n",
    "    return r\n",
    "r=korP(Xy)"
   ]
  },
  {
   "cell_type": "markdown",
   "metadata": {},
   "source": [
    "Связи между признаками могут быть слабыми и сильными (тесными). Их критерии оцениваются по шкале Чеддока:\n",
    "\n",
    "0.1 < $r_{xy}$ < 0.3: слабая;\n",
    "\n",
    "0.3 < $r_{xy}$ < 0.5: умеренная;\n",
    "\n",
    "0.5 < $r_{xy}$ < 0.7: заметная;\n",
    "\n",
    "0.7 < $r_{xy}$ < 0.9: высокая;\n",
    "\n",
    "0.9 < $r_{xy}$ < 1: весьма высокая;\n",
    "\n",
    "В нашем задании связь между дистанцией и весом слабая и обратная."
   ]
  },
  {
   "cell_type": "markdown",
   "metadata": {},
   "source": [
    "$H_{0}: r_{xy}$ = 0, нет линейной взаимосвязи между переменными;\n",
    "\n",
    "$H_{1}: r_{xy}$ ≠ 0, есть линейная взаимосвязь между переменными;"
   ]
  },
  {
   "cell_type": "code",
   "execution_count": 5,
   "metadata": {
    "collapsed": false
   },
   "outputs": [
    {
     "name": "stdout",
     "output_type": "stream",
     "text": [
      "0.841511832153\n"
     ]
    }
   ],
   "source": [
    "t=np.abs(r)*(np.sqrt(len(Xy[0])-2)/np.sqrt(1-r**2))\n",
    "print t"
   ]
  },
  {
   "cell_type": "markdown",
   "metadata": {},
   "source": [
    "\n",
    "$t_{spec}$ = 0.841511832153"
   ]
  },
  {
   "cell_type": "markdown",
   "metadata": {},
   "source": [
    "По таблице Стьюдента с уровнем значимости α=0.05 и степенями свободы k=9 находим $t_{crit}$ :\n",
    "\n",
    "$t_{crit}$ (n-m-1;α/2) = (9;0.025) = 2.262\n",
    "\n",
    "Поскольку |$t_{spec}$| < $t_{crit}$, то принимаем гипотезу о равенстве 0 коэффициента корреляции. Другими словами, коэффициент корреляции статистически - не значим"
   ]
  },
  {
   "cell_type": "markdown",
   "metadata": {},
   "source": [
    "## Задание 2"
   ]
  },
  {
   "cell_type": "markdown",
   "metadata": {},
   "source": [
    "2.\tИмеются данные о баллах за контрольную работу 1 (СВ X) и об итоговых баллах (СВ Y) некоторой группы студентов бизнес-информатики по Анализу данных. Проверить гипотезу о независимости СВ X и Y на уровне значимости 0,05."
   ]
  },
  {
   "cell_type": "code",
   "execution_count": 6,
   "metadata": {
    "collapsed": false
   },
   "outputs": [
    {
     "data": {
      "text/html": [
       "<div>\n",
       "<table border=\"1\" class=\"dataframe\">\n",
       "  <thead>\n",
       "    <tr style=\"text-align: right;\">\n",
       "      <th></th>\n",
       "      <th>Test1</th>\n",
       "      <th>Sumup</th>\n",
       "    </tr>\n",
       "  </thead>\n",
       "  <tbody>\n",
       "    <tr>\n",
       "      <th>0</th>\n",
       "      <td>5</td>\n",
       "      <td>29</td>\n",
       "    </tr>\n",
       "    <tr>\n",
       "      <th>1</th>\n",
       "      <td>28</td>\n",
       "      <td>89</td>\n",
       "    </tr>\n",
       "    <tr>\n",
       "      <th>2</th>\n",
       "      <td>8</td>\n",
       "      <td>48</td>\n",
       "    </tr>\n",
       "    <tr>\n",
       "      <th>3</th>\n",
       "      <td>28</td>\n",
       "      <td>95</td>\n",
       "    </tr>\n",
       "    <tr>\n",
       "      <th>4</th>\n",
       "      <td>5</td>\n",
       "      <td>38</td>\n",
       "    </tr>\n",
       "    <tr>\n",
       "      <th>5</th>\n",
       "      <td>27</td>\n",
       "      <td>86</td>\n",
       "    </tr>\n",
       "    <tr>\n",
       "      <th>6</th>\n",
       "      <td>30</td>\n",
       "      <td>75</td>\n",
       "    </tr>\n",
       "    <tr>\n",
       "      <th>7</th>\n",
       "      <td>29</td>\n",
       "      <td>86</td>\n",
       "    </tr>\n",
       "    <tr>\n",
       "      <th>8</th>\n",
       "      <td>25</td>\n",
       "      <td>86</td>\n",
       "    </tr>\n",
       "    <tr>\n",
       "      <th>9</th>\n",
       "      <td>4</td>\n",
       "      <td>51</td>\n",
       "    </tr>\n",
       "    <tr>\n",
       "      <th>10</th>\n",
       "      <td>28</td>\n",
       "      <td>75</td>\n",
       "    </tr>\n",
       "  </tbody>\n",
       "</table>\n",
       "</div>"
      ],
      "text/plain": [
       "    Test1  Sumup\n",
       "0       5     29\n",
       "1      28     89\n",
       "2       8     48\n",
       "3      28     95\n",
       "4       5     38\n",
       "5      27     86\n",
       "6      30     75\n",
       "7      29     86\n",
       "8      25     86\n",
       "9       4     51\n",
       "10     28     75"
      ]
     },
     "execution_count": 6,
     "metadata": {},
     "output_type": "execute_result"
    }
   ],
   "source": [
    "data2 = pd.read_excel('data2.xlsx')\n",
    "Xy2 = [i.values for i in data2['Test1'],data2['Sumup']]\n",
    "data2"
   ]
  },
  {
   "cell_type": "markdown",
   "metadata": {},
   "source": [
    "#### Коэффициент Кендэла "
   ]
  },
  {
   "cell_type": "markdown",
   "metadata": {},
   "source": [
    "Ставим ранги"
   ]
  },
  {
   "cell_type": "code",
   "execution_count": 7,
   "metadata": {
    "collapsed": false
   },
   "outputs": [],
   "source": [
    "data2=data2.sort_values(by='Test1')\n",
    "data2['RankX']=[i+1 for i in range(len(Xy2[0]))]\n",
    "data2=data2.sort_values(by='Sumup')\n",
    "data2['Ranky']=[i+1 for i in range(len(Xy2[0]))]\n",
    "data2=data2.sort_values(by='Test1')"
   ]
  },
  {
   "cell_type": "markdown",
   "metadata": {},
   "source": [
    "Вручную посчитал Concordant pairs и Disconcordant pairs"
   ]
  },
  {
   "cell_type": "code",
   "execution_count": 8,
   "metadata": {
    "collapsed": false
   },
   "outputs": [],
   "source": [
    "data2['C']=[7,9,8,7,4,3,1,0,2,0,0]\n",
    "data2['D']=[3,0,0,0,2,2,3,3,0,1,0]"
   ]
  },
  {
   "cell_type": "code",
   "execution_count": 9,
   "metadata": {
    "collapsed": false
   },
   "outputs": [
    {
     "data": {
      "text/html": [
       "<div>\n",
       "<table border=\"1\" class=\"dataframe\">\n",
       "  <thead>\n",
       "    <tr style=\"text-align: right;\">\n",
       "      <th></th>\n",
       "      <th>Test1</th>\n",
       "      <th>Sumup</th>\n",
       "      <th>RankX</th>\n",
       "      <th>Ranky</th>\n",
       "      <th>C</th>\n",
       "      <th>D</th>\n",
       "    </tr>\n",
       "  </thead>\n",
       "  <tbody>\n",
       "    <tr>\n",
       "      <th>9</th>\n",
       "      <td>4</td>\n",
       "      <td>51</td>\n",
       "      <td>1</td>\n",
       "      <td>4</td>\n",
       "      <td>7</td>\n",
       "      <td>3</td>\n",
       "    </tr>\n",
       "    <tr>\n",
       "      <th>0</th>\n",
       "      <td>5</td>\n",
       "      <td>29</td>\n",
       "      <td>2</td>\n",
       "      <td>1</td>\n",
       "      <td>9</td>\n",
       "      <td>0</td>\n",
       "    </tr>\n",
       "    <tr>\n",
       "      <th>4</th>\n",
       "      <td>5</td>\n",
       "      <td>38</td>\n",
       "      <td>3</td>\n",
       "      <td>2</td>\n",
       "      <td>8</td>\n",
       "      <td>0</td>\n",
       "    </tr>\n",
       "    <tr>\n",
       "      <th>2</th>\n",
       "      <td>8</td>\n",
       "      <td>48</td>\n",
       "      <td>4</td>\n",
       "      <td>3</td>\n",
       "      <td>7</td>\n",
       "      <td>0</td>\n",
       "    </tr>\n",
       "    <tr>\n",
       "      <th>8</th>\n",
       "      <td>25</td>\n",
       "      <td>86</td>\n",
       "      <td>5</td>\n",
       "      <td>7</td>\n",
       "      <td>4</td>\n",
       "      <td>2</td>\n",
       "    </tr>\n",
       "    <tr>\n",
       "      <th>5</th>\n",
       "      <td>27</td>\n",
       "      <td>86</td>\n",
       "      <td>6</td>\n",
       "      <td>8</td>\n",
       "      <td>3</td>\n",
       "      <td>2</td>\n",
       "    </tr>\n",
       "    <tr>\n",
       "      <th>10</th>\n",
       "      <td>28</td>\n",
       "      <td>75</td>\n",
       "      <td>9</td>\n",
       "      <td>5</td>\n",
       "      <td>1</td>\n",
       "      <td>3</td>\n",
       "    </tr>\n",
       "    <tr>\n",
       "      <th>1</th>\n",
       "      <td>28</td>\n",
       "      <td>89</td>\n",
       "      <td>7</td>\n",
       "      <td>10</td>\n",
       "      <td>0</td>\n",
       "      <td>3</td>\n",
       "    </tr>\n",
       "    <tr>\n",
       "      <th>3</th>\n",
       "      <td>28</td>\n",
       "      <td>95</td>\n",
       "      <td>8</td>\n",
       "      <td>11</td>\n",
       "      <td>2</td>\n",
       "      <td>0</td>\n",
       "    </tr>\n",
       "    <tr>\n",
       "      <th>7</th>\n",
       "      <td>29</td>\n",
       "      <td>86</td>\n",
       "      <td>10</td>\n",
       "      <td>9</td>\n",
       "      <td>0</td>\n",
       "      <td>1</td>\n",
       "    </tr>\n",
       "    <tr>\n",
       "      <th>6</th>\n",
       "      <td>30</td>\n",
       "      <td>75</td>\n",
       "      <td>11</td>\n",
       "      <td>6</td>\n",
       "      <td>0</td>\n",
       "      <td>0</td>\n",
       "    </tr>\n",
       "  </tbody>\n",
       "</table>\n",
       "</div>"
      ],
      "text/plain": [
       "    Test1  Sumup  RankX  Ranky  C  D\n",
       "9       4     51      1      4  7  3\n",
       "0       5     29      2      1  9  0\n",
       "4       5     38      3      2  8  0\n",
       "2       8     48      4      3  7  0\n",
       "8      25     86      5      7  4  2\n",
       "5      27     86      6      8  3  2\n",
       "10     28     75      9      5  1  3\n",
       "1      28     89      7     10  0  3\n",
       "3      28     95      8     11  2  0\n",
       "7      29     86     10      9  0  1\n",
       "6      30     75     11      6  0  0"
      ]
     },
     "execution_count": 9,
     "metadata": {},
     "output_type": "execute_result"
    }
   ],
   "source": [
    "data2"
   ]
  },
  {
   "cell_type": "markdown",
   "metadata": {},
   "source": [
    "$\\gamma=\\frac{P-Q}{\\frac{1}{2}N(N-1)}$"
   ]
  },
  {
   "cell_type": "code",
   "execution_count": 10,
   "metadata": {
    "collapsed": false
   },
   "outputs": [
    {
     "data": {
      "text/plain": [
       "0.49090909090909091"
      ]
     },
     "execution_count": 10,
     "metadata": {},
     "output_type": "execute_result"
    }
   ],
   "source": [
    "P=sum(data2['C'].values)\n",
    "Q=sum(data2['D'].values)\n",
    "g=(P-Q)/(0.5*len(data2)*(len(data2)-1))\n",
    "g"
   ]
  },
  {
   "cell_type": "markdown",
   "metadata": {},
   "source": [
    "Проверим"
   ]
  },
  {
   "cell_type": "markdown",
   "metadata": {},
   "source": [
    "$H_{0}: \\gamma$ = 0, нет линейной взаимосвязи между переменными;\n",
    "\n",
    "$H_{1}: \\gamma$ ≠ 0, есть линейная взаимосвязь между переменными;"
   ]
  },
  {
   "cell_type": "markdown",
   "metadata": {},
   "source": [
    "$T_{cr} = z_{cr}\\sqrt{\\frac{2(2n+5)}{9n(n-1)}}$ \n",
    "\n",
    "$\\Phi(z_{cr}) = (1-\\alpha)/2 = 0.475$\n",
    "\n",
    "По таблице Лапласа $ z_{cr} = 1.96$ =>\n",
    "\n",
    "$T_{cr} = 0.46$"
   ]
  },
  {
   "cell_type": "markdown",
   "metadata": {},
   "source": [
    "Т.к $\\gamma > T_{cr}$ => отвергаем $H_{0}$ , корреляционная связь между оценками по двум тестам значимая"
   ]
  },
  {
   "cell_type": "markdown",
   "metadata": {},
   "source": [
    "## Задание 3"
   ]
  },
  {
   "cell_type": "code",
   "execution_count": 11,
   "metadata": {
    "collapsed": false
   },
   "outputs": [],
   "source": [
    "data3 = pd.read_excel('data3.xlsx')\n",
    "Xy3 = [i.values for i in data3['CREA'],data3['TG']]\n",
    "p,pr=stats.spearmanr(Xy3[0],Xy3[1])"
   ]
  },
  {
   "cell_type": "code",
   "execution_count": 12,
   "metadata": {
    "collapsed": false
   },
   "outputs": [
    {
     "data": {
      "text/html": [
       "<div>\n",
       "<table border=\"1\" class=\"dataframe\">\n",
       "  <thead>\n",
       "    <tr style=\"text-align: right;\">\n",
       "      <th></th>\n",
       "      <th>CREA</th>\n",
       "      <th>TG</th>\n",
       "    </tr>\n",
       "  </thead>\n",
       "  <tbody>\n",
       "    <tr>\n",
       "      <th>0</th>\n",
       "      <td>21</td>\n",
       "      <td>1.29</td>\n",
       "    </tr>\n",
       "    <tr>\n",
       "      <th>1</th>\n",
       "      <td>21</td>\n",
       "      <td>1.14</td>\n",
       "    </tr>\n",
       "    <tr>\n",
       "      <th>2</th>\n",
       "      <td>12</td>\n",
       "      <td>1.05</td>\n",
       "    </tr>\n",
       "    <tr>\n",
       "      <th>3</th>\n",
       "      <td>18</td>\n",
       "      <td>1.05</td>\n",
       "    </tr>\n",
       "    <tr>\n",
       "      <th>4</th>\n",
       "      <td>12</td>\n",
       "      <td>0.84</td>\n",
       "    </tr>\n",
       "  </tbody>\n",
       "</table>\n",
       "</div>"
      ],
      "text/plain": [
       "   CREA    TG\n",
       "0    21  1.29\n",
       "1    21  1.14\n",
       "2    12  1.05\n",
       "3    18  1.05\n",
       "4    12  0.84"
      ]
     },
     "execution_count": 12,
     "metadata": {},
     "output_type": "execute_result"
    }
   ],
   "source": [
    "data3.head(5)"
   ]
  },
  {
   "cell_type": "code",
   "execution_count": 13,
   "metadata": {
    "collapsed": false
   },
   "outputs": [
    {
     "data": {
      "text/plain": [
       "0.30029461361660664"
      ]
     },
     "execution_count": 13,
     "metadata": {},
     "output_type": "execute_result"
    }
   ],
   "source": [
    "p"
   ]
  },
  {
   "cell_type": "markdown",
   "metadata": {},
   "source": [
    "Связи между признаками могут быть слабыми и сильными (тесными). Их критерии оцениваются по шкале Чеддока:\n",
    "\n",
    "0.1 < $p_{xy}$ < 0.3: слабая;\n",
    "\n",
    "0.3 < $p_{xy}$ < 0.5: умеренная;\n",
    "\n",
    "0.5 < $p_{xy}$ < 0.7: заметная;\n",
    "\n",
    "0.7 < $p_{xy}$ < 0.9: высокая;\n",
    "\n",
    "0.9 < $p_{xy}$ < 1: весьма высокая;\n",
    "\n",
    "Связь между признаком Y и фактором X умеренная и прямая"
   ]
  },
  {
   "cell_type": "markdown",
   "metadata": {},
   "source": [
    "$H_{0}: P_{xy}$ = 0, нет линейной взаимосвязи между переменными;\n",
    "\n",
    "$H_{1}: p_{xy}$ ≠ 0, есть линейная взаимосвязь между переменными;"
   ]
  },
  {
   "cell_type": "markdown",
   "metadata": {},
   "source": [
    "$T = t(\\alpha,k)\\sqrt{\\frac{1-p^2}{n-2}}$, k = n-2 = 58\n",
    "\n",
    "$t(α/2, k) = (0.05/2;58) = 2$\n",
    "\n",
    "\n",
    "$T = 0.25$"
   ]
  },
  {
   "cell_type": "markdown",
   "metadata": {},
   "source": [
    "Поскольку T < p, то отклоняем гипотезу $H_{0}$, корреляционная связь между оценками по двум тестам значимая"
   ]
  }
 ],
 "metadata": {
  "anaconda-cloud": {},
  "kernelspec": {
   "display_name": "Python [conda root]",
   "language": "python",
   "name": "conda-root-py"
  },
  "language_info": {
   "codemirror_mode": {
    "name": "ipython",
    "version": 2
   },
   "file_extension": ".py",
   "mimetype": "text/x-python",
   "name": "python",
   "nbconvert_exporter": "python",
   "pygments_lexer": "ipython2",
   "version": "2.7.12"
  }
 },
 "nbformat": 4,
 "nbformat_minor": 1
}
