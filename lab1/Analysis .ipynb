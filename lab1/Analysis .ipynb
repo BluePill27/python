{
 "cells": [
  {
   "cell_type": "code",
   "execution_count": 1,
   "metadata": {
    "collapsed": false
   },
   "outputs": [
    {
     "name": "stdout",
     "output_type": "stream",
     "text": [
      "test Statistics: 90.6420635785\n",
      "degrees of freedom: 10\n",
      "p-value: 3.99462573305e-15\n",
      "\n",
      "[[    87.75609526     82.92005399     70.77075815     80.90553007\n",
      "      59.78163867    107.55308427     85.25816452     43.26392366\n",
      "      47.56032508     63.6686241     100.46180222]\n",
      " [  8807.54390474   8322.17994601   7102.82924185   8119.99446993\n",
      "    5999.91836133  10794.44691573   8556.84183548   4342.13607634\n",
      "    4773.33967492   6390.0313759   10082.73819778]]\n"
     ]
    }
   ],
   "source": [
    "import pandas as pd\n",
    "from scipy import stats\n",
    "data1 = pd.read_excel('data.xlsx')\n",
    "Xy = [i.values for i in data1['Weight'],data1['Distanse']]\n",
    "chi2, prob, df, expected = stats.chi2_contingency(Xy)\n",
    "output = \"test Statistics: {}\\ndegrees of freedom: {}\\np-value: {}\\n\"\n",
    "print (output.format(chi2, df, prob))\n",
    "print (expected)"
   ]
  },
  {
   "cell_type": "markdown",
   "metadata": {},
   "source": [
    "#### Код выше для проверки."
   ]
  },
  {
   "cell_type": "code",
   "execution_count": 2,
   "metadata": {
    "collapsed": false
   },
   "outputs": [
    {
     "name": "stdout",
     "output_type": "stream",
     "text": [
      "[[87.756095261757054, 82.920053993074347, 70.770758149780264, 80.905530070053103, 59.781638669597328, 107.55308427413077, 85.258164520772837, 43.263923663160242, 47.560325075872036, 63.668624103830275, 100.46180221797179], [8807.5439047382442, 8322.1799460069269, 7102.8292418502197, 8119.9944699299476, 5999.9183613304021, 10794.446915725872, 8556.8418354792284, 4342.1360763368393, 4773.3396749241283, 6390.0313758961693, 10082.73819778203]]\n"
     ]
    },
    {
     "data": {
      "text/plain": [
       "90.642063578454525"
      ]
     },
     "execution_count": 2,
     "metadata": {},
     "output_type": "execute_result"
    }
   ],
   "source": [
    "def chisq(Xy):\n",
    "    rez=[]\n",
    "    tmp=[]\n",
    "    for i in range(len(Xy[0])):\n",
    "        tmp.append(Xy[0][i]+Xy[1][i])\n",
    "    s=sum(tmp)\n",
    "    tmp=[i/s for i in tmp]\n",
    "    expected=[[i*sum(Xy[j]) for i in tmp]for j in range(2)]\n",
    "    print (expected)\n",
    "    rez=[[((Xy[j][i]-expected[j][i])**2)/expected[j][i] for i in range(len(Xy[0]))]for j in range(2)]\n",
    "    return sum(rez[0])+sum(rez[1])\n",
    "chisq(Xy)"
   ]
  },
  {
   "cell_type": "markdown",
   "metadata": {},
   "source": [
    "При уровне значимости $ \\alpha = (1-0,05)$, и $k=(11-1)(2-1)=10$ => $\\chi^2_{spec}=90.642063578454525 $, a $\\chi^2_{k=10,\\alpha=0.95}=3.994$ => Так как $\\chi^2_{spec} > \\chi^2_{k=10,\\alpha=0.95}$ - есть основание отвергнуть гипотезу о зависимости данных велечин. "
   ]
  },
  {
   "cell_type": "code",
   "execution_count": null,
   "metadata": {
    "collapsed": true
   },
   "outputs": [],
   "source": []
  }
 ],
 "metadata": {
  "anaconda-cloud": {},
  "kernelspec": {
   "display_name": "Python [conda root]",
   "language": "python",
   "name": "conda-root-py"
  },
  "language_info": {
   "codemirror_mode": {
    "name": "ipython",
    "version": 2
   },
   "file_extension": ".py",
   "mimetype": "text/x-python",
   "name": "python",
   "nbconvert_exporter": "python",
   "pygments_lexer": "ipython2",
   "version": "2.7.12"
  }
 },
 "nbformat": 4,
 "nbformat_minor": 1
}
