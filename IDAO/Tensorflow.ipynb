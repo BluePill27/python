{
 "cells": [
  {
   "cell_type": "code",
   "execution_count": 5,
   "metadata": {},
   "outputs": [
    {
     "ename": "AttributeError",
     "evalue": "module 'tensorflow.contrib.learn' has no attribute 'TensorFlowEstimator'",
     "output_type": "error",
     "traceback": [
      "\u001b[0;31m---------------------------------------------------------------------------\u001b[0m",
      "\u001b[0;31mAttributeError\u001b[0m                            Traceback (most recent call last)",
      "\u001b[0;32m<ipython-input-5-1a1c5ff1ca3a>\u001b[0m in \u001b[0;36m<module>\u001b[0;34m()\u001b[0m\n\u001b[1;32m     25\u001b[0m \u001b[0;34m\u001b[0m\u001b[0m\n\u001b[1;32m     26\u001b[0m \u001b[0;34m\u001b[0m\u001b[0m\n\u001b[0;32m---> 27\u001b[0;31m regressor = learn.TensorFlowEstimator(model_fn=lstm_model(TIMESTEPS, RNN_LAYERS, DENSE_LAYERS), \n\u001b[0m\u001b[1;32m     28\u001b[0m                                       \u001b[0mn_classes\u001b[0m\u001b[0;34m=\u001b[0m\u001b[0;36m0\u001b[0m\u001b[0;34m,\u001b[0m\u001b[0;34m\u001b[0m\u001b[0m\n\u001b[1;32m     29\u001b[0m                                       \u001b[0mverbose\u001b[0m\u001b[0;34m=\u001b[0m\u001b[0;36m1\u001b[0m\u001b[0;34m,\u001b[0m\u001b[0;34m\u001b[0m\u001b[0m\n",
      "\u001b[0;31mAttributeError\u001b[0m: module 'tensorflow.contrib.learn' has no attribute 'TensorFlowEstimator'"
     ]
    }
   ],
   "source": [
    "import numpy as np\n",
    "import pandas as pd\n",
    "from matplotlib import pyplot as plt\n",
    "\n",
    "from tensorflow.contrib import learn\n",
    "from sklearn.metrics import mean_squared_error, mean_absolute_error\n",
    "from lstm_predictor import generate_data, load_csvdata, lstm_model\n",
    "\n",
    "\n",
    "LOG_DIR = './ops_logs'\n",
    "TIMESTEPS = 10\n",
    "RNN_LAYERS = [{'steps': TIMESTEPS}]\n",
    "DENSE_LAYERS = [10, 10]\n",
    "TRAINING_STEPS = 100000\n",
    "BATCH_SIZE = 100\n",
    "PRINT_STEPS = TRAINING_STEPS / 100\n",
    "\n",
    "dateparse = lambda dates: pd.datetime.strptime(dates, '%d/%m/%Y %H:%M')\n",
    "rawdata = pd.read_csv('RealMarketPriceDataPT.csv', \n",
    "                   parse_dates={'timeline': ['date', '(UTC)']}, \n",
    "                   index_col='timeline', date_parser=dateparse)\n",
    "\n",
    "\n",
    "X, y = load_csvdata(rawdata, TIMESTEPS, seperate=False)\n",
    "\n",
    "\n",
    "regressor = learn.TensorFlowEstimator(model_fn=lstm_model(TIMESTEPS, RNN_LAYERS, DENSE_LAYERS), \n",
    "                                      n_classes=0,\n",
    "                                      verbose=1,  \n",
    "                                      steps=TRAINING_STEPS, \n",
    "                                      optimizer='Adagrad',\n",
    "                                      learning_rate=0.03, \n",
    "                                      batch_size=BATCH_SIZE)\n",
    "\n",
    "\n",
    "\n",
    "\n",
    "validation_monitor = learn.monitors.ValidationMonitor(X['val'], y['val'],\n",
    "                                                      every_n_steps=PRINT_STEPS,\n",
    "                                                      early_stopping_rounds=1000)\n",
    "\n",
    "regressor.fit(X['train'], y['train'], monitors=[validation_monitor], logdir=LOG_DIR)\n",
    "\n",
    "\n",
    "predicted = regressor.predict(X['test'])\n",
    "mse = mean_absolute_error(y['test'], predicted)\n",
    "print (\"Error: %f\" % mse)\n",
    "\n",
    "plot_predicted, = plt.plot(predicted, label='predicted')\n",
    "plot_test, = plt.plot(y['test'], label='test')\n",
    "plt.legend(handles=[plot_predicted, plot_test])"
   ]
  },
  {
   "cell_type": "code",
   "execution_count": null,
   "metadata": {
    "collapsed": true
   },
   "outputs": [],
   "source": []
  }
 ],
 "metadata": {
  "kernelspec": {
   "display_name": "Python 3",
   "language": "python",
   "name": "python3"
  },
  "language_info": {
   "codemirror_mode": {
    "name": "ipython",
    "version": 3
   },
   "file_extension": ".py",
   "mimetype": "text/x-python",
   "name": "python",
   "nbconvert_exporter": "python",
   "pygments_lexer": "ipython3",
   "version": "3.6.4"
  }
 },
 "nbformat": 4,
 "nbformat_minor": 2
}
