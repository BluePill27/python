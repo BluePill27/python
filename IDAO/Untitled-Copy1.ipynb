{
 "cells": [
  {
   "cell_type": "code",
   "execution_count": null,
   "metadata": {
    "collapsed": true
   },
   "outputs": [],
   "source": []
  },
  {
   "cell_type": "code",
   "execution_count": 36,
   "metadata": {
    "ExecuteTime": {
     "end_time": "2018-04-03T16:08:22.830745Z",
     "start_time": "2018-04-03T15:57:06.882562Z"
    },
    "scrolled": true
   },
   "outputs": [
    {
     "name": "stdout",
     "output_type": "stream",
     "text": [
      "(151500, 9)\n"
     ]
    },
    {
     "name": "stderr",
     "output_type": "stream",
     "text": [
      "/home/denis/anaconda3/lib/python3.6/site-packages/ipykernel_launcher.py:208: RuntimeWarning: invalid value encountered in log1p\n"
     ]
    },
    {
     "name": "stdout",
     "output_type": "stream",
     "text": [
      "0 Best model is rf\n",
      "loss: 2369.9454277389195\n",
      "val score: 2369.9454277389195 + 0.0\n",
      "{'mean_all': 2464.790085019074, 'mean_3': 3064.4135104028683, 'median_all': 2489.815740009643, 'median_3': 3204.216248698581, 'rf': 2369.9454277389195, 'rf_mean': 3242.9613618460103, 'ar': 2861.567638153841}\n",
      "-------------------------------\n"
     ]
    },
    {
     "name": "stderr",
     "output_type": "stream",
     "text": [
      "/home/denis/anaconda3/lib/python3.6/site-packages/ipykernel_launcher.py:208: RuntimeWarning: invalid value encountered in log1p\n"
     ]
    },
    {
     "name": "stdout",
     "output_type": "stream",
     "text": [
      "2 Best model is ar\n",
      "loss: 6944.011621989131\n",
      "val score: 4656.9785248640255 + 2287.0330971251055\n",
      "{'mean_all': 9961.938433342191, 'mean_3': 7009.599311471946, 'median_all': 9638.522771760407, 'median_3': 6963.330288398799, 'rf': 10589.716821088346, 'rf_mean': 9223.257023641321, 'ar': 6944.011621989131}\n",
      "-------------------------------\n"
     ]
    },
    {
     "name": "stderr",
     "output_type": "stream",
     "text": [
      "/home/denis/anaconda3/lib/python3.6/site-packages/ipykernel_launcher.py:208: RuntimeWarning: invalid value encountered in log1p\n"
     ]
    },
    {
     "name": "stdout",
     "output_type": "stream",
     "text": [
      "3 Best model is mean_all\n",
      "loss: 3073.31281474229\n",
      "val score: 4129.089954823447 + 2011.0560102400782\n",
      "{'mean_all': 3073.31281474229, 'mean_3': 3572.874427048195, 'median_all': 3521.511920411575, 'median_3': 4495.918334225944, 'rf': 3571.5955012415407, 'rf_mean': 6853.247156695668, 'ar': 4530.521131128746}\n",
      "-------------------------------\n"
     ]
    },
    {
     "name": "stderr",
     "output_type": "stream",
     "text": [
      "/home/denis/anaconda3/lib/python3.6/site-packages/ipykernel_launcher.py:208: RuntimeWarning: invalid value encountered in log1p\n"
     ]
    },
    {
     "name": "stdout",
     "output_type": "stream",
     "text": [
      "4 Best model is median_all\n",
      "loss: 2217.8763414963105\n",
      "val score: 3651.286551491663 + 1928.249979631366\n",
      "{'mean_all': 2899.7572236581227, 'mean_3': 2244.671555706025, 'median_all': 2217.8763414963105, 'median_3': 2807.5888068951785, 'rf': 2417.7119259102265, 'rf_mean': 2865.399890078677, 'ar': 3945.6763063136486}\n",
      "-------------------------------\n"
     ]
    },
    {
     "name": "stderr",
     "output_type": "stream",
     "text": [
      "/home/denis/anaconda3/lib/python3.6/site-packages/ipykernel_launcher.py:208: RuntimeWarning: invalid value encountered in log1p\n"
     ]
    },
    {
     "name": "stdout",
     "output_type": "stream",
     "text": [
      "5 Best model is median_3\n",
      "loss: 3332.5414314854715\n",
      "val score: 3587.5375274904245 + 1729.3854802799553\n",
      "{'mean_all': 5503.8453882393205, 'mean_3': 3392.7304093040275, 'median_all': 4875.562182044581, 'median_3': 3332.5414314854715, 'rf': 4873.235629029483, 'rf_mean': 7307.790759533356, 'ar': 3688.374624009889}\n",
      "-------------------------------\n"
     ]
    },
    {
     "name": "stderr",
     "output_type": "stream",
     "text": [
      "/home/denis/anaconda3/lib/python3.6/site-packages/ipykernel_launcher.py:208: RuntimeWarning: invalid value encountered in log1p\n"
     ]
    },
    {
     "name": "stdout",
     "output_type": "stream",
     "text": [
      "6 Best model is median_3\n",
      "loss: 1694.6558318427683\n",
      "val score: 3272.057244882482 + 1729.147427609306\n",
      "{'mean_all': 2000.244985500369, 'mean_3': 1744.7337781899412, 'median_all': 1852.536230585317, 'median_3': 1694.6558318427683, 'rf': 1902.6120432867226, 'rf_mean': 2419.43514307821, 'ar': 2128.5570561037875}\n",
      "-------------------------------\n"
     ]
    },
    {
     "name": "stderr",
     "output_type": "stream",
     "text": [
      "/home/denis/anaconda3/lib/python3.6/site-packages/ipykernel_launcher.py:208: RuntimeWarning: invalid value encountered in log1p\n"
     ]
    },
    {
     "name": "stdout",
     "output_type": "stream",
     "text": [
      "7 Best model is ar\n",
      "loss: 4460.820360981015\n",
      "val score: 3441.880547182272 + 1654.0419335941679\n",
      "{'mean_all': 5763.931904570073, 'mean_3': 5998.443198238491, 'median_all': 6066.710245647836, 'median_3': 5828.287346040047, 'rf': 6178.52473680589, 'rf_mean': 8355.447729967858, 'ar': 4460.820360981015}\n",
      "-------------------------------\n"
     ]
    },
    {
     "name": "stderr",
     "output_type": "stream",
     "text": [
      "/home/denis/anaconda3/lib/python3.6/site-packages/ipykernel_launcher.py:208: RuntimeWarning: invalid value encountered in log1p\n"
     ]
    },
    {
     "name": "stdout",
     "output_type": "stream",
     "text": [
      "8 Best model is mean_3\n",
      "loss: 4288.489563878797\n",
      "val score: 3547.706674269338 + 1572.3444478061022\n",
      "{'mean_all': 4771.82020296308, 'mean_3': 4288.489563878797, 'median_all': 4914.428333729498, 'median_3': 4802.709769431899, 'rf': 5383.408604706442, 'rf_mean': 5692.25198840931, 'ar': 7304.43727088147}\n",
      "-------------------------------\n"
     ]
    },
    {
     "name": "stderr",
     "output_type": "stream",
     "text": [
      "/home/denis/anaconda3/lib/python3.6/site-packages/ipykernel_launcher.py:208: RuntimeWarning: invalid value encountered in log1p\n"
     ]
    },
    {
     "name": "stdout",
     "output_type": "stream",
     "text": [
      "9 Best model is median_all\n",
      "loss: 2611.9017048291603\n",
      "val score: 3443.7283443315405 + 1511.3115717935002\n",
      "{'mean_all': 2672.0836841924397, 'mean_3': 2701.302271746847, 'median_all': 2611.9017048291603, 'median_3': 2689.1183393965334, 'rf': 4015.9248163207076, 'rf_mean': 5408.778270421612, 'ar': 5413.951509591027}\n",
      "-------------------------------\n"
     ]
    },
    {
     "name": "stderr",
     "output_type": "stream",
     "text": [
      "/home/denis/anaconda3/lib/python3.6/site-packages/ipykernel_launcher.py:208: RuntimeWarning: invalid value encountered in log1p\n"
     ]
    },
    {
     "name": "stdout",
     "output_type": "stream",
     "text": [
      "10 Best model is rf\n",
      "loss: 6069.396735273243\n",
      "val score: 3706.295183425711 + 1635.887681126177\n",
      "{'mean_all': 6325.512879168029, 'mean_3': 6395.834178241916, 'median_all': 6592.689850958126, 'median_3': 7002.90986515259, 'rf': 6069.396735273243, 'rf_mean': 6212.8365344487, 'ar': 6363.68873283633}\n",
      "-------------------------------\n"
     ]
    },
    {
     "name": "stderr",
     "output_type": "stream",
     "text": [
      "/home/denis/anaconda3/lib/python3.6/site-packages/ipykernel_launcher.py:208: RuntimeWarning: invalid value encountered in log1p\n"
     ]
    },
    {
     "name": "stdout",
     "output_type": "stream",
     "text": [
      "11 Best model is mean_all\n",
      "loss: 3031.945383586191\n",
      "val score: 3644.990656167573 + 1571.7590611524063\n",
      "{'mean_all': 3031.945383586191, 'mean_3': 3236.7814829849585, 'median_all': 3333.9544417012157, 'median_3': 3251.7352215027718, 'rf': 3281.967671309452, 'rf_mean': 5855.851136953145, 'ar': 5204.582164966172}\n",
      "-------------------------------\n"
     ]
    },
    {
     "name": "stderr",
     "output_type": "stream",
     "text": [
      "/home/denis/anaconda3/lib/python3.6/site-packages/ipykernel_launcher.py:208: RuntimeWarning: invalid value encountered in log1p\n"
     ]
    },
    {
     "name": "stdout",
     "output_type": "stream",
     "text": [
      "14 Best model is median_3\n",
      "loss: 4931.591864368529\n",
      "val score: 3752.207423517653 + 1546.2882831691338\n",
      "{'mean_all': 5678.627934495209, 'mean_3': 5173.4060602152795, 'median_all': 5261.784535529916, 'median_3': 4931.591864368529, 'rf': 5444.977291319924, 'rf_mean': 6234.39652021491, 'ar': 5275.117886891235}\n",
      "-------------------------------\n"
     ]
    },
    {
     "name": "stderr",
     "output_type": "stream",
     "text": [
      "/home/denis/anaconda3/lib/python3.6/site-packages/ipykernel_launcher.py:208: RuntimeWarning: invalid value encountered in log1p\n"
     ]
    },
    {
     "name": "stdout",
     "output_type": "stream",
     "text": [
      "17 Best model is ar\n",
      "loss: 1808.6331455268687\n",
      "val score: 3602.701709826054 + 1573.310937298926\n",
      "{'mean_all': 7391.809367265696, 'mean_3': 2940.898443580583, 'median_all': 9726.718568278626, 'median_3': 2261.416459072448, 'rf': 9793.758965685502, 'rf_mean': 9618.770997695337, 'ar': 1808.6331455268687}\n",
      "-------------------------------\n"
     ]
    },
    {
     "name": "stderr",
     "output_type": "stream",
     "text": [
      "/home/denis/anaconda3/lib/python3.6/site-packages/ipykernel_launcher.py:208: RuntimeWarning: invalid value encountered in log1p\n"
     ]
    },
    {
     "name": "stdout",
     "output_type": "stream",
     "text": [
      "18 Best model is ar\n",
      "loss: 1728.5956181307574\n",
      "val score: 3468.8369889906753 + 1591.0551737911512\n",
      "{'mean_all': 8662.635630839846, 'mean_3': 7019.7369501970325, 'median_all': 9281.278199479802, 'median_3': 9779.579595519932, 'rf': 8638.61669940018, 'rf_mean': 8839.769631435369, 'ar': 1728.5956181307574}\n",
      "-------------------------------\n"
     ]
    },
    {
     "name": "stderr",
     "output_type": "stream",
     "text": [
      "/home/denis/anaconda3/lib/python3.6/site-packages/ipykernel_launcher.py:208: RuntimeWarning: invalid value encountered in log1p\n"
     ]
    },
    {
     "name": "stdout",
     "output_type": "stream",
     "text": [
      "19 Best model is median_3\n",
      "loss: 1914.0851074978148\n",
      "val score: 3365.186863557818 + 1585.2758983877886\n",
      "{'mean_all': 2016.9336163939295, 'mean_3': 1917.9807244867418, 'median_all': 2009.3410087432032, 'median_3': 1914.0851074978148, 'rf': 1973.4536248210752, 'rf_mean': 2305.518413853381, 'ar': 3740.4771648885453}\n",
      "-------------------------------\n"
     ]
    },
    {
     "name": "stderr",
     "output_type": "stream",
     "text": [
      "/home/denis/anaconda3/lib/python3.6/site-packages/ipykernel_launcher.py:208: RuntimeWarning: invalid value encountered in log1p\n"
     ]
    },
    {
     "name": "stdout",
     "output_type": "stream",
     "text": [
      "21 Best model is ar\n",
      "loss: 4823.411294225697\n",
      "val score: 3456.3258904745603 + 1575.0002469185824\n",
      "{'mean_all': 5877.465065963549, 'mean_3': 5985.423346676833, 'median_all': 6006.70569384691, 'median_3': 5926.842961860183, 'rf': 7542.1644945181115, 'rf_mean': 6060.648322437968, 'ar': 4823.411294225697}\n",
      "-------------------------------\n"
     ]
    },
    {
     "name": "stderr",
     "output_type": "stream",
     "text": [
      "/home/denis/anaconda3/lib/python3.6/site-packages/ipykernel_launcher.py:208: RuntimeWarning: invalid value encountered in log1p\n"
     ]
    },
    {
     "name": "stdout",
     "output_type": "stream",
     "text": [
      "22 Best model is ar\n",
      "loss: 5980.415425270449\n",
      "val score: 3604.8017454625538 + 1639.3376365546615\n",
      "{'mean_all': 8645.841692047246, 'mean_3': 9005.054918653836, 'median_all': 8828.324574848551, 'median_3': 10346.553171301364, 'rf': 8383.530399240932, 'rf_mean': 9000.745748755226, 'ar': 5980.415425270449}\n",
      "-------------------------------\n"
     ]
    },
    {
     "name": "stderr",
     "output_type": "stream",
     "text": [
      "/home/denis/anaconda3/lib/python3.6/site-packages/ipykernel_launcher.py:208: RuntimeWarning: invalid value encountered in log1p\n"
     ]
    },
    {
     "name": "stdout",
     "output_type": "stream",
     "text": [
      "23 Best model is median_all\n",
      "loss: 6487.774873135476\n",
      "val score: 3764.9669192221604 + 1724.5942555918086\n",
      "{'mean_all': 7796.92169899537, 'mean_3': 7776.690977790469, 'median_all': 6487.774873135476, 'median_3': 6884.514839304936, 'rf': 6519.913885898816, 'rf_mean': 7469.048358902342, 'ar': 12922.87966176325}\n",
      "-------------------------------\n"
     ]
    },
    {
     "name": "stderr",
     "output_type": "stream",
     "text": [
      "/home/denis/anaconda3/lib/python3.6/site-packages/ipykernel_launcher.py:208: RuntimeWarning: invalid value encountered in log1p\n"
     ]
    },
    {
     "name": "stdout",
     "output_type": "stream",
     "text": [
      "24 Best model is median_3\n",
      "loss: 1614.0868056154143\n",
      "val score: 3651.762702716542 + 1745.9555188253219\n",
      "{'mean_all': 4848.024262260195, 'mean_3': 2161.802413830186, 'median_all': 4297.383649099821, 'median_3': 1614.0868056154143, 'rf': 9243.338447658616, 'rf_mean': 9992.764582642263, 'ar': 2086.8854524745684}\n",
      "-------------------------------\n"
     ]
    },
    {
     "name": "stderr",
     "output_type": "stream",
     "text": [
      "/home/denis/anaconda3/lib/python3.6/site-packages/ipykernel_launcher.py:208: RuntimeWarning: invalid value encountered in log1p\n"
     ]
    },
    {
     "name": "stdout",
     "output_type": "stream",
     "text": [
      "25 Best model is mean_all\n",
      "loss: 1874.9476062727226\n",
      "val score: 3562.921947894351 + 1745.2517167047638\n",
      "{'mean_all': 1874.9476062727226, 'mean_3': 2125.1383183075354, 'median_all': 2005.7416032133265, 'median_3': 2068.517286414825, 'rf': 1985.4734974495454, 'rf_mean': 5424.838944662858, 'ar': 3899.0194503119997}\n",
      "-------------------------------\n"
     ]
    },
    {
     "name": "stderr",
     "output_type": "stream",
     "text": [
      "/home/denis/anaconda3/lib/python3.6/site-packages/ipykernel_launcher.py:208: RuntimeWarning: invalid value encountered in log1p\n"
     ]
    },
    {
     "name": "stdout",
     "output_type": "stream",
     "text": [
      "26 Best model is median_3\n",
      "loss: 2272.5151112044623\n",
      "val score: 3501.47400329007 + 1725.2181097386829\n",
      "{'mean_all': 2359.850689628562, 'mean_3': 2297.4720752498533, 'median_all': 2296.61135615767, 'median_3': 2272.5151112044623, 'rf': 2293.414082008915, 'rf_mean': 4693.622319221781, 'ar': 4781.734802363361}\n",
      "-------------------------------\n"
     ]
    },
    {
     "name": "stderr",
     "output_type": "stream",
     "text": [
      "/home/denis/anaconda3/lib/python3.6/site-packages/ipykernel_launcher.py:208: RuntimeWarning: invalid value encountered in log1p\n"
     ]
    },
    {
     "name": "stdout",
     "output_type": "stream",
     "text": [
      "27 Best model is rf\n",
      "loss: 1289.5042185350328\n",
      "val score: 3400.929922164841 + 1747.3920555653121\n",
      "{'mean_all': 1389.9120089254286, 'mean_3': 1571.2849147018453, 'median_all': 1292.8691010956588, 'median_3': 1755.0846193373004, 'rf': 1289.5042185350328, 'rf_mean': 1554.757638463885, 'ar': 2995.9769072585323}\n",
      "-------------------------------\n"
     ]
    },
    {
     "name": "stderr",
     "output_type": "stream",
     "text": [
      "/home/denis/anaconda3/lib/python3.6/site-packages/ipykernel_launcher.py:208: RuntimeWarning: invalid value encountered in log1p\n"
     ]
    },
    {
     "name": "stdout",
     "output_type": "stream",
     "text": [
      "28 Best model is rf\n",
      "loss: 2253.5163071694906\n",
      "val score: 3351.042373686782 + 1724.9279034750248\n",
      "{'mean_all': 2263.008966240711, 'mean_3': 2289.538929981772, 'median_all': 2272.8559966016896, 'median_3': 2325.954594798697, 'rf': 2253.5163071694906, 'rf_mean': 3800.6930256381374, 'ar': 4073.9515776921144}\n",
      "-------------------------------\n"
     ]
    },
    {
     "name": "stderr",
     "output_type": "stream",
     "text": [
      "/home/denis/anaconda3/lib/python3.6/site-packages/ipykernel_launcher.py:208: RuntimeWarning: invalid value encountered in log1p\n"
     ]
    },
    {
     "name": "stdout",
     "output_type": "stream",
     "text": [
      "29 Best model is mean_3\n",
      "loss: 2815.2923810170646\n",
      "val score: 3328.719457325545 + 1691.999837626369\n",
      "{'mean_all': 3460.3728232237577, 'mean_3': 2815.2923810170646, 'median_all': 3653.641529510312, 'median_3': 3012.157297774558, 'rf': 3491.9517330375133, 'rf_mean': 5200.434553244145, 'ar': 3617.368341225538}\n",
      "-------------------------------\n"
     ]
    },
    {
     "name": "stderr",
     "output_type": "stream",
     "text": [
      "/home/denis/anaconda3/lib/python3.6/site-packages/ipykernel_launcher.py:208: RuntimeWarning: invalid value encountered in log1p\n"
     ]
    },
    {
     "name": "stdout",
     "output_type": "stream",
     "text": [
      "30 Best model is mean_3\n",
      "loss: 1560.329398894414\n",
      "val score: 3257.9838549883 + 1693.6450404434993\n",
      "{'mean_all': 1972.9487945284222, 'mean_3': 1560.329398894414, 'median_all': 2025.1958904283556, 'median_3': 1832.670840582655, 'rf': 2084.756740281676, 'rf_mean': 3584.720204424847, 'ar': 4359.973129582949}\n",
      "-------------------------------\n"
     ]
    },
    {
     "name": "stderr",
     "output_type": "stream",
     "text": [
      "/home/denis/anaconda3/lib/python3.6/site-packages/ipykernel_launcher.py:208: RuntimeWarning: invalid value encountered in log1p\n"
     ]
    },
    {
     "name": "stdout",
     "output_type": "stream",
     "text": [
      "31 Best model is rf\n",
      "loss: 5272.596986557533\n",
      "val score: 3335.4689754332703 + 1705.3468134101627\n",
      "{'mean_all': 5565.354273535106, 'mean_3': 5660.030648270406, 'median_all': 5810.763170398982, 'median_3': 6026.425100780184, 'rf': 5272.596986557533, 'rf_mean': 5391.648496466009, 'ar': 5501.014048435686}\n",
      "-------------------------------\n"
     ]
    },
    {
     "name": "stderr",
     "output_type": "stream",
     "text": [
      "/home/denis/anaconda3/lib/python3.6/site-packages/ipykernel_launcher.py:208: RuntimeWarning: invalid value encountered in log1p\n"
     ]
    },
    {
     "name": "stdout",
     "output_type": "stream",
     "text": [
      "32 Best model is median_3\n",
      "loss: 1262.0384753256064\n",
      "val score: 3258.675253207061 + 1718.6696965440624\n",
      "{'mean_all': 3913.8768461255518, 'mean_3': 1867.3210089388845, 'median_all': 3044.569243637233, 'median_3': 1262.0384753256064, 'rf': 2764.798661727805, 'rf_mean': 3774.0172379613236, 'ar': 3133.6208554699106}\n",
      "-------------------------------\n"
     ]
    },
    {
     "name": "stderr",
     "output_type": "stream",
     "text": [
      "/home/denis/anaconda3/lib/python3.6/site-packages/ipykernel_launcher.py:208: RuntimeWarning: invalid value encountered in log1p\n"
     ]
    },
    {
     "name": "stdout",
     "output_type": "stream",
     "text": [
      "33 Best model is ar\n",
      "loss: 9163.358673837098\n",
      "val score: 3469.5568039438476 + 2012.2250184685408\n",
      "{'mean_all': 19754.398773324774, 'mean_3': 18556.567548894556, 'median_all': 17895.089285714286, 'median_3': 14231.58482142857, 'rf': 17536.941964285714, 'rf_mean': 17803.539036914302, 'ar': 9163.358673837098}\n",
      "-------------------------------\n"
     ]
    },
    {
     "name": "stderr",
     "output_type": "stream",
     "text": [
      "/home/denis/anaconda3/lib/python3.6/site-packages/ipykernel_launcher.py:208: RuntimeWarning: invalid value encountered in log1p\n"
     ]
    },
    {
     "name": "stdout",
     "output_type": "stream",
     "text": [
      "34 Best model is mean_3\n",
      "loss: 4525.79365079365\n",
      "val score: 3505.9787641800476 + 1986.5977913979348\n",
      "{'mean_all': 5017.129691914934, 'mean_3': 4525.79365079365, 'median_all': 4622.166246851385, 'median_3': 4551.497341169886, 'rf': 4699.552197033306, 'rf_mean': 5149.310709944923, 'ar': 6650.062473309308}\n",
      "-------------------------------\n"
     ]
    },
    {
     "name": "stderr",
     "output_type": "stream",
     "text": [
      "/home/denis/anaconda3/lib/python3.6/site-packages/ipykernel_launcher.py:208: RuntimeWarning: invalid value encountered in log1p\n"
     ]
    },
    {
     "name": "stdout",
     "output_type": "stream",
     "text": [
      "35 Best model is mean_all\n",
      "loss: 2002.282409170424\n",
      "val score: 3455.855552346394 + 1971.7698090460171\n",
      "{'mean_all': 2002.282409170424, 'mean_3': 2269.9268742496547, 'median_all': 2472.1507843531426, 'median_3': 2535.6476892256287, 'rf': 2488.6280925280225, 'rf_mean': 2650.36365963815, 'ar': 2873.698045267803}\n",
      "-------------------------------\n"
     ]
    },
    {
     "name": "stderr",
     "output_type": "stream",
     "text": [
      "/home/denis/anaconda3/lib/python3.6/site-packages/ipykernel_launcher.py:208: RuntimeWarning: invalid value encountered in log1p\n"
     ]
    },
    {
     "name": "stdout",
     "output_type": "stream",
     "text": [
      "36 Best model is median_all\n",
      "loss: 2442.4215417913297\n",
      "val score: 3423.1641326510694 + 1947.9534611677518\n",
      "{'mean_all': 2585.171427764465, 'mean_3': 3093.7478212368396, 'median_all': 2442.4215417913297, 'median_3': 2947.4186771914187, 'rf': 2711.9994907377936, 'rf_mean': 3942.34814670179, 'ar': 3610.939533682371}\n",
      "-------------------------------\n"
     ]
    },
    {
     "name": "stderr",
     "output_type": "stream",
     "text": [
      "/home/denis/anaconda3/lib/python3.6/site-packages/ipykernel_launcher.py:208: RuntimeWarning: invalid value encountered in log1p\n"
     ]
    },
    {
     "name": "stdout",
     "output_type": "stream",
     "text": [
      "38 Best model is mean_all\n",
      "loss: 1487.9844005655143\n",
      "val score: 3362.6897660233954 + 1946.616416374868\n",
      "{'mean_all': 1487.9844005655143, 'mean_3': 1840.9147189512896, 'median_all': 1533.5171901206315, 'median_3': 1795.6598062658002, 'rf': 1817.0673864464297, 'rf_mean': 1790.8142859645002, 'ar': 2251.82075147664}\n",
      "-------------------------------\n"
     ]
    },
    {
     "name": "stderr",
     "output_type": "stream",
     "text": [
      "/home/denis/anaconda3/lib/python3.6/site-packages/ipykernel_launcher.py:208: RuntimeWarning: invalid value encountered in log1p\n"
     ]
    },
    {
     "name": "stdout",
     "output_type": "stream",
     "text": [
      "40 Best model is mean_all\n",
      "loss: 3527.7261098626873\n",
      "val score: 3367.6908673518587 + 1917.104087777485\n",
      "{'mean_all': 3527.7261098626873, 'mean_3': 3780.1488664299372, 'median_all': 3552.99098606938, 'median_3': 4271.373941546026, 'rf': 3647.7738322862606, 'rf_mean': 6057.422206830387, 'ar': 4855.102714955629}\n",
      "-------------------------------\n"
     ]
    },
    {
     "name": "stderr",
     "output_type": "stream",
     "text": [
      "/home/denis/anaconda3/lib/python3.6/site-packages/ipykernel_launcher.py:208: RuntimeWarning: invalid value encountered in log1p\n"
     ]
    },
    {
     "name": "stdout",
     "output_type": "stream",
     "text": [
      "41 Best model is median_3\n",
      "loss: 1478.826828592076\n",
      "val score: 3312.1360426824535 + 1915.4739745014115\n",
      "{'mean_all': 2183.491116647445, 'mean_3': 1587.5450637488234, 'median_all': 2323.8674841718216, 'median_3': 1478.826828592076, 'rf': 2446.4750771524277, 'rf_mean': 2245.602959416889, 'ar': 1987.3370793256404}\n",
      "-------------------------------\n"
     ]
    },
    {
     "name": "stderr",
     "output_type": "stream",
     "text": [
      "/home/denis/anaconda3/lib/python3.6/site-packages/ipykernel_launcher.py:208: RuntimeWarning: invalid value encountered in log1p\n"
     ]
    },
    {
     "name": "stdout",
     "output_type": "stream",
     "text": [
      "43 Best model is ar\n",
      "loss: 5711.155470492218\n",
      "val score: 3380.67945490559 + 1929.7537654557527\n",
      "{'mean_all': 6545.231524059297, 'mean_3': 6442.096251593188, 'median_all': 6412.850693324734, 'median_3': 6896.565623992261, 'rf': 6351.821992905514, 'rf_mean': 9116.889250452452, 'ar': 5711.155470492218}\n",
      "-------------------------------\n"
     ]
    },
    {
     "name": "stderr",
     "output_type": "stream",
     "text": [
      "/home/denis/anaconda3/lib/python3.6/site-packages/ipykernel_launcher.py:208: RuntimeWarning: invalid value encountered in log1p\n"
     ]
    },
    {
     "name": "stdout",
     "output_type": "stream",
     "text": [
      "44 Best model is ar\n",
      "loss: 6620.868656359285\n",
      "val score: 3470.6847105015254 + 1975.8642823327134\n",
      "{'mean_all': 6864.528521692857, 'mean_3': 7018.150440994698, 'median_all': 6720.193576770787, 'median_3': 7107.347118345799, 'rf': 6892.212934447866, 'rf_mean': 7534.05654424997, 'ar': 6620.868656359285}\n",
      "-------------------------------\n"
     ]
    },
    {
     "name": "stderr",
     "output_type": "stream",
     "text": [
      "/home/denis/anaconda3/lib/python3.6/site-packages/ipykernel_launcher.py:208: RuntimeWarning: invalid value encountered in log1p\n"
     ]
    },
    {
     "name": "stdout",
     "output_type": "stream",
     "text": [
      "45 Best model is median_all\n",
      "loss: 3506.9285823054665\n",
      "val score: 3471.664274604335 + 1948.9893843690602\n",
      "{'mean_all': 3669.8337394175123, 'mean_3': 4133.607249813281, 'median_all': 3506.9285823054665, 'median_3': 3931.5263184609917, 'rf': 3527.5366732653165, 'rf_mean': 5666.700811665864, 'ar': 5178.59915192769}\n",
      "-------------------------------\n"
     ]
    },
    {
     "name": "stderr",
     "output_type": "stream",
     "text": [
      "/home/denis/anaconda3/lib/python3.6/site-packages/ipykernel_launcher.py:208: RuntimeWarning: invalid value encountered in log1p\n"
     ]
    },
    {
     "name": "stdout",
     "output_type": "stream",
     "text": [
      "47 Best model is median_all\n",
      "loss: 3379.0069138906347\n",
      "val score: 3469.225923006606 + 1923.2310081670034\n",
      "{'mean_all': 3621.6389055172526, 'mean_3': 3863.8188021908945, 'median_all': 3379.0069138906347, 'median_3': 4246.385920804525, 'rf': 3386.800754242615, 'rf_mean': 3816.8179297546326, 'ar': 6236.949144818135}\n",
      "-------------------------------\n"
     ]
    },
    {
     "name": "stderr",
     "output_type": "stream",
     "text": [
      "/home/denis/anaconda3/lib/python3.6/site-packages/ipykernel_launcher.py:208: RuntimeWarning: invalid value encountered in log1p\n"
     ]
    },
    {
     "name": "stdout",
     "output_type": "stream",
     "text": [
      "48 Best model is median_3\n",
      "loss: 3748.9694802915656\n",
      "val score: 3476.3988347318614 + 1898.9289510983042\n",
      "{'mean_all': 6863.951620208929, 'mean_3': 4239.1524803798, 'median_all': 8483.483115801846, 'median_3': 3748.9694802915656, 'rf': 8760.707201802286, 'rf_mean': 9999.802939818064, 'ar': 4166.779419393165}\n",
      "-------------------------------\n"
     ]
    },
    {
     "name": "stderr",
     "output_type": "stream",
     "text": [
      "/home/denis/anaconda3/lib/python3.6/site-packages/ipykernel_launcher.py:208: RuntimeWarning: invalid value encountered in log1p\n"
     ]
    },
    {
     "name": "stdout",
     "output_type": "stream",
     "text": [
      "49 Best model is median_all\n",
      "loss: 4916.078326894898\n",
      "val score: 3512.390822035937 + 1888.466146146151\n",
      "{'mean_all': 5317.098365516352, 'mean_3': 5525.369972152976, 'median_all': 4916.078326894898, 'median_3': 5816.571200213134, 'rf': 5076.461968829093, 'rf_mean': 6588.106946246442, 'ar': 7635.823777068216}\n",
      "-------------------------------\n"
     ]
    },
    {
     "name": "stderr",
     "output_type": "stream",
     "text": [
      "/home/denis/anaconda3/lib/python3.6/site-packages/ipykernel_launcher.py:208: RuntimeWarning: invalid value encountered in log1p\n"
     ]
    },
    {
     "name": "stdout",
     "output_type": "stream",
     "text": [
      "50 Best model is mean_all\n",
      "loss: 1769.4036825759092\n",
      "val score: 3469.878940585693 + 1884.5720346895146\n",
      "{'mean_all': 1769.4036825759092, 'mean_3': 2109.041275090695, 'median_all': 1841.683571708631, 'median_3': 2259.337549649682, 'rf': 1824.602376365899, 'rf_mean': 4833.765470935813, 'ar': 3113.521971776847}\n",
      "-------------------------------\n"
     ]
    },
    {
     "name": "stderr",
     "output_type": "stream",
     "text": [
      "/home/denis/anaconda3/lib/python3.6/site-packages/ipykernel_launcher.py:208: RuntimeWarning: invalid value encountered in log1p\n"
     ]
    },
    {
     "name": "stdout",
     "output_type": "stream",
     "text": [
      "51 Best model is mean_3\n",
      "loss: 1354.6484572684394\n",
      "val score: 3419.5163100305194 + 1889.720017920701\n",
      "{'mean_all': 1688.929124291201, 'mean_3': 1354.6484572684394, 'median_all': 1600.540685926304, 'median_3': 1395.5765822304675, 'rf': 1847.9941517644706, 'rf_mean': 1444.78745551366, 'ar': 2787.3037472699025}\n",
      "-------------------------------\n"
     ]
    },
    {
     "name": "stderr",
     "output_type": "stream",
     "text": [
      "/home/denis/anaconda3/lib/python3.6/site-packages/ipykernel_launcher.py:208: RuntimeWarning: invalid value encountered in log1p\n"
     ]
    },
    {
     "name": "stdout",
     "output_type": "stream",
     "text": [
      "52 Best model is mean_3\n",
      "loss: 3115.2119797320433\n",
      "val score: 3412.439465139857 + 1868.1803169056093\n",
      "{'mean_all': 3951.5794059153545, 'mean_3': 3115.2119797320433, 'median_all': 3153.066151617576, 'median_3': 3511.7792065872068, 'rf': 7331.749218531601, 'rf_mean': 5259.2727897398945, 'ar': 5534.196859557686}\n",
      "-------------------------------\n"
     ]
    },
    {
     "name": "stderr",
     "output_type": "stream",
     "text": [
      "/home/denis/anaconda3/lib/python3.6/site-packages/ipykernel_launcher.py:208: RuntimeWarning: invalid value encountered in log1p\n"
     ]
    },
    {
     "name": "stdout",
     "output_type": "stream",
     "text": [
      "53 Best model is median_3\n",
      "loss: 5218.083670715249\n",
      "val score: 3453.476833448389 + 1866.3311911291726\n",
      "{'mean_all': 5476.810033463434, 'mean_3': 5295.806503438083, 'median_all': 5451.821862348178, 'median_3': 5218.083670715249, 'rf': 5518.596491228071, 'rf_mean': 8919.904790299459, 'ar': 5710.999209634248}\n",
      "-------------------------------\n"
     ]
    },
    {
     "name": "stderr",
     "output_type": "stream",
     "text": [
      "/home/denis/anaconda3/lib/python3.6/site-packages/ipykernel_launcher.py:208: RuntimeWarning: invalid value encountered in log1p\n"
     ]
    },
    {
     "name": "stdout",
     "output_type": "stream",
     "text": [
      "54 Best model is mean_3\n",
      "loss: 2075.978537754621\n",
      "val score: 3422.8657602107496 + 1856.6145289664378\n",
      "{'mean_all': 2152.844102511407, 'mean_3': 2075.978537754621, 'median_all': 2157.97686198914, 'median_3': 2178.0083542854863, 'rf': 2088.514423528675, 'rf_mean': 3296.72018944457, 'ar': 3017.744755499675}\n",
      "-------------------------------\n"
     ]
    },
    {
     "name": "stderr",
     "output_type": "stream",
     "text": [
      "/home/denis/anaconda3/lib/python3.6/site-packages/ipykernel_launcher.py:208: RuntimeWarning: invalid value encountered in log1p\n"
     ]
    },
    {
     "name": "stdout",
     "output_type": "stream",
     "text": [
      "55 Best model is mean_3\n",
      "loss: 2194.485556360447\n",
      "val score: 3396.161842735743 + 1845.0397855627655\n",
      "{'mean_all': 2804.664943506924, 'mean_3': 2194.485556360447, 'median_all': 3071.923996036603, 'median_3': 2526.519787841697, 'rf': 2882.8466515125024, 'rf_mean': 4613.1923137712465, 'ar': 4542.925030772056}\n",
      "-------------------------------\n"
     ]
    },
    {
     "name": "stderr",
     "output_type": "stream",
     "text": [
      "/home/denis/anaconda3/lib/python3.6/site-packages/ipykernel_launcher.py:208: RuntimeWarning: invalid value encountered in log1p\n"
     ]
    },
    {
     "name": "stdout",
     "output_type": "stream",
     "text": [
      "56 Best model is median_all\n",
      "loss: 1670.941930706722\n",
      "val score: 3359.455036096828 + 1842.205891566665\n",
      "{'mean_all': 1713.305525405973, 'mean_3': 1697.79815356806, 'median_all': 1670.941930706722, 'median_3': 1936.9779487043872, 'rf': 1951.36021397728, 'rf_mean': 2179.1655864556737, 'ar': 2118.220767653146}\n",
      "-------------------------------\n"
     ]
    },
    {
     "name": "stderr",
     "output_type": "stream",
     "text": [
      "/home/denis/anaconda3/lib/python3.6/site-packages/ipykernel_launcher.py:208: RuntimeWarning: invalid value encountered in log1p\n"
     ]
    },
    {
     "name": "stdout",
     "output_type": "stream",
     "text": [
      "57 Best model is rf_mean\n",
      "loss: 3398.9180440846244\n",
      "val score: 3360.2771820965736 + 1822.9239595474482\n",
      "{'mean_all': 6192.121581986663, 'mean_3': 5650.474335901351, 'median_all': 5309.303342208798, 'median_3': 5708.063426459485, 'rf': 5322.211183086278, 'rf_mean': 3398.9180440846244, 'ar': 5073.944630504266}\n",
      "-------------------------------\n"
     ]
    },
    {
     "name": "stderr",
     "output_type": "stream",
     "text": [
      "/home/denis/anaconda3/lib/python3.6/site-packages/ipykernel_launcher.py:208: RuntimeWarning: invalid value encountered in log1p\n"
     ]
    },
    {
     "name": "stdout",
     "output_type": "stream",
     "text": [
      "58 Best model is rf\n",
      "loss: 3361.3438170121517\n",
      "val score: 3360.298950156075 + 1804.226815600785\n",
      "{'mean_all': 3511.497787382315, 'mean_3': 3660.1547023384046, 'median_all': 3426.590421729807, 'median_3': 3807.290922087205, 'rf': 3361.3438170121517, 'rf_mean': 6301.623116657909, 'ar': 6417.900677810214}\n",
      "-------------------------------\n"
     ]
    },
    {
     "name": "stderr",
     "output_type": "stream",
     "text": [
      "/home/denis/anaconda3/lib/python3.6/site-packages/ipykernel_launcher.py:208: RuntimeWarning: invalid value encountered in log1p\n"
     ]
    },
    {
     "name": "stdout",
     "output_type": "stream",
     "text": [
      "60 Best model is ar\n",
      "loss: 5785.933575349802\n",
      "val score: 3408.81164265995 + 1818.0897391094559\n",
      "{'mean_all': 15202.11042356155, 'mean_3': 21484.058828102443, 'median_all': 15340.84094089425, 'median_3': 22981.441993736258, 'rf': 13212.400879589524, 'rf_mean': 15358.591725097209, 'ar': 5785.933575349802}\n",
      "-------------------------------\n"
     ]
    },
    {
     "name": "stderr",
     "output_type": "stream",
     "text": [
      "/home/denis/anaconda3/lib/python3.6/site-packages/ipykernel_launcher.py:208: RuntimeWarning: invalid value encountered in log1p\n"
     ]
    },
    {
     "name": "stdout",
     "output_type": "stream",
     "text": [
      "61 Best model is mean_all\n",
      "loss: 2592.1101310504473\n",
      "val score: 3392.797887530352 + 1803.7348935342238\n",
      "{'mean_all': 2592.1101310504473, 'mean_3': 2699.852006538674, 'median_all': 2657.218146855637, 'median_3': 2675.6463214870737, 'rf': 2656.879851862403, 'rf_mean': 2750.8215482669552, 'ar': 4135.7965532947355}\n",
      "-------------------------------\n"
     ]
    },
    {
     "name": "stderr",
     "output_type": "stream",
     "text": [
      "/home/denis/anaconda3/lib/python3.6/site-packages/ipykernel_launcher.py:208: RuntimeWarning: invalid value encountered in log1p\n"
     ]
    },
    {
     "name": "stdout",
     "output_type": "stream",
     "text": [
      "63 Best model is rf_mean\n",
      "loss: 1834.9211252002947\n",
      "val score: 3362.8387190240046 + 1799.0742554691203\n",
      "{'mean_all': 1892.2854724859044, 'mean_3': 2537.2996530017867, 'median_all': 2043.4796460458929, 'median_3': 2073.2280391547793, 'rf': 2110.5429579540114, 'rf_mean': 1834.9211252002947, 'ar': 2500.245922971333}\n",
      "-------------------------------\n"
     ]
    },
    {
     "name": "stderr",
     "output_type": "stream",
     "text": [
      "/home/denis/anaconda3/lib/python3.6/site-packages/ipykernel_launcher.py:208: RuntimeWarning: invalid value encountered in log1p\n"
     ]
    },
    {
     "name": "stdout",
     "output_type": "stream",
     "text": [
      "64 Best model is rf\n",
      "loss: 5184.276885043263\n",
      "val score: 3397.2054768734247 + 1799.1705911766642\n",
      "{'mean_all': 5736.197288698859, 'mean_3': 5594.493790099477, 'median_all': 5615.822002472188, 'median_3': 5765.883807169344, 'rf': 5184.276885043263, 'rf_mean': 8536.072061086134, 'ar': 5873.17881857284}\n",
      "-------------------------------\n"
     ]
    },
    {
     "name": "stderr",
     "output_type": "stream",
     "text": [
      "/home/denis/anaconda3/lib/python3.6/site-packages/ipykernel_launcher.py:208: RuntimeWarning: invalid value encountered in log1p\n"
     ]
    },
    {
     "name": "stdout",
     "output_type": "stream",
     "text": [
      "65 Best model is median_3\n",
      "loss: 1592.9954728370221\n",
      "val score: 3363.7941805023806 + 1798.9538009000044\n",
      "{'mean_all': 2110.038644412748, 'mean_3': 1610.2284278588197, 'median_all': 2273.8776408450703, 'median_3': 1592.9954728370221, 'rf': 2390.043385311871, 'rf_mean': 2168.3714291569427, 'ar': 2976.2688334062664}\n",
      "-------------------------------\n"
     ]
    },
    {
     "name": "stderr",
     "output_type": "stream",
     "text": [
      "/home/denis/anaconda3/lib/python3.6/site-packages/ipykernel_launcher.py:208: RuntimeWarning: invalid value encountered in log1p\n"
     ]
    },
    {
     "name": "stdout",
     "output_type": "stream",
     "text": [
      "66 Best model is ar\n",
      "loss: 5870.752530109841\n",
      "val score: 3409.3752414043342 + 1813.7216802885189\n",
      "{'mean_all': 10085.427857990418, 'mean_3': 8454.479974280026, 'median_all': 11306.478836665801, 'median_3': 9082.543495196052, 'rf': 11753.31082835627, 'rf_mean': 12305.577619430353, 'ar': 5870.752530109841}\n",
      "-------------------------------\n"
     ]
    },
    {
     "name": "stderr",
     "output_type": "stream",
     "text": [
      "/home/denis/anaconda3/lib/python3.6/site-packages/ipykernel_launcher.py:208: RuntimeWarning: invalid value encountered in log1p\n"
     ]
    },
    {
     "name": "stdout",
     "output_type": "stream",
     "text": [
      "67 Best model is mean_3\n",
      "loss: 3414.017337312422\n",
      "val score: 3409.458135974121 + 1797.4548946726197\n",
      "{'mean_all': 4396.971268828022, 'mean_3': 3414.017337312422, 'median_all': 3823.083257487106, 'median_3': 3546.244528236467, 'rf': 3770.7276903740303, 'rf_mean': 6622.028012560178, 'ar': 6224.931458818769}\n",
      "-------------------------------\n"
     ]
    },
    {
     "name": "stderr",
     "output_type": "stream",
     "text": [
      "/home/denis/anaconda3/lib/python3.6/site-packages/ipykernel_launcher.py:208: RuntimeWarning: invalid value encountered in log1p\n"
     ]
    },
    {
     "name": "stdout",
     "output_type": "stream",
     "text": [
      "68 Best model is ar\n",
      "loss: 4280.033668957736\n",
      "val score: 3424.731390938746 + 1785.280334495495\n",
      "{'mean_all': 7854.262092337657, 'mean_3': 8362.22658401308, 'median_all': 8255.851015390219, 'median_3': 7972.634550587378, 'rf': 5197.568527456516, 'rf_mean': 9108.56479869366, 'ar': 4280.033668957736}\n",
      "-------------------------------\n"
     ]
    },
    {
     "name": "stderr",
     "output_type": "stream",
     "text": [
      "/home/denis/anaconda3/lib/python3.6/site-packages/ipykernel_launcher.py:208: RuntimeWarning: invalid value encountered in log1p\n"
     ]
    },
    {
     "name": "stdout",
     "output_type": "stream",
     "text": [
      "69 Best model is mean_3\n",
      "loss: 3268.4208982663727\n",
      "val score: 3422.036382444395 + 1769.940026540865\n",
      "{'mean_all': 3294.6041056318177, 'mean_3': 3268.4208982663727, 'median_all': 3559.2216054387827, 'median_3': 3572.007734048525, 'rf': 3751.1694629825984, 'rf_mean': 3540.3856552600323, 'ar': 5896.149514081464}\n",
      "-------------------------------\n"
     ]
    },
    {
     "name": "stderr",
     "output_type": "stream",
     "text": [
      "/home/denis/anaconda3/lib/python3.6/site-packages/ipykernel_launcher.py:208: RuntimeWarning: invalid value encountered in log1p\n"
     ]
    },
    {
     "name": "stdout",
     "output_type": "stream",
     "text": [
      "70 Best model is median_3\n",
      "loss: 3691.1644800237195\n",
      "val score: 3426.5978756237055 + 1755.220246766629\n",
      "{'mean_all': 4123.688271958808, 'mean_3': 3747.3260392289744, 'median_all': 4417.204061967237, 'median_3': 3691.1644800237195, 'rf': 4278.296642205915, 'rf_mean': 4960.441427698714, 'ar': 4952.45616450809}\n",
      "-------------------------------\n"
     ]
    },
    {
     "name": "stderr",
     "output_type": "stream",
     "text": [
      "/home/denis/anaconda3/lib/python3.6/site-packages/ipykernel_launcher.py:208: RuntimeWarning: invalid value encountered in log1p\n"
     ]
    },
    {
     "name": "stdout",
     "output_type": "stream",
     "text": [
      "71 Best model is median_all\n",
      "loss: 3019.1161241568475\n",
      "val score: 3419.8065130992572 + 1741.3135022466665\n",
      "{'mean_all': 3188.824300633512, 'mean_3': 3124.377922962406, 'median_all': 3019.1161241568475, 'median_3': 3211.256962131602, 'rf': 3053.1780906266617, 'rf_mean': 3614.8600187963516, 'ar': 4227.0110101405535}\n",
      "-------------------------------\n"
     ]
    },
    {
     "name": "stderr",
     "output_type": "stream",
     "text": [
      "/home/denis/anaconda3/lib/python3.6/site-packages/ipykernel_launcher.py:208: RuntimeWarning: invalid value encountered in log1p\n"
     ]
    },
    {
     "name": "stdout",
     "output_type": "stream",
     "text": [
      "72 Best model is median_all\n",
      "loss: 4434.1421713684485\n",
      "val score: 3436.4349665135064 + 1731.7780722391517\n",
      "{'mean_all': 4698.805523090361, 'mean_3': 5017.3706031370275, 'median_all': 4434.1421713684485, 'median_3': 5311.698559873742, 'rf': 4814.822121391465, 'rf_mean': 6664.868354293394, 'ar': 5529.6195901028095}\n",
      "-------------------------------\n"
     ]
    },
    {
     "name": "stderr",
     "output_type": "stream",
     "text": [
      "/home/denis/anaconda3/lib/python3.6/site-packages/ipykernel_launcher.py:208: RuntimeWarning: invalid value encountered in log1p\n"
     ]
    },
    {
     "name": "stdout",
     "output_type": "stream",
     "text": [
      "73 Best model is median_3\n",
      "loss: 5725.384838803369\n",
      "val score: 3473.3535128407625 + 1741.7879190034016\n",
      "{'mean_all': 7396.436585875209, 'mean_3': 6348.345100940946, 'median_all': 6667.634814599671, 'median_3': 5725.384838803369, 'rf': 6606.738309613709, 'rf_mean': 7358.163916564645, 'ar': 8122.881493982161}\n",
      "-------------------------------\n"
     ]
    },
    {
     "name": "stderr",
     "output_type": "stream",
     "text": [
      "/home/denis/anaconda3/lib/python3.6/site-packages/ipykernel_launcher.py:208: RuntimeWarning: invalid value encountered in log1p\n"
     ]
    },
    {
     "name": "stdout",
     "output_type": "stream",
     "text": [
      "74 Best model is mean_3\n",
      "loss: 6786.561292074523\n",
      "val score: 3525.94411251114 + 1776.836236887659\n",
      "{'mean_all': 8353.667227811287, 'mean_3': 6786.561292074523, 'median_all': 7350.084647598681, 'median_3': 6841.753541833735, 'rf': 7479.550922213312, 'rf_mean': 8318.785736528806, 'ar': 10618.549226285833}\n",
      "-------------------------------\n"
     ]
    },
    {
     "name": "stderr",
     "output_type": "stream",
     "text": [
      "/home/denis/anaconda3/lib/python3.6/site-packages/ipykernel_launcher.py:208: RuntimeWarning: invalid value encountered in log1p\n"
     ]
    },
    {
     "name": "stdout",
     "output_type": "stream",
     "text": [
      "76 Best model is median_3\n",
      "loss: 2849.728733236816\n",
      "val score: 3515.3782472099783 + 1764.8936947436284\n",
      "{'mean_all': 5162.358261287327, 'mean_3': 3141.336597408539, 'median_all': 4661.279737900701, 'median_3': 2849.728733236816, 'rf': 4615.677866335369, 'rf_mean': 4199.774959777642, 'ar': 3672.556536400534}\n",
      "-------------------------------\n"
     ]
    },
    {
     "name": "stderr",
     "output_type": "stream",
     "text": [
      "/home/denis/anaconda3/lib/python3.6/site-packages/ipykernel_launcher.py:208: RuntimeWarning: invalid value encountered in log1p\n"
     ]
    },
    {
     "name": "stdout",
     "output_type": "stream",
     "text": [
      "77 Best model is median_all\n",
      "loss: 3991.568458369263\n",
      "val score: 3522.704250458583 + 1752.24538493154\n",
      "{'mean_all': 3992.5696558034206, 'mean_3': 4462.014148382358, 'median_all': 3991.568458369263, 'median_3': 4625.3712752706715, 'rf': 5047.619047619048, 'rf_mean': 4894.538099978644, 'ar': 5223.560727559543}\n",
      "-------------------------------\n"
     ]
    },
    {
     "name": "stderr",
     "output_type": "stream",
     "text": [
      "/home/denis/anaconda3/lib/python3.6/site-packages/ipykernel_launcher.py:208: RuntimeWarning: invalid value encountered in log1p\n"
     ]
    },
    {
     "name": "stdout",
     "output_type": "stream",
     "text": [
      "78 Best model is ar\n",
      "loss: 3780.0932123679904\n",
      "val score: 3526.604083214786 + 1739.2043552262726\n",
      "{'mean_all': 6824.560646127143, 'mean_3': 6640.263321905454, 'median_all': 6959.238760604273, 'median_3': 6528.149525926598, 'rf': 7734.382797259901, 'rf_mean': 7314.063214028656, 'ar': 3780.0932123679904}\n",
      "-------------------------------\n"
     ]
    },
    {
     "name": "stderr",
     "output_type": "stream",
     "text": [
      "/home/denis/anaconda3/lib/python3.6/site-packages/ipykernel_launcher.py:208: RuntimeWarning: invalid value encountered in log1p\n"
     ]
    },
    {
     "name": "stdout",
     "output_type": "stream",
     "text": [
      "79 Best model is mean_3\n",
      "loss: 3321.266323096301\n",
      "val score: 3523.5393405264504 + 1726.3559774467997\n",
      "{'mean_all': 3555.9615335382928, 'mean_3': 3321.266323096301, 'median_all': 3528.4030559359126, 'median_3': 3737.8587973330946, 'rf': 3539.0438043074873, 'rf_mean': 3352.959309379165, 'ar': 3711.915433529716}\n",
      "-------------------------------\n"
     ]
    },
    {
     "name": "stderr",
     "output_type": "stream",
     "text": [
      "/home/denis/anaconda3/lib/python3.6/site-packages/ipykernel_launcher.py:208: RuntimeWarning: invalid value encountered in log1p\n"
     ]
    },
    {
     "name": "stdout",
     "output_type": "stream",
     "text": [
      "80 Best model is rf_mean\n",
      "loss: 1686.307330630426\n",
      "val score: 3496.5212227338616 + 1727.8268197080806\n",
      "{'mean_all': 1988.3830851951006, 'mean_3': 1803.0789218607595, 'median_all': 1783.6928495063203, 'median_3': 1716.165649959122, 'rf': 1910.4091985828984, 'rf_mean': 1686.307330630426, 'ar': 2617.6966127940345}\n",
      "-------------------------------\n"
     ]
    },
    {
     "name": "stderr",
     "output_type": "stream",
     "text": [
      "/home/denis/anaconda3/lib/python3.6/site-packages/ipykernel_launcher.py:208: RuntimeWarning: invalid value encountered in log1p\n"
     ]
    },
    {
     "name": "stdout",
     "output_type": "stream",
     "text": [
      "81 Best model is ar\n",
      "loss: 3003.6796982111096\n",
      "val score: 3489.378591943677 + 1716.2716072871401\n",
      "{'mean_all': 7239.286500468275, 'mean_3': 3747.390120322451, 'median_all': 9458.711714350811, 'median_3': 3635.615011554861, 'rf': 7455.7758031442245, 'rf_mean': 9789.55317090318, 'ar': 3003.6796982111096}\n",
      "-------------------------------\n"
     ]
    },
    {
     "name": "stderr",
     "output_type": "stream",
     "text": [
      "/home/denis/anaconda3/lib/python3.6/site-packages/ipykernel_launcher.py:208: RuntimeWarning: invalid value encountered in log1p\n"
     ]
    },
    {
     "name": "stdout",
     "output_type": "stream",
     "text": [
      "82 Best model is rf\n",
      "loss: 2900.399975759045\n",
      "val score: 3480.9646117124676 + 1705.401201328584\n",
      "{'mean_all': 2970.0086923244985, 'mean_3': 3126.2369380210725, 'median_all': 2974.062178049815, 'median_3': 3075.5711775043937, 'rf': 2900.399975759045, 'rf_mean': 5038.894064144343, 'ar': 4295.38409878399}\n",
      "-------------------------------\n"
     ]
    },
    {
     "name": "stderr",
     "output_type": "stream",
     "text": [
      "/home/denis/anaconda3/lib/python3.6/site-packages/ipykernel_launcher.py:208: RuntimeWarning: invalid value encountered in log1p\n"
     ]
    },
    {
     "name": "stdout",
     "output_type": "stream",
     "text": [
      "84 Best model is median_all\n",
      "loss: 1616.3761830288763\n",
      "val score: 3454.7028028577693 + 1707.544363839085\n",
      "{'mean_all': 1644.0135524689313, 'mean_3': 2112.7095324852608, 'median_all': 1616.3761830288763, 'median_3': 2234.2115021846735, 'rf': 2686.273640423714, 'rf_mean': 2011.2316055596457, 'ar': 2679.369387254832}\n",
      "-------------------------------\n"
     ]
    },
    {
     "name": "stderr",
     "output_type": "stream",
     "text": [
      "/home/denis/anaconda3/lib/python3.6/site-packages/ipykernel_launcher.py:208: RuntimeWarning: invalid value encountered in log1p\n"
     ]
    },
    {
     "name": "stdout",
     "output_type": "stream",
     "text": [
      "85 Best model is mean_3\n",
      "loss: 1977.6654559317717\n",
      "val score: 3434.1883952615754 + 1704.4329023739301\n",
      "{'mean_all': 2224.593976947349, 'mean_3': 1977.6654559317717, 'median_all': 2258.5639506437624, 'median_3': 2083.9505097150823, 'rf': 2278.6643521156025, 'rf_mean': 2674.3482262302045, 'ar': 3757.7483070629924}\n",
      "-------------------------------\n"
     ]
    },
    {
     "name": "stderr",
     "output_type": "stream",
     "text": [
      "/home/denis/anaconda3/lib/python3.6/site-packages/ipykernel_launcher.py:208: RuntimeWarning: invalid value encountered in log1p\n"
     ]
    },
    {
     "name": "stdout",
     "output_type": "stream",
     "text": [
      "86 Best model is mean_3\n",
      "loss: 1235.102525302927\n",
      "val score: 3404.063931289539 + 1711.9096191672922\n",
      "{'mean_all': 1413.2051630823316, 'mean_3': 1235.102525302927, 'median_all': 1485.158077456366, 'median_3': 1455.3234052011558, 'rf': 1379.6875496142, 'rf_mean': 1814.752160264293, 'ar': 2596.096492813245}\n",
      "-------------------------------\n"
     ]
    },
    {
     "name": "stderr",
     "output_type": "stream",
     "text": [
      "/home/denis/anaconda3/lib/python3.6/site-packages/ipykernel_launcher.py:208: RuntimeWarning: invalid value encountered in log1p\n"
     ]
    },
    {
     "name": "stdout",
     "output_type": "stream",
     "text": [
      "87 Best model is median_3\n",
      "loss: 1824.7843760839658\n",
      "val score: 3382.722315678653 + 1710.05271478214\n",
      "{'mean_all': 1968.1475747288243, 'mean_3': 1825.7405857725055, 'median_all': 1886.6361889617704, 'median_3': 1824.7843760839658, 'rf': 1854.431933775299, 'rf_mean': 2099.087779213896, 'ar': 2978.6305619912455}\n",
      "-------------------------------\n"
     ]
    },
    {
     "name": "stderr",
     "output_type": "stream",
     "text": [
      "/home/denis/anaconda3/lib/python3.6/site-packages/ipykernel_launcher.py:208: RuntimeWarning: invalid value encountered in log1p\n"
     ]
    },
    {
     "name": "stdout",
     "output_type": "stream",
     "text": [
      "88 Best model is mean_all\n",
      "loss: 2660.2198307325016\n",
      "val score: 3373.0889492127044 + 1700.6343560457751\n",
      "{'mean_all': 2660.2198307325016, 'mean_3': 3052.2311869845503, 'median_all': 2708.156587080354, 'median_3': 2911.6470730820506, 'rf': 3001.8906799175857, 'rf_mean': 5060.77160803078, 'ar': 3377.332327343124}\n",
      "-------------------------------\n"
     ]
    },
    {
     "name": "stderr",
     "output_type": "stream",
     "text": [
      "/home/denis/anaconda3/lib/python3.6/site-packages/ipykernel_launcher.py:208: RuntimeWarning: invalid value encountered in log1p\n"
     ]
    },
    {
     "name": "stdout",
     "output_type": "stream",
     "text": [
      "89 Best model is median_all\n",
      "loss: 3519.6534857681654\n",
      "val score: 3375.017429956855 + 1689.4914739770666\n",
      "{'mean_all': 3715.7650593693133, 'mean_3': 3534.80559086738, 'median_all': 3519.6534857681654, 'median_3': 3631.6223702044904, 'rf': 3584.507042253521, 'rf_mean': 5716.58603726877, 'ar': 4681.1647566890315}\n",
      "-------------------------------\n"
     ]
    },
    {
     "name": "stderr",
     "output_type": "stream",
     "text": [
      "/home/denis/anaconda3/lib/python3.6/site-packages/ipykernel_launcher.py:208: RuntimeWarning: invalid value encountered in log1p\n"
     ]
    },
    {
     "name": "stdout",
     "output_type": "stream",
     "text": [
      "90 Best model is median_3\n",
      "loss: 877.0615603888664\n",
      "val score: 3342.5764446377902 + 1702.1443193705875\n",
      "{'mean_all': 1357.461956776451, 'mean_3': 1055.2130866964224, 'median_all': 1374.6926842906591, 'median_3': 877.0615603888664, 'rf': 1330.8069373577382, 'rf_mean': 1733.111986566873, 'ar': 1915.978825245206}\n",
      "-------------------------------\n"
     ]
    },
    {
     "name": "stderr",
     "output_type": "stream",
     "text": [
      "/home/denis/anaconda3/lib/python3.6/site-packages/ipykernel_launcher.py:208: RuntimeWarning: invalid value encountered in log1p\n"
     ]
    },
    {
     "name": "stdout",
     "output_type": "stream",
     "text": [
      "91 Best model is mean_3\n",
      "loss: 2911.735296243645\n",
      "val score: 3337.0528401711986 + 1691.8923602044033\n",
      "{'mean_all': 3318.123196588861, 'mean_3': 2911.735296243645, 'median_all': 3216.077753415416, 'median_3': 3125.9487265980774, 'rf': 4243.306206780233, 'rf_mean': 2993.577783750254, 'ar': 4416.990177342304}\n",
      "-------------------------------\n"
     ]
    },
    {
     "name": "stderr",
     "output_type": "stream",
     "text": [
      "/home/denis/anaconda3/lib/python3.6/site-packages/ipykernel_launcher.py:208: RuntimeWarning: invalid value encountered in log1p\n"
     ]
    },
    {
     "name": "stdout",
     "output_type": "stream",
     "text": [
      "92 Best model is rf\n",
      "loss: 1888.367722664874\n",
      "val score: 3318.71505387365 + 1688.933091644114\n",
      "{'mean_all': 1982.3883059562843, 'mean_3': 2119.132469225668, 'median_all': 2020.1026714437407, 'median_3': 2160.206412381687, 'rf': 1888.367722664874, 'rf_mean': 2083.141238099172, 'ar': 2793.0166534046884}\n",
      "-------------------------------\n"
     ]
    },
    {
     "name": "stderr",
     "output_type": "stream",
     "text": [
      "/home/denis/anaconda3/lib/python3.6/site-packages/ipykernel_launcher.py:208: RuntimeWarning: invalid value encountered in log1p\n"
     ]
    },
    {
     "name": "stdout",
     "output_type": "stream",
     "text": [
      "93 Best model is ar\n",
      "loss: 6366.170994159016\n",
      "val score: 3356.808253127217 + 1712.1550908782472\n",
      "{'mean_all': 10717.615932686325, 'mean_3': 9904.903555846953, 'median_all': 10299.167091619922, 'median_3': 8885.772565017847, 'rf': 9772.39503654598, 'rf_mean': 11287.00252657921, 'ar': 6366.170994159016}\n",
      "-------------------------------\n"
     ]
    },
    {
     "name": "stderr",
     "output_type": "stream",
     "text": [
      "/home/denis/anaconda3/lib/python3.6/site-packages/ipykernel_launcher.py:208: RuntimeWarning: invalid value encountered in log1p\n"
     ]
    },
    {
     "name": "stdout",
     "output_type": "stream",
     "text": [
      "94 Best model is mean_3\n",
      "loss: 2805.814538791815\n",
      "val score: 3350.0058615922126 + 1702.6408334124642\n",
      "{'mean_all': 4177.188921353805, 'mean_3': 2805.814538791815, 'median_all': 5180.251062392205, 'median_3': 2947.8049821304744, 'rf': 5912.928290748742, 'rf_mean': 4545.876575168109, 'ar': 5075.13096654351}\n",
      "-------------------------------\n"
     ]
    },
    {
     "name": "stderr",
     "output_type": "stream",
     "text": [
      "/home/denis/anaconda3/lib/python3.6/site-packages/ipykernel_launcher.py:208: RuntimeWarning: invalid value encountered in log1p\n"
     ]
    },
    {
     "name": "stdout",
     "output_type": "stream",
     "text": [
      "95 Best model is rf_mean\n",
      "loss: 3908.7224695131613\n",
      "val score: 3356.8194787619805 + 1693.3377624793998\n",
      "{'mean_all': 4326.654066636012, 'mean_3': 4227.154549947251, 'median_all': 4298.309666594165, 'median_3': 4161.047758133176, 'rf': 4304.30662150825, 'rf_mean': 3908.7224695131613, 'ar': 4576.972141016815}\n",
      "-------------------------------\n"
     ]
    },
    {
     "name": "stderr",
     "output_type": "stream",
     "text": [
      "/home/denis/anaconda3/lib/python3.6/site-packages/ipykernel_launcher.py:208: RuntimeWarning: invalid value encountered in log1p\n"
     ]
    },
    {
     "name": "stdout",
     "output_type": "stream",
     "text": [
      "96 Best model is ar\n",
      "loss: 3897.0204555914943\n",
      "val score: 3363.3279242659505 + 1684.1375791950406\n",
      "{'mean_all': 5918.33657958016, 'mean_3': 4509.872464912466, 'median_all': 5864.677288805613, 'median_3': 4591.004422661556, 'rf': 5651.866327402167, 'rf_mean': 7873.338072506813, 'ar': 3897.0204555914943}\n",
      "-------------------------------\n"
     ]
    },
    {
     "name": "stderr",
     "output_type": "stream",
     "text": [
      "/home/denis/anaconda3/lib/python3.6/site-packages/ipykernel_launcher.py:208: RuntimeWarning: invalid value encountered in log1p\n"
     ]
    },
    {
     "name": "stdout",
     "output_type": "stream",
     "text": [
      "97 Best model is median_3\n",
      "loss: 1710.2232847868047\n",
      "val score: 3343.6481071292937 + 1683.656491240123\n",
      "{'mean_all': 2034.3533362937023, 'mean_3': 1755.5010760555322, 'median_all': 2228.9546411651168, 'median_3': 1710.2232847868047, 'rf': 2227.0957624144585, 'rf_mean': 2109.893624947893, 'ar': 2619.6306361411066}\n",
      "-------------------------------\n"
     ]
    },
    {
     "name": "stderr",
     "output_type": "stream",
     "text": [
      "/home/denis/anaconda3/lib/python3.6/site-packages/ipykernel_launcher.py:208: RuntimeWarning: invalid value encountered in log1p\n"
     ]
    },
    {
     "name": "stdout",
     "output_type": "stream",
     "text": [
      "98 Best model is mean_3\n",
      "loss: 1366.1058910153456\n",
      "val score: 3320.3829045867765 + 1687.251145774231\n",
      "{'mean_all': 1724.9128732173806, 'mean_3': 1366.1058910153456, 'median_all': 1728.5491238558468, 'median_3': 1458.9730046607735, 'rf': 1745.596062429987, 'rf_mean': 2009.2867046733259, 'ar': 3201.5579904554993}\n",
      "-------------------------------\n"
     ]
    },
    {
     "name": "stderr",
     "output_type": "stream",
     "text": [
      "/home/denis/anaconda3/lib/python3.6/site-packages/ipykernel_launcher.py:208: RuntimeWarning: invalid value encountered in log1p\n"
     ]
    },
    {
     "name": "stdout",
     "output_type": "stream",
     "text": [
      "99 Best model is mean_3\n",
      "loss: 7791.489475872986\n",
      "val score: 3372.3725158808024 + 1744.552115963859\n",
      "{'mean_all': 8140.461420295584, 'mean_3': 7791.489475872986, 'median_all': 7807.305850314584, 'median_3': 8031.270541834914, 'rf': 8126.584655836229, 'rf_mean': 7885.66126444422, 'ar': 9537.837043864}\n",
      "-------------------------------\n"
     ]
    },
    {
     "name": "stderr",
     "output_type": "stream",
     "text": [
      "/home/denis/anaconda3/lib/python3.6/site-packages/ipykernel_launcher.py:208: RuntimeWarning: invalid value encountered in log1p\n"
     ]
    },
    {
     "name": "stdout",
     "output_type": "stream",
     "text": [
      "100 Best model is rf\n",
      "loss: 2169.6233938154464\n",
      "val score: 3358.547813328327 + 1739.2286476916763\n",
      "{'mean_all': 3064.3886847999615, 'mean_3': 2353.956533506366, 'median_all': 2351.707846820924, 'median_3': 2213.581920366539, 'rf': 2169.6233938154464, 'rf_mean': 3384.420621449846, 'ar': 2981.094590906809}\n",
      "-------------------------------\n"
     ]
    },
    {
     "name": "stderr",
     "output_type": "stream",
     "text": [
      "/home/denis/anaconda3/lib/python3.6/site-packages/ipykernel_launcher.py:208: RuntimeWarning: invalid value encountered in log1p\n"
     ]
    },
    {
     "name": "stdout",
     "output_type": "stream",
     "text": [
      "101 Best model is rf\n",
      "loss: 5926.645883000183\n",
      "val score: 3387.7307459382337 + 1750.609959288615\n",
      "{'mean_all': 6392.861725065007, 'mean_3': 6703.3437251665755, 'median_all': 6324.9587383091875, 'median_3': 6193.838254172016, 'rf': 5926.645883000183, 'rf_mean': 8118.991014828919, 'ar': 6529.203431628963}\n",
      "-------------------------------\n"
     ]
    },
    {
     "name": "stderr",
     "output_type": "stream",
     "text": [
      "/home/denis/anaconda3/lib/python3.6/site-packages/ipykernel_launcher.py:208: RuntimeWarning: invalid value encountered in log1p\n"
     ]
    },
    {
     "name": "stdout",
     "output_type": "stream",
     "text": [
      "102 Best model is rf\n",
      "loss: 5804.726241134752\n",
      "val score: 3414.8879986932507 + 1759.2903589377022\n",
      "{'mean_all': 6694.544310301504, 'mean_3': 7244.940560621412, 'median_all': 6438.354609929078, 'median_3': 7358.014184397163, 'rf': 5804.726241134752, 'rf_mean': 8195.998752646808, 'ar': 6415.783807718178}\n",
      "-------------------------------\n"
     ]
    },
    {
     "name": "stderr",
     "output_type": "stream",
     "text": [
      "/home/denis/anaconda3/lib/python3.6/site-packages/ipykernel_launcher.py:208: RuntimeWarning: invalid value encountered in log1p\n"
     ]
    },
    {
     "name": "stdout",
     "output_type": "stream",
     "text": [
      "103 Best model is median_3\n",
      "loss: 2150.2367821604125\n",
      "val score: 3400.8363185095523 + 1754.504363987453\n",
      "{'mean_all': 2576.871837401922, 'mean_3': 2273.9713927472444, 'median_all': 2493.960556288215, 'median_3': 2150.2367821604125, 'rf': 2391.3289773408464, 'rf_mean': 3665.5071826061285, 'ar': 2990.7616205169948}\n",
      "-------------------------------\n"
     ]
    },
    {
     "name": "stderr",
     "output_type": "stream",
     "text": [
      "/home/denis/anaconda3/lib/python3.6/site-packages/ipykernel_launcher.py:208: RuntimeWarning: invalid value encountered in log1p\n"
     ]
    },
    {
     "name": "stdout",
     "output_type": "stream",
     "text": [
      "105 Best model is median_all\n",
      "loss: 8436.845778087927\n",
      "val score: 3456.177081801622 + 1822.112031881284\n",
      "{'mean_all': 55676.68110929097, 'mean_3': 9480.763798890108, 'median_all': 8436.845778087927, 'median_3': 8710.746685275646, 'rf': 8878.57641311933, 'rf_mean': 9412.010328694769, 'ar': 9989.553864545685}\n",
      "-------------------------------\n"
     ]
    },
    {
     "name": "stderr",
     "output_type": "stream",
     "text": [
      "/home/denis/anaconda3/lib/python3.6/site-packages/ipykernel_launcher.py:208: RuntimeWarning: invalid value encountered in log1p\n"
     ]
    },
    {
     "name": "stdout",
     "output_type": "stream",
     "text": [
      "106 Best model is ar\n",
      "loss: 7677.457956846988\n",
      "val score: 3502.0605695738545 + 1864.2923838221982\n",
      "{'mean_all': 11692.398693284747, 'mean_3': 10425.636634142966, 'median_all': 11283.994187253476, 'median_3': 9250.570894747769, 'rf': 11421.42412289807, 'rf_mean': 13806.567672683927, 'ar': 7677.457956846988}\n",
      "-------------------------------\n"
     ]
    },
    {
     "name": "stderr",
     "output_type": "stream",
     "text": [
      "/home/denis/anaconda3/lib/python3.6/site-packages/ipykernel_launcher.py:208: RuntimeWarning: invalid value encountered in log1p\n"
     ]
    },
    {
     "name": "stdout",
     "output_type": "stream",
     "text": [
      "107 Best model is median_all\n",
      "loss: 2336.748220512377\n",
      "val score: 3489.530329261365 + 1858.1331587810362\n",
      "{'mean_all': 2374.466491264781, 'mean_3': 2359.0917340106844, 'median_all': 2336.748220512377, 'median_3': 2454.4681709460824, 'rf': 2425.290337454252, 'rf_mean': 4108.904829073184, 'ar': 2923.1396313443365}\n",
      "-------------------------------\n"
     ]
    },
    {
     "name": "stderr",
     "output_type": "stream",
     "text": [
      "/home/denis/anaconda3/lib/python3.6/site-packages/ipykernel_launcher.py:208: RuntimeWarning: invalid value encountered in log1p\n"
     ]
    },
    {
     "name": "stdout",
     "output_type": "stream",
     "text": [
      "108 Best model is mean_all\n",
      "loss: 1899.7339364286458\n",
      "val score: 3472.6176016780387 + 1855.405663343146\n",
      "{'mean_all': 1899.7339364286458, 'mean_3': 1909.622270848012, 'median_all': 1917.201609372031, 'median_3': 1933.8488611296998, 'rf': 1968.6882957014566, 'rf_mean': 2009.5715554721028, 'ar': 3067.6632550287777}\n",
      "-------------------------------\n"
     ]
    },
    {
     "name": "stderr",
     "output_type": "stream",
     "text": [
      "/home/denis/anaconda3/lib/python3.6/site-packages/ipykernel_launcher.py:208: RuntimeWarning: invalid value encountered in log1p\n"
     ]
    },
    {
     "name": "stdout",
     "output_type": "stream",
     "text": [
      "109 Best model is ar\n",
      "loss: 5076.245861433396\n",
      "val score: 3489.4978991491475 + 1852.8566575528869\n",
      "{'mean_all': 5726.0699021061155, 'mean_3': 5631.6554302260265, 'median_all': 5824.797960153853, 'median_3': 5606.55170923549, 'rf': 6084.48939020701, 'rf_mean': 7104.558353167604, 'ar': 5076.245861433396}\n",
      "-------------------------------\n"
     ]
    },
    {
     "name": "stderr",
     "output_type": "stream",
     "text": [
      "/home/denis/anaconda3/lib/python3.6/site-packages/ipykernel_launcher.py:208: RuntimeWarning: invalid value encountered in log1p\n"
     ]
    },
    {
     "name": "stdout",
     "output_type": "stream",
     "text": [
      "111 Best model is rf_mean\n",
      "loss: 3921.3978319592393\n",
      "val score: 3493.9968567825867 + 1843.7026401518456\n",
      "{'mean_all': 4172.955546375019, 'mean_3': 3953.5453557641376, 'median_all': 4199.441960019875, 'median_3': 4055.2497802239805, 'rf': 4302.4500248442455, 'rf_mean': 3921.3978319592393, 'ar': 5276.432583996565}\n",
      "-------------------------------\n"
     ]
    },
    {
     "name": "stderr",
     "output_type": "stream",
     "text": [
      "/home/denis/anaconda3/lib/python3.6/site-packages/ipykernel_launcher.py:208: RuntimeWarning: invalid value encountered in log1p\n"
     ]
    },
    {
     "name": "stdout",
     "output_type": "stream",
     "text": [
      "112 Best model is mean_3\n",
      "loss: 5203.593493921922\n",
      "val score: 3511.621564381961 + 1842.2855995778407\n",
      "{'mean_all': 5576.78991956317, 'mean_3': 5203.593493921922, 'median_all': 5693.643663117682, 'median_3': 6107.672172898023, 'rf': 5484.666265784726, 'rf_mean': 6018.079769344035, 'ar': 6833.81265703583}\n",
      "-------------------------------\n"
     ]
    },
    {
     "name": "stderr",
     "output_type": "stream",
     "text": [
      "/home/denis/anaconda3/lib/python3.6/site-packages/ipykernel_launcher.py:208: RuntimeWarning: invalid value encountered in log1p\n"
     ]
    },
    {
     "name": "stdout",
     "output_type": "stream",
     "text": [
      "113 Best model is median_all\n",
      "loss: 2786.5270448548813\n",
      "val score: 3504.2226407133176 + 1834.3101119127293\n",
      "{'mean_all': 2973.640163742572, 'mean_3': 3009.2372824789545, 'median_all': 2786.5270448548813, 'median_3': 3065.0148416886545, 'rf': 2794.2364775725596, 'rf_mean': 5644.763177255639, 'ar': 4372.585598974497}\n",
      "-------------------------------\n"
     ]
    },
    {
     "name": "stderr",
     "output_type": "stream",
     "text": [
      "/home/denis/anaconda3/lib/python3.6/site-packages/ipykernel_launcher.py:208: RuntimeWarning: invalid value encountered in log1p\n"
     ]
    },
    {
     "name": "stdout",
     "output_type": "stream",
     "text": [
      "115 Best model is rf\n",
      "loss: 1507.347464118107\n",
      "val score: 3484.052184384073 + 1835.9133473548027\n",
      "{'mean_all': 1633.0130827813, 'mean_3': 1965.158548001765, 'median_all': 1629.4577642547122, 'median_3': 1918.1711223471877, 'rf': 1507.347464118107, 'rf_mean': 2176.9432686418027, 'ar': 4675.2992124376815}\n",
      "-------------------------------\n"
     ]
    },
    {
     "name": "stderr",
     "output_type": "stream",
     "text": [
      "/home/denis/anaconda3/lib/python3.6/site-packages/ipykernel_launcher.py:208: RuntimeWarning: invalid value encountered in log1p\n"
     ]
    },
    {
     "name": "stdout",
     "output_type": "stream",
     "text": [
      "116 Best model is rf\n",
      "loss: 2372.7291574882734\n",
      "val score: 3472.938954115115 + 1830.0543504551003\n",
      "{'mean_all': 2570.149295683888, 'mean_3': 2677.562268072025, 'median_all': 2476.416927980926, 'median_3': 3018.3740638038716, 'rf': 2372.7291574882734, 'rf_mean': 3833.452833349959, 'ar': 4999.420079036394}\n",
      "-------------------------------\n"
     ]
    },
    {
     "name": "stderr",
     "output_type": "stream",
     "text": [
      "/home/denis/anaconda3/lib/python3.6/site-packages/ipykernel_launcher.py:208: RuntimeWarning: invalid value encountered in log1p\n"
     ]
    },
    {
     "name": "stdout",
     "output_type": "stream",
     "text": [
      "117 Best model is median_all\n",
      "loss: 4271.352608840146\n",
      "val score: 3480.8440398054618 + 1822.687183334992\n",
      "{'mean_all': 4665.999211367602, 'mean_3': 4442.124684148613, 'median_all': 4271.352608840146, 'median_3': 4345.574387947269, 'rf': 4349.396255677412, 'rf_mean': 7440.323874634028, 'ar': 8645.624873901226}\n",
      "-------------------------------\n"
     ]
    },
    {
     "name": "stderr",
     "output_type": "stream",
     "text": [
      "/home/denis/anaconda3/lib/python3.6/site-packages/ipykernel_launcher.py:208: RuntimeWarning: invalid value encountered in log1p\n"
     ]
    },
    {
     "name": "stdout",
     "output_type": "stream",
     "text": [
      "119 Best model is mean_all\n",
      "loss: 2040.2120898172143\n",
      "val score: 3466.720197158518 + 1819.2761934837117\n",
      "{'mean_all': 2040.2120898172143, 'mean_3': 2055.402731429849, 'median_all': 2081.1478409368137, 'median_3': 2059.8011710173214, 'rf': 2069.5215296413758, 'rf_mean': 3148.0339757898914, 'ar': 3235.6190175144616}\n",
      "-------------------------------\n"
     ]
    },
    {
     "name": "stderr",
     "output_type": "stream",
     "text": [
      "/home/denis/anaconda3/lib/python3.6/site-packages/ipykernel_launcher.py:208: RuntimeWarning: invalid value encountered in log1p\n"
     ]
    },
    {
     "name": "stdout",
     "output_type": "stream",
     "text": [
      "123 Best model is rf\n",
      "loss: 4040.789131565263\n",
      "val score: 3472.2936819585834 + 1811.298075888746\n",
      "{'mean_all': 4545.828104938052, 'mean_3': 4835.673426937077, 'median_all': 4049.986999479979, 'median_3': 4536.856474258971, 'rf': 4040.789131565263, 'rf_mean': 4458.523903528671, 'ar': 7334.267737166063}\n",
      "-------------------------------\n"
     ]
    },
    {
     "name": "stderr",
     "output_type": "stream",
     "text": [
      "/home/denis/anaconda3/lib/python3.6/site-packages/ipykernel_launcher.py:208: RuntimeWarning: invalid value encountered in log1p\n"
     ]
    },
    {
     "name": "stdout",
     "output_type": "stream",
     "text": [
      "126 Best model is median_all\n",
      "loss: 4332.210998877666\n",
      "val score: 3480.5621176981904 + 1804.5210896519034\n",
      "{'mean_all': 4934.935845829554, 'mean_3': 5452.713548943708, 'median_all': 4332.210998877666, 'median_3': 5544.733044733045, 'rf': 4372.294372294372, 'rf_mean': 4883.543791234788, 'ar': 5186.846303454343}\n",
      "-------------------------------\n"
     ]
    },
    {
     "name": "stderr",
     "output_type": "stream",
     "text": [
      "/home/denis/anaconda3/lib/python3.6/site-packages/ipykernel_launcher.py:208: RuntimeWarning: invalid value encountered in log1p\n"
     ]
    },
    {
     "name": "stdout",
     "output_type": "stream",
     "text": [
      "127 Best model is median_3\n",
      "loss: 4814.042582045023\n",
      "val score: 3493.2619316443506 + 1800.5714885024695\n",
      "{'mean_all': 8060.810027284395, 'mean_3': 4891.583967801929, 'median_all': 4989.320585842148, 'median_3': 4814.042582045023, 'rf': 4923.582858692704, 'rf_mean': 7292.978182933653, 'ar': 7713.807774127741}\n",
      "-------------------------------\n"
     ]
    },
    {
     "name": "stderr",
     "output_type": "stream",
     "text": [
      "/home/denis/anaconda3/lib/python3.6/site-packages/ipykernel_launcher.py:208: RuntimeWarning: invalid value encountered in log1p\n"
     ]
    },
    {
     "name": "stdout",
     "output_type": "stream",
     "text": [
      "128 Best model is median_3\n",
      "loss: 3810.6508356093404\n",
      "val score: 3496.256166587417 + 1792.32073213793\n",
      "{'mean_all': 6105.030635856573, 'mean_3': 4032.193740593305, 'median_all': 5224.644108580913, 'median_3': 3810.6508356093404, 'rf': 7373.367641763781, 'rf_mean': 8868.182673602249, 'ar': 5698.180776374781}\n",
      "-------------------------------\n"
     ]
    },
    {
     "name": "stderr",
     "output_type": "stream",
     "text": [
      "/home/denis/anaconda3/lib/python3.6/site-packages/ipykernel_launcher.py:208: RuntimeWarning: invalid value encountered in log1p\n"
     ]
    },
    {
     "name": "stdout",
     "output_type": "stream",
     "text": [
      "129 Best model is mean_all\n",
      "loss: 2081.825227646544\n",
      "val score: 3483.037185849652 + 1789.1097349416773\n",
      "{'mean_all': 2081.825227646544, 'mean_3': 4307.201763074424, 'median_all': 2291.215513952295, 'median_3': 4827.599363233301, 'rf': 2194.603270665316, 'rf_mean': 2520.131517040358, 'ar': 4347.133641198123}\n",
      "-------------------------------\n"
     ]
    },
    {
     "name": "stderr",
     "output_type": "stream",
     "text": [
      "/home/denis/anaconda3/lib/python3.6/site-packages/ipykernel_launcher.py:208: RuntimeWarning: invalid value encountered in log1p\n"
     ]
    },
    {
     "name": "stdout",
     "output_type": "stream",
     "text": [
      "131 Best model is median_3\n",
      "loss: 2599.428346774622\n",
      "val score: 3474.8556225248826 + 1782.817410186103\n",
      "{'mean_all': 3283.3670284958425, 'mean_3': 2651.5835763289624, 'median_all': 3121.911956902872, 'median_3': 2599.428346774622, 'rf': 3238.468649389564, 'rf_mean': 3037.3928697257825, 'ar': 2939.997774864406}\n",
      "-------------------------------\n"
     ]
    },
    {
     "name": "stderr",
     "output_type": "stream",
     "text": [
      "/home/denis/anaconda3/lib/python3.6/site-packages/ipykernel_launcher.py:208: RuntimeWarning: invalid value encountered in log1p\n"
     ]
    },
    {
     "name": "stdout",
     "output_type": "stream",
     "text": [
      "136 Best model is rf_mean\n",
      "loss: 4039.0182209604745\n",
      "val score: 3480.031426180255 + 1775.4354798355118\n",
      "{'mean_all': 4640.227843512972, 'mean_3': 4684.915220261424, 'median_all': 4656.699085498621, 'median_3': 4351.865292495282, 'rf': 4397.0823051241105, 'rf_mean': 4039.0182209604745, 'ar': 5783.129800995364}\n",
      "-------------------------------\n"
     ]
    },
    {
     "name": "stderr",
     "output_type": "stream",
     "text": [
      "/home/denis/anaconda3/lib/python3.6/site-packages/ipykernel_launcher.py:208: RuntimeWarning: invalid value encountered in log1p\n"
     ]
    },
    {
     "name": "stdout",
     "output_type": "stream",
     "text": [
      "138 Best model is rf\n",
      "loss: 4179.494408420262\n",
      "val score: 3486.3901805642554 + 1768.5933171042088\n",
      "{'mean_all': 4397.208973542613, 'mean_3': 4422.12846984485, 'median_all': 4242.082511042196, 'median_3': 4592.848416502208, 'rf': 4179.494408420262, 'rf_mean': 7047.732365617798, 'ar': 4670.831130442129}\n",
      "-------------------------------\n"
     ]
    },
    {
     "name": "stderr",
     "output_type": "stream",
     "text": [
      "/home/denis/anaconda3/lib/python3.6/site-packages/ipykernel_launcher.py:208: RuntimeWarning: invalid value encountered in log1p\n"
     ]
    },
    {
     "name": "stdout",
     "output_type": "stream",
     "text": [
      "139 Best model is median_all\n",
      "loss: 4143.594261263529\n",
      "val score: 3492.3109380480328 + 1761.7034175886508\n",
      "{'mean_all': 4440.823988681932, 'mean_3': 4662.382165929549, 'median_all': 4143.594261263529, 'median_3': 4786.370500880947, 'rf': 4454.820035237855, 'rf_mean': 4537.640437825393, 'ar': 5918.761366910918}\n",
      "-------------------------------\n"
     ]
    },
    {
     "name": "stderr",
     "output_type": "stream",
     "text": [
      "/home/denis/anaconda3/lib/python3.6/site-packages/ipykernel_launcher.py:208: RuntimeWarning: invalid value encountered in log1p\n"
     ]
    },
    {
     "name": "stdout",
     "output_type": "stream",
     "text": [
      "140 Best model is rf_mean\n",
      "loss: 2966.1617676296305\n",
      "val score: 3487.613177597868 + 1754.5192733646559\n",
      "{'mean_all': 3376.380248407589, 'mean_3': 3103.9789846489384, 'median_all': 3459.420404782674, 'median_3': 3093.5388085608806, 'rf': 3393.1960561444316, 'rf_mean': 2966.1617676296305, 'ar': 4581.735764455885}\n",
      "-------------------------------\n"
     ]
    },
    {
     "name": "stderr",
     "output_type": "stream",
     "text": [
      "/home/denis/anaconda3/lib/python3.6/site-packages/ipykernel_launcher.py:208: RuntimeWarning: invalid value encountered in log1p\n"
     ]
    },
    {
     "name": "stdout",
     "output_type": "stream",
     "text": [
      "141 Best model is rf\n",
      "loss: 2675.118446520728\n",
      "val score: 3480.422958738778 + 1748.3953409203898\n",
      "{'mean_all': 5830.685056958048, 'mean_3': 3891.7779735888516, 'median_all': 7534.9181969639585, 'median_3': 2728.4292562325295, 'rf': 2675.118446520728, 'rf_mean': 6344.294314710673, 'ar': 2692.6454108253392}\n",
      "-------------------------------\n"
     ]
    },
    {
     "name": "stderr",
     "output_type": "stream",
     "text": [
      "/home/denis/anaconda3/lib/python3.6/site-packages/ipykernel_launcher.py:208: RuntimeWarning: invalid value encountered in log1p\n"
     ]
    },
    {
     "name": "stdout",
     "output_type": "stream",
     "text": [
      "142 Best model is mean_3\n",
      "loss: 3366.5477938605686\n",
      "val score: 3479.424053783706 + 1740.742436140849\n",
      "{'mean_all': 6261.0970574349, 'mean_3': 3366.5477938605686, 'median_all': 7333.501590797846, 'median_3': 3757.3421439060207, 'rf': 8390.976811062163, 'rf_mean': 6957.458176670653, 'ar': 4964.901351035147}\n",
      "-------------------------------\n"
     ]
    },
    {
     "name": "stderr",
     "output_type": "stream",
     "text": [
      "/home/denis/anaconda3/lib/python3.6/site-packages/ipykernel_launcher.py:208: RuntimeWarning: invalid value encountered in log1p\n"
     ]
    },
    {
     "name": "stdout",
     "output_type": "stream",
     "text": [
      "147 Best model is rf\n",
      "loss: 3288.949522510232\n",
      "val score: 3477.7677535117623 + 1733.2476858749394\n",
      "{'mean_all': 3555.2034192264214, 'mean_3': 3748.5961557201317, 'median_all': 3437.926330150068, 'median_3': 3678.717598908595, 'rf': 3288.949522510232, 'rf_mean': 5235.63542392638, 'ar': 5881.890292786542}\n",
      "-------------------------------\n"
     ]
    },
    {
     "name": "stderr",
     "output_type": "stream",
     "text": [
      "/home/denis/anaconda3/lib/python3.6/site-packages/ipykernel_launcher.py:208: RuntimeWarning: invalid value encountered in log1p\n"
     ]
    },
    {
     "name": "stdout",
     "output_type": "stream",
     "text": [
      "148 Best model is median_3\n",
      "loss: 1527.447928367406\n",
      "val score: 3460.954651570863 + 1735.1535847312434\n",
      "{'mean_all': 2176.4000142290606, 'mean_3': 1647.3802188162404, 'median_all': 1756.1138033954876, 'median_3': 1527.447928367406, 'rf': 1765.4048589492602, 'rf_mean': 1893.942669512418, 'ar': 3200.939887715562}\n",
      "-------------------------------\n"
     ]
    },
    {
     "name": "stderr",
     "output_type": "stream",
     "text": [
      "/home/denis/anaconda3/lib/python3.6/site-packages/ipykernel_launcher.py:208: RuntimeWarning: invalid value encountered in log1p\n"
     ]
    },
    {
     "name": "stdout",
     "output_type": "stream",
     "text": [
      "149 Best model is median_all\n",
      "loss: 4413.0597948461345\n",
      "val score: 3469.092302368087 + 1729.9441223299777\n",
      "{'mean_all': 4423.247036017362, 'mean_3': 4725.664486460083, 'median_all': 4413.0597948461345, 'median_3': 4772.579434575932, 'rf': 4441.255941956468, 'rf_mean': 4505.149320098276, 'ar': 5677.048853770499}\n",
      "-------------------------------\n"
     ]
    },
    {
     "name": "stderr",
     "output_type": "stream",
     "text": [
      "/home/denis/anaconda3/lib/python3.6/site-packages/ipykernel_launcher.py:208: RuntimeWarning: invalid value encountered in log1p\n"
     ]
    },
    {
     "name": "stdout",
     "output_type": "stream",
     "text": [
      "150 Best model is rf\n",
      "loss: 2001.8861363415076\n",
      "val score: 3456.65835180854 + 1727.8406498531624\n",
      "{'mean_all': 2099.158973273806, 'mean_3': 2204.2699865474688, 'median_all': 2072.246254850959, 'median_3': 2185.4839831416134, 'rf': 2001.8861363415076, 'rf_mean': 2778.353112229414, 'ar': 2228.6834525504123}\n",
      "-------------------------------\n"
     ]
    },
    {
     "name": "stderr",
     "output_type": "stream",
     "text": [
      "/home/denis/anaconda3/lib/python3.6/site-packages/ipykernel_launcher.py:208: RuntimeWarning: invalid value encountered in log1p\n"
     ]
    },
    {
     "name": "stdout",
     "output_type": "stream",
     "text": [
      "151 Best model is median_3\n",
      "loss: 1440.576171394252\n",
      "val score: 3439.716484746235 + 1730.3799599590704\n",
      "{'mean_all': 1704.7781847208, 'mean_3': 1475.6015108331806, 'median_all': 1780.5323907699678, 'median_3': 1440.576171394252, 'rf': 1853.5186953767793, 'rf_mean': 2726.816750055978, 'ar': 2496.0289142165198}\n",
      "-------------------------------\n"
     ]
    },
    {
     "name": "stderr",
     "output_type": "stream",
     "text": [
      "/home/denis/anaconda3/lib/python3.6/site-packages/ipykernel_launcher.py:208: RuntimeWarning: invalid value encountered in log1p\n"
     ]
    },
    {
     "name": "stdout",
     "output_type": "stream",
     "text": [
      "154 Best model is mean_3\n",
      "loss: 1415.45995392333\n",
      "val score: 3422.8476803227113 + 1732.9527537524505\n",
      "{'mean_all': 1523.0097799506814, 'mean_3': 1415.45995392333, 'median_all': 1626.557514559808, 'median_3': 1475.8628378485992, 'rf': 1609.4573717489288, 'rf_mean': 1638.6840641245346, 'ar': 2368.26573483744}\n",
      "-------------------------------\n"
     ]
    },
    {
     "name": "stderr",
     "output_type": "stream",
     "text": [
      "/home/denis/anaconda3/lib/python3.6/site-packages/ipykernel_launcher.py:208: RuntimeWarning: invalid value encountered in log1p\n"
     ]
    },
    {
     "name": "stdout",
     "output_type": "stream",
     "text": [
      "155 Best model is median_3\n",
      "loss: 4246.123186149343\n",
      "val score: 3429.6516101229317 + 1727.3856677390168\n",
      "{'mean_all': 6241.33366500035, 'mean_3': 4252.913504568546, 'median_all': 6536.277013140686, 'median_3': 4246.123186149343, 'rf': 7014.3488821074925, 'rf_mean': 7441.010711206214, 'ar': 5266.100210388493}\n",
      "-------------------------------\n"
     ]
    },
    {
     "name": "stderr",
     "output_type": "stream",
     "text": [
      "/home/denis/anaconda3/lib/python3.6/site-packages/ipykernel_launcher.py:208: RuntimeWarning: invalid value encountered in log1p\n"
     ]
    },
    {
     "name": "stdout",
     "output_type": "stream",
     "text": [
      "159 Best model is median_all\n",
      "loss: 1706.6998921029647\n",
      "val score: 3415.529055057194 + 1727.2916372181185\n",
      "{'mean_all': 2054.787404402967, 'mean_3': 2907.0472748862517, 'median_all': 1706.6998921029647, 'median_3': 2613.3347034544176, 'rf': 1724.9910085803833, 'rf_mean': 5498.970464774975, 'ar': 3296.078407646633}\n",
      "-------------------------------\n"
     ]
    },
    {
     "name": "stderr",
     "output_type": "stream",
     "text": [
      "/home/denis/anaconda3/lib/python3.6/site-packages/ipykernel_launcher.py:208: RuntimeWarning: invalid value encountered in log1p\n"
     ]
    },
    {
     "name": "stdout",
     "output_type": "stream",
     "text": [
      "160 Best model is ar\n",
      "loss: 4882.9001250962665\n",
      "val score: 3427.458901155073 + 1725.2951041238744\n",
      "{'mean_all': 7652.784604027827, 'mean_3': 5523.3406511214625, 'median_all': 7267.090831254336, 'median_3': 5970.83007336768, 'rf': 7192.748852246054, 'rf_mean': 6998.225061808849, 'ar': 4882.9001250962665}\n",
      "-------------------------------\n"
     ]
    },
    {
     "name": "stderr",
     "output_type": "stream",
     "text": [
      "/home/denis/anaconda3/lib/python3.6/site-packages/ipykernel_launcher.py:208: RuntimeWarning: invalid value encountered in log1p\n"
     ]
    },
    {
     "name": "stdout",
     "output_type": "stream",
     "text": [
      "161 Best model is median_3\n",
      "loss: 1767.7434039027132\n",
      "val score: 3414.074098757876 + 1724.7242736964763\n",
      "{'mean_all': 1866.4219305691067, 'mean_3': 1919.62053484108, 'median_all': 1873.490783778882, 'median_3': 1767.7434039027132, 'rf': 1885.738773565111, 'rf_mean': 2288.5393984204475, 'ar': 3853.709257324618}\n",
      "-------------------------------\n"
     ]
    },
    {
     "name": "stderr",
     "output_type": "stream",
     "text": [
      "/home/denis/anaconda3/lib/python3.6/site-packages/ipykernel_launcher.py:208: RuntimeWarning: invalid value encountered in log1p\n"
     ]
    },
    {
     "name": "stdout",
     "output_type": "stream",
     "text": [
      "163 Best model is rf\n",
      "loss: 6237.143613400893\n",
      "val score: 3436.65865487502 + 1736.1233076647122\n",
      "{'mean_all': 6495.306251110543, 'mean_3': 6657.691729418078, 'median_all': 6287.43477274446, 'median_3': 6260.209483475762, 'rf': 6237.143613400893, 'rf_mean': 7053.573092639394, 'ar': 7848.0895269950515}\n",
      "-------------------------------\n"
     ]
    },
    {
     "name": "stderr",
     "output_type": "stream",
     "text": [
      "/home/denis/anaconda3/lib/python3.6/site-packages/ipykernel_launcher.py:208: RuntimeWarning: invalid value encountered in log1p\n"
     ]
    },
    {
     "name": "stdout",
     "output_type": "stream",
     "text": [
      "166 Best model is mean_3\n",
      "loss: 3839.2027980461917\n",
      "val score: 3439.8534496620928 + 1729.5890721437274\n",
      "{'mean_all': 4602.754957331601, 'mean_3': 3839.2027980461917, 'median_all': 4893.626002532715, 'median_3': 3928.6618826509075, 'rf': 4708.357956943858, 'rf_mean': 4860.93278984753, 'ar': 8139.674221261644}\n",
      "-------------------------------\n"
     ]
    },
    {
     "name": "stderr",
     "output_type": "stream",
     "text": [
      "/home/denis/anaconda3/lib/python3.6/site-packages/ipykernel_launcher.py:208: RuntimeWarning: invalid value encountered in log1p\n"
     ]
    },
    {
     "name": "stdout",
     "output_type": "stream",
     "text": [
      "167 Best model is median_all\n",
      "loss: 1966.1133966319805\n",
      "val score: 3428.2491972760286 + 1727.683536886259\n",
      "{'mean_all': 2180.6272910355087, 'mean_3': 2204.4141960332936, 'median_all': 1966.1133966319805, 'median_3': 2318.324816011616, 'rf': 2595.18284957793, 'rf_mean': 2140.7364691302023, 'ar': 2176.6830320719614}\n",
      "-------------------------------\n"
     ]
    },
    {
     "name": "stderr",
     "output_type": "stream",
     "text": [
      "/home/denis/anaconda3/lib/python3.6/site-packages/ipykernel_launcher.py:208: RuntimeWarning: invalid value encountered in log1p\n"
     ]
    },
    {
     "name": "stdout",
     "output_type": "stream",
     "text": [
      "168 Best model is ar\n",
      "loss: 4429.132042609613\n",
      "val score: 3436.0685945051982 + 1723.1761676984647\n",
      "{'mean_all': 6354.137161099171, 'mean_3': 6593.047608781718, 'median_all': 6703.862701172589, 'median_3': 8247.068527561934, 'rf': 6896.135424184765, 'rf_mean': 6586.651424757874, 'ar': 4429.132042609613}\n",
      "-------------------------------\n"
     ]
    },
    {
     "name": "stderr",
     "output_type": "stream",
     "text": [
      "/home/denis/anaconda3/lib/python3.6/site-packages/ipykernel_launcher.py:208: RuntimeWarning: invalid value encountered in log1p\n"
     ]
    },
    {
     "name": "stdout",
     "output_type": "stream",
     "text": [
      "169 Best model is mean_3\n",
      "loss: 1785.1267065852599\n",
      "val score: 3423.2705953740356 + 1722.5803202315153\n",
      "{'mean_all': 3401.480662637036, 'mean_3': 1785.1267065852599, 'median_all': 3786.5990266010867, 'median_3': 1917.012163194534, 'rf': 3917.8018695439446, 'rf_mean': 3550.5129205228254, 'ar': 2814.0670127053054}\n",
      "-------------------------------\n"
     ]
    },
    {
     "name": "stderr",
     "output_type": "stream",
     "text": [
      "/home/denis/anaconda3/lib/python3.6/site-packages/ipykernel_launcher.py:208: RuntimeWarning: invalid value encountered in log1p\n"
     ]
    },
    {
     "name": "stdout",
     "output_type": "stream",
     "text": [
      "172 Best model is mean_3\n",
      "loss: 2760.9717446596387\n",
      "val score: 3418.175988830079 + 1716.917558637052\n",
      "{'mean_all': 4065.5906087108447, 'mean_3': 2760.9717446596387, 'median_all': 3964.4712320076133, 'median_3': 3213.053650025774, 'rf': 3938.8952773702367, 'rf_mean': 4791.133223788521, 'ar': 4585.275865315675}\n",
      "-------------------------------\n"
     ]
    },
    {
     "name": "stderr",
     "output_type": "stream",
     "text": [
      "/home/denis/anaconda3/lib/python3.6/site-packages/ipykernel_launcher.py:208: RuntimeWarning: invalid value encountered in log1p\n"
     ]
    },
    {
     "name": "stdout",
     "output_type": "stream",
     "text": [
      "173 Best model is median_3\n",
      "loss: 1898.9631005283986\n",
      "val score: 3406.578943881211 + 1715.4554662592107\n",
      "{'mean_all': 2180.63709879391, 'mean_3': 1947.2747830975593, 'median_all': 2117.7953173708297, 'median_3': 1898.9631005283986, 'rf': 2249.4041697066173, 'rf_mean': 3181.169959977354, 'ar': 2759.6131247190706}\n",
      "-------------------------------\n"
     ]
    },
    {
     "name": "stderr",
     "output_type": "stream",
     "text": [
      "/home/denis/anaconda3/lib/python3.6/site-packages/ipykernel_launcher.py:208: RuntimeWarning: invalid value encountered in log1p\n"
     ]
    },
    {
     "name": "stdout",
     "output_type": "stream",
     "text": [
      "176 Best model is median_3\n",
      "loss: 1365.4587823467757\n",
      "val score: 3391.115912354435 + 1718.0851004572717\n",
      "{'mean_all': 1367.9293586498359, 'mean_3': 1402.013168799657, 'median_all': 1375.2276867030967, 'median_3': 1365.4587823467757, 'rf': 1375.051303707774, 'rf_mean': 2726.649902021197, 'ar': 3213.688870302879}\n",
      "-------------------------------\n"
     ]
    },
    {
     "name": "stderr",
     "output_type": "stream",
     "text": [
      "/home/denis/anaconda3/lib/python3.6/site-packages/ipykernel_launcher.py:208: RuntimeWarning: invalid value encountered in log1p\n"
     ]
    },
    {
     "name": "stdout",
     "output_type": "stream",
     "text": [
      "177 Best model is median_3\n",
      "loss: 3912.5889590285874\n",
      "val score: 3395.0367623294287 + 1712.2066313873304\n",
      "{'mean_all': 4853.142585917846, 'mean_3': 4037.3048741027505, 'median_all': 4601.141892163564, 'median_3': 3912.5889590285874, 'rf': 4584.938281532709, 'rf_mean': 7791.350177874898, 'ar': 5065.980522482345}\n",
      "-------------------------------\n"
     ]
    },
    {
     "name": "stderr",
     "output_type": "stream",
     "text": [
      "/home/denis/anaconda3/lib/python3.6/site-packages/ipykernel_launcher.py:208: RuntimeWarning: invalid value encountered in log1p\n"
     ]
    },
    {
     "name": "stdout",
     "output_type": "stream",
     "text": [
      "178 Best model is median_3\n",
      "loss: 5240.768463073852\n",
      "val score: 3408.810879499163 + 1713.186256757214\n",
      "{'mean_all': 19639.18870350257, 'mean_3': 5329.003302917974, 'median_all': 12670.409181636727, 'median_3': 5240.768463073852, 'rf': 33658.433133732535, 'rf_mean': 9222.188011338962, 'ar': 5677.759538065974}\n",
      "-------------------------------\n"
     ]
    },
    {
     "name": "stderr",
     "output_type": "stream",
     "text": [
      "/home/denis/anaconda3/lib/python3.6/site-packages/ipykernel_launcher.py:208: RuntimeWarning: invalid value encountered in log1p\n"
     ]
    },
    {
     "name": "stdout",
     "output_type": "stream",
     "text": [
      "179 Best model is mean_all\n",
      "loss: 4086.4647112068483\n",
      "val score: 3413.830537511813 + 1707.818125607973\n",
      "{'mean_all': 4086.4647112068483, 'mean_3': 4784.064388778255, 'median_all': 4142.333088774762, 'median_3': 4965.517241379311, 'rf': 4257.666911225238, 'rf_mean': 5608.83530718807, 'ar': 6439.710495649437}\n",
      "-------------------------------\n"
     ]
    },
    {
     "name": "stderr",
     "output_type": "stream",
     "text": [
      "/home/denis/anaconda3/lib/python3.6/site-packages/ipykernel_launcher.py:208: RuntimeWarning: invalid value encountered in log1p\n"
     ]
    },
    {
     "name": "stdout",
     "output_type": "stream",
     "text": [
      "180 Best model is median_all\n",
      "loss: 4480.720068172134\n",
      "val score: 3421.6753134725504 + 1703.967375395865\n",
      "{'mean_all': 4813.213989662874, 'mean_3': 5022.270071215533, 'median_all': 4480.720068172134, 'median_3': 5460.694503621645, 'rf': 4561.248402215594, 'rf_mean': 6933.575512671079, 'ar': 4941.75064801454}\n",
      "-------------------------------\n"
     ]
    },
    {
     "name": "stderr",
     "output_type": "stream",
     "text": [
      "/home/denis/anaconda3/lib/python3.6/site-packages/ipykernel_launcher.py:208: RuntimeWarning: invalid value encountered in log1p\n"
     ]
    },
    {
     "name": "stdout",
     "output_type": "stream",
     "text": [
      "181 Best model is median_all\n",
      "loss: 1759.8572922433414\n",
      "val score: 3409.5452549234324 + 1703.6203104492856\n",
      "{'mean_all': 1820.8955672625475, 'mean_3': 2710.4297353437287, 'median_all': 1759.8572922433414, 'median_3': 2832.6698828636454, 'rf': 1816.536173428589, 'rf_mean': 1804.2492932676528, 'ar': 3084.9382873964446}\n",
      "-------------------------------\n"
     ]
    },
    {
     "name": "stderr",
     "output_type": "stream",
     "text": [
      "/home/denis/anaconda3/lib/python3.6/site-packages/ipykernel_launcher.py:208: RuntimeWarning: invalid value encountered in log1p\n"
     ]
    },
    {
     "name": "stdout",
     "output_type": "stream",
     "text": [
      "182 Best model is median_all\n",
      "loss: 2399.3554138380305\n",
      "val score: 3402.225038683683 + 1699.597618459647\n",
      "{'mean_all': 2550.5759714637693, 'mean_3': 2517.385148395228, 'median_all': 2399.3554138380305, 'median_3': 2421.189055749846, 'rf': 2511.5161489405473, 'rf_mean': 3462.0380361866296, 'ar': 2867.9535620677557}\n",
      "-------------------------------\n"
     ]
    },
    {
     "name": "stderr",
     "output_type": "stream",
     "text": [
      "/home/denis/anaconda3/lib/python3.6/site-packages/ipykernel_launcher.py:208: RuntimeWarning: invalid value encountered in log1p\n"
     ]
    },
    {
     "name": "stdout",
     "output_type": "stream",
     "text": [
      "185 Best model is rf_mean\n",
      "loss: 2110.7526430548605\n",
      "val score: 3392.9338703698063 + 1696.986594119248\n",
      "{'mean_all': 2459.35560441691, 'mean_3': 2426.158179306738, 'median_all': 2508.7479141106714, 'median_3': 2625.5182670648433, 'rf': 2870.156101448189, 'rf_mean': 2110.7526430548605, 'ar': 2384.064691413317}\n",
      "-------------------------------\n"
     ]
    },
    {
     "name": "stderr",
     "output_type": "stream",
     "text": [
      "/home/denis/anaconda3/lib/python3.6/site-packages/ipykernel_launcher.py:208: RuntimeWarning: invalid value encountered in log1p\n"
     ]
    },
    {
     "name": "stdout",
     "output_type": "stream",
     "text": [
      "186 Best model is mean_3\n",
      "loss: 2078.2972226123584\n",
      "val score: 3383.5436086001105 + 1694.5354427006457\n",
      "{'mean_all': 2529.3272308164474, 'mean_3': 2078.2972226123584, 'median_all': 2723.9260939533915, 'median_3': 2289.9010814581284, 'rf': 2737.893326156567, 'rf_mean': 2925.7753095667917, 'ar': 2773.6137519300496}\n",
      "-------------------------------\n"
     ]
    },
    {
     "name": "stderr",
     "output_type": "stream",
     "text": [
      "/home/denis/anaconda3/lib/python3.6/site-packages/ipykernel_launcher.py:208: RuntimeWarning: invalid value encountered in log1p\n"
     ]
    },
    {
     "name": "stdout",
     "output_type": "stream",
     "text": [
      "189 Best model is ar\n",
      "loss: 5126.810583207543\n",
      "val score: 3395.9072041647023 + 1694.8408950965709\n",
      "{'mean_all': 5466.8639127369215, 'mean_3': 5202.431401325601, 'median_all': 6152.136691160734, 'median_3': 5982.806591995434, 'rf': 5343.989441392595, 'rf_mean': 5913.190042199379, 'ar': 5126.810583207543}\n",
      "-------------------------------\n"
     ]
    },
    {
     "name": "stderr",
     "output_type": "stream",
     "text": [
      "/home/denis/anaconda3/lib/python3.6/site-packages/ipykernel_launcher.py:208: RuntimeWarning: invalid value encountered in log1p\n"
     ]
    },
    {
     "name": "stdout",
     "output_type": "stream",
     "text": [
      "191 Best model is rf\n",
      "loss: 1751.7741954095939\n",
      "val score: 3384.3288026945957 + 1694.449544868602\n",
      "{'mean_all': 1885.2808374068693, 'mean_3': 1887.135991150865, 'median_all': 1802.6633125238002, 'median_3': 1861.1223300522738, 'rf': 1751.7741954095939, 'rf_mean': 2287.16441037192, 'ar': 4623.878476390622}\n",
      "-------------------------------\n"
     ]
    },
    {
     "name": "stderr",
     "output_type": "stream",
     "text": [
      "/home/denis/anaconda3/lib/python3.6/site-packages/ipykernel_launcher.py:208: RuntimeWarning: invalid value encountered in log1p\n"
     ]
    },
    {
     "name": "stdout",
     "output_type": "stream",
     "text": [
      "192 Best model is median_3\n",
      "loss: 2261.3856781197314\n",
      "val score: 3376.4760535716946 + 1691.1054811244758\n",
      "{'mean_all': 2590.730925544553, 'mean_3': 2265.188265711502, 'median_all': 2330.7277214902197, 'median_3': 2261.3856781197314, 'rf': 3890.3634643538558, 'rf_mean': 2385.1138277162427, 'ar': 3103.009694964206}\n",
      "-------------------------------\n"
     ]
    },
    {
     "name": "stderr",
     "output_type": "stream",
     "text": [
      "/home/denis/anaconda3/lib/python3.6/site-packages/ipykernel_launcher.py:208: RuntimeWarning: invalid value encountered in log1p\n"
     ]
    },
    {
     "name": "stdout",
     "output_type": "stream",
     "text": [
      "193 Best model is mean_3\n",
      "loss: 2021.357616389063\n",
      "val score: 3367.065508869038 + 1688.9764972328733\n",
      "{'mean_all': 2579.631235663014, 'mean_3': 2021.357616389063, 'median_all': 2743.084079385926, 'median_3': 2067.633962441855, 'rf': 2518.138103884008, 'rf_mean': 4073.443402060464, 'ar': 3547.787166504234}\n",
      "-------------------------------\n"
     ]
    },
    {
     "name": "stderr",
     "output_type": "stream",
     "text": [
      "/home/denis/anaconda3/lib/python3.6/site-packages/ipykernel_launcher.py:208: RuntimeWarning: invalid value encountered in log1p\n"
     ]
    },
    {
     "name": "stdout",
     "output_type": "stream",
     "text": [
      "194 Best model is median_3\n",
      "loss: 2343.5712651567146\n",
      "val score: 3360.0069278779183 + 1685.272325545991\n",
      "{'mean_all': 2649.599278776808, 'mean_3': 2370.3623293288947, 'median_all': 2609.916821910645, 'median_3': 2343.5712651567146, 'rf': 2504.571526620257, 'rf_mean': 4369.2923981256945, 'ar': 2992.4026632809223}\n",
      "-------------------------------\n"
     ]
    },
    {
     "name": "stderr",
     "output_type": "stream",
     "text": [
      "/home/denis/anaconda3/lib/python3.6/site-packages/ipykernel_launcher.py:208: RuntimeWarning: invalid value encountered in log1p\n"
     ]
    },
    {
     "name": "stdout",
     "output_type": "stream",
     "text": [
      "195 Best model is rf\n",
      "loss: 2968.4695374885937\n",
      "val score: 3357.325164930046 + 1679.8013563844866\n",
      "{'mean_all': 3107.20187880502, 'mean_3': 3364.652537464241, 'median_all': 3205.9925594392503, 'median_3': 3614.8222922676327, 'rf': 2968.4695374885937, 'rf_mean': 3590.1442420337416, 'ar': 3595.167060433993}\n",
      "-------------------------------\n"
     ]
    },
    {
     "name": "stderr",
     "output_type": "stream",
     "text": [
      "/home/denis/anaconda3/lib/python3.6/site-packages/ipykernel_launcher.py:208: RuntimeWarning: invalid value encountered in log1p\n"
     ]
    },
    {
     "name": "stdout",
     "output_type": "stream",
     "text": [
      "196 Best model is ar\n",
      "loss: 4363.947060126718\n",
      "val score: 3364.1729329245813 + 1676.1215225449039\n",
      "{'mean_all': 6746.457524533164, 'mean_3': 4732.25379597947, 'median_all': 6353.808008982036, 'median_3': 4748.12874251497, 'rf': 5362.705838323353, 'rf_mean': 7074.108318194204, 'ar': 4363.947060126718}\n",
      "-------------------------------\n"
     ]
    },
    {
     "name": "stderr",
     "output_type": "stream",
     "text": [
      "/home/denis/anaconda3/lib/python3.6/site-packages/ipykernel_launcher.py:208: RuntimeWarning: invalid value encountered in log1p\n"
     ]
    },
    {
     "name": "stdout",
     "output_type": "stream",
     "text": [
      "199 Best model is median_all\n",
      "loss: 3193.021218239305\n",
      "val score: 3363.016502419951 + 1670.5081939582772\n",
      "{'mean_all': 3253.639089793381, 'mean_3': 3308.255603868152, 'median_all': 3193.021218239305, 'median_3': 3416.822216296522, 'rf': 3217.3250542836463, 'rf_mean': 6830.334891556366, 'ar': 4761.595914297162}\n",
      "-------------------------------\n"
     ]
    },
    {
     "name": "stderr",
     "output_type": "stream",
     "text": [
      "/home/denis/anaconda3/lib/python3.6/site-packages/ipykernel_launcher.py:208: RuntimeWarning: invalid value encountered in log1p\n"
     ]
    },
    {
     "name": "stdout",
     "output_type": "stream",
     "text": [
      "203 Best model is median_all\n",
      "loss: 1964.582457404849\n",
      "val score: 3353.631039030588 + 1668.8036575830529\n",
      "{'mean_all': 2038.1518211525265, 'mean_3': 2195.1312200456296, 'median_all': 1964.582457404849, 'median_3': 2300.57861333013, 'rf': 2460.299917912988, 'rf_mean': 2688.759987552772, 'ar': 4354.603006647401}\n",
      "-------------------------------\n"
     ]
    },
    {
     "name": "stderr",
     "output_type": "stream",
     "text": [
      "/home/denis/anaconda3/lib/python3.6/site-packages/ipykernel_launcher.py:208: RuntimeWarning: invalid value encountered in log1p\n"
     ]
    },
    {
     "name": "stdout",
     "output_type": "stream",
     "text": [
      "205 Best model is mean_3\n",
      "loss: 2665.9939564339365\n",
      "val score: 3349.0467918132767 + 1664.1727353168662\n",
      "{'mean_all': 3042.6430799129853, 'mean_3': 2665.9939564339365, 'median_all': 3019.4593955166497, 'median_3': 3020.642337493346, 'rf': 2948.512450464305, 'rf_mean': 4682.297717261321, 'ar': 5501.916183081529}\n",
      "-------------------------------\n"
     ]
    },
    {
     "name": "stderr",
     "output_type": "stream",
     "text": [
      "/home/denis/anaconda3/lib/python3.6/site-packages/ipykernel_launcher.py:208: RuntimeWarning: invalid value encountered in log1p\n"
     ]
    },
    {
     "name": "stdout",
     "output_type": "stream",
     "text": [
      "207 Best model is median_all\n",
      "loss: 2573.2947011736974\n",
      "val score: 3343.9093607494383 + 1659.8460789547628\n",
      "{'mean_all': 2900.3765422780143, 'mean_3': 2681.9230958110297, 'median_all': 2573.2947011736974, 'median_3': 2653.8329322791337, 'rf': 2627.85444187988, 'rf_mean': 5366.097156595204, 'ar': 5339.512792429764}\n",
      "-------------------------------\n"
     ]
    },
    {
     "name": "stderr",
     "output_type": "stream",
     "text": [
      "/home/denis/anaconda3/lib/python3.6/site-packages/ipykernel_launcher.py:208: RuntimeWarning: invalid value encountered in log1p\n"
     ]
    },
    {
     "name": "stdout",
     "output_type": "stream",
     "text": [
      "208 Best model is rf_mean\n",
      "loss: 4759.7595108850755\n",
      "val score: 3353.2241643687516 + 1658.3319995686352\n",
      "{'mean_all': 4859.32926563169, 'mean_3': 5532.29390887491, 'median_all': 4939.692781464238, 'median_3': 5829.819994867471, 'rf': 5422.260512519705, 'rf_mean': 4759.7595108850755, 'ar': 6575.944250832096}\n",
      "-------------------------------\n"
     ]
    },
    {
     "name": "stderr",
     "output_type": "stream",
     "text": [
      "/home/denis/anaconda3/lib/python3.6/site-packages/ipykernel_launcher.py:208: RuntimeWarning: invalid value encountered in log1p\n"
     ]
    },
    {
     "name": "stdout",
     "output_type": "stream",
     "text": [
      "209 Best model is median_3\n",
      "loss: 2906.382756913133\n",
      "val score: 3350.3036322938783 + 1653.2958672805385\n",
      "{'mean_all': 3655.1441340048177, 'mean_3': 3079.4636419033723, 'median_all': 3398.9679168078396, 'median_3': 2906.382756913133, 'rf': 5754.332925017592, 'rf_mean': 3861.4340846965556, 'ar': 4969.84413443385}\n",
      "-------------------------------\n"
     ]
    },
    {
     "name": "stderr",
     "output_type": "stream",
     "text": [
      "/home/denis/anaconda3/lib/python3.6/site-packages/ipykernel_launcher.py:208: RuntimeWarning: invalid value encountered in log1p\n"
     ]
    },
    {
     "name": "stdout",
     "output_type": "stream",
     "text": [
      "211 Best model is median_3\n",
      "loss: 4894.8766822618845\n",
      "val score: 3360.3333274235406 + 1652.5825120356\n",
      "{'mean_all': 7900.2694848609635, 'mean_3': 5104.768964325366, 'median_all': 9409.980939178651, 'median_3': 4894.8766822618845, 'rf': 11613.989487668227, 'rf_mean': 10870.046289441034, 'ar': 7855.0718937370475}\n",
      "-------------------------------\n"
     ]
    },
    {
     "name": "stderr",
     "output_type": "stream",
     "text": [
      "/home/denis/anaconda3/lib/python3.6/site-packages/ipykernel_launcher.py:208: RuntimeWarning: invalid value encountered in log1p\n"
     ]
    },
    {
     "name": "stdout",
     "output_type": "stream",
     "text": [
      "212 Best model is median_all\n",
      "loss: 3212.0910147815976\n",
      "val score: 3359.376925406496 + 1647.2857317285234\n",
      "{'mean_all': 3297.389816059796, 'mean_3': 3722.4560269216468, 'median_all': 3212.0910147815976, 'median_3': 3904.251785417705, 'rf': 3245.640259093174, 'rf_mean': 3340.7947369210638, 'ar': 4573.746972840009}\n",
      "-------------------------------\n"
     ]
    },
    {
     "name": "stderr",
     "output_type": "stream",
     "text": [
      "/home/denis/anaconda3/lib/python3.6/site-packages/ipykernel_launcher.py:208: RuntimeWarning: invalid value encountered in log1p\n"
     ]
    },
    {
     "name": "stdout",
     "output_type": "stream",
     "text": [
      "213 Best model is mean_3\n",
      "loss: 1851.1153668889751\n",
      "val score: 3349.708582082666 + 1646.4035479110726\n",
      "{'mean_all': 2319.512543856992, 'mean_3': 1851.1153668889751, 'median_all': 2497.419209465868, 'median_3': 2096.021128421185, 'rf': 2176.594194924358, 'rf_mean': 3012.626716022393, 'ar': 2137.0777690313244}\n",
      "-------------------------------\n"
     ]
    },
    {
     "name": "stderr",
     "output_type": "stream",
     "text": [
      "/home/denis/anaconda3/lib/python3.6/site-packages/ipykernel_launcher.py:208: RuntimeWarning: invalid value encountered in log1p\n"
     ]
    },
    {
     "name": "stdout",
     "output_type": "stream",
     "text": [
      "216 Best model is median_3\n",
      "loss: 2476.3543469999577\n",
      "val score: 3344.1458162541135 + 1642.6219013531907\n",
      "{'mean_all': 2673.5444920037494, 'mean_3': 2630.67113641893, 'median_all': 2751.3406240763416, 'median_3': 2476.3543469999577, 'rf': 2649.3265211333023, 'rf_mean': 6296.798918749591, 'ar': 4199.005745847027}\n",
      "-------------------------------\n"
     ]
    },
    {
     "name": "stderr",
     "output_type": "stream",
     "text": [
      "/home/denis/anaconda3/lib/python3.6/site-packages/ipykernel_launcher.py:208: RuntimeWarning: invalid value encountered in log1p\n"
     ]
    },
    {
     "name": "stdout",
     "output_type": "stream",
     "text": [
      "217 Best model is median_3\n",
      "loss: 7100.6711409395975\n",
      "val score: 3367.9212929926293 + 1664.294853781147\n",
      "{'mean_all': 7131.215171673508, 'mean_3': 7177.538528461347, 'median_all': 7214.019388516032, 'median_3': 7100.6711409395975, 'rf': 7275.838926174497, 'rf_mean': 7516.567154791328, 'ar': 11155.356599943703}\n",
      "-------------------------------\n"
     ]
    },
    {
     "name": "stderr",
     "output_type": "stream",
     "text": [
      "/home/denis/anaconda3/lib/python3.6/site-packages/ipykernel_launcher.py:208: RuntimeWarning: invalid value encountered in log1p\n"
     ]
    },
    {
     "name": "stdout",
     "output_type": "stream",
     "text": [
      "219 Best model is median_3\n",
      "loss: 1281.0127907104848\n",
      "val score: 3354.7960822864525 + 1667.2359133170748\n",
      "{'mean_all': 1434.9779522671727, 'mean_3': 1500.3783151264665, 'median_all': 1329.8868556445482, 'median_3': 1281.0127907104848, 'rf': 1296.2299904152298, 'rf_mean': 1772.5708254981091, 'ar': 2052.6291760432514}\n",
      "-------------------------------\n"
     ]
    },
    {
     "name": "stderr",
     "output_type": "stream",
     "text": [
      "/home/denis/anaconda3/lib/python3.6/site-packages/ipykernel_launcher.py:208: RuntimeWarning: invalid value encountered in log1p\n"
     ]
    },
    {
     "name": "stdout",
     "output_type": "stream",
     "text": [
      "220 Best model is rf\n",
      "loss: 2504.8304158649494\n",
      "val score: 3349.483796871318 + 1663.366964337514\n",
      "{'mean_all': 2653.445005638151, 'mean_3': 2652.5799889475566, 'median_all': 2537.9963662936866, 'median_3': 2799.2276698020232, 'rf': 2504.8304158649494, 'rf_mean': 5765.364630902621, 'ar': 4808.9503725295}\n",
      "-------------------------------\n"
     ]
    },
    {
     "name": "stderr",
     "output_type": "stream",
     "text": [
      "/home/denis/anaconda3/lib/python3.6/site-packages/ipykernel_launcher.py:208: RuntimeWarning: invalid value encountered in log1p\n"
     ]
    },
    {
     "name": "stdout",
     "output_type": "stream",
     "text": [
      "222 Best model is ar\n",
      "loss: 4654.536509738606\n",
      "val score: 3357.589714342543 + 1661.3601574629936\n",
      "{'mean_all': 7296.800405612405, 'mean_3': 7341.497635225153, 'median_all': 7276.345590194511, 'median_3': 6552.757793764988, 'rf': 7016.020516919797, 'rf_mean': 8746.471413488118, 'ar': 4654.536509738606}\n",
      "-------------------------------\n"
     ]
    },
    {
     "name": "stderr",
     "output_type": "stream",
     "text": [
      "/home/denis/anaconda3/lib/python3.6/site-packages/ipykernel_launcher.py:208: RuntimeWarning: invalid value encountered in log1p\n"
     ]
    },
    {
     "name": "stdout",
     "output_type": "stream",
     "text": [
      "225 Best model is mean_3\n",
      "loss: 2425.5516090443207\n",
      "val score: 3351.8363927049 + 1657.832628554168\n",
      "{'mean_all': 2900.4383039839563, 'mean_3': 2425.5516090443207, 'median_all': 3384.730693683449, 'median_3': 2538.61263310245, 'rf': 2940.959371446294, 'rf_mean': 2501.89917600434, 'ar': 2512.4550579746037}\n",
      "-------------------------------\n"
     ]
    },
    {
     "name": "stderr",
     "output_type": "stream",
     "text": [
      "/home/denis/anaconda3/lib/python3.6/site-packages/ipykernel_launcher.py:208: RuntimeWarning: invalid value encountered in log1p\n"
     ]
    },
    {
     "name": "stdout",
     "output_type": "stream",
     "text": [
      "226 Best model is rf_mean\n",
      "loss: 916.3782859739609\n",
      "val score: 3336.894931927409 + 1663.6446957714709\n",
      "{'mean_all': 1226.851888970286, 'mean_3': 1133.0835533012257, 'median_all': 1339.5297772865101, 'median_3': 1156.549210569555, 'rf': 1405.5073416284524, 'rf_mean': 916.3782859739609, 'ar': 2477.7149546104574}\n",
      "-------------------------------\n"
     ]
    },
    {
     "name": "stderr",
     "output_type": "stream",
     "text": [
      "/home/denis/anaconda3/lib/python3.6/site-packages/ipykernel_launcher.py:208: RuntimeWarning: invalid value encountered in log1p\n"
     ]
    },
    {
     "name": "stdout",
     "output_type": "stream",
     "text": [
      "228 Best model is median_all\n",
      "loss: 2096.8383171964697\n",
      "val score: 3329.3336111058798 + 1661.3719219994034\n",
      "{'mean_all': 2455.5184103787515, 'mean_3': 2922.153649052801, 'median_all': 2096.8383171964697, 'median_3': 2425.1220975066403, 'rf': 2153.0220203924255, 'rf_mean': 2194.4379858956668, 'ar': 2992.811338856689}\n",
      "-------------------------------\n"
     ]
    },
    {
     "name": "stderr",
     "output_type": "stream",
     "text": [
      "/home/denis/anaconda3/lib/python3.6/site-packages/ipykernel_launcher.py:208: RuntimeWarning: invalid value encountered in log1p\n"
     ]
    },
    {
     "name": "stdout",
     "output_type": "stream",
     "text": [
      "230 Best model is mean_3\n",
      "loss: 3365.9282274068387\n",
      "val score: 3329.555396659218 + 1656.3322456485369\n",
      "{'mean_all': 4301.708119751631, 'mean_3': 3365.9282274068387, 'median_all': 3626.4635752162, 'median_3': 4000.3202960959466, 'rf': 3696.732979821346, 'rf_mean': 5449.098085230017, 'ar': 4720.006363232405}\n",
      "-------------------------------\n"
     ]
    },
    {
     "name": "stderr",
     "output_type": "stream",
     "text": [
      "/home/denis/anaconda3/lib/python3.6/site-packages/ipykernel_launcher.py:208: RuntimeWarning: invalid value encountered in log1p\n"
     ]
    },
    {
     "name": "stdout",
     "output_type": "stream",
     "text": [
      "231 Best model is mean_3\n",
      "loss: 3151.5429871125693\n",
      "val score: 3328.483032746287 + 1651.3932076108215\n",
      "{'mean_all': 3862.9238591361996, 'mean_3': 3151.5429871125693, 'median_all': 3734.1763219915606, 'median_3': 3240.519905728277, 'rf': 3545.4776386909216, 'rf_mean': 4519.953121684017, 'ar': 3460.5489883510954}\n",
      "-------------------------------\n"
     ]
    },
    {
     "name": "stderr",
     "output_type": "stream",
     "text": [
      "/home/denis/anaconda3/lib/python3.6/site-packages/ipykernel_launcher.py:208: RuntimeWarning: invalid value encountered in log1p\n"
     ]
    },
    {
     "name": "stdout",
     "output_type": "stream",
     "text": [
      "233 Best model is ar\n",
      "loss: 6545.4032301192965\n",
      "val score: 3347.746027940137 + 1665.0423550702913\n",
      "{'mean_all': 8544.168681662071, 'mean_3': 8332.429475286617, 'median_all': 8523.351648351649, 'median_3': 8412.837162837162, 'rf': 8330.16983016983, 'rf_mean': 8499.50446405649, 'ar': 6545.4032301192965}\n",
      "-------------------------------\n"
     ]
    },
    {
     "name": "stderr",
     "output_type": "stream",
     "text": [
      "/home/denis/anaconda3/lib/python3.6/site-packages/ipykernel_launcher.py:208: RuntimeWarning: invalid value encountered in log1p\n"
     ]
    },
    {
     "name": "stdout",
     "output_type": "stream",
     "text": [
      "235 Best model is mean_all\n",
      "loss: 1819.4113732901515\n",
      "val score: 3338.6487978529353 + 1664.2369776422966\n",
      "{'mean_all': 1819.4113732901515, 'mean_3': 1880.575167773011, 'median_all': 1874.2537873264826, 'median_3': 1865.3573473816784, 'rf': 1879.3761080928018, 'rf_mean': 2358.514659251371, 'ar': 3253.3613335150403}\n",
      "-------------------------------\n"
     ]
    },
    {
     "name": "stderr",
     "output_type": "stream",
     "text": [
      "/home/denis/anaconda3/lib/python3.6/site-packages/ipykernel_launcher.py:208: RuntimeWarning: invalid value encountered in log1p\n"
     ]
    },
    {
     "name": "stdout",
     "output_type": "stream",
     "text": [
      "238 Best model is median_3\n",
      "loss: 3303.6857508688495\n",
      "val score: 3338.441915918118 + 1659.3080609717085\n",
      "{'mean_all': 3857.7441404351302, 'mean_3': 3376.6371225186613, 'median_all': 3615.7856228278765, 'median_3': 3303.6857508688495, 'rf': 3614.2079751234683, 'rf_mean': 6259.93185730628, 'ar': 4283.485825109813}\n",
      "-------------------------------\n"
     ]
    },
    {
     "name": "stderr",
     "output_type": "stream",
     "text": [
      "/home/denis/anaconda3/lib/python3.6/site-packages/ipykernel_launcher.py:208: RuntimeWarning: invalid value encountered in log1p\n"
     ]
    },
    {
     "name": "stdout",
     "output_type": "stream",
     "text": [
      "239 Best model is ar\n",
      "loss: 8941.83888318026\n",
      "val score: 3371.4030745490722 + 1709.0100520823953\n",
      "{'mean_all': 355649.4212350902, 'mean_3': 170268.0933484505, 'median_all': 344682.5396825397, 'median_3': 97857.14285714286, 'rf': 323679.8941798942, 'rf_mean': 305050.2555411304, 'ar': 8941.83888318026}\n",
      "-------------------------------\n"
     ]
    },
    {
     "name": "stderr",
     "output_type": "stream",
     "text": [
      "/home/denis/anaconda3/lib/python3.6/site-packages/ipykernel_launcher.py:208: RuntimeWarning: invalid value encountered in log1p\n"
     ]
    },
    {
     "name": "stdout",
     "output_type": "stream",
     "text": [
      "240 Best model is median_3\n",
      "loss: 3055.122284409375\n",
      "val score: 3369.553479285097 + 1704.1762590163423\n",
      "{'mean_all': 6440.283914696227, 'mean_3': 3198.461638633902, 'median_all': 7383.3736020633905, 'median_3': 3055.122284409375, 'rf': 9912.224363091414, 'rf_mean': 9999.813701254192, 'ar': 3200.918015741673}\n",
      "-------------------------------\n"
     ]
    },
    {
     "name": "stderr",
     "output_type": "stream",
     "text": [
      "/home/denis/anaconda3/lib/python3.6/site-packages/ipykernel_launcher.py:208: RuntimeWarning: invalid value encountered in log1p\n"
     ]
    },
    {
     "name": "stdout",
     "output_type": "stream",
     "text": [
      "241 Best model is median_3\n",
      "loss: 3055.623422102777\n",
      "val score: 3367.7283045340373 + 1699.3826487302276\n",
      "{'mean_all': 5956.133741213077, 'mean_3': 3696.4734118258425, 'median_all': 5293.387083638733, 'median_3': 3055.623422102777, 'rf': 5912.32999429921, 'rf_mean': 6101.321202323221, 'ar': 4587.2540583896825}\n",
      "-------------------------------\n"
     ]
    },
    {
     "name": "stderr",
     "output_type": "stream",
     "text": [
      "/home/denis/anaconda3/lib/python3.6/site-packages/ipykernel_launcher.py:208: RuntimeWarning: invalid value encountered in log1p\n"
     ]
    },
    {
     "name": "stdout",
     "output_type": "stream",
     "text": [
      "242 Best model is median_all\n",
      "loss: 2839.14219184256\n",
      "val score: 3364.672893478017 + 1694.9377650879658\n",
      "{'mean_all': 3165.6099454364894, 'mean_3': 3134.733370175232, 'median_all': 2839.14219184256, 'median_3': 3092.6537970404866, 'rf': 2878.201757680463, 'rf_mean': 3291.39980126506, 'ar': 4725.47964397005}\n",
      "-------------------------------\n"
     ]
    },
    {
     "name": "stderr",
     "output_type": "stream",
     "text": [
      "/home/denis/anaconda3/lib/python3.6/site-packages/ipykernel_launcher.py:208: RuntimeWarning: invalid value encountered in log1p\n"
     ]
    },
    {
     "name": "stdout",
     "output_type": "stream",
     "text": [
      "243 Best model is median_3\n",
      "loss: 1682.7324117619116\n",
      "val score: 3355.006568870453 + 1694.8357875945721\n",
      "{'mean_all': 1904.9053718373907, 'mean_3': 1840.1503491520593, 'median_all': 2001.957151679255, 'median_3': 1682.7324117619116, 'rf': 1882.7362120564344, 'rf_mean': 1984.8980008537703, 'ar': 2584.78772057147}\n",
      "-------------------------------\n"
     ]
    },
    {
     "name": "stderr",
     "output_type": "stream",
     "text": [
      "/home/denis/anaconda3/lib/python3.6/site-packages/ipykernel_launcher.py:208: RuntimeWarning: invalid value encountered in log1p\n"
     ]
    },
    {
     "name": "stdout",
     "output_type": "stream",
     "text": [
      "244 Best model is rf_mean\n",
      "loss: 1658.4304040936495\n",
      "val score: 3345.3118479288714 + 1694.8180099737363\n",
      "{'mean_all': 1668.9539445690355, 'mean_3': 1697.1645047632392, 'median_all': 1673.7591963874788, 'median_3': 1678.6950634659124, 'rf': 1681.1763371864224, 'rf_mean': 1658.4304040936495, 'ar': 2393.675129874253}\n",
      "-------------------------------\n"
     ]
    },
    {
     "name": "stderr",
     "output_type": "stream",
     "text": [
      "/home/denis/anaconda3/lib/python3.6/site-packages/ipykernel_launcher.py:208: RuntimeWarning: invalid value encountered in log1p\n"
     ]
    },
    {
     "name": "stdout",
     "output_type": "stream",
     "text": [
      "245 Best model is rf\n",
      "loss: 2063.4047869449523\n",
      "val score: 3338.0282850823714 + 1692.7407913770248\n",
      "{'mean_all': 2147.407461756536, 'mean_3': 2387.581729332684, 'median_all': 2085.6243426950036, 'median_3': 2327.4772898917963, 'rf': 2063.4047869449523, 'rf_mean': 3810.0880470067486, 'ar': 3274.664269915098}\n",
      "-------------------------------\n"
     ]
    },
    {
     "name": "stderr",
     "output_type": "stream",
     "text": [
      "/home/denis/anaconda3/lib/python3.6/site-packages/ipykernel_launcher.py:208: RuntimeWarning: invalid value encountered in log1p\n"
     ]
    },
    {
     "name": "stdout",
     "output_type": "stream",
     "text": [
      "246 Best model is median_all\n",
      "loss: 2989.419303561671\n",
      "val score: 3336.058742813893 + 1688.1544860914885\n",
      "{'mean_all': 3076.7918179288963, 'mean_3': 3096.7207942736977, 'median_all': 2989.419303561671, 'median_3': 3375.142814564602, 'rf': 3256.1472356067757, 'rf_mean': 4582.320799473361, 'ar': 4472.003520403216}\n",
      "-------------------------------\n"
     ]
    },
    {
     "name": "stderr",
     "output_type": "stream",
     "text": [
      "/home/denis/anaconda3/lib/python3.6/site-packages/ipykernel_launcher.py:208: RuntimeWarning: invalid value encountered in log1p\n"
     ]
    },
    {
     "name": "stdout",
     "output_type": "stream",
     "text": [
      "248 Best model is median_all\n",
      "loss: 3715.5485215780127\n",
      "val score: 3338.1907078631293 + 1683.6447374242869\n",
      "{'mean_all': 3898.8025821540946, 'mean_3': 5222.5965532897335, 'median_all': 3715.5485215780127, 'median_3': 4372.732185594071, 'rf': 3764.8614220643867, 'rf_mean': 4839.835047853323, 'ar': 4615.5246313619145}\n",
      "-------------------------------\n"
     ]
    },
    {
     "name": "stderr",
     "output_type": "stream",
     "text": [
      "/home/denis/anaconda3/lib/python3.6/site-packages/ipykernel_launcher.py:208: RuntimeWarning: invalid value encountered in log1p\n"
     ]
    },
    {
     "name": "stdout",
     "output_type": "stream",
     "text": [
      "249 Best model is median_3\n",
      "loss: 4125.318967961441\n",
      "val score: 3342.5880724446843 + 1679.9599601812304\n",
      "{'mean_all': 4803.276789347977, 'mean_3': 4406.981741756338, 'median_all': 5642.661374161233, 'median_3': 4125.318967961441, 'rf': 5534.165012758718, 'rf_mean': 6540.225322914465, 'ar': 7172.551875236486}\n",
      "-------------------------------\n"
     ]
    },
    {
     "name": "stderr",
     "output_type": "stream",
     "text": [
      "/home/denis/anaconda3/lib/python3.6/site-packages/ipykernel_launcher.py:208: RuntimeWarning: invalid value encountered in log1p\n"
     ]
    },
    {
     "name": "stdout",
     "output_type": "stream",
     "text": [
      "252 Best model is rf\n",
      "loss: 1896.8593815245836\n",
      "val score: 3334.5562463840174 + 1678.7297419059694\n",
      "{'mean_all': 1921.0718495777041, 'mean_3': 1914.3885082232064, 'median_all': 1919.8777884692695, 'median_3': 2069.892961165678, 'rf': 1896.8593815245836, 'rf_mean': 2725.31511580962, 'ar': 2673.305511020121}\n",
      "-------------------------------\n"
     ]
    },
    {
     "name": "stderr",
     "output_type": "stream",
     "text": [
      "/home/denis/anaconda3/lib/python3.6/site-packages/ipykernel_launcher.py:208: RuntimeWarning: invalid value encountered in log1p\n"
     ]
    },
    {
     "name": "stdout",
     "output_type": "stream",
     "text": [
      "255 Best model is mean_all\n",
      "loss: 3431.467762190523\n",
      "val score: 3335.0916691232787 + 1674.1013558661134\n",
      "{'mean_all': 3431.467762190523, 'mean_3': 3447.4348072562357, 'median_all': 3594.7204968944097, 'median_3': 3528.209109730849, 'rf': 3649.120082815735, 'rf_mean': 3660.9625035935096, 'ar': 4279.076529383639}\n",
      "-------------------------------\n"
     ]
    },
    {
     "name": "stderr",
     "output_type": "stream",
     "text": [
      "/home/denis/anaconda3/lib/python3.6/site-packages/ipykernel_launcher.py:208: RuntimeWarning: invalid value encountered in log1p\n"
     ]
    },
    {
     "name": "stdout",
     "output_type": "stream",
     "text": [
      "256 Best model is rf\n",
      "loss: 2264.4837426793347\n",
      "val score: 3329.209207988972 + 1671.3705664642919\n",
      "{'mean_all': 2362.1773738535767, 'mean_3': 2705.2484346287997, 'median_all': 2444.5577802482435, 'median_3': 2818.928862044858, 'rf': 2264.4837426793347, 'rf_mean': 5413.979085566841, 'ar': 4429.119874553099}\n",
      "-------------------------------\n"
     ]
    },
    {
     "name": "stderr",
     "output_type": "stream",
     "text": [
      "/home/denis/anaconda3/lib/python3.6/site-packages/ipykernel_launcher.py:208: RuntimeWarning: invalid value encountered in log1p\n"
     ]
    },
    {
     "name": "stdout",
     "output_type": "stream",
     "text": [
      "257 Best model is median_3\n",
      "loss: 1597.9853924759916\n",
      "val score: 3319.7489685599394 + 1671.6766883663925\n",
      "{'mean_all': 1769.1481657986285, 'mean_3': 1619.716783537655, 'median_all': 1741.4047191047628, 'median_3': 1597.9853924759916, 'rf': 1741.7350888273495, 'rf_mean': 1777.1744621766763, 'ar': 2273.257734284447}\n",
      "-------------------------------\n"
     ]
    },
    {
     "name": "stderr",
     "output_type": "stream",
     "text": [
      "/home/denis/anaconda3/lib/python3.6/site-packages/ipykernel_launcher.py:208: RuntimeWarning: invalid value encountered in log1p\n"
     ]
    },
    {
     "name": "stdout",
     "output_type": "stream",
     "text": [
      "258 Best model is mean_3\n",
      "loss: 2154.3919347469464\n",
      "val score: 3313.415506419651 + 1669.3280283705733\n",
      "{'mean_all': 2253.3918385168313, 'mean_3': 2154.3919347469464, 'median_all': 2492.737638919023, 'median_3': 2521.0035920059786, 'rf': 2400.1169209999757, 'rf_mean': 2811.121540979209, 'ar': 2724.0748267453932}\n",
      "-------------------------------\n"
     ]
    },
    {
     "name": "stderr",
     "output_type": "stream",
     "text": [
      "/home/denis/anaconda3/lib/python3.6/site-packages/ipykernel_launcher.py:208: RuntimeWarning: invalid value encountered in log1p\n"
     ]
    },
    {
     "name": "stdout",
     "output_type": "stream",
     "text": [
      "260 Best model is mean_all\n",
      "loss: 1915.5703095100837\n",
      "val score: 3305.859586436356 + 1667.9622223149631\n",
      "{'mean_all': 1915.5703095100837, 'mean_3': 1971.7175228002625, 'median_all': 1941.966062510599, 'median_3': 1949.8049788366563, 'rf': 1961.4785615155931, 'rf_mean': 2165.30410820222, 'ar': 3216.14960439669}\n",
      "-------------------------------\n"
     ]
    },
    {
     "name": "stderr",
     "output_type": "stream",
     "text": [
      "/home/denis/anaconda3/lib/python3.6/site-packages/ipykernel_launcher.py:208: RuntimeWarning: invalid value encountered in log1p\n"
     ]
    },
    {
     "name": "stdout",
     "output_type": "stream",
     "text": [
      "262 Best model is mean_3\n",
      "loss: 2482.791145783646\n",
      "val score: 3301.4344872930624 + 1664.5609141824905\n",
      "{'mean_all': 2493.6853597860822, 'mean_3': 2482.791145783646, 'median_all': 2606.0151765043233, 'median_3': 2561.36707857103, 'rf': 2703.817604821995, 'rf_mean': 2533.2588663122383, 'ar': 3610.89090637334}\n",
      "-------------------------------\n"
     ]
    },
    {
     "name": "stderr",
     "output_type": "stream",
     "text": [
      "/home/denis/anaconda3/lib/python3.6/site-packages/ipykernel_launcher.py:208: RuntimeWarning: invalid value encountered in log1p\n"
     ]
    },
    {
     "name": "stdout",
     "output_type": "stream",
     "text": [
      "264 Best model is median_all\n",
      "loss: 1800.34850090718\n",
      "val score: 3293.4072895049026 + 1663.7100710739778\n",
      "{'mean_all': 1897.610843731557, 'mean_3': 2753.0997640162404, 'median_all': 1800.34850090718, 'median_3': 2363.3840515925053, 'rf': 2054.942784773744, 'rf_mean': 2334.6484923315716, 'ar': 3143.7219950888048}\n",
      "-------------------------------\n"
     ]
    },
    {
     "name": "stderr",
     "output_type": "stream",
     "text": [
      "/home/denis/anaconda3/lib/python3.6/site-packages/ipykernel_launcher.py:208: RuntimeWarning: invalid value encountered in log1p\n"
     ]
    },
    {
     "name": "stdout",
     "output_type": "stream",
     "text": [
      "265 Best model is median_3\n",
      "loss: 1843.708373690916\n",
      "val score: 3285.6961250590834 + 1662.6267070426875\n",
      "{'mean_all': 1973.1247465569572, 'mean_3': 1948.7051441636836, 'median_all': 1960.3152048038573, 'median_3': 1843.708373690916, 'rf': 2043.9883151506715, 'rf_mean': 2184.1293913214886, 'ar': 3175.1033677882688}\n",
      "-------------------------------\n"
     ]
    },
    {
     "name": "stderr",
     "output_type": "stream",
     "text": [
      "/home/denis/anaconda3/lib/python3.6/site-packages/ipykernel_launcher.py:208: RuntimeWarning: invalid value encountered in log1p\n"
     ]
    },
    {
     "name": "stdout",
     "output_type": "stream",
     "text": [
      "267 Best model is mean_3\n",
      "loss: 5669.074137975103\n",
      "val score: 3298.3065907358878 + 1667.212637299404\n",
      "{'mean_all': 5784.46709034773, 'mean_3': 5669.074137975103, 'median_all': 5883.65539452496, 'median_3': 6030.595813204509, 'rf': 5851.717659688674, 'rf_mean': 7684.148312371643, 'ar': 6292.861775506185}\n",
      "-------------------------------\n"
     ]
    },
    {
     "name": "stderr",
     "output_type": "stream",
     "text": [
      "/home/denis/anaconda3/lib/python3.6/site-packages/ipykernel_launcher.py:208: RuntimeWarning: invalid value encountered in log1p\n"
     ]
    },
    {
     "name": "stdout",
     "output_type": "stream",
     "text": [
      "269 Best model is median_3\n",
      "loss: 1879.8617923261002\n",
      "val score: 3290.8410917968886 + 1665.9838472782474\n",
      "{'mean_all': 2562.7850836096563, 'mean_3': 2002.435861160377, 'median_all': 2333.2854313366533, 'median_3': 1879.8617923261002, 'rf': 2303.613268436541, 'rf_mean': 2736.427994800406, 'ar': 4316.224940869369}\n",
      "-------------------------------\n"
     ]
    },
    {
     "name": "stderr",
     "output_type": "stream",
     "text": [
      "/home/denis/anaconda3/lib/python3.6/site-packages/ipykernel_launcher.py:208: RuntimeWarning: invalid value encountered in log1p\n"
     ]
    },
    {
     "name": "stdout",
     "output_type": "stream",
     "text": [
      "270 Best model is mean_3\n",
      "loss: 1134.8738788275539\n",
      "val score: 3279.553305341552 + 1668.8856874425762\n",
      "{'mean_all': 1180.1376739455602, 'mean_3': 1134.8738788275539, 'median_all': 1147.3769746173912, 'median_3': 1294.2451824459279, 'rf': 1193.2181207269432, 'rf_mean': 1403.7205064308387, 'ar': 3656.4560662837853}\n",
      "-------------------------------\n"
     ]
    },
    {
     "name": "stderr",
     "output_type": "stream",
     "text": [
      "/home/denis/anaconda3/lib/python3.6/site-packages/ipykernel_launcher.py:208: RuntimeWarning: invalid value encountered in log1p\n"
     ]
    },
    {
     "name": "stdout",
     "output_type": "stream",
     "text": [
      "271 Best model is median_3\n",
      "loss: 3875.718753152426\n",
      "val score: 3282.6583337155666 + 1665.0870140252684\n",
      "{'mean_all': 8119.575859955169, 'mean_3': 4152.108612788403, 'median_all': 8295.798446484414, 'median_3': 3875.718753152426, 'rf': 10756.657923938263, 'rf_mean': 6958.636854016234, 'ar': 4667.763240225277}\n",
      "-------------------------------\n"
     ]
    },
    {
     "name": "stderr",
     "output_type": "stream",
     "text": [
      "/home/denis/anaconda3/lib/python3.6/site-packages/ipykernel_launcher.py:208: RuntimeWarning: invalid value encountered in log1p\n"
     ]
    },
    {
     "name": "stdout",
     "output_type": "stream",
     "text": [
      "272 Best model is ar\n",
      "loss: 6917.911793401565\n",
      "val score: 3301.4938438693807 + 1681.150344202297\n",
      "{'mean_all': 9192.405745336038, 'mean_3': 9837.317176146807, 'median_all': 9256.525017635182, 'median_3': 10280.946705261365, 'rf': 9781.348057697453, 'rf_mean': 13657.785946434991, 'ar': 6917.911793401565}\n",
      "-------------------------------\n"
     ]
    },
    {
     "name": "stderr",
     "output_type": "stream",
     "text": [
      "/home/denis/anaconda3/lib/python3.6/site-packages/ipykernel_launcher.py:208: RuntimeWarning: invalid value encountered in log1p\n"
     ]
    },
    {
     "name": "stdout",
     "output_type": "stream",
     "text": [
      "273 Best model is mean_3\n",
      "loss: 3699.0983423257467\n",
      "val score: 3303.543351593383 + 1677.0536034676177\n",
      "{'mean_all': 4499.358225839389, 'mean_3': 3699.0983423257467, 'median_all': 4296.772396227166, 'median_3': 3952.4216977753013, 'rf': 4320.6709913638715, 'rf_mean': 7408.575386709292, 'ar': 7103.108315588684}\n",
      "-------------------------------\n"
     ]
    },
    {
     "name": "stderr",
     "output_type": "stream",
     "text": [
      "/home/denis/anaconda3/lib/python3.6/site-packages/ipykernel_launcher.py:208: RuntimeWarning: invalid value encountered in log1p\n"
     ]
    },
    {
     "name": "stdout",
     "output_type": "stream",
     "text": [
      "274 Best model is median_3\n",
      "loss: 1934.6960651792126\n",
      "val score: 3296.5236219194635 + 1675.6029745199644\n",
      "{'mean_all': 1954.2442087851816, 'mean_3': 1969.4934331368759, 'median_all': 2077.317728435679, 'median_3': 1934.6960651792126, 'rf': 2045.9483784412407, 'rf_mean': 2450.7502254227825, 'ar': 2309.3705792544806}\n",
      "-------------------------------\n"
     ]
    },
    {
     "name": "stderr",
     "output_type": "stream",
     "text": [
      "/home/denis/anaconda3/lib/python3.6/site-packages/ipykernel_launcher.py:208: RuntimeWarning: invalid value encountered in log1p\n"
     ]
    },
    {
     "name": "stdout",
     "output_type": "stream",
     "text": [
      "275 Best model is median_all\n",
      "loss: 1394.77900843265\n",
      "val score: 3286.8208432792253 + 1676.806092027159\n",
      "{'mean_all': 1509.4093951146479, 'mean_3': 1540.7807991385232, 'median_all': 1394.77900843265, 'median_3': 1541.0199880703149, 'rf': 1450.287131144665, 'rf_mean': 2034.7678304422802, 'ar': 2101.6861198174706}\n",
      "-------------------------------\n"
     ]
    },
    {
     "name": "stderr",
     "output_type": "stream",
     "text": [
      "/home/denis/anaconda3/lib/python3.6/site-packages/ipykernel_launcher.py:208: RuntimeWarning: invalid value encountered in log1p\n"
     ]
    },
    {
     "name": "stdout",
     "output_type": "stream",
     "text": [
      "276 Best model is median_3\n",
      "loss: 1350.0022087732473\n",
      "val score: 3276.9892766066055 + 1678.1988831882766\n",
      "{'mean_all': 1832.5055592521587, 'mean_3': 1432.1656022483205, 'median_all': 1805.782568361532, 'median_3': 1350.0022087732473, 'rf': 1819.1014710429827, 'rf_mean': 1841.1701076732675, 'ar': 2432.1030618573554}\n",
      "-------------------------------\n"
     ]
    },
    {
     "name": "stderr",
     "output_type": "stream",
     "text": [
      "/home/denis/anaconda3/lib/python3.6/site-packages/ipykernel_launcher.py:208: RuntimeWarning: invalid value encountered in log1p\n"
     ]
    },
    {
     "name": "stdout",
     "output_type": "stream",
     "text": [
      "277 Best model is median_3\n",
      "loss: 1606.0140568954612\n",
      "val score: 3268.550007820186 + 1678.1412580171334\n",
      "{'mean_all': 1619.6591595752022, 'mean_3': 1747.2288620402644, 'median_all': 1626.62009845327, 'median_3': 1606.0140568954612, 'rf': 1686.159576014489, 'rf_mean': 1658.8342984922247, 'ar': 2279.4168916729022}\n",
      "-------------------------------\n"
     ]
    },
    {
     "name": "stderr",
     "output_type": "stream",
     "text": [
      "/home/denis/anaconda3/lib/python3.6/site-packages/ipykernel_launcher.py:208: RuntimeWarning: invalid value encountered in log1p\n"
     ]
    },
    {
     "name": "stdout",
     "output_type": "stream",
     "text": [
      "278 Best model is mean_all\n",
      "loss: 2834.2899244150562\n",
      "val score: 3266.367796345788 + 1674.2011285981266\n",
      "{'mean_all': 2834.2899244150562, 'mean_3': 2855.506980725359, 'median_all': 2904.825685224008, 'median_3': 2872.311514869167, 'rf': 2870.0986101405388, 'rf_mean': 3082.300330448808, 'ar': 4680.799871801464}\n",
      "-------------------------------\n"
     ]
    },
    {
     "name": "stderr",
     "output_type": "stream",
     "text": [
      "/home/denis/anaconda3/lib/python3.6/site-packages/ipykernel_launcher.py:208: RuntimeWarning: invalid value encountered in log1p\n"
     ]
    },
    {
     "name": "stdout",
     "output_type": "stream",
     "text": [
      "279 Best model is ar\n",
      "loss: 4076.2612972160346\n",
      "val score: 3270.417263850139 + 1670.9871068116997\n",
      "{'mean_all': 6848.689946215069, 'mean_3': 5852.206730535289, 'median_all': 9503.295998717665, 'median_3': 7472.39976757699, 'rf': 11556.27241579675, 'rf_mean': 12909.12046028461, 'ar': 4076.2612972160346}\n",
      "-------------------------------\n"
     ]
    },
    {
     "name": "stderr",
     "output_type": "stream",
     "text": [
      "/home/denis/anaconda3/lib/python3.6/site-packages/ipykernel_launcher.py:208: RuntimeWarning: invalid value encountered in log1p\n"
     ]
    },
    {
     "name": "stdout",
     "output_type": "stream",
     "text": [
      "280 Best model is median_all\n",
      "loss: 4549.091331714389\n",
      "val score: 3276.7788263768275 + 1669.2514114988649\n",
      "{'mean_all': 4556.559504061315, 'mean_3': 4992.657949766115, 'median_all': 4549.091331714389, 'median_3': 5078.663575583707, 'rf': 4772.187593665319, 'rf_mean': 5904.787137030917, 'ar': 6002.233629669893}\n",
      "-------------------------------\n"
     ]
    },
    {
     "name": "stderr",
     "output_type": "stream",
     "text": [
      "/home/denis/anaconda3/lib/python3.6/site-packages/ipykernel_launcher.py:208: RuntimeWarning: invalid value encountered in log1p\n"
     ]
    },
    {
     "name": "stdout",
     "output_type": "stream",
     "text": [
      "281 Best model is median_all\n",
      "loss: 1754.3325593249137\n",
      "val score: 3269.241963668649 + 1668.5394446103237\n",
      "{'mean_all': 1837.5137809508153, 'mean_3': 1854.980538542653, 'median_all': 1754.3325593249137, 'median_3': 1780.0777784070528, 'rf': 1889.4819807064243, 'rf_mean': 2577.5354551386313, 'ar': 2436.327331575538}\n",
      "-------------------------------\n"
     ]
    },
    {
     "name": "stderr",
     "output_type": "stream",
     "text": [
      "/home/denis/anaconda3/lib/python3.6/site-packages/ipykernel_launcher.py:208: RuntimeWarning: invalid value encountered in log1p\n"
     ]
    },
    {
     "name": "stdout",
     "output_type": "stream",
     "text": [
      "282 Best model is median_all\n",
      "loss: 2316.706653583153\n",
      "val score: 3264.5496715007407 + 1665.7601962013982\n",
      "{'mean_all': 2353.5076692562748, 'mean_3': 2578.9070666875105, 'median_all': 2316.706653583153, 'median_3': 2736.6720267972278, 'rf': 2337.5957502555907, 'rf_mean': 2821.006176279519, 'ar': 3563.9143150743307}\n",
      "-------------------------------\n"
     ]
    },
    {
     "name": "stderr",
     "output_type": "stream",
     "text": [
      "/home/denis/anaconda3/lib/python3.6/site-packages/ipykernel_launcher.py:208: RuntimeWarning: invalid value encountered in log1p\n"
     ]
    },
    {
     "name": "stdout",
     "output_type": "stream",
     "text": [
      "283 Best model is mean_all\n",
      "loss: 2673.712821414085\n",
      "val score: 3261.6534124316886 + 1662.1847398422772\n",
      "{'mean_all': 2673.712821414085, 'mean_3': 3451.210184912523, 'median_all': 2817.1575346161735, 'median_3': 3177.29524385111, 'rf': 2877.615773966911, 'rf_mean': 6530.711542861986, 'ar': 4992.346995915489}\n",
      "-------------------------------\n"
     ]
    },
    {
     "name": "stderr",
     "output_type": "stream",
     "text": [
      "/home/denis/anaconda3/lib/python3.6/site-packages/ipykernel_launcher.py:208: RuntimeWarning: invalid value encountered in log1p\n"
     ]
    },
    {
     "name": "stdout",
     "output_type": "stream",
     "text": [
      "284 Best model is mean_3\n",
      "loss: 2648.5028152128066\n",
      "val score: 3258.6624339086698 + 1658.675895721833\n",
      "{'mean_all': 4057.664681347833, 'mean_3': 2648.5028152128066, 'median_all': 4514.3701299113, 'median_3': 2841.6908123735916, 'rf': 5238.982266378398, 'rf_mean': 4895.1005465700355, 'ar': 4797.8584842279115}\n",
      "-------------------------------\n"
     ]
    },
    {
     "name": "stderr",
     "output_type": "stream",
     "text": [
      "/home/denis/anaconda3/lib/python3.6/site-packages/ipykernel_launcher.py:208: RuntimeWarning: invalid value encountered in log1p\n"
     ]
    },
    {
     "name": "stdout",
     "output_type": "stream",
     "text": [
      "285 Best model is median_3\n",
      "loss: 2548.264874417608\n",
      "val score: 3255.21390206648 + 1655.3816163272581\n",
      "{'mean_all': 2583.8760214590257, 'mean_3': 2632.38365554544, 'median_all': 2791.061961120334, 'median_3': 2548.264874417608, 'rf': 2744.055588282547, 'rf_mean': 4618.075760671773, 'ar': 3904.839672657226}\n",
      "-------------------------------\n"
     ]
    },
    {
     "name": "stderr",
     "output_type": "stream",
     "text": [
      "/home/denis/anaconda3/lib/python3.6/site-packages/ipykernel_launcher.py:208: RuntimeWarning: invalid value encountered in log1p\n"
     ]
    },
    {
     "name": "stdout",
     "output_type": "stream",
     "text": [
      "286 Best model is median_all\n",
      "loss: 2324.300042171657\n",
      "val score: 3250.716733661191 + 1652.6392346307082\n",
      "{'mean_all': 2338.1161491382863, 'mean_3': 2459.1850611052464, 'median_all': 2324.300042171657, 'median_3': 2411.0269715249638, 'rf': 2352.170006784136, 'rf_mean': 2422.8263592753133, 'ar': 4754.189080072084}\n",
      "-------------------------------\n"
     ]
    },
    {
     "name": "stderr",
     "output_type": "stream",
     "text": [
      "/home/denis/anaconda3/lib/python3.6/site-packages/ipykernel_launcher.py:208: RuntimeWarning: invalid value encountered in log1p\n"
     ]
    },
    {
     "name": "stdout",
     "output_type": "stream",
     "text": [
      "287 Best model is mean_3\n",
      "loss: 2391.9491428204333\n",
      "val score: 3246.5880433206103 + 1649.7315329911976\n",
      "{'mean_all': 2844.784253304518, 'mean_3': 2391.9491428204333, 'median_all': 2480.486316330464, 'median_3': 2452.9021585506875, 'rf': 2425.6873956058075, 'rf_mean': 2514.6436596995177, 'ar': 3109.776040086249}\n",
      "-------------------------------\n"
     ]
    },
    {
     "name": "stderr",
     "output_type": "stream",
     "text": [
      "/home/denis/anaconda3/lib/python3.6/site-packages/ipykernel_launcher.py:208: RuntimeWarning: invalid value encountered in log1p\n"
     ]
    },
    {
     "name": "stdout",
     "output_type": "stream",
     "text": [
      "288 Best model is median_all\n",
      "loss: 2578.628132372633\n",
      "val score: 3243.392062885452 + 1646.4254086595745\n",
      "{'mean_all': 2928.1097039497477, 'mean_3': 2901.0051830462467, 'median_all': 2578.628132372633, 'median_3': 2653.7891347318755, 'rf': 2849.980871006823, 'rf_mean': 2628.642479117516, 'ar': 3603.7631749703182}\n",
      "-------------------------------\n"
     ]
    },
    {
     "name": "stderr",
     "output_type": "stream",
     "text": [
      "/home/denis/anaconda3/lib/python3.6/site-packages/ipykernel_launcher.py:208: RuntimeWarning: invalid value encountered in log1p\n"
     ]
    },
    {
     "name": "stdout",
     "output_type": "stream",
     "text": [
      "289 Best model is mean_all\n",
      "loss: 2555.670165415825\n",
      "val score: 3240.1171967070254 + 1643.1828639268033\n",
      "{'mean_all': 2555.670165415825, 'mean_3': 2824.206556045682, 'median_all': 2585.6597794132977, 'median_3': 2858.14065008444, 'rf': 2753.860267289369, 'rf_mean': 2834.9028084186507, 'ar': 3576.1023406451295}\n",
      "-------------------------------\n"
     ]
    },
    {
     "name": "stderr",
     "output_type": "stream",
     "text": [
      "/home/denis/anaconda3/lib/python3.6/site-packages/ipykernel_launcher.py:208: RuntimeWarning: invalid value encountered in log1p\n"
     ]
    },
    {
     "name": "stdout",
     "output_type": "stream",
     "text": [
      "290 Best model is median_3\n",
      "loss: 1746.5535524920467\n",
      "val score: 3233.0386960235423 + 1642.4906591114272\n",
      "{'mean_all': 2810.8767122810577, 'mean_3': 1993.1121547240316, 'median_all': 2576.8543841044816, 'median_3': 1746.5535524920467, 'rf': 2645.526594854049, 'rf_mean': 3006.3008974137592, 'ar': 3099.855000572182}\n",
      "-------------------------------\n"
     ]
    },
    {
     "name": "stderr",
     "output_type": "stream",
     "text": [
      "/home/denis/anaconda3/lib/python3.6/site-packages/ipykernel_launcher.py:208: RuntimeWarning: invalid value encountered in log1p\n"
     ]
    },
    {
     "name": "stdout",
     "output_type": "stream",
     "text": [
      "291 Best model is mean_3\n",
      "loss: 2435.0461339483663\n",
      "val score: 3229.274580164697 + 1639.5242531656233\n",
      "{'mean_all': 2488.5398395532384, 'mean_3': 2435.0461339483663, 'median_all': 2617.6744998117642, 'median_3': 2727.0420829218524, 'rf': 2597.76518024236, 'rf_mean': 2633.9322435217837, 'ar': 3194.588509509207}\n",
      "-------------------------------\n"
     ]
    },
    {
     "name": "stderr",
     "output_type": "stream",
     "text": [
      "/home/denis/anaconda3/lib/python3.6/site-packages/ipykernel_launcher.py:208: RuntimeWarning: invalid value encountered in log1p\n"
     ]
    },
    {
     "name": "stdout",
     "output_type": "stream",
     "text": [
      "295 Best model is mean_3\n",
      "loss: 1733.1269990712665\n",
      "val score: 3222.2504131173105 + 1638.8653768011923\n",
      "{'mean_all': 1766.3662399769526, 'mean_3': 1733.1269990712665, 'median_all': 1879.1978034531796, 'median_3': 2037.951097682517, 'rf': 1852.926693795228, 'rf_mean': 2456.1206177165436, 'ar': 3656.582230307027}\n",
      "-------------------------------\n"
     ]
    },
    {
     "name": "stderr",
     "output_type": "stream",
     "text": [
      "/home/denis/anaconda3/lib/python3.6/site-packages/ipykernel_launcher.py:208: RuntimeWarning: invalid value encountered in log1p\n"
     ]
    },
    {
     "name": "stdout",
     "output_type": "stream",
     "text": [
      "297 Best model is mean_all\n",
      "loss: 2661.178648728557\n",
      "val score: 3219.628582442597 + 1635.4794540488172\n",
      "{'mean_all': 2661.178648728557, 'mean_3': 3128.0075379258715, 'median_all': 2924.6749281858424, 'median_3': 3370.408403991063, 'rf': 3116.7066790635713, 'rf_mean': 5158.370826104389, 'ar': 4899.596046080184}\n",
      "-------------------------------\n"
     ]
    },
    {
     "name": "stderr",
     "output_type": "stream",
     "text": [
      "/home/denis/anaconda3/lib/python3.6/site-packages/ipykernel_launcher.py:208: RuntimeWarning: invalid value encountered in log1p\n"
     ]
    },
    {
     "name": "stdout",
     "output_type": "stream",
     "text": [
      "298 Best model is median_3\n",
      "loss: 1930.5853854139773\n",
      "val score: 3213.633032688975 + 1634.0271487155248\n",
      "{'mean_all': 2144.7680639441464, 'mean_3': 2145.834853707922, 'median_all': 2090.870140784725, 'median_3': 1930.5853854139773, 'rf': 2006.4871931491725, 'rf_mean': 2599.473287812612, 'ar': 4410.886374772368}\n",
      "-------------------------------\n"
     ]
    },
    {
     "name": "stderr",
     "output_type": "stream",
     "text": [
      "/home/denis/anaconda3/lib/python3.6/site-packages/ipykernel_launcher.py:208: RuntimeWarning: invalid value encountered in log1p\n"
     ]
    },
    {
     "name": "stdout",
     "output_type": "stream",
     "text": [
      "299 Best model is median_all\n",
      "loss: 2246.624762896567\n",
      "val score: 3209.156142551047 + 1631.5613846311692\n",
      "{'mean_all': 2250.4274873529594, 'mean_3': 2455.5271666073354, 'median_all': 2246.624762896567, 'median_3': 2341.3266634433, 'rf': 2323.9762710603636, 'rf_mean': 2965.87376387855, 'ar': 3025.91046311989}\n",
      "-------------------------------\n"
     ]
    },
    {
     "name": "stderr",
     "output_type": "stream",
     "text": [
      "/home/denis/anaconda3/lib/python3.6/site-packages/ipykernel_launcher.py:208: RuntimeWarning: invalid value encountered in log1p\n"
     ]
    },
    {
     "name": "stdout",
     "output_type": "stream",
     "text": [
      "300 Best model is median_all\n",
      "loss: 1616.7889296432145\n",
      "val score: 3201.8180447957116 + 1631.3664222451807\n",
      "{'mean_all': 1619.816269622044, 'mean_3': 1736.3197702805696, 'median_all': 1616.7889296432145, 'median_3': 1675.7252417472491, 'rf': 1619.6398799599867, 'rf_mean': 2068.45806512314, 'ar': 1963.0792673173996}\n",
      "-------------------------------\n"
     ]
    },
    {
     "name": "stderr",
     "output_type": "stream",
     "text": [
      "/home/denis/anaconda3/lib/python3.6/site-packages/ipykernel_launcher.py:208: RuntimeWarning: invalid value encountered in log1p\n"
     ]
    },
    {
     "name": "stdout",
     "output_type": "stream",
     "text": [
      "301 Best model is mean_3\n",
      "loss: 2336.4659272158206\n",
      "val score: 3197.848539669198 + 1628.6705036402188\n",
      "{'mean_all': 3167.810262008555, 'mean_3': 2336.4659272158206, 'median_all': 2924.832768480397, 'median_3': 2558.905128972507, 'rf': 2734.459803770899, 'rf_mean': 2902.6695828711618, 'ar': 3403.5624453372225}\n",
      "-------------------------------\n"
     ]
    },
    {
     "name": "stderr",
     "output_type": "stream",
     "text": [
      "/home/denis/anaconda3/lib/python3.6/site-packages/ipykernel_launcher.py:208: RuntimeWarning: invalid value encountered in log1p\n"
     ]
    },
    {
     "name": "stdout",
     "output_type": "stream",
     "text": [
      "302 Best model is median_all\n",
      "loss: 2835.3250478011473\n",
      "val score: 3196.1931812588423 + 1625.1316237961976\n",
      "{'mean_all': 2914.142466124634, 'mean_3': 3191.5110284075386, 'median_all': 2835.3250478011473, 'median_3': 3332.2179732313575, 'rf': 2875.0, 'rf_mean': 2978.1847155186288, 'ar': 5558.531874996401}\n",
      "-------------------------------\n"
     ]
    },
    {
     "name": "stderr",
     "output_type": "stream",
     "text": [
      "/home/denis/anaconda3/lib/python3.6/site-packages/ipykernel_launcher.py:208: RuntimeWarning: invalid value encountered in log1p\n"
     ]
    },
    {
     "name": "stdout",
     "output_type": "stream",
     "text": [
      "303 Best model is median_all\n",
      "loss: 2189.3533661622514\n",
      "val score: 3191.6166366447665 + 1622.8477783836024\n",
      "{'mean_all': 2219.7645497978497, 'mean_3': 2367.596831829673, 'median_all': 2189.3533661622514, 'median_3': 2322.0543833794613, 'rf': 2222.731929118292, 'rf_mean': 2960.77534715315, 'ar': 3304.738526943703}\n",
      "-------------------------------\n"
     ]
    },
    {
     "name": "stderr",
     "output_type": "stream",
     "text": [
      "/home/denis/anaconda3/lib/python3.6/site-packages/ipykernel_launcher.py:208: RuntimeWarning: invalid value encountered in log1p\n"
     ]
    },
    {
     "name": "stdout",
     "output_type": "stream",
     "text": [
      "304 Best model is rf\n",
      "loss: 1830.8206680733515\n",
      "val score: 3185.459188823176 + 1621.7457037895347\n",
      "{'mean_all': 1836.6030111576197, 'mean_3': 1906.5110078668536, 'median_all': 1842.5022680244233, 'median_3': 1872.0120689479425, 'rf': 1830.8206680733515, 'rf_mean': 2776.8161567278066, 'ar': 3087.6206647258173}\n",
      "-------------------------------\n"
     ]
    },
    {
     "name": "stderr",
     "output_type": "stream",
     "text": [
      "/home/denis/anaconda3/lib/python3.6/site-packages/ipykernel_launcher.py:208: RuntimeWarning: invalid value encountered in log1p\n"
     ]
    },
    {
     "name": "stdout",
     "output_type": "stream",
     "text": [
      "305 Best model is mean_all\n",
      "loss: 1405.6402196275142\n",
      "val score: 3177.4419862592326 + 1622.4724676363378\n",
      "{'mean_all': 1405.6402196275142, 'mean_3': 1625.2932118861197, 'median_all': 1498.4636559555215, 'median_3': 1519.4714252081158, 'rf': 1573.7233856314103, 'rf_mean': 2209.2541297956336, 'ar': 2363.4880513403823}\n",
      "-------------------------------\n"
     ]
    },
    {
     "name": "stderr",
     "output_type": "stream",
     "text": [
      "/home/denis/anaconda3/lib/python3.6/site-packages/ipykernel_launcher.py:208: RuntimeWarning: invalid value encountered in log1p\n"
     ]
    },
    {
     "name": "stdout",
     "output_type": "stream",
     "text": [
      "306 Best model is median_3\n",
      "loss: 1677.7350739158926\n",
      "val score: 3170.7168431545538 + 1621.9287481767274\n",
      "{'mean_all': 1934.3161876496513, 'mean_3': 1850.4475108753218, 'median_all': 1870.9713398736853, 'median_3': 1677.7350739158926, 'rf': 1893.9617152390822, 'rf_mean': 2080.7453331876604, 'ar': 2594.3946440503673}\n",
      "-------------------------------\n"
     ]
    },
    {
     "name": "stderr",
     "output_type": "stream",
     "text": [
      "/home/denis/anaconda3/lib/python3.6/site-packages/ipykernel_launcher.py:208: RuntimeWarning: invalid value encountered in log1p\n"
     ]
    },
    {
     "name": "stdout",
     "output_type": "stream",
     "text": [
      "307 Best model is mean_all\n",
      "loss: 1436.8814120136055\n",
      "val score: 3162.976506408388 + 1622.4270200683668\n",
      "{'mean_all': 1436.8814120136055, 'mean_3': 1737.951688516781, 'median_all': 1505.0587211210525, 'median_3': 1782.253806527106, 'rf': 1532.5784494199238, 'rf_mean': 1577.4187769645298, 'ar': 2623.313574539477}\n",
      "-------------------------------\n"
     ]
    },
    {
     "name": "stderr",
     "output_type": "stream",
     "text": [
      "/home/denis/anaconda3/lib/python3.6/site-packages/ipykernel_launcher.py:208: RuntimeWarning: invalid value encountered in log1p\n"
     ]
    },
    {
     "name": "stdout",
     "output_type": "stream",
     "text": [
      "309 Best model is mean_3\n",
      "loss: 1834.5813968578402\n",
      "val score: 3157.072528143719 + 1621.2274421171117\n",
      "{'mean_all': 1912.765458593679, 'mean_3': 1834.5813968578402, 'median_all': 1946.6189746210187, 'median_3': 2050.0766479305057, 'rf': 2236.6683699540113, 'rf_mean': 1942.4501588397436, 'ar': 2724.2542104678496}\n",
      "-------------------------------\n"
     ]
    },
    {
     "name": "stderr",
     "output_type": "stream",
     "text": [
      "/home/denis/anaconda3/lib/python3.6/site-packages/ipykernel_launcher.py:208: RuntimeWarning: invalid value encountered in log1p\n"
     ]
    },
    {
     "name": "stdout",
     "output_type": "stream",
     "text": [
      "310 Best model is rf\n",
      "loss: 3620.792079207921\n",
      "val score: 3159.1243845643567 + 1617.929448984812\n",
      "{'mean_all': 4021.5245744563886, 'mean_3': 4402.266030174445, 'median_all': 3664.6039603960394, 'median_3': 3942.4504950495048, 'rf': 3620.792079207921, 'rf_mean': 3874.6452349873534, 'ar': 6399.1328053066}\n",
      "-------------------------------\n"
     ]
    },
    {
     "name": "stderr",
     "output_type": "stream",
     "text": [
      "/home/denis/anaconda3/lib/python3.6/site-packages/ipykernel_launcher.py:208: RuntimeWarning: invalid value encountered in log1p\n"
     ]
    },
    {
     "name": "stdout",
     "output_type": "stream",
     "text": [
      "311 Best model is median_3\n",
      "loss: 1357.7868689677086\n",
      "val score: 3151.1889770066628 + 1618.7635341232324\n",
      "{'mean_all': 1528.2672292018094, 'mean_3': 1612.6381764724797, 'median_all': 1463.885689319617, 'median_3': 1357.7868689677086, 'rf': 1482.6428883504786, 'rf_mean': 1933.2817749587275, 'ar': 2502.092437976538}\n",
      "-------------------------------\n"
     ]
    },
    {
     "name": "stderr",
     "output_type": "stream",
     "text": [
      "/home/denis/anaconda3/lib/python3.6/site-packages/ipykernel_launcher.py:208: RuntimeWarning: invalid value encountered in log1p\n"
     ]
    },
    {
     "name": "stdout",
     "output_type": "stream",
     "text": [
      "312 Best model is median_all\n",
      "loss: 2649.633783474479\n",
      "val score: 3148.9891735262586 + 1615.5497209747984\n",
      "{'mean_all': 2836.416648278778, 'mean_3': 2832.930399786374, 'median_all': 2649.633783474479, 'median_3': 2877.08857862211, 'rf': 2751.3733119707026, 'rf_mean': 5514.509998337794, 'ar': 4301.798540693284}\n",
      "-------------------------------\n"
     ]
    },
    {
     "name": "stderr",
     "output_type": "stream",
     "text": [
      "/home/denis/anaconda3/lib/python3.6/site-packages/ipykernel_launcher.py:208: RuntimeWarning: invalid value encountered in log1p\n"
     ]
    },
    {
     "name": "stdout",
     "output_type": "stream",
     "text": [
      "314 Best model is rf_mean\n",
      "loss: 4662.595800281573\n",
      "val score: 3155.5988094509544 + 1615.1050178065339\n",
      "{'mean_all': 4681.449024307607, 'mean_3': 4671.28916077171, 'median_all': 4837.6094552642935, 'median_3': 4948.770063898209, 'rf': 4759.428117995907, 'rf_mean': 4662.595800281573, 'ar': 6025.62344581245}\n",
      "-------------------------------\n"
     ]
    },
    {
     "name": "stderr",
     "output_type": "stream",
     "text": [
      "/home/denis/anaconda3/lib/python3.6/site-packages/ipykernel_launcher.py:208: RuntimeWarning: invalid value encountered in log1p\n"
     ]
    },
    {
     "name": "stdout",
     "output_type": "stream",
     "text": [
      "315 Best model is ar\n",
      "loss: 5063.467958413116\n",
      "val score: 3163.8938927073114 + 1616.47139164651\n",
      "{'mean_all': 7050.658181478789, 'mean_3': 7042.812471144321, 'median_all': 6663.9589120067085, 'median_3': 7406.14572960886, 'rf': 6629.814999213878, 'rf_mean': 7057.33563416808, 'ar': 5063.467958413116}\n",
      "-------------------------------\n"
     ]
    },
    {
     "name": "stderr",
     "output_type": "stream",
     "text": [
      "/home/denis/anaconda3/lib/python3.6/site-packages/ipykernel_launcher.py:208: RuntimeWarning: invalid value encountered in log1p\n"
     ]
    },
    {
     "name": "stdout",
     "output_type": "stream",
     "text": [
      "316 Best model is rf\n",
      "loss: 4906.210011290929\n",
      "val score: 3171.4363867271536 + 1617.019690358768\n",
      "{'mean_all': 4944.766097834422, 'mean_3': 5095.907710091941, 'median_all': 5031.8027850959725, 'median_3': 5413.2480240873165, 'rf': 4906.210011290929, 'rf_mean': 6596.024823858135, 'ar': 5931.357781609919}\n",
      "-------------------------------\n"
     ]
    },
    {
     "name": "stderr",
     "output_type": "stream",
     "text": [
      "/home/denis/anaconda3/lib/python3.6/site-packages/ipykernel_launcher.py:208: RuntimeWarning: invalid value encountered in log1p\n"
     ]
    },
    {
     "name": "stdout",
     "output_type": "stream",
     "text": [
      "317 Best model is rf\n",
      "loss: 3348.230586469926\n",
      "val score: 3172.1984306915624 + 1613.5725386744903\n",
      "{'mean_all': 3996.4099440516, 'mean_3': 5254.285386781947, 'median_all': 3667.625359509816, 'median_3': 4560.2100787795425, 'rf': 3348.230586469926, 'rf_mean': 4401.455693416023, 'ar': 6614.237506360909}\n",
      "-------------------------------\n"
     ]
    },
    {
     "name": "stderr",
     "output_type": "stream",
     "text": [
      "/home/denis/anaconda3/lib/python3.6/site-packages/ipykernel_launcher.py:208: RuntimeWarning: invalid value encountered in log1p\n"
     ]
    },
    {
     "name": "stdout",
     "output_type": "stream",
     "text": [
      "318 Best model is rf\n",
      "loss: 2739.8391144257603\n",
      "val score: 3170.3428113084474 + 1610.3542683284127\n",
      "{'mean_all': 2981.6459060595166, 'mean_3': 3201.391471478715, 'median_all': 2828.9828560707333, 'median_3': 2990.1029573864303, 'rf': 2739.8391144257603, 'rf_mean': 4551.31478065234, 'ar': 4011.526201086654}\n",
      "-------------------------------\n"
     ]
    },
    {
     "name": "stderr",
     "output_type": "stream",
     "text": [
      "/home/denis/anaconda3/lib/python3.6/site-packages/ipykernel_launcher.py:208: RuntimeWarning: invalid value encountered in log1p\n"
     ]
    },
    {
     "name": "stdout",
     "output_type": "stream",
     "text": [
      "319 Best model is median_3\n",
      "loss: 2907.23586472079\n",
      "val score: 3169.218422647816 + 1607.0013110768825\n",
      "{'mean_all': 3210.463175420831, 'mean_3': 3149.773020936069, 'median_all': 3261.3825045879576, 'median_3': 2907.23586472079, 'rf': 3299.61548544962, 'rf_mean': 5460.526455698165, 'ar': 4246.979008005994}\n",
      "-------------------------------\n"
     ]
    },
    {
     "name": "stderr",
     "output_type": "stream",
     "text": [
      "/home/denis/anaconda3/lib/python3.6/site-packages/ipykernel_launcher.py:208: RuntimeWarning: invalid value encountered in log1p\n"
     ]
    },
    {
     "name": "stdout",
     "output_type": "stream",
     "text": [
      "321 Best model is median_3\n",
      "loss: 3712.1498479306356\n",
      "val score: 3171.528769138381 + 1603.9679152660772\n",
      "{'mean_all': 4127.681005332672, 'mean_3': 3844.3517854685215, 'median_all': 3847.1513889777334, 'median_3': 3712.1498479306356, 'rf': 3925.2156012119026, 'rf_mean': 3755.1094895260603, 'ar': 4986.850806862822}\n",
      "-------------------------------\n"
     ]
    },
    {
     "name": "stderr",
     "output_type": "stream",
     "text": [
      "/home/denis/anaconda3/lib/python3.6/site-packages/ipykernel_launcher.py:208: RuntimeWarning: invalid value encountered in log1p\n"
     ]
    },
    {
     "name": "stdout",
     "output_type": "stream",
     "text": [
      "324 Best model is rf_mean\n",
      "loss: 1852.6872408131085\n",
      "val score: 3165.940457577681 + 1602.8570163164925\n",
      "{'mean_all': 1926.324302388557, 'mean_3': 2291.258773102143, 'median_all': 1925.377976280291, 'median_3': 2123.3817183209103, 'rf': 1957.660621058032, 'rf_mean': 1852.6872408131085, 'ar': 3126.1351559000827}\n",
      "-------------------------------\n"
     ]
    },
    {
     "name": "stderr",
     "output_type": "stream",
     "text": [
      "/home/denis/anaconda3/lib/python3.6/site-packages/ipykernel_launcher.py:208: RuntimeWarning: invalid value encountered in log1p\n"
     ]
    },
    {
     "name": "stdout",
     "output_type": "stream",
     "text": [
      "326 Best model is ar\n",
      "loss: 8813.104775063268\n",
      "val score: 3189.7681551198143 + 1640.8234155326008\n",
      "{'mean_all': 105105.35073325367, 'mean_3': 81795.96633286391, 'median_all': 114881.91401971523, 'median_3': 103555.9282584885, 'rf': 100671.82365826944, 'rf_mean': 114893.31471607344, 'ar': 8813.104775063268}\n",
      "-------------------------------\n"
     ]
    },
    {
     "name": "stderr",
     "output_type": "stream",
     "text": [
      "/home/denis/anaconda3/lib/python3.6/site-packages/ipykernel_launcher.py:208: RuntimeWarning: invalid value encountered in log1p\n"
     ]
    },
    {
     "name": "stdout",
     "output_type": "stream",
     "text": [
      "327 Best model is rf\n",
      "loss: 3193.437534641392\n",
      "val score: 3189.7835726808294 + 1637.3726961809218\n",
      "{'mean_all': 3513.9744732178183, 'mean_3': 4185.766280794549, 'median_all': 3921.4056091342422, 'median_3': 4828.732956434985, 'rf': 3193.437534641392, 'rf_mean': 4303.901608711418, 'ar': 6071.609311396463}\n",
      "-------------------------------\n"
     ]
    },
    {
     "name": "stderr",
     "output_type": "stream",
     "text": [
      "/home/denis/anaconda3/lib/python3.6/site-packages/ipykernel_launcher.py:208: RuntimeWarning: invalid value encountered in log1p\n"
     ]
    },
    {
     "name": "stdout",
     "output_type": "stream",
     "text": [
      "328 Best model is median_3\n",
      "loss: 2011.7760225801405\n",
      "val score: 3184.8546707975634 + 1635.7120183919956\n",
      "{'mean_all': 2355.8596520439123, 'mean_3': 2062.2845924427597, 'median_all': 2473.1977326663136, 'median_3': 2011.7760225801405, 'rf': 2958.4011503090455, 'rf_mean': 2037.4702553838522, 'ar': 4686.317798846666}\n",
      "-------------------------------\n"
     ]
    },
    {
     "name": "stderr",
     "output_type": "stream",
     "text": [
      "/home/denis/anaconda3/lib/python3.6/site-packages/ipykernel_launcher.py:208: RuntimeWarning: invalid value encountered in log1p\n"
     ]
    },
    {
     "name": "stdout",
     "output_type": "stream",
     "text": [
      "330 Best model is mean_3\n",
      "loss: 1907.4418878992326\n",
      "val score: 3179.532117535486 + 1634.373407226897\n",
      "{'mean_all': 2168.7328755109306, 'mean_3': 1907.4418878992326, 'median_all': 2198.026165098525, 'median_3': 1919.6745262773998, 'rf': 2111.0604581449597, 'rf_mean': 2312.7155318844166, 'ar': 3034.3915252444735}\n",
      "-------------------------------\n"
     ]
    },
    {
     "name": "stderr",
     "output_type": "stream",
     "text": [
      "/home/denis/anaconda3/lib/python3.6/site-packages/ipykernel_launcher.py:208: RuntimeWarning: invalid value encountered in log1p\n"
     ]
    },
    {
     "name": "stdout",
     "output_type": "stream",
     "text": [
      "331 Best model is rf\n",
      "loss: 2762.670892731947\n",
      "val score: 3177.8024029097455 + 1631.199182703027\n",
      "{'mean_all': 2834.689438007788, 'mean_3': 2967.628907684539, 'median_all': 2789.6047557840616, 'median_3': 2933.202120822622, 'rf': 2762.670892731947, 'rf_mean': 4044.4924096241266, 'ar': 4209.394814305947}\n",
      "-------------------------------\n"
     ]
    },
    {
     "name": "stderr",
     "output_type": "stream",
     "text": [
      "/home/denis/anaconda3/lib/python3.6/site-packages/ipykernel_launcher.py:208: RuntimeWarning: invalid value encountered in log1p\n"
     ]
    },
    {
     "name": "stdout",
     "output_type": "stream",
     "text": [
      "334 Best model is median_3\n",
      "loss: 3374.193331379229\n",
      "val score: 3178.613935672016 + 1627.8741987318099\n",
      "{'mean_all': 4082.5194498574083, 'mean_3': 3568.192086381472, 'median_all': 4252.723332484419, 'median_3': 3374.193331379229, 'rf': 4102.854753999106, 'rf_mean': 4222.514773930653, 'ar': 3461.132878707108}\n",
      "-------------------------------\n"
     ]
    },
    {
     "name": "stderr",
     "output_type": "stream",
     "text": [
      "/home/denis/anaconda3/lib/python3.6/site-packages/ipykernel_launcher.py:208: RuntimeWarning: invalid value encountered in log1p\n"
     ]
    },
    {
     "name": "stdout",
     "output_type": "stream",
     "text": [
      "336 Best model is mean_3\n",
      "loss: 1502.5111380393162\n",
      "val score: 3171.7163932949265 + 1628.060986698008\n",
      "{'mean_all': 1588.9540500745852, 'mean_3': 1502.5111380393162, 'median_all': 1588.6344279060636, 'median_3': 1510.776332912222, 'rf': 1576.7863192656832, 'rf_mean': 1738.3899066931508, 'ar': 3282.7121698562064}\n",
      "-------------------------------\n"
     ]
    },
    {
     "name": "stderr",
     "output_type": "stream",
     "text": [
      "/home/denis/anaconda3/lib/python3.6/site-packages/ipykernel_launcher.py:208: RuntimeWarning: invalid value encountered in log1p\n"
     ]
    },
    {
     "name": "stdout",
     "output_type": "stream",
     "text": [
      "337 Best model is rf\n",
      "loss: 1662.1494848528298\n",
      "val score: 3165.529643670164 + 1627.581202181813\n",
      "{'mean_all': 1740.1483187197698, 'mean_3': 1789.3595993527376, 'median_all': 1681.2642100735338, 'median_3': 1811.8227811802299, 'rf': 1662.1494848528298, 'rf_mean': 2013.9386711742325, 'ar': 3573.2334206872024}\n",
      "-------------------------------\n"
     ]
    },
    {
     "name": "stderr",
     "output_type": "stream",
     "text": [
      "/home/denis/anaconda3/lib/python3.6/site-packages/ipykernel_launcher.py:208: RuntimeWarning: invalid value encountered in log1p\n"
     ]
    },
    {
     "name": "stdout",
     "output_type": "stream",
     "text": [
      "338 Best model is median_3\n",
      "loss: 2295.9177854071377\n",
      "val score: 3161.9802075139883 + 1625.2022256058556\n",
      "{'mean_all': 2769.9060187975674, 'mean_3': 2759.6597448418997, 'median_all': 3402.415795056631, 'median_3': 2295.9177854071377, 'rf': 9231.27986951513, 'rf_mean': 7071.209414301988, 'ar': 3257.525266959704}\n",
      "-------------------------------\n"
     ]
    },
    {
     "name": "stderr",
     "output_type": "stream",
     "text": [
      "/home/denis/anaconda3/lib/python3.6/site-packages/ipykernel_launcher.py:208: RuntimeWarning: invalid value encountered in log1p\n"
     ]
    },
    {
     "name": "stdout",
     "output_type": "stream",
     "text": [
      "339 Best model is median_all\n",
      "loss: 1457.1495518715951\n",
      "val score: 3155.050001596743 + 1625.5190414277936\n",
      "{'mean_all': 1530.5645734745062, 'mean_3': 1549.6662068445082, 'median_all': 1457.1495518715951, 'median_3': 1586.7013618047226, 'rf': 1607.8575855020365, 'rf_mean': 1778.6003836592724, 'ar': 3228.2654244481228}\n",
      "-------------------------------\n"
     ]
    },
    {
     "name": "stderr",
     "output_type": "stream",
     "text": [
      "/home/denis/anaconda3/lib/python3.6/site-packages/ipykernel_launcher.py:208: RuntimeWarning: invalid value encountered in log1p\n"
     ]
    },
    {
     "name": "stdout",
     "output_type": "stream",
     "text": [
      "340 Best model is mean_3\n",
      "loss: 1371.015834954079\n",
      "val score: 3147.8271912054774 + 1626.1759146890367\n",
      "{'mean_all': 1437.5602911031417, 'mean_3': 1371.015834954079, 'median_all': 1441.1205891216898, 'median_3': 1648.2173041393137, 'rf': 1410.4563858642243, 'rf_mean': 1963.9829595016963, 'ar': 3366.1852765013114}\n",
      "-------------------------------\n"
     ]
    },
    {
     "name": "stderr",
     "output_type": "stream",
     "text": [
      "/home/denis/anaconda3/lib/python3.6/site-packages/ipykernel_launcher.py:208: RuntimeWarning: invalid value encountered in log1p\n"
     ]
    },
    {
     "name": "stdout",
     "output_type": "stream",
     "text": [
      "341 Best model is mean_3\n",
      "loss: 1479.2635458541151\n",
      "val score: 3141.0991119903506 + 1626.3351344807588\n",
      "{'mean_all': 1621.2238374571932, 'mean_3': 1479.2635458541151, 'median_all': 1636.6258735204692, 'median_3': 1588.6818065338293, 'rf': 1567.675760283128, 'rf_mean': 2188.8403611676404, 'ar': 3695.79180661444}\n",
      "-------------------------------\n"
     ]
    },
    {
     "name": "stderr",
     "output_type": "stream",
     "text": [
      "/home/denis/anaconda3/lib/python3.6/site-packages/ipykernel_launcher.py:208: RuntimeWarning: invalid value encountered in log1p\n"
     ]
    },
    {
     "name": "stdout",
     "output_type": "stream",
     "text": [
      "342 Best model is ar\n",
      "loss: 5811.682225870079\n",
      "val score: 3151.8243453794257 + 1631.8306324201749\n",
      "{'mean_all': 22787.577533491676, 'mean_3': 25660.608211756262, 'median_all': 24057.573680603153, 'median_3': 24342.01507882111, 'rf': 14348.320767649075, 'rf_mean': 25358.12907640073, 'ar': 5811.682225870079}\n",
      "-------------------------------\n"
     ]
    },
    {
     "name": "stderr",
     "output_type": "stream",
     "text": [
      "/home/denis/anaconda3/lib/python3.6/site-packages/ipykernel_launcher.py:208: RuntimeWarning: invalid value encountered in log1p\n"
     ]
    },
    {
     "name": "stdout",
     "output_type": "stream",
     "text": [
      "343 Best model is median_3\n",
      "loss: 2406.358404400405\n",
      "val score: 3148.8424816155098 + 1629.2432950355637\n",
      "{'mean_all': 2833.0852155383855, 'mean_3': 2723.095026558026, 'median_all': 2607.477746150494, 'median_3': 2406.358404400405, 'rf': 2544.6520024220335, 'rf_mean': 6042.249106035208, 'ar': 5818.284197667585}\n",
      "-------------------------------\n"
     ]
    },
    {
     "name": "stderr",
     "output_type": "stream",
     "text": [
      "/home/denis/anaconda3/lib/python3.6/site-packages/ipykernel_launcher.py:208: RuntimeWarning: invalid value encountered in log1p\n"
     ]
    },
    {
     "name": "stdout",
     "output_type": "stream",
     "text": [
      "345 Best model is rf\n",
      "loss: 2156.5811340316213\n",
      "val score: 3144.8892491550164 + 1627.1955300500438\n",
      "{'mean_all': 2386.4544153168818, 'mean_3': 2575.38176044328, 'median_all': 2255.7898428090075, 'median_3': 2265.3951119852413, 'rf': 2156.5811340316213, 'rf_mean': 4132.842298626051, 'ar': 5961.562788579254}\n",
      "-------------------------------\n"
     ]
    },
    {
     "name": "stderr",
     "output_type": "stream",
     "text": [
      "/home/denis/anaconda3/lib/python3.6/site-packages/ipykernel_launcher.py:208: RuntimeWarning: invalid value encountered in log1p\n"
     ]
    },
    {
     "name": "stdout",
     "output_type": "stream",
     "text": [
      "347 Best model is median_3\n",
      "loss: 1826.8313254528746\n",
      "val score: 3139.6588605688967 + 1626.0765314212754\n",
      "{'mean_all': 2324.7904057645455, 'mean_3': 2029.6203880043904, 'median_all': 2395.332150005665, 'median_3': 1826.8313254528746, 'rf': 2465.1459647267648, 'rf_mean': 3749.416019468009, 'ar': 2776.3582702833605}\n",
      "-------------------------------\n"
     ]
    },
    {
     "name": "stderr",
     "output_type": "stream",
     "text": [
      "/home/denis/anaconda3/lib/python3.6/site-packages/ipykernel_launcher.py:208: RuntimeWarning: invalid value encountered in log1p\n"
     ]
    },
    {
     "name": "stdout",
     "output_type": "stream",
     "text": [
      "348 Best model is mean_3\n",
      "loss: 2775.6987612631806\n",
      "val score: 3138.220283101285 + 1623.0204295774604\n",
      "{'mean_all': 3168.9552474390475, 'mean_3': 2775.6987612631806, 'median_all': 2823.647310528032, 'median_3': 2907.198701990758, 'rf': 4394.9940746514385, 'rf_mean': 3038.7345065236786, 'ar': 3718.1587791052134}\n",
      "-------------------------------\n"
     ]
    },
    {
     "name": "stderr",
     "output_type": "stream",
     "text": [
      "/home/denis/anaconda3/lib/python3.6/site-packages/ipykernel_launcher.py:208: RuntimeWarning: invalid value encountered in log1p\n"
     ]
    },
    {
     "name": "stdout",
     "output_type": "stream",
     "text": [
      "352 Best model is rf\n",
      "loss: 5360.986982708374\n",
      "val score: 3146.9713330997383 + 1625.7919389567417\n",
      "{'mean_all': 5499.132742222652, 'mean_3': 5562.705274454837, 'median_all': 5567.3207693802215, 'median_3': 5491.062755002914, 'rf': 5360.986982708374, 'rf_mean': 6064.371429273798, 'ar': 6168.11974056988}\n",
      "-------------------------------\n"
     ]
    },
    {
     "name": "stderr",
     "output_type": "stream",
     "text": [
      "/home/denis/anaconda3/lib/python3.6/site-packages/ipykernel_launcher.py:208: RuntimeWarning: invalid value encountered in log1p\n"
     ]
    },
    {
     "name": "stdout",
     "output_type": "stream",
     "text": [
      "354 Best model is median_3\n",
      "loss: 1844.7866796593653\n",
      "val score: 3141.864726615658 + 1624.6407627490082\n",
      "{'mean_all': 3329.447265720352, 'mean_3': 2043.735801845205, 'median_all': 2198.7671058763717, 'median_3': 1844.7866796593653, 'rf': 1945.504808710757, 'rf_mean': 6014.442483312201, 'ar': 3032.6425396599734}\n",
      "-------------------------------\n"
     ]
    },
    {
     "name": "stderr",
     "output_type": "stream",
     "text": [
      "/home/denis/anaconda3/lib/python3.6/site-packages/ipykernel_launcher.py:208: RuntimeWarning: invalid value encountered in log1p\n"
     ]
    },
    {
     "name": "stdout",
     "output_type": "stream",
     "text": [
      "355 Best model is mean_3\n",
      "loss: 4038.040437253035\n",
      "val score: 3145.3654129853358 + 1622.4278726632167\n",
      "{'mean_all': 10041.189721723704, 'mean_3': 4038.040437253035, 'median_all': 5668.685645063598, 'median_3': 4192.610539067232, 'rf': 7582.192610539068, 'rf_mean': 6939.5230639319225, 'ar': 6026.762809985073}\n",
      "-------------------------------\n"
     ]
    },
    {
     "name": "stderr",
     "output_type": "stream",
     "text": [
      "/home/denis/anaconda3/lib/python3.6/site-packages/ipykernel_launcher.py:208: RuntimeWarning: invalid value encountered in log1p\n"
     ]
    },
    {
     "name": "stdout",
     "output_type": "stream",
     "text": [
      "357 Best model is ar\n",
      "loss: 3648.1783159656825\n",
      "val score: 3147.321883424948 + 1619.5708717161253\n",
      "{'mean_all': 4132.15807143422, 'mean_3': 6159.418064774649, 'median_all': 4408.87471907176, 'median_3': 10000.0, 'rf': 3952.9434310702277, 'rf_mean': 3865.9210090768133, 'ar': 3648.1783159656825}\n",
      "-------------------------------\n"
     ]
    },
    {
     "name": "stderr",
     "output_type": "stream",
     "text": [
      "/home/denis/anaconda3/lib/python3.6/site-packages/ipykernel_launcher.py:208: RuntimeWarning: invalid value encountered in log1p\n"
     ]
    },
    {
     "name": "stdout",
     "output_type": "stream",
     "text": [
      "359 Best model is mean_3\n",
      "loss: 3186.8285438146736\n",
      "val score: 3147.475010015606 + 1616.430985195359\n",
      "{'mean_all': 3837.6744344869194, 'mean_3': 3186.8285438146736, 'median_all': 3922.4982368152964, 'median_3': 3545.176710289162, 'rf': 4321.800799310399, 'rf_mean': 4103.427389712407, 'ar': 5555.307279862215}\n",
      "-------------------------------\n"
     ]
    },
    {
     "name": "stderr",
     "output_type": "stream",
     "text": [
      "/home/denis/anaconda3/lib/python3.6/site-packages/ipykernel_launcher.py:208: RuntimeWarning: invalid value encountered in log1p\n"
     ]
    },
    {
     "name": "stdout",
     "output_type": "stream",
     "text": [
      "360 Best model is rf\n",
      "loss: 1596.055573045356\n",
      "val score: 3141.484973579428 + 1616.1739039285396\n",
      "{'mean_all': 1703.75192950939, 'mean_3': 1870.7517199439294, 'median_all': 1728.1512645125592, 'median_3': 1887.8649405823785, 'rf': 1596.055573045356, 'rf_mean': 1713.7409404518332, 'ar': 2736.4731329821043}\n",
      "-------------------------------\n"
     ]
    },
    {
     "name": "stderr",
     "output_type": "stream",
     "text": [
      "/home/denis/anaconda3/lib/python3.6/site-packages/ipykernel_launcher.py:208: RuntimeWarning: invalid value encountered in log1p\n"
     ]
    },
    {
     "name": "stdout",
     "output_type": "stream",
     "text": [
      "361 Best model is median_3\n",
      "loss: 1578.60216442903\n",
      "val score: 3135.473885851926 + 1615.9611247870946\n",
      "{'mean_all': 1594.0613344984447, 'mean_3': 1579.4883934871216, 'median_all': 1687.0223697417193, 'median_3': 1578.60216442903, 'rf': 1669.7374130866135, 'rf_mean': 1597.6914034774145, 'ar': 2336.227937424186}\n",
      "-------------------------------\n"
     ]
    },
    {
     "name": "stderr",
     "output_type": "stream",
     "text": [
      "/home/denis/anaconda3/lib/python3.6/site-packages/ipykernel_launcher.py:208: RuntimeWarning: invalid value encountered in log1p\n"
     ]
    },
    {
     "name": "stdout",
     "output_type": "stream",
     "text": [
      "362 Best model is mean_all\n",
      "loss: 2398.6605441199836\n",
      "val score: 3132.650846228432 + 1613.5046772094295\n",
      "{'mean_all': 2398.6605441199836, 'mean_3': 2744.189306207235, 'median_all': 2564.744342851305, 'median_3': 2991.520662001328, 'rf': 2487.4086938754663, 'rf_mean': 5353.902367343034, 'ar': 5425.509195944713}\n",
      "-------------------------------\n"
     ]
    },
    {
     "name": "stderr",
     "output_type": "stream",
     "text": [
      "/home/denis/anaconda3/lib/python3.6/site-packages/ipykernel_launcher.py:208: RuntimeWarning: invalid value encountered in log1p\n"
     ]
    },
    {
     "name": "stdout",
     "output_type": "stream",
     "text": [
      "366 Best model is ar\n",
      "loss: 8171.25746095103\n",
      "val score: 3151.8821691853886 + 1640.118879707574\n",
      "{'mean_all': 21617.085584230037, 'mean_3': 20955.748487240202, 'median_all': 18674.03314917127, 'median_3': 19870.165745856353, 'rf': 13349.723756906078, 'rf_mean': 18208.933607569295, 'ar': 8171.25746095103}\n",
      "-------------------------------\n"
     ]
    },
    {
     "name": "stderr",
     "output_type": "stream",
     "text": [
      "/home/denis/anaconda3/lib/python3.6/site-packages/ipykernel_launcher.py:208: RuntimeWarning: invalid value encountered in log1p\n"
     ]
    },
    {
     "name": "stdout",
     "output_type": "stream",
     "text": [
      "367 Best model is median_3\n",
      "loss: 1928.532222249944\n",
      "val score: 3147.2306484746073 + 1638.7283612342383\n",
      "{'mean_all': 4344.331447090399, 'mean_3': 2751.168708514069, 'median_all': 3127.3078266510315, 'median_3': 1928.532222249944, 'rf': 2670.9569372021656, 'rf_mean': 2701.066634996947, 'ar': 2403.2190640036556}\n",
      "-------------------------------\n"
     ]
    },
    {
     "name": "stderr",
     "output_type": "stream",
     "text": [
      "/home/denis/anaconda3/lib/python3.6/site-packages/ipykernel_launcher.py:208: RuntimeWarning: invalid value encountered in log1p\n"
     ]
    },
    {
     "name": "stdout",
     "output_type": "stream",
     "text": [
      "368 Best model is ar\n",
      "loss: 2729.7321832245843\n",
      "val score: 3145.6492148941147 + 1635.8228208792082\n",
      "{'mean_all': 4590.351303826977, 'mean_3': 3863.1255495382698, 'median_all': 3754.252777380179, 'median_3': 3361.786111447541, 'rf': 3309.464562941105, 'rf_mean': 3082.5137312306806, 'ar': 2729.7321832245843}\n",
      "-------------------------------\n"
     ]
    },
    {
     "name": "stderr",
     "output_type": "stream",
     "text": [
      "/home/denis/anaconda3/lib/python3.6/site-packages/ipykernel_launcher.py:208: RuntimeWarning: invalid value encountered in log1p\n"
     ]
    },
    {
     "name": "stdout",
     "output_type": "stream",
     "text": [
      "369 Best model is rf\n",
      "loss: 4576.991134861037\n",
      "val score: 3151.050505158141 + 1635.0903409861096\n",
      "{'mean_all': 5419.554925071019, 'mean_3': 4708.29551664961, 'median_all': 5492.894096656719, 'median_3': 5097.352196330108, 'rf': 4576.991134861037, 'rf_mean': 4946.681718622704, 'ar': 4854.888776948514}\n",
      "-------------------------------\n"
     ]
    },
    {
     "name": "stderr",
     "output_type": "stream",
     "text": [
      "/home/denis/anaconda3/lib/python3.6/site-packages/ipykernel_launcher.py:208: RuntimeWarning: invalid value encountered in log1p\n"
     ]
    },
    {
     "name": "stdout",
     "output_type": "stream",
     "text": [
      "370 Best model is mean_all\n",
      "loss: 2479.9489549064115\n",
      "val score: 3148.5275669992993 + 1632.5306664868847\n",
      "{'mean_all': 2479.9489549064115, 'mean_3': 3503.7741396283004, 'median_all': 5784.195191564427, 'median_3': 3795.611757477256, 'rf': 9742.13624561473, 'rf_mean': 9987.756775272104, 'ar': 3364.3678223086076}\n",
      "-------------------------------\n"
     ]
    },
    {
     "name": "stderr",
     "output_type": "stream",
     "text": [
      "/home/denis/anaconda3/lib/python3.6/site-packages/ipykernel_launcher.py:208: RuntimeWarning: invalid value encountered in log1p\n"
     ]
    },
    {
     "name": "stdout",
     "output_type": "stream",
     "text": [
      "371 Best model is mean_all\n",
      "loss: 2915.832499595361\n",
      "val score: 3147.6560498929175 + 1629.5326189186565\n",
      "{'mean_all': 2915.832499595361, 'mean_3': 3155.8626412265653, 'median_all': 2974.6835443037976, 'median_3': 3027.8318727685814, 'rf': 3144.5147679324896, 'rf_mean': 3544.2257405643313, 'ar': 5691.395462213906}\n",
      "-------------------------------\n"
     ]
    },
    {
     "name": "stderr",
     "output_type": "stream",
     "text": [
      "/home/denis/anaconda3/lib/python3.6/site-packages/ipykernel_launcher.py:208: RuntimeWarning: invalid value encountered in log1p\n"
     ]
    },
    {
     "name": "stdout",
     "output_type": "stream",
     "text": [
      "372 Best model is mean_3\n",
      "loss: 2911.852240896358\n",
      "val score: 3146.7761849339754 + 1626.5531457619857\n",
      "{'mean_all': 3183.2439838953082, 'mean_3': 2911.852240896358, 'median_all': 3203.722166832835, 'median_3': 3057.909604519774, 'rf': 3154.1209704220673, 'rf_mean': 6521.9272014520975, 'ar': 4951.75441797023}\n",
      "-------------------------------\n"
     ]
    },
    {
     "name": "stderr",
     "output_type": "stream",
     "text": [
      "/home/denis/anaconda3/lib/python3.6/site-packages/ipykernel_launcher.py:208: RuntimeWarning: invalid value encountered in log1p\n"
     ]
    },
    {
     "name": "stdout",
     "output_type": "stream",
     "text": [
      "373 Best model is rf\n",
      "loss: 3065.2619174546167\n",
      "val score: 3146.4731579173235 + 1623.5345766672997\n",
      "{'mean_all': 3113.5079028809114, 'mean_3': 3102.5354026462305, 'median_all': 3100.5022305771445, 'median_3': 3087.7360343424707, 'rf': 3065.2619174546167, 'rf_mean': 4672.891524727556, 'ar': 5027.328690971128}\n",
      "-------------------------------\n"
     ]
    },
    {
     "name": "stderr",
     "output_type": "stream",
     "text": [
      "/home/denis/anaconda3/lib/python3.6/site-packages/ipykernel_launcher.py:208: RuntimeWarning: invalid value encountered in log1p\n"
     ]
    },
    {
     "name": "stdout",
     "output_type": "stream",
     "text": [
      "374 Best model is median_all\n",
      "loss: 2062.0596003122228\n",
      "val score: 3142.456811407675 + 1621.8635300205895\n",
      "{'mean_all': 2181.7912945431153, 'mean_3': 2378.440791620905, 'median_all': 2062.0596003122228, 'median_3': 2293.246046427082, 'rf': 2158.7443730419254, 'rf_mean': 3226.389587808539, 'ar': 2660.200849045578}\n",
      "-------------------------------\n"
     ]
    },
    {
     "name": "stderr",
     "output_type": "stream",
     "text": [
      "/home/denis/anaconda3/lib/python3.6/site-packages/ipykernel_launcher.py:208: RuntimeWarning: invalid value encountered in log1p\n"
     ]
    },
    {
     "name": "stdout",
     "output_type": "stream",
     "text": [
      "375 Best model is mean_all\n",
      "loss: 2742.154647542398\n",
      "val score: 3140.9796816517146 + 1619.05033919207\n",
      "{'mean_all': 2742.154647542398, 'mean_3': 2893.750546351513, 'median_all': 2861.162103918908, 'median_3': 2998.044536674914, 'rf': 2802.4582967515366, 'rf_mean': 4572.41356258735, 'ar': 5163.149353055298}\n",
      "-------------------------------\n"
     ]
    },
    {
     "name": "stderr",
     "output_type": "stream",
     "text": [
      "/home/denis/anaconda3/lib/python3.6/site-packages/ipykernel_launcher.py:208: RuntimeWarning: invalid value encountered in log1p\n"
     ]
    },
    {
     "name": "stdout",
     "output_type": "stream",
     "text": [
      "376 Best model is mean_3\n",
      "loss: 2955.663046183589\n",
      "val score: 3140.2983704919056 + 1616.1103224574697\n",
      "{'mean_all': 3644.165967046762, 'mean_3': 2955.663046183589, 'median_all': 3450.407195818646, 'median_3': 3064.786678011426, 'rf': 3630.7645557311293, 'rf_mean': 5204.3400302014115, 'ar': 3709.49931354535}\n",
      "-------------------------------\n"
     ]
    },
    {
     "name": "stderr",
     "output_type": "stream",
     "text": [
      "/home/denis/anaconda3/lib/python3.6/site-packages/ipykernel_launcher.py:208: RuntimeWarning: invalid value encountered in log1p\n"
     ]
    },
    {
     "name": "stdout",
     "output_type": "stream",
     "text": [
      "378 Best model is rf\n",
      "loss: 1118.7214965428066\n",
      "val score: 3132.8933269975864 + 1617.7640511941786\n",
      "{'mean_all': 1230.59058180398, 'mean_3': 1464.4582006444286, 'median_all': 1136.1507073115965, 'median_3': 1540.0577618446625, 'rf': 1118.7214965428066, 'rf_mean': 1977.101085837824, 'ar': 1786.7390704140348}\n",
      "-------------------------------\n"
     ]
    },
    {
     "name": "stderr",
     "output_type": "stream",
     "text": [
      "/home/denis/anaconda3/lib/python3.6/site-packages/ipykernel_launcher.py:208: RuntimeWarning: invalid value encountered in log1p\n"
     ]
    },
    {
     "name": "stdout",
     "output_type": "stream",
     "text": [
      "379 Best model is mean_3\n",
      "loss: 3491.0849434655865\n",
      "val score: 3134.2005956708276 + 1614.9536799285115\n",
      "{'mean_all': 3560.9990182589527, 'mean_3': 3491.0849434655865, 'median_all': 3795.9394810479025, 'median_3': 3647.9055137792407, 'rf': 3767.5998639087356, 'rf_mean': 5027.2892401138815, 'ar': 5023.627692740162}\n",
      "-------------------------------\n"
     ]
    },
    {
     "name": "stderr",
     "output_type": "stream",
     "text": [
      "/home/denis/anaconda3/lib/python3.6/site-packages/ipykernel_launcher.py:208: RuntimeWarning: invalid value encountered in log1p\n"
     ]
    },
    {
     "name": "stdout",
     "output_type": "stream",
     "text": [
      "380 Best model is rf\n",
      "loss: 2789.9361622230567\n",
      "val score: 3132.9487250037446 + 1612.1479104528419\n",
      "{'mean_all': 2857.0265076934515, 'mean_3': 3018.4871758191325, 'median_all': 2863.061709851045, 'median_3': 2843.660032544749, 'rf': 2789.9361622230567, 'rf_mean': 5177.746996504771, 'ar': 6464.942166187608}\n",
      "-------------------------------\n"
     ]
    },
    {
     "name": "stderr",
     "output_type": "stream",
     "text": [
      "/home/denis/anaconda3/lib/python3.6/site-packages/ipykernel_launcher.py:208: RuntimeWarning: invalid value encountered in log1p\n"
     ]
    },
    {
     "name": "stdout",
     "output_type": "stream",
     "text": [
      "381 Best model is mean_3\n",
      "loss: 2043.8325666870442\n",
      "val score: 3129.002651966365 + 1610.554657021722\n",
      "{'mean_all': 3920.2551199875525, 'mean_3': 2043.8325666870442, 'median_all': 3869.5073583133285, 'median_3': 2043.95418014821, 'rf': 5263.320634589291, 'rf_mean': 5578.845562302206, 'ar': 3726.8664489020493}\n",
      "-------------------------------\n"
     ]
    },
    {
     "name": "stderr",
     "output_type": "stream",
     "text": [
      "/home/denis/anaconda3/lib/python3.6/site-packages/ipykernel_launcher.py:208: RuntimeWarning: invalid value encountered in log1p\n"
     ]
    },
    {
     "name": "stdout",
     "output_type": "stream",
     "text": [
      "382 Best model is median_all\n",
      "loss: 2839.84411871789\n",
      "val score: 3127.958758344529 + 1607.7384282923506\n",
      "{'mean_all': 3481.1654884000186, 'mean_3': 2854.7827415867705, 'median_all': 2839.84411871789, 'median_3': 3155.517199530738, 'rf': 4239.606790814331, 'rf_mean': 6082.796746321678, 'ar': 4033.9842073538603}\n",
      "-------------------------------\n"
     ]
    },
    {
     "name": "stderr",
     "output_type": "stream",
     "text": [
      "/home/denis/anaconda3/lib/python3.6/site-packages/ipykernel_launcher.py:208: RuntimeWarning: invalid value encountered in log1p\n"
     ]
    },
    {
     "name": "stdout",
     "output_type": "stream",
     "text": [
      "383 Best model is ar\n",
      "loss: 3175.2700735733433\n",
      "val score: 3128.128942931683 + 1604.846706874913\n",
      "{'mean_all': 5714.823822722753, 'mean_3': 3388.5946457773216, 'median_all': 5564.448416077918, 'median_3': 3680.0549364871836, 'rf': 7606.070601782437, 'rf_mean': 7542.417768628628, 'ar': 3175.2700735733433}\n",
      "-------------------------------\n"
     ]
    },
    {
     "name": "stderr",
     "output_type": "stream",
     "text": [
      "/home/denis/anaconda3/lib/python3.6/site-packages/ipykernel_launcher.py:208: RuntimeWarning: invalid value encountered in log1p\n"
     ]
    },
    {
     "name": "stdout",
     "output_type": "stream",
     "text": [
      "385 Best model is rf_mean\n",
      "loss: 1699.6829450915277\n",
      "val score: 3123.009064803224 + 1604.2409133082133\n",
      "{'mean_all': 1721.5915447115706, 'mean_3': 1793.5159417861873, 'median_all': 1731.187699524399, 'median_3': 1878.8846178904164, 'rf': 1766.147631767542, 'rf_mean': 1699.6829450915277, 'ar': 2449.026395220031}\n",
      "-------------------------------\n"
     ]
    },
    {
     "name": "stderr",
     "output_type": "stream",
     "text": [
      "/home/denis/anaconda3/lib/python3.6/site-packages/ipykernel_launcher.py:208: RuntimeWarning: invalid value encountered in log1p\n"
     ]
    },
    {
     "name": "stdout",
     "output_type": "stream",
     "text": [
      "386 Best model is median_all\n",
      "loss: 1545.096557465123\n",
      "val score: 3117.373662991302 + 1604.1377535063486\n",
      "{'mean_all': 1661.9341372561928, 'mean_3': 2013.574462025735, 'median_all': 1545.096557465123, 'median_3': 2146.049438839067, 'rf': 1640.8156759022559, 'rf_mean': 4719.051218641589, 'ar': 3335.330390698723}\n",
      "-------------------------------\n"
     ]
    },
    {
     "name": "stderr",
     "output_type": "stream",
     "text": [
      "/home/denis/anaconda3/lib/python3.6/site-packages/ipykernel_launcher.py:208: RuntimeWarning: invalid value encountered in log1p\n"
     ]
    },
    {
     "name": "stdout",
     "output_type": "stream",
     "text": [
      "387 Best model is mean_3\n",
      "loss: 3503.554597956959\n",
      "val score: 3118.7479723684046 + 1601.4459947310581\n",
      "{'mean_all': 3811.0830233167458, 'mean_3': 3503.554597956959, 'median_all': 3840.1620190060758, 'median_3': 3509.6977722386664, 'rf': 3846.445448408371, 'rf_mean': 6797.212201802126, 'ar': 4887.42653415871}\n",
      "-------------------------------\n"
     ]
    },
    {
     "name": "stderr",
     "output_type": "stream",
     "text": [
      "/home/denis/anaconda3/lib/python3.6/site-packages/ipykernel_launcher.py:208: RuntimeWarning: invalid value encountered in log1p\n"
     ]
    },
    {
     "name": "stdout",
     "output_type": "stream",
     "text": [
      "389 Best model is mean_all\n",
      "loss: 3173.665048855734\n",
      "val score: 3118.9427137743883 + 1598.6073628927252\n",
      "{'mean_all': 3173.665048855734, 'mean_3': 3337.1184448036106, 'median_all': 3205.9290963163444, 'median_3': 3591.839624868216, 'rf': 3254.9920536262216, 'rf_mean': 5740.194073773792, 'ar': 4227.023042248789}\n",
      "-------------------------------\n"
     ]
    },
    {
     "name": "stderr",
     "output_type": "stream",
     "text": [
      "/home/denis/anaconda3/lib/python3.6/site-packages/ipykernel_launcher.py:208: RuntimeWarning: invalid value encountered in log1p\n"
     ]
    },
    {
     "name": "stdout",
     "output_type": "stream",
     "text": [
      "390 Best model is median_all\n",
      "loss: 5408.56890459364\n",
      "val score: 3127.0332656854102 + 1601.553679119978\n",
      "{'mean_all': 5996.398459879698, 'mean_3': 6614.40192242975, 'median_all': 5408.56890459364, 'median_3': 6128.533568904593, 'rf': 5593.197879858657, 'rf_mean': 6628.75421298677, 'ar': 11542.949391236882}\n",
      "-------------------------------\n"
     ]
    },
    {
     "name": "stderr",
     "output_type": "stream",
     "text": [
      "/home/denis/anaconda3/lib/python3.6/site-packages/ipykernel_launcher.py:208: RuntimeWarning: invalid value encountered in log1p\n"
     ]
    },
    {
     "name": "stdout",
     "output_type": "stream",
     "text": [
      "391 Best model is median_all\n",
      "loss: 3235.7419106452235\n",
      "val score: 3127.4160426042827 + 1598.7445238356183\n",
      "{'mean_all': 3318.126679564316, 'mean_3': 3258.0374799063006, 'median_all': 3235.7419106452235, 'median_3': 3339.6041509896227, 'rf': 3245.8568853577867, 'rf_mean': 6616.682748089828, 'ar': 4835.465331874192}\n",
      "-------------------------------\n"
     ]
    },
    {
     "name": "stderr",
     "output_type": "stream",
     "text": [
      "/home/denis/anaconda3/lib/python3.6/site-packages/ipykernel_launcher.py:208: RuntimeWarning: invalid value encountered in log1p\n"
     ]
    },
    {
     "name": "stdout",
     "output_type": "stream",
     "text": [
      "394 Best model is ar\n",
      "loss: 5890.558139176296\n",
      "val score: 3137.111278030851 + 1604.2789666860494\n",
      "{'mean_all': 6792.703318428891, 'mean_3': 7659.511988556107, 'median_all': 6736.1560008618835, 'median_3': 7612.314156431804, 'rf': 6744.918480212598, 'rf_mean': 9439.153097125774, 'ar': 5890.558139176296}\n",
      "-------------------------------\n"
     ]
    },
    {
     "name": "stderr",
     "output_type": "stream",
     "text": [
      "/home/denis/anaconda3/lib/python3.6/site-packages/ipykernel_launcher.py:208: RuntimeWarning: invalid value encountered in log1p\n"
     ]
    },
    {
     "name": "stdout",
     "output_type": "stream",
     "text": [
      "395 Best model is mean_3\n",
      "loss: 1642.103325749245\n",
      "val score: 3131.8839774983976 + 1603.9013512758745\n",
      "{'mean_all': 1693.1099128428682, 'mean_3': 1642.103325749245, 'median_all': 1708.3715024990759, 'median_3': 1885.315719267795, 'rf': 1711.0553975218168, 'rf_mean': 3957.906104926194, 'ar': 4064.7286904754023}\n",
      "-------------------------------\n"
     ]
    },
    {
     "name": "stderr",
     "output_type": "stream",
     "text": [
      "/home/denis/anaconda3/lib/python3.6/site-packages/ipykernel_launcher.py:208: RuntimeWarning: invalid value encountered in log1p\n"
     ]
    },
    {
     "name": "stdout",
     "output_type": "stream",
     "text": [
      "396 Best model is median_all\n",
      "loss: 3186.582141378102\n",
      "val score: 3132.074563435261 + 1601.1079039074514\n",
      "{'mean_all': 3495.9811831396432, 'mean_3': 4602.26960715158, 'median_all': 3186.582141378102, 'median_3': 3839.794845656398, 'rf': 6335.637603134656, 'rf_mean': 6717.830530065159, 'ar': 4513.857992037497}\n",
      "-------------------------------\n"
     ]
    },
    {
     "name": "stderr",
     "output_type": "stream",
     "text": [
      "/home/denis/anaconda3/lib/python3.6/site-packages/ipykernel_launcher.py:208: RuntimeWarning: invalid value encountered in log1p\n"
     ]
    },
    {
     "name": "stdout",
     "output_type": "stream",
     "text": [
      "399 Best model is mean_all\n",
      "loss: 4273.149652037262\n",
      "val score: 3136.0366297151286 + 1599.7345510811365\n",
      "{'mean_all': 4273.149652037262, 'mean_3': 4645.006664616015, 'median_all': 4414.7954475545985, 'median_3': 4900.79975392187, 'rf': 4447.55459858505, 'rf_mean': 4624.898789949408, 'ar': 6939.559339462034}\n",
      "-------------------------------\n"
     ]
    },
    {
     "name": "stderr",
     "output_type": "stream",
     "text": [
      "/home/denis/anaconda3/lib/python3.6/site-packages/ipykernel_launcher.py:208: RuntimeWarning: invalid value encountered in log1p\n"
     ]
    },
    {
     "name": "stdout",
     "output_type": "stream",
     "text": [
      "401 Best model is median_all\n",
      "loss: 4330.79045609479\n",
      "val score: 3140.1707260001795 + 1598.504794494197\n",
      "{'mean_all': 4642.479634479386, 'mean_3': 4948.408382992866, 'median_all': 4330.79045609479, 'median_3': 4770.167180652492, 'rf': 4701.704268787535, 'rf_mean': 5699.32532422012, 'ar': 5403.825981873604}\n",
      "-------------------------------\n"
     ]
    },
    {
     "name": "stderr",
     "output_type": "stream",
     "text": [
      "/home/denis/anaconda3/lib/python3.6/site-packages/ipykernel_launcher.py:208: RuntimeWarning: invalid value encountered in log1p\n"
     ]
    },
    {
     "name": "stdout",
     "output_type": "stream",
     "text": [
      "403 Best model is median_all\n",
      "loss: 1810.347951062211\n",
      "val score: 3135.5851302245314 + 1597.6493623241645\n",
      "{'mean_all': 1845.0453328423503, 'mean_3': 2018.0078233058944, 'median_all': 1810.347951062211, 'median_3': 1938.3084336767351, 'rf': 1810.6498870759308, 'rf_mean': 1821.010174102327, 'ar': 3316.973994052014}\n",
      "-------------------------------\n"
     ]
    },
    {
     "name": "stderr",
     "output_type": "stream",
     "text": [
      "/home/denis/anaconda3/lib/python3.6/site-packages/ipykernel_launcher.py:208: RuntimeWarning: invalid value encountered in log1p\n"
     ]
    },
    {
     "name": "stdout",
     "output_type": "stream",
     "text": [
      "404 Best model is mean_3\n",
      "loss: 1479.7716748173946\n",
      "val score: 3129.8950496217576 + 1597.8427328844157\n",
      "{'mean_all': 2927.804118116065, 'mean_3': 1479.7716748173946, 'median_all': 2211.991272534515, 'median_3': 1540.5585767226569, 'rf': 2552.5375437201533, 'rf_mean': 3192.9986711344723, 'ar': 2787.7331026712536}\n",
      "-------------------------------\n"
     ]
    },
    {
     "name": "stderr",
     "output_type": "stream",
     "text": [
      "/home/denis/anaconda3/lib/python3.6/site-packages/ipykernel_launcher.py:208: RuntimeWarning: invalid value encountered in log1p\n"
     ]
    },
    {
     "name": "stdout",
     "output_type": "stream",
     "text": [
      "405 Best model is mean_all\n",
      "loss: 3618.356933923993\n",
      "val score: 3131.5678642940256 + 1595.3595861082938\n",
      "{'mean_all': 3618.356933923993, 'mean_3': 3842.8295665235046, 'median_all': 3692.705766387383, 'median_3': 3824.0512567767373, 'rf': 3760.8674223755543, 'rf_mean': 5244.77571394512, 'ar': 7172.495766358774}\n",
      "-------------------------------\n"
     ]
    },
    {
     "name": "stderr",
     "output_type": "stream",
     "text": [
      "/home/denis/anaconda3/lib/python3.6/site-packages/ipykernel_launcher.py:208: RuntimeWarning: invalid value encountered in log1p\n"
     ]
    },
    {
     "name": "stdout",
     "output_type": "stream",
     "text": [
      "406 Best model is rf\n",
      "loss: 4197.240187826704\n",
      "val score: 3135.2049712002804 + 1593.8470284311418\n",
      "{'mean_all': 4539.140195215295, 'mean_3': 5172.039735979445, 'median_all': 4629.773190396031, 'median_3': 5212.191016213343, 'rf': 4197.240187826704, 'rf_mean': 6324.281872979604, 'ar': 8682.561702631567}\n",
      "-------------------------------\n"
     ]
    },
    {
     "name": "stderr",
     "output_type": "stream",
     "text": [
      "/home/denis/anaconda3/lib/python3.6/site-packages/ipykernel_launcher.py:208: RuntimeWarning: invalid value encountered in log1p\n"
     ]
    },
    {
     "name": "stdout",
     "output_type": "stream",
     "text": [
      "407 Best model is rf\n",
      "loss: 4729.859262076835\n",
      "val score: 3140.6289653869353 + 1593.8405457519557\n",
      "{'mean_all': 5251.787661479904, 'mean_3': 5026.730243257441, 'median_all': 4869.912514263979, 'median_3': 5097.755800684671, 'rf': 4729.859262076835, 'rf_mean': 6612.201784899208, 'ar': 5593.444077196101}\n",
      "-------------------------------\n"
     ]
    },
    {
     "name": "stderr",
     "output_type": "stream",
     "text": [
      "/home/denis/anaconda3/lib/python3.6/site-packages/ipykernel_launcher.py:208: RuntimeWarning: invalid value encountered in log1p\n"
     ]
    },
    {
     "name": "stdout",
     "output_type": "stream",
     "text": [
      "408 Best model is mean_3\n",
      "loss: 3863.5987601315264\n",
      "val score: 3143.0797104538665 + 1591.6916201012132\n",
      "{'mean_all': 4137.96328894087, 'mean_3': 3863.5987601315264, 'median_all': 4289.693593314763, 'median_3': 3994.2823632898403, 'rf': 4448.174754434834, 'rf_mean': 6939.486256926672, 'ar': 7225.669576522738}\n",
      "-------------------------------\n"
     ]
    },
    {
     "name": "stderr",
     "output_type": "stream",
     "text": [
      "/home/denis/anaconda3/lib/python3.6/site-packages/ipykernel_launcher.py:208: RuntimeWarning: invalid value encountered in log1p\n"
     ]
    },
    {
     "name": "stdout",
     "output_type": "stream",
     "text": [
      "413 Best model is median_3\n",
      "loss: 2756.499665253292\n",
      "val score: 3141.773696787648 + 1589.1589993196878\n",
      "{'mean_all': 4737.440303602026, 'mean_3': 3025.202973400921, 'median_all': 3984.4389273227703, 'median_3': 2756.499665253292, 'rf': 5249.09804359146, 'rf_mean': 4188.060911190007, 'ar': 3737.5638924696373}\n",
      "-------------------------------\n"
     ]
    },
    {
     "name": "stderr",
     "output_type": "stream",
     "text": [
      "/home/denis/anaconda3/lib/python3.6/site-packages/ipykernel_launcher.py:208: RuntimeWarning: invalid value encountered in log1p\n"
     ]
    },
    {
     "name": "stdout",
     "output_type": "stream",
     "text": [
      "414 Best model is rf\n",
      "loss: 4010.689470871192\n",
      "val score: 3144.6993391246297 + 1587.2796803247384\n",
      "{'mean_all': 4165.5766493891115, 'mean_3': 5091.681755545616, 'median_all': 4305.184393372528, 'median_3': 5071.7721615637165, 'rf': 4010.689470871192, 'rf_mean': 6925.066063783839, 'ar': 6698.552836695648}\n",
      "-------------------------------\n"
     ]
    },
    {
     "name": "stderr",
     "output_type": "stream",
     "text": [
      "/home/denis/anaconda3/lib/python3.6/site-packages/ipykernel_launcher.py:208: RuntimeWarning: invalid value encountered in log1p\n"
     ]
    },
    {
     "name": "stdout",
     "output_type": "stream",
     "text": [
      "415 Best model is mean_all\n",
      "loss: 3078.8746114086734\n",
      "val score: 3144.4784507765894 + 1584.6187938209305\n",
      "{'mean_all': 3078.8746114086734, 'mean_3': 3256.218863416064, 'median_all': 3088.072856788621, 'median_3': 3335.5875656545163, 'rf': 3084.9169315389645, 'rf_mean': 4390.6690326079015, 'ar': 4394.058436045455}\n",
      "-------------------------------\n"
     ]
    },
    {
     "name": "stderr",
     "output_type": "stream",
     "text": [
      "/home/denis/anaconda3/lib/python3.6/site-packages/ipykernel_launcher.py:208: RuntimeWarning: invalid value encountered in log1p\n"
     ]
    },
    {
     "name": "stdout",
     "output_type": "stream",
     "text": [
      "418 Best model is mean_3\n",
      "loss: 3471.2818416861087\n",
      "val score: 3145.5714387060534 + 1582.0792236904263\n",
      "{'mean_all': 3859.151280928705, 'mean_3': 3471.2818416861087, 'median_all': 3844.319252512563, 'median_3': 3522.5934359296484, 'rf': 3747.605213567839, 'rf_mean': 5422.371875757711, 'ar': 4422.762708399384}\n",
      "-------------------------------\n"
     ]
    },
    {
     "name": "stderr",
     "output_type": "stream",
     "text": [
      "/home/denis/anaconda3/lib/python3.6/site-packages/ipykernel_launcher.py:208: RuntimeWarning: invalid value encountered in log1p\n"
     ]
    },
    {
     "name": "stdout",
     "output_type": "stream",
     "text": [
      "419 Best model is mean_all\n",
      "loss: 1861.4649113628911\n",
      "val score: 3141.2910836149094 + 1581.173466639562\n",
      "{'mean_all': 1861.4649113628911, 'mean_3': 2739.728886194942, 'median_all': 2039.9732023224653, 'median_3': 2401.183564091112, 'rf': 2259.044216167932, 'rf_mean': 5195.485414927238, 'ar': 5574.783041510617}\n",
      "-------------------------------\n"
     ]
    }
   ],
   "source": [
    "import pandas as pd\n",
    "from datetime import datetime, timedelta\n",
    "import pandas as pd \n",
    "import numpy as np \n",
    "from datetime import date, timedelta\n",
    "from sklearn.metrics import mean_absolute_error\n",
    "from sklearn.preprocessing import OneHotEncoder\n",
    "\n",
    "from sklearn.ensemble import RandomForestRegressor\n",
    "\n",
    "from sklearn.model_selection import cross_val_predict\n",
    "import statsmodels.api as sm\n",
    "\n",
    "\n",
    "train = pd.read_csv('train.csv.zip')\n",
    "df = pd.read_csv('train.csv.zip', index_col = 'DATE')\n",
    "train['DATE'] = pd.to_datetime(train['DATE'])\n",
    "train = train[train.DATE>=pd.datetime(2016, 3, 15)].reset_index(drop=True)\n",
    "\n",
    "ATM_IDs = train.ATM_ID.unique()\n",
    "def replace_week_ago(trainnine):\n",
    "    fist_q =  trainnine.CLIENT_OUT.quantile(0.9)\n",
    "    last_q = trainnine.CLIENT_OUT.quantile(0.1)\n",
    "    mask = (trainnine.CLIENT_OUT > fist_q) | (trainnine.CLIENT_OUT < last_q) \n",
    "    trainnine['mask'] = mask\n",
    "    trainnine['shifted'] = trainnine.CLIENT_OUT.shift(7)\n",
    "    trainnine.loc[mask,['CLIENT_OUT','shifted', ]] = trainnine.loc[mask,['shifted', 'CLIENT_OUT']].values\n",
    "    trainnine = trainnine.iloc[7:]\n",
    "    return trainnine[['DATE', \"ATM_ID\", 'CLIENT_OUT']]\n",
    "\n",
    "\n",
    "def apply_replace(train):\n",
    "    train2 = train.iloc[:0].copy()\n",
    "    ATM_IDs = train.ATM_ID.unique()\n",
    "    for ATM in ATM_IDs:\n",
    "        trainnine = train[(train.ATM_ID==ATM)].copy()\n",
    "        trainnine = replace_week_ago(trainnine)\n",
    "    #     print(trainnine.head())\n",
    "        train2 = pd.concat([train2, trainnine])\n",
    "    train = train2.copy()\n",
    "    del train2\n",
    "    return train\n",
    "train = apply_replace(train)\n",
    "train = apply_replace(train)\n",
    "\n",
    "train.columns = ['Timestamp','ForecastId','Value']\n",
    "\n",
    "def time_preprocess(X):\n",
    "    X['Timestamp'] = pd.to_datetime(X['Timestamp'])\n",
    "    X['year'] = X['Timestamp'].dt.year\n",
    "    X['month'] = X['Timestamp'].dt.month \n",
    "    X['day'] = X['Timestamp'].dt.day\n",
    "    X['week_day'] = X['Timestamp'].dt.weekday\n",
    "    X['hour'] = X['Timestamp'].dt.hour\n",
    "    X['minute'] = X['Timestamp'].dt.minute\n",
    "    X['minute'] = X['minute'] // 15 * 15\n",
    "    \n",
    "    return X\n",
    "\n",
    "def feature_preprocessing(train, test, cat_cols, cat_type='ohe'):\n",
    "    \n",
    "    X_train, X_test = train[cat_cols].copy(), test[cat_cols].copy()\n",
    "\n",
    "    if (cat_type=='mean_enc'):\n",
    "        for j in ['mean', 'max', 'min', 'median']:\n",
    "            for i in cat_cols:\n",
    "                X_train[i], X_test[i] = MeanEncodingTransforming(X_train[i], train[['Value']], X_test[i], j)\n",
    "                X_train[i].columns = [i+'_'+j]\n",
    "                X_test[i].columns = [i+'_'+j]\n",
    "                \n",
    "    if (cat_type=='ohe'):\n",
    "        ohe = OneHotEncoder(handle_unknown='ignore', sparse=False)\n",
    "        X_train = ohe.fit_transform(train[cat_cols])\n",
    "        X_test = ohe.transform(test[cat_cols])\n",
    "        X_train = pd.DataFrame(X_train)\n",
    "        X_test = pd.DataFrame(X_test)\n",
    "    \n",
    "    return X_train, X_test \n",
    "\n",
    "def train_groupby(train, test, window, how):\n",
    "    mean_values = train[['Value', 'week_day']][-window:].groupby(['week_day']).agg(how).reset_index()\n",
    "    mean_values.columns = ['week_day', 'pred']\n",
    "    test = pd.merge(test, mean_values, how='left', on = ['week_day'])  \n",
    "    \n",
    "    return test['pred'].fillna(np.mean(train['Value']))\n",
    "\n",
    "def train_mean(train, window):\n",
    "    mean_value = np.mean(train['Value'].reset_index(drop=True)[-window:])\n",
    "    return mean_value\n",
    "\n",
    "def calc_score(pred, fact, index_mult):\n",
    "    return (np.sum(abs(pred-fact))*10000 / np.sum(fact))\n",
    "\n",
    "\n",
    "def train_rf(X_train, y_train, X_valid):\n",
    "\n",
    "    rf = RandomForestRegressor(bootstrap=True, criterion='mae', max_depth=8,\n",
    "                               max_features='auto', max_leaf_nodes=None,\n",
    "                               min_impurity_decrease=0.4, min_impurity_split=None,\n",
    "                               min_samples_leaf=3, min_samples_split=4,\n",
    "                               min_weight_fraction_leaf=0.05, n_estimators=10, n_jobs=-1,\n",
    "                               oob_score=False, random_state=42, verbose=0, warm_start=False)\n",
    "    \n",
    "    rf.fit(X_train, y_train, sample_weight=np.linspace(0.6, 1, X_train.shape[0]) )\n",
    "    y_hat = rf.predict(X_valid)\n",
    "    \n",
    "    return y_hat\n",
    "\n",
    "def check_id(y):\n",
    "    # split dataset\n",
    "    X = y.values\n",
    "    train, test = X[390:len(X)-36], X[len(X)-36:]\n",
    "    \n",
    "    # train autoregression\n",
    "    model = sm.tsa.AR(train)\n",
    "    model_fit = model.fit()\n",
    "    window = model_fit.k_ar\n",
    "    coef = model_fit.params\n",
    "    \n",
    "    # walk forward over time steps in test\n",
    "    history = train[len(train)-window:]\n",
    "    history = [history[i] for i in range(len(history))]\n",
    "    predictions = []\n",
    "    for t in range(len(test)):\n",
    "        length = len(history)\n",
    "        lag = [history[i] for i in range(length-window,length)]\n",
    "        yhat = coef[0]\n",
    "        for d in range(window):\n",
    "            yhat += coef[d+1] * lag[window-d-1]\n",
    "        obs = test[t]\n",
    "        predictions.append(yhat)\n",
    "        history.append(obs)\n",
    "    error = calc_score(test, predictions, 0)\n",
    "    return error\n",
    "\n",
    "def pred(y):\n",
    "    model = sm.tsa.AR(y)\n",
    "    model_fit = model.fit()\n",
    "    predictions = model_fit.predict(start = pd.to_datetime('2017-08-15') ,end=pd.to_datetime('2017-09-17'))\n",
    "    return predictions[1:].reset_index(drop=True)\n",
    "\n",
    "\n",
    "# train.columns = ['Timestamp','ForecastId','Value']\n",
    "def time_preprocess(X):\n",
    "    X['Timestamp'] = pd.to_datetime(X['Timestamp'])\n",
    "    X['year'] = X['Timestamp'].dt.year\n",
    "    X['month'] = X['Timestamp'].dt.month \n",
    "    X['day'] = X['Timestamp'].dt.day\n",
    "    X['week_day'] = X['Timestamp'].dt.weekday\n",
    "    X['hour'] = X['Timestamp'].dt.hour\n",
    "    X['minute'] = X['Timestamp'].dt.minute\n",
    "    X['minute'] = X['minute'] // 15 * 15\n",
    "    \n",
    "    return X\n",
    "\n",
    "# val = train[['ForecastId','Value']].groupby('ForecastId').diff()\n",
    "# val['Value'] = val['Value'].fillna(0)\n",
    "# val['Value'] = (val['Value']==0) * 1\n",
    "# val.columns = ['diff']\n",
    "# train = pd.concat([train, val], axis=1)\n",
    "\n",
    "# a = train[['ForecastId','diff']].groupby('ForecastId').apply(pd.rolling_sum, 7, min_periods=1)\n",
    "# a.columns = ['ForecastId', 'to_drop']\n",
    "# a = a['to_drop']\n",
    "# train = pd.concat([train, a], axis=1)\n",
    "\n",
    "# print(train.shape)\n",
    "# train = train[train['to_drop']<=3].reset_index(drop=True)\n",
    "# train = train[['Timestamp','ForecastId','Value']]\n",
    "train = time_preprocess(train)\n",
    "print(train.shape)\n",
    "\n",
    "train = train[train.year>=2016].reset_index(drop=True)\n",
    "train['year_month_weekday'] = train['year'].astype('str') + '_' + train['month'].astype('str') + '_' + train['week_day'].astype('str') \n",
    "features = train[['ForecastId', 'year_month_weekday', 'Value']].groupby(['ForecastId', 'year_month_weekday']).agg('mean').reset_index()\n",
    "features = features.pivot(index='ForecastId', columns='year_month_weekday', values='Value')\n",
    "features = features.fillna(0)\n",
    "\n",
    "\n",
    "losses = []\n",
    "iids = []\n",
    "\n",
    "sub = pd.DataFrame({})\n",
    "cat_cols = ['week_day','hour','minute','month']\n",
    "\n",
    "pred_dates  = ['2017-08-16', '2017-08-17', '2017-08-18', '2017-08-19',\n",
    "               '2017-08-20', '2017-08-21', '2017-08-22', '2017-08-23',\n",
    "               '2017-08-24', '2017-08-25', '2017-08-26', '2017-08-27',\n",
    "               '2017-08-28', '2017-08-29', '2017-08-30', '2017-08-31',\n",
    "               '2017-09-01', '2017-09-02', '2017-09-03', '2017-09-04',\n",
    "               '2017-09-05', '2017-09-06', '2017-09-07', '2017-09-08',\n",
    "               '2017-09-09', '2017-09-10', '2017-09-11', '2017-09-12',\n",
    "               '2017-09-13', '2017-09-14', '2017-09-15', '2017-09-16',\n",
    "               '2017-09-17']\n",
    "\n",
    "index_mult = 0\n",
    "\n",
    "for i in ATM_IDs:\n",
    "    \n",
    "    # prepare train and test Dfs \n",
    "    days_in_train = 99999\n",
    "    mask = ((train.Timestamp > pd.datetime(2017, 6, 10)) | (train.Timestamp < pd.datetime(2017, 5, 1))) & (train['ForecastId']==i)\n",
    "    \n",
    "    X_train = train[mask].reset_index(drop=True)[-days_in_train:].reset_index(drop=True)    \n",
    "    \n",
    "    X_train['Value'] = abs(X_train['Value'])\n",
    "    X_train['Value_log'] = np.log1p(X_train['Value'])\n",
    "    df['Value_log'] = np.log1p(df['CLIENT_OUT'])\n",
    "    \n",
    "    \n",
    "    # prepare 'train_v' and 'valid_v' data frames - for validation \n",
    "    X_test = pd.DataFrame({'Timestamp':pred_dates, 'ForecastId':i})\n",
    "    X_test = time_preprocess(X_test)\n",
    "    \n",
    "    obs_in_test = 35\n",
    "    X_train_v = X_train[:-obs_in_test].reset_index(drop=True)\n",
    "    X_valid_v = X_train[-obs_in_test:].reset_index(drop=True)\n",
    "    \n",
    "    # prepare features \n",
    "        # for train\n",
    "    X_train_ohe, X_test_ohe = feature_preprocessing(X_train, X_test, cat_cols, cat_type='ohe')\n",
    "  \n",
    "        # for validation \n",
    "    X_train_v_ohe, X_valid_v_ohe = feature_preprocessing(X_train_v, X_valid_v, cat_cols, cat_type='ohe')\n",
    "    \n",
    "        # group by mean\n",
    "    y_hat_grby_mean = train_groupby(X_train_v, X_valid_v, window=999999, how='mean')\n",
    "    y_hat_grby3_mean = train_groupby(X_train_v, X_valid_v, window=obs_in_test*3, how='mean')\n",
    "    \n",
    "        # group by median\n",
    "    y_hat_grby_median = train_groupby(X_train_v, X_valid_v, window=999999, how='median')\n",
    "    y_hat_grby3_median = train_groupby(X_train_v, X_valid_v, window=obs_in_test*3, how='median')\n",
    "    \n",
    "        # RandomForest \n",
    "    y_rf = train_rf(X_train_v_ohe, X_train_v['Value'], X_valid_v_ohe)\n",
    "    y_rf_log = np.exp(train_rf(X_train_v_ohe, X_train_v['Value_log'], X_valid_v_ohe)) - 1\n",
    "    \n",
    "    \n",
    "    \n",
    "    score_grby_mean = calc_score(y_hat_grby_mean, X_valid_v['Value'], 0)\n",
    "    score_grby3_mean = calc_score(y_hat_grby3_mean, X_valid_v['Value'], 0)\n",
    "    score_grby_median = calc_score(y_hat_grby_median, X_valid_v['Value'], 0)\n",
    "    score_grby3_median = calc_score(y_hat_grby3_median, X_valid_v['Value'], 0)\n",
    "    \n",
    "    score_rf = calc_score(y_rf, X_valid_v['Value'], index_mult)\n",
    "    score_rf_log = calc_score(y_rf_log, X_valid_v['Value'], index_mult)\n",
    "    \n",
    "    score_ar = check_id(df[df['ATM_ID']==i]['CLIENT_OUT'])\n",
    "    \n",
    "    \n",
    "    y_hats     = [y_hat_grby_mean, y_hat_grby3_mean, \n",
    "                  y_hat_grby_median, y_hat_grby3_median, \n",
    "                  y_rf, y_rf_log, \n",
    "                 ]\n",
    "    \n",
    "    all_scores = [score_grby_mean, score_grby3_mean, \n",
    "                  score_grby_median, score_grby3_median, \n",
    "                  score_rf, \n",
    "                  score_rf_log,\n",
    "                  score_ar,\n",
    "                 ]\n",
    "    \n",
    "    best_score = np.min(all_scores)\n",
    "    \n",
    "    models_names = ['mean_all', 'mean_3', \n",
    "                    'median_all', 'median_3', \n",
    "                    'rf', 'rf_mean', 'ar', 'ar_log',\n",
    "                   ]\n",
    "    \n",
    "    losses.append(best_score)\n",
    "    \n",
    "    temp_df = pd.DataFrame({'Timestamp':pred_dates, 'ForecastId':i})\n",
    "    temp_df = time_preprocess(temp_df)\n",
    "    \n",
    "    if (score_grby_mean==best_score):\n",
    "        y_hat = train_groupby(X_train, X_test, window=999999, how='mean')\n",
    "    \n",
    "    if (score_grby3_mean==best_score):\n",
    "        y_hat = train_groupby(X_train, X_test, window=obs_in_test*3, how='mean')\n",
    "        \n",
    "    if (score_grby_median==best_score):\n",
    "        y_hat = train_groupby(X_train, X_test, window=999999, how='median')\n",
    "    \n",
    "    if (score_grby3_median==best_score):\n",
    "        y_hat = train_groupby(X_train, X_test, window=obs_in_test*3, how='median')\n",
    "\n",
    "    if (score_rf==best_score):\n",
    "        y_hat = train_rf(X_train_ohe, X_train['Value'], X_test_ohe)\n",
    "        \n",
    "    if (score_rf_log==best_score):\n",
    "        y_hat = np.exp(train_rf(X_train_ohe, X_train['Value_log'], X_test_ohe)) -1\n",
    "    \n",
    "    if (score_ar==best_score):\n",
    "        y_hat = pred(df[df['ATM_ID'] == i]['CLIENT_OUT'])\n",
    "    \n",
    "    if (best_score > 5000):\n",
    "        y_hat = y_hat.mean()\n",
    "    \n",
    "    X_test['Value'] = y_hat\n",
    "    X_test['Score'] = best_score\n",
    "    sub = pd.concat([sub,X_test],axis=0)\n",
    "    \n",
    "    \n",
    "\n",
    "    \n",
    "    print(i, 'Best model is', models_names[np.argmin(all_scores)])\n",
    "    print('loss:', np.min(all_scores) )\n",
    "    print('val score:', np.mean(losses),'+',np.std(losses) )\n",
    "    print(dict(zip(models_names, all_scores)))\n",
    "    print('-------------------------------')\n",
    "sub = sub[['Timestamp', 'ForecastId', 'Value']]\n",
    "sub.columns = ['DATE', 'ATM_ID', 'CLIENT_OUT']\n",
    "sub.to_csv('submission.csv', index=False)"
   ]
  },
  {
   "cell_type": "code",
   "execution_count": 37,
   "metadata": {
    "collapsed": true
   },
   "outputs": [],
   "source": [
    "sub = sub[['Timestamp', 'ForecastId', 'Value']]\n",
    "sub.columns = ['DATE', 'ATM_ID', 'CLIENT_OUT']\n",
    "sub.to_csv('submission.csv', index=False)"
   ]
  },
  {
   "cell_type": "code",
   "execution_count": null,
   "metadata": {
    "collapsed": true
   },
   "outputs": [],
   "source": []
  }
 ],
 "metadata": {
  "kernelspec": {
   "display_name": "Python 3",
   "language": "python",
   "name": "python3"
  },
  "language_info": {
   "codemirror_mode": {
    "name": "ipython",
    "version": 3
   },
   "file_extension": ".py",
   "mimetype": "text/x-python",
   "name": "python",
   "nbconvert_exporter": "python",
   "pygments_lexer": "ipython3",
   "version": "3.6.4"
  }
 },
 "nbformat": 4,
 "nbformat_minor": 2
}
